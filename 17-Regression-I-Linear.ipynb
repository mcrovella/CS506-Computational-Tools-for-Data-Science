{
 "cells": [
  {
   "cell_type": "code",
   "execution_count": 1,
   "metadata": {
    "hide_input": true,
    "internals": {},
    "slideshow": {
     "slide_type": "skip"
    },
    "tags": [
     "hide-cell"
    ]
   },
   "outputs": [],
   "source": [
    "import numpy as np\n",
    "import scipy as sp\n",
    "import matplotlib.pyplot as plt\n",
    "import pandas as pd\n",
    "import seaborn as sns\n",
    "import matplotlib as mp\n",
    "import sklearn\n",
    "from IPython.display import Image, HTML\n",
    "\n",
    "import laUtilities as ut\n",
    "\n",
    "%matplotlib inline\n",
    "\n",
    "import statsmodels.api as sm\n",
    "\n",
    "def centerAxes(ax):\n",
    "    ax.spines['left'].set_position('zero')\n",
    "    ax.spines['right'].set_color('none')\n",
    "    ax.spines['bottom'].set_position('zero')\n",
    "    ax.spines['top'].set_color('none')\n",
    "    ax.xaxis.set_ticks_position('bottom')\n",
    "    ax.yaxis.set_ticks_position('left')\n",
    "    bounds = np.array([ax.axes.get_xlim(), ax.axes.get_ylim()])\n",
    "    ax.plot(bounds[0][0],bounds[1][0],'')\n",
    "    ax.plot(bounds[0][1],bounds[1][1],'')"
   ]
  },
  {
   "cell_type": "markdown",
   "metadata": {
    "hide_input": true,
    "internals": {
     "slide_type": "subslide"
    },
    "slideshow": {
     "slide_type": "slide"
    }
   },
   "source": [
    "# Linear Regression"
   ]
  },
  {
   "cell_type": "markdown",
   "metadata": {
    "slideshow": {
     "slide_type": "fragment"
    },
    "tags": [
     "hide-input"
    ]
   },
   "source": [
    "<img src=\"figs/Sir_Francis_Galton_by_Charles_Wellington_Furse.jpg\" alt=\"Figure\" width=\"45%\">"
   ]
  },
  {
   "cell_type": "code",
   "execution_count": 2,
   "metadata": {
    "hide_input": true,
    "tags": [
     "hide-input"
    ]
   },
   "outputs": [
    {
     "data": {
      "text/html": [
       "<a href=\"https://commons.wikimedia.org/wiki/File:Sir_Francis_Galton_by_Charles_Wellington_Furse.jpg#/media/File:Sir_Francis_Galton_by_Charles_Wellington_Furse.jpg\">Sir Francis Galton by Charles Wellington Furse</a> by Charles Wellington Furse (died 1904) - <a href=\"//en.wikipedia.org/wiki/National_Portrait_Gallery,_London\" class=\"extiw\" title=\"en:National Portrait Gallery, London\">National Portrait Gallery</a>: <a rel=\"nofollow\" class=\"external text\" href=\"http://www.npg.org.uk/collections/search/portrait.php?search=ap&amp;npgno=3916&amp;eDate=&amp;lDate=\">NPG 3916</a>"
      ],
      "text/plain": [
       "<IPython.core.display.HTML object>"
      ]
     },
     "execution_count": 2,
     "metadata": {},
     "output_type": "execute_result"
    }
   ],
   "source": [
    "HTML(u'<a href=\"https://commons.wikimedia.org/wiki/File:Sir_Francis_Galton_by_Charles_Wellington_Furse.jpg#/media/File:Sir_Francis_Galton_by_Charles_Wellington_Furse.jpg\">Sir Francis Galton by Charles Wellington Furse</a> by Charles Wellington Furse (died 1904) - <a href=\"//en.wikipedia.org/wiki/National_Portrait_Gallery,_London\" class=\"extiw\" title=\"en:National Portrait Gallery, London\">National Portrait Gallery</a>: <a rel=\"nofollow\" class=\"external text\" href=\"http://www.npg.org.uk/collections/search/portrait.php?search=ap&amp;npgno=3916&amp;eDate=&amp;lDate=\">NPG 3916</a>')"
   ]
  },
  {
   "cell_type": "markdown",
   "metadata": {
    "slideshow": {
     "slide_type": "slide"
    }
   },
   "source": [
    "<img src=\"figs/galton-title.png\" alt=\"Figure\" width=\"55%\">"
   ]
  },
  {
   "cell_type": "markdown",
   "metadata": {},
   "source": [
    "In 1886 Francis Galton published his observations about how random factors affect outliers.\n",
    "\n",
    "This notion has come to be called \"regression to the mean\" because unusually large or small phenomena, after the influence of random events, become closer to their mean values (less extreme)."
   ]
  },
  {
   "cell_type": "markdown",
   "metadata": {
    "slideshow": {
     "slide_type": "fragment"
    }
   },
   "source": [
    "<img src=\"figs/galton-regression.png\" alt=\"Figure\" width=\"55%\">"
   ]
  },
  {
   "cell_type": "markdown",
   "metadata": {},
   "source": [
    "Galton fit a straight line to this effect, and the fitting of lines or curves to data has come to be called regression as well."
   ]
  },
  {
   "cell_type": "markdown",
   "metadata": {
    "slideshow": {
     "slide_type": "fragment"
    }
   },
   "source": [
    "The most common form of machine learning is __regression__, which means constructing an equation that describes the relationships among variables.\n",
    "\n",
    "It is a form of supervised learning: whereas __classification__ deals with predicting categorical features (labels or classes), __regression__ deals with predicting continuous features (real values)."
   ]
  },
  {
   "cell_type": "markdown",
   "metadata": {
    "slideshow": {
     "slide_type": "slide"
    }
   },
   "source": [
    "For example, we may look at these points and decide to model them using a line."
   ]
  },
  {
   "cell_type": "code",
   "execution_count": 3,
   "metadata": {
    "hide_input": true,
    "tags": [
     "hide-input"
    ]
   },
   "outputs": [
    {
     "data": {
      "image/png": "[encoded data removed]",
      "text/plain": [
       "<Figure size 504x504 with 1 Axes>"
      ]
     },
     "metadata": {
      "needs_background": "light"
     },
     "output_type": "display_data"
    }
   ],
   "source": [
    "ax = plt.figure(figsize = (7, 7)).add_subplot()\n",
    "centerAxes(ax)\n",
    "line = np.array([1, 0.5])\n",
    "xlin = -10.0 + 20.0 * np.random.random(100)\n",
    "ylin = line[0] + (line[1] * xlin) + np.random.randn(100)\n",
    "ax.plot(xlin, ylin, 'ro', markersize = 4);"
   ]
  },
  {
   "cell_type": "markdown",
   "metadata": {
    "slideshow": {
     "slide_type": "fragment"
    }
   },
   "source": [
    "We may look at these points and decide to model them using a quadratic function."
   ]
  },
  {
   "cell_type": "code",
   "execution_count": 4,
   "metadata": {
    "hide_input": true,
    "tags": [
     "hide-input"
    ]
   },
   "outputs": [
    {
     "data": {
      "image/png": "[encoded data removed]",
      "text/plain": [
       "<Figure size 504x504 with 1 Axes>"
      ]
     },
     "metadata": {
      "needs_background": "light"
     },
     "output_type": "display_data"
    }
   ],
   "source": [
    "ax = plt.figure(figsize = (7, 7)).add_subplot()\n",
    "centerAxes(ax)\n",
    "quad = np.array([1, 3, 0.5])\n",
    "xquad = -10.0 + 20.0 * np.random.random(100)\n",
    "yquad = quad[0] + (quad[1] * xquad) + (quad[2] * xquad * xquad) + np.random.randn(100)\n",
    "ax.plot(xquad, yquad, 'ro', markersize = 4);"
   ]
  },
  {
   "cell_type": "markdown",
   "metadata": {
    "slideshow": {
     "slide_type": "fragment"
    }
   },
   "source": [
    "And we may look at these points and decide to model them using a logarithmic function."
   ]
  },
  {
   "cell_type": "code",
   "execution_count": 5,
   "metadata": {
    "hide_input": true,
    "tags": [
     "hide-input"
    ]
   },
   "outputs": [
    {
     "data": {
      "image/png": "[encoded data removed]",
      "text/plain": [
       "<Figure size 504x504 with 1 Axes>"
      ]
     },
     "metadata": {
      "needs_background": "light"
     },
     "output_type": "display_data"
    }
   ],
   "source": [
    "ax = plt.figure(figsize = (7, 7)).add_subplot()\n",
    "centerAxes(ax)\n",
    "log = np.array([1, 4])\n",
    "xlog = 10.0 * np.random.random(100)\n",
    "ylog = log[0] + log[1] * np.log(xlog) + np.random.randn(100)\n",
    "ax.plot(xlog, ylog, 'ro', markersize=4);"
   ]
  },
  {
   "cell_type": "markdown",
   "metadata": {
    "slideshow": {
     "slide_type": "fragment"
    }
   },
   "source": [
    "Clearly, none of these datasets agrees perfectly with the proposed model.   So the question arises:\n",
    "\n",
    "How do we find the __best__ linear function (or quadratic function, or logarithmic function) given the data?"
   ]
  },
  {
   "cell_type": "markdown",
   "metadata": {
    "slideshow": {
     "slide_type": "slide"
    }
   },
   "source": [
    "__Framework.__\n",
    "\n",
    "This problem has been studied extensively in the field of statistics.   Certain terminology is used:\n",
    "\n",
    "* Some values are referred to as \"independent,\" and\n",
    "* Some values are referred to as \"dependent.\""
   ]
  },
  {
   "cell_type": "markdown",
   "metadata": {
    "slideshow": {
     "slide_type": "fragment"
    }
   },
   "source": [
    "The basic regression task is: \n",
    "* given a set of independent variables \n",
    "* and the associated dependent variables, \n",
    "* estimate the parameters of a model (such as a line, parabola, etc) that describes how the dependent variables are related to the independent variables."
   ]
  },
  {
   "cell_type": "markdown",
   "metadata": {
    "slideshow": {
     "slide_type": "fragment"
    }
   },
   "source": [
    "The independent variables are collected into a matrix $X,$ which is called the __design matrix.__\n",
    "\n",
    "The dependent variables are collected into an __observation__ vector $\\mathbf{y}.$\n",
    "\n",
    "The parameters of the model (for any kind of model) are collected into a __parameter__ vector $\\mathbf{\\beta}.$"
   ]
  },
  {
   "cell_type": "code",
   "execution_count": 6,
   "metadata": {
    "hide_input": true,
    "slideshow": {
     "slide_type": "skip"
    },
    "tags": [
     "hide-input"
    ]
   },
   "outputs": [
    {
     "data": {
      "image/png": "[encoded data removed]",
      "text/plain": [
       "<Figure size 504x504 with 1 Axes>"
      ]
     },
     "metadata": {
      "needs_background": "light"
     },
     "output_type": "display_data"
    }
   ],
   "source": [
    "ax = plt.figure(figsize = (7, 7)).add_subplot()\n",
    "centerAxes(ax)\n",
    "line = np.array([1, 0.5])\n",
    "xlin = -10.0 + 20.0 * np.random.random(100)\n",
    "ylin = line[0] + (line[1] * xlin) + np.random.randn(100)\n",
    "ax.plot(xlin, ylin, 'ro', markersize = 4)\n",
    "ax.plot(xlin, line[0] + line[1] * xlin, 'b-')\n",
    "plt.text(-9, 3, r'$y = \\beta_0 + \\beta_1x$', size=20);"
   ]
  },
  {
   "cell_type": "markdown",
   "metadata": {
    "slideshow": {
     "slide_type": "slide"
    }
   },
   "source": [
    "## Least-Squares Lines"
   ]
  },
  {
   "cell_type": "markdown",
   "metadata": {
    "slideshow": {
     "slide_type": "fragment"
    }
   },
   "source": [
    "The first kind of model we'll study is a linear equation, $y = \\beta_0 + \\beta_1 x.$\n",
    "\n",
    "Experimental data often produce points $(x_1, y_1), \\dots, (x_n,y_n)$ that seem to lie close to a line.   \n",
    "\n",
    "We want to determine the parameters $\\beta_0, \\beta_1$ that define a line that is as \"close\" to the points as possible."
   ]
  },
  {
   "cell_type": "markdown",
   "metadata": {
    "slideshow": {
     "slide_type": "fragment"
    }
   },
   "source": [
    "Suppose we have a line $y = \\beta_0 + \\beta_1 x$.   For each data point $(x_j, y_j),$ there is a point $(x_j, \\beta_0 + \\beta_1 x_j)$ that is the point on the line with the same $x$-coordinate."
   ]
  },
  {
   "cell_type": "markdown",
   "metadata": {
    "slideshow": {
     "slide_type": "fragment"
    }
   },
   "source": [
    "<img src=\"figs/Lay-fig-6-6-1.jpg\" alt=\"Figure\" width=\"55%\">"
   ]
  },
  {
   "cell_type": "markdown",
   "metadata": {},
   "source": [
    "Image from Lay, _Linear Algebra and its Applications,_ 4th edition"
   ]
  },
  {
   "cell_type": "markdown",
   "metadata": {
    "slideshow": {
     "slide_type": "fragment"
    }
   },
   "source": [
    "We call \n",
    "* $y_j$ the __observed__ value of $y$ and \n",
    "* $\\beta_0 + \\beta_1 x_j$ the __predicted__ $y$-value.   \n",
    "\n",
    "The difference between an observed $y$-value and a predicted $y$-value is called a __residual__."
   ]
  },
  {
   "cell_type": "markdown",
   "metadata": {
    "slideshow": {
     "slide_type": "fragment"
    }
   },
   "source": [
    "There are several ways of measure how \"close\" the line is to the data. \n",
    "\n",
    "The usual choice is to sum the squares of the residuals.  "
   ]
  },
  {
   "cell_type": "markdown",
   "metadata": {
    "slideshow": {
     "slide_type": "fragment"
    }
   },
   "source": [
    "The __least-squares line__ is the line $y = \\beta_0 + \\beta_1x$ that minimizes the sum of squares of the residuals. \n",
    "\n",
    "The coefficients $\\beta_0, \\beta_1$ of the line are called __regression coefficients.__"
   ]
  },
  {
   "cell_type": "markdown",
   "metadata": {
    "slideshow": {
     "slide_type": "slide"
    }
   },
   "source": [
    "__A least-squares problem.__\n",
    "\n",
    "If the data points were on the line, the parameters $\\beta_0$ and $\\beta_1$ would satisfy the equations\n",
    "\n",
    "$$\\beta_0 + \\beta_1 x_1 = y_1 $$\n",
    "$$\\beta_0 + \\beta_1 x_2 = y_2 $$\n",
    "$$\\beta_0 + \\beta_1 x_3 = y_3 $$\n",
    "$$ \\vdots$$\n",
    "$$\\beta_0 + \\beta_1 x_n = y_n $$"
   ]
  },
  {
   "cell_type": "markdown",
   "metadata": {
    "slideshow": {
     "slide_type": "fragment"
    }
   },
   "source": [
    "We can write this system as \n",
    "\n",
    "$$X\\mathbf{\\beta} = \\mathbf{y}$$\n",
    "\n",
    "where \n",
    "\n",
    "$$X=\\begin{bmatrix}1&x_1\\\\1&x_2\\\\\\vdots&\\vdots\\\\1&x_n\\end{bmatrix},\\;\\;\\mathbf{\\beta} = \\begin{bmatrix}\\beta_0\\\\\\beta_1\\end{bmatrix},\\;\\;\\mathbf{y}=\\begin{bmatrix}y_1\\\\y_2\\\\\\vdots\\\\y_n\\end{bmatrix}$$"
   ]
  },
  {
   "cell_type": "markdown",
   "metadata": {
    "slideshow": {
     "slide_type": "fragment"
    }
   },
   "source": [
    "Of course, if the data points don't actually lie exactly on a line, \n",
    "\n",
    "... then there are no parameters $\\beta_0, \\beta_1$ for which the predicted $y$-values in $X\\mathbf{\\beta}$ equal the observed $y$-values in $\\mathbf{y}$, \n",
    "\n",
    "... and $X\\mathbf{\\beta}=\\mathbf{y}$ has no solution."
   ]
  },
  {
   "cell_type": "markdown",
   "metadata": {
    "slideshow": {
     "slide_type": "fragment"
    }
   },
   "source": [
    "Now, since the data doesn't fall exactly on a line, we have decided to seek the $\\beta$ that minimizes the sum of squared residuals, ie,\n",
    "\n",
    "$$\\sum_i (\\beta_0 + \\beta_1 x_i - y_i)^2$$"
   ]
  },
  {
   "cell_type": "markdown",
   "metadata": {
    "slideshow": {
     "slide_type": "fragment"
    }
   },
   "source": [
    "$$=\\Vert X\\beta -\\mathbf{y}\\Vert^2$$"
   ]
  },
  {
   "cell_type": "markdown",
   "metadata": {
    "slideshow": {
     "slide_type": "fragment"
    }
   },
   "source": [
    "This is key: __the sum of squares of the residuals__ is __exactly__ the __square of the distance between the vectors $X\\mathbf{\\beta}$ and $\\mathbf{y}.$__"
   ]
  },
  {
   "cell_type": "markdown",
   "metadata": {
    "slideshow": {
     "slide_type": "fragment"
    }
   },
   "source": [
    "Computing the least-squares solution of $X\\beta = \\mathbf{y}$ is equivalent to finding the $\\mathbf{\\beta}$ that determines the least-squares line."
   ]
  },
  {
   "cell_type": "code",
   "execution_count": 7,
   "metadata": {
    "hide_input": true,
    "tags": [
     "hide-input"
    ]
   },
   "outputs": [
    {
     "data": {
      "image/png": "[encoded data removed]",
      "text/plain": [
       "<Figure size 504x504 with 1 Axes>"
      ]
     },
     "metadata": {
      "needs_background": "light"
     },
     "output_type": "display_data"
    }
   ],
   "source": [
    "ax = plt.figure(figsize = (7, 7)).add_subplot()\n",
    "centerAxes(ax)\n",
    "line = np.array([1, 0.5])\n",
    "xlin = -10.0 + 20.0 * np.random.random(100)\n",
    "ylin = line[0] + (line[1] * xlin) + np.random.randn(100)\n",
    "ax.plot(xlin, ylin, 'ro', markersize = 4)\n",
    "ax.plot(xlin, line[0] + line[1] * xlin, 'b-')\n",
    "plt.text(-9, 3, r'$y = \\beta_0 + \\beta_1x$', size=20);"
   ]
  },
  {
   "cell_type": "markdown",
   "metadata": {
    "slideshow": {
     "slide_type": "fragment"
    }
   },
   "source": [
    "Now, to obtain the least-squares line, find the least-squares solution to $X\\mathbf{\\beta} = \\mathbf{y}.$"
   ]
  },
  {
   "cell_type": "markdown",
   "metadata": {
    "slideshow": {
     "slide_type": "fragment"
    }
   },
   "source": [
    "From linear algebra we know that the least squares solution of $X\\mathbf{\\beta} = \\mathbf{y}$ is given by the solution of the __normal equations__:\n",
    "\n",
    "$$X^TX\\mathbf{\\beta} = X^T\\mathbf{y}$$"
   ]
  },
  {
   "cell_type": "markdown",
   "metadata": {},
   "source": [
    "We also know that the normal equations __always__ have at least one solution.\n",
    "\n",
    "And if $X^TX$ is invertible, there is a unique solution that is given by:\n",
    "    \n",
    "$$\\hat{\\mathbf{\\beta}} = (X^TX)^{-1} X^T\\mathbf{y}$$"
   ]
  },
  {
   "cell_type": "markdown",
   "metadata": {
    "slideshow": {
     "slide_type": "slide"
    }
   },
   "source": [
    "## The General Linear Model"
   ]
  },
  {
   "cell_type": "markdown",
   "metadata": {
    "slideshow": {
     "slide_type": "fragment"
    }
   },
   "source": [
    "Another way that the inconsistent linear system is often written is to collect all the residuals into a __residual vector.__ \n",
    "\n",
    "Then an exact equation is\n",
    "\n",
    "$$y = X\\mathbf{\\beta} + {\\mathbf\\epsilon}$$"
   ]
  },
  {
   "cell_type": "markdown",
   "metadata": {
    "slideshow": {
     "slide_type": "fragment"
    }
   },
   "source": [
    "Any equation of this form is referred to as a __linear model.__ \n",
    "\n",
    "In this formulation, the goal is to find the $\\beta$ so as to minimize the length of $\\epsilon$, ie, $\\Vert\\epsilon\\Vert.$"
   ]
  },
  {
   "cell_type": "markdown",
   "metadata": {
    "slideshow": {
     "slide_type": "fragment"
    }
   },
   "source": [
    "In some cases, one would like to fit data points with something other than a straight line.  \n",
    "\n",
    "In cases like this, the matrix equation is still $X\\mathbf{\\beta} = \\mathbf{y}$, but the specific form of $X$ changes from one problem to the next."
   ]
  },
  {
   "cell_type": "markdown",
   "metadata": {
    "slideshow": {
     "slide_type": "slide"
    }
   },
   "source": [
    "## Least-Squares Fitting of Other Models"
   ]
  },
  {
   "cell_type": "markdown",
   "metadata": {
    "slideshow": {
     "slide_type": "fragment"
    }
   },
   "source": [
    "In model fitting, the parameters of the model are what is unknown.  \n",
    "\n",
    "A central question for us is whether the model is _linear_ in its parameters."
   ]
  },
  {
   "cell_type": "markdown",
   "metadata": {
    "slideshow": {
     "slide_type": "fragment"
    }
   },
   "source": [
    "For example, the model \n",
    "\n",
    "$$y = \\beta_0 e^{-\\beta_1 x}$$\n",
    "\n",
    "is __not__ linear in its parameters.  \n",
    "\n",
    "The model \n",
    "\n",
    "$$y = \\beta_0 e^{-2 x}$$\n",
    "\n",
    "__is__ linear in its parameters."
   ]
  },
  {
   "cell_type": "markdown",
   "metadata": {
    "slideshow": {
     "slide_type": "fragment"
    }
   },
   "source": [
    "For a model that is linear in its parameters, an observation is a linear combination of (arbitrary) known functions."
   ]
  },
  {
   "cell_type": "markdown",
   "metadata": {
    "slideshow": {
     "slide_type": "fragment"
    }
   },
   "source": [
    "In other words, a model that is linear in its parameters is\n",
    "\n",
    "$$y = \\beta_0f_0(x) + \\beta_1f_1(x) + \\dots + \\beta_nf_n(x)$$\n",
    "\n",
    "where $f_0, \\dots, f_n$ are known functions and $\\beta_0,\\dots,\\beta_k$ are parameters."
   ]
  },
  {
   "cell_type": "markdown",
   "metadata": {
    "slideshow": {
     "slide_type": "slide"
    }
   },
   "source": [
    "__Example.__  \n",
    "\n",
    "Suppose data points $(x_1, y_1), \\dots, (x_n, y_n)$ appear to lie along some sort of parabola instead of a straight line.  "
   ]
  },
  {
   "cell_type": "code",
   "execution_count": 8,
   "metadata": {
    "hide_input": false,
    "tags": [
     "hide-input"
    ]
   },
   "outputs": [
    {
     "data": {
      "image/png": "[encoded data removed]",
      "text/plain": [
       "<Figure size 504x504 with 1 Axes>"
      ]
     },
     "metadata": {
      "needs_background": "light"
     },
     "output_type": "display_data"
    }
   ],
   "source": [
    "ax = plt.figure(figsize = (7, 7)).add_subplot()\n",
    "centerAxes(ax)\n",
    "quad = np.array([1, 3, 0.5])\n",
    "xquad = -10.0 + 20.0 * np.random.random(100)\n",
    "yquad = quad[0] + (quad[1] * xquad) + (quad[2] * xquad * xquad) + np.random.randn(100)\n",
    "ax.plot(xquad, yquad, 'ro', markersize = 4);"
   ]
  },
  {
   "cell_type": "markdown",
   "metadata": {
    "slideshow": {
     "slide_type": "fragment"
    }
   },
   "source": [
    "As a result, we wish to approximate the data by an equation of the form\n",
    "\n",
    "$$y = \\beta_0 + \\beta_1x + \\beta_2x^2.$$\n",
    "\n",
    "Let's describe the linear model that produces a \"least squares fit\" of the data by the equation."
   ]
  },
  {
   "cell_type": "markdown",
   "metadata": {
    "slideshow": {
     "slide_type": "fragment"
    }
   },
   "source": [
    "__Solution.__  The ideal relationship is $y = \\beta_0 + \\beta_1x + \\beta_2x^2.$"
   ]
  },
  {
   "cell_type": "markdown",
   "metadata": {
    "slideshow": {
     "slide_type": "fragment"
    }
   },
   "source": [
    "Suppose the actual values of the parameters are $\\beta_0, \\beta_1, \\beta_2.$  Then the coordinates of the first data point satisfy the equation\n",
    "\n",
    "$$y_1 = \\beta_0 + \\beta_1x_1 + \\beta_2x_1^2 + \\epsilon_1$$\n",
    "\n",
    "where $\\epsilon_1$ is the residual error between the observed value $y_1$ and the predicted $y$-value."
   ]
  },
  {
   "cell_type": "markdown",
   "metadata": {
    "slideshow": {
     "slide_type": "fragment"
    }
   },
   "source": [
    "Each data point determines a similar equation:\n",
    "\n",
    "$$y_1 = \\beta_0 + \\beta_1x_1 + \\beta_2x_1^2 + \\epsilon_1$$\n",
    "$$y_2 = \\beta_0 + \\beta_1x_2 + \\beta_2x_2^2 + \\epsilon_2$$\n",
    "$$\\vdots$$\n",
    "$$y_n = \\beta_0 + \\beta_1x_n + \\beta_2x_n^2 + \\epsilon_n$$"
   ]
  },
  {
   "cell_type": "markdown",
   "metadata": {
    "collapsed": true,
    "slideshow": {
     "slide_type": "fragment"
    }
   },
   "source": [
    "Clearly, this system can be written as $\\mathbf{y} = X\\mathbf{\\beta} + \\mathbf{\\epsilon}.$\n",
    "\n",
    "$$\\begin{bmatrix}y_1\\\\y_2\\\\\\vdots\\\\y_n\\end{bmatrix} = \\begin{bmatrix}1&x_1&x_1^2\\\\1&x_2&x_2^2\\\\\\vdots&\\vdots&\\vdots\\\\1&x_n&x_n^2\\end{bmatrix} \\begin{bmatrix}\\beta_0\\\\\\beta_1\\\\\\beta_2\\end{bmatrix} + \\begin{bmatrix}\\epsilon_1\\\\\\epsilon_2\\\\\\vdots\\\\\\epsilon_n\\end{bmatrix}$$"
   ]
  },
  {
   "cell_type": "code",
   "execution_count": 9,
   "metadata": {
    "slideshow": {
     "slide_type": "fragment"
    }
   },
   "outputs": [],
   "source": [
    "#\n",
    "# Input data are in the vectors xquad and yquad\n",
    "#\n",
    "# estimate the parameters of the linear model\n",
    "#\n",
    "m = np.shape(xquad)[0]\n",
    "X = np.array([np.ones(m), xquad, xquad**2]).T\n",
    "beta = np.linalg.inv(X.T @ X) @ X.T @ yquad"
   ]
  },
  {
   "cell_type": "code",
   "execution_count": 10,
   "metadata": {
    "hide_input": true,
    "slideshow": {
     "slide_type": "fragment"
    },
    "tags": [
     "hide-input"
    ]
   },
   "outputs": [
    {
     "data": {
      "image/png": "[encoded data removed]",
      "text/plain": [
       "<Figure size 432x288 with 1 Axes>"
      ]
     },
     "metadata": {
      "needs_background": "light"
     },
     "output_type": "display_data"
    }
   ],
   "source": [
    "#\n",
    "# plot the results\n",
    "#\n",
    "ax = ut.plotSetup(-10, 10, -10, 20)\n",
    "ut.centerAxes(ax)\n",
    "xplot = np.linspace(-10, 10, 50)\n",
    "yestplot = beta[0] + beta[1] * xplot + beta[2] * xplot**2\n",
    "ax.plot(xplot, yestplot, 'b-', lw=2)\n",
    "ax.plot(xquad, yquad, 'ro', markersize=4);"
   ]
  },
  {
   "cell_type": "code",
   "execution_count": 11,
   "metadata": {
    "slideshow": {
     "slide_type": "fragment"
    }
   },
   "outputs": [],
   "source": [
    "#\n",
    "# Input data are in the vectors xlog and ylog\n",
    "#\n",
    "# estimate the parameters of the linear model\n",
    "#\n",
    "m = np.shape(xlog)[0]\n",
    "X = np.array([np.ones(m), np.log(xlog)]).T\n",
    "beta = np.linalg.inv(X.T @ X) @ X.T @ ylog"
   ]
  },
  {
   "cell_type": "code",
   "execution_count": 12,
   "metadata": {
    "hide_input": true,
    "slideshow": {
     "slide_type": "fragment"
    },
    "tags": [
     "hide-input"
    ]
   },
   "outputs": [
    {
     "data": {
      "image/png": "[encoded data removed]",
      "text/plain": [
       "<Figure size 432x288 with 1 Axes>"
      ]
     },
     "metadata": {
      "needs_background": "light"
     },
     "output_type": "display_data"
    }
   ],
   "source": [
    "# \n",
    "# plot the results\n",
    "#\n",
    "ax = ut.plotSetup(-10,10,-10,15)\n",
    "ut.centerAxes(ax)\n",
    "xplot = np.logspace(np.log10(0.0001),1,100)\n",
    "yestplot = beta[0]+beta[1]*np.log(xplot)\n",
    "ax.plot(xplot,yestplot,'b-',lw=2)\n",
    "ax.plot(xlog,ylog,'ro',markersize=4);"
   ]
  },
  {
   "cell_type": "markdown",
   "metadata": {
    "slideshow": {
     "slide_type": "slide"
    }
   },
   "source": [
    "## Multiple Regression"
   ]
  },
  {
   "cell_type": "markdown",
   "metadata": {
    "slideshow": {
     "slide_type": "fragment"
    }
   },
   "source": [
    "Suppose an experiment involves two independent variables -- say, $u$ and $v$, -- and one dependent variable, $y$.  A simple equation for predicting $y$ from $u$ and $v$ has the form\n",
    "\n",
    "$$y = \\beta_0 + \\beta_1 u + \\beta_2 v$$"
   ]
  },
  {
   "cell_type": "markdown",
   "metadata": {
    "slideshow": {
     "slide_type": "fragment"
    }
   },
   "source": [
    "Since there is more than one independent variable, this is called __multiple regression.__"
   ]
  },
  {
   "cell_type": "markdown",
   "metadata": {
    "slideshow": {
     "slide_type": "fragment"
    }
   },
   "source": [
    "A more general prediction equation might have the form\n",
    "\n",
    "$$y = \\beta_0 + \\beta_1 u + \\beta_2 v + \\beta_3u^2 + \\beta_4 uv + \\beta_5 v^2$$\n",
    "\n",
    "A least squares fit to equations like this is called a __trend surface.__"
   ]
  },
  {
   "cell_type": "markdown",
   "metadata": {
    "slideshow": {
     "slide_type": "fragment"
    }
   },
   "source": [
    "In general, a linear model will arise whenever $y$ is to be predicted by an equation of the form\n",
    "\n",
    "$$y = \\beta_0f_0(u,v) + \\beta_1f_1(u,v) + \\cdots + \\beta_kf_k(u,v)$$\n",
    "\n",
    "with $f_0,\\dots,f_k$ any sort of known functions and $\\beta_0,...,\\beta_k$ unknown weights."
   ]
  },
  {
   "cell_type": "markdown",
   "metadata": {
    "slideshow": {
     "slide_type": "fragment"
    }
   },
   "source": [
    "Let's take an example.   Here are a set of points in $\\mathbb{R}^3$:"
   ]
  },
  {
   "cell_type": "code",
   "execution_count": 32,
   "metadata": {
    "hide_input": true,
    "scrolled": false,
    "tags": [
     "hide-input"
    ]
   },
   "outputs": [
    {
     "data": {
      "application/javascript": [
       "/* Put everything inside the global mpl namespace */\n",
       "/* global mpl */\n",
       "window.mpl = {};\n",
       "\n",
       "mpl.get_websocket_type = function () {\n",
       "    if (typeof WebSocket !== 'undefined') {\n",
       "        return WebSocket;\n",
       "    } else if (typeof MozWebSocket !== 'undefined') {\n",
       "        return MozWebSocket;\n",
       "    } else {\n",
       "        alert(\n",
       "            'Your browser does not have WebSocket support. ' +\n",
       "                'Please try Chrome, Safari or Firefox ≥ 6. ' +\n",
       "                'Firefox 4 and 5 are also supported but you ' +\n",
       "                'have to enable WebSockets in about:config.'\n",
       "        );\n",
       "    }\n",
       "};\n",
       "\n",
       "mpl.figure = function (figure_id, websocket, ondownload, parent_element) {\n",
       "    this.id = figure_id;\n",
       "\n",
       "    this.ws = websocket;\n",
       "\n",
       "    this.supports_binary = this.ws.binaryType !== undefined;\n",
       "\n",
       "    if (!this.supports_binary) {\n",
       "        var warnings = document.getElementById('mpl-warnings');\n",
       "        if (warnings) {\n",
       "            warnings.style.display = 'block';\n",
       "            warnings.textContent =\n",
       "                'This browser does not support binary websocket messages. ' +\n",
       "                'Performance may be slow.';\n",
       "        }\n",
       "    }\n",
       "\n",
       "    this.imageObj = new Image();\n",
       "\n",
       "    this.context = undefined;\n",
       "    this.message = undefined;\n",
       "    this.canvas = undefined;\n",
       "    this.rubberband_canvas = undefined;\n",
       "    this.rubberband_context = undefined;\n",
       "    this.format_dropdown = undefined;\n",
       "\n",
       "    this.image_mode = 'full';\n",
       "\n",
       "    this.root = document.createElement('div');\n",
       "    this.root.setAttribute('style', 'display: inline-block');\n",
       "    this._root_extra_style(this.root);\n",
       "\n",
       "    parent_element.appendChild(this.root);\n",
       "\n",
       "    this._init_header(this);\n",
       "    this._init_canvas(this);\n",
       "    this._init_toolbar(this);\n",
       "\n",
       "    var fig = this;\n",
       "\n",
       "    this.waiting = false;\n",
       "\n",
       "    this.ws.onopen = function () {\n",
       "        fig.send_message('supports_binary', { value: fig.supports_binary });\n",
       "        fig.send_message('send_image_mode', {});\n",
       "        if (fig.ratio !== 1) {\n",
       "            fig.send_message('set_dpi_ratio', { dpi_ratio: fig.ratio });\n",
       "        }\n",
       "        fig.send_message('refresh', {});\n",
       "    };\n",
       "\n",
       "    this.imageObj.onload = function () {\n",
       "        if (fig.image_mode === 'full') {\n",
       "            // Full images could contain transparency (where diff images\n",
       "            // almost always do), so we need to clear the canvas so that\n",
       "            // there is no ghosting.\n",
       "            fig.context.clearRect(0, 0, fig.canvas.width, fig.canvas.height);\n",
       "        }\n",
       "        fig.context.drawImage(fig.imageObj, 0, 0);\n",
       "    };\n",
       "\n",
       "    this.imageObj.onunload = function () {\n",
       "        fig.ws.close();\n",
       "    };\n",
       "\n",
       "    this.ws.onmessage = this._make_on_message_function(this);\n",
       "\n",
       "    this.ondownload = ondownload;\n",
       "};\n",
       "\n",
       "mpl.figure.prototype._init_header = function () {\n",
       "    var titlebar = document.createElement('div');\n",
       "    titlebar.classList =\n",
       "        'ui-dialog-titlebar ui-widget-header ui-corner-all ui-helper-clearfix';\n",
       "    var titletext = document.createElement('div');\n",
       "    titletext.classList = 'ui-dialog-title';\n",
       "    titletext.setAttribute(\n",
       "        'style',\n",
       "        'width: 100%; text-align: center; padding: 3px;'\n",
       "    );\n",
       "    titlebar.appendChild(titletext);\n",
       "    this.root.appendChild(titlebar);\n",
       "    this.header = titletext;\n",
       "};\n",
       "\n",
       "mpl.figure.prototype._canvas_extra_style = function (_canvas_div) {};\n",
       "\n",
       "mpl.figure.prototype._root_extra_style = function (_canvas_div) {};\n",
       "\n",
       "mpl.figure.prototype._init_canvas = function () {\n",
       "    var fig = this;\n",
       "\n",
       "    var canvas_div = (this.canvas_div = document.createElement('div'));\n",
       "    canvas_div.setAttribute(\n",
       "        'style',\n",
       "        'border: 1px solid #ddd;' +\n",
       "            'box-sizing: content-box;' +\n",
       "            'clear: both;' +\n",
       "            'min-height: 1px;' +\n",
       "            'min-width: 1px;' +\n",
       "            'outline: 0;' +\n",
       "            'overflow: hidden;' +\n",
       "            'position: relative;' +\n",
       "            'resize: both;'\n",
       "    );\n",
       "\n",
       "    function on_keyboard_event_closure(name) {\n",
       "        return function (event) {\n",
       "            return fig.key_event(event, name);\n",
       "        };\n",
       "    }\n",
       "\n",
       "    canvas_div.addEventListener(\n",
       "        'keydown',\n",
       "        on_keyboard_event_closure('key_press')\n",
       "    );\n",
       "    canvas_div.addEventListener(\n",
       "        'keyup',\n",
       "        on_keyboard_event_closure('key_release')\n",
       "    );\n",
       "\n",
       "    this._canvas_extra_style(canvas_div);\n",
       "    this.root.appendChild(canvas_div);\n",
       "\n",
       "    var canvas = (this.canvas = document.createElement('canvas'));\n",
       "    canvas.classList.add('mpl-canvas');\n",
       "    canvas.setAttribute('style', 'box-sizing: content-box;');\n",
       "\n",
       "    this.context = canvas.getContext('2d');\n",
       "\n",
       "    var backingStore =\n",
       "        this.context.backingStorePixelRatio ||\n",
       "        this.context.webkitBackingStorePixelRatio ||\n",
       "        this.context.mozBackingStorePixelRatio ||\n",
       "        this.context.msBackingStorePixelRatio ||\n",
       "        this.context.oBackingStorePixelRatio ||\n",
       "        this.context.backingStorePixelRatio ||\n",
       "        1;\n",
       "\n",
       "    this.ratio = (window.devicePixelRatio || 1) / backingStore;\n",
       "\n",
       "    var rubberband_canvas = (this.rubberband_canvas = document.createElement(\n",
       "        'canvas'\n",
       "    ));\n",
       "    rubberband_canvas.setAttribute(\n",
       "        'style',\n",
       "        'box-sizing: content-box; position: absolute; left: 0; top: 0; z-index: 1;'\n",
       "    );\n",
       "\n",
       "    // Apply a ponyfill if ResizeObserver is not implemented by browser.\n",
       "    if (this.ResizeObserver === undefined) {\n",
       "        if (window.ResizeObserver !== undefined) {\n",
       "            this.ResizeObserver = window.ResizeObserver;\n",
       "        } else {\n",
       "            var obs = _JSXTOOLS_RESIZE_OBSERVER({});\n",
       "            this.ResizeObserver = obs.ResizeObserver;\n",
       "        }\n",
       "    }\n",
       "\n",
       "    this.resizeObserverInstance = new this.ResizeObserver(function (entries) {\n",
       "        var nentries = entries.length;\n",
       "        for (var i = 0; i < nentries; i++) {\n",
       "            var entry = entries[i];\n",
       "            var width, height;\n",
       "            if (entry.contentBoxSize) {\n",
       "                if (entry.contentBoxSize instanceof Array) {\n",
       "                    // Chrome 84 implements new version of spec.\n",
       "                    width = entry.contentBoxSize[0].inlineSize;\n",
       "                    height = entry.contentBoxSize[0].blockSize;\n",
       "                } else {\n",
       "                    // Firefox implements old version of spec.\n",
       "                    width = entry.contentBoxSize.inlineSize;\n",
       "                    height = entry.contentBoxSize.blockSize;\n",
       "                }\n",
       "            } else {\n",
       "                // Chrome <84 implements even older version of spec.\n",
       "                width = entry.contentRect.width;\n",
       "                height = entry.contentRect.height;\n",
       "            }\n",
       "\n",
       "            // Keep the size of the canvas and rubber band canvas in sync with\n",
       "            // the canvas container.\n",
       "            if (entry.devicePixelContentBoxSize) {\n",
       "                // Chrome 84 implements new version of spec.\n",
       "                canvas.setAttribute(\n",
       "                    'width',\n",
       "                    entry.devicePixelContentBoxSize[0].inlineSize\n",
       "                );\n",
       "                canvas.setAttribute(\n",
       "                    'height',\n",
       "                    entry.devicePixelContentBoxSize[0].blockSize\n",
       "                );\n",
       "            } else {\n",
       "                canvas.setAttribute('width', width * fig.ratio);\n",
       "                canvas.setAttribute('height', height * fig.ratio);\n",
       "            }\n",
       "            canvas.setAttribute(\n",
       "                'style',\n",
       "                'width: ' + width + 'px; height: ' + height + 'px;'\n",
       "            );\n",
       "\n",
       "            rubberband_canvas.setAttribute('width', width);\n",
       "            rubberband_canvas.setAttribute('height', height);\n",
       "\n",
       "            // And update the size in Python. We ignore the initial 0/0 size\n",
       "            // that occurs as the element is placed into the DOM, which should\n",
       "            // otherwise not happen due to the minimum size styling.\n",
       "            if (fig.ws.readyState == 1 && width != 0 && height != 0) {\n",
       "                fig.request_resize(width, height);\n",
       "            }\n",
       "        }\n",
       "    });\n",
       "    this.resizeObserverInstance.observe(canvas_div);\n",
       "\n",
       "    function on_mouse_event_closure(name) {\n",
       "        return function (event) {\n",
       "            return fig.mouse_event(event, name);\n",
       "        };\n",
       "    }\n",
       "\n",
       "    rubberband_canvas.addEventListener(\n",
       "        'mousedown',\n",
       "        on_mouse_event_closure('button_press')\n",
       "    );\n",
       "    rubberband_canvas.addEventListener(\n",
       "        'mouseup',\n",
       "        on_mouse_event_closure('button_release')\n",
       "    );\n",
       "    rubberband_canvas.addEventListener(\n",
       "        'dblclick',\n",
       "        on_mouse_event_closure('dblclick')\n",
       "    );\n",
       "    // Throttle sequential mouse events to 1 every 20ms.\n",
       "    rubberband_canvas.addEventListener(\n",
       "        'mousemove',\n",
       "        on_mouse_event_closure('motion_notify')\n",
       "    );\n",
       "\n",
       "    rubberband_canvas.addEventListener(\n",
       "        'mouseenter',\n",
       "        on_mouse_event_closure('figure_enter')\n",
       "    );\n",
       "    rubberband_canvas.addEventListener(\n",
       "        'mouseleave',\n",
       "        on_mouse_event_closure('figure_leave')\n",
       "    );\n",
       "\n",
       "    canvas_div.addEventListener('wheel', function (event) {\n",
       "        if (event.deltaY < 0) {\n",
       "            event.step = 1;\n",
       "        } else {\n",
       "            event.step = -1;\n",
       "        }\n",
       "        on_mouse_event_closure('scroll')(event);\n",
       "    });\n",
       "\n",
       "    canvas_div.appendChild(canvas);\n",
       "    canvas_div.appendChild(rubberband_canvas);\n",
       "\n",
       "    this.rubberband_context = rubberband_canvas.getContext('2d');\n",
       "    this.rubberband_context.strokeStyle = '#000000';\n",
       "\n",
       "    this._resize_canvas = function (width, height, forward) {\n",
       "        if (forward) {\n",
       "            canvas_div.style.width = width + 'px';\n",
       "            canvas_div.style.height = height + 'px';\n",
       "        }\n",
       "    };\n",
       "\n",
       "    // Disable right mouse context menu.\n",
       "    this.rubberband_canvas.addEventListener('contextmenu', function (_e) {\n",
       "        event.preventDefault();\n",
       "        return false;\n",
       "    });\n",
       "\n",
       "    function set_focus() {\n",
       "        canvas.focus();\n",
       "        canvas_div.focus();\n",
       "    }\n",
       "\n",
       "    window.setTimeout(set_focus, 100);\n",
       "};\n",
       "\n",
       "mpl.figure.prototype._init_toolbar = function () {\n",
       "    var fig = this;\n",
       "\n",
       "    var toolbar = document.createElement('div');\n",
       "    toolbar.classList = 'mpl-toolbar';\n",
       "    this.root.appendChild(toolbar);\n",
       "\n",
       "    function on_click_closure(name) {\n",
       "        return function (_event) {\n",
       "            return fig.toolbar_button_onclick(name);\n",
       "        };\n",
       "    }\n",
       "\n",
       "    function on_mouseover_closure(tooltip) {\n",
       "        return function (event) {\n",
       "            if (!event.currentTarget.disabled) {\n",
       "                return fig.toolbar_button_onmouseover(tooltip);\n",
       "            }\n",
       "        };\n",
       "    }\n",
       "\n",
       "    fig.buttons = {};\n",
       "    var buttonGroup = document.createElement('div');\n",
       "    buttonGroup.classList = 'mpl-button-group';\n",
       "    for (var toolbar_ind in mpl.toolbar_items) {\n",
       "        var name = mpl.toolbar_items[toolbar_ind][0];\n",
       "        var tooltip = mpl.toolbar_items[toolbar_ind][1];\n",
       "        var image = mpl.toolbar_items[toolbar_ind][2];\n",
       "        var method_name = mpl.toolbar_items[toolbar_ind][3];\n",
       "\n",
       "        if (!name) {\n",
       "            /* Instead of a spacer, we start a new button group. */\n",
       "            if (buttonGroup.hasChildNodes()) {\n",
       "                toolbar.appendChild(buttonGroup);\n",
       "            }\n",
       "            buttonGroup = document.createElement('div');\n",
       "            buttonGroup.classList = 'mpl-button-group';\n",
       "            continue;\n",
       "        }\n",
       "\n",
       "        var button = (fig.buttons[name] = document.createElement('button'));\n",
       "        button.classList = 'mpl-widget';\n",
       "        button.setAttribute('role', 'button');\n",
       "        button.setAttribute('aria-disabled', 'false');\n",
       "        button.addEventListener('click', on_click_closure(method_name));\n",
       "        button.addEventListener('mouseover', on_mouseover_closure(tooltip));\n",
       "\n",
       "        var icon_img = document.createElement('img');\n",
       "        icon_img.src = '_images/' + image + '.png';\n",
       "        icon_img.srcset = '_images/' + image + '_large.png 2x';\n",
       "        icon_img.alt = tooltip;\n",
       "        button.appendChild(icon_img);\n",
       "\n",
       "        buttonGroup.appendChild(button);\n",
       "    }\n",
       "\n",
       "    if (buttonGroup.hasChildNodes()) {\n",
       "        toolbar.appendChild(buttonGroup);\n",
       "    }\n",
       "\n",
       "    var fmt_picker = document.createElement('select');\n",
       "    fmt_picker.classList = 'mpl-widget';\n",
       "    toolbar.appendChild(fmt_picker);\n",
       "    this.format_dropdown = fmt_picker;\n",
       "\n",
       "    for (var ind in mpl.extensions) {\n",
       "        var fmt = mpl.extensions[ind];\n",
       "        var option = document.createElement('option');\n",
       "        option.selected = fmt === mpl.default_extension;\n",
       "        option.innerHTML = fmt;\n",
       "        fmt_picker.appendChild(option);\n",
       "    }\n",
       "\n",
       "    var status_bar = document.createElement('span');\n",
       "    status_bar.classList = 'mpl-message';\n",
       "    toolbar.appendChild(status_bar);\n",
       "    this.message = status_bar;\n",
       "};\n",
       "\n",
       "mpl.figure.prototype.request_resize = function (x_pixels, y_pixels) {\n",
       "    // Request matplotlib to resize the figure. Matplotlib will then trigger a resize in the client,\n",
       "    // which will in turn request a refresh of the image.\n",
       "    this.send_message('resize', { width: x_pixels, height: y_pixels });\n",
       "};\n",
       "\n",
       "mpl.figure.prototype.send_message = function (type, properties) {\n",
       "    properties['type'] = type;\n",
       "    properties['figure_id'] = this.id;\n",
       "    this.ws.send(JSON.stringify(properties));\n",
       "};\n",
       "\n",
       "mpl.figure.prototype.send_draw_message = function () {\n",
       "    if (!this.waiting) {\n",
       "        this.waiting = true;\n",
       "        this.ws.send(JSON.stringify({ type: 'draw', figure_id: this.id }));\n",
       "    }\n",
       "};\n",
       "\n",
       "mpl.figure.prototype.handle_save = function (fig, _msg) {\n",
       "    var format_dropdown = fig.format_dropdown;\n",
       "    var format = format_dropdown.options[format_dropdown.selectedIndex].value;\n",
       "    fig.ondownload(fig, format);\n",
       "};\n",
       "\n",
       "mpl.figure.prototype.handle_resize = function (fig, msg) {\n",
       "    var size = msg['size'];\n",
       "    if (size[0] !== fig.canvas.width || size[1] !== fig.canvas.height) {\n",
       "        fig._resize_canvas(size[0], size[1], msg['forward']);\n",
       "        fig.send_message('refresh', {});\n",
       "    }\n",
       "};\n",
       "\n",
       "mpl.figure.prototype.handle_rubberband = function (fig, msg) {\n",
       "    var x0 = msg['x0'] / fig.ratio;\n",
       "    var y0 = (fig.canvas.height - msg['y0']) / fig.ratio;\n",
       "    var x1 = msg['x1'] / fig.ratio;\n",
       "    var y1 = (fig.canvas.height - msg['y1']) / fig.ratio;\n",
       "    x0 = Math.floor(x0) + 0.5;\n",
       "    y0 = Math.floor(y0) + 0.5;\n",
       "    x1 = Math.floor(x1) + 0.5;\n",
       "    y1 = Math.floor(y1) + 0.5;\n",
       "    var min_x = Math.min(x0, x1);\n",
       "    var min_y = Math.min(y0, y1);\n",
       "    var width = Math.abs(x1 - x0);\n",
       "    var height = Math.abs(y1 - y0);\n",
       "\n",
       "    fig.rubberband_context.clearRect(\n",
       "        0,\n",
       "        0,\n",
       "        fig.canvas.width / fig.ratio,\n",
       "        fig.canvas.height / fig.ratio\n",
       "    );\n",
       "\n",
       "    fig.rubberband_context.strokeRect(min_x, min_y, width, height);\n",
       "};\n",
       "\n",
       "mpl.figure.prototype.handle_figure_label = function (fig, msg) {\n",
       "    // Updates the figure title.\n",
       "    fig.header.textContent = msg['label'];\n",
       "};\n",
       "\n",
       "mpl.figure.prototype.handle_cursor = function (fig, msg) {\n",
       "    var cursor = msg['cursor'];\n",
       "    switch (cursor) {\n",
       "        case 0:\n",
       "            cursor = 'pointer';\n",
       "            break;\n",
       "        case 1:\n",
       "            cursor = 'default';\n",
       "            break;\n",
       "        case 2:\n",
       "            cursor = 'crosshair';\n",
       "            break;\n",
       "        case 3:\n",
       "            cursor = 'move';\n",
       "            break;\n",
       "    }\n",
       "    fig.rubberband_canvas.style.cursor = cursor;\n",
       "};\n",
       "\n",
       "mpl.figure.prototype.handle_message = function (fig, msg) {\n",
       "    fig.message.textContent = msg['message'];\n",
       "};\n",
       "\n",
       "mpl.figure.prototype.handle_draw = function (fig, _msg) {\n",
       "    // Request the server to send over a new figure.\n",
       "    fig.send_draw_message();\n",
       "};\n",
       "\n",
       "mpl.figure.prototype.handle_image_mode = function (fig, msg) {\n",
       "    fig.image_mode = msg['mode'];\n",
       "};\n",
       "\n",
       "mpl.figure.prototype.handle_history_buttons = function (fig, msg) {\n",
       "    for (var key in msg) {\n",
       "        if (!(key in fig.buttons)) {\n",
       "            continue;\n",
       "        }\n",
       "        fig.buttons[key].disabled = !msg[key];\n",
       "        fig.buttons[key].setAttribute('aria-disabled', !msg[key]);\n",
       "    }\n",
       "};\n",
       "\n",
       "mpl.figure.prototype.handle_navigate_mode = function (fig, msg) {\n",
       "    if (msg['mode'] === 'PAN') {\n",
       "        fig.buttons['Pan'].classList.add('active');\n",
       "        fig.buttons['Zoom'].classList.remove('active');\n",
       "    } else if (msg['mode'] === 'ZOOM') {\n",
       "        fig.buttons['Pan'].classList.remove('active');\n",
       "        fig.buttons['Zoom'].classList.add('active');\n",
       "    } else {\n",
       "        fig.buttons['Pan'].classList.remove('active');\n",
       "        fig.buttons['Zoom'].classList.remove('active');\n",
       "    }\n",
       "};\n",
       "\n",
       "mpl.figure.prototype.updated_canvas_event = function () {\n",
       "    // Called whenever the canvas gets updated.\n",
       "    this.send_message('ack', {});\n",
       "};\n",
       "\n",
       "// A function to construct a web socket function for onmessage handling.\n",
       "// Called in the figure constructor.\n",
       "mpl.figure.prototype._make_on_message_function = function (fig) {\n",
       "    return function socket_on_message(evt) {\n",
       "        if (evt.data instanceof Blob) {\n",
       "            var img = evt.data;\n",
       "            if (img.type !== 'image/png') {\n",
       "                /* FIXME: We get \"Resource interpreted as Image but\n",
       "                 * transferred with MIME type text/plain:\" errors on\n",
       "                 * Chrome.  But how to set the MIME type?  It doesn't seem\n",
       "                 * to be part of the websocket stream */\n",
       "                img.type = 'image/png';\n",
       "            }\n",
       "\n",
       "            /* Free the memory for the previous frames */\n",
       "            if (fig.imageObj.src) {\n",
       "                (window.URL || window.webkitURL).revokeObjectURL(\n",
       "                    fig.imageObj.src\n",
       "                );\n",
       "            }\n",
       "\n",
       "            fig.imageObj.src = (window.URL || window.webkitURL).createObjectURL(\n",
       "                img\n",
       "            );\n",
       "            fig.updated_canvas_event();\n",
       "            fig.waiting = false;\n",
       "            return;\n",
       "        } else if (\n",
       "            typeof evt.data === 'string' &&\n",
       "            evt.data.slice(0, 21) === 'data:image/png;base64'\n",
       "        ) {\n",
       "            fig.imageObj.src = evt.data;\n",
       "            fig.updated_canvas_event();\n",
       "            fig.waiting = false;\n",
       "            return;\n",
       "        }\n",
       "\n",
       "        var msg = JSON.parse(evt.data);\n",
       "        var msg_type = msg['type'];\n",
       "\n",
       "        // Call the  \"handle_{type}\" callback, which takes\n",
       "        // the figure and JSON message as its only arguments.\n",
       "        try {\n",
       "            var callback = fig['handle_' + msg_type];\n",
       "        } catch (e) {\n",
       "            console.log(\n",
       "                \"No handler for the '\" + msg_type + \"' message type: \",\n",
       "                msg\n",
       "            );\n",
       "            return;\n",
       "        }\n",
       "\n",
       "        if (callback) {\n",
       "            try {\n",
       "                // console.log(\"Handling '\" + msg_type + \"' message: \", msg);\n",
       "                callback(fig, msg);\n",
       "            } catch (e) {\n",
       "                console.log(\n",
       "                    \"Exception inside the 'handler_\" + msg_type + \"' callback:\",\n",
       "                    e,\n",
       "                    e.stack,\n",
       "                    msg\n",
       "                );\n",
       "            }\n",
       "        }\n",
       "    };\n",
       "};\n",
       "\n",
       "// from http://stackoverflow.com/questions/1114465/getting-mouse-location-in-canvas\n",
       "mpl.findpos = function (e) {\n",
       "    //this section is from http://www.quirksmode.org/js/events_properties.html\n",
       "    var targ;\n",
       "    if (!e) {\n",
       "        e = window.event;\n",
       "    }\n",
       "    if (e.target) {\n",
       "        targ = e.target;\n",
       "    } else if (e.srcElement) {\n",
       "        targ = e.srcElement;\n",
       "    }\n",
       "    if (targ.nodeType === 3) {\n",
       "        // defeat Safari bug\n",
       "        targ = targ.parentNode;\n",
       "    }\n",
       "\n",
       "    // pageX,Y are the mouse positions relative to the document\n",
       "    var boundingRect = targ.getBoundingClientRect();\n",
       "    var x = e.pageX - (boundingRect.left + document.body.scrollLeft);\n",
       "    var y = e.pageY - (boundingRect.top + document.body.scrollTop);\n",
       "\n",
       "    return { x: x, y: y };\n",
       "};\n",
       "\n",
       "/*\n",
       " * return a copy of an object with only non-object keys\n",
       " * we need this to avoid circular references\n",
       " * http://stackoverflow.com/a/24161582/3208463\n",
       " */\n",
       "function simpleKeys(original) {\n",
       "    return Object.keys(original).reduce(function (obj, key) {\n",
       "        if (typeof original[key] !== 'object') {\n",
       "            obj[key] = original[key];\n",
       "        }\n",
       "        return obj;\n",
       "    }, {});\n",
       "}\n",
       "\n",
       "mpl.figure.prototype.mouse_event = function (event, name) {\n",
       "    var canvas_pos = mpl.findpos(event);\n",
       "\n",
       "    if (name === 'button_press') {\n",
       "        this.canvas.focus();\n",
       "        this.canvas_div.focus();\n",
       "    }\n",
       "\n",
       "    var x = canvas_pos.x * this.ratio;\n",
       "    var y = canvas_pos.y * this.ratio;\n",
       "\n",
       "    this.send_message(name, {\n",
       "        x: x,\n",
       "        y: y,\n",
       "        button: event.button,\n",
       "        step: event.step,\n",
       "        guiEvent: simpleKeys(event),\n",
       "    });\n",
       "\n",
       "    /* This prevents the web browser from automatically changing to\n",
       "     * the text insertion cursor when the button is pressed.  We want\n",
       "     * to control all of the cursor setting manually through the\n",
       "     * 'cursor' event from matplotlib */\n",
       "    event.preventDefault();\n",
       "    return false;\n",
       "};\n",
       "\n",
       "mpl.figure.prototype._key_event_extra = function (_event, _name) {\n",
       "    // Handle any extra behaviour associated with a key event\n",
       "};\n",
       "\n",
       "mpl.figure.prototype.key_event = function (event, name) {\n",
       "    // Prevent repeat events\n",
       "    if (name === 'key_press') {\n",
       "        if (event.key === this._key) {\n",
       "            return;\n",
       "        } else {\n",
       "            this._key = event.key;\n",
       "        }\n",
       "    }\n",
       "    if (name === 'key_release') {\n",
       "        this._key = null;\n",
       "    }\n",
       "\n",
       "    var value = '';\n",
       "    if (event.ctrlKey && event.key !== 'Control') {\n",
       "        value += 'ctrl+';\n",
       "    }\n",
       "    else if (event.altKey && event.key !== 'Alt') {\n",
       "        value += 'alt+';\n",
       "    }\n",
       "    else if (event.shiftKey && event.key !== 'Shift') {\n",
       "        value += 'shift+';\n",
       "    }\n",
       "\n",
       "    value += 'k' + event.key;\n",
       "\n",
       "    this._key_event_extra(event, name);\n",
       "\n",
       "    this.send_message(name, { key: value, guiEvent: simpleKeys(event) });\n",
       "    return false;\n",
       "};\n",
       "\n",
       "mpl.figure.prototype.toolbar_button_onclick = function (name) {\n",
       "    if (name === 'download') {\n",
       "        this.handle_save(this, null);\n",
       "    } else {\n",
       "        this.send_message('toolbar_button', { name: name });\n",
       "    }\n",
       "};\n",
       "\n",
       "mpl.figure.prototype.toolbar_button_onmouseover = function (tooltip) {\n",
       "    this.message.textContent = tooltip;\n",
       "};\n",
       "\n",
       "///////////////// REMAINING CONTENT GENERATED BY embed_js.py /////////////////\n",
       "// prettier-ignore\n",
       "var _JSXTOOLS_RESIZE_OBSERVER=function(A){var t,i=new WeakMap,n=new WeakMap,a=new WeakMap,r=new WeakMap,o=new Set;function s(e){if(!(this instanceof s))throw new TypeError(\"Constructor requires 'new' operator\");i.set(this,e)}function h(){throw new TypeError(\"Function is not a constructor\")}function c(e,t,i,n){e=0 in arguments?Number(arguments[0]):0,t=1 in arguments?Number(arguments[1]):0,i=2 in arguments?Number(arguments[2]):0,n=3 in arguments?Number(arguments[3]):0,this.right=(this.x=this.left=e)+(this.width=i),this.bottom=(this.y=this.top=t)+(this.height=n),Object.freeze(this)}function d(){t=requestAnimationFrame(d);var s=new WeakMap,p=new Set;o.forEach((function(t){r.get(t).forEach((function(i){var r=t instanceof window.SVGElement,o=a.get(t),d=r?0:parseFloat(o.paddingTop),f=r?0:parseFloat(o.paddingRight),l=r?0:parseFloat(o.paddingBottom),u=r?0:parseFloat(o.paddingLeft),g=r?0:parseFloat(o.borderTopWidth),m=r?0:parseFloat(o.borderRightWidth),w=r?0:parseFloat(o.borderBottomWidth),b=u+f,F=d+l,v=(r?0:parseFloat(o.borderLeftWidth))+m,W=g+w,y=r?0:t.offsetHeight-W-t.clientHeight,E=r?0:t.offsetWidth-v-t.clientWidth,R=b+v,z=F+W,M=r?t.width:parseFloat(o.width)-R-E,O=r?t.height:parseFloat(o.height)-z-y;if(n.has(t)){var k=n.get(t);if(k[0]===M&&k[1]===O)return}n.set(t,[M,O]);var S=Object.create(h.prototype);S.target=t,S.contentRect=new c(u,d,M,O),s.has(i)||(s.set(i,[]),p.add(i)),s.get(i).push(S)}))})),p.forEach((function(e){i.get(e).call(e,s.get(e),e)}))}return s.prototype.observe=function(i){if(i instanceof window.Element){r.has(i)||(r.set(i,new Set),o.add(i),a.set(i,window.getComputedStyle(i)));var n=r.get(i);n.has(this)||n.add(this),cancelAnimationFrame(t),t=requestAnimationFrame(d)}},s.prototype.unobserve=function(i){if(i instanceof window.Element&&r.has(i)){var n=r.get(i);n.has(this)&&(n.delete(this),n.size||(r.delete(i),o.delete(i))),n.size||r.delete(i),o.size||cancelAnimationFrame(t)}},A.DOMRectReadOnly=c,A.ResizeObserver=s,A.ResizeObserverEntry=h,A}; // eslint-disable-line\n",
       "mpl.toolbar_items = [[\"Home\", \"Reset original view\", \"fa fa-home icon-home\", \"home\"], [\"Back\", \"Back to previous view\", \"fa fa-arrow-left icon-arrow-left\", \"back\"], [\"Forward\", \"Forward to next view\", \"fa fa-arrow-right icon-arrow-right\", \"forward\"], [\"\", \"\", \"\", \"\"], [\"Pan\", \"Left button pans, Right button zooms\\nx/y fixes axis, CTRL fixes aspect\", \"fa fa-arrows icon-move\", \"pan\"], [\"Zoom\", \"Zoom to rectangle\\nx/y fixes axis, CTRL fixes aspect\", \"fa fa-square-o icon-check-empty\", \"zoom\"], [\"\", \"\", \"\", \"\"], [\"Download\", \"Download plot\", \"fa fa-floppy-o icon-save\", \"download\"]];\n",
       "\n",
       "mpl.extensions = [\"eps\", \"jpeg\", \"pgf\", \"pdf\", \"png\", \"ps\", \"raw\", \"svg\", \"tif\"];\n",
       "\n",
       "mpl.default_extension = \"png\";/* global mpl */\n",
       "\n",
       "var comm_websocket_adapter = function (comm) {\n",
       "    // Create a \"websocket\"-like object which calls the given IPython comm\n",
       "    // object with the appropriate methods. Currently this is a non binary\n",
       "    // socket, so there is still some room for performance tuning.\n",
       "    var ws = {};\n",
       "\n",
       "    ws.binaryType = comm.kernel.ws.binaryType;\n",
       "    ws.readyState = comm.kernel.ws.readyState;\n",
       "    function updateReadyState(_event) {\n",
       "        if (comm.kernel.ws) {\n",
       "            ws.readyState = comm.kernel.ws.readyState;\n",
       "        } else {\n",
       "            ws.readyState = 3; // Closed state.\n",
       "        }\n",
       "    }\n",
       "    comm.kernel.ws.addEventListener('open', updateReadyState);\n",
       "    comm.kernel.ws.addEventListener('close', updateReadyState);\n",
       "    comm.kernel.ws.addEventListener('error', updateReadyState);\n",
       "\n",
       "    ws.close = function () {\n",
       "        comm.close();\n",
       "    };\n",
       "    ws.send = function (m) {\n",
       "        //console.log('sending', m);\n",
       "        comm.send(m);\n",
       "    };\n",
       "    // Register the callback with on_msg.\n",
       "    comm.on_msg(function (msg) {\n",
       "        //console.log('receiving', msg['content']['data'], msg);\n",
       "        var data = msg['content']['data'];\n",
       "        if (data['blob'] !== undefined) {\n",
       "            data = {\n",
       "                data: new Blob(msg['buffers'], { type: data['blob'] }),\n",
       "            };\n",
       "        }\n",
       "        // Pass the mpl event to the overridden (by mpl) onmessage function.\n",
       "        ws.onmessage(data);\n",
       "    });\n",
       "    return ws;\n",
       "};\n",
       "\n",
       "mpl.mpl_figure_comm = function (comm, msg) {\n",
       "    // This is the function which gets called when the mpl process\n",
       "    // starts-up an IPython Comm through the \"matplotlib\" channel.\n",
       "\n",
       "    var id = msg.content.data.id;\n",
       "    // Get hold of the div created by the display call when the Comm\n",
       "    // socket was opened in Python.\n",
       "    var element = document.getElementById(id);\n",
       "    var ws_proxy = comm_websocket_adapter(comm);\n",
       "\n",
       "    function ondownload(figure, _format) {\n",
       "        window.open(figure.canvas.toDataURL());\n",
       "    }\n",
       "\n",
       "    var fig = new mpl.figure(id, ws_proxy, ondownload, element);\n",
       "\n",
       "    // Call onopen now - mpl needs it, as it is assuming we've passed it a real\n",
       "    // web socket which is closed, not our websocket->open comm proxy.\n",
       "    ws_proxy.onopen();\n",
       "\n",
       "    fig.parent_element = element;\n",
       "    fig.cell_info = mpl.find_output_cell(\"<div id='\" + id + \"'></div>\");\n",
       "    if (!fig.cell_info) {\n",
       "        console.error('Failed to find cell for figure', id, fig);\n",
       "        return;\n",
       "    }\n",
       "    fig.cell_info[0].output_area.element.on(\n",
       "        'cleared',\n",
       "        { fig: fig },\n",
       "        fig._remove_fig_handler\n",
       "    );\n",
       "};\n",
       "\n",
       "mpl.figure.prototype.handle_close = function (fig, msg) {\n",
       "    var width = fig.canvas.width / fig.ratio;\n",
       "    fig.cell_info[0].output_area.element.off(\n",
       "        'cleared',\n",
       "        fig._remove_fig_handler\n",
       "    );\n",
       "    fig.resizeObserverInstance.unobserve(fig.canvas_div);\n",
       "\n",
       "    // Update the output cell to use the data from the current canvas.\n",
       "    fig.push_to_output();\n",
       "    var dataURL = fig.canvas.toDataURL();\n",
       "    // Re-enable the keyboard manager in IPython - without this line, in FF,\n",
       "    // the notebook keyboard shortcuts fail.\n",
       "    IPython.keyboard_manager.enable();\n",
       "    fig.parent_element.innerHTML =\n",
       "        '<img src=\"' + dataURL + '\" width=\"' + width + '\">';\n",
       "    fig.close_ws(fig, msg);\n",
       "};\n",
       "\n",
       "mpl.figure.prototype.close_ws = function (fig, msg) {\n",
       "    fig.send_message('closing', msg);\n",
       "    // fig.ws.close()\n",
       "};\n",
       "\n",
       "mpl.figure.prototype.push_to_output = function (_remove_interactive) {\n",
       "    // Turn the data on the canvas into data in the output cell.\n",
       "    var width = this.canvas.width / this.ratio;\n",
       "    var dataURL = this.canvas.toDataURL();\n",
       "    this.cell_info[1]['text/html'] =\n",
       "        '<img src=\"' + dataURL + '\" width=\"' + width + '\">';\n",
       "};\n",
       "\n",
       "mpl.figure.prototype.updated_canvas_event = function () {\n",
       "    // Tell IPython that the notebook contents must change.\n",
       "    IPython.notebook.set_dirty(true);\n",
       "    this.send_message('ack', {});\n",
       "    var fig = this;\n",
       "    // Wait a second, then push the new image to the DOM so\n",
       "    // that it is saved nicely (might be nice to debounce this).\n",
       "    setTimeout(function () {\n",
       "        fig.push_to_output();\n",
       "    }, 1000);\n",
       "};\n",
       "\n",
       "mpl.figure.prototype._init_toolbar = function () {\n",
       "    var fig = this;\n",
       "\n",
       "    var toolbar = document.createElement('div');\n",
       "    toolbar.classList = 'btn-toolbar';\n",
       "    this.root.appendChild(toolbar);\n",
       "\n",
       "    function on_click_closure(name) {\n",
       "        return function (_event) {\n",
       "            return fig.toolbar_button_onclick(name);\n",
       "        };\n",
       "    }\n",
       "\n",
       "    function on_mouseover_closure(tooltip) {\n",
       "        return function (event) {\n",
       "            if (!event.currentTarget.disabled) {\n",
       "                return fig.toolbar_button_onmouseover(tooltip);\n",
       "            }\n",
       "        };\n",
       "    }\n",
       "\n",
       "    fig.buttons = {};\n",
       "    var buttonGroup = document.createElement('div');\n",
       "    buttonGroup.classList = 'btn-group';\n",
       "    var button;\n",
       "    for (var toolbar_ind in mpl.toolbar_items) {\n",
       "        var name = mpl.toolbar_items[toolbar_ind][0];\n",
       "        var tooltip = mpl.toolbar_items[toolbar_ind][1];\n",
       "        var image = mpl.toolbar_items[toolbar_ind][2];\n",
       "        var method_name = mpl.toolbar_items[toolbar_ind][3];\n",
       "\n",
       "        if (!name) {\n",
       "            /* Instead of a spacer, we start a new button group. */\n",
       "            if (buttonGroup.hasChildNodes()) {\n",
       "                toolbar.appendChild(buttonGroup);\n",
       "            }\n",
       "            buttonGroup = document.createElement('div');\n",
       "            buttonGroup.classList = 'btn-group';\n",
       "            continue;\n",
       "        }\n",
       "\n",
       "        button = fig.buttons[name] = document.createElement('button');\n",
       "        button.classList = 'btn btn-default';\n",
       "        button.href = '#';\n",
       "        button.title = name;\n",
       "        button.innerHTML = '<i class=\"fa ' + image + ' fa-lg\"></i>';\n",
       "        button.addEventListener('click', on_click_closure(method_name));\n",
       "        button.addEventListener('mouseover', on_mouseover_closure(tooltip));\n",
       "        buttonGroup.appendChild(button);\n",
       "    }\n",
       "\n",
       "    if (buttonGroup.hasChildNodes()) {\n",
       "        toolbar.appendChild(buttonGroup);\n",
       "    }\n",
       "\n",
       "    // Add the status bar.\n",
       "    var status_bar = document.createElement('span');\n",
       "    status_bar.classList = 'mpl-message pull-right';\n",
       "    toolbar.appendChild(status_bar);\n",
       "    this.message = status_bar;\n",
       "\n",
       "    // Add the close button to the window.\n",
       "    var buttongrp = document.createElement('div');\n",
       "    buttongrp.classList = 'btn-group inline pull-right';\n",
       "    button = document.createElement('button');\n",
       "    button.classList = 'btn btn-mini btn-primary';\n",
       "    button.href = '#';\n",
       "    button.title = 'Stop Interaction';\n",
       "    button.innerHTML = '<i class=\"fa fa-power-off icon-remove icon-large\"></i>';\n",
       "    button.addEventListener('click', function (_evt) {\n",
       "        fig.handle_close(fig, {});\n",
       "    });\n",
       "    button.addEventListener(\n",
       "        'mouseover',\n",
       "        on_mouseover_closure('Stop Interaction')\n",
       "    );\n",
       "    buttongrp.appendChild(button);\n",
       "    var titlebar = this.root.querySelector('.ui-dialog-titlebar');\n",
       "    titlebar.insertBefore(buttongrp, titlebar.firstChild);\n",
       "};\n",
       "\n",
       "mpl.figure.prototype._remove_fig_handler = function (event) {\n",
       "    var fig = event.data.fig;\n",
       "    if (event.target !== this) {\n",
       "        // Ignore bubbled events from children.\n",
       "        return;\n",
       "    }\n",
       "    fig.close_ws(fig, {});\n",
       "};\n",
       "\n",
       "mpl.figure.prototype._root_extra_style = function (el) {\n",
       "    el.style.boxSizing = 'content-box'; // override notebook setting of border-box.\n",
       "};\n",
       "\n",
       "mpl.figure.prototype._canvas_extra_style = function (el) {\n",
       "    // this is important to make the div 'focusable\n",
       "    el.setAttribute('tabindex', 0);\n",
       "    // reach out to IPython and tell the keyboard manager to turn it's self\n",
       "    // off when our div gets focus\n",
       "\n",
       "    // location in version 3\n",
       "    if (IPython.notebook.keyboard_manager) {\n",
       "        IPython.notebook.keyboard_manager.register_events(el);\n",
       "    } else {\n",
       "        // location in version 2\n",
       "        IPython.keyboard_manager.register_events(el);\n",
       "    }\n",
       "};\n",
       "\n",
       "mpl.figure.prototype._key_event_extra = function (event, _name) {\n",
       "    var manager = IPython.notebook.keyboard_manager;\n",
       "    if (!manager) {\n",
       "        manager = IPython.keyboard_manager;\n",
       "    }\n",
       "\n",
       "    // Check for shift+enter\n",
       "    if (event.shiftKey && event.which === 13) {\n",
       "        this.canvas_div.blur();\n",
       "        // select the cell after this one\n",
       "        var index = IPython.notebook.find_cell_index(this.cell_info[0]);\n",
       "        IPython.notebook.select(index + 1);\n",
       "    }\n",
       "};\n",
       "\n",
       "mpl.figure.prototype.handle_save = function (fig, _msg) {\n",
       "    fig.ondownload(fig, null);\n",
       "};\n",
       "\n",
       "mpl.find_output_cell = function (html_output) {\n",
       "    // Return the cell and output element which can be found *uniquely* in the notebook.\n",
       "    // Note - this is a bit hacky, but it is done because the \"notebook_saving.Notebook\"\n",
       "    // IPython event is triggered only after the cells have been serialised, which for\n",
       "    // our purposes (turning an active figure into a static one), is too late.\n",
       "    var cells = IPython.notebook.get_cells();\n",
       "    var ncells = cells.length;\n",
       "    for (var i = 0; i < ncells; i++) {\n",
       "        var cell = cells[i];\n",
       "        if (cell.cell_type === 'code') {\n",
       "            for (var j = 0; j < cell.output_area.outputs.length; j++) {\n",
       "                var data = cell.output_area.outputs[j];\n",
       "                if (data.data) {\n",
       "                    // IPython >= 3 moved mimebundle to data attribute of output\n",
       "                    data = data.data;\n",
       "                }\n",
       "                if (data['text/html'] === html_output) {\n",
       "                    return [cell, data, j];\n",
       "                }\n",
       "            }\n",
       "        }\n",
       "    }\n",
       "};\n",
       "\n",
       "// Register the function which deals with the matplotlib target/channel.\n",
       "// The kernel may be null if the page has been refreshed.\n",
       "if (IPython.notebook.kernel !== null) {\n",
       "    IPython.notebook.kernel.comm_manager.register_target(\n",
       "        'matplotlib',\n",
       "        mpl.mpl_figure_comm\n",
       "    );\n",
       "}\n"
      ],
      "text/plain": [
       "<IPython.core.display.Javascript object>"
      ]
     },
     "metadata": {},
     "output_type": "display_data"
    },
    {
     "data": {
      "text/html": [
       "<img src=\"data:image/png;base64,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\" width=\"504\">"
      ],
      "text/plain": [
       "<IPython.core.display.HTML object>"
      ]
     },
     "metadata": {},
     "output_type": "display_data"
    }
   ],
   "source": [
    "# %matplotlib qt\n",
    "%matplotlib nbagg\n",
    "ax = ut.plotSetup3d(-7, 7, -7, 7, -10, 10, figsize = (7, 7))\n",
    "v = [4.0, 4.0, 2.0]\n",
    "u = [-4.0, 3.0, 1.0]\n",
    "npts = 50\n",
    "# set locations of points that fall within x,y\n",
    "xc = -7.0 + 14.0 * np.random.random(npts)\n",
    "yc = -7.0 + 14.0 * np.random.random(npts)\n",
    "A = np.array([u,v]).T\n",
    "# project these points onto the plane\n",
    "P = A @ np.linalg.inv(A.T @ A) @ A.T\n",
    "coords = P @ np.array([xc, yc, np.zeros(npts)])\n",
    "coords[2] += np.random.randn(npts)\n",
    "ax.plot(coords[0], coords[1], 'ro', zs=coords[2], markersize = 6);"
   ]
  },
  {
   "cell_type": "markdown",
   "metadata": {
    "collapsed": true,
    "slideshow": {
     "slide_type": "slide"
    }
   },
   "source": [
    "__Example.__  \n",
    "\n",
    "In geography, local models of terrain are constructed from data $(u_1, v_1, y_1), \\dots, (u_n, v_n, y_n)$ where $u_j, v_j$, and $y_j$ are latitude, longitude, and altitude, respectively."
   ]
  },
  {
   "cell_type": "markdown",
   "metadata": {
    "slideshow": {
     "slide_type": "fragment"
    }
   },
   "source": [
    "Let's describe the linear models that gives a least-squares fit to such data.  The solution is called the least-squares _plane._"
   ]
  },
  {
   "cell_type": "markdown",
   "metadata": {
    "slideshow": {
     "slide_type": "fragment"
    }
   },
   "source": [
    "__Solution.__  We expect the data to satisfy these equations:\n",
    "\n",
    "$$y_1 = \\beta_0 + \\beta_1 u_1 + \\beta_2 v_1 + \\epsilon_1$$\n",
    "$$y_1 = \\beta_0 + \\beta_1 u_2 + \\beta_2 v_2 + \\epsilon_2$$\n",
    "$$\\vdots$$\n",
    "$$y_1 = \\beta_0 + \\beta_1 u_n + \\beta_2 v_n + \\epsilon_n$$"
   ]
  },
  {
   "cell_type": "markdown",
   "metadata": {
    "slideshow": {
     "slide_type": "fragment"
    }
   },
   "source": [
    "This system has the matrix for $\\mathbf{y} = X\\mathbf{\\beta} + \\epsilon,$ where\n",
    "\n",
    "$$\\mathbf{y} = \\begin{bmatrix}y_1\\\\y_1\\\\\\vdots\\\\y_n\\end{bmatrix},\\;\\;X = \\begin{bmatrix}1&u_1&v_1\\\\1&u_2&v_2\\\\\\vdots&\\vdots&\\vdots\\\\1&u_n&v_n\\end{bmatrix},\\;\\;\\mathbf{\\beta}=\\begin{bmatrix}\\beta_0\\\\\\beta_1\\\\\\beta_2\\end{bmatrix},\\;\\;\\epsilon = \\begin{bmatrix}\\epsilon_1\\\\\\epsilon_2\\\\\\vdots\\\\\\epsilon_n\\end{bmatrix}$$"
   ]
  },
  {
   "cell_type": "code",
   "execution_count": 33,
   "metadata": {
    "hide_input": true,
    "slideshow": {
     "slide_type": "fragment"
    },
    "tags": [
     "hide-input"
    ]
   },
   "outputs": [
    {
     "data": {
      "application/javascript": [
       "/* Put everything inside the global mpl namespace */\n",
       "/* global mpl */\n",
       "window.mpl = {};\n",
       "\n",
       "mpl.get_websocket_type = function () {\n",
       "    if (typeof WebSocket !== 'undefined') {\n",
       "        return WebSocket;\n",
       "    } else if (typeof MozWebSocket !== 'undefined') {\n",
       "        return MozWebSocket;\n",
       "    } else {\n",
       "        alert(\n",
       "            'Your browser does not have WebSocket support. ' +\n",
       "                'Please try Chrome, Safari or Firefox ≥ 6. ' +\n",
       "                'Firefox 4 and 5 are also supported but you ' +\n",
       "                'have to enable WebSockets in about:config.'\n",
       "        );\n",
       "    }\n",
       "};\n",
       "\n",
       "mpl.figure = function (figure_id, websocket, ondownload, parent_element) {\n",
       "    this.id = figure_id;\n",
       "\n",
       "    this.ws = websocket;\n",
       "\n",
       "    this.supports_binary = this.ws.binaryType !== undefined;\n",
       "\n",
       "    if (!this.supports_binary) {\n",
       "        var warnings = document.getElementById('mpl-warnings');\n",
       "        if (warnings) {\n",
       "            warnings.style.display = 'block';\n",
       "            warnings.textContent =\n",
       "                'This browser does not support binary websocket messages. ' +\n",
       "                'Performance may be slow.';\n",
       "        }\n",
       "    }\n",
       "\n",
       "    this.imageObj = new Image();\n",
       "\n",
       "    this.context = undefined;\n",
       "    this.message = undefined;\n",
       "    this.canvas = undefined;\n",
       "    this.rubberband_canvas = undefined;\n",
       "    this.rubberband_context = undefined;\n",
       "    this.format_dropdown = undefined;\n",
       "\n",
       "    this.image_mode = 'full';\n",
       "\n",
       "    this.root = document.createElement('div');\n",
       "    this.root.setAttribute('style', 'display: inline-block');\n",
       "    this._root_extra_style(this.root);\n",
       "\n",
       "    parent_element.appendChild(this.root);\n",
       "\n",
       "    this._init_header(this);\n",
       "    this._init_canvas(this);\n",
       "    this._init_toolbar(this);\n",
       "\n",
       "    var fig = this;\n",
       "\n",
       "    this.waiting = false;\n",
       "\n",
       "    this.ws.onopen = function () {\n",
       "        fig.send_message('supports_binary', { value: fig.supports_binary });\n",
       "        fig.send_message('send_image_mode', {});\n",
       "        if (fig.ratio !== 1) {\n",
       "            fig.send_message('set_dpi_ratio', { dpi_ratio: fig.ratio });\n",
       "        }\n",
       "        fig.send_message('refresh', {});\n",
       "    };\n",
       "\n",
       "    this.imageObj.onload = function () {\n",
       "        if (fig.image_mode === 'full') {\n",
       "            // Full images could contain transparency (where diff images\n",
       "            // almost always do), so we need to clear the canvas so that\n",
       "            // there is no ghosting.\n",
       "            fig.context.clearRect(0, 0, fig.canvas.width, fig.canvas.height);\n",
       "        }\n",
       "        fig.context.drawImage(fig.imageObj, 0, 0);\n",
       "    };\n",
       "\n",
       "    this.imageObj.onunload = function () {\n",
       "        fig.ws.close();\n",
       "    };\n",
       "\n",
       "    this.ws.onmessage = this._make_on_message_function(this);\n",
       "\n",
       "    this.ondownload = ondownload;\n",
       "};\n",
       "\n",
       "mpl.figure.prototype._init_header = function () {\n",
       "    var titlebar = document.createElement('div');\n",
       "    titlebar.classList =\n",
       "        'ui-dialog-titlebar ui-widget-header ui-corner-all ui-helper-clearfix';\n",
       "    var titletext = document.createElement('div');\n",
       "    titletext.classList = 'ui-dialog-title';\n",
       "    titletext.setAttribute(\n",
       "        'style',\n",
       "        'width: 100%; text-align: center; padding: 3px;'\n",
       "    );\n",
       "    titlebar.appendChild(titletext);\n",
       "    this.root.appendChild(titlebar);\n",
       "    this.header = titletext;\n",
       "};\n",
       "\n",
       "mpl.figure.prototype._canvas_extra_style = function (_canvas_div) {};\n",
       "\n",
       "mpl.figure.prototype._root_extra_style = function (_canvas_div) {};\n",
       "\n",
       "mpl.figure.prototype._init_canvas = function () {\n",
       "    var fig = this;\n",
       "\n",
       "    var canvas_div = (this.canvas_div = document.createElement('div'));\n",
       "    canvas_div.setAttribute(\n",
       "        'style',\n",
       "        'border: 1px solid #ddd;' +\n",
       "            'box-sizing: content-box;' +\n",
       "            'clear: both;' +\n",
       "            'min-height: 1px;' +\n",
       "            'min-width: 1px;' +\n",
       "            'outline: 0;' +\n",
       "            'overflow: hidden;' +\n",
       "            'position: relative;' +\n",
       "            'resize: both;'\n",
       "    );\n",
       "\n",
       "    function on_keyboard_event_closure(name) {\n",
       "        return function (event) {\n",
       "            return fig.key_event(event, name);\n",
       "        };\n",
       "    }\n",
       "\n",
       "    canvas_div.addEventListener(\n",
       "        'keydown',\n",
       "        on_keyboard_event_closure('key_press')\n",
       "    );\n",
       "    canvas_div.addEventListener(\n",
       "        'keyup',\n",
       "        on_keyboard_event_closure('key_release')\n",
       "    );\n",
       "\n",
       "    this._canvas_extra_style(canvas_div);\n",
       "    this.root.appendChild(canvas_div);\n",
       "\n",
       "    var canvas = (this.canvas = document.createElement('canvas'));\n",
       "    canvas.classList.add('mpl-canvas');\n",
       "    canvas.setAttribute('style', 'box-sizing: content-box;');\n",
       "\n",
       "    this.context = canvas.getContext('2d');\n",
       "\n",
       "    var backingStore =\n",
       "        this.context.backingStorePixelRatio ||\n",
       "        this.context.webkitBackingStorePixelRatio ||\n",
       "        this.context.mozBackingStorePixelRatio ||\n",
       "        this.context.msBackingStorePixelRatio ||\n",
       "        this.context.oBackingStorePixelRatio ||\n",
       "        this.context.backingStorePixelRatio ||\n",
       "        1;\n",
       "\n",
       "    this.ratio = (window.devicePixelRatio || 1) / backingStore;\n",
       "\n",
       "    var rubberband_canvas = (this.rubberband_canvas = document.createElement(\n",
       "        'canvas'\n",
       "    ));\n",
       "    rubberband_canvas.setAttribute(\n",
       "        'style',\n",
       "        'box-sizing: content-box; position: absolute; left: 0; top: 0; z-index: 1;'\n",
       "    );\n",
       "\n",
       "    // Apply a ponyfill if ResizeObserver is not implemented by browser.\n",
       "    if (this.ResizeObserver === undefined) {\n",
       "        if (window.ResizeObserver !== undefined) {\n",
       "            this.ResizeObserver = window.ResizeObserver;\n",
       "        } else {\n",
       "            var obs = _JSXTOOLS_RESIZE_OBSERVER({});\n",
       "            this.ResizeObserver = obs.ResizeObserver;\n",
       "        }\n",
       "    }\n",
       "\n",
       "    this.resizeObserverInstance = new this.ResizeObserver(function (entries) {\n",
       "        var nentries = entries.length;\n",
       "        for (var i = 0; i < nentries; i++) {\n",
       "            var entry = entries[i];\n",
       "            var width, height;\n",
       "            if (entry.contentBoxSize) {\n",
       "                if (entry.contentBoxSize instanceof Array) {\n",
       "                    // Chrome 84 implements new version of spec.\n",
       "                    width = entry.contentBoxSize[0].inlineSize;\n",
       "                    height = entry.contentBoxSize[0].blockSize;\n",
       "                } else {\n",
       "                    // Firefox implements old version of spec.\n",
       "                    width = entry.contentBoxSize.inlineSize;\n",
       "                    height = entry.contentBoxSize.blockSize;\n",
       "                }\n",
       "            } else {\n",
       "                // Chrome <84 implements even older version of spec.\n",
       "                width = entry.contentRect.width;\n",
       "                height = entry.contentRect.height;\n",
       "            }\n",
       "\n",
       "            // Keep the size of the canvas and rubber band canvas in sync with\n",
       "            // the canvas container.\n",
       "            if (entry.devicePixelContentBoxSize) {\n",
       "                // Chrome 84 implements new version of spec.\n",
       "                canvas.setAttribute(\n",
       "                    'width',\n",
       "                    entry.devicePixelContentBoxSize[0].inlineSize\n",
       "                );\n",
       "                canvas.setAttribute(\n",
       "                    'height',\n",
       "                    entry.devicePixelContentBoxSize[0].blockSize\n",
       "                );\n",
       "            } else {\n",
       "                canvas.setAttribute('width', width * fig.ratio);\n",
       "                canvas.setAttribute('height', height * fig.ratio);\n",
       "            }\n",
       "            canvas.setAttribute(\n",
       "                'style',\n",
       "                'width: ' + width + 'px; height: ' + height + 'px;'\n",
       "            );\n",
       "\n",
       "            rubberband_canvas.setAttribute('width', width);\n",
       "            rubberband_canvas.setAttribute('height', height);\n",
       "\n",
       "            // And update the size in Python. We ignore the initial 0/0 size\n",
       "            // that occurs as the element is placed into the DOM, which should\n",
       "            // otherwise not happen due to the minimum size styling.\n",
       "            if (fig.ws.readyState == 1 && width != 0 && height != 0) {\n",
       "                fig.request_resize(width, height);\n",
       "            }\n",
       "        }\n",
       "    });\n",
       "    this.resizeObserverInstance.observe(canvas_div);\n",
       "\n",
       "    function on_mouse_event_closure(name) {\n",
       "        return function (event) {\n",
       "            return fig.mouse_event(event, name);\n",
       "        };\n",
       "    }\n",
       "\n",
       "    rubberband_canvas.addEventListener(\n",
       "        'mousedown',\n",
       "        on_mouse_event_closure('button_press')\n",
       "    );\n",
       "    rubberband_canvas.addEventListener(\n",
       "        'mouseup',\n",
       "        on_mouse_event_closure('button_release')\n",
       "    );\n",
       "    rubberband_canvas.addEventListener(\n",
       "        'dblclick',\n",
       "        on_mouse_event_closure('dblclick')\n",
       "    );\n",
       "    // Throttle sequential mouse events to 1 every 20ms.\n",
       "    rubberband_canvas.addEventListener(\n",
       "        'mousemove',\n",
       "        on_mouse_event_closure('motion_notify')\n",
       "    );\n",
       "\n",
       "    rubberband_canvas.addEventListener(\n",
       "        'mouseenter',\n",
       "        on_mouse_event_closure('figure_enter')\n",
       "    );\n",
       "    rubberband_canvas.addEventListener(\n",
       "        'mouseleave',\n",
       "        on_mouse_event_closure('figure_leave')\n",
       "    );\n",
       "\n",
       "    canvas_div.addEventListener('wheel', function (event) {\n",
       "        if (event.deltaY < 0) {\n",
       "            event.step = 1;\n",
       "        } else {\n",
       "            event.step = -1;\n",
       "        }\n",
       "        on_mouse_event_closure('scroll')(event);\n",
       "    });\n",
       "\n",
       "    canvas_div.appendChild(canvas);\n",
       "    canvas_div.appendChild(rubberband_canvas);\n",
       "\n",
       "    this.rubberband_context = rubberband_canvas.getContext('2d');\n",
       "    this.rubberband_context.strokeStyle = '#000000';\n",
       "\n",
       "    this._resize_canvas = function (width, height, forward) {\n",
       "        if (forward) {\n",
       "            canvas_div.style.width = width + 'px';\n",
       "            canvas_div.style.height = height + 'px';\n",
       "        }\n",
       "    };\n",
       "\n",
       "    // Disable right mouse context menu.\n",
       "    this.rubberband_canvas.addEventListener('contextmenu', function (_e) {\n",
       "        event.preventDefault();\n",
       "        return false;\n",
       "    });\n",
       "\n",
       "    function set_focus() {\n",
       "        canvas.focus();\n",
       "        canvas_div.focus();\n",
       "    }\n",
       "\n",
       "    window.setTimeout(set_focus, 100);\n",
       "};\n",
       "\n",
       "mpl.figure.prototype._init_toolbar = function () {\n",
       "    var fig = this;\n",
       "\n",
       "    var toolbar = document.createElement('div');\n",
       "    toolbar.classList = 'mpl-toolbar';\n",
       "    this.root.appendChild(toolbar);\n",
       "\n",
       "    function on_click_closure(name) {\n",
       "        return function (_event) {\n",
       "            return fig.toolbar_button_onclick(name);\n",
       "        };\n",
       "    }\n",
       "\n",
       "    function on_mouseover_closure(tooltip) {\n",
       "        return function (event) {\n",
       "            if (!event.currentTarget.disabled) {\n",
       "                return fig.toolbar_button_onmouseover(tooltip);\n",
       "            }\n",
       "        };\n",
       "    }\n",
       "\n",
       "    fig.buttons = {};\n",
       "    var buttonGroup = document.createElement('div');\n",
       "    buttonGroup.classList = 'mpl-button-group';\n",
       "    for (var toolbar_ind in mpl.toolbar_items) {\n",
       "        var name = mpl.toolbar_items[toolbar_ind][0];\n",
       "        var tooltip = mpl.toolbar_items[toolbar_ind][1];\n",
       "        var image = mpl.toolbar_items[toolbar_ind][2];\n",
       "        var method_name = mpl.toolbar_items[toolbar_ind][3];\n",
       "\n",
       "        if (!name) {\n",
       "            /* Instead of a spacer, we start a new button group. */\n",
       "            if (buttonGroup.hasChildNodes()) {\n",
       "                toolbar.appendChild(buttonGroup);\n",
       "            }\n",
       "            buttonGroup = document.createElement('div');\n",
       "            buttonGroup.classList = 'mpl-button-group';\n",
       "            continue;\n",
       "        }\n",
       "\n",
       "        var button = (fig.buttons[name] = document.createElement('button'));\n",
       "        button.classList = 'mpl-widget';\n",
       "        button.setAttribute('role', 'button');\n",
       "        button.setAttribute('aria-disabled', 'false');\n",
       "        button.addEventListener('click', on_click_closure(method_name));\n",
       "        button.addEventListener('mouseover', on_mouseover_closure(tooltip));\n",
       "\n",
       "        var icon_img = document.createElement('img');\n",
       "        icon_img.src = '_images/' + image + '.png';\n",
       "        icon_img.srcset = '_images/' + image + '_large.png 2x';\n",
       "        icon_img.alt = tooltip;\n",
       "        button.appendChild(icon_img);\n",
       "\n",
       "        buttonGroup.appendChild(button);\n",
       "    }\n",
       "\n",
       "    if (buttonGroup.hasChildNodes()) {\n",
       "        toolbar.appendChild(buttonGroup);\n",
       "    }\n",
       "\n",
       "    var fmt_picker = document.createElement('select');\n",
       "    fmt_picker.classList = 'mpl-widget';\n",
       "    toolbar.appendChild(fmt_picker);\n",
       "    this.format_dropdown = fmt_picker;\n",
       "\n",
       "    for (var ind in mpl.extensions) {\n",
       "        var fmt = mpl.extensions[ind];\n",
       "        var option = document.createElement('option');\n",
       "        option.selected = fmt === mpl.default_extension;\n",
       "        option.innerHTML = fmt;\n",
       "        fmt_picker.appendChild(option);\n",
       "    }\n",
       "\n",
       "    var status_bar = document.createElement('span');\n",
       "    status_bar.classList = 'mpl-message';\n",
       "    toolbar.appendChild(status_bar);\n",
       "    this.message = status_bar;\n",
       "};\n",
       "\n",
       "mpl.figure.prototype.request_resize = function (x_pixels, y_pixels) {\n",
       "    // Request matplotlib to resize the figure. Matplotlib will then trigger a resize in the client,\n",
       "    // which will in turn request a refresh of the image.\n",
       "    this.send_message('resize', { width: x_pixels, height: y_pixels });\n",
       "};\n",
       "\n",
       "mpl.figure.prototype.send_message = function (type, properties) {\n",
       "    properties['type'] = type;\n",
       "    properties['figure_id'] = this.id;\n",
       "    this.ws.send(JSON.stringify(properties));\n",
       "};\n",
       "\n",
       "mpl.figure.prototype.send_draw_message = function () {\n",
       "    if (!this.waiting) {\n",
       "        this.waiting = true;\n",
       "        this.ws.send(JSON.stringify({ type: 'draw', figure_id: this.id }));\n",
       "    }\n",
       "};\n",
       "\n",
       "mpl.figure.prototype.handle_save = function (fig, _msg) {\n",
       "    var format_dropdown = fig.format_dropdown;\n",
       "    var format = format_dropdown.options[format_dropdown.selectedIndex].value;\n",
       "    fig.ondownload(fig, format);\n",
       "};\n",
       "\n",
       "mpl.figure.prototype.handle_resize = function (fig, msg) {\n",
       "    var size = msg['size'];\n",
       "    if (size[0] !== fig.canvas.width || size[1] !== fig.canvas.height) {\n",
       "        fig._resize_canvas(size[0], size[1], msg['forward']);\n",
       "        fig.send_message('refresh', {});\n",
       "    }\n",
       "};\n",
       "\n",
       "mpl.figure.prototype.handle_rubberband = function (fig, msg) {\n",
       "    var x0 = msg['x0'] / fig.ratio;\n",
       "    var y0 = (fig.canvas.height - msg['y0']) / fig.ratio;\n",
       "    var x1 = msg['x1'] / fig.ratio;\n",
       "    var y1 = (fig.canvas.height - msg['y1']) / fig.ratio;\n",
       "    x0 = Math.floor(x0) + 0.5;\n",
       "    y0 = Math.floor(y0) + 0.5;\n",
       "    x1 = Math.floor(x1) + 0.5;\n",
       "    y1 = Math.floor(y1) + 0.5;\n",
       "    var min_x = Math.min(x0, x1);\n",
       "    var min_y = Math.min(y0, y1);\n",
       "    var width = Math.abs(x1 - x0);\n",
       "    var height = Math.abs(y1 - y0);\n",
       "\n",
       "    fig.rubberband_context.clearRect(\n",
       "        0,\n",
       "        0,\n",
       "        fig.canvas.width / fig.ratio,\n",
       "        fig.canvas.height / fig.ratio\n",
       "    );\n",
       "\n",
       "    fig.rubberband_context.strokeRect(min_x, min_y, width, height);\n",
       "};\n",
       "\n",
       "mpl.figure.prototype.handle_figure_label = function (fig, msg) {\n",
       "    // Updates the figure title.\n",
       "    fig.header.textContent = msg['label'];\n",
       "};\n",
       "\n",
       "mpl.figure.prototype.handle_cursor = function (fig, msg) {\n",
       "    var cursor = msg['cursor'];\n",
       "    switch (cursor) {\n",
       "        case 0:\n",
       "            cursor = 'pointer';\n",
       "            break;\n",
       "        case 1:\n",
       "            cursor = 'default';\n",
       "            break;\n",
       "        case 2:\n",
       "            cursor = 'crosshair';\n",
       "            break;\n",
       "        case 3:\n",
       "            cursor = 'move';\n",
       "            break;\n",
       "    }\n",
       "    fig.rubberband_canvas.style.cursor = cursor;\n",
       "};\n",
       "\n",
       "mpl.figure.prototype.handle_message = function (fig, msg) {\n",
       "    fig.message.textContent = msg['message'];\n",
       "};\n",
       "\n",
       "mpl.figure.prototype.handle_draw = function (fig, _msg) {\n",
       "    // Request the server to send over a new figure.\n",
       "    fig.send_draw_message();\n",
       "};\n",
       "\n",
       "mpl.figure.prototype.handle_image_mode = function (fig, msg) {\n",
       "    fig.image_mode = msg['mode'];\n",
       "};\n",
       "\n",
       "mpl.figure.prototype.handle_history_buttons = function (fig, msg) {\n",
       "    for (var key in msg) {\n",
       "        if (!(key in fig.buttons)) {\n",
       "            continue;\n",
       "        }\n",
       "        fig.buttons[key].disabled = !msg[key];\n",
       "        fig.buttons[key].setAttribute('aria-disabled', !msg[key]);\n",
       "    }\n",
       "};\n",
       "\n",
       "mpl.figure.prototype.handle_navigate_mode = function (fig, msg) {\n",
       "    if (msg['mode'] === 'PAN') {\n",
       "        fig.buttons['Pan'].classList.add('active');\n",
       "        fig.buttons['Zoom'].classList.remove('active');\n",
       "    } else if (msg['mode'] === 'ZOOM') {\n",
       "        fig.buttons['Pan'].classList.remove('active');\n",
       "        fig.buttons['Zoom'].classList.add('active');\n",
       "    } else {\n",
       "        fig.buttons['Pan'].classList.remove('active');\n",
       "        fig.buttons['Zoom'].classList.remove('active');\n",
       "    }\n",
       "};\n",
       "\n",
       "mpl.figure.prototype.updated_canvas_event = function () {\n",
       "    // Called whenever the canvas gets updated.\n",
       "    this.send_message('ack', {});\n",
       "};\n",
       "\n",
       "// A function to construct a web socket function for onmessage handling.\n",
       "// Called in the figure constructor.\n",
       "mpl.figure.prototype._make_on_message_function = function (fig) {\n",
       "    return function socket_on_message(evt) {\n",
       "        if (evt.data instanceof Blob) {\n",
       "            var img = evt.data;\n",
       "            if (img.type !== 'image/png') {\n",
       "                /* FIXME: We get \"Resource interpreted as Image but\n",
       "                 * transferred with MIME type text/plain:\" errors on\n",
       "                 * Chrome.  But how to set the MIME type?  It doesn't seem\n",
       "                 * to be part of the websocket stream */\n",
       "                img.type = 'image/png';\n",
       "            }\n",
       "\n",
       "            /* Free the memory for the previous frames */\n",
       "            if (fig.imageObj.src) {\n",
       "                (window.URL || window.webkitURL).revokeObjectURL(\n",
       "                    fig.imageObj.src\n",
       "                );\n",
       "            }\n",
       "\n",
       "            fig.imageObj.src = (window.URL || window.webkitURL).createObjectURL(\n",
       "                img\n",
       "            );\n",
       "            fig.updated_canvas_event();\n",
       "            fig.waiting = false;\n",
       "            return;\n",
       "        } else if (\n",
       "            typeof evt.data === 'string' &&\n",
       "            evt.data.slice(0, 21) === 'data:image/png;base64'\n",
       "        ) {\n",
       "            fig.imageObj.src = evt.data;\n",
       "            fig.updated_canvas_event();\n",
       "            fig.waiting = false;\n",
       "            return;\n",
       "        }\n",
       "\n",
       "        var msg = JSON.parse(evt.data);\n",
       "        var msg_type = msg['type'];\n",
       "\n",
       "        // Call the  \"handle_{type}\" callback, which takes\n",
       "        // the figure and JSON message as its only arguments.\n",
       "        try {\n",
       "            var callback = fig['handle_' + msg_type];\n",
       "        } catch (e) {\n",
       "            console.log(\n",
       "                \"No handler for the '\" + msg_type + \"' message type: \",\n",
       "                msg\n",
       "            );\n",
       "            return;\n",
       "        }\n",
       "\n",
       "        if (callback) {\n",
       "            try {\n",
       "                // console.log(\"Handling '\" + msg_type + \"' message: \", msg);\n",
       "                callback(fig, msg);\n",
       "            } catch (e) {\n",
       "                console.log(\n",
       "                    \"Exception inside the 'handler_\" + msg_type + \"' callback:\",\n",
       "                    e,\n",
       "                    e.stack,\n",
       "                    msg\n",
       "                );\n",
       "            }\n",
       "        }\n",
       "    };\n",
       "};\n",
       "\n",
       "// from http://stackoverflow.com/questions/1114465/getting-mouse-location-in-canvas\n",
       "mpl.findpos = function (e) {\n",
       "    //this section is from http://www.quirksmode.org/js/events_properties.html\n",
       "    var targ;\n",
       "    if (!e) {\n",
       "        e = window.event;\n",
       "    }\n",
       "    if (e.target) {\n",
       "        targ = e.target;\n",
       "    } else if (e.srcElement) {\n",
       "        targ = e.srcElement;\n",
       "    }\n",
       "    if (targ.nodeType === 3) {\n",
       "        // defeat Safari bug\n",
       "        targ = targ.parentNode;\n",
       "    }\n",
       "\n",
       "    // pageX,Y are the mouse positions relative to the document\n",
       "    var boundingRect = targ.getBoundingClientRect();\n",
       "    var x = e.pageX - (boundingRect.left + document.body.scrollLeft);\n",
       "    var y = e.pageY - (boundingRect.top + document.body.scrollTop);\n",
       "\n",
       "    return { x: x, y: y };\n",
       "};\n",
       "\n",
       "/*\n",
       " * return a copy of an object with only non-object keys\n",
       " * we need this to avoid circular references\n",
       " * http://stackoverflow.com/a/24161582/3208463\n",
       " */\n",
       "function simpleKeys(original) {\n",
       "    return Object.keys(original).reduce(function (obj, key) {\n",
       "        if (typeof original[key] !== 'object') {\n",
       "            obj[key] = original[key];\n",
       "        }\n",
       "        return obj;\n",
       "    }, {});\n",
       "}\n",
       "\n",
       "mpl.figure.prototype.mouse_event = function (event, name) {\n",
       "    var canvas_pos = mpl.findpos(event);\n",
       "\n",
       "    if (name === 'button_press') {\n",
       "        this.canvas.focus();\n",
       "        this.canvas_div.focus();\n",
       "    }\n",
       "\n",
       "    var x = canvas_pos.x * this.ratio;\n",
       "    var y = canvas_pos.y * this.ratio;\n",
       "\n",
       "    this.send_message(name, {\n",
       "        x: x,\n",
       "        y: y,\n",
       "        button: event.button,\n",
       "        step: event.step,\n",
       "        guiEvent: simpleKeys(event),\n",
       "    });\n",
       "\n",
       "    /* This prevents the web browser from automatically changing to\n",
       "     * the text insertion cursor when the button is pressed.  We want\n",
       "     * to control all of the cursor setting manually through the\n",
       "     * 'cursor' event from matplotlib */\n",
       "    event.preventDefault();\n",
       "    return false;\n",
       "};\n",
       "\n",
       "mpl.figure.prototype._key_event_extra = function (_event, _name) {\n",
       "    // Handle any extra behaviour associated with a key event\n",
       "};\n",
       "\n",
       "mpl.figure.prototype.key_event = function (event, name) {\n",
       "    // Prevent repeat events\n",
       "    if (name === 'key_press') {\n",
       "        if (event.key === this._key) {\n",
       "            return;\n",
       "        } else {\n",
       "            this._key = event.key;\n",
       "        }\n",
       "    }\n",
       "    if (name === 'key_release') {\n",
       "        this._key = null;\n",
       "    }\n",
       "\n",
       "    var value = '';\n",
       "    if (event.ctrlKey && event.key !== 'Control') {\n",
       "        value += 'ctrl+';\n",
       "    }\n",
       "    else if (event.altKey && event.key !== 'Alt') {\n",
       "        value += 'alt+';\n",
       "    }\n",
       "    else if (event.shiftKey && event.key !== 'Shift') {\n",
       "        value += 'shift+';\n",
       "    }\n",
       "\n",
       "    value += 'k' + event.key;\n",
       "\n",
       "    this._key_event_extra(event, name);\n",
       "\n",
       "    this.send_message(name, { key: value, guiEvent: simpleKeys(event) });\n",
       "    return false;\n",
       "};\n",
       "\n",
       "mpl.figure.prototype.toolbar_button_onclick = function (name) {\n",
       "    if (name === 'download') {\n",
       "        this.handle_save(this, null);\n",
       "    } else {\n",
       "        this.send_message('toolbar_button', { name: name });\n",
       "    }\n",
       "};\n",
       "\n",
       "mpl.figure.prototype.toolbar_button_onmouseover = function (tooltip) {\n",
       "    this.message.textContent = tooltip;\n",
       "};\n",
       "\n",
       "///////////////// REMAINING CONTENT GENERATED BY embed_js.py /////////////////\n",
       "// prettier-ignore\n",
       "var _JSXTOOLS_RESIZE_OBSERVER=function(A){var t,i=new WeakMap,n=new WeakMap,a=new WeakMap,r=new WeakMap,o=new Set;function s(e){if(!(this instanceof s))throw new TypeError(\"Constructor requires 'new' operator\");i.set(this,e)}function h(){throw new TypeError(\"Function is not a constructor\")}function c(e,t,i,n){e=0 in arguments?Number(arguments[0]):0,t=1 in arguments?Number(arguments[1]):0,i=2 in arguments?Number(arguments[2]):0,n=3 in arguments?Number(arguments[3]):0,this.right=(this.x=this.left=e)+(this.width=i),this.bottom=(this.y=this.top=t)+(this.height=n),Object.freeze(this)}function d(){t=requestAnimationFrame(d);var s=new WeakMap,p=new Set;o.forEach((function(t){r.get(t).forEach((function(i){var r=t instanceof window.SVGElement,o=a.get(t),d=r?0:parseFloat(o.paddingTop),f=r?0:parseFloat(o.paddingRight),l=r?0:parseFloat(o.paddingBottom),u=r?0:parseFloat(o.paddingLeft),g=r?0:parseFloat(o.borderTopWidth),m=r?0:parseFloat(o.borderRightWidth),w=r?0:parseFloat(o.borderBottomWidth),b=u+f,F=d+l,v=(r?0:parseFloat(o.borderLeftWidth))+m,W=g+w,y=r?0:t.offsetHeight-W-t.clientHeight,E=r?0:t.offsetWidth-v-t.clientWidth,R=b+v,z=F+W,M=r?t.width:parseFloat(o.width)-R-E,O=r?t.height:parseFloat(o.height)-z-y;if(n.has(t)){var k=n.get(t);if(k[0]===M&&k[1]===O)return}n.set(t,[M,O]);var S=Object.create(h.prototype);S.target=t,S.contentRect=new c(u,d,M,O),s.has(i)||(s.set(i,[]),p.add(i)),s.get(i).push(S)}))})),p.forEach((function(e){i.get(e).call(e,s.get(e),e)}))}return s.prototype.observe=function(i){if(i instanceof window.Element){r.has(i)||(r.set(i,new Set),o.add(i),a.set(i,window.getComputedStyle(i)));var n=r.get(i);n.has(this)||n.add(this),cancelAnimationFrame(t),t=requestAnimationFrame(d)}},s.prototype.unobserve=function(i){if(i instanceof window.Element&&r.has(i)){var n=r.get(i);n.has(this)&&(n.delete(this),n.size||(r.delete(i),o.delete(i))),n.size||r.delete(i),o.size||cancelAnimationFrame(t)}},A.DOMRectReadOnly=c,A.ResizeObserver=s,A.ResizeObserverEntry=h,A}; // eslint-disable-line\n",
       "mpl.toolbar_items = [[\"Home\", \"Reset original view\", \"fa fa-home icon-home\", \"home\"], [\"Back\", \"Back to previous view\", \"fa fa-arrow-left icon-arrow-left\", \"back\"], [\"Forward\", \"Forward to next view\", \"fa fa-arrow-right icon-arrow-right\", \"forward\"], [\"\", \"\", \"\", \"\"], [\"Pan\", \"Left button pans, Right button zooms\\nx/y fixes axis, CTRL fixes aspect\", \"fa fa-arrows icon-move\", \"pan\"], [\"Zoom\", \"Zoom to rectangle\\nx/y fixes axis, CTRL fixes aspect\", \"fa fa-square-o icon-check-empty\", \"zoom\"], [\"\", \"\", \"\", \"\"], [\"Download\", \"Download plot\", \"fa fa-floppy-o icon-save\", \"download\"]];\n",
       "\n",
       "mpl.extensions = [\"eps\", \"jpeg\", \"pgf\", \"pdf\", \"png\", \"ps\", \"raw\", \"svg\", \"tif\"];\n",
       "\n",
       "mpl.default_extension = \"png\";/* global mpl */\n",
       "\n",
       "var comm_websocket_adapter = function (comm) {\n",
       "    // Create a \"websocket\"-like object which calls the given IPython comm\n",
       "    // object with the appropriate methods. Currently this is a non binary\n",
       "    // socket, so there is still some room for performance tuning.\n",
       "    var ws = {};\n",
       "\n",
       "    ws.binaryType = comm.kernel.ws.binaryType;\n",
       "    ws.readyState = comm.kernel.ws.readyState;\n",
       "    function updateReadyState(_event) {\n",
       "        if (comm.kernel.ws) {\n",
       "            ws.readyState = comm.kernel.ws.readyState;\n",
       "        } else {\n",
       "            ws.readyState = 3; // Closed state.\n",
       "        }\n",
       "    }\n",
       "    comm.kernel.ws.addEventListener('open', updateReadyState);\n",
       "    comm.kernel.ws.addEventListener('close', updateReadyState);\n",
       "    comm.kernel.ws.addEventListener('error', updateReadyState);\n",
       "\n",
       "    ws.close = function () {\n",
       "        comm.close();\n",
       "    };\n",
       "    ws.send = function (m) {\n",
       "        //console.log('sending', m);\n",
       "        comm.send(m);\n",
       "    };\n",
       "    // Register the callback with on_msg.\n",
       "    comm.on_msg(function (msg) {\n",
       "        //console.log('receiving', msg['content']['data'], msg);\n",
       "        var data = msg['content']['data'];\n",
       "        if (data['blob'] !== undefined) {\n",
       "            data = {\n",
       "                data: new Blob(msg['buffers'], { type: data['blob'] }),\n",
       "            };\n",
       "        }\n",
       "        // Pass the mpl event to the overridden (by mpl) onmessage function.\n",
       "        ws.onmessage(data);\n",
       "    });\n",
       "    return ws;\n",
       "};\n",
       "\n",
       "mpl.mpl_figure_comm = function (comm, msg) {\n",
       "    // This is the function which gets called when the mpl process\n",
       "    // starts-up an IPython Comm through the \"matplotlib\" channel.\n",
       "\n",
       "    var id = msg.content.data.id;\n",
       "    // Get hold of the div created by the display call when the Comm\n",
       "    // socket was opened in Python.\n",
       "    var element = document.getElementById(id);\n",
       "    var ws_proxy = comm_websocket_adapter(comm);\n",
       "\n",
       "    function ondownload(figure, _format) {\n",
       "        window.open(figure.canvas.toDataURL());\n",
       "    }\n",
       "\n",
       "    var fig = new mpl.figure(id, ws_proxy, ondownload, element);\n",
       "\n",
       "    // Call onopen now - mpl needs it, as it is assuming we've passed it a real\n",
       "    // web socket which is closed, not our websocket->open comm proxy.\n",
       "    ws_proxy.onopen();\n",
       "\n",
       "    fig.parent_element = element;\n",
       "    fig.cell_info = mpl.find_output_cell(\"<div id='\" + id + \"'></div>\");\n",
       "    if (!fig.cell_info) {\n",
       "        console.error('Failed to find cell for figure', id, fig);\n",
       "        return;\n",
       "    }\n",
       "    fig.cell_info[0].output_area.element.on(\n",
       "        'cleared',\n",
       "        { fig: fig },\n",
       "        fig._remove_fig_handler\n",
       "    );\n",
       "};\n",
       "\n",
       "mpl.figure.prototype.handle_close = function (fig, msg) {\n",
       "    var width = fig.canvas.width / fig.ratio;\n",
       "    fig.cell_info[0].output_area.element.off(\n",
       "        'cleared',\n",
       "        fig._remove_fig_handler\n",
       "    );\n",
       "    fig.resizeObserverInstance.unobserve(fig.canvas_div);\n",
       "\n",
       "    // Update the output cell to use the data from the current canvas.\n",
       "    fig.push_to_output();\n",
       "    var dataURL = fig.canvas.toDataURL();\n",
       "    // Re-enable the keyboard manager in IPython - without this line, in FF,\n",
       "    // the notebook keyboard shortcuts fail.\n",
       "    IPython.keyboard_manager.enable();\n",
       "    fig.parent_element.innerHTML =\n",
       "        '<img src=\"' + dataURL + '\" width=\"' + width + '\">';\n",
       "    fig.close_ws(fig, msg);\n",
       "};\n",
       "\n",
       "mpl.figure.prototype.close_ws = function (fig, msg) {\n",
       "    fig.send_message('closing', msg);\n",
       "    // fig.ws.close()\n",
       "};\n",
       "\n",
       "mpl.figure.prototype.push_to_output = function (_remove_interactive) {\n",
       "    // Turn the data on the canvas into data in the output cell.\n",
       "    var width = this.canvas.width / this.ratio;\n",
       "    var dataURL = this.canvas.toDataURL();\n",
       "    this.cell_info[1]['text/html'] =\n",
       "        '<img src=\"' + dataURL + '\" width=\"' + width + '\">';\n",
       "};\n",
       "\n",
       "mpl.figure.prototype.updated_canvas_event = function () {\n",
       "    // Tell IPython that the notebook contents must change.\n",
       "    IPython.notebook.set_dirty(true);\n",
       "    this.send_message('ack', {});\n",
       "    var fig = this;\n",
       "    // Wait a second, then push the new image to the DOM so\n",
       "    // that it is saved nicely (might be nice to debounce this).\n",
       "    setTimeout(function () {\n",
       "        fig.push_to_output();\n",
       "    }, 1000);\n",
       "};\n",
       "\n",
       "mpl.figure.prototype._init_toolbar = function () {\n",
       "    var fig = this;\n",
       "\n",
       "    var toolbar = document.createElement('div');\n",
       "    toolbar.classList = 'btn-toolbar';\n",
       "    this.root.appendChild(toolbar);\n",
       "\n",
       "    function on_click_closure(name) {\n",
       "        return function (_event) {\n",
       "            return fig.toolbar_button_onclick(name);\n",
       "        };\n",
       "    }\n",
       "\n",
       "    function on_mouseover_closure(tooltip) {\n",
       "        return function (event) {\n",
       "            if (!event.currentTarget.disabled) {\n",
       "                return fig.toolbar_button_onmouseover(tooltip);\n",
       "            }\n",
       "        };\n",
       "    }\n",
       "\n",
       "    fig.buttons = {};\n",
       "    var buttonGroup = document.createElement('div');\n",
       "    buttonGroup.classList = 'btn-group';\n",
       "    var button;\n",
       "    for (var toolbar_ind in mpl.toolbar_items) {\n",
       "        var name = mpl.toolbar_items[toolbar_ind][0];\n",
       "        var tooltip = mpl.toolbar_items[toolbar_ind][1];\n",
       "        var image = mpl.toolbar_items[toolbar_ind][2];\n",
       "        var method_name = mpl.toolbar_items[toolbar_ind][3];\n",
       "\n",
       "        if (!name) {\n",
       "            /* Instead of a spacer, we start a new button group. */\n",
       "            if (buttonGroup.hasChildNodes()) {\n",
       "                toolbar.appendChild(buttonGroup);\n",
       "            }\n",
       "            buttonGroup = document.createElement('div');\n",
       "            buttonGroup.classList = 'btn-group';\n",
       "            continue;\n",
       "        }\n",
       "\n",
       "        button = fig.buttons[name] = document.createElement('button');\n",
       "        button.classList = 'btn btn-default';\n",
       "        button.href = '#';\n",
       "        button.title = name;\n",
       "        button.innerHTML = '<i class=\"fa ' + image + ' fa-lg\"></i>';\n",
       "        button.addEventListener('click', on_click_closure(method_name));\n",
       "        button.addEventListener('mouseover', on_mouseover_closure(tooltip));\n",
       "        buttonGroup.appendChild(button);\n",
       "    }\n",
       "\n",
       "    if (buttonGroup.hasChildNodes()) {\n",
       "        toolbar.appendChild(buttonGroup);\n",
       "    }\n",
       "\n",
       "    // Add the status bar.\n",
       "    var status_bar = document.createElement('span');\n",
       "    status_bar.classList = 'mpl-message pull-right';\n",
       "    toolbar.appendChild(status_bar);\n",
       "    this.message = status_bar;\n",
       "\n",
       "    // Add the close button to the window.\n",
       "    var buttongrp = document.createElement('div');\n",
       "    buttongrp.classList = 'btn-group inline pull-right';\n",
       "    button = document.createElement('button');\n",
       "    button.classList = 'btn btn-mini btn-primary';\n",
       "    button.href = '#';\n",
       "    button.title = 'Stop Interaction';\n",
       "    button.innerHTML = '<i class=\"fa fa-power-off icon-remove icon-large\"></i>';\n",
       "    button.addEventListener('click', function (_evt) {\n",
       "        fig.handle_close(fig, {});\n",
       "    });\n",
       "    button.addEventListener(\n",
       "        'mouseover',\n",
       "        on_mouseover_closure('Stop Interaction')\n",
       "    );\n",
       "    buttongrp.appendChild(button);\n",
       "    var titlebar = this.root.querySelector('.ui-dialog-titlebar');\n",
       "    titlebar.insertBefore(buttongrp, titlebar.firstChild);\n",
       "};\n",
       "\n",
       "mpl.figure.prototype._remove_fig_handler = function (event) {\n",
       "    var fig = event.data.fig;\n",
       "    if (event.target !== this) {\n",
       "        // Ignore bubbled events from children.\n",
       "        return;\n",
       "    }\n",
       "    fig.close_ws(fig, {});\n",
       "};\n",
       "\n",
       "mpl.figure.prototype._root_extra_style = function (el) {\n",
       "    el.style.boxSizing = 'content-box'; // override notebook setting of border-box.\n",
       "};\n",
       "\n",
       "mpl.figure.prototype._canvas_extra_style = function (el) {\n",
       "    // this is important to make the div 'focusable\n",
       "    el.setAttribute('tabindex', 0);\n",
       "    // reach out to IPython and tell the keyboard manager to turn it's self\n",
       "    // off when our div gets focus\n",
       "\n",
       "    // location in version 3\n",
       "    if (IPython.notebook.keyboard_manager) {\n",
       "        IPython.notebook.keyboard_manager.register_events(el);\n",
       "    } else {\n",
       "        // location in version 2\n",
       "        IPython.keyboard_manager.register_events(el);\n",
       "    }\n",
       "};\n",
       "\n",
       "mpl.figure.prototype._key_event_extra = function (event, _name) {\n",
       "    var manager = IPython.notebook.keyboard_manager;\n",
       "    if (!manager) {\n",
       "        manager = IPython.keyboard_manager;\n",
       "    }\n",
       "\n",
       "    // Check for shift+enter\n",
       "    if (event.shiftKey && event.which === 13) {\n",
       "        this.canvas_div.blur();\n",
       "        // select the cell after this one\n",
       "        var index = IPython.notebook.find_cell_index(this.cell_info[0]);\n",
       "        IPython.notebook.select(index + 1);\n",
       "    }\n",
       "};\n",
       "\n",
       "mpl.figure.prototype.handle_save = function (fig, _msg) {\n",
       "    fig.ondownload(fig, null);\n",
       "};\n",
       "\n",
       "mpl.find_output_cell = function (html_output) {\n",
       "    // Return the cell and output element which can be found *uniquely* in the notebook.\n",
       "    // Note - this is a bit hacky, but it is done because the \"notebook_saving.Notebook\"\n",
       "    // IPython event is triggered only after the cells have been serialised, which for\n",
       "    // our purposes (turning an active figure into a static one), is too late.\n",
       "    var cells = IPython.notebook.get_cells();\n",
       "    var ncells = cells.length;\n",
       "    for (var i = 0; i < ncells; i++) {\n",
       "        var cell = cells[i];\n",
       "        if (cell.cell_type === 'code') {\n",
       "            for (var j = 0; j < cell.output_area.outputs.length; j++) {\n",
       "                var data = cell.output_area.outputs[j];\n",
       "                if (data.data) {\n",
       "                    // IPython >= 3 moved mimebundle to data attribute of output\n",
       "                    data = data.data;\n",
       "                }\n",
       "                if (data['text/html'] === html_output) {\n",
       "                    return [cell, data, j];\n",
       "                }\n",
       "            }\n",
       "        }\n",
       "    }\n",
       "};\n",
       "\n",
       "// Register the function which deals with the matplotlib target/channel.\n",
       "// The kernel may be null if the page has been refreshed.\n",
       "if (IPython.notebook.kernel !== null) {\n",
       "    IPython.notebook.kernel.comm_manager.register_target(\n",
       "        'matplotlib',\n",
       "        mpl.mpl_figure_comm\n",
       "    );\n",
       "}\n"
      ],
      "text/plain": [
       "<IPython.core.display.Javascript object>"
      ]
     },
     "metadata": {},
     "output_type": "display_data"
    },
    {
     "data": {
      "text/html": [
       "<img src=\"data:image/png;base64,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\" width=\"504\">"
      ],
      "text/plain": [
       "<IPython.core.display.HTML object>"
      ]
     },
     "metadata": {},
     "output_type": "display_data"
    }
   ],
   "source": [
    "%matplotlib nbagg\n",
    "ax = ut.plotSetup3d(-7, 7, -7, 7, -10, 10, figsize = (7, 7))\n",
    "v = [4.0, 4.0, 2.0]\n",
    "u = [-4.0, 3.0, 1.0]\n",
    "# plotting the span of v\n",
    "ut.plotSpan3d(ax,u,v,'Green')\n",
    "npts = 50\n",
    "ax.plot(coords[0], coords[1], 'ro', zs = coords[2], markersize=6);"
   ]
  },
  {
   "cell_type": "markdown",
   "metadata": {
    "hide_input": true,
    "slideshow": {
     "slide_type": "fragment"
    }
   },
   "source": [
    "This example shows that the linear model for multiple regression has the same form as the model for the simple regression in the earlier examples."
   ]
  },
  {
   "cell_type": "markdown",
   "metadata": {
    "slideshow": {
     "slide_type": "fragment"
    }
   },
   "source": [
    "We can see that there the general principle is the same across all the different kinds of linear models."
   ]
  },
  {
   "cell_type": "markdown",
   "metadata": {
    "slideshow": {
     "slide_type": "fragment"
    }
   },
   "source": [
    "Once $X$ is defined properly, the normal equations for $\\mathbf{\\beta}$ have the same matrix form, no matter how many variables are involved.\n",
    "\n",
    "Thus, for any linear model where $X^TX$ is invertible, the least squares estimate $\\hat{\\mathbf{\\beta}}$ is given by $(X^TX)^{-1}X^T\\mathbf{y}$."
   ]
  },
  {
   "cell_type": "markdown",
   "metadata": {
    "slideshow": {
     "slide_type": "slide"
    }
   },
   "source": [
    "## Measuring the fit of a regression model: $R^2$"
   ]
  },
  {
   "cell_type": "markdown",
   "metadata": {
    "slideshow": {
     "slide_type": "fragment"
    }
   },
   "source": [
    "Given any $X$ and $\\mathbf{y}$, the above algorithm will produce an output $\\hat{\\beta}$.\n",
    "\n",
    "But how do we know whether the data is in fact well described by the model?"
   ]
  },
  {
   "cell_type": "markdown",
   "metadata": {
    "slideshow": {
     "slide_type": "fragment"
    }
   },
   "source": [
    "The most common measure of fit is $R^2$.\n",
    "\n",
    "$R^2$ measures the __fraction of the variance__ of $\\mathbf{y}$ that can be explained by the model $X\\hat{\\beta}$."
   ]
  },
  {
   "cell_type": "markdown",
   "metadata": {
    "slideshow": {
     "slide_type": "fragment"
    }
   },
   "source": [
    "The variance of $\\mathbf{y}$ is \n",
    "\n",
    "$$\\text{Var}(\\mathbf{y}) =\\frac{1}{n} \\sum_{i=1}^n \\left(y_i-\\overline{y}\\right)^2$$\n",
    "\n",
    "where $\\overline{y}=\\frac{1}{n}\\sum_{i=1}^ny_i$."
   ]
  },
  {
   "cell_type": "markdown",
   "metadata": {
    "slideshow": {
     "slide_type": "fragment"
    }
   },
   "source": [
    "For any given $n$, we can equally work with just \n",
    "$$\\sum_{i=1}^n \\left(y_i-\\overline{y}\\right)^2$$\n",
    "which is called the __Total Sum of Squares__ (TSS)."
   ]
  },
  {
   "cell_type": "markdown",
   "metadata": {
    "slideshow": {
     "slide_type": "fragment"
    }
   },
   "source": [
    "Now to measure the quality of fit of a model, we break TSS down into two components. \n",
    "\n",
    "For any given $\\mathbf{x}_i$, the prediction made by the model is $\\hat{y_i} = \\mathbf{x}_i^T\\beta$.\n",
    "\n",
    "Therefore, \n",
    "* the residual $\\epsilon$ is $y_i - \\hat{y_i}$, and \n",
    "* the part that the model \"explains\" is $\\hat{y_i} - \\overline{y_i}.$"
   ]
  },
  {
   "cell_type": "markdown",
   "metadata": {
    "slideshow": {
     "slide_type": "fragment"
    }
   },
   "source": [
    "Se we define Residual Sum of Squares (RSS) as:\n",
    "\n",
    "$$\\text{RSS} = \\sum_{i=1}^n \\left(y_i-\\hat{y_i}\\right)^2,$$\n",
    "\n",
    "and Explained Sum of Squares (ESS) as:\n",
    "\n",
    "$$\\text{ESS} = \\sum_{i=1}^n \\left(\\hat{y_i}-\\overline{y}\\right)^2,$$"
   ]
  },
  {
   "cell_type": "markdown",
   "metadata": {
    "slideshow": {
     "slide_type": "fragment"
    }
   },
   "source": [
    "Then it turns out that the total sum of squares is exactly equal to the sum of squares of the residuals plus the sum of squares of the explained part.\n",
    "\n",
    "In other words:\n",
    "\n",
    "$$\\text{TSS} = \\text{RSS} + \\text{ESS}$$"
   ]
  },
  {
   "cell_type": "markdown",
   "metadata": {
    "slideshow": {
     "slide_type": "fragment"
    }
   },
   "source": [
    "Now, a good fit is one in which the model explains a large part of the variance of $\\mathbf{y}$.  "
   ]
  },
  {
   "cell_type": "markdown",
   "metadata": {
    "slideshow": {
     "slide_type": "fragment"
    }
   },
   "source": [
    "So the measure of fit $R^2$ is defined as:\n",
    "\n",
    "\\begin{eqnarray}\n",
    "R^2 & = & \\frac{\\text{ESS}}{\\text{TSS}} = 1-\\frac{\\text{RSS}}{\\text{TSS}}\n",
    "\\end{eqnarray}"
   ]
  },
  {
   "cell_type": "markdown",
   "metadata": {
    "slideshow": {
     "slide_type": "fragment"
    }
   },
   "source": [
    "As a result, $0\\leq R^2\\leq 1$.\n",
    "\n",
    "The closer the value of $R^2$ is to $1$ the better the fit of the regression:\n",
    "* small values of RSS imply that the residuals are small and therefore we have a better fit."
   ]
  },
  {
   "cell_type": "markdown",
   "metadata": {},
   "source": [
    "$R^2$ is called the __coefficient of determination.__  \n",
    "\n",
    "It tells us \"how well does the model predict the data?\""
   ]
  },
  {
   "cell_type": "markdown",
   "metadata": {},
   "source": [
    "__WARNING -- WARNING -- WARNING__\n",
    "\n",
    "Do __not__ confuse $R^2$ with Pearson's $r$, which is the __correlation coefficient.__\n",
    "\n",
    "(To make matters worse, sometimes people talk about $r^2$... very confusing!)\n",
    "\n",
    "The correlation coefficient tells us whether two variables are __correlated__.   \n",
    "\n",
    "However, just because two variables are correlated does not mean that one is a good __predictor__ of the other!\n",
    "\n",
    "To compare ground truth with predictions, we always use $R^2$."
   ]
  },
  {
   "cell_type": "markdown",
   "metadata": {
    "slideshow": {
     "slide_type": "slide"
    }
   },
   "source": [
    "## OLS in Practice"
   ]
  },
  {
   "cell_type": "markdown",
   "metadata": {
    "slideshow": {
     "slide_type": "fragment"
    }
   },
   "source": [
    "First, we'll look at a test case on synthetic data."
   ]
  },
  {
   "cell_type": "code",
   "execution_count": 15,
   "metadata": {
    "slideshow": {
     "slide_type": "fragment"
    }
   },
   "outputs": [],
   "source": [
    "from sklearn import datasets\n",
    "X, y = datasets.make_regression(n_samples=100, n_features=20, n_informative=5, bias=0.1, noise=30, random_state=1)"
   ]
  },
  {
   "cell_type": "code",
   "execution_count": 16,
   "metadata": {
    "slideshow": {
     "slide_type": "fragment"
    }
   },
   "outputs": [
    {
     "name": "stdout",
     "output_type": "stream",
     "text": [
      "                                 OLS Regression Results                                \n",
      "=======================================================================================\n",
      "Dep. Variable:                      y   R-squared (uncentered):                   0.969\n",
      "Model:                            OLS   Adj. R-squared (uncentered):              0.961\n",
      "Method:                 Least Squares   F-statistic:                              123.8\n",
      "Date:                Wed, 27 Oct 2021   Prob (F-statistic):                    1.03e-51\n",
      "Time:                        11:51:04   Log-Likelihood:                         -468.30\n",
      "No. Observations:                 100   AIC:                                      976.6\n",
      "Df Residuals:                      80   BIC:                                      1029.\n",
      "Df Model:                          20                                                  \n",
      "Covariance Type:            nonrobust                                                  \n",
      "==============================================================================\n",
      "                 coef    std err          t      P>|t|      [0.025      0.975]\n",
      "------------------------------------------------------------------------------\n",
      "x1            12.5673      3.471      3.620      0.001       5.659      19.476\n",
      "x2            -3.8321      2.818     -1.360      0.178      -9.440       1.776\n",
      "x3            -2.4197      3.466     -0.698      0.487      -9.316       4.477\n",
      "x4             2.0143      3.086      0.653      0.516      -4.127       8.155\n",
      "x5            -2.6256      3.445     -0.762      0.448      -9.481       4.230\n",
      "x6             0.7894      3.159      0.250      0.803      -5.497       7.076\n",
      "x7            -3.0684      3.595     -0.853      0.396     -10.224       4.087\n",
      "x8            90.1383      3.211     28.068      0.000      83.747      96.529\n",
      "x9            -0.0133      3.400     -0.004      0.997      -6.779       6.752\n",
      "x10           15.2675      3.248      4.701      0.000       8.804      21.731\n",
      "x11           -0.2247      3.339     -0.067      0.947      -6.869       6.419\n",
      "x12            0.0773      3.546      0.022      0.983      -6.979       7.133\n",
      "x13           -0.2452      3.250     -0.075      0.940      -6.712       6.222\n",
      "x14           90.0179      3.544     25.402      0.000      82.966      97.070\n",
      "x15            1.6684      3.727      0.448      0.656      -5.748       9.085\n",
      "x16            4.3945      2.742      1.603      0.113      -1.062       9.851\n",
      "x17            8.7918      3.399      2.587      0.012       2.028      15.556\n",
      "x18           73.3771      3.425     21.426      0.000      66.562      80.193\n",
      "x19           -1.9139      3.515     -0.545      0.588      -8.908       5.080\n",
      "x20           -1.3206      3.284     -0.402      0.689      -7.855       5.214\n",
      "==============================================================================\n",
      "Omnibus:                        5.248   Durbin-Watson:                   2.018\n",
      "Prob(Omnibus):                  0.073   Jarque-Bera (JB):                4.580\n",
      "Skew:                           0.467   Prob(JB):                        0.101\n",
      "Kurtosis:                       3.475   Cond. No.                         2.53\n",
      "==============================================================================\n",
      "\n",
      "Notes:\n",
      "[1] R² is computed without centering (uncentered) since the model does not contain a constant.\n",
      "[2] Standard Errors assume that the covariance matrix of the errors is correctly specified.\n"
     ]
    }
   ],
   "source": [
    "model = sm.OLS(y, X)\n",
    "results = model.fit()\n",
    "print(results.summary())"
   ]
  },
  {
   "cell_type": "markdown",
   "metadata": {
    "slideshow": {
     "slide_type": "fragment"
    }
   },
   "source": [
    "The $R^2$ value is very good.   We can see that the linear model does a very good job of predicting the observations $y_i$.\n",
    "\n",
    "However, some of the independent variables may not contribute to the accuracy of the prediction. "
   ]
  },
  {
   "cell_type": "code",
   "execution_count": 34,
   "metadata": {
    "hide_input": true,
    "slideshow": {
     "slide_type": "fragment"
    },
    "tags": [
     "hide-input"
    ]
   },
   "outputs": [
    {
     "data": {
      "application/javascript": [
       "/* Put everything inside the global mpl namespace */\n",
       "/* global mpl */\n",
       "window.mpl = {};\n",
       "\n",
       "mpl.get_websocket_type = function () {\n",
       "    if (typeof WebSocket !== 'undefined') {\n",
       "        return WebSocket;\n",
       "    } else if (typeof MozWebSocket !== 'undefined') {\n",
       "        return MozWebSocket;\n",
       "    } else {\n",
       "        alert(\n",
       "            'Your browser does not have WebSocket support. ' +\n",
       "                'Please try Chrome, Safari or Firefox ≥ 6. ' +\n",
       "                'Firefox 4 and 5 are also supported but you ' +\n",
       "                'have to enable WebSockets in about:config.'\n",
       "        );\n",
       "    }\n",
       "};\n",
       "\n",
       "mpl.figure = function (figure_id, websocket, ondownload, parent_element) {\n",
       "    this.id = figure_id;\n",
       "\n",
       "    this.ws = websocket;\n",
       "\n",
       "    this.supports_binary = this.ws.binaryType !== undefined;\n",
       "\n",
       "    if (!this.supports_binary) {\n",
       "        var warnings = document.getElementById('mpl-warnings');\n",
       "        if (warnings) {\n",
       "            warnings.style.display = 'block';\n",
       "            warnings.textContent =\n",
       "                'This browser does not support binary websocket messages. ' +\n",
       "                'Performance may be slow.';\n",
       "        }\n",
       "    }\n",
       "\n",
       "    this.imageObj = new Image();\n",
       "\n",
       "    this.context = undefined;\n",
       "    this.message = undefined;\n",
       "    this.canvas = undefined;\n",
       "    this.rubberband_canvas = undefined;\n",
       "    this.rubberband_context = undefined;\n",
       "    this.format_dropdown = undefined;\n",
       "\n",
       "    this.image_mode = 'full';\n",
       "\n",
       "    this.root = document.createElement('div');\n",
       "    this.root.setAttribute('style', 'display: inline-block');\n",
       "    this._root_extra_style(this.root);\n",
       "\n",
       "    parent_element.appendChild(this.root);\n",
       "\n",
       "    this._init_header(this);\n",
       "    this._init_canvas(this);\n",
       "    this._init_toolbar(this);\n",
       "\n",
       "    var fig = this;\n",
       "\n",
       "    this.waiting = false;\n",
       "\n",
       "    this.ws.onopen = function () {\n",
       "        fig.send_message('supports_binary', { value: fig.supports_binary });\n",
       "        fig.send_message('send_image_mode', {});\n",
       "        if (fig.ratio !== 1) {\n",
       "            fig.send_message('set_dpi_ratio', { dpi_ratio: fig.ratio });\n",
       "        }\n",
       "        fig.send_message('refresh', {});\n",
       "    };\n",
       "\n",
       "    this.imageObj.onload = function () {\n",
       "        if (fig.image_mode === 'full') {\n",
       "            // Full images could contain transparency (where diff images\n",
       "            // almost always do), so we need to clear the canvas so that\n",
       "            // there is no ghosting.\n",
       "            fig.context.clearRect(0, 0, fig.canvas.width, fig.canvas.height);\n",
       "        }\n",
       "        fig.context.drawImage(fig.imageObj, 0, 0);\n",
       "    };\n",
       "\n",
       "    this.imageObj.onunload = function () {\n",
       "        fig.ws.close();\n",
       "    };\n",
       "\n",
       "    this.ws.onmessage = this._make_on_message_function(this);\n",
       "\n",
       "    this.ondownload = ondownload;\n",
       "};\n",
       "\n",
       "mpl.figure.prototype._init_header = function () {\n",
       "    var titlebar = document.createElement('div');\n",
       "    titlebar.classList =\n",
       "        'ui-dialog-titlebar ui-widget-header ui-corner-all ui-helper-clearfix';\n",
       "    var titletext = document.createElement('div');\n",
       "    titletext.classList = 'ui-dialog-title';\n",
       "    titletext.setAttribute(\n",
       "        'style',\n",
       "        'width: 100%; text-align: center; padding: 3px;'\n",
       "    );\n",
       "    titlebar.appendChild(titletext);\n",
       "    this.root.appendChild(titlebar);\n",
       "    this.header = titletext;\n",
       "};\n",
       "\n",
       "mpl.figure.prototype._canvas_extra_style = function (_canvas_div) {};\n",
       "\n",
       "mpl.figure.prototype._root_extra_style = function (_canvas_div) {};\n",
       "\n",
       "mpl.figure.prototype._init_canvas = function () {\n",
       "    var fig = this;\n",
       "\n",
       "    var canvas_div = (this.canvas_div = document.createElement('div'));\n",
       "    canvas_div.setAttribute(\n",
       "        'style',\n",
       "        'border: 1px solid #ddd;' +\n",
       "            'box-sizing: content-box;' +\n",
       "            'clear: both;' +\n",
       "            'min-height: 1px;' +\n",
       "            'min-width: 1px;' +\n",
       "            'outline: 0;' +\n",
       "            'overflow: hidden;' +\n",
       "            'position: relative;' +\n",
       "            'resize: both;'\n",
       "    );\n",
       "\n",
       "    function on_keyboard_event_closure(name) {\n",
       "        return function (event) {\n",
       "            return fig.key_event(event, name);\n",
       "        };\n",
       "    }\n",
       "\n",
       "    canvas_div.addEventListener(\n",
       "        'keydown',\n",
       "        on_keyboard_event_closure('key_press')\n",
       "    );\n",
       "    canvas_div.addEventListener(\n",
       "        'keyup',\n",
       "        on_keyboard_event_closure('key_release')\n",
       "    );\n",
       "\n",
       "    this._canvas_extra_style(canvas_div);\n",
       "    this.root.appendChild(canvas_div);\n",
       "\n",
       "    var canvas = (this.canvas = document.createElement('canvas'));\n",
       "    canvas.classList.add('mpl-canvas');\n",
       "    canvas.setAttribute('style', 'box-sizing: content-box;');\n",
       "\n",
       "    this.context = canvas.getContext('2d');\n",
       "\n",
       "    var backingStore =\n",
       "        this.context.backingStorePixelRatio ||\n",
       "        this.context.webkitBackingStorePixelRatio ||\n",
       "        this.context.mozBackingStorePixelRatio ||\n",
       "        this.context.msBackingStorePixelRatio ||\n",
       "        this.context.oBackingStorePixelRatio ||\n",
       "        this.context.backingStorePixelRatio ||\n",
       "        1;\n",
       "\n",
       "    this.ratio = (window.devicePixelRatio || 1) / backingStore;\n",
       "\n",
       "    var rubberband_canvas = (this.rubberband_canvas = document.createElement(\n",
       "        'canvas'\n",
       "    ));\n",
       "    rubberband_canvas.setAttribute(\n",
       "        'style',\n",
       "        'box-sizing: content-box; position: absolute; left: 0; top: 0; z-index: 1;'\n",
       "    );\n",
       "\n",
       "    // Apply a ponyfill if ResizeObserver is not implemented by browser.\n",
       "    if (this.ResizeObserver === undefined) {\n",
       "        if (window.ResizeObserver !== undefined) {\n",
       "            this.ResizeObserver = window.ResizeObserver;\n",
       "        } else {\n",
       "            var obs = _JSXTOOLS_RESIZE_OBSERVER({});\n",
       "            this.ResizeObserver = obs.ResizeObserver;\n",
       "        }\n",
       "    }\n",
       "\n",
       "    this.resizeObserverInstance = new this.ResizeObserver(function (entries) {\n",
       "        var nentries = entries.length;\n",
       "        for (var i = 0; i < nentries; i++) {\n",
       "            var entry = entries[i];\n",
       "            var width, height;\n",
       "            if (entry.contentBoxSize) {\n",
       "                if (entry.contentBoxSize instanceof Array) {\n",
       "                    // Chrome 84 implements new version of spec.\n",
       "                    width = entry.contentBoxSize[0].inlineSize;\n",
       "                    height = entry.contentBoxSize[0].blockSize;\n",
       "                } else {\n",
       "                    // Firefox implements old version of spec.\n",
       "                    width = entry.contentBoxSize.inlineSize;\n",
       "                    height = entry.contentBoxSize.blockSize;\n",
       "                }\n",
       "            } else {\n",
       "                // Chrome <84 implements even older version of spec.\n",
       "                width = entry.contentRect.width;\n",
       "                height = entry.contentRect.height;\n",
       "            }\n",
       "\n",
       "            // Keep the size of the canvas and rubber band canvas in sync with\n",
       "            // the canvas container.\n",
       "            if (entry.devicePixelContentBoxSize) {\n",
       "                // Chrome 84 implements new version of spec.\n",
       "                canvas.setAttribute(\n",
       "                    'width',\n",
       "                    entry.devicePixelContentBoxSize[0].inlineSize\n",
       "                );\n",
       "                canvas.setAttribute(\n",
       "                    'height',\n",
       "                    entry.devicePixelContentBoxSize[0].blockSize\n",
       "                );\n",
       "            } else {\n",
       "                canvas.setAttribute('width', width * fig.ratio);\n",
       "                canvas.setAttribute('height', height * fig.ratio);\n",
       "            }\n",
       "            canvas.setAttribute(\n",
       "                'style',\n",
       "                'width: ' + width + 'px; height: ' + height + 'px;'\n",
       "            );\n",
       "\n",
       "            rubberband_canvas.setAttribute('width', width);\n",
       "            rubberband_canvas.setAttribute('height', height);\n",
       "\n",
       "            // And update the size in Python. We ignore the initial 0/0 size\n",
       "            // that occurs as the element is placed into the DOM, which should\n",
       "            // otherwise not happen due to the minimum size styling.\n",
       "            if (fig.ws.readyState == 1 && width != 0 && height != 0) {\n",
       "                fig.request_resize(width, height);\n",
       "            }\n",
       "        }\n",
       "    });\n",
       "    this.resizeObserverInstance.observe(canvas_div);\n",
       "\n",
       "    function on_mouse_event_closure(name) {\n",
       "        return function (event) {\n",
       "            return fig.mouse_event(event, name);\n",
       "        };\n",
       "    }\n",
       "\n",
       "    rubberband_canvas.addEventListener(\n",
       "        'mousedown',\n",
       "        on_mouse_event_closure('button_press')\n",
       "    );\n",
       "    rubberband_canvas.addEventListener(\n",
       "        'mouseup',\n",
       "        on_mouse_event_closure('button_release')\n",
       "    );\n",
       "    rubberband_canvas.addEventListener(\n",
       "        'dblclick',\n",
       "        on_mouse_event_closure('dblclick')\n",
       "    );\n",
       "    // Throttle sequential mouse events to 1 every 20ms.\n",
       "    rubberband_canvas.addEventListener(\n",
       "        'mousemove',\n",
       "        on_mouse_event_closure('motion_notify')\n",
       "    );\n",
       "\n",
       "    rubberband_canvas.addEventListener(\n",
       "        'mouseenter',\n",
       "        on_mouse_event_closure('figure_enter')\n",
       "    );\n",
       "    rubberband_canvas.addEventListener(\n",
       "        'mouseleave',\n",
       "        on_mouse_event_closure('figure_leave')\n",
       "    );\n",
       "\n",
       "    canvas_div.addEventListener('wheel', function (event) {\n",
       "        if (event.deltaY < 0) {\n",
       "            event.step = 1;\n",
       "        } else {\n",
       "            event.step = -1;\n",
       "        }\n",
       "        on_mouse_event_closure('scroll')(event);\n",
       "    });\n",
       "\n",
       "    canvas_div.appendChild(canvas);\n",
       "    canvas_div.appendChild(rubberband_canvas);\n",
       "\n",
       "    this.rubberband_context = rubberband_canvas.getContext('2d');\n",
       "    this.rubberband_context.strokeStyle = '#000000';\n",
       "\n",
       "    this._resize_canvas = function (width, height, forward) {\n",
       "        if (forward) {\n",
       "            canvas_div.style.width = width + 'px';\n",
       "            canvas_div.style.height = height + 'px';\n",
       "        }\n",
       "    };\n",
       "\n",
       "    // Disable right mouse context menu.\n",
       "    this.rubberband_canvas.addEventListener('contextmenu', function (_e) {\n",
       "        event.preventDefault();\n",
       "        return false;\n",
       "    });\n",
       "\n",
       "    function set_focus() {\n",
       "        canvas.focus();\n",
       "        canvas_div.focus();\n",
       "    }\n",
       "\n",
       "    window.setTimeout(set_focus, 100);\n",
       "};\n",
       "\n",
       "mpl.figure.prototype._init_toolbar = function () {\n",
       "    var fig = this;\n",
       "\n",
       "    var toolbar = document.createElement('div');\n",
       "    toolbar.classList = 'mpl-toolbar';\n",
       "    this.root.appendChild(toolbar);\n",
       "\n",
       "    function on_click_closure(name) {\n",
       "        return function (_event) {\n",
       "            return fig.toolbar_button_onclick(name);\n",
       "        };\n",
       "    }\n",
       "\n",
       "    function on_mouseover_closure(tooltip) {\n",
       "        return function (event) {\n",
       "            if (!event.currentTarget.disabled) {\n",
       "                return fig.toolbar_button_onmouseover(tooltip);\n",
       "            }\n",
       "        };\n",
       "    }\n",
       "\n",
       "    fig.buttons = {};\n",
       "    var buttonGroup = document.createElement('div');\n",
       "    buttonGroup.classList = 'mpl-button-group';\n",
       "    for (var toolbar_ind in mpl.toolbar_items) {\n",
       "        var name = mpl.toolbar_items[toolbar_ind][0];\n",
       "        var tooltip = mpl.toolbar_items[toolbar_ind][1];\n",
       "        var image = mpl.toolbar_items[toolbar_ind][2];\n",
       "        var method_name = mpl.toolbar_items[toolbar_ind][3];\n",
       "\n",
       "        if (!name) {\n",
       "            /* Instead of a spacer, we start a new button group. */\n",
       "            if (buttonGroup.hasChildNodes()) {\n",
       "                toolbar.appendChild(buttonGroup);\n",
       "            }\n",
       "            buttonGroup = document.createElement('div');\n",
       "            buttonGroup.classList = 'mpl-button-group';\n",
       "            continue;\n",
       "        }\n",
       "\n",
       "        var button = (fig.buttons[name] = document.createElement('button'));\n",
       "        button.classList = 'mpl-widget';\n",
       "        button.setAttribute('role', 'button');\n",
       "        button.setAttribute('aria-disabled', 'false');\n",
       "        button.addEventListener('click', on_click_closure(method_name));\n",
       "        button.addEventListener('mouseover', on_mouseover_closure(tooltip));\n",
       "\n",
       "        var icon_img = document.createElement('img');\n",
       "        icon_img.src = '_images/' + image + '.png';\n",
       "        icon_img.srcset = '_images/' + image + '_large.png 2x';\n",
       "        icon_img.alt = tooltip;\n",
       "        button.appendChild(icon_img);\n",
       "\n",
       "        buttonGroup.appendChild(button);\n",
       "    }\n",
       "\n",
       "    if (buttonGroup.hasChildNodes()) {\n",
       "        toolbar.appendChild(buttonGroup);\n",
       "    }\n",
       "\n",
       "    var fmt_picker = document.createElement('select');\n",
       "    fmt_picker.classList = 'mpl-widget';\n",
       "    toolbar.appendChild(fmt_picker);\n",
       "    this.format_dropdown = fmt_picker;\n",
       "\n",
       "    for (var ind in mpl.extensions) {\n",
       "        var fmt = mpl.extensions[ind];\n",
       "        var option = document.createElement('option');\n",
       "        option.selected = fmt === mpl.default_extension;\n",
       "        option.innerHTML = fmt;\n",
       "        fmt_picker.appendChild(option);\n",
       "    }\n",
       "\n",
       "    var status_bar = document.createElement('span');\n",
       "    status_bar.classList = 'mpl-message';\n",
       "    toolbar.appendChild(status_bar);\n",
       "    this.message = status_bar;\n",
       "};\n",
       "\n",
       "mpl.figure.prototype.request_resize = function (x_pixels, y_pixels) {\n",
       "    // Request matplotlib to resize the figure. Matplotlib will then trigger a resize in the client,\n",
       "    // which will in turn request a refresh of the image.\n",
       "    this.send_message('resize', { width: x_pixels, height: y_pixels });\n",
       "};\n",
       "\n",
       "mpl.figure.prototype.send_message = function (type, properties) {\n",
       "    properties['type'] = type;\n",
       "    properties['figure_id'] = this.id;\n",
       "    this.ws.send(JSON.stringify(properties));\n",
       "};\n",
       "\n",
       "mpl.figure.prototype.send_draw_message = function () {\n",
       "    if (!this.waiting) {\n",
       "        this.waiting = true;\n",
       "        this.ws.send(JSON.stringify({ type: 'draw', figure_id: this.id }));\n",
       "    }\n",
       "};\n",
       "\n",
       "mpl.figure.prototype.handle_save = function (fig, _msg) {\n",
       "    var format_dropdown = fig.format_dropdown;\n",
       "    var format = format_dropdown.options[format_dropdown.selectedIndex].value;\n",
       "    fig.ondownload(fig, format);\n",
       "};\n",
       "\n",
       "mpl.figure.prototype.handle_resize = function (fig, msg) {\n",
       "    var size = msg['size'];\n",
       "    if (size[0] !== fig.canvas.width || size[1] !== fig.canvas.height) {\n",
       "        fig._resize_canvas(size[0], size[1], msg['forward']);\n",
       "        fig.send_message('refresh', {});\n",
       "    }\n",
       "};\n",
       "\n",
       "mpl.figure.prototype.handle_rubberband = function (fig, msg) {\n",
       "    var x0 = msg['x0'] / fig.ratio;\n",
       "    var y0 = (fig.canvas.height - msg['y0']) / fig.ratio;\n",
       "    var x1 = msg['x1'] / fig.ratio;\n",
       "    var y1 = (fig.canvas.height - msg['y1']) / fig.ratio;\n",
       "    x0 = Math.floor(x0) + 0.5;\n",
       "    y0 = Math.floor(y0) + 0.5;\n",
       "    x1 = Math.floor(x1) + 0.5;\n",
       "    y1 = Math.floor(y1) + 0.5;\n",
       "    var min_x = Math.min(x0, x1);\n",
       "    var min_y = Math.min(y0, y1);\n",
       "    var width = Math.abs(x1 - x0);\n",
       "    var height = Math.abs(y1 - y0);\n",
       "\n",
       "    fig.rubberband_context.clearRect(\n",
       "        0,\n",
       "        0,\n",
       "        fig.canvas.width / fig.ratio,\n",
       "        fig.canvas.height / fig.ratio\n",
       "    );\n",
       "\n",
       "    fig.rubberband_context.strokeRect(min_x, min_y, width, height);\n",
       "};\n",
       "\n",
       "mpl.figure.prototype.handle_figure_label = function (fig, msg) {\n",
       "    // Updates the figure title.\n",
       "    fig.header.textContent = msg['label'];\n",
       "};\n",
       "\n",
       "mpl.figure.prototype.handle_cursor = function (fig, msg) {\n",
       "    var cursor = msg['cursor'];\n",
       "    switch (cursor) {\n",
       "        case 0:\n",
       "            cursor = 'pointer';\n",
       "            break;\n",
       "        case 1:\n",
       "            cursor = 'default';\n",
       "            break;\n",
       "        case 2:\n",
       "            cursor = 'crosshair';\n",
       "            break;\n",
       "        case 3:\n",
       "            cursor = 'move';\n",
       "            break;\n",
       "    }\n",
       "    fig.rubberband_canvas.style.cursor = cursor;\n",
       "};\n",
       "\n",
       "mpl.figure.prototype.handle_message = function (fig, msg) {\n",
       "    fig.message.textContent = msg['message'];\n",
       "};\n",
       "\n",
       "mpl.figure.prototype.handle_draw = function (fig, _msg) {\n",
       "    // Request the server to send over a new figure.\n",
       "    fig.send_draw_message();\n",
       "};\n",
       "\n",
       "mpl.figure.prototype.handle_image_mode = function (fig, msg) {\n",
       "    fig.image_mode = msg['mode'];\n",
       "};\n",
       "\n",
       "mpl.figure.prototype.handle_history_buttons = function (fig, msg) {\n",
       "    for (var key in msg) {\n",
       "        if (!(key in fig.buttons)) {\n",
       "            continue;\n",
       "        }\n",
       "        fig.buttons[key].disabled = !msg[key];\n",
       "        fig.buttons[key].setAttribute('aria-disabled', !msg[key]);\n",
       "    }\n",
       "};\n",
       "\n",
       "mpl.figure.prototype.handle_navigate_mode = function (fig, msg) {\n",
       "    if (msg['mode'] === 'PAN') {\n",
       "        fig.buttons['Pan'].classList.add('active');\n",
       "        fig.buttons['Zoom'].classList.remove('active');\n",
       "    } else if (msg['mode'] === 'ZOOM') {\n",
       "        fig.buttons['Pan'].classList.remove('active');\n",
       "        fig.buttons['Zoom'].classList.add('active');\n",
       "    } else {\n",
       "        fig.buttons['Pan'].classList.remove('active');\n",
       "        fig.buttons['Zoom'].classList.remove('active');\n",
       "    }\n",
       "};\n",
       "\n",
       "mpl.figure.prototype.updated_canvas_event = function () {\n",
       "    // Called whenever the canvas gets updated.\n",
       "    this.send_message('ack', {});\n",
       "};\n",
       "\n",
       "// A function to construct a web socket function for onmessage handling.\n",
       "// Called in the figure constructor.\n",
       "mpl.figure.prototype._make_on_message_function = function (fig) {\n",
       "    return function socket_on_message(evt) {\n",
       "        if (evt.data instanceof Blob) {\n",
       "            var img = evt.data;\n",
       "            if (img.type !== 'image/png') {\n",
       "                /* FIXME: We get \"Resource interpreted as Image but\n",
       "                 * transferred with MIME type text/plain:\" errors on\n",
       "                 * Chrome.  But how to set the MIME type?  It doesn't seem\n",
       "                 * to be part of the websocket stream */\n",
       "                img.type = 'image/png';\n",
       "            }\n",
       "\n",
       "            /* Free the memory for the previous frames */\n",
       "            if (fig.imageObj.src) {\n",
       "                (window.URL || window.webkitURL).revokeObjectURL(\n",
       "                    fig.imageObj.src\n",
       "                );\n",
       "            }\n",
       "\n",
       "            fig.imageObj.src = (window.URL || window.webkitURL).createObjectURL(\n",
       "                img\n",
       "            );\n",
       "            fig.updated_canvas_event();\n",
       "            fig.waiting = false;\n",
       "            return;\n",
       "        } else if (\n",
       "            typeof evt.data === 'string' &&\n",
       "            evt.data.slice(0, 21) === 'data:image/png;base64'\n",
       "        ) {\n",
       "            fig.imageObj.src = evt.data;\n",
       "            fig.updated_canvas_event();\n",
       "            fig.waiting = false;\n",
       "            return;\n",
       "        }\n",
       "\n",
       "        var msg = JSON.parse(evt.data);\n",
       "        var msg_type = msg['type'];\n",
       "\n",
       "        // Call the  \"handle_{type}\" callback, which takes\n",
       "        // the figure and JSON message as its only arguments.\n",
       "        try {\n",
       "            var callback = fig['handle_' + msg_type];\n",
       "        } catch (e) {\n",
       "            console.log(\n",
       "                \"No handler for the '\" + msg_type + \"' message type: \",\n",
       "                msg\n",
       "            );\n",
       "            return;\n",
       "        }\n",
       "\n",
       "        if (callback) {\n",
       "            try {\n",
       "                // console.log(\"Handling '\" + msg_type + \"' message: \", msg);\n",
       "                callback(fig, msg);\n",
       "            } catch (e) {\n",
       "                console.log(\n",
       "                    \"Exception inside the 'handler_\" + msg_type + \"' callback:\",\n",
       "                    e,\n",
       "                    e.stack,\n",
       "                    msg\n",
       "                );\n",
       "            }\n",
       "        }\n",
       "    };\n",
       "};\n",
       "\n",
       "// from http://stackoverflow.com/questions/1114465/getting-mouse-location-in-canvas\n",
       "mpl.findpos = function (e) {\n",
       "    //this section is from http://www.quirksmode.org/js/events_properties.html\n",
       "    var targ;\n",
       "    if (!e) {\n",
       "        e = window.event;\n",
       "    }\n",
       "    if (e.target) {\n",
       "        targ = e.target;\n",
       "    } else if (e.srcElement) {\n",
       "        targ = e.srcElement;\n",
       "    }\n",
       "    if (targ.nodeType === 3) {\n",
       "        // defeat Safari bug\n",
       "        targ = targ.parentNode;\n",
       "    }\n",
       "\n",
       "    // pageX,Y are the mouse positions relative to the document\n",
       "    var boundingRect = targ.getBoundingClientRect();\n",
       "    var x = e.pageX - (boundingRect.left + document.body.scrollLeft);\n",
       "    var y = e.pageY - (boundingRect.top + document.body.scrollTop);\n",
       "\n",
       "    return { x: x, y: y };\n",
       "};\n",
       "\n",
       "/*\n",
       " * return a copy of an object with only non-object keys\n",
       " * we need this to avoid circular references\n",
       " * http://stackoverflow.com/a/24161582/3208463\n",
       " */\n",
       "function simpleKeys(original) {\n",
       "    return Object.keys(original).reduce(function (obj, key) {\n",
       "        if (typeof original[key] !== 'object') {\n",
       "            obj[key] = original[key];\n",
       "        }\n",
       "        return obj;\n",
       "    }, {});\n",
       "}\n",
       "\n",
       "mpl.figure.prototype.mouse_event = function (event, name) {\n",
       "    var canvas_pos = mpl.findpos(event);\n",
       "\n",
       "    if (name === 'button_press') {\n",
       "        this.canvas.focus();\n",
       "        this.canvas_div.focus();\n",
       "    }\n",
       "\n",
       "    var x = canvas_pos.x * this.ratio;\n",
       "    var y = canvas_pos.y * this.ratio;\n",
       "\n",
       "    this.send_message(name, {\n",
       "        x: x,\n",
       "        y: y,\n",
       "        button: event.button,\n",
       "        step: event.step,\n",
       "        guiEvent: simpleKeys(event),\n",
       "    });\n",
       "\n",
       "    /* This prevents the web browser from automatically changing to\n",
       "     * the text insertion cursor when the button is pressed.  We want\n",
       "     * to control all of the cursor setting manually through the\n",
       "     * 'cursor' event from matplotlib */\n",
       "    event.preventDefault();\n",
       "    return false;\n",
       "};\n",
       "\n",
       "mpl.figure.prototype._key_event_extra = function (_event, _name) {\n",
       "    // Handle any extra behaviour associated with a key event\n",
       "};\n",
       "\n",
       "mpl.figure.prototype.key_event = function (event, name) {\n",
       "    // Prevent repeat events\n",
       "    if (name === 'key_press') {\n",
       "        if (event.key === this._key) {\n",
       "            return;\n",
       "        } else {\n",
       "            this._key = event.key;\n",
       "        }\n",
       "    }\n",
       "    if (name === 'key_release') {\n",
       "        this._key = null;\n",
       "    }\n",
       "\n",
       "    var value = '';\n",
       "    if (event.ctrlKey && event.key !== 'Control') {\n",
       "        value += 'ctrl+';\n",
       "    }\n",
       "    else if (event.altKey && event.key !== 'Alt') {\n",
       "        value += 'alt+';\n",
       "    }\n",
       "    else if (event.shiftKey && event.key !== 'Shift') {\n",
       "        value += 'shift+';\n",
       "    }\n",
       "\n",
       "    value += 'k' + event.key;\n",
       "\n",
       "    this._key_event_extra(event, name);\n",
       "\n",
       "    this.send_message(name, { key: value, guiEvent: simpleKeys(event) });\n",
       "    return false;\n",
       "};\n",
       "\n",
       "mpl.figure.prototype.toolbar_button_onclick = function (name) {\n",
       "    if (name === 'download') {\n",
       "        this.handle_save(this, null);\n",
       "    } else {\n",
       "        this.send_message('toolbar_button', { name: name });\n",
       "    }\n",
       "};\n",
       "\n",
       "mpl.figure.prototype.toolbar_button_onmouseover = function (tooltip) {\n",
       "    this.message.textContent = tooltip;\n",
       "};\n",
       "\n",
       "///////////////// REMAINING CONTENT GENERATED BY embed_js.py /////////////////\n",
       "// prettier-ignore\n",
       "var _JSXTOOLS_RESIZE_OBSERVER=function(A){var t,i=new WeakMap,n=new WeakMap,a=new WeakMap,r=new WeakMap,o=new Set;function s(e){if(!(this instanceof s))throw new TypeError(\"Constructor requires 'new' operator\");i.set(this,e)}function h(){throw new TypeError(\"Function is not a constructor\")}function c(e,t,i,n){e=0 in arguments?Number(arguments[0]):0,t=1 in arguments?Number(arguments[1]):0,i=2 in arguments?Number(arguments[2]):0,n=3 in arguments?Number(arguments[3]):0,this.right=(this.x=this.left=e)+(this.width=i),this.bottom=(this.y=this.top=t)+(this.height=n),Object.freeze(this)}function d(){t=requestAnimationFrame(d);var s=new WeakMap,p=new Set;o.forEach((function(t){r.get(t).forEach((function(i){var r=t instanceof window.SVGElement,o=a.get(t),d=r?0:parseFloat(o.paddingTop),f=r?0:parseFloat(o.paddingRight),l=r?0:parseFloat(o.paddingBottom),u=r?0:parseFloat(o.paddingLeft),g=r?0:parseFloat(o.borderTopWidth),m=r?0:parseFloat(o.borderRightWidth),w=r?0:parseFloat(o.borderBottomWidth),b=u+f,F=d+l,v=(r?0:parseFloat(o.borderLeftWidth))+m,W=g+w,y=r?0:t.offsetHeight-W-t.clientHeight,E=r?0:t.offsetWidth-v-t.clientWidth,R=b+v,z=F+W,M=r?t.width:parseFloat(o.width)-R-E,O=r?t.height:parseFloat(o.height)-z-y;if(n.has(t)){var k=n.get(t);if(k[0]===M&&k[1]===O)return}n.set(t,[M,O]);var S=Object.create(h.prototype);S.target=t,S.contentRect=new c(u,d,M,O),s.has(i)||(s.set(i,[]),p.add(i)),s.get(i).push(S)}))})),p.forEach((function(e){i.get(e).call(e,s.get(e),e)}))}return s.prototype.observe=function(i){if(i instanceof window.Element){r.has(i)||(r.set(i,new Set),o.add(i),a.set(i,window.getComputedStyle(i)));var n=r.get(i);n.has(this)||n.add(this),cancelAnimationFrame(t),t=requestAnimationFrame(d)}},s.prototype.unobserve=function(i){if(i instanceof window.Element&&r.has(i)){var n=r.get(i);n.has(this)&&(n.delete(this),n.size||(r.delete(i),o.delete(i))),n.size||r.delete(i),o.size||cancelAnimationFrame(t)}},A.DOMRectReadOnly=c,A.ResizeObserver=s,A.ResizeObserverEntry=h,A}; // eslint-disable-line\n",
       "mpl.toolbar_items = [[\"Home\", \"Reset original view\", \"fa fa-home icon-home\", \"home\"], [\"Back\", \"Back to previous view\", \"fa fa-arrow-left icon-arrow-left\", \"back\"], [\"Forward\", \"Forward to next view\", \"fa fa-arrow-right icon-arrow-right\", \"forward\"], [\"\", \"\", \"\", \"\"], [\"Pan\", \"Left button pans, Right button zooms\\nx/y fixes axis, CTRL fixes aspect\", \"fa fa-arrows icon-move\", \"pan\"], [\"Zoom\", \"Zoom to rectangle\\nx/y fixes axis, CTRL fixes aspect\", \"fa fa-square-o icon-check-empty\", \"zoom\"], [\"\", \"\", \"\", \"\"], [\"Download\", \"Download plot\", \"fa fa-floppy-o icon-save\", \"download\"]];\n",
       "\n",
       "mpl.extensions = [\"eps\", \"jpeg\", \"pgf\", \"pdf\", \"png\", \"ps\", \"raw\", \"svg\", \"tif\"];\n",
       "\n",
       "mpl.default_extension = \"png\";/* global mpl */\n",
       "\n",
       "var comm_websocket_adapter = function (comm) {\n",
       "    // Create a \"websocket\"-like object which calls the given IPython comm\n",
       "    // object with the appropriate methods. Currently this is a non binary\n",
       "    // socket, so there is still some room for performance tuning.\n",
       "    var ws = {};\n",
       "\n",
       "    ws.binaryType = comm.kernel.ws.binaryType;\n",
       "    ws.readyState = comm.kernel.ws.readyState;\n",
       "    function updateReadyState(_event) {\n",
       "        if (comm.kernel.ws) {\n",
       "            ws.readyState = comm.kernel.ws.readyState;\n",
       "        } else {\n",
       "            ws.readyState = 3; // Closed state.\n",
       "        }\n",
       "    }\n",
       "    comm.kernel.ws.addEventListener('open', updateReadyState);\n",
       "    comm.kernel.ws.addEventListener('close', updateReadyState);\n",
       "    comm.kernel.ws.addEventListener('error', updateReadyState);\n",
       "\n",
       "    ws.close = function () {\n",
       "        comm.close();\n",
       "    };\n",
       "    ws.send = function (m) {\n",
       "        //console.log('sending', m);\n",
       "        comm.send(m);\n",
       "    };\n",
       "    // Register the callback with on_msg.\n",
       "    comm.on_msg(function (msg) {\n",
       "        //console.log('receiving', msg['content']['data'], msg);\n",
       "        var data = msg['content']['data'];\n",
       "        if (data['blob'] !== undefined) {\n",
       "            data = {\n",
       "                data: new Blob(msg['buffers'], { type: data['blob'] }),\n",
       "            };\n",
       "        }\n",
       "        // Pass the mpl event to the overridden (by mpl) onmessage function.\n",
       "        ws.onmessage(data);\n",
       "    });\n",
       "    return ws;\n",
       "};\n",
       "\n",
       "mpl.mpl_figure_comm = function (comm, msg) {\n",
       "    // This is the function which gets called when the mpl process\n",
       "    // starts-up an IPython Comm through the \"matplotlib\" channel.\n",
       "\n",
       "    var id = msg.content.data.id;\n",
       "    // Get hold of the div created by the display call when the Comm\n",
       "    // socket was opened in Python.\n",
       "    var element = document.getElementById(id);\n",
       "    var ws_proxy = comm_websocket_adapter(comm);\n",
       "\n",
       "    function ondownload(figure, _format) {\n",
       "        window.open(figure.canvas.toDataURL());\n",
       "    }\n",
       "\n",
       "    var fig = new mpl.figure(id, ws_proxy, ondownload, element);\n",
       "\n",
       "    // Call onopen now - mpl needs it, as it is assuming we've passed it a real\n",
       "    // web socket which is closed, not our websocket->open comm proxy.\n",
       "    ws_proxy.onopen();\n",
       "\n",
       "    fig.parent_element = element;\n",
       "    fig.cell_info = mpl.find_output_cell(\"<div id='\" + id + \"'></div>\");\n",
       "    if (!fig.cell_info) {\n",
       "        console.error('Failed to find cell for figure', id, fig);\n",
       "        return;\n",
       "    }\n",
       "    fig.cell_info[0].output_area.element.on(\n",
       "        'cleared',\n",
       "        { fig: fig },\n",
       "        fig._remove_fig_handler\n",
       "    );\n",
       "};\n",
       "\n",
       "mpl.figure.prototype.handle_close = function (fig, msg) {\n",
       "    var width = fig.canvas.width / fig.ratio;\n",
       "    fig.cell_info[0].output_area.element.off(\n",
       "        'cleared',\n",
       "        fig._remove_fig_handler\n",
       "    );\n",
       "    fig.resizeObserverInstance.unobserve(fig.canvas_div);\n",
       "\n",
       "    // Update the output cell to use the data from the current canvas.\n",
       "    fig.push_to_output();\n",
       "    var dataURL = fig.canvas.toDataURL();\n",
       "    // Re-enable the keyboard manager in IPython - without this line, in FF,\n",
       "    // the notebook keyboard shortcuts fail.\n",
       "    IPython.keyboard_manager.enable();\n",
       "    fig.parent_element.innerHTML =\n",
       "        '<img src=\"' + dataURL + '\" width=\"' + width + '\">';\n",
       "    fig.close_ws(fig, msg);\n",
       "};\n",
       "\n",
       "mpl.figure.prototype.close_ws = function (fig, msg) {\n",
       "    fig.send_message('closing', msg);\n",
       "    // fig.ws.close()\n",
       "};\n",
       "\n",
       "mpl.figure.prototype.push_to_output = function (_remove_interactive) {\n",
       "    // Turn the data on the canvas into data in the output cell.\n",
       "    var width = this.canvas.width / this.ratio;\n",
       "    var dataURL = this.canvas.toDataURL();\n",
       "    this.cell_info[1]['text/html'] =\n",
       "        '<img src=\"' + dataURL + '\" width=\"' + width + '\">';\n",
       "};\n",
       "\n",
       "mpl.figure.prototype.updated_canvas_event = function () {\n",
       "    // Tell IPython that the notebook contents must change.\n",
       "    IPython.notebook.set_dirty(true);\n",
       "    this.send_message('ack', {});\n",
       "    var fig = this;\n",
       "    // Wait a second, then push the new image to the DOM so\n",
       "    // that it is saved nicely (might be nice to debounce this).\n",
       "    setTimeout(function () {\n",
       "        fig.push_to_output();\n",
       "    }, 1000);\n",
       "};\n",
       "\n",
       "mpl.figure.prototype._init_toolbar = function () {\n",
       "    var fig = this;\n",
       "\n",
       "    var toolbar = document.createElement('div');\n",
       "    toolbar.classList = 'btn-toolbar';\n",
       "    this.root.appendChild(toolbar);\n",
       "\n",
       "    function on_click_closure(name) {\n",
       "        return function (_event) {\n",
       "            return fig.toolbar_button_onclick(name);\n",
       "        };\n",
       "    }\n",
       "\n",
       "    function on_mouseover_closure(tooltip) {\n",
       "        return function (event) {\n",
       "            if (!event.currentTarget.disabled) {\n",
       "                return fig.toolbar_button_onmouseover(tooltip);\n",
       "            }\n",
       "        };\n",
       "    }\n",
       "\n",
       "    fig.buttons = {};\n",
       "    var buttonGroup = document.createElement('div');\n",
       "    buttonGroup.classList = 'btn-group';\n",
       "    var button;\n",
       "    for (var toolbar_ind in mpl.toolbar_items) {\n",
       "        var name = mpl.toolbar_items[toolbar_ind][0];\n",
       "        var tooltip = mpl.toolbar_items[toolbar_ind][1];\n",
       "        var image = mpl.toolbar_items[toolbar_ind][2];\n",
       "        var method_name = mpl.toolbar_items[toolbar_ind][3];\n",
       "\n",
       "        if (!name) {\n",
       "            /* Instead of a spacer, we start a new button group. */\n",
       "            if (buttonGroup.hasChildNodes()) {\n",
       "                toolbar.appendChild(buttonGroup);\n",
       "            }\n",
       "            buttonGroup = document.createElement('div');\n",
       "            buttonGroup.classList = 'btn-group';\n",
       "            continue;\n",
       "        }\n",
       "\n",
       "        button = fig.buttons[name] = document.createElement('button');\n",
       "        button.classList = 'btn btn-default';\n",
       "        button.href = '#';\n",
       "        button.title = name;\n",
       "        button.innerHTML = '<i class=\"fa ' + image + ' fa-lg\"></i>';\n",
       "        button.addEventListener('click', on_click_closure(method_name));\n",
       "        button.addEventListener('mouseover', on_mouseover_closure(tooltip));\n",
       "        buttonGroup.appendChild(button);\n",
       "    }\n",
       "\n",
       "    if (buttonGroup.hasChildNodes()) {\n",
       "        toolbar.appendChild(buttonGroup);\n",
       "    }\n",
       "\n",
       "    // Add the status bar.\n",
       "    var status_bar = document.createElement('span');\n",
       "    status_bar.classList = 'mpl-message pull-right';\n",
       "    toolbar.appendChild(status_bar);\n",
       "    this.message = status_bar;\n",
       "\n",
       "    // Add the close button to the window.\n",
       "    var buttongrp = document.createElement('div');\n",
       "    buttongrp.classList = 'btn-group inline pull-right';\n",
       "    button = document.createElement('button');\n",
       "    button.classList = 'btn btn-mini btn-primary';\n",
       "    button.href = '#';\n",
       "    button.title = 'Stop Interaction';\n",
       "    button.innerHTML = '<i class=\"fa fa-power-off icon-remove icon-large\"></i>';\n",
       "    button.addEventListener('click', function (_evt) {\n",
       "        fig.handle_close(fig, {});\n",
       "    });\n",
       "    button.addEventListener(\n",
       "        'mouseover',\n",
       "        on_mouseover_closure('Stop Interaction')\n",
       "    );\n",
       "    buttongrp.appendChild(button);\n",
       "    var titlebar = this.root.querySelector('.ui-dialog-titlebar');\n",
       "    titlebar.insertBefore(buttongrp, titlebar.firstChild);\n",
       "};\n",
       "\n",
       "mpl.figure.prototype._remove_fig_handler = function (event) {\n",
       "    var fig = event.data.fig;\n",
       "    if (event.target !== this) {\n",
       "        // Ignore bubbled events from children.\n",
       "        return;\n",
       "    }\n",
       "    fig.close_ws(fig, {});\n",
       "};\n",
       "\n",
       "mpl.figure.prototype._root_extra_style = function (el) {\n",
       "    el.style.boxSizing = 'content-box'; // override notebook setting of border-box.\n",
       "};\n",
       "\n",
       "mpl.figure.prototype._canvas_extra_style = function (el) {\n",
       "    // this is important to make the div 'focusable\n",
       "    el.setAttribute('tabindex', 0);\n",
       "    // reach out to IPython and tell the keyboard manager to turn it's self\n",
       "    // off when our div gets focus\n",
       "\n",
       "    // location in version 3\n",
       "    if (IPython.notebook.keyboard_manager) {\n",
       "        IPython.notebook.keyboard_manager.register_events(el);\n",
       "    } else {\n",
       "        // location in version 2\n",
       "        IPython.keyboard_manager.register_events(el);\n",
       "    }\n",
       "};\n",
       "\n",
       "mpl.figure.prototype._key_event_extra = function (event, _name) {\n",
       "    var manager = IPython.notebook.keyboard_manager;\n",
       "    if (!manager) {\n",
       "        manager = IPython.keyboard_manager;\n",
       "    }\n",
       "\n",
       "    // Check for shift+enter\n",
       "    if (event.shiftKey && event.which === 13) {\n",
       "        this.canvas_div.blur();\n",
       "        // select the cell after this one\n",
       "        var index = IPython.notebook.find_cell_index(this.cell_info[0]);\n",
       "        IPython.notebook.select(index + 1);\n",
       "    }\n",
       "};\n",
       "\n",
       "mpl.figure.prototype.handle_save = function (fig, _msg) {\n",
       "    fig.ondownload(fig, null);\n",
       "};\n",
       "\n",
       "mpl.find_output_cell = function (html_output) {\n",
       "    // Return the cell and output element which can be found *uniquely* in the notebook.\n",
       "    // Note - this is a bit hacky, but it is done because the \"notebook_saving.Notebook\"\n",
       "    // IPython event is triggered only after the cells have been serialised, which for\n",
       "    // our purposes (turning an active figure into a static one), is too late.\n",
       "    var cells = IPython.notebook.get_cells();\n",
       "    var ncells = cells.length;\n",
       "    for (var i = 0; i < ncells; i++) {\n",
       "        var cell = cells[i];\n",
       "        if (cell.cell_type === 'code') {\n",
       "            for (var j = 0; j < cell.output_area.outputs.length; j++) {\n",
       "                var data = cell.output_area.outputs[j];\n",
       "                if (data.data) {\n",
       "                    // IPython >= 3 moved mimebundle to data attribute of output\n",
       "                    data = data.data;\n",
       "                }\n",
       "                if (data['text/html'] === html_output) {\n",
       "                    return [cell, data, j];\n",
       "                }\n",
       "            }\n",
       "        }\n",
       "    }\n",
       "};\n",
       "\n",
       "// Register the function which deals with the matplotlib target/channel.\n",
       "// The kernel may be null if the page has been refreshed.\n",
       "if (IPython.notebook.kernel !== null) {\n",
       "    IPython.notebook.kernel.comm_manager.register_target(\n",
       "        'matplotlib',\n",
       "        mpl.mpl_figure_comm\n",
       "    );\n",
       "}\n"
      ],
      "text/plain": [
       "<IPython.core.display.Javascript object>"
      ]
     },
     "metadata": {},
     "output_type": "display_data"
    },
    {
     "data": {
      "text/html": [
       "<img src=\"data:image/png;base64,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\" width=\"432\">"
      ],
      "text/plain": [
       "<IPython.core.display.HTML object>"
      ]
     },
     "metadata": {},
     "output_type": "display_data"
    },
    {
     "ename": "ValueError",
     "evalue": "operands could not be broadcast together with remapped shapes [original->remapped]: (1460,)  and requested shape (100,)",
     "output_type": "error",
     "traceback": [
      "\u001b[0;31m---------------------------------------------------------------------------\u001b[0m",
      "\u001b[0;31mValueError\u001b[0m                                Traceback (most recent call last)",
      "\u001b[0;32m/var/folders/sw/7wn9qw6n2bn3txlzhbg0l3580000gn/T/ipykernel_79264/3485816771.py\u001b[0m in \u001b[0;36m<module>\u001b[0;34m\u001b[0m\n\u001b[1;32m      2\u001b[0m \u001b[0max\u001b[0m \u001b[0;34m=\u001b[0m \u001b[0mut\u001b[0m\u001b[0;34m.\u001b[0m\u001b[0mplotSetup3d\u001b[0m\u001b[0;34m(\u001b[0m\u001b[0;34m-\u001b[0m\u001b[0;36m2\u001b[0m\u001b[0;34m,\u001b[0m \u001b[0;36m2\u001b[0m\u001b[0;34m,\u001b[0m \u001b[0;34m-\u001b[0m\u001b[0;36m2\u001b[0m\u001b[0;34m,\u001b[0m \u001b[0;36m2\u001b[0m\u001b[0;34m,\u001b[0m \u001b[0;34m-\u001b[0m\u001b[0;36m200\u001b[0m\u001b[0;34m,\u001b[0m \u001b[0;36m200\u001b[0m\u001b[0;34m)\u001b[0m\u001b[0;34m\u001b[0m\u001b[0;34m\u001b[0m\u001b[0m\n\u001b[1;32m      3\u001b[0m \u001b[0;31m# try columns of X with large coefficients, or not\u001b[0m\u001b[0;34m\u001b[0m\u001b[0;34m\u001b[0m\u001b[0;34m\u001b[0m\u001b[0m\n\u001b[0;32m----> 4\u001b[0;31m \u001b[0max\u001b[0m\u001b[0;34m.\u001b[0m\u001b[0mplot\u001b[0m\u001b[0;34m(\u001b[0m\u001b[0mX\u001b[0m\u001b[0;34m[\u001b[0m\u001b[0;34m:\u001b[0m\u001b[0;34m,\u001b[0m \u001b[0;36m0\u001b[0m\u001b[0;34m]\u001b[0m\u001b[0;34m,\u001b[0m \u001b[0mX\u001b[0m\u001b[0;34m[\u001b[0m\u001b[0;34m:\u001b[0m\u001b[0;34m,\u001b[0m \u001b[0;36m13\u001b[0m\u001b[0;34m]\u001b[0m\u001b[0;34m,\u001b[0m \u001b[0;34m'ro'\u001b[0m\u001b[0;34m,\u001b[0m \u001b[0mzs\u001b[0m\u001b[0;34m=\u001b[0m\u001b[0my\u001b[0m\u001b[0;34m,\u001b[0m \u001b[0mmarkersize\u001b[0m \u001b[0;34m=\u001b[0m \u001b[0;36m4\u001b[0m\u001b[0;34m)\u001b[0m\u001b[0;34m;\u001b[0m\u001b[0;34m\u001b[0m\u001b[0;34m\u001b[0m\u001b[0m\n\u001b[0m",
      "\u001b[0;32m~/anaconda3/lib/python3.8/site-packages/mpl_toolkits/mplot3d/axes3d.py\u001b[0m in \u001b[0;36mplot\u001b[0;34m(self, xs, ys, zdir, *args, **kwargs)\u001b[0m\n\u001b[1;32m   1568\u001b[0m \u001b[0;34m\u001b[0m\u001b[0m\n\u001b[1;32m   1569\u001b[0m         \u001b[0;31m# Match length\u001b[0m\u001b[0;34m\u001b[0m\u001b[0;34m\u001b[0m\u001b[0;34m\u001b[0m\u001b[0m\n\u001b[0;32m-> 1570\u001b[0;31m         \u001b[0mzs\u001b[0m \u001b[0;34m=\u001b[0m \u001b[0mnp\u001b[0m\u001b[0;34m.\u001b[0m\u001b[0mbroadcast_to\u001b[0m\u001b[0;34m(\u001b[0m\u001b[0mzs\u001b[0m\u001b[0;34m,\u001b[0m \u001b[0mnp\u001b[0m\u001b[0;34m.\u001b[0m\u001b[0mshape\u001b[0m\u001b[0;34m(\u001b[0m\u001b[0mxs\u001b[0m\u001b[0;34m)\u001b[0m\u001b[0;34m)\u001b[0m\u001b[0;34m\u001b[0m\u001b[0;34m\u001b[0m\u001b[0m\n\u001b[0m\u001b[1;32m   1571\u001b[0m \u001b[0;34m\u001b[0m\u001b[0m\n\u001b[1;32m   1572\u001b[0m         \u001b[0mlines\u001b[0m \u001b[0;34m=\u001b[0m \u001b[0msuper\u001b[0m\u001b[0;34m(\u001b[0m\u001b[0;34m)\u001b[0m\u001b[0;34m.\u001b[0m\u001b[0mplot\u001b[0m\u001b[0;34m(\u001b[0m\u001b[0mxs\u001b[0m\u001b[0;34m,\u001b[0m \u001b[0mys\u001b[0m\u001b[0;34m,\u001b[0m \u001b[0;34m*\u001b[0m\u001b[0margs\u001b[0m\u001b[0;34m,\u001b[0m \u001b[0;34m**\u001b[0m\u001b[0mkwargs\u001b[0m\u001b[0;34m)\u001b[0m\u001b[0;34m\u001b[0m\u001b[0;34m\u001b[0m\u001b[0m\n",
      "\u001b[0;32m<__array_function__ internals>\u001b[0m in \u001b[0;36mbroadcast_to\u001b[0;34m(*args, **kwargs)\u001b[0m\n",
      "\u001b[0;32m~/anaconda3/lib/python3.8/site-packages/numpy/lib/stride_tricks.py\u001b[0m in \u001b[0;36mbroadcast_to\u001b[0;34m(array, shape, subok)\u001b[0m\n\u001b[1;32m    409\u001b[0m            [1, 2, 3]])\n\u001b[1;32m    410\u001b[0m     \"\"\"\n\u001b[0;32m--> 411\u001b[0;31m     \u001b[0;32mreturn\u001b[0m \u001b[0m_broadcast_to\u001b[0m\u001b[0;34m(\u001b[0m\u001b[0marray\u001b[0m\u001b[0;34m,\u001b[0m \u001b[0mshape\u001b[0m\u001b[0;34m,\u001b[0m \u001b[0msubok\u001b[0m\u001b[0;34m=\u001b[0m\u001b[0msubok\u001b[0m\u001b[0;34m,\u001b[0m \u001b[0mreadonly\u001b[0m\u001b[0;34m=\u001b[0m\u001b[0;32mTrue\u001b[0m\u001b[0;34m)\u001b[0m\u001b[0;34m\u001b[0m\u001b[0;34m\u001b[0m\u001b[0m\n\u001b[0m\u001b[1;32m    412\u001b[0m \u001b[0;34m\u001b[0m\u001b[0m\n\u001b[1;32m    413\u001b[0m \u001b[0;34m\u001b[0m\u001b[0m\n",
      "\u001b[0;32m~/anaconda3/lib/python3.8/site-packages/numpy/lib/stride_tricks.py\u001b[0m in \u001b[0;36m_broadcast_to\u001b[0;34m(array, shape, subok, readonly)\u001b[0m\n\u001b[1;32m    346\u001b[0m                          'negative')\n\u001b[1;32m    347\u001b[0m     \u001b[0mextras\u001b[0m \u001b[0;34m=\u001b[0m \u001b[0;34m[\u001b[0m\u001b[0;34m]\u001b[0m\u001b[0;34m\u001b[0m\u001b[0;34m\u001b[0m\u001b[0m\n\u001b[0;32m--> 348\u001b[0;31m     it = np.nditer(\n\u001b[0m\u001b[1;32m    349\u001b[0m         \u001b[0;34m(\u001b[0m\u001b[0marray\u001b[0m\u001b[0;34m,\u001b[0m\u001b[0;34m)\u001b[0m\u001b[0;34m,\u001b[0m \u001b[0mflags\u001b[0m\u001b[0;34m=\u001b[0m\u001b[0;34m[\u001b[0m\u001b[0;34m'multi_index'\u001b[0m\u001b[0;34m,\u001b[0m \u001b[0;34m'refs_ok'\u001b[0m\u001b[0;34m,\u001b[0m \u001b[0;34m'zerosize_ok'\u001b[0m\u001b[0;34m]\u001b[0m \u001b[0;34m+\u001b[0m \u001b[0mextras\u001b[0m\u001b[0;34m,\u001b[0m\u001b[0;34m\u001b[0m\u001b[0;34m\u001b[0m\u001b[0m\n\u001b[1;32m    350\u001b[0m         op_flags=['readonly'], itershape=shape, order='C')\n",
      "\u001b[0;31mValueError\u001b[0m: operands could not be broadcast together with remapped shapes [original->remapped]: (1460,)  and requested shape (100,)"
     ]
    }
   ],
   "source": [
    "%matplotlib nbagg\n",
    "ax = ut.plotSetup3d(-2, 2, -2, 2, -200, 200)\n",
    "# try columns of X with large coefficients, or not\n",
    "ax.plot(X[:, 0], X[:, 13], 'ro', zs=y, markersize = 4);"
   ]
  },
  {
   "cell_type": "markdown",
   "metadata": {
    "slideshow": {
     "slide_type": "fragment"
    }
   },
   "source": [
    "Note that each parameter of an independent variable has an associated confidence interval. \n",
    "\n",
    "If a coefficient is not distinguishable from zero, then we cannot assume that there is any relationship between the independent variable and the observations.\n",
    "\n",
    "In other words, if the confidence interval for the parameter includes zero, the associated independent variable may not have any predictive value."
   ]
  },
  {
   "cell_type": "code",
   "execution_count": 18,
   "metadata": {
    "slideshow": {
     "slide_type": "fragment"
    }
   },
   "outputs": [
    {
     "name": "stdout",
     "output_type": "stream",
     "text": [
      "Confidence Intervals: [[  5.65891465  19.47559281]\n",
      " [ -9.44032559   1.77614877]\n",
      " [ -9.31636359   4.47701749]\n",
      " [ -4.12661379   8.15524508]\n",
      " [ -9.4808662    4.22965424]\n",
      " [ -5.49698033   7.07574692]\n",
      " [-10.22359973   4.08684835]\n",
      " [ 83.74738375  96.52928603]\n",
      " [ -6.77896356   6.75226985]\n",
      " [  8.80365396  21.73126149]\n",
      " [ -6.86882065   6.4194618 ]\n",
      " [ -6.97868351   7.1332267 ]\n",
      " [ -6.71228582   6.2218515 ]\n",
      " [ 82.96557061  97.07028228]\n",
      " [ -5.74782503   9.08465366]\n",
      " [ -1.06173893   9.85081724]\n",
      " [  2.02753258  15.5561241 ]\n",
      " [ 66.56165458  80.19256546]\n",
      " [ -8.90825108   5.0804296 ]\n",
      " [ -7.85545335   5.21424811]]\n",
      "Parameters: [ 1.25672537e+01 -3.83208841e+00 -2.41967305e+00  2.01431564e+00\n",
      " -2.62560598e+00  7.89383294e-01 -3.06837569e+00  9.01383349e+01\n",
      " -1.33468527e-02  1.52674577e+01 -2.24679428e-01  7.72715974e-02\n",
      " -2.45217158e-01  9.00179264e+01  1.66841432e+00  4.39453916e+00\n",
      "  8.79182834e+00  7.33771100e+01 -1.91391074e+00 -1.32060262e+00]\n"
     ]
    }
   ],
   "source": [
    "print('Confidence Intervals: {}'.format(results.conf_int()))\n",
    "print('Parameters: {}'.format(results.params))"
   ]
  },
  {
   "cell_type": "code",
   "execution_count": 19,
   "metadata": {
    "slideshow": {
     "slide_type": "fragment"
    }
   },
   "outputs": [
    {
     "data": {
      "text/plain": [
       "array([False,  True,  True,  True,  True,  True,  True, False,  True,\n",
       "       False,  True,  True,  True, False,  True,  True, False, False,\n",
       "        True,  True])"
      ]
     },
     "execution_count": 19,
     "metadata": {},
     "output_type": "execute_result"
    }
   ],
   "source": [
    "CIs = results.conf_int()\n",
    "notSignificant = (CIs[:,0] < 0) & (CIs[:,1] > 0)\n",
    "notSignificant"
   ]
  },
  {
   "cell_type": "code",
   "execution_count": 20,
   "metadata": {
    "slideshow": {
     "slide_type": "fragment"
    }
   },
   "outputs": [
    {
     "data": {
      "text/plain": [
       "(100, 6)"
      ]
     },
     "execution_count": 20,
     "metadata": {},
     "output_type": "execute_result"
    }
   ],
   "source": [
    "Xsignif = X[:,~notSignificant]\n",
    "Xsignif.shape"
   ]
  },
  {
   "cell_type": "markdown",
   "metadata": {
    "slideshow": {
     "slide_type": "fragment"
    }
   },
   "source": [
    "By eliminating independent variables that are not significant, we help avoid overfitting."
   ]
  },
  {
   "cell_type": "code",
   "execution_count": 21,
   "metadata": {
    "slideshow": {
     "slide_type": "fragment"
    }
   },
   "outputs": [
    {
     "name": "stdout",
     "output_type": "stream",
     "text": [
      "                                 OLS Regression Results                                \n",
      "=======================================================================================\n",
      "Dep. Variable:                      y   R-squared (uncentered):                   0.965\n",
      "Model:                            OLS   Adj. R-squared (uncentered):              0.963\n",
      "Method:                 Least Squares   F-statistic:                              437.1\n",
      "Date:                Wed, 27 Oct 2021   Prob (F-statistic):                    2.38e-66\n",
      "Time:                        11:51:05   Log-Likelihood:                         -473.32\n",
      "No. Observations:                 100   AIC:                                      958.6\n",
      "Df Residuals:                      94   BIC:                                      974.3\n",
      "Df Model:                           6                                                  \n",
      "Covariance Type:            nonrobust                                                  \n",
      "==============================================================================\n",
      "                 coef    std err          t      P>|t|      [0.025      0.975]\n",
      "------------------------------------------------------------------------------\n",
      "x1            11.9350      3.162      3.775      0.000       5.657      18.213\n",
      "x2            90.5841      2.705     33.486      0.000      85.213      95.955\n",
      "x3            14.3652      2.924      4.913      0.000       8.560      20.170\n",
      "x4            90.5586      3.289     27.535      0.000      84.028      97.089\n",
      "x5             8.3185      3.028      2.747      0.007       2.307      14.330\n",
      "x6            71.9119      3.104     23.169      0.000      65.749      78.075\n",
      "==============================================================================\n",
      "Omnibus:                        9.915   Durbin-Watson:                   2.056\n",
      "Prob(Omnibus):                  0.007   Jarque-Bera (JB):               11.608\n",
      "Skew:                           0.551   Prob(JB):                      0.00302\n",
      "Kurtosis:                       4.254   Cond. No.                         1.54\n",
      "==============================================================================\n",
      "\n",
      "Notes:\n",
      "[1] R² is computed without centering (uncentered) since the model does not contain a constant.\n",
      "[2] Standard Errors assume that the covariance matrix of the errors is correctly specified.\n"
     ]
    }
   ],
   "source": [
    "model = sm.OLS(y, Xsignif)\n",
    "results = model.fit()\n",
    "print(results.summary())"
   ]
  },
  {
   "cell_type": "markdown",
   "metadata": {
    "slideshow": {
     "slide_type": "slide"
    }
   },
   "source": [
    "## Real Data: House Prices in Ames, Iowa"
   ]
  },
  {
   "cell_type": "markdown",
   "metadata": {
    "slideshow": {
     "slide_type": "fragment"
    }
   },
   "source": [
    "Let's see how powerful multiple regression can be on a real-world example.\n",
    "\n",
    "A typical application of linear models is predicting house prices.   Linear models have been used for this problem for decades, and when a municipality does a value assessment on your house, they typically use a linear model."
   ]
  },
  {
   "cell_type": "markdown",
   "metadata": {
    "slideshow": {
     "slide_type": "fragment"
    }
   },
   "source": [
    "We can consider various measurable attributes of a house (its \"features\") as the independent variables, and the most recent sale price of the house as the dependent variable."
   ]
  },
  {
   "cell_type": "markdown",
   "metadata": {
    "slideshow": {
     "slide_type": "fragment"
    }
   },
   "source": [
    "For our case study, we will use the features:\n",
    "* Lot Area (sq ft), \n",
    "* Gross Living Area (sq ft), \n",
    "* Number of Fireplaces, \n",
    "* Number of Full Baths, \n",
    "* Number of Half Baths, \n",
    "* Garage Area (sq ft), \n",
    "* Basement Area (sq ft)"
   ]
  },
  {
   "cell_type": "markdown",
   "metadata": {
    "slideshow": {
     "slide_type": "fragment"
    }
   },
   "source": [
    "So our design matrix will have 8 columns (including the constant for the intercept):\n",
    "\n",
    "$$ X\\beta = \\mathbf{y}$$\n",
    "\n",
    "and it will have one row for each house in the data set, with $y$ the sale price of the house."
   ]
  },
  {
   "cell_type": "markdown",
   "metadata": {
    "slideshow": {
     "slide_type": "fragment"
    }
   },
   "source": [
    "We will use data from housing sales in Ames, Iowa from 2006 to 2009:"
   ]
  },
  {
   "cell_type": "markdown",
   "metadata": {},
   "source": [
    "<img src=\"figs/ames-iowa-downtown.jpeg\" alt=\"Figure\" width=\"45%\">\n",
    "\n",
    "<p style = \"text-align: center;\">\n",
    "Ames, Iowa</p>\n",
    "<p style = \"text-align: center;\">\n",
    "<a href=\"https://commons.wikimedia.org/wiki/File:Ames_Iowa_Main_Street.jpg\">Tim Kiser (w:User:Malepheasant)</a>, <a href=\"https://creativecommons.org/licenses/by-sa/2.5\">CC BY-SA 2.5</a>, via Wikimedia Commons</p>"
   ]
  },
  {
   "cell_type": "code",
   "execution_count": 22,
   "metadata": {
    "slideshow": {
     "slide_type": "fragment"
    }
   },
   "outputs": [],
   "source": [
    "df = pd.read_csv('data/ames-housing-data/train.csv')"
   ]
  },
  {
   "cell_type": "code",
   "execution_count": 23,
   "metadata": {
    "slideshow": {
     "slide_type": "fragment"
    }
   },
   "outputs": [
    {
     "data": {
      "text/html": [
       "<div>\n",
       "<style scoped>\n",
       "    .dataframe tbody tr th:only-of-type {\n",
       "        vertical-align: middle;\n",
       "    }\n",
       "\n",
       "    .dataframe tbody tr th {\n",
       "        vertical-align: top;\n",
       "    }\n",
       "\n",
       "    .dataframe thead th {\n",
       "        text-align: right;\n",
       "    }\n",
       "</style>\n",
       "<table border=\"1\" class=\"dataframe\">\n",
       "  <thead>\n",
       "    <tr style=\"text-align: right;\">\n",
       "      <th></th>\n",
       "      <th>LotArea</th>\n",
       "      <th>GrLivArea</th>\n",
       "      <th>Fireplaces</th>\n",
       "      <th>FullBath</th>\n",
       "      <th>HalfBath</th>\n",
       "      <th>GarageArea</th>\n",
       "      <th>TotalBsmtSF</th>\n",
       "      <th>SalePrice</th>\n",
       "    </tr>\n",
       "  </thead>\n",
       "  <tbody>\n",
       "    <tr>\n",
       "      <th>0</th>\n",
       "      <td>8450</td>\n",
       "      <td>1710</td>\n",
       "      <td>0</td>\n",
       "      <td>2</td>\n",
       "      <td>1</td>\n",
       "      <td>548</td>\n",
       "      <td>856</td>\n",
       "      <td>208500</td>\n",
       "    </tr>\n",
       "    <tr>\n",
       "      <th>1</th>\n",
       "      <td>9600</td>\n",
       "      <td>1262</td>\n",
       "      <td>1</td>\n",
       "      <td>2</td>\n",
       "      <td>0</td>\n",
       "      <td>460</td>\n",
       "      <td>1262</td>\n",
       "      <td>181500</td>\n",
       "    </tr>\n",
       "    <tr>\n",
       "      <th>2</th>\n",
       "      <td>11250</td>\n",
       "      <td>1786</td>\n",
       "      <td>1</td>\n",
       "      <td>2</td>\n",
       "      <td>1</td>\n",
       "      <td>608</td>\n",
       "      <td>920</td>\n",
       "      <td>223500</td>\n",
       "    </tr>\n",
       "    <tr>\n",
       "      <th>3</th>\n",
       "      <td>9550</td>\n",
       "      <td>1717</td>\n",
       "      <td>1</td>\n",
       "      <td>1</td>\n",
       "      <td>0</td>\n",
       "      <td>642</td>\n",
       "      <td>756</td>\n",
       "      <td>140000</td>\n",
       "    </tr>\n",
       "    <tr>\n",
       "      <th>4</th>\n",
       "      <td>14260</td>\n",
       "      <td>2198</td>\n",
       "      <td>1</td>\n",
       "      <td>2</td>\n",
       "      <td>1</td>\n",
       "      <td>836</td>\n",
       "      <td>1145</td>\n",
       "      <td>250000</td>\n",
       "    </tr>\n",
       "  </tbody>\n",
       "</table>\n",
       "</div>"
      ],
      "text/plain": [
       "   LotArea  GrLivArea  Fireplaces  FullBath  HalfBath  GarageArea  \\\n",
       "0     8450       1710           0         2         1         548   \n",
       "1     9600       1262           1         2         0         460   \n",
       "2    11250       1786           1         2         1         608   \n",
       "3     9550       1717           1         1         0         642   \n",
       "4    14260       2198           1         2         1         836   \n",
       "\n",
       "   TotalBsmtSF  SalePrice  \n",
       "0          856     208500  \n",
       "1         1262     181500  \n",
       "2          920     223500  \n",
       "3          756     140000  \n",
       "4         1145     250000  "
      ]
     },
     "execution_count": 23,
     "metadata": {},
     "output_type": "execute_result"
    }
   ],
   "source": [
    "df[['LotArea', 'GrLivArea', 'Fireplaces', 'FullBath', 'HalfBath', 'GarageArea', 'TotalBsmtSF', 'SalePrice']].head()"
   ]
  },
  {
   "cell_type": "markdown",
   "metadata": {
    "slideshow": {
     "slide_type": "fragment"
    }
   },
   "source": [
    "Some things to note here:\n",
    "* House prices are in dollars\n",
    "* Areas are in square feet\n",
    "* Rooms are in counts"
   ]
  },
  {
   "cell_type": "markdown",
   "metadata": {
    "slideshow": {
     "slide_type": "fragment"
    }
   },
   "source": [
    "Do we have scaling concerns here?  \n",
    "\n",
    "No, because each feature will get its own $\\beta$, which will correct for the scaling differences between different units of measure."
   ]
  },
  {
   "cell_type": "code",
   "execution_count": 24,
   "metadata": {
    "slideshow": {
     "slide_type": "slide"
    }
   },
   "outputs": [
    {
     "name": "stderr",
     "output_type": "stream",
     "text": [
      "/Users/markcrovella/anaconda3/lib/python3.8/site-packages/statsmodels/tsa/tsatools.py:142: FutureWarning: In a future version of pandas all arguments of concat except for the argument 'objs' will be keyword-only\n",
      "  x = pd.concat(x[::order], 1)\n"
     ]
    }
   ],
   "source": [
    "X_no_intercept = df[['LotArea', 'GrLivArea', 'Fireplaces', 'FullBath', 'HalfBath', 'GarageArea', 'TotalBsmtSF']]\n",
    "X_intercept = sm.add_constant(X_no_intercept)\n",
    "y = df['SalePrice'].values"
   ]
  },
  {
   "cell_type": "markdown",
   "metadata": {
    "slideshow": {
     "slide_type": "skip"
    }
   },
   "source": [
    "```{note}\n",
    "Note that removing the intercept will cause the $R^2$ to go up, which is counter-intuitive.  The reason is explained here -- but amounts to the fact that the formula for R2 with/without an intercept is different.\n",
    "https://stats.stackexchange.com/questions/26176/removal-of-statistically-significant-intercept-term-increases-r2-in-linear-mo/26205#26205\n",
    "```"
   ]
  },
  {
   "cell_type": "code",
   "execution_count": 25,
   "metadata": {
    "slideshow": {
     "slide_type": "fragment"
    }
   },
   "outputs": [],
   "source": [
    "from sklearn import utils, model_selection\n",
    "X_train, X_test, y_train, y_test = model_selection.train_test_split(\n",
    "    X_intercept, y, test_size = 0.5, random_state = 0)"
   ]
  },
  {
   "cell_type": "code",
   "execution_count": 26,
   "metadata": {
    "slideshow": {
     "slide_type": "fragment"
    }
   },
   "outputs": [
    {
     "name": "stdout",
     "output_type": "stream",
     "text": [
      "                            OLS Regression Results                            \n",
      "==============================================================================\n",
      "Dep. Variable:                      y   R-squared:                       0.759\n",
      "Model:                            OLS   Adj. R-squared:                  0.757\n",
      "Method:                 Least Squares   F-statistic:                     325.5\n",
      "Date:                Wed, 27 Oct 2021   Prob (F-statistic):          1.74e-218\n",
      "Time:                        11:51:05   Log-Likelihood:                -8746.5\n",
      "No. Observations:                 730   AIC:                         1.751e+04\n",
      "Df Residuals:                     722   BIC:                         1.755e+04\n",
      "Df Model:                           7                                         \n",
      "Covariance Type:            nonrobust                                         \n",
      "===============================================================================\n",
      "                  coef    std err          t      P>|t|      [0.025      0.975]\n",
      "-------------------------------------------------------------------------------\n",
      "const       -4.285e+04   5350.784     -8.007      0.000   -5.34e+04   -3.23e+04\n",
      "LotArea         0.2361      0.131      1.798      0.073      -0.022       0.494\n",
      "GrLivArea      48.0865      4.459     10.783      0.000      39.332      56.841\n",
      "Fireplaces   1.089e+04   2596.751      4.192      0.000    5787.515     1.6e+04\n",
      "FullBath      1.49e+04   3528.456      4.224      0.000    7977.691    2.18e+04\n",
      "HalfBath      1.56e+04   3421.558      4.559      0.000    8882.381    2.23e+04\n",
      "GarageArea     98.9856      8.815     11.229      0.000      81.680     116.291\n",
      "TotalBsmtSF    62.6392      4.318     14.508      0.000      54.163      71.116\n",
      "==============================================================================\n",
      "Omnibus:                      144.283   Durbin-Watson:                   1.937\n",
      "Prob(Omnibus):                  0.000   Jarque-Bera (JB):              917.665\n",
      "Skew:                           0.718   Prob(JB):                    5.39e-200\n",
      "Kurtosis:                       8.302   Cond. No.                     6.08e+04\n",
      "==============================================================================\n",
      "\n",
      "Notes:\n",
      "[1] Standard Errors assume that the covariance matrix of the errors is correctly specified.\n",
      "[2] The condition number is large, 6.08e+04. This might indicate that there are\n",
      "strong multicollinearity or other numerical problems.\n"
     ]
    }
   ],
   "source": [
    "model = sm.OLS(y_train, X_train)\n",
    "results = model.fit()\n",
    "print(results.summary())"
   ]
  },
  {
   "cell_type": "markdown",
   "metadata": {
    "slideshow": {
     "slide_type": "fragment"
    }
   },
   "source": [
    "We see that we have:\n",
    "* $\\beta_0$: Intercept of -\\$42,850\n",
    "* $\\beta_1$: Marginal value of one square foot of Lot Area: \\$0.23 \n",
    "    * but __NOTICE__ - this coefficient is not statistically different from zero!\n",
    "* $\\beta_2$: Marginal value of one square foot of Gross Living Area: \\$48 \n",
    "* $\\beta_3$: Marginal value of one additional fireplace: \\$10,890\n",
    "* $\\beta_4$: Marginal value of one additional full bath: \\$14,900\n",
    "* $\\beta_5$: Marginal value of one additional half bath: \\$15,600\n",
    "* $\\beta_6$: Marginal value of one square foot of Garage Area: \\$99\n",
    "* $\\beta_7$: Marginal value of one square foot of Basement Area: \\$62"
   ]
  },
  {
   "cell_type": "markdown",
   "metadata": {
    "slideshow": {
     "slide_type": "fragment"
    }
   },
   "source": [
    "Is our model doing a good job?  \n",
    "\n",
    "There are many statistics for testing this question, but we'll just look at the predictions versus the ground truth.\n",
    "\n",
    "For each house we compute its predicted sale value according to our model:\n",
    "\n",
    "$$\\hat{\\mathbf{y}} = X\\hat{\\beta}$$"
   ]
  },
  {
   "cell_type": "code",
   "execution_count": 27,
   "metadata": {
    "hide_input": true,
    "slideshow": {
     "slide_type": "fragment"
    },
    "tags": [
     "hide-input"
    ]
   },
   "outputs": [
    {
     "data": {
      "image/png": "[encoded data removed]",
      "text/plain": [
       "<Figure size 864x360 with 2 Axes>"
      ]
     },
     "metadata": {
      "needs_background": "light"
     },
     "output_type": "display_data"
    }
   ],
   "source": [
    "%matplotlib inline\n",
    "from sklearn.metrics import r2_score\n",
    "\n",
    "fig, (ax1, ax2) = plt.subplots(1,2,sharey = 'row', figsize=(12, 5))\n",
    "y_oos_predict = results.predict(X_test)\n",
    "r2_test = r2_score(y_test, y_oos_predict)\n",
    "ax1.scatter(y_test, y_oos_predict, s = 8)\n",
    "ax1.set_xlabel('True Price')\n",
    "ax1.set_ylabel('Predicted Price')\n",
    "ax1.plot([0,500000], [0,500000], 'r-')\n",
    "ax1.axis('equal')\n",
    "ax1.set_ylim([0, 500000])\n",
    "ax1.set_xlim([0, 500000])\n",
    "ax1.set_title(f'Out of Sample Prediction, $R^2$ is {r2_test:0.3f}')\n",
    "#\n",
    "y_is_predict = results.predict(X_train)\n",
    "ax2.scatter(y_train, y_is_predict, s = 8)\n",
    "r2_train = r2_score(y_train, y_is_predict)\n",
    "ax2.set_xlabel('True Price')\n",
    "ax2.plot([0,500000],[0,500000],'r-')\n",
    "ax2.axis('equal')\n",
    "ax2.set_ylim([0,500000])\n",
    "ax2.set_xlim([0,500000])\n",
    "ax2.set_title(f'In Sample Prediction, $R^2$ is {r2_train:0.3f}');"
   ]
  },
  {
   "cell_type": "markdown",
   "metadata": {
    "slideshow": {
     "slide_type": "fragment"
    }
   },
   "source": [
    "We see that the model does a reasonable job for house values less than about \\$250,000. \n",
    "\n",
    "It tends to underestimate at both ends of the price range.\n",
    "\n",
    "Note that the $R^2$ on the (held out) test data is 0.610.   \n",
    "\n",
    "We are not doing as well on test data as on training data (somewhat to be expected).\n",
    "\n",
    "For a better model, we'd want to consider more features of each house, and perhaps some additional functions such as polynomials as components of our model."
   ]
  }
 ],
 "metadata": {
  "celltoolbar": "Slideshow",
  "kernelspec": {
   "display_name": "Python 3 (ipykernel)",
   "language": "python",
   "name": "python3"
  },
  "language_info": {
   "codemirror_mode": {
    "name": "ipython",
    "version": 3
   },
   "file_extension": ".py",
   "mimetype": "text/x-python",
   "name": "python",
   "nbconvert_exporter": "python",
   "pygments_lexer": "ipython3",
   "version": "3.8.11"
  }
 },
 "nbformat": 4,
 "nbformat_minor": 1
}
