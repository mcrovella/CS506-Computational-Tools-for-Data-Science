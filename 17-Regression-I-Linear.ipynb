{
 "cells": [
  {
   "cell_type": "code",
   "execution_count": 120,
   "metadata": {
    "hide_input": false,
    "internals": {},
    "slideshow": {
     "slide_type": "skip"
    },
    "tags": [
     "hide-cell"
    ]
   },
   "outputs": [],
   "source": [
    "import numpy as np\n",
    "import scipy as sp\n",
    "import matplotlib.pyplot as plt\n",
    "import pandas as pd\n",
    "import seaborn as sns\n",
    "import matplotlib as mp\n",
    "import sklearn\n",
    "from IPython.display import Image, HTML\n",
    "\n",
    "import laUtilities as ut\n",
    "\n",
    "%matplotlib inline\n",
    "\n",
    "import statsmodels.api as sm\n",
    "\n",
    "def centerAxes(ax):\n",
    "    ax.spines['left'].set_position('zero')\n",
    "    ax.spines['right'].set_color('none')\n",
    "    ax.spines['bottom'].set_position('zero')\n",
    "    ax.spines['top'].set_color('none')\n",
    "    ax.xaxis.set_ticks_position('bottom')\n",
    "    ax.yaxis.set_ticks_position('left')\n",
    "    bounds = np.array([ax.axes.get_xlim(), ax.axes.get_ylim()])\n",
    "    ax.plot(bounds[0][0],bounds[1][0],'')\n",
    "    ax.plot(bounds[0][1],bounds[1][1],'')"
   ]
  },
  {
   "cell_type": "markdown",
   "metadata": {
    "hide_input": true,
    "internals": {
     "slide_type": "subslide"
    },
    "slideshow": {
     "slide_type": "slide"
    }
   },
   "source": [
    "# Linear Regression"
   ]
  },
  {
   "cell_type": "markdown",
   "metadata": {
    "slideshow": {
     "slide_type": "fragment"
    },
    "tags": [
     "hide-input"
    ]
   },
   "source": [
    "<img src=\"figs/Sir_Francis_Galton_by_Charles_Wellington_Furse.jpg\" alt=\"Figure\" width=\"45%\">"
   ]
  },
  {
   "cell_type": "code",
   "execution_count": 121,
   "metadata": {
    "hide_input": true,
    "tags": [
     "hide-input"
    ]
   },
   "outputs": [
    {
     "data": {
      "text/html": [
       "<a href=\"https://commons.wikimedia.org/wiki/File:Sir_Francis_Galton_by_Charles_Wellington_Furse.jpg#/media/File:Sir_Francis_Galton_by_Charles_Wellington_Furse.jpg\">Sir Francis Galton by Charles Wellington Furse</a> by Charles Wellington Furse (died 1904) - <a href=\"//en.wikipedia.org/wiki/National_Portrait_Gallery,_London\" class=\"extiw\" title=\"en:National Portrait Gallery, London\">National Portrait Gallery</a>: <a rel=\"nofollow\" class=\"external text\" href=\"http://www.npg.org.uk/collections/search/portrait.php?search=ap&amp;npgno=3916&amp;eDate=&amp;lDate=\">NPG 3916</a>"
      ],
      "text/plain": [
       "<IPython.core.display.HTML object>"
      ]
     },
     "execution_count": 121,
     "metadata": {},
     "output_type": "execute_result"
    }
   ],
   "source": [
    "HTML(u'<a href=\"https://commons.wikimedia.org/wiki/File:Sir_Francis_Galton_by_Charles_Wellington_Furse.jpg#/media/File:Sir_Francis_Galton_by_Charles_Wellington_Furse.jpg\">Sir Francis Galton by Charles Wellington Furse</a> by Charles Wellington Furse (died 1904) - <a href=\"//en.wikipedia.org/wiki/National_Portrait_Gallery,_London\" class=\"extiw\" title=\"en:National Portrait Gallery, London\">National Portrait Gallery</a>: <a rel=\"nofollow\" class=\"external text\" href=\"http://www.npg.org.uk/collections/search/portrait.php?search=ap&amp;npgno=3916&amp;eDate=&amp;lDate=\">NPG 3916</a>')"
   ]
  },
  {
   "cell_type": "markdown",
   "metadata": {
    "slideshow": {
     "slide_type": "slide"
    }
   },
   "source": [
    "<img src=\"figs/galton-title.png\" alt=\"Figure\" width=\"55%\">"
   ]
  },
  {
   "cell_type": "markdown",
   "metadata": {},
   "source": [
    "In 1886 Francis Galton published his observations about how random factors affect outliers.\n",
    "\n",
    "This notion has come to be called \"regression to the mean\" because unusually large or small phenomena, after the influence of random events, become closer to their mean values (less extreme)."
   ]
  },
  {
   "cell_type": "markdown",
   "metadata": {
    "slideshow": {
     "slide_type": "fragment"
    }
   },
   "source": [
    "<img src=\"figs/galton-regression.png\" alt=\"Figure\" width=\"55%\">"
   ]
  },
  {
   "cell_type": "markdown",
   "metadata": {},
   "source": [
    "Galton fit a straight line to this effect, and the fitting of lines or curves to data has come to be called regression as well."
   ]
  },
  {
   "cell_type": "markdown",
   "metadata": {
    "slideshow": {
     "slide_type": "fragment"
    }
   },
   "source": [
    "The most common form of machine learning is __regression__, which means constructing an equation that describes the relationships among variables.\n",
    "\n",
    "It is a form of supervised learning: whereas __classification__ deals with predicting categorical features (labels or classes), __regression__ deals with predicting continuous features (real values)."
   ]
  },
  {
   "cell_type": "markdown",
   "metadata": {
    "slideshow": {
     "slide_type": "slide"
    }
   },
   "source": [
    "For example, we may look at these points and decide to model them using a line."
   ]
  },
  {
   "cell_type": "code",
   "execution_count": 122,
   "metadata": {
    "hide_input": true,
    "tags": [
     "hide-input"
    ]
   },
   "outputs": [
    {
     "data": {
      "image/png": "[encoded data removed]",
      "text/plain": [
       "<Figure size 504x504 with 1 Axes>"
      ]
     },
     "metadata": {
      "needs_background": "light"
     },
     "output_type": "display_data"
    }
   ],
   "source": [
    "ax = plt.figure(figsize = (7, 7)).add_subplot()\n",
    "centerAxes(ax)\n",
    "line = np.array([1, 0.5])\n",
    "xlin = -10.0 + 20.0 * np.random.random(100)\n",
    "ylin = line[0] + (line[1] * xlin) + np.random.randn(100)\n",
    "ax.plot(xlin, ylin, 'ro', markersize = 4);"
   ]
  },
  {
   "cell_type": "markdown",
   "metadata": {
    "slideshow": {
     "slide_type": "fragment"
    }
   },
   "source": [
    "We may look at these points and decide to model them using a quadratic function."
   ]
  },
  {
   "cell_type": "code",
   "execution_count": 123,
   "metadata": {
    "hide_input": true,
    "tags": [
     "hide-input"
    ]
   },
   "outputs": [
    {
     "data": {
      "image/png": "[encoded data removed]",
      "text/plain": [
       "<Figure size 504x504 with 1 Axes>"
      ]
     },
     "metadata": {
      "needs_background": "light"
     },
     "output_type": "display_data"
    }
   ],
   "source": [
    "ax = plt.figure(figsize = (7, 7)).add_subplot()\n",
    "centerAxes(ax)\n",
    "quad = np.array([1, 3, 0.5])\n",
    "xquad = -10.0 + 20.0 * np.random.random(100)\n",
    "yquad = quad[0] + (quad[1] * xquad) + (quad[2] * xquad * xquad) + np.random.randn(100)\n",
    "ax.plot(xquad, yquad, 'ro', markersize = 4);"
   ]
  },
  {
   "cell_type": "markdown",
   "metadata": {
    "slideshow": {
     "slide_type": "fragment"
    }
   },
   "source": [
    "And we may look at these points and decide to model them using a logarithmic function."
   ]
  },
  {
   "cell_type": "code",
   "execution_count": 124,
   "metadata": {
    "hide_input": true,
    "tags": [
     "hide-input"
    ]
   },
   "outputs": [
    {
     "data": {
      "image/png": "[encoded data removed]",
      "text/plain": [
       "<Figure size 504x504 with 1 Axes>"
      ]
     },
     "metadata": {
      "needs_background": "light"
     },
     "output_type": "display_data"
    }
   ],
   "source": [
    "ax = plt.figure(figsize = (7, 7)).add_subplot()\n",
    "centerAxes(ax)\n",
    "log = np.array([1, 4])\n",
    "xlog = 10.0 * np.random.random(100)\n",
    "ylog = log[0] + log[1] * np.log(xlog) + np.random.randn(100)\n",
    "ax.plot(xlog, ylog, 'ro', markersize=4);"
   ]
  },
  {
   "cell_type": "markdown",
   "metadata": {
    "slideshow": {
     "slide_type": "fragment"
    }
   },
   "source": [
    "Clearly, none of these datasets agrees perfectly with the proposed model.   So the question arises:\n",
    "\n",
    "How do we find the __best__ linear function (or quadratic function, or logarithmic function) given the data?"
   ]
  },
  {
   "cell_type": "markdown",
   "metadata": {
    "slideshow": {
     "slide_type": "slide"
    }
   },
   "source": [
    "__Framework.__\n",
    "\n",
    "This problem has been studied extensively in the field of statistics.   Certain terminology is used:\n",
    "\n",
    "* Some values are referred to as \"independent,\" and\n",
    "* Some values are referred to as \"dependent.\""
   ]
  },
  {
   "cell_type": "markdown",
   "metadata": {
    "slideshow": {
     "slide_type": "fragment"
    }
   },
   "source": [
    "The basic regression task is: \n",
    "* given a set of independent variables \n",
    "* and the associated dependent variables, \n",
    "* estimate the parameters of a model (such as a line, parabola, etc) that describes how the dependent variables are related to the independent variables."
   ]
  },
  {
   "cell_type": "markdown",
   "metadata": {
    "slideshow": {
     "slide_type": "fragment"
    }
   },
   "source": [
    "The independent variables are collected into a matrix $X,$ which is called the __design matrix.__\n",
    "\n",
    "The dependent variables are collected into an __observation__ vector $\\mathbf{y}.$\n",
    "\n",
    "The parameters of the model (for any kind of model) are collected into a __parameter__ vector $\\mathbf{\\beta}.$"
   ]
  },
  {
   "cell_type": "code",
   "execution_count": 125,
   "metadata": {
    "hide_input": true,
    "slideshow": {
     "slide_type": "skip"
    },
    "tags": [
     "hide-input"
    ]
   },
   "outputs": [
    {
     "data": {
      "image/png": "[encoded data removed]",
      "text/plain": [
       "<Figure size 504x504 with 1 Axes>"
      ]
     },
     "metadata": {
      "needs_background": "light"
     },
     "output_type": "display_data"
    }
   ],
   "source": [
    "ax = plt.figure(figsize = (7, 7)).add_subplot()\n",
    "centerAxes(ax)\n",
    "line = np.array([1, 0.5])\n",
    "xlin = -10.0 + 20.0 * np.random.random(100)\n",
    "ylin = line[0] + (line[1] * xlin) + np.random.randn(100)\n",
    "ax.plot(xlin, ylin, 'ro', markersize = 4)\n",
    "ax.plot(xlin, line[0] + line[1] * xlin, 'b-')\n",
    "plt.text(-9, 3, r'$y = \\beta_0 + \\beta_1x$', size=20);"
   ]
  },
  {
   "cell_type": "markdown",
   "metadata": {
    "slideshow": {
     "slide_type": "slide"
    }
   },
   "source": [
    "## Least-Squares Lines"
   ]
  },
  {
   "cell_type": "markdown",
   "metadata": {
    "slideshow": {
     "slide_type": "fragment"
    }
   },
   "source": [
    "The first kind of model we'll study is a linear equation, $y = \\beta_0 + \\beta_1 x.$\n",
    "\n",
    "Experimental data often produce points $(x_1, y_1), \\dots, (x_n,y_n)$ that seem to lie close to a line.   \n",
    "\n",
    "We want to determine the parameters $\\beta_0, \\beta_1$ that define a line that is as \"close\" to the points as possible."
   ]
  },
  {
   "cell_type": "markdown",
   "metadata": {
    "slideshow": {
     "slide_type": "fragment"
    }
   },
   "source": [
    "Suppose we have a line $y = \\beta_0 + \\beta_1 x$.   For each data point $(x_j, y_j),$ there is a point $(x_j, \\beta_0 + \\beta_1 x_j)$ that is the point on the line with the same $x$-coordinate."
   ]
  },
  {
   "cell_type": "markdown",
   "metadata": {
    "slideshow": {
     "slide_type": "fragment"
    }
   },
   "source": [
    "<img src=\"figs/Lay-fig-6-6-1.jpg\" alt=\"Figure\" width=\"55%\">"
   ]
  },
  {
   "cell_type": "markdown",
   "metadata": {},
   "source": [
    "Image from Lay, _Linear Algebra and its Applications,_ 4th edition"
   ]
  },
  {
   "cell_type": "markdown",
   "metadata": {
    "slideshow": {
     "slide_type": "fragment"
    }
   },
   "source": [
    "We call \n",
    "* $y_j$ the __observed__ value of $y$ and \n",
    "* $\\beta_0 + \\beta_1 x_j$ the __predicted__ $y$-value.   \n",
    "\n",
    "The difference between an observed $y$-value and a predicted $y$-value is called a __residual__."
   ]
  },
  {
   "cell_type": "markdown",
   "metadata": {
    "slideshow": {
     "slide_type": "fragment"
    }
   },
   "source": [
    "There are several ways of measure how \"close\" the line is to the data. \n",
    "\n",
    "The usual choice is to sum the squares of the residuals.  "
   ]
  },
  {
   "cell_type": "markdown",
   "metadata": {
    "slideshow": {
     "slide_type": "fragment"
    }
   },
   "source": [
    "The __least-squares line__ is the line $y = \\beta_0 + \\beta_1x$ that minimizes the sum of squares of the residuals. \n",
    "\n",
    "The coefficients $\\beta_0, \\beta_1$ of the line are called __regression coefficients.__"
   ]
  },
  {
   "cell_type": "markdown",
   "metadata": {
    "slideshow": {
     "slide_type": "slide"
    }
   },
   "source": [
    "__A least-squares problem.__\n",
    "\n",
    "If the data points were on the line, the parameters $\\beta_0$ and $\\beta_1$ would satisfy the equations\n",
    "\n",
    "$$\\beta_0 + \\beta_1 x_1 = y_1 $$\n",
    "$$\\beta_0 + \\beta_1 x_2 = y_2 $$\n",
    "$$\\beta_0 + \\beta_1 x_3 = y_3 $$\n",
    "$$ \\vdots$$\n",
    "$$\\beta_0 + \\beta_1 x_n = y_n $$"
   ]
  },
  {
   "cell_type": "markdown",
   "metadata": {
    "slideshow": {
     "slide_type": "fragment"
    }
   },
   "source": [
    "We can write this system as \n",
    "\n",
    "$$X\\mathbf{\\beta} = \\mathbf{y}$$\n",
    "\n",
    "where \n",
    "\n",
    "$$X=\\begin{bmatrix}1&x_1\\\\1&x_2\\\\\\vdots&\\vdots\\\\1&x_n\\end{bmatrix},\\;\\;\\mathbf{\\beta} = \\begin{bmatrix}\\beta_0\\\\\\beta_1\\end{bmatrix},\\;\\;\\mathbf{y}=\\begin{bmatrix}y_1\\\\y_2\\\\\\vdots\\\\y_n\\end{bmatrix}$$"
   ]
  },
  {
   "cell_type": "markdown",
   "metadata": {
    "slideshow": {
     "slide_type": "fragment"
    }
   },
   "source": [
    "Of course, if the data points don't actually lie exactly on a line, \n",
    "\n",
    "... then there are no parameters $\\beta_0, \\beta_1$ for which the predicted $y$-values in $X\\mathbf{\\beta}$ equal the observed $y$-values in $\\mathbf{y}$, \n",
    "\n",
    "... and $X\\mathbf{\\beta}=\\mathbf{y}$ has no solution."
   ]
  },
  {
   "cell_type": "markdown",
   "metadata": {
    "slideshow": {
     "slide_type": "fragment"
    }
   },
   "source": [
    "Now, since the data doesn't fall exactly on a line, we have decided to seek the $\\beta$ that minimizes the sum of squared residuals, ie,\n",
    "\n",
    "$$\\sum_i (\\beta_0 + \\beta_1 x_i - y_i)^2$$"
   ]
  },
  {
   "cell_type": "markdown",
   "metadata": {
    "slideshow": {
     "slide_type": "fragment"
    }
   },
   "source": [
    "$$=\\Vert X\\beta -\\mathbf{y}\\Vert^2$$"
   ]
  },
  {
   "cell_type": "markdown",
   "metadata": {
    "slideshow": {
     "slide_type": "fragment"
    }
   },
   "source": [
    "This is key: __the sum of squares of the residuals__ is __exactly__ the __square of the distance between the vectors $X\\mathbf{\\beta}$ and $\\mathbf{y}.$__"
   ]
  },
  {
   "cell_type": "markdown",
   "metadata": {
    "slideshow": {
     "slide_type": "fragment"
    }
   },
   "source": [
    "Computing the least-squares solution of $X\\beta = \\mathbf{y}$ is equivalent to finding the $\\mathbf{\\beta}$ that determines the least-squares line."
   ]
  },
  {
   "cell_type": "code",
   "execution_count": 126,
   "metadata": {
    "hide_input": true,
    "tags": [
     "hide-input"
    ]
   },
   "outputs": [
    {
     "data": {
      "image/png": "[encoded data removed]",
      "text/plain": [
       "<Figure size 504x504 with 1 Axes>"
      ]
     },
     "metadata": {
      "needs_background": "light"
     },
     "output_type": "display_data"
    }
   ],
   "source": [
    "ax = plt.figure(figsize = (7, 7)).add_subplot()\n",
    "centerAxes(ax)\n",
    "line = np.array([1, 0.5])\n",
    "xlin = -10.0 + 20.0 * np.random.random(100)\n",
    "ylin = line[0] + (line[1] * xlin) + np.random.randn(100)\n",
    "ax.plot(xlin, ylin, 'ro', markersize = 4)\n",
    "ax.plot(xlin, line[0] + line[1] * xlin, 'b-')\n",
    "plt.text(-9, 3, r'$y = \\beta_0 + \\beta_1x$', size=20);"
   ]
  },
  {
   "cell_type": "markdown",
   "metadata": {
    "slideshow": {
     "slide_type": "fragment"
    }
   },
   "source": [
    "Now, to obtain the least-squares line, find the least-squares solution to $X\\mathbf{\\beta} = \\mathbf{y}.$"
   ]
  },
  {
   "cell_type": "markdown",
   "metadata": {
    "slideshow": {
     "slide_type": "fragment"
    }
   },
   "source": [
    "From linear algebra we know that the least squares solution of $X\\mathbf{\\beta} = \\mathbf{y}$ is given by the solution of the __normal equations__:\n",
    "\n",
    "$$X^TX\\mathbf{\\beta} = X^T\\mathbf{y}$$"
   ]
  },
  {
   "cell_type": "markdown",
   "metadata": {},
   "source": [
    "We also know that the normal equations __always__ have at least one solution.\n",
    "\n",
    "And if $X^TX$ is invertible, there is a unique solution that is given by:\n",
    "    \n",
    "$$\\hat{\\mathbf{\\beta}} = (X^TX)^{-1} X^T\\mathbf{y}$$"
   ]
  },
  {
   "cell_type": "markdown",
   "metadata": {
    "slideshow": {
     "slide_type": "slide"
    }
   },
   "source": [
    "## The General Linear Model"
   ]
  },
  {
   "cell_type": "markdown",
   "metadata": {
    "slideshow": {
     "slide_type": "fragment"
    }
   },
   "source": [
    "Another way that the inconsistent linear system is often written is to collect all the residuals into a __residual vector.__ \n",
    "\n",
    "Then an exact equation is\n",
    "\n",
    "$$y = X\\mathbf{\\beta} + {\\mathbf\\epsilon}$$"
   ]
  },
  {
   "cell_type": "markdown",
   "metadata": {
    "slideshow": {
     "slide_type": "fragment"
    }
   },
   "source": [
    "Any equation of this form is referred to as a __linear model.__ \n",
    "\n",
    "In this formulation, the goal is to find the $\\beta$ so as to minimize the length of $\\epsilon$, ie, $\\Vert\\epsilon\\Vert.$"
   ]
  },
  {
   "cell_type": "markdown",
   "metadata": {
    "slideshow": {
     "slide_type": "fragment"
    }
   },
   "source": [
    "In some cases, one would like to fit data points with something other than a straight line.  \n",
    "\n",
    "In cases like this, the matrix equation is still $X\\mathbf{\\beta} = \\mathbf{y}$, but the specific form of $X$ changes from one problem to the next."
   ]
  },
  {
   "cell_type": "markdown",
   "metadata": {
    "slideshow": {
     "slide_type": "slide"
    }
   },
   "source": [
    "## Least-Squares Fitting of Other Models"
   ]
  },
  {
   "cell_type": "markdown",
   "metadata": {
    "slideshow": {
     "slide_type": "fragment"
    }
   },
   "source": [
    "In model fitting, the parameters of the model are what is unknown.  \n",
    "\n",
    "A central question for us is whether the model is _linear_ in its parameters."
   ]
  },
  {
   "cell_type": "markdown",
   "metadata": {
    "slideshow": {
     "slide_type": "fragment"
    }
   },
   "source": [
    "For example, the model \n",
    "\n",
    "$$y = \\beta_0 e^{-\\beta_1 x}$$\n",
    "\n",
    "is __not__ linear in its parameters.  \n",
    "\n",
    "The model \n",
    "\n",
    "$$y = \\beta_0 e^{-2 x}$$\n",
    "\n",
    "__is__ linear in its parameters."
   ]
  },
  {
   "cell_type": "markdown",
   "metadata": {
    "slideshow": {
     "slide_type": "fragment"
    }
   },
   "source": [
    "For a model that is linear in its parameters, an observation is a linear combination of (arbitrary) known functions."
   ]
  },
  {
   "cell_type": "markdown",
   "metadata": {
    "slideshow": {
     "slide_type": "fragment"
    }
   },
   "source": [
    "In other words, a model that is linear in its parameters is\n",
    "\n",
    "$$y = \\beta_0f_0(x) + \\beta_1f_1(x) + \\dots + \\beta_nf_n(x)$$\n",
    "\n",
    "where $f_0, \\dots, f_n$ are known functions and $\\beta_0,\\dots,\\beta_k$ are parameters."
   ]
  },
  {
   "cell_type": "markdown",
   "metadata": {
    "slideshow": {
     "slide_type": "slide"
    }
   },
   "source": [
    "__Example.__  \n",
    "\n",
    "Suppose data points $(x_1, y_1), \\dots, (x_n, y_n)$ appear to lie along some sort of parabola instead of a straight line.  "
   ]
  },
  {
   "cell_type": "code",
   "execution_count": 127,
   "metadata": {
    "hide_input": false,
    "tags": [
     "hide-input"
    ]
   },
   "outputs": [
    {
     "data": {
      "image/png": "[encoded data removed]",
      "text/plain": [
       "<Figure size 504x504 with 1 Axes>"
      ]
     },
     "metadata": {
      "needs_background": "light"
     },
     "output_type": "display_data"
    }
   ],
   "source": [
    "ax = plt.figure(figsize = (7, 7)).add_subplot()\n",
    "centerAxes(ax)\n",
    "quad = np.array([1, 3, 0.5])\n",
    "xquad = -10.0 + 20.0 * np.random.random(100)\n",
    "yquad = quad[0] + (quad[1] * xquad) + (quad[2] * xquad * xquad) + np.random.randn(100)\n",
    "ax.plot(xquad, yquad, 'ro', markersize = 4);"
   ]
  },
  {
   "cell_type": "markdown",
   "metadata": {
    "slideshow": {
     "slide_type": "fragment"
    }
   },
   "source": [
    "As a result, we wish to approximate the data by an equation of the form\n",
    "\n",
    "$$y = \\beta_0 + \\beta_1x + \\beta_2x^2.$$\n",
    "\n",
    "Let's describe the linear model that produces a \"least squares fit\" of the data by the equation."
   ]
  },
  {
   "cell_type": "markdown",
   "metadata": {
    "slideshow": {
     "slide_type": "fragment"
    }
   },
   "source": [
    "__Solution.__  The ideal relationship is $y = \\beta_0 + \\beta_1x + \\beta_2x^2.$"
   ]
  },
  {
   "cell_type": "markdown",
   "metadata": {
    "slideshow": {
     "slide_type": "fragment"
    }
   },
   "source": [
    "Suppose the actual values of the parameters are $\\beta_0, \\beta_1, \\beta_2.$  Then the coordinates of the first data point satisfy the equation\n",
    "\n",
    "$$y_1 = \\beta_0 + \\beta_1x_1 + \\beta_2x_1^2 + \\epsilon_1$$\n",
    "\n",
    "where $\\epsilon_1$ is the residual error between the observed value $y_1$ and the predicted $y$-value."
   ]
  },
  {
   "cell_type": "markdown",
   "metadata": {
    "slideshow": {
     "slide_type": "fragment"
    }
   },
   "source": [
    "Each data point determines a similar equation:\n",
    "\n",
    "$$y_1 = \\beta_0 + \\beta_1x_1 + \\beta_2x_1^2 + \\epsilon_1$$\n",
    "$$y_2 = \\beta_0 + \\beta_1x_2 + \\beta_2x_2^2 + \\epsilon_2$$\n",
    "$$\\vdots$$\n",
    "$$y_n = \\beta_0 + \\beta_1x_n + \\beta_2x_n^2 + \\epsilon_n$$"
   ]
  },
  {
   "cell_type": "markdown",
   "metadata": {
    "collapsed": true,
    "slideshow": {
     "slide_type": "fragment"
    }
   },
   "source": [
    "Clearly, this system can be written as $\\mathbf{y} = X\\mathbf{\\beta} + \\mathbf{\\epsilon}.$\n",
    "\n",
    "$$\\begin{bmatrix}y_1\\\\y_2\\\\\\vdots\\\\y_n\\end{bmatrix} = \\begin{bmatrix}1&x_1&x_1^2\\\\1&x_2&x_2^2\\\\\\vdots&\\vdots&\\vdots\\\\1&x_n&x_n^2\\end{bmatrix} \\begin{bmatrix}\\beta_0\\\\\\beta_1\\\\\\beta_2\\end{bmatrix} + \\begin{bmatrix}\\epsilon_1\\\\\\epsilon_2\\\\\\vdots\\\\\\epsilon_n\\end{bmatrix}$$"
   ]
  },
  {
   "cell_type": "code",
   "execution_count": 128,
   "metadata": {
    "slideshow": {
     "slide_type": "fragment"
    }
   },
   "outputs": [],
   "source": [
    "#\n",
    "# Input data are in the vectors xquad and yquad\n",
    "#\n",
    "# estimate the parameters of the linear model\n",
    "#\n",
    "m = np.shape(xquad)[0]\n",
    "X = np.array([np.ones(m), xquad, xquad**2]).T\n",
    "beta = np.linalg.inv(X.T @ X) @ X.T @ yquad"
   ]
  },
  {
   "cell_type": "code",
   "execution_count": 129,
   "metadata": {
    "hide_input": true,
    "slideshow": {
     "slide_type": "fragment"
    },
    "tags": [
     "hide-input"
    ]
   },
   "outputs": [
    {
     "data": {
      "image/png": "[encoded data removed]",
      "text/plain": [
       "<Figure size 432x288 with 1 Axes>"
      ]
     },
     "metadata": {
      "needs_background": "light"
     },
     "output_type": "display_data"
    }
   ],
   "source": [
    "#\n",
    "# plot the results\n",
    "#\n",
    "ax = ut.plotSetup(-10, 10, -10, 20)\n",
    "ut.centerAxes(ax)\n",
    "xplot = np.linspace(-10, 10, 50)\n",
    "yestplot = beta[0] + beta[1] * xplot + beta[2] * xplot**2\n",
    "ax.plot(xplot, yestplot, 'b-', lw=2)\n",
    "ax.plot(xquad, yquad, 'ro', markersize=4);"
   ]
  },
  {
   "cell_type": "code",
   "execution_count": 130,
   "metadata": {
    "slideshow": {
     "slide_type": "fragment"
    }
   },
   "outputs": [],
   "source": [
    "#\n",
    "# Input data are in the vectors xlog and ylog\n",
    "#\n",
    "# estimate the parameters of the linear model\n",
    "#\n",
    "m = np.shape(xlog)[0]\n",
    "X = np.array([np.ones(m), np.log(xlog)]).T\n",
    "beta = np.linalg.inv(X.T @ X) @ X.T @ ylog"
   ]
  },
  {
   "cell_type": "code",
   "execution_count": 131,
   "metadata": {
    "hide_input": true,
    "slideshow": {
     "slide_type": "fragment"
    },
    "tags": [
     "hide-input"
    ]
   },
   "outputs": [
    {
     "data": {
      "image/png": "[encoded data removed]",
      "text/plain": [
       "<Figure size 432x288 with 1 Axes>"
      ]
     },
     "metadata": {
      "needs_background": "light"
     },
     "output_type": "display_data"
    }
   ],
   "source": [
    "# \n",
    "# plot the results\n",
    "#\n",
    "ax = ut.plotSetup(-10,10,-10,15)\n",
    "ut.centerAxes(ax)\n",
    "xplot = np.logspace(np.log10(0.0001),1,100)\n",
    "yestplot = beta[0]+beta[1]*np.log(xplot)\n",
    "ax.plot(xplot,yestplot,'b-',lw=2)\n",
    "ax.plot(xlog,ylog,'ro',markersize=4);"
   ]
  },
  {
   "cell_type": "markdown",
   "metadata": {
    "slideshow": {
     "slide_type": "slide"
    }
   },
   "source": [
    "## Multiple Regression"
   ]
  },
  {
   "cell_type": "markdown",
   "metadata": {
    "slideshow": {
     "slide_type": "fragment"
    }
   },
   "source": [
    "Suppose an experiment involves two independent variables -- say, $u$ and $v$, -- and one dependent variable, $y$.  A simple equation for predicting $y$ from $u$ and $v$ has the form\n",
    "\n",
    "$$y = \\beta_0 + \\beta_1 u + \\beta_2 v$$"
   ]
  },
  {
   "cell_type": "markdown",
   "metadata": {
    "slideshow": {
     "slide_type": "fragment"
    }
   },
   "source": [
    "Since there is more than one independent variable, this is called __multiple regression.__"
   ]
  },
  {
   "cell_type": "markdown",
   "metadata": {
    "slideshow": {
     "slide_type": "fragment"
    }
   },
   "source": [
    "A more general prediction equation might have the form\n",
    "\n",
    "$$y = \\beta_0 + \\beta_1 u + \\beta_2 v + \\beta_3u^2 + \\beta_4 uv + \\beta_5 v^2$$\n",
    "\n",
    "A least squares fit to equations like this is called a __trend surface.__"
   ]
  },
  {
   "cell_type": "markdown",
   "metadata": {
    "slideshow": {
     "slide_type": "fragment"
    }
   },
   "source": [
    "In general, a linear model will arise whenever $y$ is to be predicted by an equation of the form\n",
    "\n",
    "$$y = \\beta_0f_0(u,v) + \\beta_1f_1(u,v) + \\cdots + \\beta_kf_k(u,v)$$\n",
    "\n",
    "with $f_0,\\dots,f_k$ any sort of known functions and $\\beta_0,...,\\beta_k$ unknown weights."
   ]
  },
  {
   "cell_type": "markdown",
   "metadata": {
    "slideshow": {
     "slide_type": "fragment"
    }
   },
   "source": [
    "Let's take an example.   Here are a set of points in $\\mathbb{R}^3$:"
   ]
  },
  {
   "cell_type": "code",
   "execution_count": 136,
   "metadata": {
    "hide_input": true,
    "scrolled": false,
    "tags": [
     "hide-input"
    ]
   },
   "outputs": [
    {
     "data": {
      "application/javascript": [
       "/* Put everything inside the global mpl namespace */\n",
       "/* global mpl */\n",
       "window.mpl = {};\n",
       "\n",
       "mpl.get_websocket_type = function () {\n",
       "    if (typeof WebSocket !== 'undefined') {\n",
       "        return WebSocket;\n",
       "    } else if (typeof MozWebSocket !== 'undefined') {\n",
       "        return MozWebSocket;\n",
       "    } else {\n",
       "        alert(\n",
       "            'Your browser does not have WebSocket support. ' +\n",
       "                'Please try Chrome, Safari or Firefox ≥ 6. ' +\n",
       "                'Firefox 4 and 5 are also supported but you ' +\n",
       "                'have to enable WebSockets in about:config.'\n",
       "        );\n",
       "    }\n",
       "};\n",
       "\n",
       "mpl.figure = function (figure_id, websocket, ondownload, parent_element) {\n",
       "    this.id = figure_id;\n",
       "\n",
       "    this.ws = websocket;\n",
       "\n",
       "    this.supports_binary = this.ws.binaryType !== undefined;\n",
       "\n",
       "    if (!this.supports_binary) {\n",
       "        var warnings = document.getElementById('mpl-warnings');\n",
       "        if (warnings) {\n",
       "            warnings.style.display = 'block';\n",
       "            warnings.textContent =\n",
       "                'This browser does not support binary websocket messages. ' +\n",
       "                'Performance may be slow.';\n",
       "        }\n",
       "    }\n",
       "\n",
       "    this.imageObj = new Image();\n",
       "\n",
       "    this.context = undefined;\n",
       "    this.message = undefined;\n",
       "    this.canvas = undefined;\n",
       "    this.rubberband_canvas = undefined;\n",
       "    this.rubberband_context = undefined;\n",
       "    this.format_dropdown = undefined;\n",
       "\n",
       "    this.image_mode = 'full';\n",
       "\n",
       "    this.root = document.createElement('div');\n",
       "    this.root.setAttribute('style', 'display: inline-block');\n",
       "    this._root_extra_style(this.root);\n",
       "\n",
       "    parent_element.appendChild(this.root);\n",
       "\n",
       "    this._init_header(this);\n",
       "    this._init_canvas(this);\n",
       "    this._init_toolbar(this);\n",
       "\n",
       "    var fig = this;\n",
       "\n",
       "    this.waiting = false;\n",
       "\n",
       "    this.ws.onopen = function () {\n",
       "        fig.send_message('supports_binary', { value: fig.supports_binary });\n",
       "        fig.send_message('send_image_mode', {});\n",
       "        if (fig.ratio !== 1) {\n",
       "            fig.send_message('set_dpi_ratio', { dpi_ratio: fig.ratio });\n",
       "        }\n",
       "        fig.send_message('refresh', {});\n",
       "    };\n",
       "\n",
       "    this.imageObj.onload = function () {\n",
       "        if (fig.image_mode === 'full') {\n",
       "            // Full images could contain transparency (where diff images\n",
       "            // almost always do), so we need to clear the canvas so that\n",
       "            // there is no ghosting.\n",
       "            fig.context.clearRect(0, 0, fig.canvas.width, fig.canvas.height);\n",
       "        }\n",
       "        fig.context.drawImage(fig.imageObj, 0, 0);\n",
       "    };\n",
       "\n",
       "    this.imageObj.onunload = function () {\n",
       "        fig.ws.close();\n",
       "    };\n",
       "\n",
       "    this.ws.onmessage = this._make_on_message_function(this);\n",
       "\n",
       "    this.ondownload = ondownload;\n",
       "};\n",
       "\n",
       "mpl.figure.prototype._init_header = function () {\n",
       "    var titlebar = document.createElement('div');\n",
       "    titlebar.classList =\n",
       "        'ui-dialog-titlebar ui-widget-header ui-corner-all ui-helper-clearfix';\n",
       "    var titletext = document.createElement('div');\n",
       "    titletext.classList = 'ui-dialog-title';\n",
       "    titletext.setAttribute(\n",
       "        'style',\n",
       "        'width: 100%; text-align: center; padding: 3px;'\n",
       "    );\n",
       "    titlebar.appendChild(titletext);\n",
       "    this.root.appendChild(titlebar);\n",
       "    this.header = titletext;\n",
       "};\n",
       "\n",
       "mpl.figure.prototype._canvas_extra_style = function (_canvas_div) {};\n",
       "\n",
       "mpl.figure.prototype._root_extra_style = function (_canvas_div) {};\n",
       "\n",
       "mpl.figure.prototype._init_canvas = function () {\n",
       "    var fig = this;\n",
       "\n",
       "    var canvas_div = (this.canvas_div = document.createElement('div'));\n",
       "    canvas_div.setAttribute(\n",
       "        'style',\n",
       "        'border: 1px solid #ddd;' +\n",
       "            'box-sizing: content-box;' +\n",
       "            'clear: both;' +\n",
       "            'min-height: 1px;' +\n",
       "            'min-width: 1px;' +\n",
       "            'outline: 0;' +\n",
       "            'overflow: hidden;' +\n",
       "            'position: relative;' +\n",
       "            'resize: both;'\n",
       "    );\n",
       "\n",
       "    function on_keyboard_event_closure(name) {\n",
       "        return function (event) {\n",
       "            return fig.key_event(event, name);\n",
       "        };\n",
       "    }\n",
       "\n",
       "    canvas_div.addEventListener(\n",
       "        'keydown',\n",
       "        on_keyboard_event_closure('key_press')\n",
       "    );\n",
       "    canvas_div.addEventListener(\n",
       "        'keyup',\n",
       "        on_keyboard_event_closure('key_release')\n",
       "    );\n",
       "\n",
       "    this._canvas_extra_style(canvas_div);\n",
       "    this.root.appendChild(canvas_div);\n",
       "\n",
       "    var canvas = (this.canvas = document.createElement('canvas'));\n",
       "    canvas.classList.add('mpl-canvas');\n",
       "    canvas.setAttribute('style', 'box-sizing: content-box;');\n",
       "\n",
       "    this.context = canvas.getContext('2d');\n",
       "\n",
       "    var backingStore =\n",
       "        this.context.backingStorePixelRatio ||\n",
       "        this.context.webkitBackingStorePixelRatio ||\n",
       "        this.context.mozBackingStorePixelRatio ||\n",
       "        this.context.msBackingStorePixelRatio ||\n",
       "        this.context.oBackingStorePixelRatio ||\n",
       "        this.context.backingStorePixelRatio ||\n",
       "        1;\n",
       "\n",
       "    this.ratio = (window.devicePixelRatio || 1) / backingStore;\n",
       "\n",
       "    var rubberband_canvas = (this.rubberband_canvas = document.createElement(\n",
       "        'canvas'\n",
       "    ));\n",
       "    rubberband_canvas.setAttribute(\n",
       "        'style',\n",
       "        'box-sizing: content-box; position: absolute; left: 0; top: 0; z-index: 1;'\n",
       "    );\n",
       "\n",
       "    // Apply a ponyfill if ResizeObserver is not implemented by browser.\n",
       "    if (this.ResizeObserver === undefined) {\n",
       "        if (window.ResizeObserver !== undefined) {\n",
       "            this.ResizeObserver = window.ResizeObserver;\n",
       "        } else {\n",
       "            var obs = _JSXTOOLS_RESIZE_OBSERVER({});\n",
       "            this.ResizeObserver = obs.ResizeObserver;\n",
       "        }\n",
       "    }\n",
       "\n",
       "    this.resizeObserverInstance = new this.ResizeObserver(function (entries) {\n",
       "        var nentries = entries.length;\n",
       "        for (var i = 0; i < nentries; i++) {\n",
       "            var entry = entries[i];\n",
       "            var width, height;\n",
       "            if (entry.contentBoxSize) {\n",
       "                if (entry.contentBoxSize instanceof Array) {\n",
       "                    // Chrome 84 implements new version of spec.\n",
       "                    width = entry.contentBoxSize[0].inlineSize;\n",
       "                    height = entry.contentBoxSize[0].blockSize;\n",
       "                } else {\n",
       "                    // Firefox implements old version of spec.\n",
       "                    width = entry.contentBoxSize.inlineSize;\n",
       "                    height = entry.contentBoxSize.blockSize;\n",
       "                }\n",
       "            } else {\n",
       "                // Chrome <84 implements even older version of spec.\n",
       "                width = entry.contentRect.width;\n",
       "                height = entry.contentRect.height;\n",
       "            }\n",
       "\n",
       "            // Keep the size of the canvas and rubber band canvas in sync with\n",
       "            // the canvas container.\n",
       "            if (entry.devicePixelContentBoxSize) {\n",
       "                // Chrome 84 implements new version of spec.\n",
       "                canvas.setAttribute(\n",
       "                    'width',\n",
       "                    entry.devicePixelContentBoxSize[0].inlineSize\n",
       "                );\n",
       "                canvas.setAttribute(\n",
       "                    'height',\n",
       "                    entry.devicePixelContentBoxSize[0].blockSize\n",
       "                );\n",
       "            } else {\n",
       "                canvas.setAttribute('width', width * fig.ratio);\n",
       "                canvas.setAttribute('height', height * fig.ratio);\n",
       "            }\n",
       "            canvas.setAttribute(\n",
       "                'style',\n",
       "                'width: ' + width + 'px; height: ' + height + 'px;'\n",
       "            );\n",
       "\n",
       "            rubberband_canvas.setAttribute('width', width);\n",
       "            rubberband_canvas.setAttribute('height', height);\n",
       "\n",
       "            // And update the size in Python. We ignore the initial 0/0 size\n",
       "            // that occurs as the element is placed into the DOM, which should\n",
       "            // otherwise not happen due to the minimum size styling.\n",
       "            if (fig.ws.readyState == 1 && width != 0 && height != 0) {\n",
       "                fig.request_resize(width, height);\n",
       "            }\n",
       "        }\n",
       "    });\n",
       "    this.resizeObserverInstance.observe(canvas_div);\n",
       "\n",
       "    function on_mouse_event_closure(name) {\n",
       "        return function (event) {\n",
       "            return fig.mouse_event(event, name);\n",
       "        };\n",
       "    }\n",
       "\n",
       "    rubberband_canvas.addEventListener(\n",
       "        'mousedown',\n",
       "        on_mouse_event_closure('button_press')\n",
       "    );\n",
       "    rubberband_canvas.addEventListener(\n",
       "        'mouseup',\n",
       "        on_mouse_event_closure('button_release')\n",
       "    );\n",
       "    // Throttle sequential mouse events to 1 every 20ms.\n",
       "    rubberband_canvas.addEventListener(\n",
       "        'mousemove',\n",
       "        on_mouse_event_closure('motion_notify')\n",
       "    );\n",
       "\n",
       "    rubberband_canvas.addEventListener(\n",
       "        'mouseenter',\n",
       "        on_mouse_event_closure('figure_enter')\n",
       "    );\n",
       "    rubberband_canvas.addEventListener(\n",
       "        'mouseleave',\n",
       "        on_mouse_event_closure('figure_leave')\n",
       "    );\n",
       "\n",
       "    canvas_div.addEventListener('wheel', function (event) {\n",
       "        if (event.deltaY < 0) {\n",
       "            event.step = 1;\n",
       "        } else {\n",
       "            event.step = -1;\n",
       "        }\n",
       "        on_mouse_event_closure('scroll')(event);\n",
       "    });\n",
       "\n",
       "    canvas_div.appendChild(canvas);\n",
       "    canvas_div.appendChild(rubberband_canvas);\n",
       "\n",
       "    this.rubberband_context = rubberband_canvas.getContext('2d');\n",
       "    this.rubberband_context.strokeStyle = '#000000';\n",
       "\n",
       "    this._resize_canvas = function (width, height, forward) {\n",
       "        if (forward) {\n",
       "            canvas_div.style.width = width + 'px';\n",
       "            canvas_div.style.height = height + 'px';\n",
       "        }\n",
       "    };\n",
       "\n",
       "    // Disable right mouse context menu.\n",
       "    this.rubberband_canvas.addEventListener('contextmenu', function (_e) {\n",
       "        event.preventDefault();\n",
       "        return false;\n",
       "    });\n",
       "\n",
       "    function set_focus() {\n",
       "        canvas.focus();\n",
       "        canvas_div.focus();\n",
       "    }\n",
       "\n",
       "    window.setTimeout(set_focus, 100);\n",
       "};\n",
       "\n",
       "mpl.figure.prototype._init_toolbar = function () {\n",
       "    var fig = this;\n",
       "\n",
       "    var toolbar = document.createElement('div');\n",
       "    toolbar.classList = 'mpl-toolbar';\n",
       "    this.root.appendChild(toolbar);\n",
       "\n",
       "    function on_click_closure(name) {\n",
       "        return function (_event) {\n",
       "            return fig.toolbar_button_onclick(name);\n",
       "        };\n",
       "    }\n",
       "\n",
       "    function on_mouseover_closure(tooltip) {\n",
       "        return function (event) {\n",
       "            if (!event.currentTarget.disabled) {\n",
       "                return fig.toolbar_button_onmouseover(tooltip);\n",
       "            }\n",
       "        };\n",
       "    }\n",
       "\n",
       "    fig.buttons = {};\n",
       "    var buttonGroup = document.createElement('div');\n",
       "    buttonGroup.classList = 'mpl-button-group';\n",
       "    for (var toolbar_ind in mpl.toolbar_items) {\n",
       "        var name = mpl.toolbar_items[toolbar_ind][0];\n",
       "        var tooltip = mpl.toolbar_items[toolbar_ind][1];\n",
       "        var image = mpl.toolbar_items[toolbar_ind][2];\n",
       "        var method_name = mpl.toolbar_items[toolbar_ind][3];\n",
       "\n",
       "        if (!name) {\n",
       "            /* Instead of a spacer, we start a new button group. */\n",
       "            if (buttonGroup.hasChildNodes()) {\n",
       "                toolbar.appendChild(buttonGroup);\n",
       "            }\n",
       "            buttonGroup = document.createElement('div');\n",
       "            buttonGroup.classList = 'mpl-button-group';\n",
       "            continue;\n",
       "        }\n",
       "\n",
       "        var button = (fig.buttons[name] = document.createElement('button'));\n",
       "        button.classList = 'mpl-widget';\n",
       "        button.setAttribute('role', 'button');\n",
       "        button.setAttribute('aria-disabled', 'false');\n",
       "        button.addEventListener('click', on_click_closure(method_name));\n",
       "        button.addEventListener('mouseover', on_mouseover_closure(tooltip));\n",
       "\n",
       "        var icon_img = document.createElement('img');\n",
       "        icon_img.src = '_images/' + image + '.png';\n",
       "        icon_img.srcset = '_images/' + image + '_large.png 2x';\n",
       "        icon_img.alt = tooltip;\n",
       "        button.appendChild(icon_img);\n",
       "\n",
       "        buttonGroup.appendChild(button);\n",
       "    }\n",
       "\n",
       "    if (buttonGroup.hasChildNodes()) {\n",
       "        toolbar.appendChild(buttonGroup);\n",
       "    }\n",
       "\n",
       "    var fmt_picker = document.createElement('select');\n",
       "    fmt_picker.classList = 'mpl-widget';\n",
       "    toolbar.appendChild(fmt_picker);\n",
       "    this.format_dropdown = fmt_picker;\n",
       "\n",
       "    for (var ind in mpl.extensions) {\n",
       "        var fmt = mpl.extensions[ind];\n",
       "        var option = document.createElement('option');\n",
       "        option.selected = fmt === mpl.default_extension;\n",
       "        option.innerHTML = fmt;\n",
       "        fmt_picker.appendChild(option);\n",
       "    }\n",
       "\n",
       "    var status_bar = document.createElement('span');\n",
       "    status_bar.classList = 'mpl-message';\n",
       "    toolbar.appendChild(status_bar);\n",
       "    this.message = status_bar;\n",
       "};\n",
       "\n",
       "mpl.figure.prototype.request_resize = function (x_pixels, y_pixels) {\n",
       "    // Request matplotlib to resize the figure. Matplotlib will then trigger a resize in the client,\n",
       "    // which will in turn request a refresh of the image.\n",
       "    this.send_message('resize', { width: x_pixels, height: y_pixels });\n",
       "};\n",
       "\n",
       "mpl.figure.prototype.send_message = function (type, properties) {\n",
       "    properties['type'] = type;\n",
       "    properties['figure_id'] = this.id;\n",
       "    this.ws.send(JSON.stringify(properties));\n",
       "};\n",
       "\n",
       "mpl.figure.prototype.send_draw_message = function () {\n",
       "    if (!this.waiting) {\n",
       "        this.waiting = true;\n",
       "        this.ws.send(JSON.stringify({ type: 'draw', figure_id: this.id }));\n",
       "    }\n",
       "};\n",
       "\n",
       "mpl.figure.prototype.handle_save = function (fig, _msg) {\n",
       "    var format_dropdown = fig.format_dropdown;\n",
       "    var format = format_dropdown.options[format_dropdown.selectedIndex].value;\n",
       "    fig.ondownload(fig, format);\n",
       "};\n",
       "\n",
       "mpl.figure.prototype.handle_resize = function (fig, msg) {\n",
       "    var size = msg['size'];\n",
       "    if (size[0] !== fig.canvas.width || size[1] !== fig.canvas.height) {\n",
       "        fig._resize_canvas(size[0], size[1], msg['forward']);\n",
       "        fig.send_message('refresh', {});\n",
       "    }\n",
       "};\n",
       "\n",
       "mpl.figure.prototype.handle_rubberband = function (fig, msg) {\n",
       "    var x0 = msg['x0'] / fig.ratio;\n",
       "    var y0 = (fig.canvas.height - msg['y0']) / fig.ratio;\n",
       "    var x1 = msg['x1'] / fig.ratio;\n",
       "    var y1 = (fig.canvas.height - msg['y1']) / fig.ratio;\n",
       "    x0 = Math.floor(x0) + 0.5;\n",
       "    y0 = Math.floor(y0) + 0.5;\n",
       "    x1 = Math.floor(x1) + 0.5;\n",
       "    y1 = Math.floor(y1) + 0.5;\n",
       "    var min_x = Math.min(x0, x1);\n",
       "    var min_y = Math.min(y0, y1);\n",
       "    var width = Math.abs(x1 - x0);\n",
       "    var height = Math.abs(y1 - y0);\n",
       "\n",
       "    fig.rubberband_context.clearRect(\n",
       "        0,\n",
       "        0,\n",
       "        fig.canvas.width / fig.ratio,\n",
       "        fig.canvas.height / fig.ratio\n",
       "    );\n",
       "\n",
       "    fig.rubberband_context.strokeRect(min_x, min_y, width, height);\n",
       "};\n",
       "\n",
       "mpl.figure.prototype.handle_figure_label = function (fig, msg) {\n",
       "    // Updates the figure title.\n",
       "    fig.header.textContent = msg['label'];\n",
       "};\n",
       "\n",
       "mpl.figure.prototype.handle_cursor = function (fig, msg) {\n",
       "    var cursor = msg['cursor'];\n",
       "    switch (cursor) {\n",
       "        case 0:\n",
       "            cursor = 'pointer';\n",
       "            break;\n",
       "        case 1:\n",
       "            cursor = 'default';\n",
       "            break;\n",
       "        case 2:\n",
       "            cursor = 'crosshair';\n",
       "            break;\n",
       "        case 3:\n",
       "            cursor = 'move';\n",
       "            break;\n",
       "    }\n",
       "    fig.rubberband_canvas.style.cursor = cursor;\n",
       "};\n",
       "\n",
       "mpl.figure.prototype.handle_message = function (fig, msg) {\n",
       "    fig.message.textContent = msg['message'];\n",
       "};\n",
       "\n",
       "mpl.figure.prototype.handle_draw = function (fig, _msg) {\n",
       "    // Request the server to send over a new figure.\n",
       "    fig.send_draw_message();\n",
       "};\n",
       "\n",
       "mpl.figure.prototype.handle_image_mode = function (fig, msg) {\n",
       "    fig.image_mode = msg['mode'];\n",
       "};\n",
       "\n",
       "mpl.figure.prototype.handle_history_buttons = function (fig, msg) {\n",
       "    for (var key in msg) {\n",
       "        if (!(key in fig.buttons)) {\n",
       "            continue;\n",
       "        }\n",
       "        fig.buttons[key].disabled = !msg[key];\n",
       "        fig.buttons[key].setAttribute('aria-disabled', !msg[key]);\n",
       "    }\n",
       "};\n",
       "\n",
       "mpl.figure.prototype.handle_navigate_mode = function (fig, msg) {\n",
       "    if (msg['mode'] === 'PAN') {\n",
       "        fig.buttons['Pan'].classList.add('active');\n",
       "        fig.buttons['Zoom'].classList.remove('active');\n",
       "    } else if (msg['mode'] === 'ZOOM') {\n",
       "        fig.buttons['Pan'].classList.remove('active');\n",
       "        fig.buttons['Zoom'].classList.add('active');\n",
       "    } else {\n",
       "        fig.buttons['Pan'].classList.remove('active');\n",
       "        fig.buttons['Zoom'].classList.remove('active');\n",
       "    }\n",
       "};\n",
       "\n",
       "mpl.figure.prototype.updated_canvas_event = function () {\n",
       "    // Called whenever the canvas gets updated.\n",
       "    this.send_message('ack', {});\n",
       "};\n",
       "\n",
       "// A function to construct a web socket function for onmessage handling.\n",
       "// Called in the figure constructor.\n",
       "mpl.figure.prototype._make_on_message_function = function (fig) {\n",
       "    return function socket_on_message(evt) {\n",
       "        if (evt.data instanceof Blob) {\n",
       "            /* FIXME: We get \"Resource interpreted as Image but\n",
       "             * transferred with MIME type text/plain:\" errors on\n",
       "             * Chrome.  But how to set the MIME type?  It doesn't seem\n",
       "             * to be part of the websocket stream */\n",
       "            evt.data.type = 'image/png';\n",
       "\n",
       "            /* Free the memory for the previous frames */\n",
       "            if (fig.imageObj.src) {\n",
       "                (window.URL || window.webkitURL).revokeObjectURL(\n",
       "                    fig.imageObj.src\n",
       "                );\n",
       "            }\n",
       "\n",
       "            fig.imageObj.src = (window.URL || window.webkitURL).createObjectURL(\n",
       "                evt.data\n",
       "            );\n",
       "            fig.updated_canvas_event();\n",
       "            fig.waiting = false;\n",
       "            return;\n",
       "        } else if (\n",
       "            typeof evt.data === 'string' &&\n",
       "            evt.data.slice(0, 21) === 'data:image/png;base64'\n",
       "        ) {\n",
       "            fig.imageObj.src = evt.data;\n",
       "            fig.updated_canvas_event();\n",
       "            fig.waiting = false;\n",
       "            return;\n",
       "        }\n",
       "\n",
       "        var msg = JSON.parse(evt.data);\n",
       "        var msg_type = msg['type'];\n",
       "\n",
       "        // Call the  \"handle_{type}\" callback, which takes\n",
       "        // the figure and JSON message as its only arguments.\n",
       "        try {\n",
       "            var callback = fig['handle_' + msg_type];\n",
       "        } catch (e) {\n",
       "            console.log(\n",
       "                \"No handler for the '\" + msg_type + \"' message type: \",\n",
       "                msg\n",
       "            );\n",
       "            return;\n",
       "        }\n",
       "\n",
       "        if (callback) {\n",
       "            try {\n",
       "                // console.log(\"Handling '\" + msg_type + \"' message: \", msg);\n",
       "                callback(fig, msg);\n",
       "            } catch (e) {\n",
       "                console.log(\n",
       "                    \"Exception inside the 'handler_\" + msg_type + \"' callback:\",\n",
       "                    e,\n",
       "                    e.stack,\n",
       "                    msg\n",
       "                );\n",
       "            }\n",
       "        }\n",
       "    };\n",
       "};\n",
       "\n",
       "// from http://stackoverflow.com/questions/1114465/getting-mouse-location-in-canvas\n",
       "mpl.findpos = function (e) {\n",
       "    //this section is from http://www.quirksmode.org/js/events_properties.html\n",
       "    var targ;\n",
       "    if (!e) {\n",
       "        e = window.event;\n",
       "    }\n",
       "    if (e.target) {\n",
       "        targ = e.target;\n",
       "    } else if (e.srcElement) {\n",
       "        targ = e.srcElement;\n",
       "    }\n",
       "    if (targ.nodeType === 3) {\n",
       "        // defeat Safari bug\n",
       "        targ = targ.parentNode;\n",
       "    }\n",
       "\n",
       "    // pageX,Y are the mouse positions relative to the document\n",
       "    var boundingRect = targ.getBoundingClientRect();\n",
       "    var x = e.pageX - (boundingRect.left + document.body.scrollLeft);\n",
       "    var y = e.pageY - (boundingRect.top + document.body.scrollTop);\n",
       "\n",
       "    return { x: x, y: y };\n",
       "};\n",
       "\n",
       "/*\n",
       " * return a copy of an object with only non-object keys\n",
       " * we need this to avoid circular references\n",
       " * http://stackoverflow.com/a/24161582/3208463\n",
       " */\n",
       "function simpleKeys(original) {\n",
       "    return Object.keys(original).reduce(function (obj, key) {\n",
       "        if (typeof original[key] !== 'object') {\n",
       "            obj[key] = original[key];\n",
       "        }\n",
       "        return obj;\n",
       "    }, {});\n",
       "}\n",
       "\n",
       "mpl.figure.prototype.mouse_event = function (event, name) {\n",
       "    var canvas_pos = mpl.findpos(event);\n",
       "\n",
       "    if (name === 'button_press') {\n",
       "        this.canvas.focus();\n",
       "        this.canvas_div.focus();\n",
       "    }\n",
       "\n",
       "    var x = canvas_pos.x * this.ratio;\n",
       "    var y = canvas_pos.y * this.ratio;\n",
       "\n",
       "    this.send_message(name, {\n",
       "        x: x,\n",
       "        y: y,\n",
       "        button: event.button,\n",
       "        step: event.step,\n",
       "        guiEvent: simpleKeys(event),\n",
       "    });\n",
       "\n",
       "    /* This prevents the web browser from automatically changing to\n",
       "     * the text insertion cursor when the button is pressed.  We want\n",
       "     * to control all of the cursor setting manually through the\n",
       "     * 'cursor' event from matplotlib */\n",
       "    event.preventDefault();\n",
       "    return false;\n",
       "};\n",
       "\n",
       "mpl.figure.prototype._key_event_extra = function (_event, _name) {\n",
       "    // Handle any extra behaviour associated with a key event\n",
       "};\n",
       "\n",
       "mpl.figure.prototype.key_event = function (event, name) {\n",
       "    // Prevent repeat events\n",
       "    if (name === 'key_press') {\n",
       "        if (event.which === this._key) {\n",
       "            return;\n",
       "        } else {\n",
       "            this._key = event.which;\n",
       "        }\n",
       "    }\n",
       "    if (name === 'key_release') {\n",
       "        this._key = null;\n",
       "    }\n",
       "\n",
       "    var value = '';\n",
       "    if (event.ctrlKey && event.which !== 17) {\n",
       "        value += 'ctrl+';\n",
       "    }\n",
       "    if (event.altKey && event.which !== 18) {\n",
       "        value += 'alt+';\n",
       "    }\n",
       "    if (event.shiftKey && event.which !== 16) {\n",
       "        value += 'shift+';\n",
       "    }\n",
       "\n",
       "    value += 'k';\n",
       "    value += event.which.toString();\n",
       "\n",
       "    this._key_event_extra(event, name);\n",
       "\n",
       "    this.send_message(name, { key: value, guiEvent: simpleKeys(event) });\n",
       "    return false;\n",
       "};\n",
       "\n",
       "mpl.figure.prototype.toolbar_button_onclick = function (name) {\n",
       "    if (name === 'download') {\n",
       "        this.handle_save(this, null);\n",
       "    } else {\n",
       "        this.send_message('toolbar_button', { name: name });\n",
       "    }\n",
       "};\n",
       "\n",
       "mpl.figure.prototype.toolbar_button_onmouseover = function (tooltip) {\n",
       "    this.message.textContent = tooltip;\n",
       "};\n",
       "\n",
       "///////////////// REMAINING CONTENT GENERATED BY embed_js.py /////////////////\n",
       "// prettier-ignore\n",
       "var _JSXTOOLS_RESIZE_OBSERVER=function(A){var t,i=new WeakMap,n=new WeakMap,a=new WeakMap,r=new WeakMap,o=new Set;function s(e){if(!(this instanceof s))throw new TypeError(\"Constructor requires 'new' operator\");i.set(this,e)}function h(){throw new TypeError(\"Function is not a constructor\")}function c(e,t,i,n){e=0 in arguments?Number(arguments[0]):0,t=1 in arguments?Number(arguments[1]):0,i=2 in arguments?Number(arguments[2]):0,n=3 in arguments?Number(arguments[3]):0,this.right=(this.x=this.left=e)+(this.width=i),this.bottom=(this.y=this.top=t)+(this.height=n),Object.freeze(this)}function d(){t=requestAnimationFrame(d);var s=new WeakMap,p=new Set;o.forEach((function(t){r.get(t).forEach((function(i){var r=t instanceof window.SVGElement,o=a.get(t),d=r?0:parseFloat(o.paddingTop),f=r?0:parseFloat(o.paddingRight),l=r?0:parseFloat(o.paddingBottom),u=r?0:parseFloat(o.paddingLeft),g=r?0:parseFloat(o.borderTopWidth),m=r?0:parseFloat(o.borderRightWidth),w=r?0:parseFloat(o.borderBottomWidth),b=u+f,F=d+l,v=(r?0:parseFloat(o.borderLeftWidth))+m,W=g+w,y=r?0:t.offsetHeight-W-t.clientHeight,E=r?0:t.offsetWidth-v-t.clientWidth,R=b+v,z=F+W,M=r?t.width:parseFloat(o.width)-R-E,O=r?t.height:parseFloat(o.height)-z-y;if(n.has(t)){var k=n.get(t);if(k[0]===M&&k[1]===O)return}n.set(t,[M,O]);var S=Object.create(h.prototype);S.target=t,S.contentRect=new c(u,d,M,O),s.has(i)||(s.set(i,[]),p.add(i)),s.get(i).push(S)}))})),p.forEach((function(e){i.get(e).call(e,s.get(e),e)}))}return s.prototype.observe=function(i){if(i instanceof window.Element){r.has(i)||(r.set(i,new Set),o.add(i),a.set(i,window.getComputedStyle(i)));var n=r.get(i);n.has(this)||n.add(this),cancelAnimationFrame(t),t=requestAnimationFrame(d)}},s.prototype.unobserve=function(i){if(i instanceof window.Element&&r.has(i)){var n=r.get(i);n.has(this)&&(n.delete(this),n.size||(r.delete(i),o.delete(i))),n.size||r.delete(i),o.size||cancelAnimationFrame(t)}},A.DOMRectReadOnly=c,A.ResizeObserver=s,A.ResizeObserverEntry=h,A}; // eslint-disable-line\n",
       "mpl.toolbar_items = [[\"Home\", \"Reset original view\", \"fa fa-home icon-home\", \"home\"], [\"Back\", \"Back to previous view\", \"fa fa-arrow-left icon-arrow-left\", \"back\"], [\"Forward\", \"Forward to next view\", \"fa fa-arrow-right icon-arrow-right\", \"forward\"], [\"\", \"\", \"\", \"\"], [\"Pan\", \"Left button pans, Right button zooms\\nx/y fixes axis, CTRL fixes aspect\", \"fa fa-arrows icon-move\", \"pan\"], [\"Zoom\", \"Zoom to rectangle\\nx/y fixes axis, CTRL fixes aspect\", \"fa fa-square-o icon-check-empty\", \"zoom\"], [\"\", \"\", \"\", \"\"], [\"Download\", \"Download plot\", \"fa fa-floppy-o icon-save\", \"download\"]];\n",
       "\n",
       "mpl.extensions = [\"eps\", \"jpeg\", \"pdf\", \"png\", \"ps\", \"raw\", \"svg\", \"tif\"];\n",
       "\n",
       "mpl.default_extension = \"png\";/* global mpl */\n",
       "\n",
       "var comm_websocket_adapter = function (comm) {\n",
       "    // Create a \"websocket\"-like object which calls the given IPython comm\n",
       "    // object with the appropriate methods. Currently this is a non binary\n",
       "    // socket, so there is still some room for performance tuning.\n",
       "    var ws = {};\n",
       "\n",
       "    ws.close = function () {\n",
       "        comm.close();\n",
       "    };\n",
       "    ws.send = function (m) {\n",
       "        //console.log('sending', m);\n",
       "        comm.send(m);\n",
       "    };\n",
       "    // Register the callback with on_msg.\n",
       "    comm.on_msg(function (msg) {\n",
       "        //console.log('receiving', msg['content']['data'], msg);\n",
       "        // Pass the mpl event to the overridden (by mpl) onmessage function.\n",
       "        ws.onmessage(msg['content']['data']);\n",
       "    });\n",
       "    return ws;\n",
       "};\n",
       "\n",
       "mpl.mpl_figure_comm = function (comm, msg) {\n",
       "    // This is the function which gets called when the mpl process\n",
       "    // starts-up an IPython Comm through the \"matplotlib\" channel.\n",
       "\n",
       "    var id = msg.content.data.id;\n",
       "    // Get hold of the div created by the display call when the Comm\n",
       "    // socket was opened in Python.\n",
       "    var element = document.getElementById(id);\n",
       "    var ws_proxy = comm_websocket_adapter(comm);\n",
       "\n",
       "    function ondownload(figure, _format) {\n",
       "        window.open(figure.canvas.toDataURL());\n",
       "    }\n",
       "\n",
       "    var fig = new mpl.figure(id, ws_proxy, ondownload, element);\n",
       "\n",
       "    // Call onopen now - mpl needs it, as it is assuming we've passed it a real\n",
       "    // web socket which is closed, not our websocket->open comm proxy.\n",
       "    ws_proxy.onopen();\n",
       "\n",
       "    fig.parent_element = element;\n",
       "    fig.cell_info = mpl.find_output_cell(\"<div id='\" + id + \"'></div>\");\n",
       "    if (!fig.cell_info) {\n",
       "        console.error('Failed to find cell for figure', id, fig);\n",
       "        return;\n",
       "    }\n",
       "    fig.cell_info[0].output_area.element.on(\n",
       "        'cleared',\n",
       "        { fig: fig },\n",
       "        fig._remove_fig_handler\n",
       "    );\n",
       "};\n",
       "\n",
       "mpl.figure.prototype.handle_close = function (fig, msg) {\n",
       "    var width = fig.canvas.width / fig.ratio;\n",
       "    fig.cell_info[0].output_area.element.off(\n",
       "        'cleared',\n",
       "        fig._remove_fig_handler\n",
       "    );\n",
       "    fig.resizeObserverInstance.unobserve(fig.canvas_div);\n",
       "\n",
       "    // Update the output cell to use the data from the current canvas.\n",
       "    fig.push_to_output();\n",
       "    var dataURL = fig.canvas.toDataURL();\n",
       "    // Re-enable the keyboard manager in IPython - without this line, in FF,\n",
       "    // the notebook keyboard shortcuts fail.\n",
       "    IPython.keyboard_manager.enable();\n",
       "    fig.parent_element.innerHTML =\n",
       "        '<img src=\"' + dataURL + '\" width=\"' + width + '\">';\n",
       "    fig.close_ws(fig, msg);\n",
       "};\n",
       "\n",
       "mpl.figure.prototype.close_ws = function (fig, msg) {\n",
       "    fig.send_message('closing', msg);\n",
       "    // fig.ws.close()\n",
       "};\n",
       "\n",
       "mpl.figure.prototype.push_to_output = function (_remove_interactive) {\n",
       "    // Turn the data on the canvas into data in the output cell.\n",
       "    var width = this.canvas.width / this.ratio;\n",
       "    var dataURL = this.canvas.toDataURL();\n",
       "    this.cell_info[1]['text/html'] =\n",
       "        '<img src=\"' + dataURL + '\" width=\"' + width + '\">';\n",
       "};\n",
       "\n",
       "mpl.figure.prototype.updated_canvas_event = function () {\n",
       "    // Tell IPython that the notebook contents must change.\n",
       "    IPython.notebook.set_dirty(true);\n",
       "    this.send_message('ack', {});\n",
       "    var fig = this;\n",
       "    // Wait a second, then push the new image to the DOM so\n",
       "    // that it is saved nicely (might be nice to debounce this).\n",
       "    setTimeout(function () {\n",
       "        fig.push_to_output();\n",
       "    }, 1000);\n",
       "};\n",
       "\n",
       "mpl.figure.prototype._init_toolbar = function () {\n",
       "    var fig = this;\n",
       "\n",
       "    var toolbar = document.createElement('div');\n",
       "    toolbar.classList = 'btn-toolbar';\n",
       "    this.root.appendChild(toolbar);\n",
       "\n",
       "    function on_click_closure(name) {\n",
       "        return function (_event) {\n",
       "            return fig.toolbar_button_onclick(name);\n",
       "        };\n",
       "    }\n",
       "\n",
       "    function on_mouseover_closure(tooltip) {\n",
       "        return function (event) {\n",
       "            if (!event.currentTarget.disabled) {\n",
       "                return fig.toolbar_button_onmouseover(tooltip);\n",
       "            }\n",
       "        };\n",
       "    }\n",
       "\n",
       "    fig.buttons = {};\n",
       "    var buttonGroup = document.createElement('div');\n",
       "    buttonGroup.classList = 'btn-group';\n",
       "    var button;\n",
       "    for (var toolbar_ind in mpl.toolbar_items) {\n",
       "        var name = mpl.toolbar_items[toolbar_ind][0];\n",
       "        var tooltip = mpl.toolbar_items[toolbar_ind][1];\n",
       "        var image = mpl.toolbar_items[toolbar_ind][2];\n",
       "        var method_name = mpl.toolbar_items[toolbar_ind][3];\n",
       "\n",
       "        if (!name) {\n",
       "            /* Instead of a spacer, we start a new button group. */\n",
       "            if (buttonGroup.hasChildNodes()) {\n",
       "                toolbar.appendChild(buttonGroup);\n",
       "            }\n",
       "            buttonGroup = document.createElement('div');\n",
       "            buttonGroup.classList = 'btn-group';\n",
       "            continue;\n",
       "        }\n",
       "\n",
       "        button = fig.buttons[name] = document.createElement('button');\n",
       "        button.classList = 'btn btn-default';\n",
       "        button.href = '#';\n",
       "        button.title = name;\n",
       "        button.innerHTML = '<i class=\"fa ' + image + ' fa-lg\"></i>';\n",
       "        button.addEventListener('click', on_click_closure(method_name));\n",
       "        button.addEventListener('mouseover', on_mouseover_closure(tooltip));\n",
       "        buttonGroup.appendChild(button);\n",
       "    }\n",
       "\n",
       "    if (buttonGroup.hasChildNodes()) {\n",
       "        toolbar.appendChild(buttonGroup);\n",
       "    }\n",
       "\n",
       "    // Add the status bar.\n",
       "    var status_bar = document.createElement('span');\n",
       "    status_bar.classList = 'mpl-message pull-right';\n",
       "    toolbar.appendChild(status_bar);\n",
       "    this.message = status_bar;\n",
       "\n",
       "    // Add the close button to the window.\n",
       "    var buttongrp = document.createElement('div');\n",
       "    buttongrp.classList = 'btn-group inline pull-right';\n",
       "    button = document.createElement('button');\n",
       "    button.classList = 'btn btn-mini btn-primary';\n",
       "    button.href = '#';\n",
       "    button.title = 'Stop Interaction';\n",
       "    button.innerHTML = '<i class=\"fa fa-power-off icon-remove icon-large\"></i>';\n",
       "    button.addEventListener('click', function (_evt) {\n",
       "        fig.handle_close(fig, {});\n",
       "    });\n",
       "    button.addEventListener(\n",
       "        'mouseover',\n",
       "        on_mouseover_closure('Stop Interaction')\n",
       "    );\n",
       "    buttongrp.appendChild(button);\n",
       "    var titlebar = this.root.querySelector('.ui-dialog-titlebar');\n",
       "    titlebar.insertBefore(buttongrp, titlebar.firstChild);\n",
       "};\n",
       "\n",
       "mpl.figure.prototype._remove_fig_handler = function (event) {\n",
       "    var fig = event.data.fig;\n",
       "    if (event.target !== this) {\n",
       "        // Ignore bubbled events from children.\n",
       "        return;\n",
       "    }\n",
       "    fig.close_ws(fig, {});\n",
       "};\n",
       "\n",
       "mpl.figure.prototype._root_extra_style = function (el) {\n",
       "    el.style.boxSizing = 'content-box'; // override notebook setting of border-box.\n",
       "};\n",
       "\n",
       "mpl.figure.prototype._canvas_extra_style = function (el) {\n",
       "    // this is important to make the div 'focusable\n",
       "    el.setAttribute('tabindex', 0);\n",
       "    // reach out to IPython and tell the keyboard manager to turn it's self\n",
       "    // off when our div gets focus\n",
       "\n",
       "    // location in version 3\n",
       "    if (IPython.notebook.keyboard_manager) {\n",
       "        IPython.notebook.keyboard_manager.register_events(el);\n",
       "    } else {\n",
       "        // location in version 2\n",
       "        IPython.keyboard_manager.register_events(el);\n",
       "    }\n",
       "};\n",
       "\n",
       "mpl.figure.prototype._key_event_extra = function (event, _name) {\n",
       "    var manager = IPython.notebook.keyboard_manager;\n",
       "    if (!manager) {\n",
       "        manager = IPython.keyboard_manager;\n",
       "    }\n",
       "\n",
       "    // Check for shift+enter\n",
       "    if (event.shiftKey && event.which === 13) {\n",
       "        this.canvas_div.blur();\n",
       "        // select the cell after this one\n",
       "        var index = IPython.notebook.find_cell_index(this.cell_info[0]);\n",
       "        IPython.notebook.select(index + 1);\n",
       "    }\n",
       "};\n",
       "\n",
       "mpl.figure.prototype.handle_save = function (fig, _msg) {\n",
       "    fig.ondownload(fig, null);\n",
       "};\n",
       "\n",
       "mpl.find_output_cell = function (html_output) {\n",
       "    // Return the cell and output element which can be found *uniquely* in the notebook.\n",
       "    // Note - this is a bit hacky, but it is done because the \"notebook_saving.Notebook\"\n",
       "    // IPython event is triggered only after the cells have been serialised, which for\n",
       "    // our purposes (turning an active figure into a static one), is too late.\n",
       "    var cells = IPython.notebook.get_cells();\n",
       "    var ncells = cells.length;\n",
       "    for (var i = 0; i < ncells; i++) {\n",
       "        var cell = cells[i];\n",
       "        if (cell.cell_type === 'code') {\n",
       "            for (var j = 0; j < cell.output_area.outputs.length; j++) {\n",
       "                var data = cell.output_area.outputs[j];\n",
       "                if (data.data) {\n",
       "                    // IPython >= 3 moved mimebundle to data attribute of output\n",
       "                    data = data.data;\n",
       "                }\n",
       "                if (data['text/html'] === html_output) {\n",
       "                    return [cell, data, j];\n",
       "                }\n",
       "            }\n",
       "        }\n",
       "    }\n",
       "};\n",
       "\n",
       "// Register the function which deals with the matplotlib target/channel.\n",
       "// The kernel may be null if the page has been refreshed.\n",
       "if (IPython.notebook.kernel !== null) {\n",
       "    IPython.notebook.kernel.comm_manager.register_target(\n",
       "        'matplotlib',\n",
       "        mpl.mpl_figure_comm\n",
       "    );\n",
       "}\n"
      ],
      "text/plain": [
       "<IPython.core.display.Javascript object>"
      ]
     },
     "metadata": {},
     "output_type": "display_data"
    },
    {
     "data": {
      "text/html": [
       "<img src=\"data:image/png;base64,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\" width=\"504\">"
      ],
      "text/plain": [
       "<IPython.core.display.HTML object>"
      ]
     },
     "metadata": {},
     "output_type": "display_data"
    }
   ],
   "source": [
    "# %matplotlib qt\n",
    "%matplotlib nbagg\n",
    "ax = ut.plotSetup3d(-7, 7, -7, 7, -10, 10, figsize = (7, 7))\n",
    "v = [4.0, 4.0, 2.0]\n",
    "u = [-4.0, 3.0, 1.0]\n",
    "npts = 50\n",
    "# set locations of points that fall within x,y\n",
    "xc = -7.0 + 14.0 * np.random.random(npts)\n",
    "yc = -7.0 + 14.0 * np.random.random(npts)\n",
    "A = np.array([u,v]).T\n",
    "# project these points onto the plane\n",
    "P = A @ np.linalg.inv(A.T @ A) @ A.T\n",
    "coords = P @ np.array([xc, yc, np.zeros(npts)])\n",
    "coords[2] += np.random.randn(npts)\n",
    "ax.plot(coords[0], coords[1], 'ro', zs=coords[2], markersize = 6);"
   ]
  },
  {
   "cell_type": "markdown",
   "metadata": {
    "collapsed": true,
    "slideshow": {
     "slide_type": "slide"
    }
   },
   "source": [
    "__Example.__  \n",
    "\n",
    "In geography, local models of terrain are constructed from data $(u_1, v_1, y_1), \\dots, (u_n, v_n, y_n)$ where $u_j, v_j$, and $y_j$ are latitude, longitude, and altitude, respectively."
   ]
  },
  {
   "cell_type": "markdown",
   "metadata": {
    "slideshow": {
     "slide_type": "fragment"
    }
   },
   "source": [
    "Let's describe the linear models that gives a least-squares fit to such data.  The solution is called the least-squares _plane._"
   ]
  },
  {
   "cell_type": "markdown",
   "metadata": {
    "slideshow": {
     "slide_type": "fragment"
    }
   },
   "source": [
    "__Solution.__  We expect the data to satisfy these equations:\n",
    "\n",
    "$$y_1 = \\beta_0 + \\beta_1 u_1 + \\beta_2 v_1 + \\epsilon_1$$\n",
    "$$y_1 = \\beta_0 + \\beta_1 u_2 + \\beta_2 v_2 + \\epsilon_2$$\n",
    "$$\\vdots$$\n",
    "$$y_1 = \\beta_0 + \\beta_1 u_n + \\beta_2 v_n + \\epsilon_n$$"
   ]
  },
  {
   "cell_type": "markdown",
   "metadata": {
    "slideshow": {
     "slide_type": "fragment"
    }
   },
   "source": [
    "This system has the matrix for $\\mathbf{y} = X\\mathbf{\\beta} + \\epsilon,$ where\n",
    "\n",
    "$$\\mathbf{y} = \\begin{bmatrix}y_1\\\\y_1\\\\\\vdots\\\\y_n\\end{bmatrix},\\;\\;X = \\begin{bmatrix}1&u_1&v_1\\\\1&u_2&v_2\\\\\\vdots&\\vdots&\\vdots\\\\1&u_n&v_n\\end{bmatrix},\\;\\;\\mathbf{\\beta}=\\begin{bmatrix}\\beta_0\\\\\\beta_1\\\\\\beta_2\\end{bmatrix},\\;\\;\\epsilon = \\begin{bmatrix}\\epsilon_1\\\\\\epsilon_2\\\\\\vdots\\\\\\epsilon_n\\end{bmatrix}$$"
   ]
  },
  {
   "cell_type": "code",
   "execution_count": 139,
   "metadata": {
    "hide_input": true,
    "slideshow": {
     "slide_type": "fragment"
    },
    "tags": [
     "hide-input"
    ]
   },
   "outputs": [
    {
     "data": {
      "application/javascript": [
       "/* Put everything inside the global mpl namespace */\n",
       "/* global mpl */\n",
       "window.mpl = {};\n",
       "\n",
       "mpl.get_websocket_type = function () {\n",
       "    if (typeof WebSocket !== 'undefined') {\n",
       "        return WebSocket;\n",
       "    } else if (typeof MozWebSocket !== 'undefined') {\n",
       "        return MozWebSocket;\n",
       "    } else {\n",
       "        alert(\n",
       "            'Your browser does not have WebSocket support. ' +\n",
       "                'Please try Chrome, Safari or Firefox ≥ 6. ' +\n",
       "                'Firefox 4 and 5 are also supported but you ' +\n",
       "                'have to enable WebSockets in about:config.'\n",
       "        );\n",
       "    }\n",
       "};\n",
       "\n",
       "mpl.figure = function (figure_id, websocket, ondownload, parent_element) {\n",
       "    this.id = figure_id;\n",
       "\n",
       "    this.ws = websocket;\n",
       "\n",
       "    this.supports_binary = this.ws.binaryType !== undefined;\n",
       "\n",
       "    if (!this.supports_binary) {\n",
       "        var warnings = document.getElementById('mpl-warnings');\n",
       "        if (warnings) {\n",
       "            warnings.style.display = 'block';\n",
       "            warnings.textContent =\n",
       "                'This browser does not support binary websocket messages. ' +\n",
       "                'Performance may be slow.';\n",
       "        }\n",
       "    }\n",
       "\n",
       "    this.imageObj = new Image();\n",
       "\n",
       "    this.context = undefined;\n",
       "    this.message = undefined;\n",
       "    this.canvas = undefined;\n",
       "    this.rubberband_canvas = undefined;\n",
       "    this.rubberband_context = undefined;\n",
       "    this.format_dropdown = undefined;\n",
       "\n",
       "    this.image_mode = 'full';\n",
       "\n",
       "    this.root = document.createElement('div');\n",
       "    this.root.setAttribute('style', 'display: inline-block');\n",
       "    this._root_extra_style(this.root);\n",
       "\n",
       "    parent_element.appendChild(this.root);\n",
       "\n",
       "    this._init_header(this);\n",
       "    this._init_canvas(this);\n",
       "    this._init_toolbar(this);\n",
       "\n",
       "    var fig = this;\n",
       "\n",
       "    this.waiting = false;\n",
       "\n",
       "    this.ws.onopen = function () {\n",
       "        fig.send_message('supports_binary', { value: fig.supports_binary });\n",
       "        fig.send_message('send_image_mode', {});\n",
       "        if (fig.ratio !== 1) {\n",
       "            fig.send_message('set_dpi_ratio', { dpi_ratio: fig.ratio });\n",
       "        }\n",
       "        fig.send_message('refresh', {});\n",
       "    };\n",
       "\n",
       "    this.imageObj.onload = function () {\n",
       "        if (fig.image_mode === 'full') {\n",
       "            // Full images could contain transparency (where diff images\n",
       "            // almost always do), so we need to clear the canvas so that\n",
       "            // there is no ghosting.\n",
       "            fig.context.clearRect(0, 0, fig.canvas.width, fig.canvas.height);\n",
       "        }\n",
       "        fig.context.drawImage(fig.imageObj, 0, 0);\n",
       "    };\n",
       "\n",
       "    this.imageObj.onunload = function () {\n",
       "        fig.ws.close();\n",
       "    };\n",
       "\n",
       "    this.ws.onmessage = this._make_on_message_function(this);\n",
       "\n",
       "    this.ondownload = ondownload;\n",
       "};\n",
       "\n",
       "mpl.figure.prototype._init_header = function () {\n",
       "    var titlebar = document.createElement('div');\n",
       "    titlebar.classList =\n",
       "        'ui-dialog-titlebar ui-widget-header ui-corner-all ui-helper-clearfix';\n",
       "    var titletext = document.createElement('div');\n",
       "    titletext.classList = 'ui-dialog-title';\n",
       "    titletext.setAttribute(\n",
       "        'style',\n",
       "        'width: 100%; text-align: center; padding: 3px;'\n",
       "    );\n",
       "    titlebar.appendChild(titletext);\n",
       "    this.root.appendChild(titlebar);\n",
       "    this.header = titletext;\n",
       "};\n",
       "\n",
       "mpl.figure.prototype._canvas_extra_style = function (_canvas_div) {};\n",
       "\n",
       "mpl.figure.prototype._root_extra_style = function (_canvas_div) {};\n",
       "\n",
       "mpl.figure.prototype._init_canvas = function () {\n",
       "    var fig = this;\n",
       "\n",
       "    var canvas_div = (this.canvas_div = document.createElement('div'));\n",
       "    canvas_div.setAttribute(\n",
       "        'style',\n",
       "        'border: 1px solid #ddd;' +\n",
       "            'box-sizing: content-box;' +\n",
       "            'clear: both;' +\n",
       "            'min-height: 1px;' +\n",
       "            'min-width: 1px;' +\n",
       "            'outline: 0;' +\n",
       "            'overflow: hidden;' +\n",
       "            'position: relative;' +\n",
       "            'resize: both;'\n",
       "    );\n",
       "\n",
       "    function on_keyboard_event_closure(name) {\n",
       "        return function (event) {\n",
       "            return fig.key_event(event, name);\n",
       "        };\n",
       "    }\n",
       "\n",
       "    canvas_div.addEventListener(\n",
       "        'keydown',\n",
       "        on_keyboard_event_closure('key_press')\n",
       "    );\n",
       "    canvas_div.addEventListener(\n",
       "        'keyup',\n",
       "        on_keyboard_event_closure('key_release')\n",
       "    );\n",
       "\n",
       "    this._canvas_extra_style(canvas_div);\n",
       "    this.root.appendChild(canvas_div);\n",
       "\n",
       "    var canvas = (this.canvas = document.createElement('canvas'));\n",
       "    canvas.classList.add('mpl-canvas');\n",
       "    canvas.setAttribute('style', 'box-sizing: content-box;');\n",
       "\n",
       "    this.context = canvas.getContext('2d');\n",
       "\n",
       "    var backingStore =\n",
       "        this.context.backingStorePixelRatio ||\n",
       "        this.context.webkitBackingStorePixelRatio ||\n",
       "        this.context.mozBackingStorePixelRatio ||\n",
       "        this.context.msBackingStorePixelRatio ||\n",
       "        this.context.oBackingStorePixelRatio ||\n",
       "        this.context.backingStorePixelRatio ||\n",
       "        1;\n",
       "\n",
       "    this.ratio = (window.devicePixelRatio || 1) / backingStore;\n",
       "\n",
       "    var rubberband_canvas = (this.rubberband_canvas = document.createElement(\n",
       "        'canvas'\n",
       "    ));\n",
       "    rubberband_canvas.setAttribute(\n",
       "        'style',\n",
       "        'box-sizing: content-box; position: absolute; left: 0; top: 0; z-index: 1;'\n",
       "    );\n",
       "\n",
       "    // Apply a ponyfill if ResizeObserver is not implemented by browser.\n",
       "    if (this.ResizeObserver === undefined) {\n",
       "        if (window.ResizeObserver !== undefined) {\n",
       "            this.ResizeObserver = window.ResizeObserver;\n",
       "        } else {\n",
       "            var obs = _JSXTOOLS_RESIZE_OBSERVER({});\n",
       "            this.ResizeObserver = obs.ResizeObserver;\n",
       "        }\n",
       "    }\n",
       "\n",
       "    this.resizeObserverInstance = new this.ResizeObserver(function (entries) {\n",
       "        var nentries = entries.length;\n",
       "        for (var i = 0; i < nentries; i++) {\n",
       "            var entry = entries[i];\n",
       "            var width, height;\n",
       "            if (entry.contentBoxSize) {\n",
       "                if (entry.contentBoxSize instanceof Array) {\n",
       "                    // Chrome 84 implements new version of spec.\n",
       "                    width = entry.contentBoxSize[0].inlineSize;\n",
       "                    height = entry.contentBoxSize[0].blockSize;\n",
       "                } else {\n",
       "                    // Firefox implements old version of spec.\n",
       "                    width = entry.contentBoxSize.inlineSize;\n",
       "                    height = entry.contentBoxSize.blockSize;\n",
       "                }\n",
       "            } else {\n",
       "                // Chrome <84 implements even older version of spec.\n",
       "                width = entry.contentRect.width;\n",
       "                height = entry.contentRect.height;\n",
       "            }\n",
       "\n",
       "            // Keep the size of the canvas and rubber band canvas in sync with\n",
       "            // the canvas container.\n",
       "            if (entry.devicePixelContentBoxSize) {\n",
       "                // Chrome 84 implements new version of spec.\n",
       "                canvas.setAttribute(\n",
       "                    'width',\n",
       "                    entry.devicePixelContentBoxSize[0].inlineSize\n",
       "                );\n",
       "                canvas.setAttribute(\n",
       "                    'height',\n",
       "                    entry.devicePixelContentBoxSize[0].blockSize\n",
       "                );\n",
       "            } else {\n",
       "                canvas.setAttribute('width', width * fig.ratio);\n",
       "                canvas.setAttribute('height', height * fig.ratio);\n",
       "            }\n",
       "            canvas.setAttribute(\n",
       "                'style',\n",
       "                'width: ' + width + 'px; height: ' + height + 'px;'\n",
       "            );\n",
       "\n",
       "            rubberband_canvas.setAttribute('width', width);\n",
       "            rubberband_canvas.setAttribute('height', height);\n",
       "\n",
       "            // And update the size in Python. We ignore the initial 0/0 size\n",
       "            // that occurs as the element is placed into the DOM, which should\n",
       "            // otherwise not happen due to the minimum size styling.\n",
       "            if (fig.ws.readyState == 1 && width != 0 && height != 0) {\n",
       "                fig.request_resize(width, height);\n",
       "            }\n",
       "        }\n",
       "    });\n",
       "    this.resizeObserverInstance.observe(canvas_div);\n",
       "\n",
       "    function on_mouse_event_closure(name) {\n",
       "        return function (event) {\n",
       "            return fig.mouse_event(event, name);\n",
       "        };\n",
       "    }\n",
       "\n",
       "    rubberband_canvas.addEventListener(\n",
       "        'mousedown',\n",
       "        on_mouse_event_closure('button_press')\n",
       "    );\n",
       "    rubberband_canvas.addEventListener(\n",
       "        'mouseup',\n",
       "        on_mouse_event_closure('button_release')\n",
       "    );\n",
       "    // Throttle sequential mouse events to 1 every 20ms.\n",
       "    rubberband_canvas.addEventListener(\n",
       "        'mousemove',\n",
       "        on_mouse_event_closure('motion_notify')\n",
       "    );\n",
       "\n",
       "    rubberband_canvas.addEventListener(\n",
       "        'mouseenter',\n",
       "        on_mouse_event_closure('figure_enter')\n",
       "    );\n",
       "    rubberband_canvas.addEventListener(\n",
       "        'mouseleave',\n",
       "        on_mouse_event_closure('figure_leave')\n",
       "    );\n",
       "\n",
       "    canvas_div.addEventListener('wheel', function (event) {\n",
       "        if (event.deltaY < 0) {\n",
       "            event.step = 1;\n",
       "        } else {\n",
       "            event.step = -1;\n",
       "        }\n",
       "        on_mouse_event_closure('scroll')(event);\n",
       "    });\n",
       "\n",
       "    canvas_div.appendChild(canvas);\n",
       "    canvas_div.appendChild(rubberband_canvas);\n",
       "\n",
       "    this.rubberband_context = rubberband_canvas.getContext('2d');\n",
       "    this.rubberband_context.strokeStyle = '#000000';\n",
       "\n",
       "    this._resize_canvas = function (width, height, forward) {\n",
       "        if (forward) {\n",
       "            canvas_div.style.width = width + 'px';\n",
       "            canvas_div.style.height = height + 'px';\n",
       "        }\n",
       "    };\n",
       "\n",
       "    // Disable right mouse context menu.\n",
       "    this.rubberband_canvas.addEventListener('contextmenu', function (_e) {\n",
       "        event.preventDefault();\n",
       "        return false;\n",
       "    });\n",
       "\n",
       "    function set_focus() {\n",
       "        canvas.focus();\n",
       "        canvas_div.focus();\n",
       "    }\n",
       "\n",
       "    window.setTimeout(set_focus, 100);\n",
       "};\n",
       "\n",
       "mpl.figure.prototype._init_toolbar = function () {\n",
       "    var fig = this;\n",
       "\n",
       "    var toolbar = document.createElement('div');\n",
       "    toolbar.classList = 'mpl-toolbar';\n",
       "    this.root.appendChild(toolbar);\n",
       "\n",
       "    function on_click_closure(name) {\n",
       "        return function (_event) {\n",
       "            return fig.toolbar_button_onclick(name);\n",
       "        };\n",
       "    }\n",
       "\n",
       "    function on_mouseover_closure(tooltip) {\n",
       "        return function (event) {\n",
       "            if (!event.currentTarget.disabled) {\n",
       "                return fig.toolbar_button_onmouseover(tooltip);\n",
       "            }\n",
       "        };\n",
       "    }\n",
       "\n",
       "    fig.buttons = {};\n",
       "    var buttonGroup = document.createElement('div');\n",
       "    buttonGroup.classList = 'mpl-button-group';\n",
       "    for (var toolbar_ind in mpl.toolbar_items) {\n",
       "        var name = mpl.toolbar_items[toolbar_ind][0];\n",
       "        var tooltip = mpl.toolbar_items[toolbar_ind][1];\n",
       "        var image = mpl.toolbar_items[toolbar_ind][2];\n",
       "        var method_name = mpl.toolbar_items[toolbar_ind][3];\n",
       "\n",
       "        if (!name) {\n",
       "            /* Instead of a spacer, we start a new button group. */\n",
       "            if (buttonGroup.hasChildNodes()) {\n",
       "                toolbar.appendChild(buttonGroup);\n",
       "            }\n",
       "            buttonGroup = document.createElement('div');\n",
       "            buttonGroup.classList = 'mpl-button-group';\n",
       "            continue;\n",
       "        }\n",
       "\n",
       "        var button = (fig.buttons[name] = document.createElement('button'));\n",
       "        button.classList = 'mpl-widget';\n",
       "        button.setAttribute('role', 'button');\n",
       "        button.setAttribute('aria-disabled', 'false');\n",
       "        button.addEventListener('click', on_click_closure(method_name));\n",
       "        button.addEventListener('mouseover', on_mouseover_closure(tooltip));\n",
       "\n",
       "        var icon_img = document.createElement('img');\n",
       "        icon_img.src = '_images/' + image + '.png';\n",
       "        icon_img.srcset = '_images/' + image + '_large.png 2x';\n",
       "        icon_img.alt = tooltip;\n",
       "        button.appendChild(icon_img);\n",
       "\n",
       "        buttonGroup.appendChild(button);\n",
       "    }\n",
       "\n",
       "    if (buttonGroup.hasChildNodes()) {\n",
       "        toolbar.appendChild(buttonGroup);\n",
       "    }\n",
       "\n",
       "    var fmt_picker = document.createElement('select');\n",
       "    fmt_picker.classList = 'mpl-widget';\n",
       "    toolbar.appendChild(fmt_picker);\n",
       "    this.format_dropdown = fmt_picker;\n",
       "\n",
       "    for (var ind in mpl.extensions) {\n",
       "        var fmt = mpl.extensions[ind];\n",
       "        var option = document.createElement('option');\n",
       "        option.selected = fmt === mpl.default_extension;\n",
       "        option.innerHTML = fmt;\n",
       "        fmt_picker.appendChild(option);\n",
       "    }\n",
       "\n",
       "    var status_bar = document.createElement('span');\n",
       "    status_bar.classList = 'mpl-message';\n",
       "    toolbar.appendChild(status_bar);\n",
       "    this.message = status_bar;\n",
       "};\n",
       "\n",
       "mpl.figure.prototype.request_resize = function (x_pixels, y_pixels) {\n",
       "    // Request matplotlib to resize the figure. Matplotlib will then trigger a resize in the client,\n",
       "    // which will in turn request a refresh of the image.\n",
       "    this.send_message('resize', { width: x_pixels, height: y_pixels });\n",
       "};\n",
       "\n",
       "mpl.figure.prototype.send_message = function (type, properties) {\n",
       "    properties['type'] = type;\n",
       "    properties['figure_id'] = this.id;\n",
       "    this.ws.send(JSON.stringify(properties));\n",
       "};\n",
       "\n",
       "mpl.figure.prototype.send_draw_message = function () {\n",
       "    if (!this.waiting) {\n",
       "        this.waiting = true;\n",
       "        this.ws.send(JSON.stringify({ type: 'draw', figure_id: this.id }));\n",
       "    }\n",
       "};\n",
       "\n",
       "mpl.figure.prototype.handle_save = function (fig, _msg) {\n",
       "    var format_dropdown = fig.format_dropdown;\n",
       "    var format = format_dropdown.options[format_dropdown.selectedIndex].value;\n",
       "    fig.ondownload(fig, format);\n",
       "};\n",
       "\n",
       "mpl.figure.prototype.handle_resize = function (fig, msg) {\n",
       "    var size = msg['size'];\n",
       "    if (size[0] !== fig.canvas.width || size[1] !== fig.canvas.height) {\n",
       "        fig._resize_canvas(size[0], size[1], msg['forward']);\n",
       "        fig.send_message('refresh', {});\n",
       "    }\n",
       "};\n",
       "\n",
       "mpl.figure.prototype.handle_rubberband = function (fig, msg) {\n",
       "    var x0 = msg['x0'] / fig.ratio;\n",
       "    var y0 = (fig.canvas.height - msg['y0']) / fig.ratio;\n",
       "    var x1 = msg['x1'] / fig.ratio;\n",
       "    var y1 = (fig.canvas.height - msg['y1']) / fig.ratio;\n",
       "    x0 = Math.floor(x0) + 0.5;\n",
       "    y0 = Math.floor(y0) + 0.5;\n",
       "    x1 = Math.floor(x1) + 0.5;\n",
       "    y1 = Math.floor(y1) + 0.5;\n",
       "    var min_x = Math.min(x0, x1);\n",
       "    var min_y = Math.min(y0, y1);\n",
       "    var width = Math.abs(x1 - x0);\n",
       "    var height = Math.abs(y1 - y0);\n",
       "\n",
       "    fig.rubberband_context.clearRect(\n",
       "        0,\n",
       "        0,\n",
       "        fig.canvas.width / fig.ratio,\n",
       "        fig.canvas.height / fig.ratio\n",
       "    );\n",
       "\n",
       "    fig.rubberband_context.strokeRect(min_x, min_y, width, height);\n",
       "};\n",
       "\n",
       "mpl.figure.prototype.handle_figure_label = function (fig, msg) {\n",
       "    // Updates the figure title.\n",
       "    fig.header.textContent = msg['label'];\n",
       "};\n",
       "\n",
       "mpl.figure.prototype.handle_cursor = function (fig, msg) {\n",
       "    var cursor = msg['cursor'];\n",
       "    switch (cursor) {\n",
       "        case 0:\n",
       "            cursor = 'pointer';\n",
       "            break;\n",
       "        case 1:\n",
       "            cursor = 'default';\n",
       "            break;\n",
       "        case 2:\n",
       "            cursor = 'crosshair';\n",
       "            break;\n",
       "        case 3:\n",
       "            cursor = 'move';\n",
       "            break;\n",
       "    }\n",
       "    fig.rubberband_canvas.style.cursor = cursor;\n",
       "};\n",
       "\n",
       "mpl.figure.prototype.handle_message = function (fig, msg) {\n",
       "    fig.message.textContent = msg['message'];\n",
       "};\n",
       "\n",
       "mpl.figure.prototype.handle_draw = function (fig, _msg) {\n",
       "    // Request the server to send over a new figure.\n",
       "    fig.send_draw_message();\n",
       "};\n",
       "\n",
       "mpl.figure.prototype.handle_image_mode = function (fig, msg) {\n",
       "    fig.image_mode = msg['mode'];\n",
       "};\n",
       "\n",
       "mpl.figure.prototype.handle_history_buttons = function (fig, msg) {\n",
       "    for (var key in msg) {\n",
       "        if (!(key in fig.buttons)) {\n",
       "            continue;\n",
       "        }\n",
       "        fig.buttons[key].disabled = !msg[key];\n",
       "        fig.buttons[key].setAttribute('aria-disabled', !msg[key]);\n",
       "    }\n",
       "};\n",
       "\n",
       "mpl.figure.prototype.handle_navigate_mode = function (fig, msg) {\n",
       "    if (msg['mode'] === 'PAN') {\n",
       "        fig.buttons['Pan'].classList.add('active');\n",
       "        fig.buttons['Zoom'].classList.remove('active');\n",
       "    } else if (msg['mode'] === 'ZOOM') {\n",
       "        fig.buttons['Pan'].classList.remove('active');\n",
       "        fig.buttons['Zoom'].classList.add('active');\n",
       "    } else {\n",
       "        fig.buttons['Pan'].classList.remove('active');\n",
       "        fig.buttons['Zoom'].classList.remove('active');\n",
       "    }\n",
       "};\n",
       "\n",
       "mpl.figure.prototype.updated_canvas_event = function () {\n",
       "    // Called whenever the canvas gets updated.\n",
       "    this.send_message('ack', {});\n",
       "};\n",
       "\n",
       "// A function to construct a web socket function for onmessage handling.\n",
       "// Called in the figure constructor.\n",
       "mpl.figure.prototype._make_on_message_function = function (fig) {\n",
       "    return function socket_on_message(evt) {\n",
       "        if (evt.data instanceof Blob) {\n",
       "            /* FIXME: We get \"Resource interpreted as Image but\n",
       "             * transferred with MIME type text/plain:\" errors on\n",
       "             * Chrome.  But how to set the MIME type?  It doesn't seem\n",
       "             * to be part of the websocket stream */\n",
       "            evt.data.type = 'image/png';\n",
       "\n",
       "            /* Free the memory for the previous frames */\n",
       "            if (fig.imageObj.src) {\n",
       "                (window.URL || window.webkitURL).revokeObjectURL(\n",
       "                    fig.imageObj.src\n",
       "                );\n",
       "            }\n",
       "\n",
       "            fig.imageObj.src = (window.URL || window.webkitURL).createObjectURL(\n",
       "                evt.data\n",
       "            );\n",
       "            fig.updated_canvas_event();\n",
       "            fig.waiting = false;\n",
       "            return;\n",
       "        } else if (\n",
       "            typeof evt.data === 'string' &&\n",
       "            evt.data.slice(0, 21) === 'data:image/png;base64'\n",
       "        ) {\n",
       "            fig.imageObj.src = evt.data;\n",
       "            fig.updated_canvas_event();\n",
       "            fig.waiting = false;\n",
       "            return;\n",
       "        }\n",
       "\n",
       "        var msg = JSON.parse(evt.data);\n",
       "        var msg_type = msg['type'];\n",
       "\n",
       "        // Call the  \"handle_{type}\" callback, which takes\n",
       "        // the figure and JSON message as its only arguments.\n",
       "        try {\n",
       "            var callback = fig['handle_' + msg_type];\n",
       "        } catch (e) {\n",
       "            console.log(\n",
       "                \"No handler for the '\" + msg_type + \"' message type: \",\n",
       "                msg\n",
       "            );\n",
       "            return;\n",
       "        }\n",
       "\n",
       "        if (callback) {\n",
       "            try {\n",
       "                // console.log(\"Handling '\" + msg_type + \"' message: \", msg);\n",
       "                callback(fig, msg);\n",
       "            } catch (e) {\n",
       "                console.log(\n",
       "                    \"Exception inside the 'handler_\" + msg_type + \"' callback:\",\n",
       "                    e,\n",
       "                    e.stack,\n",
       "                    msg\n",
       "                );\n",
       "            }\n",
       "        }\n",
       "    };\n",
       "};\n",
       "\n",
       "// from http://stackoverflow.com/questions/1114465/getting-mouse-location-in-canvas\n",
       "mpl.findpos = function (e) {\n",
       "    //this section is from http://www.quirksmode.org/js/events_properties.html\n",
       "    var targ;\n",
       "    if (!e) {\n",
       "        e = window.event;\n",
       "    }\n",
       "    if (e.target) {\n",
       "        targ = e.target;\n",
       "    } else if (e.srcElement) {\n",
       "        targ = e.srcElement;\n",
       "    }\n",
       "    if (targ.nodeType === 3) {\n",
       "        // defeat Safari bug\n",
       "        targ = targ.parentNode;\n",
       "    }\n",
       "\n",
       "    // pageX,Y are the mouse positions relative to the document\n",
       "    var boundingRect = targ.getBoundingClientRect();\n",
       "    var x = e.pageX - (boundingRect.left + document.body.scrollLeft);\n",
       "    var y = e.pageY - (boundingRect.top + document.body.scrollTop);\n",
       "\n",
       "    return { x: x, y: y };\n",
       "};\n",
       "\n",
       "/*\n",
       " * return a copy of an object with only non-object keys\n",
       " * we need this to avoid circular references\n",
       " * http://stackoverflow.com/a/24161582/3208463\n",
       " */\n",
       "function simpleKeys(original) {\n",
       "    return Object.keys(original).reduce(function (obj, key) {\n",
       "        if (typeof original[key] !== 'object') {\n",
       "            obj[key] = original[key];\n",
       "        }\n",
       "        return obj;\n",
       "    }, {});\n",
       "}\n",
       "\n",
       "mpl.figure.prototype.mouse_event = function (event, name) {\n",
       "    var canvas_pos = mpl.findpos(event);\n",
       "\n",
       "    if (name === 'button_press') {\n",
       "        this.canvas.focus();\n",
       "        this.canvas_div.focus();\n",
       "    }\n",
       "\n",
       "    var x = canvas_pos.x * this.ratio;\n",
       "    var y = canvas_pos.y * this.ratio;\n",
       "\n",
       "    this.send_message(name, {\n",
       "        x: x,\n",
       "        y: y,\n",
       "        button: event.button,\n",
       "        step: event.step,\n",
       "        guiEvent: simpleKeys(event),\n",
       "    });\n",
       "\n",
       "    /* This prevents the web browser from automatically changing to\n",
       "     * the text insertion cursor when the button is pressed.  We want\n",
       "     * to control all of the cursor setting manually through the\n",
       "     * 'cursor' event from matplotlib */\n",
       "    event.preventDefault();\n",
       "    return false;\n",
       "};\n",
       "\n",
       "mpl.figure.prototype._key_event_extra = function (_event, _name) {\n",
       "    // Handle any extra behaviour associated with a key event\n",
       "};\n",
       "\n",
       "mpl.figure.prototype.key_event = function (event, name) {\n",
       "    // Prevent repeat events\n",
       "    if (name === 'key_press') {\n",
       "        if (event.which === this._key) {\n",
       "            return;\n",
       "        } else {\n",
       "            this._key = event.which;\n",
       "        }\n",
       "    }\n",
       "    if (name === 'key_release') {\n",
       "        this._key = null;\n",
       "    }\n",
       "\n",
       "    var value = '';\n",
       "    if (event.ctrlKey && event.which !== 17) {\n",
       "        value += 'ctrl+';\n",
       "    }\n",
       "    if (event.altKey && event.which !== 18) {\n",
       "        value += 'alt+';\n",
       "    }\n",
       "    if (event.shiftKey && event.which !== 16) {\n",
       "        value += 'shift+';\n",
       "    }\n",
       "\n",
       "    value += 'k';\n",
       "    value += event.which.toString();\n",
       "\n",
       "    this._key_event_extra(event, name);\n",
       "\n",
       "    this.send_message(name, { key: value, guiEvent: simpleKeys(event) });\n",
       "    return false;\n",
       "};\n",
       "\n",
       "mpl.figure.prototype.toolbar_button_onclick = function (name) {\n",
       "    if (name === 'download') {\n",
       "        this.handle_save(this, null);\n",
       "    } else {\n",
       "        this.send_message('toolbar_button', { name: name });\n",
       "    }\n",
       "};\n",
       "\n",
       "mpl.figure.prototype.toolbar_button_onmouseover = function (tooltip) {\n",
       "    this.message.textContent = tooltip;\n",
       "};\n",
       "\n",
       "///////////////// REMAINING CONTENT GENERATED BY embed_js.py /////////////////\n",
       "// prettier-ignore\n",
       "var _JSXTOOLS_RESIZE_OBSERVER=function(A){var t,i=new WeakMap,n=new WeakMap,a=new WeakMap,r=new WeakMap,o=new Set;function s(e){if(!(this instanceof s))throw new TypeError(\"Constructor requires 'new' operator\");i.set(this,e)}function h(){throw new TypeError(\"Function is not a constructor\")}function c(e,t,i,n){e=0 in arguments?Number(arguments[0]):0,t=1 in arguments?Number(arguments[1]):0,i=2 in arguments?Number(arguments[2]):0,n=3 in arguments?Number(arguments[3]):0,this.right=(this.x=this.left=e)+(this.width=i),this.bottom=(this.y=this.top=t)+(this.height=n),Object.freeze(this)}function d(){t=requestAnimationFrame(d);var s=new WeakMap,p=new Set;o.forEach((function(t){r.get(t).forEach((function(i){var r=t instanceof window.SVGElement,o=a.get(t),d=r?0:parseFloat(o.paddingTop),f=r?0:parseFloat(o.paddingRight),l=r?0:parseFloat(o.paddingBottom),u=r?0:parseFloat(o.paddingLeft),g=r?0:parseFloat(o.borderTopWidth),m=r?0:parseFloat(o.borderRightWidth),w=r?0:parseFloat(o.borderBottomWidth),b=u+f,F=d+l,v=(r?0:parseFloat(o.borderLeftWidth))+m,W=g+w,y=r?0:t.offsetHeight-W-t.clientHeight,E=r?0:t.offsetWidth-v-t.clientWidth,R=b+v,z=F+W,M=r?t.width:parseFloat(o.width)-R-E,O=r?t.height:parseFloat(o.height)-z-y;if(n.has(t)){var k=n.get(t);if(k[0]===M&&k[1]===O)return}n.set(t,[M,O]);var S=Object.create(h.prototype);S.target=t,S.contentRect=new c(u,d,M,O),s.has(i)||(s.set(i,[]),p.add(i)),s.get(i).push(S)}))})),p.forEach((function(e){i.get(e).call(e,s.get(e),e)}))}return s.prototype.observe=function(i){if(i instanceof window.Element){r.has(i)||(r.set(i,new Set),o.add(i),a.set(i,window.getComputedStyle(i)));var n=r.get(i);n.has(this)||n.add(this),cancelAnimationFrame(t),t=requestAnimationFrame(d)}},s.prototype.unobserve=function(i){if(i instanceof window.Element&&r.has(i)){var n=r.get(i);n.has(this)&&(n.delete(this),n.size||(r.delete(i),o.delete(i))),n.size||r.delete(i),o.size||cancelAnimationFrame(t)}},A.DOMRectReadOnly=c,A.ResizeObserver=s,A.ResizeObserverEntry=h,A}; // eslint-disable-line\n",
       "mpl.toolbar_items = [[\"Home\", \"Reset original view\", \"fa fa-home icon-home\", \"home\"], [\"Back\", \"Back to previous view\", \"fa fa-arrow-left icon-arrow-left\", \"back\"], [\"Forward\", \"Forward to next view\", \"fa fa-arrow-right icon-arrow-right\", \"forward\"], [\"\", \"\", \"\", \"\"], [\"Pan\", \"Left button pans, Right button zooms\\nx/y fixes axis, CTRL fixes aspect\", \"fa fa-arrows icon-move\", \"pan\"], [\"Zoom\", \"Zoom to rectangle\\nx/y fixes axis, CTRL fixes aspect\", \"fa fa-square-o icon-check-empty\", \"zoom\"], [\"\", \"\", \"\", \"\"], [\"Download\", \"Download plot\", \"fa fa-floppy-o icon-save\", \"download\"]];\n",
       "\n",
       "mpl.extensions = [\"eps\", \"jpeg\", \"pdf\", \"png\", \"ps\", \"raw\", \"svg\", \"tif\"];\n",
       "\n",
       "mpl.default_extension = \"png\";/* global mpl */\n",
       "\n",
       "var comm_websocket_adapter = function (comm) {\n",
       "    // Create a \"websocket\"-like object which calls the given IPython comm\n",
       "    // object with the appropriate methods. Currently this is a non binary\n",
       "    // socket, so there is still some room for performance tuning.\n",
       "    var ws = {};\n",
       "\n",
       "    ws.close = function () {\n",
       "        comm.close();\n",
       "    };\n",
       "    ws.send = function (m) {\n",
       "        //console.log('sending', m);\n",
       "        comm.send(m);\n",
       "    };\n",
       "    // Register the callback with on_msg.\n",
       "    comm.on_msg(function (msg) {\n",
       "        //console.log('receiving', msg['content']['data'], msg);\n",
       "        // Pass the mpl event to the overridden (by mpl) onmessage function.\n",
       "        ws.onmessage(msg['content']['data']);\n",
       "    });\n",
       "    return ws;\n",
       "};\n",
       "\n",
       "mpl.mpl_figure_comm = function (comm, msg) {\n",
       "    // This is the function which gets called when the mpl process\n",
       "    // starts-up an IPython Comm through the \"matplotlib\" channel.\n",
       "\n",
       "    var id = msg.content.data.id;\n",
       "    // Get hold of the div created by the display call when the Comm\n",
       "    // socket was opened in Python.\n",
       "    var element = document.getElementById(id);\n",
       "    var ws_proxy = comm_websocket_adapter(comm);\n",
       "\n",
       "    function ondownload(figure, _format) {\n",
       "        window.open(figure.canvas.toDataURL());\n",
       "    }\n",
       "\n",
       "    var fig = new mpl.figure(id, ws_proxy, ondownload, element);\n",
       "\n",
       "    // Call onopen now - mpl needs it, as it is assuming we've passed it a real\n",
       "    // web socket which is closed, not our websocket->open comm proxy.\n",
       "    ws_proxy.onopen();\n",
       "\n",
       "    fig.parent_element = element;\n",
       "    fig.cell_info = mpl.find_output_cell(\"<div id='\" + id + \"'></div>\");\n",
       "    if (!fig.cell_info) {\n",
       "        console.error('Failed to find cell for figure', id, fig);\n",
       "        return;\n",
       "    }\n",
       "    fig.cell_info[0].output_area.element.on(\n",
       "        'cleared',\n",
       "        { fig: fig },\n",
       "        fig._remove_fig_handler\n",
       "    );\n",
       "};\n",
       "\n",
       "mpl.figure.prototype.handle_close = function (fig, msg) {\n",
       "    var width = fig.canvas.width / fig.ratio;\n",
       "    fig.cell_info[0].output_area.element.off(\n",
       "        'cleared',\n",
       "        fig._remove_fig_handler\n",
       "    );\n",
       "    fig.resizeObserverInstance.unobserve(fig.canvas_div);\n",
       "\n",
       "    // Update the output cell to use the data from the current canvas.\n",
       "    fig.push_to_output();\n",
       "    var dataURL = fig.canvas.toDataURL();\n",
       "    // Re-enable the keyboard manager in IPython - without this line, in FF,\n",
       "    // the notebook keyboard shortcuts fail.\n",
       "    IPython.keyboard_manager.enable();\n",
       "    fig.parent_element.innerHTML =\n",
       "        '<img src=\"' + dataURL + '\" width=\"' + width + '\">';\n",
       "    fig.close_ws(fig, msg);\n",
       "};\n",
       "\n",
       "mpl.figure.prototype.close_ws = function (fig, msg) {\n",
       "    fig.send_message('closing', msg);\n",
       "    // fig.ws.close()\n",
       "};\n",
       "\n",
       "mpl.figure.prototype.push_to_output = function (_remove_interactive) {\n",
       "    // Turn the data on the canvas into data in the output cell.\n",
       "    var width = this.canvas.width / this.ratio;\n",
       "    var dataURL = this.canvas.toDataURL();\n",
       "    this.cell_info[1]['text/html'] =\n",
       "        '<img src=\"' + dataURL + '\" width=\"' + width + '\">';\n",
       "};\n",
       "\n",
       "mpl.figure.prototype.updated_canvas_event = function () {\n",
       "    // Tell IPython that the notebook contents must change.\n",
       "    IPython.notebook.set_dirty(true);\n",
       "    this.send_message('ack', {});\n",
       "    var fig = this;\n",
       "    // Wait a second, then push the new image to the DOM so\n",
       "    // that it is saved nicely (might be nice to debounce this).\n",
       "    setTimeout(function () {\n",
       "        fig.push_to_output();\n",
       "    }, 1000);\n",
       "};\n",
       "\n",
       "mpl.figure.prototype._init_toolbar = function () {\n",
       "    var fig = this;\n",
       "\n",
       "    var toolbar = document.createElement('div');\n",
       "    toolbar.classList = 'btn-toolbar';\n",
       "    this.root.appendChild(toolbar);\n",
       "\n",
       "    function on_click_closure(name) {\n",
       "        return function (_event) {\n",
       "            return fig.toolbar_button_onclick(name);\n",
       "        };\n",
       "    }\n",
       "\n",
       "    function on_mouseover_closure(tooltip) {\n",
       "        return function (event) {\n",
       "            if (!event.currentTarget.disabled) {\n",
       "                return fig.toolbar_button_onmouseover(tooltip);\n",
       "            }\n",
       "        };\n",
       "    }\n",
       "\n",
       "    fig.buttons = {};\n",
       "    var buttonGroup = document.createElement('div');\n",
       "    buttonGroup.classList = 'btn-group';\n",
       "    var button;\n",
       "    for (var toolbar_ind in mpl.toolbar_items) {\n",
       "        var name = mpl.toolbar_items[toolbar_ind][0];\n",
       "        var tooltip = mpl.toolbar_items[toolbar_ind][1];\n",
       "        var image = mpl.toolbar_items[toolbar_ind][2];\n",
       "        var method_name = mpl.toolbar_items[toolbar_ind][3];\n",
       "\n",
       "        if (!name) {\n",
       "            /* Instead of a spacer, we start a new button group. */\n",
       "            if (buttonGroup.hasChildNodes()) {\n",
       "                toolbar.appendChild(buttonGroup);\n",
       "            }\n",
       "            buttonGroup = document.createElement('div');\n",
       "            buttonGroup.classList = 'btn-group';\n",
       "            continue;\n",
       "        }\n",
       "\n",
       "        button = fig.buttons[name] = document.createElement('button');\n",
       "        button.classList = 'btn btn-default';\n",
       "        button.href = '#';\n",
       "        button.title = name;\n",
       "        button.innerHTML = '<i class=\"fa ' + image + ' fa-lg\"></i>';\n",
       "        button.addEventListener('click', on_click_closure(method_name));\n",
       "        button.addEventListener('mouseover', on_mouseover_closure(tooltip));\n",
       "        buttonGroup.appendChild(button);\n",
       "    }\n",
       "\n",
       "    if (buttonGroup.hasChildNodes()) {\n",
       "        toolbar.appendChild(buttonGroup);\n",
       "    }\n",
       "\n",
       "    // Add the status bar.\n",
       "    var status_bar = document.createElement('span');\n",
       "    status_bar.classList = 'mpl-message pull-right';\n",
       "    toolbar.appendChild(status_bar);\n",
       "    this.message = status_bar;\n",
       "\n",
       "    // Add the close button to the window.\n",
       "    var buttongrp = document.createElement('div');\n",
       "    buttongrp.classList = 'btn-group inline pull-right';\n",
       "    button = document.createElement('button');\n",
       "    button.classList = 'btn btn-mini btn-primary';\n",
       "    button.href = '#';\n",
       "    button.title = 'Stop Interaction';\n",
       "    button.innerHTML = '<i class=\"fa fa-power-off icon-remove icon-large\"></i>';\n",
       "    button.addEventListener('click', function (_evt) {\n",
       "        fig.handle_close(fig, {});\n",
       "    });\n",
       "    button.addEventListener(\n",
       "        'mouseover',\n",
       "        on_mouseover_closure('Stop Interaction')\n",
       "    );\n",
       "    buttongrp.appendChild(button);\n",
       "    var titlebar = this.root.querySelector('.ui-dialog-titlebar');\n",
       "    titlebar.insertBefore(buttongrp, titlebar.firstChild);\n",
       "};\n",
       "\n",
       "mpl.figure.prototype._remove_fig_handler = function (event) {\n",
       "    var fig = event.data.fig;\n",
       "    if (event.target !== this) {\n",
       "        // Ignore bubbled events from children.\n",
       "        return;\n",
       "    }\n",
       "    fig.close_ws(fig, {});\n",
       "};\n",
       "\n",
       "mpl.figure.prototype._root_extra_style = function (el) {\n",
       "    el.style.boxSizing = 'content-box'; // override notebook setting of border-box.\n",
       "};\n",
       "\n",
       "mpl.figure.prototype._canvas_extra_style = function (el) {\n",
       "    // this is important to make the div 'focusable\n",
       "    el.setAttribute('tabindex', 0);\n",
       "    // reach out to IPython and tell the keyboard manager to turn it's self\n",
       "    // off when our div gets focus\n",
       "\n",
       "    // location in version 3\n",
       "    if (IPython.notebook.keyboard_manager) {\n",
       "        IPython.notebook.keyboard_manager.register_events(el);\n",
       "    } else {\n",
       "        // location in version 2\n",
       "        IPython.keyboard_manager.register_events(el);\n",
       "    }\n",
       "};\n",
       "\n",
       "mpl.figure.prototype._key_event_extra = function (event, _name) {\n",
       "    var manager = IPython.notebook.keyboard_manager;\n",
       "    if (!manager) {\n",
       "        manager = IPython.keyboard_manager;\n",
       "    }\n",
       "\n",
       "    // Check for shift+enter\n",
       "    if (event.shiftKey && event.which === 13) {\n",
       "        this.canvas_div.blur();\n",
       "        // select the cell after this one\n",
       "        var index = IPython.notebook.find_cell_index(this.cell_info[0]);\n",
       "        IPython.notebook.select(index + 1);\n",
       "    }\n",
       "};\n",
       "\n",
       "mpl.figure.prototype.handle_save = function (fig, _msg) {\n",
       "    fig.ondownload(fig, null);\n",
       "};\n",
       "\n",
       "mpl.find_output_cell = function (html_output) {\n",
       "    // Return the cell and output element which can be found *uniquely* in the notebook.\n",
       "    // Note - this is a bit hacky, but it is done because the \"notebook_saving.Notebook\"\n",
       "    // IPython event is triggered only after the cells have been serialised, which for\n",
       "    // our purposes (turning an active figure into a static one), is too late.\n",
       "    var cells = IPython.notebook.get_cells();\n",
       "    var ncells = cells.length;\n",
       "    for (var i = 0; i < ncells; i++) {\n",
       "        var cell = cells[i];\n",
       "        if (cell.cell_type === 'code') {\n",
       "            for (var j = 0; j < cell.output_area.outputs.length; j++) {\n",
       "                var data = cell.output_area.outputs[j];\n",
       "                if (data.data) {\n",
       "                    // IPython >= 3 moved mimebundle to data attribute of output\n",
       "                    data = data.data;\n",
       "                }\n",
       "                if (data['text/html'] === html_output) {\n",
       "                    return [cell, data, j];\n",
       "                }\n",
       "            }\n",
       "        }\n",
       "    }\n",
       "};\n",
       "\n",
       "// Register the function which deals with the matplotlib target/channel.\n",
       "// The kernel may be null if the page has been refreshed.\n",
       "if (IPython.notebook.kernel !== null) {\n",
       "    IPython.notebook.kernel.comm_manager.register_target(\n",
       "        'matplotlib',\n",
       "        mpl.mpl_figure_comm\n",
       "    );\n",
       "}\n"
      ],
      "text/plain": [
       "<IPython.core.display.Javascript object>"
      ]
     },
     "metadata": {},
     "output_type": "display_data"
    },
    {
     "data": {
      "text/html": [
       "<img src=\"data:image/png;base64,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\" width=\"504\">"
      ],
      "text/plain": [
       "<IPython.core.display.HTML object>"
      ]
     },
     "metadata": {},
     "output_type": "display_data"
    }
   ],
   "source": [
    "%matplotlib nbagg\n",
    "ax = ut.plotSetup3d(-7, 7, -7, 7, -10, 10, figsize = (7, 7))\n",
    "v = [4.0, 4.0, 2.0]\n",
    "u = [-4.0, 3.0, 1.0]\n",
    "# plotting the span of v\n",
    "ut.plotSpan3d(ax,u,v,'Green')\n",
    "npts = 50\n",
    "ax.plot(coords[0], coords[1], 'ro', zs = coords[2], markersize=6);"
   ]
  },
  {
   "cell_type": "markdown",
   "metadata": {
    "hide_input": true,
    "slideshow": {
     "slide_type": "fragment"
    }
   },
   "source": [
    "This example shows that the linear model for multiple regression has the same form as the model for the simple regression in the earlier examples."
   ]
  },
  {
   "cell_type": "markdown",
   "metadata": {
    "slideshow": {
     "slide_type": "fragment"
    }
   },
   "source": [
    "We can see that there the general principle is the same across all the different kinds of linear models."
   ]
  },
  {
   "cell_type": "markdown",
   "metadata": {
    "slideshow": {
     "slide_type": "fragment"
    }
   },
   "source": [
    "Once $X$ is defined properly, the normal equations for $\\mathbf{\\beta}$ have the same matrix form, no matter how many variables are involved.\n",
    "\n",
    "Thus, for any linear model where $X^TX$ is invertible, the least squares estimate $\\hat{\\mathbf{\\beta}}$ is given by $(X^TX)^{-1}X^T\\mathbf{y}$."
   ]
  },
  {
   "cell_type": "markdown",
   "metadata": {
    "slideshow": {
     "slide_type": "slide"
    }
   },
   "source": [
    "## Measuring the fit of a regression model: $R^2$"
   ]
  },
  {
   "cell_type": "markdown",
   "metadata": {
    "slideshow": {
     "slide_type": "fragment"
    }
   },
   "source": [
    "Given any $X$ and $\\mathbf{y}$, the above algorithm will produce an output $\\hat{\\beta}$.\n",
    "\n",
    "But how do we know whether the data is in fact well described by the model?"
   ]
  },
  {
   "cell_type": "markdown",
   "metadata": {
    "slideshow": {
     "slide_type": "fragment"
    }
   },
   "source": [
    "The most common measure of fit is $R^2$.\n",
    "\n",
    "$R^2$ measures the __fraction of the variance__ of $\\mathbf{y}$ that can be explained by the model $X\\hat{\\beta}$."
   ]
  },
  {
   "cell_type": "markdown",
   "metadata": {
    "slideshow": {
     "slide_type": "fragment"
    }
   },
   "source": [
    "The variance of $\\mathbf{y}$ is \n",
    "\n",
    "$$\\text{Var}(\\mathbf{y}) =\\frac{1}{n} \\sum_{i=1}^n \\left(y_i-\\overline{y}\\right)^2$$\n",
    "\n",
    "where $\\overline{y}=\\frac{1}{n}\\sum_{i=1}^ny_i$."
   ]
  },
  {
   "cell_type": "markdown",
   "metadata": {
    "slideshow": {
     "slide_type": "fragment"
    }
   },
   "source": [
    "For any given $n$, we can equally work with just \n",
    "$$\\sum_{i=1}^n \\left(y_i-\\overline{y}\\right)^2$$\n",
    "which is called the __Total Sum of Squares__ (TSS)."
   ]
  },
  {
   "cell_type": "markdown",
   "metadata": {
    "slideshow": {
     "slide_type": "fragment"
    }
   },
   "source": [
    "Now to measure the quality of fit of a model, we break TSS down into two components. \n",
    "\n",
    "For any given $\\mathbf{x}_i$, the prediction made by the model is $\\hat{y_i} = \\mathbf{x}_i^T\\beta$.\n",
    "\n",
    "Therefore, \n",
    "* the residual $\\epsilon$ is $y_i - \\hat{y_i}$, and \n",
    "* the part that the model \"explains\" is $\\hat{y_i} - \\overline{y_i}.$"
   ]
  },
  {
   "cell_type": "markdown",
   "metadata": {
    "slideshow": {
     "slide_type": "fragment"
    }
   },
   "source": [
    "Se we define Residual Sum of Squares (RSS) as:\n",
    "\n",
    "$$\\text{RSS} = \\sum_{i=1}^n \\left(y_i-\\hat{y_i}\\right)^2,$$\n",
    "\n",
    "and Explained Sum of Squares (ESS) as:\n",
    "\n",
    "$$\\text{ESS} = \\sum_{i=1}^n \\left(\\hat{y_i}-\\overline{y}\\right)^2,$$"
   ]
  },
  {
   "cell_type": "markdown",
   "metadata": {
    "slideshow": {
     "slide_type": "fragment"
    }
   },
   "source": [
    "Then it turns out that the total sum of squares is exactly equal to the sum of squares of the residuals plus the sum of squares of the explained part.\n",
    "\n",
    "In other words:\n",
    "\n",
    "$$\\text{TSS} = \\text{RSS} + \\text{ESS}$$"
   ]
  },
  {
   "cell_type": "markdown",
   "metadata": {
    "slideshow": {
     "slide_type": "fragment"
    }
   },
   "source": [
    "Now, a good fit is one in which the model explains a large part of the variance of $\\mathbf{y}$.  "
   ]
  },
  {
   "cell_type": "markdown",
   "metadata": {
    "slideshow": {
     "slide_type": "fragment"
    }
   },
   "source": [
    "So the measure of fit $R^2$ is defined as:\n",
    "\n",
    "\\begin{eqnarray}\n",
    "R^2 & = & \\frac{\\text{ESS}}{\\text{TSS}} = 1-\\frac{\\text{RSS}}{\\text{TSS}}\n",
    "\\end{eqnarray}"
   ]
  },
  {
   "cell_type": "markdown",
   "metadata": {
    "slideshow": {
     "slide_type": "fragment"
    }
   },
   "source": [
    "As a result, $0\\leq R^2\\leq 1$.\n",
    "\n",
    "The closer the value of $R^2$ is to $1$ the better the fit of the regression:\n",
    "* small values of RSS imply that the residuals are small and therefore we have a better fit."
   ]
  },
  {
   "cell_type": "markdown",
   "metadata": {},
   "source": [
    "$R^2$ is called the __coefficient of determination.__  \n",
    "\n",
    "It tells us \"how well does the model predict the data?\""
   ]
  },
  {
   "cell_type": "markdown",
   "metadata": {},
   "source": [
    "__WARNING -- WARNING -- WARNING__\n",
    "\n",
    "Do __not__ confuse $R^2$ with Pearson's $r$, which is the __correlation coefficient.__\n",
    "\n",
    "(To make matters worse, sometimes people talk about $r^2$... very confusing!)\n",
    "\n",
    "The correlation coefficient tells us whether two variables are __correlated__.   \n",
    "\n",
    "However, just because two variables are correlated does not mean that one is a good __predictor__ of the other!\n",
    "\n",
    "To compare ground truth with predictions, we always use $R^2$."
   ]
  },
  {
   "cell_type": "markdown",
   "metadata": {
    "slideshow": {
     "slide_type": "slide"
    }
   },
   "source": [
    "## OLS in Practice"
   ]
  },
  {
   "cell_type": "markdown",
   "metadata": {
    "slideshow": {
     "slide_type": "fragment"
    }
   },
   "source": [
    "First, we'll look at a test case on synthetic data."
   ]
  },
  {
   "cell_type": "code",
   "execution_count": 134,
   "metadata": {
    "slideshow": {
     "slide_type": "fragment"
    }
   },
   "outputs": [],
   "source": [
    "from sklearn import datasets\n",
    "X, y = datasets.make_regression(n_samples=100, n_features=20, n_informative=5, bias=0.1, noise=30, random_state=1)"
   ]
  },
  {
   "cell_type": "code",
   "execution_count": 135,
   "metadata": {
    "slideshow": {
     "slide_type": "fragment"
    }
   },
   "outputs": [
    {
     "name": "stdout",
     "output_type": "stream",
     "text": [
      "                                 OLS Regression Results                                \n",
      "=======================================================================================\n",
      "Dep. Variable:                      y   R-squared (uncentered):                   0.969\n",
      "Model:                            OLS   Adj. R-squared (uncentered):              0.961\n",
      "Method:                 Least Squares   F-statistic:                              123.8\n",
      "Date:                Tue, 26 Oct 2021   Prob (F-statistic):                    1.03e-51\n",
      "Time:                        18:17:13   Log-Likelihood:                         -468.30\n",
      "No. Observations:                 100   AIC:                                      976.6\n",
      "Df Residuals:                      80   BIC:                                      1029.\n",
      "Df Model:                          20                                                  \n",
      "Covariance Type:            nonrobust                                                  \n",
      "==============================================================================\n",
      "                 coef    std err          t      P>|t|      [0.025      0.975]\n",
      "------------------------------------------------------------------------------\n",
      "x1            12.5673      3.471      3.620      0.001       5.659      19.476\n",
      "x2            -3.8321      2.818     -1.360      0.178      -9.440       1.776\n",
      "x3            -2.4197      3.466     -0.698      0.487      -9.316       4.477\n",
      "x4             2.0143      3.086      0.653      0.516      -4.127       8.155\n",
      "x5            -2.6256      3.445     -0.762      0.448      -9.481       4.230\n",
      "x6             0.7894      3.159      0.250      0.803      -5.497       7.076\n",
      "x7            -3.0684      3.595     -0.853      0.396     -10.224       4.087\n",
      "x8            90.1383      3.211     28.068      0.000      83.747      96.529\n",
      "x9            -0.0133      3.400     -0.004      0.997      -6.779       6.752\n",
      "x10           15.2675      3.248      4.701      0.000       8.804      21.731\n",
      "x11           -0.2247      3.339     -0.067      0.947      -6.869       6.419\n",
      "x12            0.0773      3.546      0.022      0.983      -6.979       7.133\n",
      "x13           -0.2452      3.250     -0.075      0.940      -6.712       6.222\n",
      "x14           90.0179      3.544     25.402      0.000      82.966      97.070\n",
      "x15            1.6684      3.727      0.448      0.656      -5.748       9.085\n",
      "x16            4.3945      2.742      1.603      0.113      -1.062       9.851\n",
      "x17            8.7918      3.399      2.587      0.012       2.028      15.556\n",
      "x18           73.3771      3.425     21.426      0.000      66.562      80.193\n",
      "x19           -1.9139      3.515     -0.545      0.588      -8.908       5.080\n",
      "x20           -1.3206      3.284     -0.402      0.689      -7.855       5.214\n",
      "==============================================================================\n",
      "Omnibus:                        5.248   Durbin-Watson:                   2.018\n",
      "Prob(Omnibus):                  0.073   Jarque-Bera (JB):                4.580\n",
      "Skew:                           0.467   Prob(JB):                        0.101\n",
      "Kurtosis:                       3.475   Cond. No.                         2.53\n",
      "==============================================================================\n",
      "\n",
      "Notes:\n",
      "[1] R² is computed without centering (uncentered) since the model does not contain a constant.\n",
      "[2] Standard Errors assume that the covariance matrix of the errors is correctly specified.\n"
     ]
    }
   ],
   "source": [
    "model = sm.OLS(y, X)\n",
    "results = model.fit()\n",
    "print(results.summary())"
   ]
  },
  {
   "cell_type": "markdown",
   "metadata": {
    "slideshow": {
     "slide_type": "fragment"
    }
   },
   "source": [
    "The $R^2$ value is very good.   We can see that the linear model does a very good job of predicting the observations $y_i$.\n",
    "\n",
    "However, some of the independent variables may not contribute to the accuracy of the prediction. "
   ]
  },
  {
   "cell_type": "code",
   "execution_count": 138,
   "metadata": {
    "hide_input": true,
    "slideshow": {
     "slide_type": "fragment"
    },
    "tags": [
     "hide-input"
    ]
   },
   "outputs": [
    {
     "data": {
      "application/javascript": [
       "/* Put everything inside the global mpl namespace */\n",
       "/* global mpl */\n",
       "window.mpl = {};\n",
       "\n",
       "mpl.get_websocket_type = function () {\n",
       "    if (typeof WebSocket !== 'undefined') {\n",
       "        return WebSocket;\n",
       "    } else if (typeof MozWebSocket !== 'undefined') {\n",
       "        return MozWebSocket;\n",
       "    } else {\n",
       "        alert(\n",
       "            'Your browser does not have WebSocket support. ' +\n",
       "                'Please try Chrome, Safari or Firefox ≥ 6. ' +\n",
       "                'Firefox 4 and 5 are also supported but you ' +\n",
       "                'have to enable WebSockets in about:config.'\n",
       "        );\n",
       "    }\n",
       "};\n",
       "\n",
       "mpl.figure = function (figure_id, websocket, ondownload, parent_element) {\n",
       "    this.id = figure_id;\n",
       "\n",
       "    this.ws = websocket;\n",
       "\n",
       "    this.supports_binary = this.ws.binaryType !== undefined;\n",
       "\n",
       "    if (!this.supports_binary) {\n",
       "        var warnings = document.getElementById('mpl-warnings');\n",
       "        if (warnings) {\n",
       "            warnings.style.display = 'block';\n",
       "            warnings.textContent =\n",
       "                'This browser does not support binary websocket messages. ' +\n",
       "                'Performance may be slow.';\n",
       "        }\n",
       "    }\n",
       "\n",
       "    this.imageObj = new Image();\n",
       "\n",
       "    this.context = undefined;\n",
       "    this.message = undefined;\n",
       "    this.canvas = undefined;\n",
       "    this.rubberband_canvas = undefined;\n",
       "    this.rubberband_context = undefined;\n",
       "    this.format_dropdown = undefined;\n",
       "\n",
       "    this.image_mode = 'full';\n",
       "\n",
       "    this.root = document.createElement('div');\n",
       "    this.root.setAttribute('style', 'display: inline-block');\n",
       "    this._root_extra_style(this.root);\n",
       "\n",
       "    parent_element.appendChild(this.root);\n",
       "\n",
       "    this._init_header(this);\n",
       "    this._init_canvas(this);\n",
       "    this._init_toolbar(this);\n",
       "\n",
       "    var fig = this;\n",
       "\n",
       "    this.waiting = false;\n",
       "\n",
       "    this.ws.onopen = function () {\n",
       "        fig.send_message('supports_binary', { value: fig.supports_binary });\n",
       "        fig.send_message('send_image_mode', {});\n",
       "        if (fig.ratio !== 1) {\n",
       "            fig.send_message('set_dpi_ratio', { dpi_ratio: fig.ratio });\n",
       "        }\n",
       "        fig.send_message('refresh', {});\n",
       "    };\n",
       "\n",
       "    this.imageObj.onload = function () {\n",
       "        if (fig.image_mode === 'full') {\n",
       "            // Full images could contain transparency (where diff images\n",
       "            // almost always do), so we need to clear the canvas so that\n",
       "            // there is no ghosting.\n",
       "            fig.context.clearRect(0, 0, fig.canvas.width, fig.canvas.height);\n",
       "        }\n",
       "        fig.context.drawImage(fig.imageObj, 0, 0);\n",
       "    };\n",
       "\n",
       "    this.imageObj.onunload = function () {\n",
       "        fig.ws.close();\n",
       "    };\n",
       "\n",
       "    this.ws.onmessage = this._make_on_message_function(this);\n",
       "\n",
       "    this.ondownload = ondownload;\n",
       "};\n",
       "\n",
       "mpl.figure.prototype._init_header = function () {\n",
       "    var titlebar = document.createElement('div');\n",
       "    titlebar.classList =\n",
       "        'ui-dialog-titlebar ui-widget-header ui-corner-all ui-helper-clearfix';\n",
       "    var titletext = document.createElement('div');\n",
       "    titletext.classList = 'ui-dialog-title';\n",
       "    titletext.setAttribute(\n",
       "        'style',\n",
       "        'width: 100%; text-align: center; padding: 3px;'\n",
       "    );\n",
       "    titlebar.appendChild(titletext);\n",
       "    this.root.appendChild(titlebar);\n",
       "    this.header = titletext;\n",
       "};\n",
       "\n",
       "mpl.figure.prototype._canvas_extra_style = function (_canvas_div) {};\n",
       "\n",
       "mpl.figure.prototype._root_extra_style = function (_canvas_div) {};\n",
       "\n",
       "mpl.figure.prototype._init_canvas = function () {\n",
       "    var fig = this;\n",
       "\n",
       "    var canvas_div = (this.canvas_div = document.createElement('div'));\n",
       "    canvas_div.setAttribute(\n",
       "        'style',\n",
       "        'border: 1px solid #ddd;' +\n",
       "            'box-sizing: content-box;' +\n",
       "            'clear: both;' +\n",
       "            'min-height: 1px;' +\n",
       "            'min-width: 1px;' +\n",
       "            'outline: 0;' +\n",
       "            'overflow: hidden;' +\n",
       "            'position: relative;' +\n",
       "            'resize: both;'\n",
       "    );\n",
       "\n",
       "    function on_keyboard_event_closure(name) {\n",
       "        return function (event) {\n",
       "            return fig.key_event(event, name);\n",
       "        };\n",
       "    }\n",
       "\n",
       "    canvas_div.addEventListener(\n",
       "        'keydown',\n",
       "        on_keyboard_event_closure('key_press')\n",
       "    );\n",
       "    canvas_div.addEventListener(\n",
       "        'keyup',\n",
       "        on_keyboard_event_closure('key_release')\n",
       "    );\n",
       "\n",
       "    this._canvas_extra_style(canvas_div);\n",
       "    this.root.appendChild(canvas_div);\n",
       "\n",
       "    var canvas = (this.canvas = document.createElement('canvas'));\n",
       "    canvas.classList.add('mpl-canvas');\n",
       "    canvas.setAttribute('style', 'box-sizing: content-box;');\n",
       "\n",
       "    this.context = canvas.getContext('2d');\n",
       "\n",
       "    var backingStore =\n",
       "        this.context.backingStorePixelRatio ||\n",
       "        this.context.webkitBackingStorePixelRatio ||\n",
       "        this.context.mozBackingStorePixelRatio ||\n",
       "        this.context.msBackingStorePixelRatio ||\n",
       "        this.context.oBackingStorePixelRatio ||\n",
       "        this.context.backingStorePixelRatio ||\n",
       "        1;\n",
       "\n",
       "    this.ratio = (window.devicePixelRatio || 1) / backingStore;\n",
       "\n",
       "    var rubberband_canvas = (this.rubberband_canvas = document.createElement(\n",
       "        'canvas'\n",
       "    ));\n",
       "    rubberband_canvas.setAttribute(\n",
       "        'style',\n",
       "        'box-sizing: content-box; position: absolute; left: 0; top: 0; z-index: 1;'\n",
       "    );\n",
       "\n",
       "    // Apply a ponyfill if ResizeObserver is not implemented by browser.\n",
       "    if (this.ResizeObserver === undefined) {\n",
       "        if (window.ResizeObserver !== undefined) {\n",
       "            this.ResizeObserver = window.ResizeObserver;\n",
       "        } else {\n",
       "            var obs = _JSXTOOLS_RESIZE_OBSERVER({});\n",
       "            this.ResizeObserver = obs.ResizeObserver;\n",
       "        }\n",
       "    }\n",
       "\n",
       "    this.resizeObserverInstance = new this.ResizeObserver(function (entries) {\n",
       "        var nentries = entries.length;\n",
       "        for (var i = 0; i < nentries; i++) {\n",
       "            var entry = entries[i];\n",
       "            var width, height;\n",
       "            if (entry.contentBoxSize) {\n",
       "                if (entry.contentBoxSize instanceof Array) {\n",
       "                    // Chrome 84 implements new version of spec.\n",
       "                    width = entry.contentBoxSize[0].inlineSize;\n",
       "                    height = entry.contentBoxSize[0].blockSize;\n",
       "                } else {\n",
       "                    // Firefox implements old version of spec.\n",
       "                    width = entry.contentBoxSize.inlineSize;\n",
       "                    height = entry.contentBoxSize.blockSize;\n",
       "                }\n",
       "            } else {\n",
       "                // Chrome <84 implements even older version of spec.\n",
       "                width = entry.contentRect.width;\n",
       "                height = entry.contentRect.height;\n",
       "            }\n",
       "\n",
       "            // Keep the size of the canvas and rubber band canvas in sync with\n",
       "            // the canvas container.\n",
       "            if (entry.devicePixelContentBoxSize) {\n",
       "                // Chrome 84 implements new version of spec.\n",
       "                canvas.setAttribute(\n",
       "                    'width',\n",
       "                    entry.devicePixelContentBoxSize[0].inlineSize\n",
       "                );\n",
       "                canvas.setAttribute(\n",
       "                    'height',\n",
       "                    entry.devicePixelContentBoxSize[0].blockSize\n",
       "                );\n",
       "            } else {\n",
       "                canvas.setAttribute('width', width * fig.ratio);\n",
       "                canvas.setAttribute('height', height * fig.ratio);\n",
       "            }\n",
       "            canvas.setAttribute(\n",
       "                'style',\n",
       "                'width: ' + width + 'px; height: ' + height + 'px;'\n",
       "            );\n",
       "\n",
       "            rubberband_canvas.setAttribute('width', width);\n",
       "            rubberband_canvas.setAttribute('height', height);\n",
       "\n",
       "            // And update the size in Python. We ignore the initial 0/0 size\n",
       "            // that occurs as the element is placed into the DOM, which should\n",
       "            // otherwise not happen due to the minimum size styling.\n",
       "            if (fig.ws.readyState == 1 && width != 0 && height != 0) {\n",
       "                fig.request_resize(width, height);\n",
       "            }\n",
       "        }\n",
       "    });\n",
       "    this.resizeObserverInstance.observe(canvas_div);\n",
       "\n",
       "    function on_mouse_event_closure(name) {\n",
       "        return function (event) {\n",
       "            return fig.mouse_event(event, name);\n",
       "        };\n",
       "    }\n",
       "\n",
       "    rubberband_canvas.addEventListener(\n",
       "        'mousedown',\n",
       "        on_mouse_event_closure('button_press')\n",
       "    );\n",
       "    rubberband_canvas.addEventListener(\n",
       "        'mouseup',\n",
       "        on_mouse_event_closure('button_release')\n",
       "    );\n",
       "    // Throttle sequential mouse events to 1 every 20ms.\n",
       "    rubberband_canvas.addEventListener(\n",
       "        'mousemove',\n",
       "        on_mouse_event_closure('motion_notify')\n",
       "    );\n",
       "\n",
       "    rubberband_canvas.addEventListener(\n",
       "        'mouseenter',\n",
       "        on_mouse_event_closure('figure_enter')\n",
       "    );\n",
       "    rubberband_canvas.addEventListener(\n",
       "        'mouseleave',\n",
       "        on_mouse_event_closure('figure_leave')\n",
       "    );\n",
       "\n",
       "    canvas_div.addEventListener('wheel', function (event) {\n",
       "        if (event.deltaY < 0) {\n",
       "            event.step = 1;\n",
       "        } else {\n",
       "            event.step = -1;\n",
       "        }\n",
       "        on_mouse_event_closure('scroll')(event);\n",
       "    });\n",
       "\n",
       "    canvas_div.appendChild(canvas);\n",
       "    canvas_div.appendChild(rubberband_canvas);\n",
       "\n",
       "    this.rubberband_context = rubberband_canvas.getContext('2d');\n",
       "    this.rubberband_context.strokeStyle = '#000000';\n",
       "\n",
       "    this._resize_canvas = function (width, height, forward) {\n",
       "        if (forward) {\n",
       "            canvas_div.style.width = width + 'px';\n",
       "            canvas_div.style.height = height + 'px';\n",
       "        }\n",
       "    };\n",
       "\n",
       "    // Disable right mouse context menu.\n",
       "    this.rubberband_canvas.addEventListener('contextmenu', function (_e) {\n",
       "        event.preventDefault();\n",
       "        return false;\n",
       "    });\n",
       "\n",
       "    function set_focus() {\n",
       "        canvas.focus();\n",
       "        canvas_div.focus();\n",
       "    }\n",
       "\n",
       "    window.setTimeout(set_focus, 100);\n",
       "};\n",
       "\n",
       "mpl.figure.prototype._init_toolbar = function () {\n",
       "    var fig = this;\n",
       "\n",
       "    var toolbar = document.createElement('div');\n",
       "    toolbar.classList = 'mpl-toolbar';\n",
       "    this.root.appendChild(toolbar);\n",
       "\n",
       "    function on_click_closure(name) {\n",
       "        return function (_event) {\n",
       "            return fig.toolbar_button_onclick(name);\n",
       "        };\n",
       "    }\n",
       "\n",
       "    function on_mouseover_closure(tooltip) {\n",
       "        return function (event) {\n",
       "            if (!event.currentTarget.disabled) {\n",
       "                return fig.toolbar_button_onmouseover(tooltip);\n",
       "            }\n",
       "        };\n",
       "    }\n",
       "\n",
       "    fig.buttons = {};\n",
       "    var buttonGroup = document.createElement('div');\n",
       "    buttonGroup.classList = 'mpl-button-group';\n",
       "    for (var toolbar_ind in mpl.toolbar_items) {\n",
       "        var name = mpl.toolbar_items[toolbar_ind][0];\n",
       "        var tooltip = mpl.toolbar_items[toolbar_ind][1];\n",
       "        var image = mpl.toolbar_items[toolbar_ind][2];\n",
       "        var method_name = mpl.toolbar_items[toolbar_ind][3];\n",
       "\n",
       "        if (!name) {\n",
       "            /* Instead of a spacer, we start a new button group. */\n",
       "            if (buttonGroup.hasChildNodes()) {\n",
       "                toolbar.appendChild(buttonGroup);\n",
       "            }\n",
       "            buttonGroup = document.createElement('div');\n",
       "            buttonGroup.classList = 'mpl-button-group';\n",
       "            continue;\n",
       "        }\n",
       "\n",
       "        var button = (fig.buttons[name] = document.createElement('button'));\n",
       "        button.classList = 'mpl-widget';\n",
       "        button.setAttribute('role', 'button');\n",
       "        button.setAttribute('aria-disabled', 'false');\n",
       "        button.addEventListener('click', on_click_closure(method_name));\n",
       "        button.addEventListener('mouseover', on_mouseover_closure(tooltip));\n",
       "\n",
       "        var icon_img = document.createElement('img');\n",
       "        icon_img.src = '_images/' + image + '.png';\n",
       "        icon_img.srcset = '_images/' + image + '_large.png 2x';\n",
       "        icon_img.alt = tooltip;\n",
       "        button.appendChild(icon_img);\n",
       "\n",
       "        buttonGroup.appendChild(button);\n",
       "    }\n",
       "\n",
       "    if (buttonGroup.hasChildNodes()) {\n",
       "        toolbar.appendChild(buttonGroup);\n",
       "    }\n",
       "\n",
       "    var fmt_picker = document.createElement('select');\n",
       "    fmt_picker.classList = 'mpl-widget';\n",
       "    toolbar.appendChild(fmt_picker);\n",
       "    this.format_dropdown = fmt_picker;\n",
       "\n",
       "    for (var ind in mpl.extensions) {\n",
       "        var fmt = mpl.extensions[ind];\n",
       "        var option = document.createElement('option');\n",
       "        option.selected = fmt === mpl.default_extension;\n",
       "        option.innerHTML = fmt;\n",
       "        fmt_picker.appendChild(option);\n",
       "    }\n",
       "\n",
       "    var status_bar = document.createElement('span');\n",
       "    status_bar.classList = 'mpl-message';\n",
       "    toolbar.appendChild(status_bar);\n",
       "    this.message = status_bar;\n",
       "};\n",
       "\n",
       "mpl.figure.prototype.request_resize = function (x_pixels, y_pixels) {\n",
       "    // Request matplotlib to resize the figure. Matplotlib will then trigger a resize in the client,\n",
       "    // which will in turn request a refresh of the image.\n",
       "    this.send_message('resize', { width: x_pixels, height: y_pixels });\n",
       "};\n",
       "\n",
       "mpl.figure.prototype.send_message = function (type, properties) {\n",
       "    properties['type'] = type;\n",
       "    properties['figure_id'] = this.id;\n",
       "    this.ws.send(JSON.stringify(properties));\n",
       "};\n",
       "\n",
       "mpl.figure.prototype.send_draw_message = function () {\n",
       "    if (!this.waiting) {\n",
       "        this.waiting = true;\n",
       "        this.ws.send(JSON.stringify({ type: 'draw', figure_id: this.id }));\n",
       "    }\n",
       "};\n",
       "\n",
       "mpl.figure.prototype.handle_save = function (fig, _msg) {\n",
       "    var format_dropdown = fig.format_dropdown;\n",
       "    var format = format_dropdown.options[format_dropdown.selectedIndex].value;\n",
       "    fig.ondownload(fig, format);\n",
       "};\n",
       "\n",
       "mpl.figure.prototype.handle_resize = function (fig, msg) {\n",
       "    var size = msg['size'];\n",
       "    if (size[0] !== fig.canvas.width || size[1] !== fig.canvas.height) {\n",
       "        fig._resize_canvas(size[0], size[1], msg['forward']);\n",
       "        fig.send_message('refresh', {});\n",
       "    }\n",
       "};\n",
       "\n",
       "mpl.figure.prototype.handle_rubberband = function (fig, msg) {\n",
       "    var x0 = msg['x0'] / fig.ratio;\n",
       "    var y0 = (fig.canvas.height - msg['y0']) / fig.ratio;\n",
       "    var x1 = msg['x1'] / fig.ratio;\n",
       "    var y1 = (fig.canvas.height - msg['y1']) / fig.ratio;\n",
       "    x0 = Math.floor(x0) + 0.5;\n",
       "    y0 = Math.floor(y0) + 0.5;\n",
       "    x1 = Math.floor(x1) + 0.5;\n",
       "    y1 = Math.floor(y1) + 0.5;\n",
       "    var min_x = Math.min(x0, x1);\n",
       "    var min_y = Math.min(y0, y1);\n",
       "    var width = Math.abs(x1 - x0);\n",
       "    var height = Math.abs(y1 - y0);\n",
       "\n",
       "    fig.rubberband_context.clearRect(\n",
       "        0,\n",
       "        0,\n",
       "        fig.canvas.width / fig.ratio,\n",
       "        fig.canvas.height / fig.ratio\n",
       "    );\n",
       "\n",
       "    fig.rubberband_context.strokeRect(min_x, min_y, width, height);\n",
       "};\n",
       "\n",
       "mpl.figure.prototype.handle_figure_label = function (fig, msg) {\n",
       "    // Updates the figure title.\n",
       "    fig.header.textContent = msg['label'];\n",
       "};\n",
       "\n",
       "mpl.figure.prototype.handle_cursor = function (fig, msg) {\n",
       "    var cursor = msg['cursor'];\n",
       "    switch (cursor) {\n",
       "        case 0:\n",
       "            cursor = 'pointer';\n",
       "            break;\n",
       "        case 1:\n",
       "            cursor = 'default';\n",
       "            break;\n",
       "        case 2:\n",
       "            cursor = 'crosshair';\n",
       "            break;\n",
       "        case 3:\n",
       "            cursor = 'move';\n",
       "            break;\n",
       "    }\n",
       "    fig.rubberband_canvas.style.cursor = cursor;\n",
       "};\n",
       "\n",
       "mpl.figure.prototype.handle_message = function (fig, msg) {\n",
       "    fig.message.textContent = msg['message'];\n",
       "};\n",
       "\n",
       "mpl.figure.prototype.handle_draw = function (fig, _msg) {\n",
       "    // Request the server to send over a new figure.\n",
       "    fig.send_draw_message();\n",
       "};\n",
       "\n",
       "mpl.figure.prototype.handle_image_mode = function (fig, msg) {\n",
       "    fig.image_mode = msg['mode'];\n",
       "};\n",
       "\n",
       "mpl.figure.prototype.handle_history_buttons = function (fig, msg) {\n",
       "    for (var key in msg) {\n",
       "        if (!(key in fig.buttons)) {\n",
       "            continue;\n",
       "        }\n",
       "        fig.buttons[key].disabled = !msg[key];\n",
       "        fig.buttons[key].setAttribute('aria-disabled', !msg[key]);\n",
       "    }\n",
       "};\n",
       "\n",
       "mpl.figure.prototype.handle_navigate_mode = function (fig, msg) {\n",
       "    if (msg['mode'] === 'PAN') {\n",
       "        fig.buttons['Pan'].classList.add('active');\n",
       "        fig.buttons['Zoom'].classList.remove('active');\n",
       "    } else if (msg['mode'] === 'ZOOM') {\n",
       "        fig.buttons['Pan'].classList.remove('active');\n",
       "        fig.buttons['Zoom'].classList.add('active');\n",
       "    } else {\n",
       "        fig.buttons['Pan'].classList.remove('active');\n",
       "        fig.buttons['Zoom'].classList.remove('active');\n",
       "    }\n",
       "};\n",
       "\n",
       "mpl.figure.prototype.updated_canvas_event = function () {\n",
       "    // Called whenever the canvas gets updated.\n",
       "    this.send_message('ack', {});\n",
       "};\n",
       "\n",
       "// A function to construct a web socket function for onmessage handling.\n",
       "// Called in the figure constructor.\n",
       "mpl.figure.prototype._make_on_message_function = function (fig) {\n",
       "    return function socket_on_message(evt) {\n",
       "        if (evt.data instanceof Blob) {\n",
       "            /* FIXME: We get \"Resource interpreted as Image but\n",
       "             * transferred with MIME type text/plain:\" errors on\n",
       "             * Chrome.  But how to set the MIME type?  It doesn't seem\n",
       "             * to be part of the websocket stream */\n",
       "            evt.data.type = 'image/png';\n",
       "\n",
       "            /* Free the memory for the previous frames */\n",
       "            if (fig.imageObj.src) {\n",
       "                (window.URL || window.webkitURL).revokeObjectURL(\n",
       "                    fig.imageObj.src\n",
       "                );\n",
       "            }\n",
       "\n",
       "            fig.imageObj.src = (window.URL || window.webkitURL).createObjectURL(\n",
       "                evt.data\n",
       "            );\n",
       "            fig.updated_canvas_event();\n",
       "            fig.waiting = false;\n",
       "            return;\n",
       "        } else if (\n",
       "            typeof evt.data === 'string' &&\n",
       "            evt.data.slice(0, 21) === 'data:image/png;base64'\n",
       "        ) {\n",
       "            fig.imageObj.src = evt.data;\n",
       "            fig.updated_canvas_event();\n",
       "            fig.waiting = false;\n",
       "            return;\n",
       "        }\n",
       "\n",
       "        var msg = JSON.parse(evt.data);\n",
       "        var msg_type = msg['type'];\n",
       "\n",
       "        // Call the  \"handle_{type}\" callback, which takes\n",
       "        // the figure and JSON message as its only arguments.\n",
       "        try {\n",
       "            var callback = fig['handle_' + msg_type];\n",
       "        } catch (e) {\n",
       "            console.log(\n",
       "                \"No handler for the '\" + msg_type + \"' message type: \",\n",
       "                msg\n",
       "            );\n",
       "            return;\n",
       "        }\n",
       "\n",
       "        if (callback) {\n",
       "            try {\n",
       "                // console.log(\"Handling '\" + msg_type + \"' message: \", msg);\n",
       "                callback(fig, msg);\n",
       "            } catch (e) {\n",
       "                console.log(\n",
       "                    \"Exception inside the 'handler_\" + msg_type + \"' callback:\",\n",
       "                    e,\n",
       "                    e.stack,\n",
       "                    msg\n",
       "                );\n",
       "            }\n",
       "        }\n",
       "    };\n",
       "};\n",
       "\n",
       "// from http://stackoverflow.com/questions/1114465/getting-mouse-location-in-canvas\n",
       "mpl.findpos = function (e) {\n",
       "    //this section is from http://www.quirksmode.org/js/events_properties.html\n",
       "    var targ;\n",
       "    if (!e) {\n",
       "        e = window.event;\n",
       "    }\n",
       "    if (e.target) {\n",
       "        targ = e.target;\n",
       "    } else if (e.srcElement) {\n",
       "        targ = e.srcElement;\n",
       "    }\n",
       "    if (targ.nodeType === 3) {\n",
       "        // defeat Safari bug\n",
       "        targ = targ.parentNode;\n",
       "    }\n",
       "\n",
       "    // pageX,Y are the mouse positions relative to the document\n",
       "    var boundingRect = targ.getBoundingClientRect();\n",
       "    var x = e.pageX - (boundingRect.left + document.body.scrollLeft);\n",
       "    var y = e.pageY - (boundingRect.top + document.body.scrollTop);\n",
       "\n",
       "    return { x: x, y: y };\n",
       "};\n",
       "\n",
       "/*\n",
       " * return a copy of an object with only non-object keys\n",
       " * we need this to avoid circular references\n",
       " * http://stackoverflow.com/a/24161582/3208463\n",
       " */\n",
       "function simpleKeys(original) {\n",
       "    return Object.keys(original).reduce(function (obj, key) {\n",
       "        if (typeof original[key] !== 'object') {\n",
       "            obj[key] = original[key];\n",
       "        }\n",
       "        return obj;\n",
       "    }, {});\n",
       "}\n",
       "\n",
       "mpl.figure.prototype.mouse_event = function (event, name) {\n",
       "    var canvas_pos = mpl.findpos(event);\n",
       "\n",
       "    if (name === 'button_press') {\n",
       "        this.canvas.focus();\n",
       "        this.canvas_div.focus();\n",
       "    }\n",
       "\n",
       "    var x = canvas_pos.x * this.ratio;\n",
       "    var y = canvas_pos.y * this.ratio;\n",
       "\n",
       "    this.send_message(name, {\n",
       "        x: x,\n",
       "        y: y,\n",
       "        button: event.button,\n",
       "        step: event.step,\n",
       "        guiEvent: simpleKeys(event),\n",
       "    });\n",
       "\n",
       "    /* This prevents the web browser from automatically changing to\n",
       "     * the text insertion cursor when the button is pressed.  We want\n",
       "     * to control all of the cursor setting manually through the\n",
       "     * 'cursor' event from matplotlib */\n",
       "    event.preventDefault();\n",
       "    return false;\n",
       "};\n",
       "\n",
       "mpl.figure.prototype._key_event_extra = function (_event, _name) {\n",
       "    // Handle any extra behaviour associated with a key event\n",
       "};\n",
       "\n",
       "mpl.figure.prototype.key_event = function (event, name) {\n",
       "    // Prevent repeat events\n",
       "    if (name === 'key_press') {\n",
       "        if (event.which === this._key) {\n",
       "            return;\n",
       "        } else {\n",
       "            this._key = event.which;\n",
       "        }\n",
       "    }\n",
       "    if (name === 'key_release') {\n",
       "        this._key = null;\n",
       "    }\n",
       "\n",
       "    var value = '';\n",
       "    if (event.ctrlKey && event.which !== 17) {\n",
       "        value += 'ctrl+';\n",
       "    }\n",
       "    if (event.altKey && event.which !== 18) {\n",
       "        value += 'alt+';\n",
       "    }\n",
       "    if (event.shiftKey && event.which !== 16) {\n",
       "        value += 'shift+';\n",
       "    }\n",
       "\n",
       "    value += 'k';\n",
       "    value += event.which.toString();\n",
       "\n",
       "    this._key_event_extra(event, name);\n",
       "\n",
       "    this.send_message(name, { key: value, guiEvent: simpleKeys(event) });\n",
       "    return false;\n",
       "};\n",
       "\n",
       "mpl.figure.prototype.toolbar_button_onclick = function (name) {\n",
       "    if (name === 'download') {\n",
       "        this.handle_save(this, null);\n",
       "    } else {\n",
       "        this.send_message('toolbar_button', { name: name });\n",
       "    }\n",
       "};\n",
       "\n",
       "mpl.figure.prototype.toolbar_button_onmouseover = function (tooltip) {\n",
       "    this.message.textContent = tooltip;\n",
       "};\n",
       "\n",
       "///////////////// REMAINING CONTENT GENERATED BY embed_js.py /////////////////\n",
       "// prettier-ignore\n",
       "var _JSXTOOLS_RESIZE_OBSERVER=function(A){var t,i=new WeakMap,n=new WeakMap,a=new WeakMap,r=new WeakMap,o=new Set;function s(e){if(!(this instanceof s))throw new TypeError(\"Constructor requires 'new' operator\");i.set(this,e)}function h(){throw new TypeError(\"Function is not a constructor\")}function c(e,t,i,n){e=0 in arguments?Number(arguments[0]):0,t=1 in arguments?Number(arguments[1]):0,i=2 in arguments?Number(arguments[2]):0,n=3 in arguments?Number(arguments[3]):0,this.right=(this.x=this.left=e)+(this.width=i),this.bottom=(this.y=this.top=t)+(this.height=n),Object.freeze(this)}function d(){t=requestAnimationFrame(d);var s=new WeakMap,p=new Set;o.forEach((function(t){r.get(t).forEach((function(i){var r=t instanceof window.SVGElement,o=a.get(t),d=r?0:parseFloat(o.paddingTop),f=r?0:parseFloat(o.paddingRight),l=r?0:parseFloat(o.paddingBottom),u=r?0:parseFloat(o.paddingLeft),g=r?0:parseFloat(o.borderTopWidth),m=r?0:parseFloat(o.borderRightWidth),w=r?0:parseFloat(o.borderBottomWidth),b=u+f,F=d+l,v=(r?0:parseFloat(o.borderLeftWidth))+m,W=g+w,y=r?0:t.offsetHeight-W-t.clientHeight,E=r?0:t.offsetWidth-v-t.clientWidth,R=b+v,z=F+W,M=r?t.width:parseFloat(o.width)-R-E,O=r?t.height:parseFloat(o.height)-z-y;if(n.has(t)){var k=n.get(t);if(k[0]===M&&k[1]===O)return}n.set(t,[M,O]);var S=Object.create(h.prototype);S.target=t,S.contentRect=new c(u,d,M,O),s.has(i)||(s.set(i,[]),p.add(i)),s.get(i).push(S)}))})),p.forEach((function(e){i.get(e).call(e,s.get(e),e)}))}return s.prototype.observe=function(i){if(i instanceof window.Element){r.has(i)||(r.set(i,new Set),o.add(i),a.set(i,window.getComputedStyle(i)));var n=r.get(i);n.has(this)||n.add(this),cancelAnimationFrame(t),t=requestAnimationFrame(d)}},s.prototype.unobserve=function(i){if(i instanceof window.Element&&r.has(i)){var n=r.get(i);n.has(this)&&(n.delete(this),n.size||(r.delete(i),o.delete(i))),n.size||r.delete(i),o.size||cancelAnimationFrame(t)}},A.DOMRectReadOnly=c,A.ResizeObserver=s,A.ResizeObserverEntry=h,A}; // eslint-disable-line\n",
       "mpl.toolbar_items = [[\"Home\", \"Reset original view\", \"fa fa-home icon-home\", \"home\"], [\"Back\", \"Back to previous view\", \"fa fa-arrow-left icon-arrow-left\", \"back\"], [\"Forward\", \"Forward to next view\", \"fa fa-arrow-right icon-arrow-right\", \"forward\"], [\"\", \"\", \"\", \"\"], [\"Pan\", \"Left button pans, Right button zooms\\nx/y fixes axis, CTRL fixes aspect\", \"fa fa-arrows icon-move\", \"pan\"], [\"Zoom\", \"Zoom to rectangle\\nx/y fixes axis, CTRL fixes aspect\", \"fa fa-square-o icon-check-empty\", \"zoom\"], [\"\", \"\", \"\", \"\"], [\"Download\", \"Download plot\", \"fa fa-floppy-o icon-save\", \"download\"]];\n",
       "\n",
       "mpl.extensions = [\"eps\", \"jpeg\", \"pdf\", \"png\", \"ps\", \"raw\", \"svg\", \"tif\"];\n",
       "\n",
       "mpl.default_extension = \"png\";/* global mpl */\n",
       "\n",
       "var comm_websocket_adapter = function (comm) {\n",
       "    // Create a \"websocket\"-like object which calls the given IPython comm\n",
       "    // object with the appropriate methods. Currently this is a non binary\n",
       "    // socket, so there is still some room for performance tuning.\n",
       "    var ws = {};\n",
       "\n",
       "    ws.close = function () {\n",
       "        comm.close();\n",
       "    };\n",
       "    ws.send = function (m) {\n",
       "        //console.log('sending', m);\n",
       "        comm.send(m);\n",
       "    };\n",
       "    // Register the callback with on_msg.\n",
       "    comm.on_msg(function (msg) {\n",
       "        //console.log('receiving', msg['content']['data'], msg);\n",
       "        // Pass the mpl event to the overridden (by mpl) onmessage function.\n",
       "        ws.onmessage(msg['content']['data']);\n",
       "    });\n",
       "    return ws;\n",
       "};\n",
       "\n",
       "mpl.mpl_figure_comm = function (comm, msg) {\n",
       "    // This is the function which gets called when the mpl process\n",
       "    // starts-up an IPython Comm through the \"matplotlib\" channel.\n",
       "\n",
       "    var id = msg.content.data.id;\n",
       "    // Get hold of the div created by the display call when the Comm\n",
       "    // socket was opened in Python.\n",
       "    var element = document.getElementById(id);\n",
       "    var ws_proxy = comm_websocket_adapter(comm);\n",
       "\n",
       "    function ondownload(figure, _format) {\n",
       "        window.open(figure.canvas.toDataURL());\n",
       "    }\n",
       "\n",
       "    var fig = new mpl.figure(id, ws_proxy, ondownload, element);\n",
       "\n",
       "    // Call onopen now - mpl needs it, as it is assuming we've passed it a real\n",
       "    // web socket which is closed, not our websocket->open comm proxy.\n",
       "    ws_proxy.onopen();\n",
       "\n",
       "    fig.parent_element = element;\n",
       "    fig.cell_info = mpl.find_output_cell(\"<div id='\" + id + \"'></div>\");\n",
       "    if (!fig.cell_info) {\n",
       "        console.error('Failed to find cell for figure', id, fig);\n",
       "        return;\n",
       "    }\n",
       "    fig.cell_info[0].output_area.element.on(\n",
       "        'cleared',\n",
       "        { fig: fig },\n",
       "        fig._remove_fig_handler\n",
       "    );\n",
       "};\n",
       "\n",
       "mpl.figure.prototype.handle_close = function (fig, msg) {\n",
       "    var width = fig.canvas.width / fig.ratio;\n",
       "    fig.cell_info[0].output_area.element.off(\n",
       "        'cleared',\n",
       "        fig._remove_fig_handler\n",
       "    );\n",
       "    fig.resizeObserverInstance.unobserve(fig.canvas_div);\n",
       "\n",
       "    // Update the output cell to use the data from the current canvas.\n",
       "    fig.push_to_output();\n",
       "    var dataURL = fig.canvas.toDataURL();\n",
       "    // Re-enable the keyboard manager in IPython - without this line, in FF,\n",
       "    // the notebook keyboard shortcuts fail.\n",
       "    IPython.keyboard_manager.enable();\n",
       "    fig.parent_element.innerHTML =\n",
       "        '<img src=\"' + dataURL + '\" width=\"' + width + '\">';\n",
       "    fig.close_ws(fig, msg);\n",
       "};\n",
       "\n",
       "mpl.figure.prototype.close_ws = function (fig, msg) {\n",
       "    fig.send_message('closing', msg);\n",
       "    // fig.ws.close()\n",
       "};\n",
       "\n",
       "mpl.figure.prototype.push_to_output = function (_remove_interactive) {\n",
       "    // Turn the data on the canvas into data in the output cell.\n",
       "    var width = this.canvas.width / this.ratio;\n",
       "    var dataURL = this.canvas.toDataURL();\n",
       "    this.cell_info[1]['text/html'] =\n",
       "        '<img src=\"' + dataURL + '\" width=\"' + width + '\">';\n",
       "};\n",
       "\n",
       "mpl.figure.prototype.updated_canvas_event = function () {\n",
       "    // Tell IPython that the notebook contents must change.\n",
       "    IPython.notebook.set_dirty(true);\n",
       "    this.send_message('ack', {});\n",
       "    var fig = this;\n",
       "    // Wait a second, then push the new image to the DOM so\n",
       "    // that it is saved nicely (might be nice to debounce this).\n",
       "    setTimeout(function () {\n",
       "        fig.push_to_output();\n",
       "    }, 1000);\n",
       "};\n",
       "\n",
       "mpl.figure.prototype._init_toolbar = function () {\n",
       "    var fig = this;\n",
       "\n",
       "    var toolbar = document.createElement('div');\n",
       "    toolbar.classList = 'btn-toolbar';\n",
       "    this.root.appendChild(toolbar);\n",
       "\n",
       "    function on_click_closure(name) {\n",
       "        return function (_event) {\n",
       "            return fig.toolbar_button_onclick(name);\n",
       "        };\n",
       "    }\n",
       "\n",
       "    function on_mouseover_closure(tooltip) {\n",
       "        return function (event) {\n",
       "            if (!event.currentTarget.disabled) {\n",
       "                return fig.toolbar_button_onmouseover(tooltip);\n",
       "            }\n",
       "        };\n",
       "    }\n",
       "\n",
       "    fig.buttons = {};\n",
       "    var buttonGroup = document.createElement('div');\n",
       "    buttonGroup.classList = 'btn-group';\n",
       "    var button;\n",
       "    for (var toolbar_ind in mpl.toolbar_items) {\n",
       "        var name = mpl.toolbar_items[toolbar_ind][0];\n",
       "        var tooltip = mpl.toolbar_items[toolbar_ind][1];\n",
       "        var image = mpl.toolbar_items[toolbar_ind][2];\n",
       "        var method_name = mpl.toolbar_items[toolbar_ind][3];\n",
       "\n",
       "        if (!name) {\n",
       "            /* Instead of a spacer, we start a new button group. */\n",
       "            if (buttonGroup.hasChildNodes()) {\n",
       "                toolbar.appendChild(buttonGroup);\n",
       "            }\n",
       "            buttonGroup = document.createElement('div');\n",
       "            buttonGroup.classList = 'btn-group';\n",
       "            continue;\n",
       "        }\n",
       "\n",
       "        button = fig.buttons[name] = document.createElement('button');\n",
       "        button.classList = 'btn btn-default';\n",
       "        button.href = '#';\n",
       "        button.title = name;\n",
       "        button.innerHTML = '<i class=\"fa ' + image + ' fa-lg\"></i>';\n",
       "        button.addEventListener('click', on_click_closure(method_name));\n",
       "        button.addEventListener('mouseover', on_mouseover_closure(tooltip));\n",
       "        buttonGroup.appendChild(button);\n",
       "    }\n",
       "\n",
       "    if (buttonGroup.hasChildNodes()) {\n",
       "        toolbar.appendChild(buttonGroup);\n",
       "    }\n",
       "\n",
       "    // Add the status bar.\n",
       "    var status_bar = document.createElement('span');\n",
       "    status_bar.classList = 'mpl-message pull-right';\n",
       "    toolbar.appendChild(status_bar);\n",
       "    this.message = status_bar;\n",
       "\n",
       "    // Add the close button to the window.\n",
       "    var buttongrp = document.createElement('div');\n",
       "    buttongrp.classList = 'btn-group inline pull-right';\n",
       "    button = document.createElement('button');\n",
       "    button.classList = 'btn btn-mini btn-primary';\n",
       "    button.href = '#';\n",
       "    button.title = 'Stop Interaction';\n",
       "    button.innerHTML = '<i class=\"fa fa-power-off icon-remove icon-large\"></i>';\n",
       "    button.addEventListener('click', function (_evt) {\n",
       "        fig.handle_close(fig, {});\n",
       "    });\n",
       "    button.addEventListener(\n",
       "        'mouseover',\n",
       "        on_mouseover_closure('Stop Interaction')\n",
       "    );\n",
       "    buttongrp.appendChild(button);\n",
       "    var titlebar = this.root.querySelector('.ui-dialog-titlebar');\n",
       "    titlebar.insertBefore(buttongrp, titlebar.firstChild);\n",
       "};\n",
       "\n",
       "mpl.figure.prototype._remove_fig_handler = function (event) {\n",
       "    var fig = event.data.fig;\n",
       "    if (event.target !== this) {\n",
       "        // Ignore bubbled events from children.\n",
       "        return;\n",
       "    }\n",
       "    fig.close_ws(fig, {});\n",
       "};\n",
       "\n",
       "mpl.figure.prototype._root_extra_style = function (el) {\n",
       "    el.style.boxSizing = 'content-box'; // override notebook setting of border-box.\n",
       "};\n",
       "\n",
       "mpl.figure.prototype._canvas_extra_style = function (el) {\n",
       "    // this is important to make the div 'focusable\n",
       "    el.setAttribute('tabindex', 0);\n",
       "    // reach out to IPython and tell the keyboard manager to turn it's self\n",
       "    // off when our div gets focus\n",
       "\n",
       "    // location in version 3\n",
       "    if (IPython.notebook.keyboard_manager) {\n",
       "        IPython.notebook.keyboard_manager.register_events(el);\n",
       "    } else {\n",
       "        // location in version 2\n",
       "        IPython.keyboard_manager.register_events(el);\n",
       "    }\n",
       "};\n",
       "\n",
       "mpl.figure.prototype._key_event_extra = function (event, _name) {\n",
       "    var manager = IPython.notebook.keyboard_manager;\n",
       "    if (!manager) {\n",
       "        manager = IPython.keyboard_manager;\n",
       "    }\n",
       "\n",
       "    // Check for shift+enter\n",
       "    if (event.shiftKey && event.which === 13) {\n",
       "        this.canvas_div.blur();\n",
       "        // select the cell after this one\n",
       "        var index = IPython.notebook.find_cell_index(this.cell_info[0]);\n",
       "        IPython.notebook.select(index + 1);\n",
       "    }\n",
       "};\n",
       "\n",
       "mpl.figure.prototype.handle_save = function (fig, _msg) {\n",
       "    fig.ondownload(fig, null);\n",
       "};\n",
       "\n",
       "mpl.find_output_cell = function (html_output) {\n",
       "    // Return the cell and output element which can be found *uniquely* in the notebook.\n",
       "    // Note - this is a bit hacky, but it is done because the \"notebook_saving.Notebook\"\n",
       "    // IPython event is triggered only after the cells have been serialised, which for\n",
       "    // our purposes (turning an active figure into a static one), is too late.\n",
       "    var cells = IPython.notebook.get_cells();\n",
       "    var ncells = cells.length;\n",
       "    for (var i = 0; i < ncells; i++) {\n",
       "        var cell = cells[i];\n",
       "        if (cell.cell_type === 'code') {\n",
       "            for (var j = 0; j < cell.output_area.outputs.length; j++) {\n",
       "                var data = cell.output_area.outputs[j];\n",
       "                if (data.data) {\n",
       "                    // IPython >= 3 moved mimebundle to data attribute of output\n",
       "                    data = data.data;\n",
       "                }\n",
       "                if (data['text/html'] === html_output) {\n",
       "                    return [cell, data, j];\n",
       "                }\n",
       "            }\n",
       "        }\n",
       "    }\n",
       "};\n",
       "\n",
       "// Register the function which deals with the matplotlib target/channel.\n",
       "// The kernel may be null if the page has been refreshed.\n",
       "if (IPython.notebook.kernel !== null) {\n",
       "    IPython.notebook.kernel.comm_manager.register_target(\n",
       "        'matplotlib',\n",
       "        mpl.mpl_figure_comm\n",
       "    );\n",
       "}\n"
      ],
      "text/plain": [
       "<IPython.core.display.Javascript object>"
      ]
     },
     "metadata": {},
     "output_type": "display_data"
    },
    {
     "data": {
      "text/html": [
       "<img src=\"data:image/png;base64,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\" width=\"432\">"
      ],
      "text/plain": [
       "<IPython.core.display.HTML object>"
      ]
     },
     "metadata": {},
     "output_type": "display_data"
    }
   ],
   "source": [
    "%matplotlib nbagg\n",
    "ax = ut.plotSetup3d(-2, 2, -2, 2, -200, 200)\n",
    "# try columns of X with large coefficients, or not\n",
    "ax.plot(X[:, 0], X[:, 13], 'ro', zs=y, markersize = 4);"
   ]
  },
  {
   "cell_type": "markdown",
   "metadata": {
    "slideshow": {
     "slide_type": "fragment"
    }
   },
   "source": [
    "Note that each parameter of an independent variable has an associated confidence interval. \n",
    "\n",
    "If a coefficient is not distinguishable from zero, then we cannot assume that there is any relationship between the independent variable and the observations.\n",
    "\n",
    "In other words, if the confidence interval for the parameter includes zero, the associated independent variable may not have any predictive value."
   ]
  },
  {
   "cell_type": "code",
   "execution_count": 109,
   "metadata": {
    "slideshow": {
     "slide_type": "fragment"
    }
   },
   "outputs": [
    {
     "name": "stdout",
     "output_type": "stream",
     "text": [
      "Confidence Intervals: [[  5.65891465  19.47559281]\n",
      " [ -9.44032559   1.77614877]\n",
      " [ -9.31636359   4.47701749]\n",
      " [ -4.12661379   8.15524508]\n",
      " [ -9.4808662    4.22965424]\n",
      " [ -5.49698033   7.07574692]\n",
      " [-10.22359973   4.08684835]\n",
      " [ 83.74738375  96.52928603]\n",
      " [ -6.77896356   6.75226985]\n",
      " [  8.80365396  21.73126149]\n",
      " [ -6.86882065   6.4194618 ]\n",
      " [ -6.97868351   7.1332267 ]\n",
      " [ -6.71228582   6.2218515 ]\n",
      " [ 82.96557061  97.07028228]\n",
      " [ -5.74782503   9.08465366]\n",
      " [ -1.06173893   9.85081724]\n",
      " [  2.02753258  15.5561241 ]\n",
      " [ 66.56165458  80.19256546]\n",
      " [ -8.90825108   5.0804296 ]\n",
      " [ -7.85545335   5.21424811]]\n",
      "Parameters: [ 1.25672537e+01 -3.83208841e+00 -2.41967305e+00  2.01431564e+00\n",
      " -2.62560598e+00  7.89383294e-01 -3.06837569e+00  9.01383349e+01\n",
      " -1.33468527e-02  1.52674577e+01 -2.24679428e-01  7.72715974e-02\n",
      " -2.45217158e-01  9.00179264e+01  1.66841432e+00  4.39453916e+00\n",
      "  8.79182834e+00  7.33771100e+01 -1.91391074e+00 -1.32060262e+00]\n"
     ]
    }
   ],
   "source": [
    "print('Confidence Intervals: {}'.format(results.conf_int()))\n",
    "print('Parameters: {}'.format(results.params))"
   ]
  },
  {
   "cell_type": "code",
   "execution_count": 110,
   "metadata": {
    "slideshow": {
     "slide_type": "fragment"
    }
   },
   "outputs": [
    {
     "data": {
      "text/plain": [
       "array([False,  True,  True,  True,  True,  True,  True, False,  True,\n",
       "       False,  True,  True,  True, False,  True,  True, False, False,\n",
       "        True,  True])"
      ]
     },
     "execution_count": 110,
     "metadata": {},
     "output_type": "execute_result"
    }
   ],
   "source": [
    "CIs = results.conf_int()\n",
    "notSignificant = (CIs[:,0] < 0) & (CIs[:,1] > 0)\n",
    "notSignificant"
   ]
  },
  {
   "cell_type": "code",
   "execution_count": 111,
   "metadata": {
    "slideshow": {
     "slide_type": "fragment"
    }
   },
   "outputs": [
    {
     "data": {
      "text/plain": [
       "(100, 6)"
      ]
     },
     "execution_count": 111,
     "metadata": {},
     "output_type": "execute_result"
    }
   ],
   "source": [
    "Xsignif = X[:,~notSignificant]\n",
    "Xsignif.shape"
   ]
  },
  {
   "cell_type": "markdown",
   "metadata": {
    "slideshow": {
     "slide_type": "fragment"
    }
   },
   "source": [
    "By eliminating independent variables that are not significant, we help avoid overfitting."
   ]
  },
  {
   "cell_type": "code",
   "execution_count": 112,
   "metadata": {
    "slideshow": {
     "slide_type": "fragment"
    }
   },
   "outputs": [
    {
     "name": "stdout",
     "output_type": "stream",
     "text": [
      "                                 OLS Regression Results                                \n",
      "=======================================================================================\n",
      "Dep. Variable:                      y   R-squared (uncentered):                   0.965\n",
      "Model:                            OLS   Adj. R-squared (uncentered):              0.963\n",
      "Method:                 Least Squares   F-statistic:                              437.1\n",
      "Date:                Tue, 26 Oct 2021   Prob (F-statistic):                    2.38e-66\n",
      "Time:                        18:16:40   Log-Likelihood:                         -473.32\n",
      "No. Observations:                 100   AIC:                                      958.6\n",
      "Df Residuals:                      94   BIC:                                      974.3\n",
      "Df Model:                           6                                                  \n",
      "Covariance Type:            nonrobust                                                  \n",
      "==============================================================================\n",
      "                 coef    std err          t      P>|t|      [0.025      0.975]\n",
      "------------------------------------------------------------------------------\n",
      "x1            11.9350      3.162      3.775      0.000       5.657      18.213\n",
      "x2            90.5841      2.705     33.486      0.000      85.213      95.955\n",
      "x3            14.3652      2.924      4.913      0.000       8.560      20.170\n",
      "x4            90.5586      3.289     27.535      0.000      84.028      97.089\n",
      "x5             8.3185      3.028      2.747      0.007       2.307      14.330\n",
      "x6            71.9119      3.104     23.169      0.000      65.749      78.075\n",
      "==============================================================================\n",
      "Omnibus:                        9.915   Durbin-Watson:                   2.056\n",
      "Prob(Omnibus):                  0.007   Jarque-Bera (JB):               11.608\n",
      "Skew:                           0.551   Prob(JB):                      0.00302\n",
      "Kurtosis:                       4.254   Cond. No.                         1.54\n",
      "==============================================================================\n",
      "\n",
      "Notes:\n",
      "[1] R² is computed without centering (uncentered) since the model does not contain a constant.\n",
      "[2] Standard Errors assume that the covariance matrix of the errors is correctly specified.\n"
     ]
    }
   ],
   "source": [
    "model = sm.OLS(y, Xsignif)\n",
    "results = model.fit()\n",
    "print(results.summary())"
   ]
  },
  {
   "cell_type": "markdown",
   "metadata": {
    "slideshow": {
     "slide_type": "slide"
    }
   },
   "source": [
    "## Real Data: House Prices in Ames, Iowa"
   ]
  },
  {
   "cell_type": "markdown",
   "metadata": {
    "slideshow": {
     "slide_type": "fragment"
    }
   },
   "source": [
    "Let's see how powerful multiple regression can be on a real-world example.\n",
    "\n",
    "A typical application of linear models is predicting house prices.   Linear models have been used for this problem for decades, and when a municipality does a value assessment on your house, they typically use a linear model."
   ]
  },
  {
   "cell_type": "markdown",
   "metadata": {
    "slideshow": {
     "slide_type": "fragment"
    }
   },
   "source": [
    "We can consider various measurable attributes of a house (its \"features\") as the independent variables, and the most recent sale price of the house as the dependent variable."
   ]
  },
  {
   "cell_type": "markdown",
   "metadata": {
    "slideshow": {
     "slide_type": "fragment"
    }
   },
   "source": [
    "For our case study, we will use the features:\n",
    "* Lot Area (sq ft), \n",
    "* Gross Living Area (sq ft), \n",
    "* Number of Fireplaces, \n",
    "* Number of Full Baths, \n",
    "* Number of Half Baths, \n",
    "* Garage Area (sq ft), \n",
    "* Basement Area (sq ft)"
   ]
  },
  {
   "cell_type": "markdown",
   "metadata": {
    "slideshow": {
     "slide_type": "fragment"
    }
   },
   "source": [
    "So our design matrix will have 8 columns (including the constant for the intercept):\n",
    "\n",
    "$$ X\\beta = \\mathbf{y}$$\n",
    "\n",
    "and it will have one row for each house in the data set, with $y$ the sale price of the house."
   ]
  },
  {
   "cell_type": "markdown",
   "metadata": {
    "slideshow": {
     "slide_type": "fragment"
    }
   },
   "source": [
    "We will use data from housing sales in Ames, Iowa from 2006 to 2009:"
   ]
  },
  {
   "cell_type": "markdown",
   "metadata": {},
   "source": [
    "<img src=\"figs/ames-iowa-downtown.jpeg\" alt=\"Figure\" width=\"45%\">\n",
    "\n",
    "<p style = \"text-align: center;\">\n",
    "Ames, Iowa</p>\n",
    "<p style = \"text-align: center;\">\n",
    "<a href=\"https://commons.wikimedia.org/wiki/File:Ames_Iowa_Main_Street.jpg\">Tim Kiser (w:User:Malepheasant)</a>, <a href=\"https://creativecommons.org/licenses/by-sa/2.5\">CC BY-SA 2.5</a>, via Wikimedia Commons</p>"
   ]
  },
  {
   "cell_type": "code",
   "execution_count": 113,
   "metadata": {
    "slideshow": {
     "slide_type": "fragment"
    }
   },
   "outputs": [],
   "source": [
    "df = pd.read_csv('data/ames-housing-data/train.csv')"
   ]
  },
  {
   "cell_type": "code",
   "execution_count": 114,
   "metadata": {
    "slideshow": {
     "slide_type": "fragment"
    }
   },
   "outputs": [
    {
     "data": {
      "text/html": [
       "<div>\n",
       "<style scoped>\n",
       "    .dataframe tbody tr th:only-of-type {\n",
       "        vertical-align: middle;\n",
       "    }\n",
       "\n",
       "    .dataframe tbody tr th {\n",
       "        vertical-align: top;\n",
       "    }\n",
       "\n",
       "    .dataframe thead th {\n",
       "        text-align: right;\n",
       "    }\n",
       "</style>\n",
       "<table border=\"1\" class=\"dataframe\">\n",
       "  <thead>\n",
       "    <tr style=\"text-align: right;\">\n",
       "      <th></th>\n",
       "      <th>LotArea</th>\n",
       "      <th>GrLivArea</th>\n",
       "      <th>Fireplaces</th>\n",
       "      <th>FullBath</th>\n",
       "      <th>HalfBath</th>\n",
       "      <th>GarageArea</th>\n",
       "      <th>TotalBsmtSF</th>\n",
       "      <th>SalePrice</th>\n",
       "    </tr>\n",
       "  </thead>\n",
       "  <tbody>\n",
       "    <tr>\n",
       "      <th>0</th>\n",
       "      <td>8450</td>\n",
       "      <td>1710</td>\n",
       "      <td>0</td>\n",
       "      <td>2</td>\n",
       "      <td>1</td>\n",
       "      <td>548</td>\n",
       "      <td>856</td>\n",
       "      <td>208500</td>\n",
       "    </tr>\n",
       "    <tr>\n",
       "      <th>1</th>\n",
       "      <td>9600</td>\n",
       "      <td>1262</td>\n",
       "      <td>1</td>\n",
       "      <td>2</td>\n",
       "      <td>0</td>\n",
       "      <td>460</td>\n",
       "      <td>1262</td>\n",
       "      <td>181500</td>\n",
       "    </tr>\n",
       "    <tr>\n",
       "      <th>2</th>\n",
       "      <td>11250</td>\n",
       "      <td>1786</td>\n",
       "      <td>1</td>\n",
       "      <td>2</td>\n",
       "      <td>1</td>\n",
       "      <td>608</td>\n",
       "      <td>920</td>\n",
       "      <td>223500</td>\n",
       "    </tr>\n",
       "    <tr>\n",
       "      <th>3</th>\n",
       "      <td>9550</td>\n",
       "      <td>1717</td>\n",
       "      <td>1</td>\n",
       "      <td>1</td>\n",
       "      <td>0</td>\n",
       "      <td>642</td>\n",
       "      <td>756</td>\n",
       "      <td>140000</td>\n",
       "    </tr>\n",
       "    <tr>\n",
       "      <th>4</th>\n",
       "      <td>14260</td>\n",
       "      <td>2198</td>\n",
       "      <td>1</td>\n",
       "      <td>2</td>\n",
       "      <td>1</td>\n",
       "      <td>836</td>\n",
       "      <td>1145</td>\n",
       "      <td>250000</td>\n",
       "    </tr>\n",
       "  </tbody>\n",
       "</table>\n",
       "</div>"
      ],
      "text/plain": [
       "   LotArea  GrLivArea  Fireplaces  FullBath  HalfBath  GarageArea  \\\n",
       "0     8450       1710           0         2         1         548   \n",
       "1     9600       1262           1         2         0         460   \n",
       "2    11250       1786           1         2         1         608   \n",
       "3     9550       1717           1         1         0         642   \n",
       "4    14260       2198           1         2         1         836   \n",
       "\n",
       "   TotalBsmtSF  SalePrice  \n",
       "0          856     208500  \n",
       "1         1262     181500  \n",
       "2          920     223500  \n",
       "3          756     140000  \n",
       "4         1145     250000  "
      ]
     },
     "execution_count": 114,
     "metadata": {},
     "output_type": "execute_result"
    }
   ],
   "source": [
    "df[['LotArea', 'GrLivArea', 'Fireplaces', 'FullBath', 'HalfBath', 'GarageArea', 'TotalBsmtSF', 'SalePrice']].head()"
   ]
  },
  {
   "cell_type": "markdown",
   "metadata": {
    "slideshow": {
     "slide_type": "fragment"
    }
   },
   "source": [
    "Some things to note here:\n",
    "* House prices are in dollars\n",
    "* Areas are in square feet\n",
    "* Rooms are in counts"
   ]
  },
  {
   "cell_type": "markdown",
   "metadata": {
    "slideshow": {
     "slide_type": "fragment"
    }
   },
   "source": [
    "Do we have scaling concerns here?  \n",
    "\n",
    "No, because each feature will get its own $\\beta$, which will correct for the scaling differences between different units of measure."
   ]
  },
  {
   "cell_type": "code",
   "execution_count": 115,
   "metadata": {
    "slideshow": {
     "slide_type": "slide"
    }
   },
   "outputs": [],
   "source": [
    "X_no_intercept = df[['LotArea', 'GrLivArea', 'Fireplaces', 'FullBath', 'HalfBath', 'GarageArea', 'TotalBsmtSF']]\n",
    "X_intercept = sm.add_constant(X_no_intercept)\n",
    "y = df['SalePrice'].values"
   ]
  },
  {
   "cell_type": "markdown",
   "metadata": {
    "slideshow": {
     "slide_type": "skip"
    }
   },
   "source": [
    "```{note}\n",
    "Note that removing the intercept will cause the $R^2$ to go up, which is counter-intuitive.  The reason is explained here -- but amounts to the fact that the formula for R2 with/without an intercept is different.\n",
    "https://stats.stackexchange.com/questions/26176/removal-of-statistically-significant-intercept-term-increases-r2-in-linear-mo/26205#26205\n",
    "```"
   ]
  },
  {
   "cell_type": "code",
   "execution_count": 116,
   "metadata": {
    "slideshow": {
     "slide_type": "fragment"
    }
   },
   "outputs": [],
   "source": [
    "from sklearn import utils, model_selection\n",
    "X_train, X_test, y_train, y_test = model_selection.train_test_split(\n",
    "    X_intercept, y, test_size = 0.5, random_state = 0)"
   ]
  },
  {
   "cell_type": "code",
   "execution_count": 117,
   "metadata": {
    "slideshow": {
     "slide_type": "fragment"
    }
   },
   "outputs": [
    {
     "name": "stdout",
     "output_type": "stream",
     "text": [
      "                            OLS Regression Results                            \n",
      "==============================================================================\n",
      "Dep. Variable:                      y   R-squared:                       0.759\n",
      "Model:                            OLS   Adj. R-squared:                  0.757\n",
      "Method:                 Least Squares   F-statistic:                     325.5\n",
      "Date:                Tue, 26 Oct 2021   Prob (F-statistic):          1.74e-218\n",
      "Time:                        18:16:40   Log-Likelihood:                -8746.5\n",
      "No. Observations:                 730   AIC:                         1.751e+04\n",
      "Df Residuals:                     722   BIC:                         1.755e+04\n",
      "Df Model:                           7                                         \n",
      "Covariance Type:            nonrobust                                         \n",
      "===============================================================================\n",
      "                  coef    std err          t      P>|t|      [0.025      0.975]\n",
      "-------------------------------------------------------------------------------\n",
      "const       -4.285e+04   5350.784     -8.007      0.000   -5.34e+04   -3.23e+04\n",
      "LotArea         0.2361      0.131      1.798      0.073      -0.022       0.494\n",
      "GrLivArea      48.0865      4.459     10.783      0.000      39.332      56.841\n",
      "Fireplaces   1.089e+04   2596.751      4.192      0.000    5787.515     1.6e+04\n",
      "FullBath      1.49e+04   3528.456      4.224      0.000    7977.691    2.18e+04\n",
      "HalfBath      1.56e+04   3421.558      4.559      0.000    8882.381    2.23e+04\n",
      "GarageArea     98.9856      8.815     11.229      0.000      81.680     116.291\n",
      "TotalBsmtSF    62.6392      4.318     14.508      0.000      54.163      71.116\n",
      "==============================================================================\n",
      "Omnibus:                      144.283   Durbin-Watson:                   1.937\n",
      "Prob(Omnibus):                  0.000   Jarque-Bera (JB):              917.665\n",
      "Skew:                           0.718   Prob(JB):                    5.39e-200\n",
      "Kurtosis:                       8.302   Cond. No.                     6.08e+04\n",
      "==============================================================================\n",
      "\n",
      "Notes:\n",
      "[1] Standard Errors assume that the covariance matrix of the errors is correctly specified.\n",
      "[2] The condition number is large, 6.08e+04. This might indicate that there are\n",
      "strong multicollinearity or other numerical problems.\n"
     ]
    }
   ],
   "source": [
    "model = sm.OLS(y_train, X_train)\n",
    "results = model.fit()\n",
    "print(results.summary())"
   ]
  },
  {
   "cell_type": "markdown",
   "metadata": {
    "slideshow": {
     "slide_type": "fragment"
    }
   },
   "source": [
    "We see that we have:\n",
    "* $\\beta_0$: Intercept of -\\$42,850\n",
    "* $\\beta_1$: Marginal value of one square foot of Lot Area: \\$0.23 \n",
    "    * but __NOTICE__ - this coefficient is not statistically different from zero!\n",
    "* $\\beta_2$: Marginal value of one square foot of Gross Living Area: \\$48 \n",
    "* $\\beta_3$: Marginal value of one additional fireplace: \\$10,890\n",
    "* $\\beta_4$: Marginal value of one additional full bath: \\$14,900\n",
    "* $\\beta_5$: Marginal value of one additional half bath: \\$15,600\n",
    "* $\\beta_6$: Marginal value of one square foot of Garage Area: \\$99\n",
    "* $\\beta_7$: Marginal value of one square foot of Basement Area: \\$62"
   ]
  },
  {
   "cell_type": "markdown",
   "metadata": {
    "slideshow": {
     "slide_type": "fragment"
    }
   },
   "source": [
    "Is our model doing a good job?  \n",
    "\n",
    "There are many statistics for testing this question, but we'll just look at the predictions versus the ground truth.\n",
    "\n",
    "For each house we compute its predicted sale value according to our model:\n",
    "\n",
    "$$\\hat{\\mathbf{y}} = X\\hat{\\beta}$$"
   ]
  },
  {
   "cell_type": "code",
   "execution_count": 118,
   "metadata": {
    "hide_input": true,
    "slideshow": {
     "slide_type": "fragment"
    },
    "tags": [
     "hide-input"
    ]
   },
   "outputs": [
    {
     "data": {
      "image/png": "[encoded data removed]",
      "text/plain": [
       "<Figure size 864x360 with 2 Axes>"
      ]
     },
     "metadata": {
      "needs_background": "light"
     },
     "output_type": "display_data"
    }
   ],
   "source": [
    "%matplotlib inline\n",
    "from sklearn.metrics import r2_score\n",
    "\n",
    "fig, (ax1, ax2) = plt.subplots(1,2,sharey = 'row', figsize=(12, 5))\n",
    "y_oos_predict = results.predict(X_test)\n",
    "r2_test = r2_score(y_test, y_oos_predict)\n",
    "ax1.scatter(y_test, y_oos_predict, s = 8)\n",
    "ax1.set_xlabel('True Price')\n",
    "ax1.set_ylabel('Predicted Price')\n",
    "ax1.plot([0,500000], [0,500000], 'r-')\n",
    "ax1.axis('equal')\n",
    "ax1.set_ylim([0, 500000])\n",
    "ax1.set_xlim([0, 500000])\n",
    "ax1.set_title(f'Out of Sample Prediction, $R^2$ is {r2_test:0.3f}')\n",
    "#\n",
    "y_is_predict = results.predict(X_train)\n",
    "ax2.scatter(y_train, y_is_predict, s = 8)\n",
    "r2_train = r2_score(y_train, y_is_predict)\n",
    "ax2.set_xlabel('True Price')\n",
    "ax2.plot([0,500000],[0,500000],'r-')\n",
    "ax2.axis('equal')\n",
    "ax2.set_ylim([0,500000])\n",
    "ax2.set_xlim([0,500000])\n",
    "ax2.set_title(f'In Sample Prediction, $R^2$ is {r2_train:0.3f}');"
   ]
  },
  {
   "cell_type": "markdown",
   "metadata": {
    "slideshow": {
     "slide_type": "fragment"
    }
   },
   "source": [
    "We see that the model does a reasonable job for house values less than about \\$250,000. \n",
    "\n",
    "It tends to underestimate at both ends of the price range.\n",
    "\n",
    "Note that the $R^2$ on the (held out) test data is 0.610.   \n",
    "\n",
    "We are not doing as well on test data as on training data (somewhat to be expected).\n",
    "\n",
    "For a better model, we'd want to consider more features of each house, and perhaps some additional functions such as polynomials as components of our model."
   ]
  }
 ],
 "metadata": {
  "celltoolbar": "Slideshow",
  "kernelspec": {
   "display_name": "Python 3 (ipykernel)",
   "language": "python",
   "name": "python3"
  },
  "language_info": {
   "codemirror_mode": {
    "name": "ipython",
    "version": 3
   },
   "file_extension": ".py",
   "mimetype": "text/x-python",
   "name": "python",
   "nbconvert_exporter": "python",
   "pygments_lexer": "ipython3",
   "version": "3.7.11"
  }
 },
 "nbformat": 4,
 "nbformat_minor": 1
}
