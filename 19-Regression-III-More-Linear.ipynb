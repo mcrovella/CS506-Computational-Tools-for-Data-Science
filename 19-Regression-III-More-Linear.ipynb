{
 "cells": [
  {
   "cell_type": "code",
   "execution_count": 1,
   "metadata": {
    "hide_input": true,
    "slideshow": {
     "slide_type": "skip"
    },
    "tags": [
     "hide-input"
    ]
   },
   "outputs": [],
   "source": [
    "import numpy as np\n",
    "import scipy as sp\n",
    "import matplotlib.pyplot as plt\n",
    "import pandas as pd\n",
    "import seaborn as sns\n",
    "import matplotlib as mp\n",
    "import sklearn\n",
    "from IPython.display import Image, HTML\n",
    "import statsmodels.api as sm\n",
    "from sklearn import model_selection\n",
    "from sklearn import metrics\n",
    "\n",
    "import laUtilities as ut\n",
    "\n",
    "%matplotlib inline\n",
    "\n",
    "from statsmodels.sandbox.regression.predstd import wls_prediction_std\n",
    "from statsmodels.regression.linear_model import OLS\n",
    "import statsmodels.formula.api as smf\n",
    "\n",
    "np.random.seed(9876789)"
   ]
  },
  {
   "cell_type": "markdown",
   "metadata": {
    "slideshow": {
     "slide_type": "slide"
    }
   },
   "source": [
    "# Regularization"
   ]
  },
  {
   "cell_type": "markdown",
   "metadata": {
    "slideshow": {
     "slide_type": "fragment"
    }
   },
   "source": [
    "Today, we'll look at some additional aspects of Linear Regression.\n",
    "\n",
    "Our first topic is multicollinearity."
   ]
  },
  {
   "cell_type": "markdown",
   "metadata": {
    "slideshow": {
     "slide_type": "slide"
    }
   },
   "source": [
    "## Multicollinearity"
   ]
  },
  {
   "cell_type": "markdown",
   "metadata": {
    "slideshow": {
     "slide_type": "fragment"
    }
   },
   "source": [
    "To illustrate the multcollinearity problem, we'll load a standard dataset.\n",
    "\n",
    "The Longley dataset contains various US macroeconomic variables from 1947–1962."
   ]
  },
  {
   "cell_type": "markdown",
   "metadata": {
    "slideshow": {
     "slide_type": "skip"
    }
   },
   "source": [
    "```{note}\n",
    "A good reference for the following is \n",
    "https://www.sjsu.edu/faculty/guangliang.chen/Math261a/Ch9slides-multicollinearity.pdf\n",
    "and\n",
    "https://www.stat.cmu.edu/~ryantibs/datamining/lectures/17-modr2.pdf\n",
    "```"
   ]
  },
  {
   "cell_type": "code",
   "execution_count": 2,
   "metadata": {
    "slideshow": {
     "slide_type": "fragment"
    }
   },
   "outputs": [
    {
     "data": {
      "text/html": [
       "<div>\n",
       "<style scoped>\n",
       "    .dataframe tbody tr th:only-of-type {\n",
       "        vertical-align: middle;\n",
       "    }\n",
       "\n",
       "    .dataframe tbody tr th {\n",
       "        vertical-align: top;\n",
       "    }\n",
       "\n",
       "    .dataframe thead th {\n",
       "        text-align: right;\n",
       "    }\n",
       "</style>\n",
       "<table border=\"1\" class=\"dataframe\">\n",
       "  <thead>\n",
       "    <tr style=\"text-align: right;\">\n",
       "      <th></th>\n",
       "      <th>GNPDEFL</th>\n",
       "      <th>GNP</th>\n",
       "      <th>UNEMP</th>\n",
       "      <th>ARMED</th>\n",
       "      <th>POP</th>\n",
       "      <th>const</th>\n",
       "    </tr>\n",
       "    <tr>\n",
       "      <th>YEAR</th>\n",
       "      <th></th>\n",
       "      <th></th>\n",
       "      <th></th>\n",
       "      <th></th>\n",
       "      <th></th>\n",
       "      <th></th>\n",
       "    </tr>\n",
       "  </thead>\n",
       "  <tbody>\n",
       "    <tr>\n",
       "      <th>1947.0</th>\n",
       "      <td>83.0</td>\n",
       "      <td>234289.0</td>\n",
       "      <td>2356.0</td>\n",
       "      <td>1590.0</td>\n",
       "      <td>107608.0</td>\n",
       "      <td>1.0</td>\n",
       "    </tr>\n",
       "    <tr>\n",
       "      <th>1948.0</th>\n",
       "      <td>88.5</td>\n",
       "      <td>259426.0</td>\n",
       "      <td>2325.0</td>\n",
       "      <td>1456.0</td>\n",
       "      <td>108632.0</td>\n",
       "      <td>1.0</td>\n",
       "    </tr>\n",
       "    <tr>\n",
       "      <th>1949.0</th>\n",
       "      <td>88.2</td>\n",
       "      <td>258054.0</td>\n",
       "      <td>3682.0</td>\n",
       "      <td>1616.0</td>\n",
       "      <td>109773.0</td>\n",
       "      <td>1.0</td>\n",
       "    </tr>\n",
       "    <tr>\n",
       "      <th>1950.0</th>\n",
       "      <td>89.5</td>\n",
       "      <td>284599.0</td>\n",
       "      <td>3351.0</td>\n",
       "      <td>1650.0</td>\n",
       "      <td>110929.0</td>\n",
       "      <td>1.0</td>\n",
       "    </tr>\n",
       "    <tr>\n",
       "      <th>1951.0</th>\n",
       "      <td>96.2</td>\n",
       "      <td>328975.0</td>\n",
       "      <td>2099.0</td>\n",
       "      <td>3099.0</td>\n",
       "      <td>112075.0</td>\n",
       "      <td>1.0</td>\n",
       "    </tr>\n",
       "    <tr>\n",
       "      <th>1952.0</th>\n",
       "      <td>98.1</td>\n",
       "      <td>346999.0</td>\n",
       "      <td>1932.0</td>\n",
       "      <td>3594.0</td>\n",
       "      <td>113270.0</td>\n",
       "      <td>1.0</td>\n",
       "    </tr>\n",
       "    <tr>\n",
       "      <th>1953.0</th>\n",
       "      <td>99.0</td>\n",
       "      <td>365385.0</td>\n",
       "      <td>1870.0</td>\n",
       "      <td>3547.0</td>\n",
       "      <td>115094.0</td>\n",
       "      <td>1.0</td>\n",
       "    </tr>\n",
       "    <tr>\n",
       "      <th>1954.0</th>\n",
       "      <td>100.0</td>\n",
       "      <td>363112.0</td>\n",
       "      <td>3578.0</td>\n",
       "      <td>3350.0</td>\n",
       "      <td>116219.0</td>\n",
       "      <td>1.0</td>\n",
       "    </tr>\n",
       "    <tr>\n",
       "      <th>1955.0</th>\n",
       "      <td>101.2</td>\n",
       "      <td>397469.0</td>\n",
       "      <td>2904.0</td>\n",
       "      <td>3048.0</td>\n",
       "      <td>117388.0</td>\n",
       "      <td>1.0</td>\n",
       "    </tr>\n",
       "    <tr>\n",
       "      <th>1956.0</th>\n",
       "      <td>104.6</td>\n",
       "      <td>419180.0</td>\n",
       "      <td>2822.0</td>\n",
       "      <td>2857.0</td>\n",
       "      <td>118734.0</td>\n",
       "      <td>1.0</td>\n",
       "    </tr>\n",
       "    <tr>\n",
       "      <th>1957.0</th>\n",
       "      <td>108.4</td>\n",
       "      <td>442769.0</td>\n",
       "      <td>2936.0</td>\n",
       "      <td>2798.0</td>\n",
       "      <td>120445.0</td>\n",
       "      <td>1.0</td>\n",
       "    </tr>\n",
       "    <tr>\n",
       "      <th>1958.0</th>\n",
       "      <td>110.8</td>\n",
       "      <td>444546.0</td>\n",
       "      <td>4681.0</td>\n",
       "      <td>2637.0</td>\n",
       "      <td>121950.0</td>\n",
       "      <td>1.0</td>\n",
       "    </tr>\n",
       "    <tr>\n",
       "      <th>1959.0</th>\n",
       "      <td>112.6</td>\n",
       "      <td>482704.0</td>\n",
       "      <td>3813.0</td>\n",
       "      <td>2552.0</td>\n",
       "      <td>123366.0</td>\n",
       "      <td>1.0</td>\n",
       "    </tr>\n",
       "    <tr>\n",
       "      <th>1960.0</th>\n",
       "      <td>114.2</td>\n",
       "      <td>502601.0</td>\n",
       "      <td>3931.0</td>\n",
       "      <td>2514.0</td>\n",
       "      <td>125368.0</td>\n",
       "      <td>1.0</td>\n",
       "    </tr>\n",
       "    <tr>\n",
       "      <th>1961.0</th>\n",
       "      <td>115.7</td>\n",
       "      <td>518173.0</td>\n",
       "      <td>4806.0</td>\n",
       "      <td>2572.0</td>\n",
       "      <td>127852.0</td>\n",
       "      <td>1.0</td>\n",
       "    </tr>\n",
       "    <tr>\n",
       "      <th>1962.0</th>\n",
       "      <td>116.9</td>\n",
       "      <td>554894.0</td>\n",
       "      <td>4007.0</td>\n",
       "      <td>2827.0</td>\n",
       "      <td>130081.0</td>\n",
       "      <td>1.0</td>\n",
       "    </tr>\n",
       "  </tbody>\n",
       "</table>\n",
       "</div>"
      ],
      "text/plain": [
       "        GNPDEFL       GNP   UNEMP   ARMED       POP  const\n",
       "YEAR                                                      \n",
       "1947.0     83.0  234289.0  2356.0  1590.0  107608.0    1.0\n",
       "1948.0     88.5  259426.0  2325.0  1456.0  108632.0    1.0\n",
       "1949.0     88.2  258054.0  3682.0  1616.0  109773.0    1.0\n",
       "1950.0     89.5  284599.0  3351.0  1650.0  110929.0    1.0\n",
       "1951.0     96.2  328975.0  2099.0  3099.0  112075.0    1.0\n",
       "1952.0     98.1  346999.0  1932.0  3594.0  113270.0    1.0\n",
       "1953.0     99.0  365385.0  1870.0  3547.0  115094.0    1.0\n",
       "1954.0    100.0  363112.0  3578.0  3350.0  116219.0    1.0\n",
       "1955.0    101.2  397469.0  2904.0  3048.0  117388.0    1.0\n",
       "1956.0    104.6  419180.0  2822.0  2857.0  118734.0    1.0\n",
       "1957.0    108.4  442769.0  2936.0  2798.0  120445.0    1.0\n",
       "1958.0    110.8  444546.0  4681.0  2637.0  121950.0    1.0\n",
       "1959.0    112.6  482704.0  3813.0  2552.0  123366.0    1.0\n",
       "1960.0    114.2  502601.0  3931.0  2514.0  125368.0    1.0\n",
       "1961.0    115.7  518173.0  4806.0  2572.0  127852.0    1.0\n",
       "1962.0    116.9  554894.0  4007.0  2827.0  130081.0    1.0"
      ]
     },
     "execution_count": 2,
     "metadata": {},
     "output_type": "execute_result"
    }
   ],
   "source": [
    "from statsmodels.datasets.longley import load_pandas\n",
    "y = load_pandas().endog\n",
    "X = load_pandas().exog\n",
    "X['const'] = 1.0\n",
    "X.index = X['YEAR']\n",
    "y.index = X['YEAR']\n",
    "X.drop('YEAR', axis = 1, inplace = True)\n",
    "X"
   ]
  },
  {
   "cell_type": "code",
   "execution_count": 3,
   "metadata": {
    "slideshow": {
     "slide_type": "fragment"
    }
   },
   "outputs": [
    {
     "name": "stdout",
     "output_type": "stream",
     "text": [
      "                            OLS Regression Results                            \n",
      "==============================================================================\n",
      "Dep. Variable:                 TOTEMP   R-squared:                       0.987\n",
      "Model:                            OLS   Adj. R-squared:                  0.981\n",
      "Method:                 Least Squares   F-statistic:                     156.4\n",
      "Date:                Wed, 03 Nov 2021   Prob (F-statistic):           3.70e-09\n",
      "Time:                        11:31:57   Log-Likelihood:                -117.83\n",
      "No. Observations:                  16   AIC:                             247.7\n",
      "Df Residuals:                      10   BIC:                             252.3\n",
      "Df Model:                           5                                         \n",
      "Covariance Type:            nonrobust                                         \n",
      "==============================================================================\n",
      "                 coef    std err          t      P>|t|      [0.025      0.975]\n",
      "------------------------------------------------------------------------------\n",
      "GNPDEFL      -48.4628    132.248     -0.366      0.722    -343.129     246.204\n",
      "GNP            0.0720      0.032      2.269      0.047       0.001       0.143\n",
      "UNEMP         -0.4039      0.439     -0.921      0.379      -1.381       0.573\n",
      "ARMED         -0.5605      0.284     -1.975      0.077      -1.193       0.072\n",
      "POP           -0.4035      0.330     -1.222      0.250      -1.139       0.332\n",
      "const       9.246e+04   3.52e+04      2.629      0.025    1.41e+04    1.71e+05\n",
      "==============================================================================\n",
      "Omnibus:                        1.572   Durbin-Watson:                   1.248\n",
      "Prob(Omnibus):                  0.456   Jarque-Bera (JB):                0.642\n",
      "Skew:                           0.489   Prob(JB):                        0.725\n",
      "Kurtosis:                       3.079   Cond. No.                     1.21e+08\n",
      "==============================================================================\n",
      "\n",
      "Notes:\n",
      "[1] Standard Errors assume that the covariance matrix of the errors is correctly specified.\n",
      "[2] The condition number is large, 1.21e+08. This might indicate that there are\n",
      "strong multicollinearity or other numerical problems.\n"
     ]
    },
    {
     "name": "stderr",
     "output_type": "stream",
     "text": [
      "/Users/crovella/opt/anaconda3/lib/python3.7/site-packages/scipy/stats/stats.py:1542: UserWarning: kurtosistest only valid for n>=20 ... continuing anyway, n=16\n",
      "  \"anyway, n=%i\" % int(n))\n"
     ]
    }
   ],
   "source": [
    "ols_model = sm.OLS(y, X)\n",
    "ols_results = ols_model.fit()\n",
    "print(ols_results.summary())"
   ]
  },
  {
   "cell_type": "markdown",
   "metadata": {
    "slideshow": {
     "slide_type": "fragment"
    }
   },
   "source": [
    "What does this mean?\n",
    "\n",
    ">In statistics, multicollinearity (also collinearity) is a phenomenon in which two or more predictor variables in a multiple regression model are highly correlated, meaning that one can be linearly predicted from the others with a substantial degree of accuracy.\n",
    "\n",
    "(Wikipedia)"
   ]
  },
  {
   "cell_type": "markdown",
   "metadata": {
    "slideshow": {
     "slide_type": "slide"
    }
   },
   "source": [
    "### Condition Number"
   ]
  },
  {
   "cell_type": "markdown",
   "metadata": {
    "slideshow": {
     "slide_type": "fragment"
    }
   },
   "source": [
    "The condition number being referred to is the condition number of the design matrix.\n",
    "\n",
    "That is the $X$ in $X\\beta = y$. "
   ]
  },
  {
   "cell_type": "markdown",
   "metadata": {
    "slideshow": {
     "slide_type": "fragment"
    }
   },
   "source": [
    "Remember that to solve a least-squares problem $X\\beta = y$, we solve the normal equations\n",
    "\n",
    "$$X^TX\\beta = X^Ty.$$\n",
    "\n",
    "These equations always have at least one solution."
   ]
  },
  {
   "cell_type": "markdown",
   "metadata": {
    "slideshow": {
     "slide_type": "fragment"
    }
   },
   "source": [
    "However, the \"at least one\" part is problematic!"
   ]
  },
  {
   "cell_type": "markdown",
   "metadata": {
    "slideshow": {
     "slide_type": "fragment"
    }
   },
   "source": [
    "If there are multiple solutions, they are in a sense all equivalent in that they yield the same value of $\\Vert X\\beta - y\\Vert$.\n",
    "\n",
    "However, the actual values of $\\beta$ can vary tremendously and so it is not clear how best to interpret the case when $X$ does not have full column rank."
   ]
  },
  {
   "cell_type": "markdown",
   "metadata": {
    "slideshow": {
     "slide_type": "fragment"
    }
   },
   "source": [
    "When does this problem occur?   Look at the normal equations:\n",
    "\n",
    "$$X^TX\\beta = X^Ty.$$\n",
    "\n",
    "It occurs when $X^TX$ is __not invertible.__\n",
    "\n",
    "In that case, we cannot simply solve the normal equations by computing $\\hat{\\beta} = (X^TX)^{-1}X^Ty.$"
   ]
  },
  {
   "cell_type": "markdown",
   "metadata": {
    "slideshow": {
     "slide_type": "fragment"
    }
   },
   "source": [
    "When is $(X^TX)$ not invertible?\n",
    "\n",
    "This happens when the columns of $X$ are linearly dependent --\n",
    "\n",
    "That is, one column can be expressed as a linear combination of the other columns.\n",
    "\n",
    "This is the simplest kind of __multicollinearity__."
   ]
  },
  {
   "cell_type": "markdown",
   "metadata": {
    "slideshow": {
     "slide_type": "slide"
    }
   },
   "source": [
    "### Sources of Multicollinearity"
   ]
  },
  {
   "cell_type": "markdown",
   "metadata": {
    "slideshow": {
     "slide_type": "fragment"
    }
   },
   "source": [
    "One obvious case is if $X$ has more columns than rows.   That is, if data have __more features than there are observations__.\n",
    "\n",
    "This case is easy to recognize. \n",
    "\n",
    "However, a more insidious case occurs when the columns of $X$ happen to be linearly dependent because of the nature of the data itself."
   ]
  },
  {
   "cell_type": "markdown",
   "metadata": {
    "slideshow": {
     "slide_type": "fragment"
    }
   },
   "source": [
    "This happens when one column is a linear function of the other columns.   \n",
    "\n",
    "In other words, one independent variable is a linear function of one or more of the others."
   ]
  },
  {
   "cell_type": "markdown",
   "metadata": {
    "slideshow": {
     "slide_type": "fragment"
    }
   },
   "source": [
    "Unfortunately, in practice we will run into trouble even if variables are __almost__ linearly dependent. \n",
    "\n",
    "Near-dependence causes problems because measurements are not exact, and small errors are magnified when computing $(X^TX)^{-1}$. \n",
    "\n",
    "So, more simply, when two or more columns are __strongly correlated__, we will have problems with linear regression."
   ]
  },
  {
   "cell_type": "markdown",
   "metadata": {
    "slideshow": {
     "slide_type": "fragment"
    }
   },
   "source": [
    "Consider an experiment with the following predictors:\n",
    "    \n",
    "$$ x_1 = \\text{arm length} $$\n",
    "\n",
    "$$ x_2 = \\text{leg length} $$\n",
    "\n",
    "$$ x_3 = \\text{height} $$\n",
    "\n",
    "$$ \\dots $$"
   ]
  },
  {
   "cell_type": "markdown",
   "metadata": {
    "slideshow": {
     "slide_type": "fragment"
    }
   },
   "source": [
    "Condition number is a measure of whether $X$ is __nearly__ lacking full column rank.\n",
    "\n",
    "In other words, whether some column is __close to__ being a linear combination of the other columns.\n",
    "\n",
    "In this case, the actual values of $\\beta$ can vary a lot due to noise in the measurements."
   ]
  },
  {
   "cell_type": "markdown",
   "metadata": {
    "slideshow": {
     "slide_type": "fragment"
    }
   },
   "source": [
    "One way to say that $X^TX$ is not invertible is to say that it has at least one zero eigenvalue.   \n",
    "\n",
    "Condition number relaxes this -- it asks if $X^TX$ has a __very small__ eigenvalue (compared to its largest eigenvalue)."
   ]
  },
  {
   "cell_type": "markdown",
   "metadata": {
    "slideshow": {
     "slide_type": "fragment"
    }
   },
   "source": [
    "An easy way to assess this is using the SVD of $X$.\n",
    "\n",
    "(Thank you, \"swiss army knife\"!)\n",
    "\n",
    "The eigenvalues of $X^TX$ are the squares of the singular values of $X$.   "
   ]
  },
  {
   "cell_type": "markdown",
   "metadata": {
    "slideshow": {
     "slide_type": "fragment"
    }
   },
   "source": [
    "So the condition number of $X$ is defined as:\n",
    "\n",
    "$$\\kappa(X) = \\frac{\\sigma_{\\mbox{max}}}{\\sigma_{\\mbox{min}}}$$\n",
    "\n",
    "where $\\sigma_{\\mbox{max}}$ and $\\sigma_{\\mbox{min}}$ are the largest and smallest singular values of $X$."
   ]
  },
  {
   "cell_type": "markdown",
   "metadata": {
    "slideshow": {
     "slide_type": "fragment"
    }
   },
   "source": [
    "A large condition number is evidence of a problem.   \n",
    "\n",
    "* If the condition number is less than 100, there is no serious problem\n",
    "with multicollinearity.\n",
    "* Condition numbers between 100 and 1000 imply moderate to strong multicollinearity.\n",
    "* Condition numbers bigger than 1000 indicate severe multicollinearity."
   ]
  },
  {
   "cell_type": "markdown",
   "metadata": {
    "slideshow": {
     "slide_type": "slide"
    }
   },
   "source": [
    "Recall that the condition number of our data is around $10^8$. \n",
    "\n",
    "Let's look at pairwise scatterplots of the Longley data:"
   ]
  },
  {
   "cell_type": "code",
   "execution_count": 4,
   "metadata": {
    "hide_input": true,
    "slideshow": {
     "slide_type": "fragment"
    },
    "tags": [
     "hide-input"
    ]
   },
   "outputs": [
    {
     "data": {
      "image/png": "[encoded data removed]",
      "text/plain": [
       "<Figure size 900x900 with 30 Axes>"
      ]
     },
     "metadata": {
      "needs_background": "light"
     },
     "output_type": "display_data"
    }
   ],
   "source": [
    "sns.pairplot(X[['GNPDEFL', 'GNP', 'UNEMP', 'ARMED', 'POP']]);"
   ]
  },
  {
   "cell_type": "markdown",
   "metadata": {
    "slideshow": {
     "slide_type": "fragment"
    }
   },
   "source": [
    "We can see __very__ strong linear relationships between, eg, __GNP Deflator__, __GNP__, and __Population.__"
   ]
  },
  {
   "cell_type": "markdown",
   "metadata": {
    "slideshow": {
     "slide_type": "slide"
    }
   },
   "source": [
    "## Addressing Multicollinearity"
   ]
  },
  {
   "cell_type": "markdown",
   "metadata": {
    "slideshow": {
     "slide_type": "fragment"
    }
   },
   "source": [
    "\n",
    "There are some things that can be done if it does happen.\n",
    "\n",
    "We will review two strategies:\n",
    "\n",
    "1. Ridge Regression\n",
    "2. Model Selection via LASSO"
   ]
  },
  {
   "cell_type": "markdown",
   "metadata": {
    "slideshow": {
     "slide_type": "slide"
    }
   },
   "source": [
    "### Ridge Regression"
   ]
  },
  {
   "cell_type": "markdown",
   "metadata": {
    "slideshow": {
     "slide_type": "fragment"
    }
   },
   "source": [
    "The first thing to note is that when columns of $X$ are nearly dependent, the components of $\\hat{\\beta}$ tend to be __large in magnitude__."
   ]
  },
  {
   "cell_type": "markdown",
   "metadata": {
    "slideshow": {
     "slide_type": "fragment"
    }
   },
   "source": [
    "Consider a regression in which we are predicting the point $\\mathbf{y}$ as a linear function of two $X$ columns, which we'll denote $\\mathbf{u}$ and $\\mathbf{v}$."
   ]
  },
  {
   "cell_type": "code",
   "execution_count": 5,
   "metadata": {
    "hide_input": true,
    "tags": [
     "hide-input"
    ]
   },
   "outputs": [
    {
     "data": {
      "image/png": "[encoded data removed]",
      "text/plain": [
       "<Figure size 432x216 with 1 Axes>"
      ]
     },
     "metadata": {
      "needs_background": "light"
     },
     "output_type": "display_data"
    }
   ],
   "source": [
    "ax = ut.plotSetup(size=(6,3))\n",
    "ut.centerAxes(ax)\n",
    "u = np.array([1, 2])\n",
    "v = np.array([4, 1])\n",
    "alph = 1.6\n",
    "beta = -1.25\n",
    "sum_uv = (alph * u) + (beta * v)\n",
    "ax.arrow(0, 0, u[0], u[1], head_width=0.2, head_length=0.2, length_includes_head = True)\n",
    "ax.arrow(0, 0, v[0], v[1], head_width=0.2, head_length=0.2, length_includes_head = True)\n",
    "ax.text(sum_uv[0]-.5, sum_uv[1]+0.25, r'$\\mathbf{y}$',size=12)\n",
    "ax.text(u[0]+0.25, u[1]-0.25, r'${\\bf u}$', size=12)\n",
    "ax.text(v[0]+0.25, v[1]+0.25, r'${\\bf v}$',size=12)\n",
    "ut.plotPoint(ax, sum_uv[0], sum_uv[1])\n",
    "ax.plot(0, 0, '');"
   ]
  },
  {
   "cell_type": "markdown",
   "metadata": {
    "slideshow": {
     "slide_type": "fragment"
    }
   },
   "source": [
    "Via least-squares, we determine the coefficients $\\beta_1$ and $\\beta_2$:"
   ]
  },
  {
   "cell_type": "code",
   "execution_count": 6,
   "metadata": {
    "hide_input": true,
    "tags": [
     "hide-input"
    ]
   },
   "outputs": [
    {
     "data": {
      "image/png": "[encoded data removed]",
      "text/plain": [
       "<Figure size 432x216 with 1 Axes>"
      ]
     },
     "metadata": {
      "needs_background": "light"
     },
     "output_type": "display_data"
    }
   ],
   "source": [
    "ax = ut.plotSetup(size=(6,3))\n",
    "ut.centerAxes(ax)\n",
    "u = np.array([1, 2])\n",
    "v = np.array([4, 1])\n",
    "alph = 1.6\n",
    "beta = -1.25\n",
    "sum_uv = (alph * u) + (beta * v)\n",
    "ax.arrow(0, 0, u[0], u[1], head_width=0.2, head_length=0.2, length_includes_head = True)\n",
    "ax.arrow(0, 0, v[0], v[1], head_width=0.2, head_length=0.2, length_includes_head = True)\n",
    "ax.arrow(0, 0, alph * u[0], alph * u[1], head_width=0.2, \n",
    "         head_length=0.2, length_includes_head = True)\n",
    "ax.arrow(alph * u[0], alph * u[1], sum_uv[0] - alph * u[0], sum_uv[1] - alph * u[1], \n",
    "         head_width=0.2, \n",
    "         head_length=0.2, length_includes_head = True, color = 'r')\n",
    "ax.text(sum_uv[0]-2, sum_uv[1]+0.25, r'$\\beta_1{\\bf u}$+$\\beta_2{\\bf v}$',size=12)\n",
    "ax.text(u[0]+0.25, u[1]-0.25, r'${\\bf u}$', size=12)\n",
    "ax.text(alph * u[0]+0.25, alph * u[1]-0.25, r'$\\beta_1{\\bf u}$', size=12)\n",
    "ax.text(-2, 2.75, r'$\\beta_2{\\bf v}$', size=12)\n",
    "ax.text(v[0]+0.25, v[1]+0.25, r'${\\bf v}$',size=12)\n",
    "ut.plotPoint(ax, sum_uv[0], sum_uv[1])\n",
    "ax.plot(0, 0, '');"
   ]
  },
  {
   "cell_type": "markdown",
   "metadata": {
    "slideshow": {
     "slide_type": "fragment"
    }
   },
   "source": [
    "Now consider if the columns of $X$ are __nearly dependent__: ie, they are almost in the same direction:"
   ]
  },
  {
   "cell_type": "code",
   "execution_count": 7,
   "metadata": {
    "hide_input": true,
    "tags": [
     "hide-input"
    ]
   },
   "outputs": [
    {
     "data": {
      "image/png": "[encoded data removed]",
      "text/plain": [
       "<Figure size 432x216 with 1 Axes>"
      ]
     },
     "metadata": {
      "needs_background": "light"
     },
     "output_type": "display_data"
    }
   ],
   "source": [
    "ax = ut.plotSetup(size=(6,3))\n",
    "ut.centerAxes(ax)\n",
    "u = np.array([2, 1])\n",
    "v = np.array([4, 1])\n",
    "ax.arrow(0, 0, u[0], u[1], head_width=0.2, head_length=0.2, length_includes_head = True)\n",
    "ax.arrow(0, 0, v[0], v[1], head_width=0.2, head_length=0.2, length_includes_head = True)\n",
    "ax.text(sum_uv[0]-.5, sum_uv[1]+0.25, r'$\\mathbf{y}$',size=12)\n",
    "ax.text(u[0]+0.25, u[1]-0.25, r'${\\bf u}$', size=12)\n",
    "ax.text(v[0]+0.25, v[1]+0.25, r'${\\bf v}$',size=12)\n",
    "ut.plotPoint(ax, sum_uv[0], sum_uv[1])\n",
    "ax.plot(0, 0, '');"
   ]
  },
  {
   "cell_type": "markdown",
   "metadata": {
    "slideshow": {
     "slide_type": "fragment"
    }
   },
   "source": [
    "If you imagine the values of $\\beta_1$ and $\\beta_2$ necessary to create $\\mathbf{y} = \\beta_1{\\bf u}$+$\\beta_2{\\bf v}$, you can see that $\\beta_1$ and $\\beta_2$ will be __very large__ in magnitude."
   ]
  },
  {
   "cell_type": "markdown",
   "metadata": {
    "slideshow": {
     "slide_type": "fragment"
    }
   },
   "source": [
    "This geometric argument illustrates why the regression coefficients will be very large under multicollinearity.\n",
    "\n",
    "Put another way, the value of $\\Vert\\beta\\Vert$ will be very large."
   ]
  },
  {
   "cell_type": "markdown",
   "metadata": {
    "slideshow": {
     "slide_type": "slide"
    }
   },
   "source": [
    "### Ridge Regression"
   ]
  },
  {
   "cell_type": "markdown",
   "metadata": {
    "slideshow": {
     "slide_type": "fragment"
    }
   },
   "source": [
    "Ridge regression adjusts least squares regression by shrinking the estimated coefficients towards zero.\n",
    "\n",
    "The purpose is to fix the magnitude inflation of $\\Vert\\beta\\Vert$."
   ]
  },
  {
   "cell_type": "markdown",
   "metadata": {
    "slideshow": {
     "slide_type": "fragment"
    }
   },
   "source": [
    "To do this, Ridge regression assumes that the model has no intercept term --\n",
    "\n",
    "both the response and the predictors have been centered so that $\\beta_0 = 0$."
   ]
  },
  {
   "cell_type": "markdown",
   "metadata": {
    "slideshow": {
     "slide_type": "fragment"
    }
   },
   "source": [
    "Ridge regression then consists of adding a penalty term to the regression:\n",
    "\n",
    "$$ \\hat{\\beta} = \\arg \\min_\\beta \\Vert X\\beta - y \\Vert^2 + \\lambda \\Vert\\beta\\Vert^2.$$"
   ]
  },
  {
   "cell_type": "markdown",
   "metadata": {
    "slideshow": {
     "slide_type": "fragment"
    }
   },
   "source": [
    "For any given $\\lambda$ this has a closed-form solution in which $\\hat{\\beta}$ is a linear function of $X$ (just as in ordinary least squares).\n",
    "\n",
    "The solution to the Ridge regression problem always exists and is unique, even when the data contains multicollinearity."
   ]
  },
  {
   "cell_type": "markdown",
   "metadata": {
    "slideshow": {
     "slide_type": "fragment"
    }
   },
   "source": [
    "\n",
    "Here, $\\lambda \\geq 0$ is a tradeoff parameter (amount of shrinkage).\n",
    "\n",
    "It controls the strength of the penalty term:\n",
    "* When $\\lambda = 0$, we get the least squares estimator: $\\hat{\\beta} = (X^TX)^{−1}X^T\\mathbf{y}$\n",
    "* When $\\lambda = \\infty$, we get $\\hat{\\beta} = 0.$\n",
    "* Increasing the value of $\\lambda$ forces the norm of $\\hat{\\beta}$ to decrease, yielding smaller coefficient estimates (in magnitude)."
   ]
  },
  {
   "cell_type": "markdown",
   "metadata": {
    "slideshow": {
     "slide_type": "fragment"
    }
   },
   "source": [
    "For a finite, positive value of $\\lambda$, we are balancing two tasks: fitting\n",
    "a linear model and shrinking the coefficients."
   ]
  },
  {
   "cell_type": "markdown",
   "metadata": {
    "slideshow": {
     "slide_type": "slide"
    }
   },
   "source": [
    "So once again, we have a __hyperparameter__ that controls model complexity:\n",
    "* hence, we typically set $\\lambda$ by holding out data, ie, __cross-validation.__"
   ]
  },
  {
   "cell_type": "markdown",
   "metadata": {
    "slideshow": {
     "slide_type": "fragment"
    }
   },
   "source": [
    "Note that the penalty term $\\Vert\\beta\\Vert^2$ would be unfair to the different predictors, if they are not on the same scale. \n",
    "\n",
    "Therefore, if we know that the variables are not measured in the same units, we typically first perform unit normal scaling on the columns of $X$ and on $\\mathbf{y}$ (to standardize the predictors), and then perform ridge regression.\n",
    "\n",
    "Note that by scaling $\\mathbf{y}$ to zero-mean, we do not need (or include) an intercept in the model."
   ]
  },
  {
   "cell_type": "markdown",
   "metadata": {
    "slideshow": {
     "slide_type": "fragment"
    }
   },
   "source": [
    "The general strategy of including extra criteria to improve the behavior of a model is called \"regularization.\"\n",
    "\n",
    "Accordingly, Ridge regression is also known as __Tikhanov regularization__."
   ]
  },
  {
   "cell_type": "markdown",
   "metadata": {
    "slideshow": {
     "slide_type": "fragment"
    }
   },
   "source": [
    "Here is the performance of Ridge regression on the Longley data.\n",
    "\n",
    "We are training on half of the data, and using the other half for testing."
   ]
  },
  {
   "cell_type": "code",
   "execution_count": 8,
   "metadata": {
    "hide_input": true,
    "slideshow": {
     "slide_type": "skip"
    },
    "tags": [
     "hide-input"
    ]
   },
   "outputs": [],
   "source": [
    "from sklearn.metrics import r2_score\n",
    "nreps = 1000\n",
    "\n",
    "from sklearn.preprocessing import StandardScaler\n",
    "scaler = StandardScaler()\n",
    "X_std = scaler.fit_transform(X[['GNPDEFL', 'GNP', 'UNEMP', 'ARMED', 'POP']])\n",
    "y_std = scaler.fit_transform(y.values.reshape(-1, 1))\n",
    "\n",
    "np.random.seed(1)\n",
    "\n",
    "vals = []\n",
    "for alpha in np.r_[np.array([0]), 10**np.linspace(-8.5, -0.5, 20)]:\n",
    "    res = []\n",
    "    for rep in range(nreps):\n",
    "        X_train, X_test, y_train, y_test = model_selection.train_test_split(\n",
    "            X_std, y_std,\n",
    "            test_size=0.5)\n",
    "        model = sm.OLS(y_train, X_train)\n",
    "        results = model.fit_regularized(alpha = alpha, L1_wt = 0)\n",
    "        y_oos_predict = results.predict(X_test)\n",
    "        r2_test = r2_score(y_test, y_oos_predict)\n",
    "        res.append(r2_test)\n",
    "    vals.append([alpha, np.mean(res), np.std(res)/np.sqrt(nreps)])\n",
    "\n",
    "results = np.array(vals)"
   ]
  },
  {
   "cell_type": "code",
   "execution_count": 9,
   "metadata": {
    "hide_input": true,
    "tags": [
     "hide-input"
    ]
   },
   "outputs": [
    {
     "data": {
      "image/png": "[encoded data removed]",
      "text/plain": [
       "<Figure size 432x288 with 1 Axes>"
      ]
     },
     "metadata": {
      "needs_background": "light"
     },
     "output_type": "display_data"
    }
   ],
   "source": [
    "ax = plt.figure(figsize = (6, 4)).add_subplot()\n",
    "ax.errorbar(np.log10(results[1:][:, 0]), results[1:][:, 1], \n",
    "            results[1:][:, 2],\n",
    "            label = 'Ridge Regression')\n",
    "ax.hlines(results[0,1], np.log10(results[1, 0]), \n",
    "           np.log10(results[-1, 0]), linestyles = 'dashed',\n",
    "          label = 'Without Regularization')\n",
    "ax.hlines(results[0,1]+results[0,2], np.log10(results[1, 0]), \n",
    "           np.log10(results[-1, 0]), linestyles = 'dotted')\n",
    "ax.hlines(results[0,1]-results[0,2], np.log10(results[1, 0]), \n",
    "           np.log10(results[-1, 0]), linestyles = 'dotted')\n",
    "ax.tick_params(labelsize=12)\n",
    "ax.set_ylabel('$R^2$', fontsize = 14)\n",
    "plt.legend(loc = 'best')\n",
    "ax.set_xlabel('$\\log_{10}(\\lambda)$', fontsize = 14)\n",
    "ax.set_title('Ridge Regression Accuracy on Longley Data', fontsize = 16);"
   ]
  },
  {
   "cell_type": "markdown",
   "metadata": {
    "slideshow": {
     "slide_type": "fragment"
    }
   },
   "source": [
    "To sum up the idea behind Ridge regression: \n",
    "\n",
    "1. There may be many $\\beta$ values that are (approximately) consistent with the equations.   \n",
    "2. However over-fit $\\beta$ values tend to have large magnitudes \n",
    "3. We apply shrinkage to avoid those solutions\n",
    "4. We do so by tuning $\\lambda$ via cross-validation"
   ]
  },
  {
   "cell_type": "markdown",
   "metadata": {
    "slideshow": {
     "slide_type": "slide"
    }
   },
   "source": [
    "### Model Selection"
   ]
  },
  {
   "cell_type": "markdown",
   "metadata": {
    "slideshow": {
     "slide_type": "fragment"
    }
   },
   "source": [
    "Of course, one might attack the problem of multicollinearity as follows:\n",
    "    \n",
    "1. Multicollinearity occurs because there are near-dependences among variables (features)\n",
    "2. The extra variables do not contribute anything \"meaningful\" to the quality of the model\n",
    "3. Hence, why not simply remove variables from the model that are causing dependences?"
   ]
  },
  {
   "cell_type": "markdown",
   "metadata": {
    "slideshow": {
     "slide_type": "fragment"
    }
   },
   "source": [
    "If we remove variables from our regression, we are creating a new model.\n",
    "\n",
    "Hence this strategy is called \"model selection.\""
   ]
  },
  {
   "cell_type": "markdown",
   "metadata": {
    "slideshow": {
     "slide_type": "fragment"
    }
   },
   "source": [
    "One of the advantages of model selection is __interpretability__: by eliminating variables, we get a clearer picture of the relationship between truly useful features and dependent variables."
   ]
  },
  {
   "cell_type": "markdown",
   "metadata": {
    "slideshow": {
     "slide_type": "fragment"
    }
   },
   "source": [
    "However, there is a big challenge inherent in model selection:\n",
    "    \n",
    "in general, the possibilities to consider are exponential in the number of features.\n",
    "\n",
    "That is, if we have $n$ features to consider, then there are $2^n-1$ possible models that incorporate one or more of those features.\n",
    "\n",
    "This space is usually too big to search directly."
   ]
  },
  {
   "cell_type": "markdown",
   "metadata": {
    "slideshow": {
     "slide_type": "fragment"
    }
   },
   "source": [
    "Can we use Ridge regression for this problem?\n",
    "\n",
    "Ridge regression does not set any coefficients exactly to zero unless $\\lambda = \\infty$ (in which case they’re all zero). \n",
    "\n",
    "Hence, Ridge regression cannot perform variable selection, and even though it performs well in terms of prediction accuracy, it does not offer a clear interpretation"
   ]
  },
  {
   "cell_type": "markdown",
   "metadata": {
    "slideshow": {
     "slide_type": "slide"
    }
   },
   "source": [
    "### The LASSO\n",
    "\n",
    "LASSO differs from Ridge regression __only in terms of the norm__ used by the penalty term."
   ]
  },
  {
   "cell_type": "markdown",
   "metadata": {
    "slideshow": {
     "slide_type": "fragment"
    }
   },
   "source": [
    "__Ridge regression:__\n",
    "\n",
    "$$ \\hat{\\beta} = \\arg \\min_\\beta \\Vert X\\beta - y \\Vert^2 + \\lambda \\Vert\\beta\\Vert_2^2.$$\n",
    "\n",
    "__LASSO:__\n",
    "\n",
    "$$ \\hat{\\beta} = \\arg \\min_\\beta \\Vert X\\beta - y \\Vert^2 + \\lambda \\Vert\\beta\\Vert_1.$$"
   ]
  },
  {
   "cell_type": "markdown",
   "metadata": {
    "slideshow": {
     "slide_type": "fragment"
    }
   },
   "source": [
    "However, this small change in the norm makes a __big difference__ in practice.\n",
    "\n",
    "The nature of the $\\ell_1$ penalty will cause some coefficients to be shrunken to zero exactly!"
   ]
  },
  {
   "cell_type": "markdown",
   "metadata": {
    "slideshow": {
     "slide_type": "fragment"
    }
   },
   "source": [
    "This means that LASSO can perform model selection: it can tell us which variables to keep and which to set aside."
   ]
  },
  {
   "cell_type": "markdown",
   "metadata": {
    "slideshow": {
     "slide_type": "fragment"
    }
   },
   "source": [
    "As $\\lambda$ increases, more coefficients are set to zero (fewer variables are selected)."
   ]
  },
  {
   "cell_type": "markdown",
   "metadata": {
    "slideshow": {
     "slide_type": "fragment"
    }
   },
   "source": [
    "In terms of prediction error, LASSO performs comparably to Ridge regression, \n",
    "\n",
    "... but it has a __big advantage with respect to interpretation.__"
   ]
  },
  {
   "cell_type": "code",
   "execution_count": 10,
   "metadata": {
    "hide_input": true,
    "slideshow": {
     "slide_type": "skip"
    },
    "tags": [
     "hide-input"
    ]
   },
   "outputs": [],
   "source": [
    "from sklearn.metrics import r2_score\n",
    "nreps = 200\n",
    "\n",
    "from sklearn.preprocessing import StandardScaler\n",
    "scaler = StandardScaler()\n",
    "X_std = scaler.fit_transform(X[['GNPDEFL', 'GNP', 'UNEMP', 'ARMED', 'POP']])\n",
    "X_std = np.column_stack([X_std, np.ones(X_std.shape[0])])\n",
    "y_std = scaler.fit_transform(y.values.reshape(-1, 1))\n",
    "\n",
    "np.random.seed(1)\n",
    "\n",
    "vals = []\n",
    "mean_params = []\n",
    "for alpha in np.r_[np.array([0]), 10**np.linspace(-5, -0.75, 10)]:\n",
    "    res = []\n",
    "    params = []\n",
    "    for rep in range(nreps):\n",
    "        X_train, X_test, y_train, y_test = model_selection.train_test_split(\n",
    "            X_std, y_std,\n",
    "            test_size=0.5)\n",
    "        model = sm.OLS(y_train, X_train)\n",
    "        results = model.fit_regularized(alpha = alpha, L1_wt = 1.0)\n",
    "        y_oos_predict = results.predict(X_test)\n",
    "        r2_test = r2_score(y_test, y_oos_predict)\n",
    "        res.append(r2_test)\n",
    "        params.append(results.params)\n",
    "    vals.append([alpha, np.mean(res), np.std(res)/np.sqrt(nreps)])\n",
    "    mean_params.append(np.r_[alpha, np.mean(params, axis = 0)])\n",
    "results = np.array(vals)\n",
    "mean_params = np.array(mean_params)"
   ]
  },
  {
   "cell_type": "code",
   "execution_count": 11,
   "metadata": {
    "hide_input": true,
    "tags": [
     "hide-input"
    ]
   },
   "outputs": [
    {
     "data": {
      "image/png": "[encoded data removed]",
      "text/plain": [
       "<Figure size 432x288 with 1 Axes>"
      ]
     },
     "metadata": {
      "needs_background": "light"
     },
     "output_type": "display_data"
    }
   ],
   "source": [
    "ax = plt.figure(figsize = (6, 4)).add_subplot()\n",
    "ax.errorbar(np.log10(results[1:][:, 0]), results[1:][:, 1], \n",
    "            results[1:][:, 2],\n",
    "            label = 'LASSO Regression')\n",
    "ax.hlines(results[0,1], np.log10(results[1, 0]), \n",
    "           np.log10(results[-1, 0]), linestyles = 'dashed',\n",
    "          label = 'Without Regularization')\n",
    "ax.hlines(results[0,1]+results[0,2], np.log10(results[1, 0]), \n",
    "           np.log10(results[-1, 0]), linestyles = 'dotted')\n",
    "ax.hlines(results[0,1]-results[0,2], np.log10(results[1, 0]), \n",
    "           np.log10(results[-1, 0]), linestyles = 'dotted')\n",
    "ax.tick_params(labelsize=12)\n",
    "ax.set_ylabel('$R^2$', fontsize = 14)\n",
    "#ax.set_xlim([-4, -1])\n",
    "plt.legend(loc = 'best')\n",
    "ax.set_xlabel('$\\log_{10}(\\lambda)$', fontsize = 14)\n",
    "ax.set_title('LASSO Accuracy on Longley Data', fontsize = 16);"
   ]
  },
  {
   "cell_type": "code",
   "execution_count": 12,
   "metadata": {
    "hide_input": true,
    "slideshow": {
     "slide_type": "skip"
    },
    "tags": [
     "hide-input"
    ]
   },
   "outputs": [],
   "source": [
    "df = pd.DataFrame(mean_params, columns = ['$\\log_{10}(\\lambda)$', 'GNPDEFL', 'GNP', 'UNEMP', 'ARMED', 'POP', 'const'])\n",
    "param_df = df[['GNPDEFL', 'GNP', 'UNEMP', 'ARMED', 'POP', 'const']].iloc[1:].copy()\n",
    "param_df.index = np.log10(df.iloc[1:]['$\\log_{10}(\\lambda)$'])"
   ]
  },
  {
   "cell_type": "code",
   "execution_count": 13,
   "metadata": {
    "hide_input": true,
    "slideshow": {
     "slide_type": "fragment"
    },
    "tags": [
     "hide-input"
    ]
   },
   "outputs": [
    {
     "data": {
      "image/png": "[encoded data removed]",
      "text/plain": [
       "<Figure size 432x288 with 1 Axes>"
      ]
     },
     "metadata": {
      "needs_background": "light"
     },
     "output_type": "display_data"
    }
   ],
   "source": [
    "param_df.plot()\n",
    "plt.legend(loc='center left', bbox_to_anchor=(1, 0.5), prop={'size': 16})\n",
    "plt.title('LASSO Coefficients vs $\\lambda$');"
   ]
  },
  {
   "cell_type": "markdown",
   "metadata": {
    "slideshow": {
     "slide_type": "slide"
    }
   },
   "source": [
    "## Flexible Modeling"
   ]
  },
  {
   "cell_type": "markdown",
   "metadata": {
    "slideshow": {
     "slide_type": "fragment"
    }
   },
   "source": [
    "To look at model selection in practice, we will consider another famous dataset."
   ]
  },
  {
   "cell_type": "markdown",
   "metadata": {
    "slideshow": {
     "slide_type": "fragment"
    }
   },
   "source": [
    "The Guerry dataset is a collection of historical data used in support of Andre-Michel Guerry’s 1833 \"Essay on the Moral Statistics of France.\"\n",
    "\n",
    ">Andre-Michel Guerry’s (1833) Essai sur la Statistique Morale\n",
    "de la France was one of the foundation studies of modern social science.\n",
    "Guerry assembled data on crimes, suicides, literacy and other “moral\n",
    "statistics,” and used tables and maps to analyze a variety of social issues\n",
    "in perhaps the first comprehensive study relating such variables.\n",
    "\n",
    "Wikipedia\n",
    "\n",
    ">Guerry’s results were startling for two reasons.\n",
    "First he showed that rates of crime and suicide remained\n",
    "remarkably stable over time, when broken\n",
    "down by age, sex, region of France and even season\n",
    "of the year; yet these numbers varied systematically\n",
    "across departements of France. This regularity\n",
    "of social numbers created the possibility to\n",
    "conceive, for the first time, that human actions in\n",
    "the social world were governed by social laws, just\n",
    "as inanimate objects were governed by laws of the\n",
    "physical world.\n",
    "\n",
    "Source: \"A.-M. Guerry’s Moral Statistics of France: Challenges for Multivariable\n",
    "Spatial Analysis\", Michael Friendly.  Statistical Science 2007, Vol. 22, No. 3, 368–399."
   ]
  },
  {
   "cell_type": "code",
   "execution_count": 14,
   "metadata": {
    "hide_input": true,
    "slideshow": {
     "slide_type": "skip"
    },
    "tags": [
     "hide-cell"
    ]
   },
   "outputs": [],
   "source": [
    "X['TOTEMP'] = y"
   ]
  },
  {
   "cell_type": "code",
   "execution_count": 15,
   "metadata": {
    "hide_input": true,
    "slideshow": {
     "slide_type": "skip"
    },
    "tags": [
     "hide-cell"
    ]
   },
   "outputs": [
    {
     "name": "stdout",
     "output_type": "stream",
     "text": [
      "                            OLS Regression Results                            \n",
      "==============================================================================\n",
      "Dep. Variable:                 TOTEMP   R-squared:                       0.987\n",
      "Model:                            OLS   Adj. R-squared:                  0.981\n",
      "Method:                 Least Squares   F-statistic:                     156.4\n",
      "Date:                Wed, 03 Nov 2021   Prob (F-statistic):           3.70e-09\n",
      "Time:                        11:33:38   Log-Likelihood:                -117.83\n",
      "No. Observations:                  16   AIC:                             247.7\n",
      "Df Residuals:                      10   BIC:                             252.3\n",
      "Df Model:                           5                                         \n",
      "Covariance Type:            nonrobust                                         \n",
      "==============================================================================\n",
      "                 coef    std err          t      P>|t|      [0.025      0.975]\n",
      "------------------------------------------------------------------------------\n",
      "Intercept   9.246e+04   3.52e+04      2.629      0.025    1.41e+04    1.71e+05\n",
      "GNPDEFL      -48.4628    132.248     -0.366      0.722    -343.129     246.204\n",
      "GNP            0.0720      0.032      2.269      0.047       0.001       0.143\n",
      "UNEMP         -0.4039      0.439     -0.921      0.379      -1.381       0.573\n",
      "ARMED         -0.5605      0.284     -1.975      0.077      -1.193       0.072\n",
      "POP           -0.4035      0.330     -1.222      0.250      -1.139       0.332\n",
      "==============================================================================\n",
      "Omnibus:                        1.572   Durbin-Watson:                   1.248\n",
      "Prob(Omnibus):                  0.456   Jarque-Bera (JB):                0.642\n",
      "Skew:                           0.489   Prob(JB):                        0.725\n",
      "Kurtosis:                       3.079   Cond. No.                     1.21e+08\n",
      "==============================================================================\n",
      "\n",
      "Notes:\n",
      "[1] Standard Errors assume that the covariance matrix of the errors is correctly specified.\n",
      "[2] The condition number is large, 1.21e+08. This might indicate that there are\n",
      "strong multicollinearity or other numerical problems.\n"
     ]
    },
    {
     "name": "stderr",
     "output_type": "stream",
     "text": [
      "/Users/crovella/opt/anaconda3/lib/python3.7/site-packages/scipy/stats/stats.py:1542: UserWarning: kurtosistest only valid for n>=20 ... continuing anyway, n=16\n",
      "  \"anyway, n=%i\" % int(n))\n"
     ]
    }
   ],
   "source": [
    "mod = smf.ols(formula='TOTEMP ~ GNPDEFL + GNP + UNEMP + ARMED + POP', data=X)\n",
    "res = mod.fit()\n",
    "print(res.summary())"
   ]
  },
  {
   "cell_type": "code",
   "execution_count": 16,
   "metadata": {
    "hide_input": true,
    "slideshow": {
     "slide_type": "skip"
    },
    "tags": [
     "hide-cell"
    ]
   },
   "outputs": [
    {
     "name": "stdout",
     "output_type": "stream",
     "text": [
      "                                 OLS Regression Results                                \n",
      "=======================================================================================\n",
      "Dep. Variable:                 TOTEMP   R-squared (uncentered):                   1.000\n",
      "Model:                            OLS   Adj. R-squared (uncentered):              1.000\n",
      "Method:                 Least Squares   F-statistic:                          1.127e+04\n",
      "Date:                Wed, 03 Nov 2021   Prob (F-statistic):                    1.92e-22\n",
      "Time:                        11:33:38   Log-Likelihood:                         -137.20\n",
      "No. Observations:                  16   AIC:                                      280.4\n",
      "Df Residuals:                      13   BIC:                                      282.7\n",
      "Df Model:                           3                                                  \n",
      "Covariance Type:            nonrobust                                                  \n",
      "==============================================================================\n",
      "                 coef    std err          t      P>|t|      [0.025      0.975]\n",
      "------------------------------------------------------------------------------\n",
      "GNPDEFL      871.0961     25.984     33.525      0.000     814.961     927.231\n",
      "GNP           -0.0532      0.007     -8.139      0.000      -0.067      -0.039\n",
      "UNEMP         -0.8333      0.496     -1.679      0.117      -1.905       0.239\n",
      "==============================================================================\n",
      "Omnibus:                        0.046   Durbin-Watson:                   1.422\n",
      "Prob(Omnibus):                  0.977   Jarque-Bera (JB):                0.274\n",
      "Skew:                          -0.010   Prob(JB):                        0.872\n",
      "Kurtosis:                       2.359   Cond. No.                     2.92e+04\n",
      "==============================================================================\n",
      "\n",
      "Notes:\n",
      "[1] R² is computed without centering (uncentered) since the model does not contain a constant.\n",
      "[2] Standard Errors assume that the covariance matrix of the errors is correctly specified.\n",
      "[3] The condition number is large, 2.92e+04. This might indicate that there are\n",
      "strong multicollinearity or other numerical problems.\n"
     ]
    },
    {
     "name": "stderr",
     "output_type": "stream",
     "text": [
      "/Users/crovella/opt/anaconda3/lib/python3.7/site-packages/scipy/stats/stats.py:1542: UserWarning: kurtosistest only valid for n>=20 ... continuing anyway, n=16\n",
      "  \"anyway, n=%i\" % int(n))\n"
     ]
    }
   ],
   "source": [
    "mod = smf.ols(formula='TOTEMP ~ GNPDEFL + GNP + UNEMP - 1', data=X)\n",
    "res = mod.fit()\n",
    "print(res.summary())"
   ]
  },
  {
   "cell_type": "code",
   "execution_count": 18,
   "metadata": {
    "slideshow": {
     "slide_type": "fragment"
    }
   },
   "outputs": [
    {
     "data": {
      "text/html": [
       "<div>\n",
       "<style scoped>\n",
       "    .dataframe tbody tr th:only-of-type {\n",
       "        vertical-align: middle;\n",
       "    }\n",
       "\n",
       "    .dataframe tbody tr th {\n",
       "        vertical-align: top;\n",
       "    }\n",
       "\n",
       "    .dataframe thead th {\n",
       "        text-align: right;\n",
       "    }\n",
       "</style>\n",
       "<table border=\"1\" class=\"dataframe\">\n",
       "  <thead>\n",
       "    <tr style=\"text-align: right;\">\n",
       "      <th></th>\n",
       "      <th>Lottery</th>\n",
       "      <th>Literacy</th>\n",
       "      <th>Wealth</th>\n",
       "      <th>Region</th>\n",
       "    </tr>\n",
       "  </thead>\n",
       "  <tbody>\n",
       "    <tr>\n",
       "      <th>0</th>\n",
       "      <td>41</td>\n",
       "      <td>37</td>\n",
       "      <td>73</td>\n",
       "      <td>E</td>\n",
       "    </tr>\n",
       "    <tr>\n",
       "      <th>1</th>\n",
       "      <td>38</td>\n",
       "      <td>51</td>\n",
       "      <td>22</td>\n",
       "      <td>N</td>\n",
       "    </tr>\n",
       "    <tr>\n",
       "      <th>2</th>\n",
       "      <td>66</td>\n",
       "      <td>13</td>\n",
       "      <td>61</td>\n",
       "      <td>C</td>\n",
       "    </tr>\n",
       "    <tr>\n",
       "      <th>3</th>\n",
       "      <td>80</td>\n",
       "      <td>46</td>\n",
       "      <td>76</td>\n",
       "      <td>E</td>\n",
       "    </tr>\n",
       "    <tr>\n",
       "      <th>4</th>\n",
       "      <td>79</td>\n",
       "      <td>69</td>\n",
       "      <td>83</td>\n",
       "      <td>E</td>\n",
       "    </tr>\n",
       "  </tbody>\n",
       "</table>\n",
       "</div>"
      ],
      "text/plain": [
       "   Lottery  Literacy  Wealth Region\n",
       "0       41        37      73      E\n",
       "1       38        51      22      N\n",
       "2       66        13      61      C\n",
       "3       80        46      76      E\n",
       "4       79        69      83      E"
      ]
     },
     "execution_count": 18,
     "metadata": {},
     "output_type": "execute_result"
    }
   ],
   "source": [
    "# Lottery is per-capital wager on Royal Lottery\n",
    "df = sm.datasets.get_rdataset(\"Guerry\", \"HistData\").data\n",
    "df = df[['Lottery', 'Literacy', 'Wealth', 'Region']].dropna()\n",
    "df.head()"
   ]
  },
  {
   "cell_type": "markdown",
   "metadata": {
    "slideshow": {
     "slide_type": "fragment"
    }
   },
   "source": [
    "We can use another version of the module that can directly type formulas and expressions in the functions of the models.\n",
    "\n",
    "\n",
    "We can specify the name of the columns to be used to predict another column, remove columns, etc."
   ]
  },
  {
   "cell_type": "code",
   "execution_count": 19,
   "metadata": {
    "slideshow": {
     "slide_type": "fragment"
    }
   },
   "outputs": [
    {
     "name": "stdout",
     "output_type": "stream",
     "text": [
      "                            OLS Regression Results                            \n",
      "==============================================================================\n",
      "Dep. Variable:                Lottery   R-squared:                       0.338\n",
      "Model:                            OLS   Adj. R-squared:                  0.287\n",
      "Method:                 Least Squares   F-statistic:                     6.636\n",
      "Date:                Wed, 03 Nov 2021   Prob (F-statistic):           1.07e-05\n",
      "Time:                        11:36:03   Log-Likelihood:                -375.30\n",
      "No. Observations:                  85   AIC:                             764.6\n",
      "Df Residuals:                      78   BIC:                             781.7\n",
      "Df Model:                           6                                         \n",
      "Covariance Type:            nonrobust                                         \n",
      "===============================================================================\n",
      "                  coef    std err          t      P>|t|      [0.025      0.975]\n",
      "-------------------------------------------------------------------------------\n",
      "Intercept      38.6517      9.456      4.087      0.000      19.826      57.478\n",
      "Region[T.E]   -15.4278      9.727     -1.586      0.117     -34.793       3.938\n",
      "Region[T.N]   -10.0170      9.260     -1.082      0.283     -28.453       8.419\n",
      "Region[T.S]    -4.5483      7.279     -0.625      0.534     -19.039       9.943\n",
      "Region[T.W]   -10.0913      7.196     -1.402      0.165     -24.418       4.235\n",
      "Literacy       -0.1858      0.210     -0.886      0.378      -0.603       0.232\n",
      "Wealth          0.4515      0.103      4.390      0.000       0.247       0.656\n",
      "==============================================================================\n",
      "Omnibus:                        3.049   Durbin-Watson:                   1.785\n",
      "Prob(Omnibus):                  0.218   Jarque-Bera (JB):                2.694\n",
      "Skew:                          -0.340   Prob(JB):                        0.260\n",
      "Kurtosis:                       2.454   Cond. No.                         371.\n",
      "==============================================================================\n",
      "\n",
      "Notes:\n",
      "[1] Standard Errors assume that the covariance matrix of the errors is correctly specified.\n"
     ]
    }
   ],
   "source": [
    "mod = smf.ols(formula='Lottery ~ Literacy + Wealth + Region', data=df)\n",
    "res = mod.fit()\n",
    "print(res.summary())"
   ]
  },
  {
   "cell_type": "markdown",
   "metadata": {
    "slideshow": {
     "slide_type": "slide"
    }
   },
   "source": [
    "__Categorical variables__\n",
    "\n",
    "Patsy is the name of the interpreter that parses the formulas.\n",
    "\n",
    "Looking at the summary printed above, notice that patsy determined that elements of Region were text strings, so it treated Region as a categorical variable. \n",
    "\n",
    "Patsy‘s default is also to include an intercept, so we automatically dropped one of the Region categories."
   ]
  },
  {
   "cell_type": "markdown",
   "metadata": {
    "slideshow": {
     "slide_type": "slide"
    }
   },
   "source": [
    "__Removing variables__\n",
    "\n",
    "The “-” sign can be used to remove columns/variables. For instance, we can remove the intercept from a model by:"
   ]
  },
  {
   "cell_type": "code",
   "execution_count": 20,
   "metadata": {
    "slideshow": {
     "slide_type": "-"
    }
   },
   "outputs": [
    {
     "name": "stdout",
     "output_type": "stream",
     "text": [
      "                            OLS Regression Results                            \n",
      "==============================================================================\n",
      "Dep. Variable:                Lottery   R-squared:                       0.338\n",
      "Model:                            OLS   Adj. R-squared:                  0.287\n",
      "Method:                 Least Squares   F-statistic:                     6.636\n",
      "Date:                Wed, 03 Nov 2021   Prob (F-statistic):           1.07e-05\n",
      "Time:                        11:36:03   Log-Likelihood:                -375.30\n",
      "No. Observations:                  85   AIC:                             764.6\n",
      "Df Residuals:                      78   BIC:                             781.7\n",
      "Df Model:                           6                                         \n",
      "Covariance Type:            nonrobust                                         \n",
      "================================================================================\n",
      "                   coef    std err          t      P>|t|      [0.025      0.975]\n",
      "--------------------------------------------------------------------------------\n",
      "C(Region)[C]    38.6517      9.456      4.087      0.000      19.826      57.478\n",
      "C(Region)[E]    23.2239     14.931      1.555      0.124      -6.501      52.949\n",
      "C(Region)[N]    28.6347     13.127      2.181      0.032       2.501      54.769\n",
      "C(Region)[S]    34.1034     10.370      3.289      0.002      13.459      54.748\n",
      "C(Region)[W]    28.5604     10.018      2.851      0.006       8.616      48.505\n",
      "Literacy        -0.1858      0.210     -0.886      0.378      -0.603       0.232\n",
      "Wealth           0.4515      0.103      4.390      0.000       0.247       0.656\n",
      "==============================================================================\n",
      "Omnibus:                        3.049   Durbin-Watson:                   1.785\n",
      "Prob(Omnibus):                  0.218   Jarque-Bera (JB):                2.694\n",
      "Skew:                          -0.340   Prob(JB):                        0.260\n",
      "Kurtosis:                       2.454   Cond. No.                         653.\n",
      "==============================================================================\n",
      "\n",
      "Notes:\n",
      "[1] Standard Errors assume that the covariance matrix of the errors is correctly specified.\n"
     ]
    }
   ],
   "source": [
    "res = smf.ols(formula='Lottery ~ Literacy + Wealth + C(Region) -1 ', data=df).fit()\n",
    "print(res.summary())"
   ]
  },
  {
   "cell_type": "markdown",
   "metadata": {
    "slideshow": {
     "slide_type": "fragment"
    }
   },
   "source": [
    "__Functions__\n",
    "\n",
    "We can also apply vectorized functions to the variables in our model:"
   ]
  },
  {
   "cell_type": "code",
   "execution_count": 21,
   "metadata": {
    "scrolled": false,
    "slideshow": {
     "slide_type": "-"
    }
   },
   "outputs": [
    {
     "name": "stdout",
     "output_type": "stream",
     "text": [
      "                            OLS Regression Results                            \n",
      "==============================================================================\n",
      "Dep. Variable:                Lottery   R-squared:                       0.161\n",
      "Model:                            OLS   Adj. R-squared:                  0.151\n",
      "Method:                 Least Squares   F-statistic:                     15.89\n",
      "Date:                Wed, 03 Nov 2021   Prob (F-statistic):           0.000144\n",
      "Time:                        11:36:03   Log-Likelihood:                -385.38\n",
      "No. Observations:                  85   AIC:                             774.8\n",
      "Df Residuals:                      83   BIC:                             779.7\n",
      "Df Model:                           1                                         \n",
      "Covariance Type:            nonrobust                                         \n",
      "====================================================================================\n",
      "                       coef    std err          t      P>|t|      [0.025      0.975]\n",
      "------------------------------------------------------------------------------------\n",
      "Intercept          115.6091     18.374      6.292      0.000      79.064     152.155\n",
      "np.log(Literacy)   -20.3940      5.116     -3.986      0.000     -30.570     -10.218\n",
      "==============================================================================\n",
      "Omnibus:                        8.907   Durbin-Watson:                   2.019\n",
      "Prob(Omnibus):                  0.012   Jarque-Bera (JB):                3.299\n",
      "Skew:                           0.108   Prob(JB):                        0.192\n",
      "Kurtosis:                       2.059   Cond. No.                         28.7\n",
      "==============================================================================\n",
      "\n",
      "Notes:\n",
      "[1] Standard Errors assume that the covariance matrix of the errors is correctly specified.\n"
     ]
    }
   ],
   "source": [
    "res = smf.ols(formula='Lottery ~ np.log(Literacy)', data=df).fit()\n",
    "print(res.summary())"
   ]
  }
 ],
 "metadata": {
  "anaconda-cloud": {},
  "celltoolbar": "Slideshow",
  "kernelspec": {
   "display_name": "Python 3",
   "language": "python",
   "name": "python3"
  },
  "language_info": {
   "codemirror_mode": {
    "name": "ipython",
    "version": 3
   },
   "file_extension": ".py",
   "mimetype": "text/x-python",
   "name": "python",
   "nbconvert_exporter": "python",
   "pygments_lexer": "ipython3",
   "version": "3.7.10"
  },
  "rise": {
   "scroll": true,
   "theme": "beige",
   "transition": "fade"
  }
 },
 "nbformat": 4,
 "nbformat_minor": 1
}
