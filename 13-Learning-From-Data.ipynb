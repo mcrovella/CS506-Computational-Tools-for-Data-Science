{
 "cells": [
  {
   "cell_type": "code",
   "execution_count": 2,
   "metadata": {
    "hide_input": true,
    "slideshow": {
     "slide_type": "skip"
    },
    "tags": [
     "remove-cell"
    ]
   },
   "outputs": [],
   "source": [
    "%matplotlib inline\n",
    "%config InlineBackend.figure_format='retina'\n",
    "import numpy as np\n",
    "import pandas as pd\n",
    "import matplotlib.pyplot as plt\n",
    "import seaborn as sns\n",
    "from IPython.display import Image, display_html, display, Math, HTML;"
   ]
  },
  {
   "cell_type": "markdown",
   "metadata": {
    "slideshow": {
     "slide_type": "slide"
    }
   },
   "source": [
    "# Introduction to Learning From Data"
   ]
  },
  {
   "cell_type": "markdown",
   "metadata": {
    "slideshow": {
     "slide_type": "fragment"
    }
   },
   "source": [
    "We are now beginnging to discuss how to learn from data.\n",
    "\n",
    "The idea of learning from data is one of the most important shifts in thinking about computing to come about in the past 50 years."
   ]
  },
  {
   "cell_type": "markdown",
   "metadata": {
    "slideshow": {
     "slide_type": "fragment"
    }
   },
   "source": [
    "Consider the commonly heard phrase:\n",
    "\n",
    ">\"Computers can only do what we tell them to do.\"\n",
    "\n",
    "or\n",
    "\n",
    ">\"Computers can not create anything new.  They can only do what we already know how to do.\""
   ]
  },
  {
   "cell_type": "markdown",
   "metadata": {
    "slideshow": {
     "slide_type": "fragment"
    }
   },
   "source": [
    "This line of argument goes back to Lady Ada Lovelace, often credited as the first programmer.\n",
    "\n",
    "Working with Charles Babbage, she wrote about the Analytical Engine:\n",
    "\n",
    ">The Analytical Engine has no pretensions whatever to originate anything. It can do whatever we know how to order it to perform. It can follow analysis; but it has no power of anticipating any analytical relations or truths.\n",
    "\n",
    "Ada Augusta Lovelace, Commentary on \"Sketch of the Analytical Engine\" (1843)"
   ]
  },
  {
   "cell_type": "markdown",
   "metadata": {
    "slideshow": {
     "slide_type": "fragment"
    }
   },
   "source": [
    "However, it is clear that this viewpoint is entirely __wrong.__\n",
    "\n",
    "All around us today, computers solve problems that humans do not know how to solve."
   ]
  },
  {
   "cell_type": "markdown",
   "metadata": {
    "slideshow": {
     "slide_type": "fragment"
    }
   },
   "source": [
    "Computers routinely beat the world's experts in games of chess, go, etc.    They perform tasks such as facial recognition, speech synthesis, automatic language translation, and so forth.   \n",
    "\n",
    "In each case, the programmers who wrote the programs don't themselves know how to perform these tasks.\n",
    "\n",
    "Instead, those programmers have written programs that __learn from data.__"
   ]
  },
  {
   "cell_type": "markdown",
   "metadata": {
    "slideshow": {
     "slide_type": "fragment"
    }
   },
   "source": [
    "However, the best methods for learning from data have taken decades to develop.  \n",
    "\n",
    "So we will spend some time now talking about the general problem of learning from data."
   ]
  },
  {
   "cell_type": "markdown",
   "metadata": {
    "slideshow": {
     "slide_type": "slide"
    }
   },
   "source": [
    "## The Supervised Learning Problem"
   ]
  },
  {
   "cell_type": "markdown",
   "metadata": {
    "slideshow": {
     "slide_type": "fragment"
    }
   },
   "source": [
    "The supervised learning problem in general is:\n",
    "    \n",
    "You are given some example data, which we'll think of abstractly as tuples $\\{(\\mathbf{x}_i, y_i)\\,|\\,i = 1,\\dots,N\\}$.  \n",
    "\n",
    "Your goal is to learn a rule that allows you to predict $y_j$ for some $\\mathbf{x}_j$ that is not in the example data you were given."
   ]
  },
  {
   "cell_type": "markdown",
   "metadata": {
    "slideshow": {
     "slide_type": "fragment"
    }
   },
   "source": [
    "Typically $\\mathbf{x}$ is a vector.\n",
    "\n",
    "We use the term \"features\" to refer to the components of $\\mathbf{x}$.\n",
    "\n",
    "The collection $\\{(\\mathbf{x}_i, y_i)\\,|\\,i = 1,\\dots,N\\}$ is called the __training data.__"
   ]
  },
  {
   "cell_type": "markdown",
   "metadata": {
    "slideshow": {
     "slide_type": "fragment"
    }
   },
   "source": [
    "If $y$ is a discrete value (a label, for example) then the problem is called __classification.__\n",
    "\n",
    "For example, in image recognition, the features $\\mathbf{x}$ could be a vector that represents the pixels of the image, and $y$ could be a label such as \"tiger,\" \"tree,\" etc."
   ]
  },
  {
   "cell_type": "markdown",
   "metadata": {
    "slideshow": {
     "slide_type": "fragment"
    }
   },
   "source": [
    "If $y$ is a continuous (numeric) value, then the problem is called __regression.__ \n",
    "\n",
    "For example, in predicting housing prices, the features $\\mathbf{x}$ could be a vector containing lot size, square footage, number of bathrooms, etc., and $y$ could be the sale price of the house.\n",
    "\n",
    "In the regression case, you will usually be satisfied if your prediction is __close__ to the true $y$ (it doesn't have to be exact to be useful)."
   ]
  },
  {
   "cell_type": "markdown",
   "metadata": {
    "slideshow": {
     "slide_type": "fragment"
    }
   },
   "source": [
    "What do we have to assume to make this problem tractable?\n",
    "\n",
    "We assume two things:\n",
    "1. There is a set of functions (\"rules\") that could be used to predict $y_i$ from $\\mathbf{x}_i$.   This allows us to turn the learning problem into one that searches through this set for the \"right\" function.   However, this set is probably __very__ large!"
   ]
  },
  {
   "cell_type": "markdown",
   "metadata": {
    "slideshow": {
     "slide_type": "fragment"
    }
   },
   "source": [
    "2. The rule for predicting $y_i$ from $\\mathbf{x}_i$ is the same as the rule for predicting $y_j$ from the new item $\\mathbf{x}_j$. Speaking probabilistically, we say that $(\\mathbf{x}_i, y_i)$ and $(\\mathbf{x}_j, y_j)$ are drawn from the __same distribution.__"
   ]
  },
  {
   "cell_type": "markdown",
   "metadata": {
    "slideshow": {
     "slide_type": "slide"
    }
   },
   "source": [
    "## A Toy Example"
   ]
  },
  {
   "cell_type": "markdown",
   "metadata": {
    "slideshow": {
     "slide_type": "skip"
    }
   },
   "source": [
    "```{note}\n",
    "The following is based on Section 1.1 of Bishop (2006).\n",
    "```"
   ]
  },
  {
   "cell_type": "markdown",
   "metadata": {
    "slideshow": {
     "slide_type": "fragment"
    }
   },
   "source": [
    "In order to explore these ideas a bit, we'll use a toy example: a regression problem.\n",
    "\n",
    "This is a very artificial example, but it will expose some important wrinkles in the supervised learning problem.\n",
    "\n",
    "We will consider polynomial curve fitting."
   ]
  },
  {
   "cell_type": "markdown",
   "metadata": {
    "slideshow": {
     "slide_type": "fragment"
    }
   },
   "source": [
    "Suppose we are given a training set comprising $N$ observations of a scalar value $x_i$, which we'll collect into the vector $\\mathbf{x}$.  \n",
    "\n",
    "For each $x_i$ we have a corresponding numeric value $y_i$, and these form $\\mathbf{y}$.\n",
    "\n",
    "Here is a plot of the 10 training points:"
   ]
  },
  {
   "cell_type": "code",
   "execution_count": 161,
   "metadata": {
    "hide_input": false,
    "slideshow": {
     "slide_type": "fragment"
    }
   },
   "outputs": [
    {
     "data": {
      "image/png": "[encoded data removed]",
      "text/plain": [
       "<Figure size 432x288 with 1 Axes>"
      ]
     },
     "metadata": {
      "image/png": {
       "height": 267,
       "width": 406
      },
      "needs_background": "light"
     },
     "output_type": "display_data"
    }
   ],
   "source": [
    "N = 10\n",
    "x = np.linspace(0, 1, N)\n",
    "from numpy.random import default_rng\n",
    "y = np.sin(2 * np.pi * x) + default_rng(2).normal(size = N, scale = 0.20)\n",
    "plt.plot(x, y, 'ro', markersize = 8, fillstyle = 'none')\n",
    "plt.xlabel('x', size = 16)\n",
    "plt.ylabel('y', size = 16);"
   ]
  },
  {
   "cell_type": "markdown",
   "metadata": {
    "slideshow": {
     "slide_type": "fragment"
    }
   },
   "source": [
    "The way we generated these points was to take $\\mathbf{x}$ as equal spaced points on the range 0 to 1,\n",
    "\n",
    "and for each $x_i$, we take $y_i = \\sin(2\\pi x_i)$ __plus__ a sample of a Gaussian random variable."
   ]
  },
  {
   "cell_type": "code",
   "execution_count": 162,
   "metadata": {
    "hide_input": false,
    "slideshow": {
     "slide_type": "fragment"
    }
   },
   "outputs": [
    {
     "data": {
      "image/png": "[encoded data removed]",
      "text/plain": [
       "<Figure size 432x288 with 1 Axes>"
      ]
     },
     "metadata": {
      "image/png": {
       "height": 267,
       "width": 406
      },
      "needs_background": "light"
     },
     "output_type": "display_data"
    }
   ],
   "source": [
    "cx = np.linspace(0, 1, 1000)\n",
    "cy = np.sin(2 * np.pi * cx)\n",
    "plt.plot(cx, cy, lw = 2)\n",
    "plt.plot(x, y, 'ro', markersize = 8, fillstyle = 'none')\n",
    "plt.xlabel('x', size = 16)\n",
    "plt.ylabel('y', size = 16);"
   ]
  },
  {
   "cell_type": "markdown",
   "metadata": {
    "slideshow": {
     "slide_type": "fragment"
    }
   },
   "source": [
    "Many data sets are like this!  \n",
    "\n",
    "In many cases, there is some component of $y$ that depends on $x$, and some component that we treat as random, called \"noise.\"\n",
    "\n",
    "The \"noise\" component is typically not __really__ random, but rather depends on features that we cannot see.\n",
    "\n",
    "(Remember, probability is useful for exactly this case.)"
   ]
  },
  {
   "cell_type": "markdown",
   "metadata": {
    "slideshow": {
     "slide_type": "fragment"
    }
   },
   "source": [
    "Now for this toy example, we \"happen\" to know that the __correct__ rule to use for preduction is:\n",
    "    \n",
    "$$ y = \\sin(2\\pi x) $$\n",
    "\n",
    "and the Gaussian random addition does not depend on $x$ so we cannot hope to predict it."
   ]
  },
  {
   "cell_type": "markdown",
   "metadata": {
    "slideshow": {
     "slide_type": "fragment"
    }
   },
   "source": [
    "OK, let's learn from this data.\n",
    "\n",
    "We will consider a simple approach based on curve fitting.\n",
    "\n",
    "The class of models we will consider are polynomials.   They are of the form:\n",
    "\n",
    "$$ y(x, \\mathbf{w}) = w_0 + w_1 x + w_2 x^2 + \\dots + w_k x^k = \\sum_{j = 0}^k w_jx^j $$\n",
    "\n",
    "where $k$ is the _order_ of the polynomial."
   ]
  },
  {
   "cell_type": "markdown",
   "metadata": {
    "slideshow": {
     "slide_type": "fragment"
    }
   },
   "source": [
    "If we are given some $k$, then what we want to learn are the $w_i$s, that is, $\\mathbf{w}$.  \n",
    "\n",
    "The $w_i$s are the __parameters__ of the model."
   ]
  },
  {
   "cell_type": "markdown",
   "metadata": {
    "slideshow": {
     "slide_type": "fragment"
    }
   },
   "source": [
    "Note that this function $y(x, \\mathbf{w})$ is a nonlinear function in $x$ ... but it is __linear__ in $\\mathbf{w}$.  That is, all the $w_i$s appear only raised to the first power.   \n",
    "\n",
    "This model is linear in its parameters -- it is called a __linear model.__\n",
    "\n",
    "Linear models are particularly easy to fit to data."
   ]
  },
  {
   "cell_type": "markdown",
   "metadata": {
    "slideshow": {
     "slide_type": "slide"
    }
   },
   "source": [
    "### Model Fitting"
   ]
  },
  {
   "cell_type": "markdown",
   "metadata": {
    "slideshow": {
     "slide_type": "fragment"
    }
   },
   "source": [
    "How will we fit our model, that is, learn the best parameters $\\mathbf{w}$?\n",
    "\n",
    "We will use a objective function to guide our search through the space of model parameters."
   ]
  },
  {
   "cell_type": "markdown",
   "metadata": {
    "slideshow": {
     "slide_type": "fragment"
    }
   },
   "source": [
    "The objective function we will use is called the __least squares criterion__:\n",
    "\n",
    "$$ E(\\mathbf{w}) = \\sum_{n=1}^N [y(x_n, \\mathbf{w}) - y_n]^2 $$\n",
    "\n",
    "This is a nonnegative function which is zero if the polynomial passes through every point exactly."
   ]
  },
  {
   "cell_type": "markdown",
   "metadata": {
    "slideshow": {
     "slide_type": "fragment"
    }
   },
   "source": [
    "We often write $\\hat{y}_n$ for $y(x_n, \\mathbf{w})$.\n",
    "\n",
    "Then:\n",
    "\n",
    "$$ E(\\mathbf{w}) = \\Vert \\hat{\\mathbf{y}} - \\mathbf{y} \\Vert^2. $$\n",
    "\n",
    "In other words, the error function $E(\\cdot)$ measures the distance or dissimilarity between the data and the predictions."
   ]
  },
  {
   "cell_type": "markdown",
   "metadata": {
    "slideshow": {
     "slide_type": "fragment"
    }
   },
   "source": [
    "Finding a $\\mathbf{w}$ that minimizes $E(\\mathbf{w})$ is a least-squares problem, and we can solve it in closed form (details later in the course).\n",
    "\n",
    "The resulting solution $\\mathbf{w}^*$ is the set of parameters that __minimizes the error on the training data.__"
   ]
  },
  {
   "cell_type": "markdown",
   "metadata": {
    "slideshow": {
     "slide_type": "slide"
    }
   },
   "source": [
    "### Model Selection"
   ]
  },
  {
   "cell_type": "markdown",
   "metadata": {
    "slideshow": {
     "slide_type": "fragment"
    }
   },
   "source": [
    "So we are done, correct?"
   ]
  },
  {
   "cell_type": "markdown",
   "metadata": {
    "slideshow": {
     "slide_type": "fragment"
    }
   },
   "source": [
    "Wait ... what about choosing $k$, the order of the polynomial?"
   ]
  },
  {
   "cell_type": "markdown",
   "metadata": {
    "slideshow": {
     "slide_type": "fragment"
    }
   },
   "source": [
    "The problem of choosing $k$ is called __model selection.__\n",
    "\n",
    "That is, a polynomial of order 3 (a cubic) is a __different model__ from a polynomial of order 2 (a quadratic).\n",
    "\n",
    "Let's look at constant (order 0), linear (order 1), and cubic (order 3) models.\n",
    "\n",
    "We will fit each one using the least squares criterion:"
   ]
  },
  {
   "cell_type": "code",
   "execution_count": 163,
   "metadata": {
    "hide_input": false,
    "slideshow": {
     "slide_type": "skip"
    }
   },
   "outputs": [],
   "source": [
    "# y = Aw, A is design matrix 1, [1, x^T], [1, x^T, x^T^2], etc, and w-hat = (A^TA)^-1 A^Ty\n",
    "def design_matrix(x, k):\n",
    "    N = len(x)\n",
    "    A = np.ones(N)\n",
    "    for i in range(1, k+1):\n",
    "        A = np.column_stack([A, (x.T)**i])\n",
    "    return A\n",
    "\n",
    "def fit_poly(x, y, k):\n",
    "    A = design_matrix(x, k)\n",
    "    w_hat = np.linalg.inv(A.T @ A) @ A.T @ y\n",
    "    return w_hat\n",
    "\n",
    "w_hat_0 = 1/N * np.sum(y)\n",
    "w_hat_1 = fit_poly(x, y, 1)\n",
    "w_hat_3 = fit_poly(x, y, 3)"
   ]
  },
  {
   "cell_type": "code",
   "execution_count": 164,
   "metadata": {
    "hide_input": false,
    "scrolled": true,
    "slideshow": {
     "slide_type": "fragment"
    }
   },
   "outputs": [
    {
     "data": {
      "image/png": "[encoded data removed]",
      "text/plain": [
       "<Figure size 864x360 with 3 Axes>"
      ]
     },
     "metadata": {
      "image/png": {
       "height": 348,
       "width": 857
      },
      "needs_background": "light"
     },
     "output_type": "display_data"
    }
   ],
   "source": [
    "fig, axs = plt.subplots(1, 3, sharey = True, figsize = (12, 5))\n",
    "#\n",
    "cy = 1000 * [w_hat_0]\n",
    "pred_y = N * [w_hat_0]\n",
    "axs[0].plot(cx, cy, lw = 2, label = r'$k$ = 0')\n",
    "axs[0].plot(x, y, 'ro', markersize = 8, fillstyle = 'none')\n",
    "axs[0].set_xlabel('x', size = 16)\n",
    "axs[0].set_ylabel('y', size = 16)\n",
    "axs[0].set_title(r'$k$ = 0, constant' + '\\n' + r'$E(\\mathbf{w})$ =' + ' {:0.2f}'.format(np.linalg.norm(y - pred_y)))\n",
    "#axs[0].legend(loc = 'best', fontsize = 16)\n",
    "#\n",
    "cy = design_matrix(cx, 1) @ w_hat_1\n",
    "pred_y = design_matrix(x, 1) @ w_hat_1\n",
    "axs[1].plot(cx, cy, lw = 2, label = r'$k$ = 1')\n",
    "axs[1].plot(x, y, 'ro', markersize = 8, fillstyle = 'none')\n",
    "axs[1].set_xlabel('x', size = 16)\n",
    "axs[1].set_title(r'$k$ = 1, linear' + '\\n' + r'$E(\\mathbf{w})$ =' + ' {:0.2f}'.format(np.linalg.norm(y - pred_y)))\n",
    "#axs[1].legend(loc = 'best', fontsize = 16)\n",
    "#\n",
    "cy = design_matrix(cx, 3) @ w_hat_3\n",
    "pred_y = design_matrix(x, 3) @ w_hat_3\n",
    "axs[2].plot(cx, cy, lw = 2, label = r'$k$ = 3')\n",
    "axs[2].plot(x, y, 'ro', markersize = 8, fillstyle = 'none')\n",
    "axs[2].set_xlabel('x', size = 16)\n",
    "axs[2].set_title('$k$ = 3, cubic' + '\\n' + r'$E(\\mathbf{w})$ =' + ' {:0.2f}'.format(np.linalg.norm(y - pred_y)))\n",
    "#axs[2].legend(loc = 'best', fontsize = 16)\n",
    "#\n",
    "fig.tight_layout();"
   ]
  },
  {
   "cell_type": "markdown",
   "metadata": {
    "slideshow": {
     "slide_type": "fragment"
    }
   },
   "source": [
    "So it looks like a third-order polynomial ($k$ = 3) is a good fit!\n",
    "\n",
    "How do we know it's good?   Well, the training error $E(\\mathbf{w})$ is small."
   ]
  },
  {
   "cell_type": "markdown",
   "metadata": {
    "slideshow": {
     "slide_type": "fragment"
    }
   },
   "source": [
    "But ... can we make the training error __smaller__?\n",
    "\n",
    "Yes, we can, if we increase the order of the polynomial."
   ]
  },
  {
   "cell_type": "markdown",
   "metadata": {
    "slideshow": {
     "slide_type": "fragment"
    }
   },
   "source": [
    "In fact, we can reduce the error to zero!\n",
    "\n",
    "By setting $k = 9$, we get the following polynomial fit to the data:"
   ]
  },
  {
   "cell_type": "code",
   "execution_count": 165,
   "metadata": {
    "hide_input": false
   },
   "outputs": [
    {
     "data": {
      "image/png": "[encoded data removed]",
      "text/plain": [
       "<Figure size 432x288 with 1 Axes>"
      ]
     },
     "metadata": {
      "image/png": {
       "height": 299,
       "width": 399
      },
      "needs_background": "light"
     },
     "output_type": "display_data"
    }
   ],
   "source": [
    "w_hat_9 = fit_poly(x, y, 9)\n",
    "cy = design_matrix(cx, 9) @ w_hat_9\n",
    "plt.plot(cx, cy, lw = 2, label = r'$k$ = 9')\n",
    "plt.plot(x, y, 'ro', markersize = 8, fillstyle = 'none')\n",
    "plt.xlabel('x', size = 16)\n",
    "plt.ylabel('y', size = 16)\n",
    "plt.title(r'$k$ = 9, constant' + '\\n' + r'$E(\\mathbf{w})$ =' + ' {:0.2f}'.format(0));"
   ]
  },
  {
   "cell_type": "markdown",
   "metadata": {},
   "source": [
    "So ... is the 9th order polynomial a \"better\" model?\n",
    "\n",
    "__Absolutely not!__\n",
    "\n",
    "Why?\n",
    "\n",
    "Informally, the model is very \"wiggly\".  It seems unlikely that the real data generation process is governed by this curve.\n",
    "\n",
    "In other words, we don't expect that, if we had __more__ data from the same source, that this model would do a good job of fitting the additional data.\n",
    "\n",
    "We want the model to do a good job of predicting on __future__ data.  This is called\n",
    "the model's __generalization__ ability.   \n",
    "\n",
    "The 9th degree polynomial would seem to have poor generalization ability.\n",
    "\n",
    "Let's assess generalization error.   For each polynomial (value of $k$) we will use new data, called __test__ data.  This is data that was __not__ used to train the model, but comes from the same source.\n",
    "\n",
    "In our case, we now how the data is generated -- $\\sin(2\\pi x)$ plus noise -- so we can easily generate more."
   ]
  },
  {
   "cell_type": "code",
   "execution_count": 174,
   "metadata": {},
   "outputs": [
    {
     "data": {
      "image/png": "[encoded data removed]",
      "text/plain": [
       "<Figure size 432x288 with 1 Axes>"
      ]
     },
     "metadata": {
      "image/png": {
       "height": 270,
       "width": 394
      },
      "needs_background": "light"
     },
     "output_type": "display_data"
    }
   ],
   "source": [
    "test_y = np.sin(2 * np.pi * x) + default_rng(8).normal(size = N, scale = 0.20)\n",
    "max_k = N\n",
    "train_err = [np.linalg.norm(y - N * [w_hat_0])]\n",
    "test_err = [np.linalg.norm(test_y - N * [w_hat_0])]\n",
    "for k in range(1, max_k):\n",
    "    w_hat = fit_poly(x, y, k)\n",
    "    pred_y = design_matrix(x, k) @ w_hat\n",
    "    train_err.append(np.linalg.norm(y - pred_y))\n",
    "    test_err.append(np.linalg.norm(test_y - pred_y))\n",
    "plt.plot(range(max_k), test_err, 'ro-', label = 'Testing Error')\n",
    "plt.plot(range(max_k), train_err, 'bo-', label = 'Training Error')\n",
    "plt.xlabel(r'$k$', size = 16)\n",
    "plt.ylabel(r'$E(\\mathbf{w}^*)$')\n",
    "plt.legend(loc = 'best');"
   ]
  },
  {
   "cell_type": "code",
   "execution_count": null,
   "metadata": {},
   "outputs": [],
   "source": []
  },
  {
   "cell_type": "markdown",
   "metadata": {
    "slideshow": {
     "slide_type": "skip"
    }
   },
   "source": [
    "(This image was originally from <a class=\"external text\" href=\"http://en.wikipedia.org\">en.wikipedia</a>; description page is/was <a class=\"external text\" href=\"http://en.wikipedia.org/w/index.php?title=Image%3ASnow-cholera-map-1.jpg\">here</a>. Image copied from <a rel=\"nofollow\" class=\"external free\" href=\"http://matrix.msu.edu/~johnsnow/images/online_companion/chapter_images/fig12-5.jpg\">http://matrix.msu.edu/~johnsnow/images/online_companion/chapter_images/fig12-5.jpg</a>), Public Domain, <a href=\"https://commons.wikimedia.org/w/index.php?curid=2278605\">https://commons.wikimedia.org/w/index.php?curid=2278605</a>"
   ]
  },
  {
   "cell_type": "markdown",
   "metadata": {
    "slideshow": {
     "slide_type": "fragment"
    }
   },
   "source": [
    "<center>\n",
    "    \n",
    "<img src=\"figs/L6-John_Snow_memorial_and_pub.png\" alt=\"Figure\" width=\"400px\">\n",
    "    \n",
    "</center>"
   ]
  },
  {
   "cell_type": "markdown",
   "metadata": {
    "slideshow": {
     "slide_type": "-"
    }
   },
   "source": [
    "<a href=\"http://creativecommons.org/licenses/by-sa/2.0\" title=\"Creative Commons Attribution-Share Alike 2.0\">CC BY-SA 2.0</a>, <a href=\"https://commons.wikimedia.org/w/index.php?curid=357998\">https://commons.wikimedia.org/w/index.php?curid=357998</a>"
   ]
  },
  {
   "cell_type": "markdown",
   "metadata": {
    "slideshow": {
     "slide_type": "slide"
    }
   },
   "source": [
    "## Clustering is Unsupervised Learning"
   ]
  },
  {
   "cell_type": "markdown",
   "metadata": {
    "slideshow": {
     "slide_type": "fragment"
    }
   },
   "source": [
    "Clustering is a very important way of discovering __structure__ in data."
   ]
  },
  {
   "cell_type": "markdown",
   "metadata": {
    "slideshow": {
     "slide_type": "fragment"
    }
   },
   "source": [
    "It is so important because it is __common__ for data to show clusters.\n",
    "\n",
    "* Locations where millionaires live\n",
    "* The number of hours people work each week\n",
    "* Demographics (\"soccer moms\", \"bored retirees\", \"unemployed millenials\", etc)\n"
   ]
  },
  {
   "cell_type": "markdown",
   "metadata": {
    "slideshow": {
     "slide_type": "fragment"
    }
   },
   "source": [
    "We can often simplify or compress our data if we recognize the existence of clusters."
   ]
  },
  {
   "cell_type": "markdown",
   "metadata": {
    "slideshow": {
     "slide_type": "fragment"
    }
   },
   "source": [
    "Further, we can often interpret clusters by assigning them labels."
   ]
  },
  {
   "cell_type": "markdown",
   "metadata": {
    "slideshow": {
     "slide_type": "fragment"
    }
   },
   "source": [
    "However, note that these categories or \"labels\" are assigned __after__ the fact.\n",
    "\n",
    "And, we may __not__ be able to interpret clusters or assign them labels in some cases."
   ]
  },
  {
   "cell_type": "markdown",
   "metadata": {
    "slideshow": {
     "slide_type": "fragment"
    }
   },
   "source": [
    "That is, clustering represents the first example we will see of __unsupervised__ learning."
   ]
  },
  {
   "cell_type": "markdown",
   "metadata": {
    "slideshow": {
     "slide_type": "fragment"
    }
   },
   "source": [
    "__Supervised__ methods:  Data items have labels, and we want to learn a function that correctly assigns labels to new data items.\n",
    "\n",
    "__Unsupervised__ methods:  Data items do not have labels, and we want to learn a function that extracts  important patterns from the data."
   ]
  },
  {
   "cell_type": "markdown",
   "metadata": {},
   "source": [
    "__Applications of Clustering:__\n",
    "\n",
    "* Image Processing\n",
    "    * Cluster images based on their visual content\n",
    "    * Compress images based on color clusters\n",
    "* Web Mining\n",
    "    * Cluster groups of users based on webpage access patterns\n",
    "    * Cluster web pages based on their content\n",
    "* Bioinformatics\n",
    "    * Cluster similar proteins together (by structure or function)\n",
    "    * Cluster cell types (by gene activity)\n",
    "* And many more ..."
   ]
  },
  {
   "cell_type": "markdown",
   "metadata": {
    "slideshow": {
     "slide_type": "slide"
    }
   },
   "source": [
    "## The Clustering Problem"
   ]
  },
  {
   "cell_type": "markdown",
   "metadata": {
    "slideshow": {
     "slide_type": "fragment"
    }
   },
   "source": [
    "When we do clustering, what problem are we trying to solve?\n",
    "\n",
    "We will answer this question informally at first. \n",
    "\n",
    "(But soon we will look at formal criteria!)"
   ]
  },
  {
   "cell_type": "markdown",
   "metadata": {
    "slideshow": {
     "slide_type": "fragment"
    }
   },
   "source": [
    "Informally, a __clustering__ is:\n",
    "    \n",
    "> a grouping of data objects, such that the objects within a group are similar (or near) to one another and dissimilar (or far) from the objects in other groups.\n",
    "\n",
    "(keep in mind that if we use a distance function as a dissimilarity measure, then \"far\" implies \"different\")"
   ]
  },
  {
   "cell_type": "markdown",
   "metadata": {
    "slideshow": {
     "slide_type": "-"
    }
   },
   "source": [
    "<center>\n",
    "    \n",
    "<img src=\"figs/L06-clustering-1.png\" alt=\"Figure\" width=\"350px\">\n",
    "    \n",
    "</center>"
   ]
  },
  {
   "cell_type": "markdown",
   "metadata": {
    "slideshow": {
     "slide_type": "fragment"
    }
   },
   "source": [
    "So we want our clustering algorithm to:\n",
    "* <font color = \"blue\">minimize</font> intra-cluster distances\n",
    "* <font color = \"red\">maximize</font> inter-cluster distances"
   ]
  },
  {
   "cell_type": "markdown",
   "metadata": {
    "slideshow": {
     "slide_type": "fragment"
    }
   },
   "source": [
    "Here are the basic questions we need to ask about clustering:\n",
    "    \n",
    "* What is the right kind of <font color = \"blue\">\"similarity\"</font> to use?\n",
    "* What is a <font color=\"blue\">\"good\" partition</font> of objects?\n",
    "    * ie, how is the quality of a solution measured?\n",
    "* <font color = \"blue\">How to find</font> a good partition?\n",
    "    * are there efficient algorithms?  \n",
    "    * are there algorithms that are guaranteed to find good clusters?"
   ]
  },
  {
   "cell_type": "markdown",
   "metadata": {
    "slideshow": {
     "slide_type": "slide"
    }
   },
   "source": [
    "Now note that even with our more-formal discussion, the criteria for deciding on a \"best\" clustering can still be ambiguous."
   ]
  },
  {
   "cell_type": "markdown",
   "metadata": {
    "slideshow": {
     "slide_type": "fragment"
    }
   },
   "source": [
    "<center>\n",
    "    \n",
    "<img src=\"figs/L06-clustering-2.png\" alt=\"Figure\" width=\"600px\">\n",
    "    \n",
    "</center>"
   ]
  },
  {
   "cell_type": "markdown",
   "metadata": {
    "slideshow": {
     "slide_type": "fragment"
    }
   },
   "source": [
    "To accommodate the ambiguity here, one approach is to seek a __hierarchical__ clustering:\n",
    "\n",
    "That is, as set of nested clusters organized in a tree.\n",
    "\n",
    "We'll discuss hierarchical cluster in an upcoming lecture."
   ]
  },
  {
   "cell_type": "markdown",
   "metadata": {
    "slideshow": {
     "slide_type": "fragment"
    }
   },
   "source": [
    "For today, we'll focus on __partitional__ clustering:  \n",
    "\n",
    "in a partitional clustering, the points are divided into a set of __non-overlapping__ groups."
   ]
  },
  {
   "cell_type": "markdown",
   "metadata": {
    "slideshow": {
     "slide_type": "-"
    }
   },
   "source": [
    "<center>\n",
    "    \n",
    "<img src=\"figs/L06-partitional-clustering.png\" alt=\"Figure\" width=\"600px\">\n",
    "    \n",
    "</center>"
   ]
  },
  {
   "cell_type": "markdown",
   "metadata": {
    "slideshow": {
     "slide_type": "fragment"
    }
   },
   "source": [
    "In a partitional clustering:\n",
    "* Each object belongs to __one__, and only one, cluster\n",
    "* The set of clusters covers all the objects\n",
    "\n",
    "We are going to assume for now that the number of clusters is given in advance.\n",
    "\n",
    "We will denote the number of clusters as $k$."
   ]
  },
  {
   "cell_type": "markdown",
   "metadata": {
    "slideshow": {
     "slide_type": "slide"
    }
   },
   "source": [
    "## The $k$-means Problem"
   ]
  },
  {
   "cell_type": "markdown",
   "metadata": {
    "slideshow": {
     "slide_type": "fragment"
    }
   },
   "source": [
    "Now, we are ready to state our first formalization of the clustering problem.\n",
    "\n",
    "We will assume that \n",
    "* data items are represented by points in $\\mathbb{R}^d$.   (In other words, each data item has $d$ features.)\n",
    "* $n$ points are given\n",
    "* the number of clusters $k$ is given"
   ]
  },
  {
   "cell_type": "markdown",
   "metadata": {
    "slideshow": {
     "slide_type": "fragment"
    }
   },
   "source": [
    "__$k$-means Problem:__\n",
    "\n",
    "Find $k$ points $c_1, \\dots, c_k$ (called _centers_ or _means_) so that the cost\n",
    "\n",
    "$$ \\sum_{i=1}^n \\min_j \\ell_2^2(x_i, c_j) = \\sum_{i=1}^n \\min_j \\Vert x_i-c_j\\Vert^2_2 $$\n",
    "\n",
    "is minimized."
   ]
  },
  {
   "cell_type": "markdown",
   "metadata": {
    "slideshow": {
     "slide_type": "fragment"
    }
   },
   "source": [
    "__Equivalently:__ we can think in terms of the partition itself.\n",
    "\n",
    "Consider the set $X = \\{x_1, \\dots, x_n\\}$ where $x_i \\in \\mathbb{R}^n$.\n",
    "    \n",
    "Find $k$ points $c_1, \\dots, c_k$ (called _centers_ or _means_) \n",
    "\n",
    "and partition $X$ into subsets $\\{X_1, \\dots, X_k\\}$ by assigning each point $x_i$ in $X$ to its nearst cluster center,"
   ]
  },
  {
   "cell_type": "markdown",
   "metadata": {
    "slideshow": {
     "slide_type": "fragment"
    }
   },
   "source": [
    "so that the cost\n",
    "\n",
    "$$ \\sum_{i=1}^n \\min_j \\Vert x_i-c_j\\Vert^2_2 = \\sum_{j=1}^k \\sum_{x \\in X_j} \\Vert x - c_j \\Vert^2_2 $$\n",
    "\n",
    "is minimized."
   ]
  },
  {
   "cell_type": "markdown",
   "metadata": {
    "slideshow": {
     "slide_type": "slide"
    }
   },
   "source": [
    "We now have a <font color=\"blue\">formal</font> definition of a clustering.\n",
    "\n",
    "This is not the only definition possible, but it is an intuitive and simple one."
   ]
  },
  {
   "cell_type": "markdown",
   "metadata": {
    "slideshow": {
     "slide_type": "fragment"
    }
   },
   "source": [
    "How hard is it to solve this problem?\n",
    "\n",
    "* $k=1$ and $k=n$ are easy special cases (why?)\n",
    "* But, this problem is __NP-hard__ if the dimension of the data is at least 2\n",
    "    * We don't expect that there is any exact, efficient algorithm in general \n",
    "\n",
    "__Nonetheless,__ there is a simple algorithm that works quite well in practice!"
   ]
  },
  {
   "cell_type": "markdown",
   "metadata": {
    "slideshow": {
     "slide_type": "slide"
    }
   },
   "source": [
    "## The $k$-means Algorithm"
   ]
  },
  {
   "cell_type": "markdown",
   "metadata": {
    "slideshow": {
     "slide_type": "fragment"
    }
   },
   "source": [
    "There is a \"classic\" algorithm for this problem.\n",
    "\n",
    "It was voted among the __top-10 algorithms__ in data mining!\n",
    "\n",
    "It is such a good idea that it has been independently discovered multiple times.\n",
    "\n",
    "It was first discovered by Lloyd in 1957, so it is often called Lloyd's algorithm."
   ]
  },
  {
   "cell_type": "markdown",
   "metadata": {
    "slideshow": {
     "slide_type": "fragment"
    }
   },
   "source": [
    "It is called the \"$k$-means algorithm\"\n",
    "\n",
    "(not to be confused with the $k$-means problem!)"
   ]
  },
  {
   "cell_type": "markdown",
   "metadata": {
    "slideshow": {
     "slide_type": "-"
    }
   },
   "source": [
    "<center>\n",
    "    \n",
    "<img src=\"figs/L06-top-ten-algorithms-cover.png\" alt=\"Figure\" width=\"300px\">\n",
    "    \n",
    "</center>"
   ]
  },
  {
   "cell_type": "markdown",
   "metadata": {
    "slideshow": {
     "slide_type": "slide"
    }
   },
   "source": [
    "The $k$-means algorithm:\n",
    "\n",
    "1. Pick $k$ cluster centers $\\{c_1, \\dots, c_k\\}$.  These can be chosen randomly, or by some other method.\n",
    "2. For each $j$, define the cluster $X_j$ as the set of points in $X$ that are <font color=\"blue\">closest to center</font> $c_k$.  \n",
    "(Nearer to $c_k$ than to any other center.)\n",
    "3. For each $j$, let $c_j$ be <font color=\"blue\">the center of mass of cluster</font> $X_j$.  \n",
    "(In other words, $c_j$ is the mean of the vectors in $X_j$.)\n",
    "4. Repeat (ie, go to Step 2) until convergence."
   ]
  },
  {
   "cell_type": "markdown",
   "metadata": {
    "slideshow": {
     "slide_type": "fragment"
    }
   },
   "source": [
    "Let's see this in practice:"
   ]
  },
  {
   "cell_type": "markdown",
   "metadata": {},
   "source": [
    "<center>\n",
    "    \n",
    "<img src=\"figs/L06-kmeans-example.png\" alt=\"Figure\" width=\"600px\">\n",
    "    \n",
    "</center>"
   ]
  },
  {
   "cell_type": "markdown",
   "metadata": {
    "slideshow": {
     "slide_type": "slide"
    }
   },
   "source": [
    "## Limitations of $k$-means\n",
    "\n",
    "As you can see, $k$-means can work very well.\n",
    "\n",
    "However, we don't have any guarantees on the performance of $k$-means.\n",
    "\n",
    "In particular, there are various settings in which $k$-means can fail to do a good job."
   ]
  },
  {
   "cell_type": "markdown",
   "metadata": {
    "slideshow": {
     "slide_type": "fragment"
    }
   },
   "source": [
    "1. __$k$-means tries to find spherical clusters__.\n",
    "\n",
    "Because each point is assigned to its closest center, the points in a cluster are implicitly assumed to be arranged in a sphere around the center."
   ]
  },
  {
   "cell_type": "markdown",
   "metadata": {},
   "source": [
    "<center>\n",
    "    \n",
    "<img src=\"figs/L06-kmeans-nonspherical-clusters.png\" alt=\"Figure\" width=\"600px\">\n",
    "    \n",
    "</center>"
   ]
  },
  {
   "cell_type": "markdown",
   "metadata": {
    "slideshow": {
     "slide_type": "fragment"
    }
   },
   "source": [
    "2. __$k$-means tries to find equal-sized clusters.__\n",
    "\n",
    "For the same reason, the sizes of clusters are implicitly assumed to be approximately equal."
   ]
  },
  {
   "cell_type": "markdown",
   "metadata": {},
   "source": [
    "<center>\n",
    "    \n",
    "<img src=\"figs/L06-kmeans-cluster-size.png\" alt=\"Figure\" width=\"600px\">\n",
    "    \n",
    "</center>"
   ]
  },
  {
   "cell_type": "markdown",
   "metadata": {
    "slideshow": {
     "slide_type": "fragment"
    }
   },
   "source": [
    "3. __$k$-means is sensitive to the starting cluster centers.__\n",
    "\n",
    "If the initial guess (Step 1) is a bad one, $k$-means may get \"stuck\" in a bad solution.\n"
   ]
  },
  {
   "cell_type": "markdown",
   "metadata": {},
   "source": [
    "<center>\n",
    "    \n",
    "<img src=\"figs/L06-kmeans-bad-initialization.png\" alt=\"Figure\" width=\"600px\">\n",
    "    \n",
    "</center>"
   ]
  },
  {
   "cell_type": "markdown",
   "metadata": {
    "slideshow": {
     "slide_type": "slide"
    }
   },
   "source": [
    "### Choosing a Good Initialization"
   ]
  },
  {
   "cell_type": "markdown",
   "metadata": {},
   "source": [
    "How can we avoid the kind of bad initialization we just saw?\n",
    "\n",
    "A good strategy is to pick points that are distant to each other.\n",
    "\n",
    "This strategy is called \"$k$-means++\".  \n",
    "\n",
    "It works very well in practice, and the `scikit-learn` implementation uses it by default.\n",
    "\n",
    "(We will explore it in the next lecture.)"
   ]
  },
  {
   "cell_type": "markdown",
   "metadata": {
    "slideshow": {
     "slide_type": "slide"
    }
   },
   "source": [
    "### Choosing the right $k$\n",
    "\n",
    "Generally, we would say that, given some $k$, the $k$-means algorithm \"learns\" the cluster centers -- that is, the parameters of the model.\n",
    "\n",
    "But we have not yet considered how to choose the right number of clusters.\n",
    "\n",
    "That's typically __not__ something one knows in advance.\n",
    "\n",
    "As an aside:\n",
    "* This parameter ($k$) is the first example we have seen of a __hyperparameter__.\n",
    "* A hyperparameter is a parameter that must be set before the model parameters can be learned."
   ]
  },
  {
   "cell_type": "markdown",
   "metadata": {},
   "source": [
    "Our basic strategy will be to\n",
    "* Iterate through different $k$ and use some criterion to decide which $k$ is most appropriate.\n",
    "* We will discuss this more in the next lecture."
   ]
  },
  {
   "cell_type": "markdown",
   "metadata": {
    "slideshow": {
     "slide_type": "slide"
    }
   },
   "source": [
    "### Feature Scaling"
   ]
  },
  {
   "cell_type": "markdown",
   "metadata": {
    "slideshow": {
     "slide_type": "fragment"
    }
   },
   "source": [
    "Finally, given the tendency of $k$-means to look for spherical clusters, we should consider the scales of the various features.\n",
    "\n",
    "In fact, in general when constructing or selecting a distance metric, one needs to think carefully about the scale of the features being used."
   ]
  },
  {
   "cell_type": "markdown",
   "metadata": {
    "slideshow": {
     "slide_type": "fragment"
    }
   },
   "source": [
    "For example, consider the case where we are clustering people based on their age, income, and gender.\n",
    "\n",
    "We might use age in years, income in dollars, and assign gender to the values $\\{0, 1\\}$."
   ]
  },
  {
   "cell_type": "markdown",
   "metadata": {
    "slideshow": {
     "slide_type": "fragment"
    }
   },
   "source": [
    "Thus, the following records:\n",
    "\n",
    "* Joe Smith, age 27, income USD 75,000, male\n",
    "* Eve Jones, age 45, income USD 42,000, female\n",
    "\n",
    "Would be encoded in feature space as:\n",
    "\n",
    "$$\\begin{bmatrix}27\\\\75000\\\\0\\end{bmatrix},\\begin{bmatrix}45\\\\42000\\\\1\\end{bmatrix} $$"
   ]
  },
  {
   "cell_type": "markdown",
   "metadata": {
    "slideshow": {
     "slide_type": "fragment"
    }
   },
   "source": [
    "What would happen if we used Euclidean distance as our dissimilarity metric in this feature space?\n",
    "\n",
    "(This is what $k$-means uses.)"
   ]
  },
  {
   "cell_type": "markdown",
   "metadata": {
    "slideshow": {
     "slide_type": "fragment"
    }
   },
   "source": [
    "Clearly, the influence of income would dominate the other two features.  For example, a difference of gender is about as significant as a difference of one dollar of yearly income.\n",
    "\n",
    "We are unlikely to expose gender-based differences if we cluster using this representation."
   ]
  },
  {
   "cell_type": "markdown",
   "metadata": {
    "slideshow": {
     "slide_type": "fragment"
    }
   },
   "source": [
    "The most common way to handle this is __feature scaling.__\n",
    "\n",
    "The basic idea is to rescale each feature separately, so that its range of values is about the same as all other features."
   ]
  },
  {
   "cell_type": "markdown",
   "metadata": {
    "slideshow": {
     "slide_type": "fragment"
    }
   },
   "source": [
    "For example, one may choose to:\n",
    "    \n",
    "* shift each feature independently by subtracting the mean over all observed values\n",
    "    * This means that each feature is now centered on zero\n",
    "* then rescale each feature so that the standard deviation overall observed values is 1.\n",
    "    * This means that the feature will have about the same range of values as all the others."
   ]
  },
  {
   "cell_type": "markdown",
   "metadata": {
    "slideshow": {
     "slide_type": "fragment"
    }
   },
   "source": [
    "For example, let's work with Bortkiewicz's famous horse-kick data:"
   ]
  },
  {
   "cell_type": "code",
   "execution_count": 6,
   "metadata": {},
   "outputs": [
    {
     "data": {
      "text/plain": [
       "Year\n",
       "1875.0     3.0\n",
       "1876.0     5.0\n",
       "1877.0     7.0\n",
       "1878.0     9.0\n",
       "1879.0    10.0\n",
       "1880.0    18.0\n",
       "1881.0     6.0\n",
       "1882.0    14.0\n",
       "1883.0    11.0\n",
       "1884.0     9.0\n",
       "1885.0     5.0\n",
       "1886.0    11.0\n",
       "1887.0    15.0\n",
       "1888.0     6.0\n",
       "1889.0    11.0\n",
       "1890.0    17.0\n",
       "1891.0    12.0\n",
       "1892.0    15.0\n",
       "1893.0     8.0\n",
       "1894.0     4.0\n",
       "dtype: float64"
      ]
     },
     "execution_count": 6,
     "metadata": {},
     "output_type": "execute_result"
    }
   ],
   "source": [
    "# source: http://www.randomservices.org/random/data/HorseKicks.html\n",
    "import pandas as pd\n",
    "df = pd.read_table('data/HorseKicks.txt',index_col='Year',dtype='float')\n",
    "counts = df.sum(axis=1)\n",
    "counts"
   ]
  },
  {
   "cell_type": "code",
   "execution_count": 7,
   "metadata": {
    "slideshow": {
     "slide_type": "fragment"
    }
   },
   "outputs": [
    {
     "data": {
      "image/png": "[encoded data removed]",
      "text/plain": [
       "<Figure size 432x288 with 1 Axes>"
      ]
     },
     "metadata": {
      "image/png": {
       "height": 254,
       "width": 372
      },
      "needs_background": "light"
     },
     "output_type": "display_data"
    }
   ],
   "source": [
    "counts.hist(bins=25,xlabelsize=16);"
   ]
  },
  {
   "cell_type": "code",
   "execution_count": 8,
   "metadata": {},
   "outputs": [
    {
     "data": {
      "text/plain": [
       "9.8"
      ]
     },
     "execution_count": 8,
     "metadata": {},
     "output_type": "execute_result"
    }
   ],
   "source": [
    "counts.mean()"
   ]
  },
  {
   "cell_type": "markdown",
   "metadata": {
    "slideshow": {
     "slide_type": "fragment"
    }
   },
   "source": [
    "To standardize to zero mean and unit standard deviation, we can use tools from the `scikit-learn` library.\n",
    "\n",
    "(We will discuss scikit-learn more in upcoming lectures.)"
   ]
  },
  {
   "cell_type": "code",
   "execution_count": 9,
   "metadata": {
    "slideshow": {
     "slide_type": "fragment"
    }
   },
   "outputs": [
    {
     "data": {
      "image/png": "[encoded data removed]",
      "text/plain": [
       "<Figure size 432x288 with 1 Axes>"
      ]
     },
     "metadata": {
      "image/png": {
       "height": 269,
       "width": 377
      },
      "needs_background": "light"
     },
     "output_type": "display_data"
    }
   ],
   "source": [
    "from sklearn import preprocessing\n",
    "counts_scaled = pd.DataFrame(preprocessing.scale(counts))\n",
    "counts_scaled.hist(bins=25,xlabelsize=16);"
   ]
  },
  {
   "cell_type": "code",
   "execution_count": 10,
   "metadata": {},
   "outputs": [
    {
     "data": {
      "text/plain": [
       "array([-1.33226763e-16])"
      ]
     },
     "execution_count": 10,
     "metadata": {},
     "output_type": "execute_result"
    }
   ],
   "source": [
    "counts_scaled.mean().values"
   ]
  },
  {
   "cell_type": "markdown",
   "metadata": {
    "slideshow": {
     "slide_type": "fragment"
    }
   },
   "source": [
    "Notice that values that used to be zero have now become negative.\n",
    "\n",
    "In some situations it may not be sensible to change zeros into something else.  It may make more sense to map all values into a fixed range, for example $[0, 1]$."
   ]
  },
  {
   "cell_type": "code",
   "execution_count": 11,
   "metadata": {
    "slideshow": {
     "slide_type": "fragment"
    }
   },
   "outputs": [
    {
     "data": {
      "image/png": "[encoded data removed]",
      "text/plain": [
       "<Figure size 432x288 with 1 Axes>"
      ]
     },
     "metadata": {
      "image/png": {
       "height": 269,
       "width": 372
      },
      "needs_background": "light"
     },
     "output_type": "display_data"
    }
   ],
   "source": [
    "min_max_scaler = preprocessing.MinMaxScaler()\n",
    "counts_minmax = min_max_scaler.fit_transform(counts.values.reshape(-1,1))\n",
    "counts_minmax = pd.DataFrame(counts_minmax)\n",
    "counts_minmax.hist(bins=25,xlabelsize=16);"
   ]
  },
  {
   "cell_type": "markdown",
   "metadata": {
    "slideshow": {
     "slide_type": "slide"
    }
   },
   "source": [
    "__Example Output from k-means.__\n",
    "\n",
    "Here is a simple example of how $k$-means can be used for data compression.\n",
    "\n",
    "Consider the following image.  Each color in the image is represented by an integer.  Typically we might use 24 bits for each integer (8 bits for R, G, and B).\n"
   ]
  },
  {
   "cell_type": "markdown",
   "metadata": {
    "scrolled": true,
    "slideshow": {
     "slide_type": "fragment"
    }
   },
   "source": [
    "<center>\n",
    "    \n",
    "<img src=\"figs/L6-annie19980405.jpg\" alt=\"Figure\" width=\"350px\">\n",
    "    \n",
    "</center>"
   ]
  },
  {
   "cell_type": "markdown",
   "metadata": {
    "slideshow": {
     "slide_type": "fragment"
    }
   },
   "source": [
    "Now cluster the pixels by their color value, and replace each pixel by its cluster center.\n",
    "\n",
    "Because there are a smaller number of colors used, we can use fewer bits for each pixel."
   ]
  },
  {
   "cell_type": "markdown",
   "metadata": {
    "slideshow": {
     "slide_type": "fragment"
    }
   },
   "source": [
    "Here, we use 4 bits (16 colors) for a compression ratio around 6$\\times$."
   ]
  },
  {
   "cell_type": "markdown",
   "metadata": {
    "slideshow": {
     "slide_type": "-"
    }
   },
   "source": [
    "<center>\n",
    "    \n",
    "<img src=\"figs/L6-annie_016.png\" alt=\"Figure\" width=\"500px\">\n",
    "    \n",
    "</center>"
   ]
  },
  {
   "cell_type": "markdown",
   "metadata": {
    "slideshow": {
     "slide_type": "fragment"
    }
   },
   "source": [
    "Here, we use 3 bits (8 colors) for a compression ratio around 8$\\times$."
   ]
  },
  {
   "cell_type": "markdown",
   "metadata": {
    "slideshow": {
     "slide_type": "-"
    }
   },
   "source": [
    "<center>\n",
    "    \n",
    "<img src=\"figs/L6-annie_008.png\" alt=\"Figure\" width=\"500px\">\n",
    "    \n",
    "</center>"
   ]
  },
  {
   "cell_type": "markdown",
   "metadata": {
    "slideshow": {
     "slide_type": "fragment"
    }
   },
   "source": [
    "Here, we use 2 bits (4 colors) for a compression ratio around 12$\\times$."
   ]
  },
  {
   "cell_type": "markdown",
   "metadata": {
    "slideshow": {
     "slide_type": "-"
    }
   },
   "source": [
    "<center>\n",
    "    \n",
    "<img src=\"figs/L6-annie_004.png\" alt=\"Figure\" width=\"500px\">\n",
    "    \n",
    "</center>"
   ]
  },
  {
   "cell_type": "markdown",
   "metadata": {
    "slideshow": {
     "slide_type": "fragment"
    }
   },
   "source": [
    "Finally, we use 1 bit (2 colors) for a compression ratio around 24$\\times$."
   ]
  },
  {
   "cell_type": "markdown",
   "metadata": {
    "slideshow": {
     "slide_type": "-"
    }
   },
   "source": [
    "<center>\n",
    "    \n",
    "<img src=\"figs/L6-annie_002.png\" alt=\"Figure\" width=\"500px\">\n",
    "    \n",
    "</center>"
   ]
  }
 ],
 "metadata": {
  "anaconda-cloud": {},
  "celltoolbar": "Slideshow",
  "kernelspec": {
   "display_name": "Python 3",
   "language": "python",
   "name": "python3"
  },
  "language_info": {
   "codemirror_mode": {
    "name": "ipython",
    "version": 3
   },
   "file_extension": ".py",
   "mimetype": "text/x-python",
   "name": "python",
   "nbconvert_exporter": "python",
   "pygments_lexer": "ipython3",
   "version": "3.7.10"
  }
 },
 "nbformat": 4,
 "nbformat_minor": 1
}
