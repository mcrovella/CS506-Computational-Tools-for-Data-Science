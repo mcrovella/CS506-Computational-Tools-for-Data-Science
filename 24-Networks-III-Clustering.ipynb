{
 "cells": [
  {
   "cell_type": "markdown",
   "metadata": {
    "slideshow": {
     "slide_type": "slide"
    }
   },
   "source": [
    "# Clustering and Partitioning Nodes in Graphs"
   ]
  },
  {
   "cell_type": "code",
   "execution_count": 1,
   "metadata": {
    "slideshow": {
     "slide_type": "skip"
    }
   },
   "outputs": [
    {
     "ename": "ModuleNotFoundError",
     "evalue": "No module named 'networkx'",
     "output_type": "error",
     "traceback": [
      "\u001b[0;31m---------------------------------------------------------------------------\u001b[0m",
      "\u001b[0;31mModuleNotFoundError\u001b[0m                       Traceback (most recent call last)",
      "\u001b[0;32m/var/folders/d9/_sfhw3kd21dgyrgz6tbt45z80000gn/T/ipykernel_29720/3594075352.py\u001b[0m in \u001b[0;36m<module>\u001b[0;34m\u001b[0m\n\u001b[1;32m     11\u001b[0m \u001b[0;32mimport\u001b[0m \u001b[0mseaborn\u001b[0m \u001b[0;32mas\u001b[0m \u001b[0msns\u001b[0m\u001b[0;34m\u001b[0m\u001b[0;34m\u001b[0m\u001b[0m\n\u001b[1;32m     12\u001b[0m \u001b[0;32mfrom\u001b[0m \u001b[0msklearn\u001b[0m\u001b[0;34m.\u001b[0m\u001b[0mpreprocessing\u001b[0m \u001b[0;32mimport\u001b[0m \u001b[0mMinMaxScaler\u001b[0m\u001b[0;34m\u001b[0m\u001b[0;34m\u001b[0m\u001b[0m\n\u001b[0;32m---> 13\u001b[0;31m \u001b[0;32mimport\u001b[0m \u001b[0mnetworkx\u001b[0m \u001b[0;32mas\u001b[0m \u001b[0mnx\u001b[0m\u001b[0;34m\u001b[0m\u001b[0;34m\u001b[0m\u001b[0m\n\u001b[0m\u001b[1;32m     14\u001b[0m \u001b[0;32mfrom\u001b[0m \u001b[0mIPython\u001b[0m\u001b[0;34m.\u001b[0m\u001b[0mdisplay\u001b[0m \u001b[0;32mimport\u001b[0m \u001b[0mImage\u001b[0m\u001b[0;34m\u001b[0m\u001b[0;34m\u001b[0m\u001b[0m\n\u001b[1;32m     15\u001b[0m \u001b[0;32mfrom\u001b[0m \u001b[0mIPython\u001b[0m\u001b[0;34m.\u001b[0m\u001b[0mdisplay\u001b[0m \u001b[0;32mimport\u001b[0m \u001b[0mdisplay_html\u001b[0m\u001b[0;34m\u001b[0m\u001b[0;34m\u001b[0m\u001b[0m\n",
      "\u001b[0;31mModuleNotFoundError\u001b[0m: No module named 'networkx'"
     ]
    }
   ],
   "source": [
    "%matplotlib inline\n",
    "%config InlineBackend.figure_format='retina'\n",
    "# import libraries\n",
    "import numpy as np\n",
    "import matplotlib as mp\n",
    "import pandas as pd\n",
    "import matplotlib.pyplot as plt\n",
    "import pandas as pd\n",
    "from importlib import reload\n",
    "from datetime import datetime\n",
    "import seaborn as sns\n",
    "from sklearn.preprocessing import MinMaxScaler\n",
    "import networkx as nx\n",
    "from IPython.display import Image\n",
    "from IPython.display import display_html\n",
    "from IPython.display import display\n",
    "from IPython.display import Math\n",
    "from IPython.display import Latex\n",
    "from IPython.display import HTML\n",
    "import slideUtilities as sl\n",
    "print('')"
   ]
  },
  {
   "cell_type": "code",
   "execution_count": null,
   "metadata": {
    "slideshow": {
     "slide_type": "skip"
    }
   },
   "outputs": [],
   "source": [
    "%%html\n",
    "<style>\n",
    " .container.slides .celltoolbar, .container.slides .hide-in-slideshow {\n",
    "    display: None ! important;\n",
    "}\n",
    "</style>"
   ]
  },
  {
   "cell_type": "markdown",
   "metadata": {
    "slideshow": {
     "slide_type": "slide"
    }
   },
   "source": [
    "Today we'll return to the subject of clustering, but now we'll be looking at nodes of a graph."
   ]
  },
  {
   "cell_type": "markdown",
   "metadata": {
    "slideshow": {
     "slide_type": "fragment"
    }
   },
   "source": [
    "Why might we want to cluster graph nodes?\n",
    "\n",
    "* If graph nodes are our \"data objects\", then we might want to cluster them for all of the same reasons as we did for the case when data objects were simple records or tuples.\n",
    "* Even for simple records, a distance matrix can be interpreted as a weighted graph.\n",
    "* In social networks, we may want to identify communities.\n",
    "* In the Web, we may want to find groups of related pages."
   ]
  },
  {
   "cell_type": "markdown",
   "metadata": {
    "slideshow": {
     "slide_type": "fragment"
    }
   },
   "source": [
    "Outline:\n",
    "    \n",
    "1. k-core decomposition\n",
    "2. Min s-t cut\n",
    "3. Min cut\n",
    "4. Spectral graph partitioning"
   ]
  },
  {
   "cell_type": "markdown",
   "metadata": {
    "slideshow": {
     "slide_type": "slide"
    }
   },
   "source": [
    "## K-core Decomposition"
   ]
  },
  {
   "cell_type": "markdown",
   "metadata": {
    "slideshow": {
     "slide_type": "fragment"
    }
   },
   "source": [
    "The idea behind k-core decomposition is to find a subset of a graph that represents its \"core.\"\n",
    "\n",
    "These are considered to be well-connected nodes that form a subgraph.\n",
    "\n",
    "The subgraph may or may not be connected, but usually it is."
   ]
  },
  {
   "cell_type": "markdown",
   "metadata": {
    "slideshow": {
     "slide_type": "fragment"
    }
   },
   "source": [
    "To capture this ideal formally, we say that the __k-core__ of $G = (V,E)$ is a __subgraph__ $G_k$ of $G$ such that all nodes in $G_k$ have degree at least $k$."
   ]
  },
  {
   "cell_type": "markdown",
   "metadata": {
    "slideshow": {
     "slide_type": "fragment"
    }
   },
   "source": [
    "The core number of a node $n$ is $c(n)$ if $n$ is contained in the $c(n)$ core but not in the $c(n) + 1$ core."
   ]
  },
  {
   "cell_type": "markdown",
   "metadata": {
    "slideshow": {
     "slide_type": "fragment"
    }
   },
   "source": [
    "The set of all $k$-cores of a graph is its __$k$-core decomposition.__"
   ]
  },
  {
   "cell_type": "markdown",
   "metadata": {
    "slideshow": {
     "slide_type": "fragment"
    }
   },
   "source": [
    "In practice, there is a simple, intuitive way to compute the $k$ core decomposition of a graph.\n",
    "\n",
    "Start with a graph $G$ whose maximum degree is $m$.\n",
    "\n",
    "``\n",
    "for n in range(1,m):\n",
    "    remove all nodes of degree n\n",
    "        repeat above step until node nodes of degree n are left\n",
    "    all nodes removed form the n-core\n",
    "    ``"
   ]
  },
  {
   "cell_type": "code",
   "execution_count": null,
   "metadata": {
    "slideshow": {
     "slide_type": "fragment"
    }
   },
   "outputs": [],
   "source": [
    "G=nx.karate_club_graph()\n",
    "G = nx.Graph(G)\n",
    "np.random.seed(2)\n",
    "pos = nx.spring_layout(G)\n",
    "print('G has {} nodes and maximum degree {}'.format(len(G), max(nx.degree(G).values())))"
   ]
  },
  {
   "cell_type": "code",
   "execution_count": null,
   "metadata": {
    "slideshow": {
     "slide_type": "fragment"
    }
   },
   "outputs": [],
   "source": [
    "fig = plt.figure(figsize=(12,6))\n",
    "ax = plt.subplot(111)\n",
    "nx.draw_networkx(G, pos=pos, with_labels=True, node_size=1000, font_size=16, ax=ax)\n",
    "plt.axis('off');"
   ]
  },
  {
   "cell_type": "markdown",
   "metadata": {
    "slideshow": {
     "slide_type": "fragment"
    }
   },
   "source": [
    "Let's compute its $k$-core decomposition."
   ]
  },
  {
   "cell_type": "code",
   "execution_count": null,
   "metadata": {
    "slideshow": {
     "slide_type": "-"
    }
   },
   "outputs": [],
   "source": [
    "core_dec = nx.core_number(G)"
   ]
  },
  {
   "cell_type": "markdown",
   "metadata": {
    "slideshow": {
     "slide_type": "fragment"
    }
   },
   "source": [
    "Nodes with the same color are in the same $k$-shell:"
   ]
  },
  {
   "cell_type": "code",
   "execution_count": null,
   "metadata": {},
   "outputs": [],
   "source": [
    "fig = plt.figure(figsize=(12,6))\n",
    "ax = plt.subplot(111)\n",
    "colors = ['#d7191c', '#fdae61', '#ffffbf', '#abdda4', '#2b83ba']\n",
    "node_colors = [ colors[core_dec[v]] for v in G.nodes()]\n",
    "nx.draw_networkx(G, pos = pos, node_color=node_colors, \n",
    "                 with_labels=True, node_size=1000, font_size=16, ax=ax)\n",
    "plt.axis('off');"
   ]
  },
  {
   "cell_type": "markdown",
   "metadata": {
    "slideshow": {
     "slide_type": "slide"
    }
   },
   "source": [
    "## Min $s$-$t$ cut"
   ]
  },
  {
   "cell_type": "markdown",
   "metadata": {
    "slideshow": {
     "slide_type": "fragment"
    }
   },
   "source": [
    "Let us say we have a graph $G$ and two nodes in mind, $s$ and $t$.  \n",
    "\n",
    "We would like to isolate $s$ from $t$.  What is the cheapest way to do it?"
   ]
  },
  {
   "cell_type": "code",
   "execution_count": null,
   "metadata": {
    "slideshow": {
     "slide_type": "fragment"
    }
   },
   "outputs": [],
   "source": [
    "# Image credit: On the history of the transportation and maximum flow problems.\n",
    "# Alexander Schrijver in Math Programming, 91: 3, 2002.\n",
    "sl.hide_code_in_slideshow()\n",
    "display(Image(\"figs/L23-max-flow-soviet-rail-1955.png\", width=600))"
   ]
  },
  {
   "cell_type": "markdown",
   "metadata": {
    "slideshow": {
     "slide_type": "fragment"
    }
   },
   "source": [
    "A min $s$-$t$ cut problem is as follows.\n",
    "\n",
    "We are given a weighted graph $G = (V,E)$.\n",
    "\n",
    "An $s$-$t$ cut $C$ of $G$ is a partition of $V$ into $(U, V-U)$ such that $s \\in U$ and $t \\in V-U$."
   ]
  },
  {
   "cell_type": "markdown",
   "metadata": {
    "slideshow": {
     "slide_type": "fragment"
    }
   },
   "source": [
    "The __cost__ of a cut is the total weight of the edges that go between the two parts:\n",
    "\n",
    "$$ \\text{Cost}(C) = \\sum_{e(u,v), u\\in U, v\\in V-U} w(e)$$"
   ]
  },
  {
   "cell_type": "markdown",
   "metadata": {
    "slideshow": {
     "slide_type": "fragment"
    }
   },
   "source": [
    "This is a very famous problem that can be solved in time that is polynomial in $|V|$ and $|E|$. \n",
    "\n",
    "Increasingly better solutions have been found over the past 60+ years.  "
   ]
  },
  {
   "cell_type": "markdown",
   "metadata": {
    "slideshow": {
     "slide_type": "fragment"
    }
   },
   "source": [
    "Looking at the karate club, the two key members are numbers 0 and 33.   Let's look at that $s$-$t$ cut:"
   ]
  },
  {
   "cell_type": "code",
   "execution_count": null,
   "metadata": {
    "slideshow": {
     "slide_type": "fragment"
    }
   },
   "outputs": [],
   "source": [
    "cut_edges = nx.minimum_edge_cut(G, s=0, t=33)\n",
    "cut_edges"
   ]
  },
  {
   "cell_type": "code",
   "execution_count": null,
   "metadata": {
    "scrolled": false,
    "slideshow": {
     "slide_type": "fragment"
    }
   },
   "outputs": [],
   "source": [
    "Gcopy = G.copy()\n",
    "Gcopy.remove_edges_from(cut_edges)\n",
    "fig = plt.figure(figsize=(12,6))\n",
    "np.random.seed(17)\n",
    "nx.draw_networkx(Gcopy, with_labels='True', node_size=1000, font_size=16)\n",
    "plt.axis('off');"
   ]
  },
  {
   "cell_type": "code",
   "execution_count": null,
   "metadata": {
    "slideshow": {
     "slide_type": "fragment"
    }
   },
   "outputs": [],
   "source": [
    "cc = nx.connected_components(Gcopy)\n",
    "node_set = {node: i for i, s in enumerate(cc) for node in s}\n",
    "colors = ['#d7191c', '#2b83ba']\n",
    "node_colors = [ colors[node_set[v]-1] for v in G.nodes()]\n",
    "fig = plt.figure(figsize=(12,6))\n",
    "nx.draw_networkx(G, node_color=node_colors, pos=pos, \n",
    "                 with_labels='True', node_size=1000, font_size=16)\n",
    "plt.axis('off');"
   ]
  },
  {
   "cell_type": "markdown",
   "metadata": {
    "slideshow": {
     "slide_type": "fragment"
    }
   },
   "source": [
    "In fact, when Wayne Zachary studied the club, a conflict arose between the instructor and the president (nodes 0 and 33).  \n",
    "\n",
    "Zachary predicted the way the club would split based on an $s$-$t$ min cut.   \n",
    "\n",
    "In fact, he predicted every single member's eventual association accurately except for node 8!"
   ]
  },
  {
   "cell_type": "markdown",
   "metadata": {
    "slideshow": {
     "slide_type": "slide"
    }
   },
   "source": [
    "## Minimum Cuts"
   ]
  },
  {
   "cell_type": "markdown",
   "metadata": {
    "slideshow": {
     "slide_type": "fragment"
    }
   },
   "source": [
    "Now, in partitioning a graph, we may not have any particular $s$ and $t$ in mind.  \n",
    "\n",
    "Rather, we may want to simply find the \"cheapest\" way to disconnect the graph.\n",
    "\n",
    "Clearly, we can do this using $s$-$t$ min cut, by simply trying all $s$ and $t$ pairs."
   ]
  },
  {
   "cell_type": "code",
   "execution_count": null,
   "metadata": {
    "slideshow": {
     "slide_type": "fragment"
    }
   },
   "outputs": [],
   "source": [
    "sl.hide_code_in_slideshow()\n",
    "display(Image(\"figs/L23-min-cut.png\", width=400))"
   ]
  },
  {
   "cell_type": "code",
   "execution_count": null,
   "metadata": {
    "slideshow": {
     "slide_type": "fragment"
    }
   },
   "outputs": [],
   "source": [
    "Gcopy = G.copy()\n",
    "Gcopy.remove_edges_from(nx.minimum_edge_cut(G))\n",
    "cc = nx.connected_components(Gcopy)\n",
    "node_set = {node: i for i, s in enumerate(cc) for node in s}"
   ]
  },
  {
   "cell_type": "code",
   "execution_count": null,
   "metadata": {
    "slideshow": {
     "slide_type": "fragment"
    }
   },
   "outputs": [],
   "source": [
    "colors = ['#d7191c', '#2b83ba']\n",
    "node_colors = [colors[node_set[v]] for v in G]\n",
    "fig = plt.figure(figsize=(12,6))\n",
    "nx.draw_networkx(G, node_color=node_colors, pos=pos, with_labels='True', \n",
    "                 node_size=1000, font_size=16)\n",
    "plt.axis('off');"
   ]
  },
  {
   "cell_type": "markdown",
   "metadata": {
    "slideshow": {
     "slide_type": "fragment"
    }
   },
   "source": [
    "This is in fact the minimum cut: node 11 only has one edge to the rest of the graph, so the min cut is 1.\n",
    "\n",
    "However this is not a good approach for clustering or partitioning in general -- we need to adjust our definition."
   ]
  },
  {
   "cell_type": "markdown",
   "metadata": {
    "slideshow": {
     "slide_type": "fragment"
    }
   },
   "source": [
    "__Isoperimetric Number.__\n",
    "\n",
    "The idea to avoid the problem above is to normalize the cut by the size of the smaller of the two components.\n",
    "\n",
    "The problem above would be avoided because the smaller of the two cuts is just a single node."
   ]
  },
  {
   "cell_type": "markdown",
   "metadata": {
    "slideshow": {
     "slide_type": "fragment"
    }
   },
   "source": [
    "This leads us to define the __isoperimetric ratio__:\n",
    "    \n",
    "$$ \\alpha = \\frac{E(U, V\\setminus U)}{\\min(|U|, |V\\setminus U|)} $$"
   ]
  },
  {
   "cell_type": "markdown",
   "metadata": {
    "slideshow": {
     "slide_type": "fragment"
    }
   },
   "source": [
    "And the __isoperimetric number of G:__\n",
    "    \n",
    "$$ \\alpha(G) = \\min_U \\frac{E(U, V\\setminus U)}{\\min(|U|, |V\\setminus U|)} $$"
   ]
  },
  {
   "cell_type": "markdown",
   "metadata": {
    "slideshow": {
     "slide_type": "fragment"
    }
   },
   "source": [
    "The idea is that finding $\\alpha(G)$ gives a _balanced cut_ -- one that maximizes the number of disconnected nodes per edge removed."
   ]
  },
  {
   "cell_type": "markdown",
   "metadata": {
    "slideshow": {
     "slide_type": "fragment"
    }
   },
   "source": [
    "How easily can we compute this?  \n",
    "\n",
    "Unfortunately, it's not computable in polynomial time.\n",
    "\n",
    "However, we can make good approximations, which we'll look at now."
   ]
  },
  {
   "cell_type": "markdown",
   "metadata": {
    "slideshow": {
     "slide_type": "skip"
    }
   },
   "source": [
    "For every $U \\subset V$, $\\alpha(G) \\geq \\lambda_2 (1-s)$ where $s = |U|/|V|$."
   ]
  },
  {
   "cell_type": "markdown",
   "metadata": {
    "slideshow": {
     "slide_type": "slide"
    }
   },
   "source": [
    "## Graph spectral analysis"
   ]
  },
  {
   "cell_type": "markdown",
   "metadata": {
    "slideshow": {
     "slide_type": "fragment"
    }
   },
   "source": [
    "To study approximations to balanced cuts, we introduce some terms."
   ]
  },
  {
   "cell_type": "markdown",
   "metadata": {
    "slideshow": {
     "slide_type": "fragment"
    }
   },
   "source": [
    "For a graph $G$ with adjacency matrix $A$, we define the graph __Laplacian__ as:\n",
    "\n",
    "$$ L = D - A $$\n",
    "\n",
    "where $D$ is a diagonal matrix with node degrees on the diagonal.\n",
    "\n",
    "I.e., $D = \\text{diag}(d_1, d_2, d_3, \\dots)$ where $d_i$ is the degree of node $i$."
   ]
  },
  {
   "cell_type": "markdown",
   "metadata": {
    "slideshow": {
     "slide_type": "fragment"
    }
   },
   "source": [
    "The Laplacian $L$ is symmetric and positive semi-definite.\n",
    "\n",
    "All eigenvalues of $L$ are real and nonnegative."
   ]
  },
  {
   "cell_type": "markdown",
   "metadata": {
    "slideshow": {
     "slide_type": "fragment"
    }
   },
   "source": [
    "$L$ has a single eigenvalue of value $\\lambda_1 = 0$.   The corresponding eigenvector is $w_1 = (1, 1, 1, \\dots)^T$.\n",
    "\n",
    "This is easily seen:\n",
    "\n",
    "$$L{\\mathbf 1}={\\mathbf 0}.$$\n",
    "\n",
    "(Row $i$ of $L$ consists of $d_i$ on the diagonal, and $d_i$ -1s in other positions.)"
   ]
  },
  {
   "cell_type": "markdown",
   "metadata": {
    "slideshow": {
     "slide_type": "fragment"
    }
   },
   "source": [
    "An important fact about the Laplacian is this:\n",
    "    \n",
    "The quadratic form\n",
    "\n",
    "$$ x^TLx$$\n",
    "\n",
    "is exactly the same as\n",
    "\n",
    "$$  \\sum_{(i,j)\\in E} (x_i - x_j)^2 $$"
   ]
  },
  {
   "cell_type": "markdown",
   "metadata": {
    "slideshow": {
     "slide_type": "fragment"
    }
   },
   "source": [
    "The second-smallest eigenvalue of $L$ is $\\lambda_2$, called the __Fiedler value.__\n",
    "\n",
    "We know that all of the other eigenvectors of $L$ are orthogonal to $\\mathbf 1$, because $L$ is symmetric.\n",
    "\n",
    "Now, another definition of the second smallest eigenvalue is: $$\\lambda_2 = \\min_{\\Vert x\\Vert = 1, x\\perp {\\mathbf 1}} x^TLx$$\n",
    "\n",
    "Note that another way of saying that $x \\perp {\\mathbf 1}$ is that the entries of $x$ sum to 0."
   ]
  },
  {
   "cell_type": "markdown",
   "metadata": {
    "slideshow": {
     "slide_type": "fragment"
    }
   },
   "source": [
    "The corresponding eigenvector is called the __Fiedler vector.__\n",
    "\n",
    "It minimizes:\n",
    "\n",
    "$$w_2 = \\arg \\min_{\\Vert x\\Vert=1,x\\perp {\\mathbf 1}} \\sum_{(i,j)\\in E} (x_i - x_j)^2$$"
   ]
  },
  {
   "cell_type": "markdown",
   "metadata": {
    "slideshow": {
     "slide_type": "fragment"
    }
   },
   "source": [
    "Let's look at this closely: \n",
    "\n",
    "if we think of $x_i$ as a \"coordinate\" for node $i$ in the graph, \n",
    "\n",
    "then choosing $x = w_2$ (the eigenvector of $\\lambda_2$) puts each node in a position that minimizes the sum of the \"stretching\" of each edge."
   ]
  },
  {
   "cell_type": "markdown",
   "metadata": {
    "slideshow": {
     "slide_type": "fragment"
    }
   },
   "source": [
    "This is exactly the \"spring\" layout that we previously discussed, but in only one dimension.  \n",
    "\n",
    "Recall that the spring layout was time consuming to compute in multiple dimensions, but it turns out to have this elegant, closed form in one dimension."
   ]
  },
  {
   "cell_type": "markdown",
   "metadata": {
    "slideshow": {
     "slide_type": "fragment"
    }
   },
   "source": [
    "So $w_2$ will group strongly-connected nodes together."
   ]
  },
  {
   "cell_type": "markdown",
   "metadata": {
    "slideshow": {
     "slide_type": "fragment"
    }
   },
   "source": [
    "This leads to key ideas in node partitioning.\n",
    "\n",
    "The basic idea is to partition nodes according to the Fiedler vector ($w_2$).\n",
    "\n",
    "This can be shown to have provably good performance for the __balanced cut__ problem."
   ]
  },
  {
   "cell_type": "markdown",
   "metadata": {
    "slideshow": {
     "slide_type": "fragment"
    }
   },
   "source": [
    "There are a number of options for how to split based on the Fiedler vector.\n",
    "\n",
    "If $w_2$ is the Fiedler vector, then split nodes according to a value $s$:\n",
    "    \n",
    "* bisection: $s$ is the median value in $w_2$\n",
    "* ratio cut: $s$ is the value that maximizes $\\alpha$\n",
    "* sign: separate positive and negative vaues ($s = 0$)\n",
    "* gap: separate according to the largest gap in the values of $w_2$"
   ]
  },
  {
   "cell_type": "markdown",
   "metadata": {
    "slideshow": {
     "slide_type": "slide"
    }
   },
   "source": [
    "### Spectral Partitioning of the Karate-club Graph"
   ]
  },
  {
   "cell_type": "code",
   "execution_count": null,
   "metadata": {
    "slideshow": {
     "slide_type": "fragment"
    }
   },
   "outputs": [],
   "source": [
    "G=nx.karate_club_graph()\n",
    "G = nx.Graph(G)"
   ]
  },
  {
   "cell_type": "code",
   "execution_count": null,
   "metadata": {
    "slideshow": {
     "slide_type": "fragment"
    }
   },
   "outputs": [],
   "source": [
    "f = nx.fiedler_vector(G)\n",
    "f"
   ]
  },
  {
   "cell_type": "code",
   "execution_count": null,
   "metadata": {
    "slideshow": {
     "slide_type": "fragment"
    }
   },
   "outputs": [],
   "source": [
    "s = np.zeros(len(f),dtype='int')\n",
    "s[f>0]=1\n",
    "print(s, type(s))"
   ]
  },
  {
   "cell_type": "code",
   "execution_count": null,
   "metadata": {
    "slideshow": {
     "slide_type": "fragment"
    }
   },
   "outputs": [],
   "source": [
    "fig = plt.figure(figsize=(12,6))\n",
    "colors = ['#d7191c', '#2b83ba']\n",
    "node_colors = [colors[s[v]] for v in G]\n",
    "nx.draw_networkx(G, pos=pos, node_color=node_colors, with_labels='True',\n",
    "        node_size=1000, font_size=16)\n",
    "plt.axis('off');"
   ]
  },
  {
   "cell_type": "markdown",
   "metadata": {},
   "source": [
    "Interestingly, this is almost the same as the $s$-$t$ min cut  based on the president and instructor!"
   ]
  },
  {
   "cell_type": "markdown",
   "metadata": {
    "slideshow": {
     "slide_type": "slide"
    }
   },
   "source": [
    "### Exploring  a union of noisy cliques"
   ]
  },
  {
   "cell_type": "code",
   "execution_count": null,
   "metadata": {
    "slideshow": {
     "slide_type": "fragment"
    }
   },
   "outputs": [],
   "source": [
    "from numpy.random import RandomState\n",
    "\n",
    "def generate_noisy_subcliques(nodes_per_clique, inside_p, across_p, min_node_label=0, seed=None):\n",
    "    \"\"\"Generates a graph which consists of small cliques connected with each other.\n",
    "    The noise within a clique and across cliques can be set by the `inside_p` and \n",
    "    `across_p` parameters respectively.   This is also called a \"stochastic block model.\"\n",
    "    \n",
    "    \n",
    "    Parameters\n",
    "    ----------\n",
    "    nodes_per_clique : list\n",
    "        The size of this list corresponds to the number of cliques that will be\n",
    "        generated. The value of each element will be the size of the corresponding \n",
    "        clique.\n",
    "        \n",
    "    inside_p : float\n",
    "        The probability of an edge inside a clique. The higher this number, the more \n",
    "        each clique will resemble a fully connected graph.\n",
    "        \n",
    "    across_p : float\n",
    "        The probability of an edge across cliques.\n",
    "        \n",
    "    min_node_label : int, default is 0\n",
    "        The minimum node label of the graph.\n",
    "        \n",
    "    seed : int, default is None\n",
    "        The seed to the pseudorandom number generator.\n",
    "        \n",
    "    \n",
    "    Returns\n",
    "    -------\n",
    "    G : networkX graph\n",
    "        The generated graph.\n",
    "    \"\"\"\n",
    "\n",
    "    prng = RandomState(seed)\n",
    "    clique_list = []\n",
    "    number_of_cliques = len(nodes_per_clique)\n",
    "\n",
    "    # Make the independent cliques\n",
    "    starting_node = min_node_label\n",
    "    for clique in range(number_of_cliques):\n",
    "        G = nx.Graph()\n",
    "        for u in range(starting_node, starting_node + nodes_per_clique[clique]):\n",
    "            for v in range(u + 1, starting_node + nodes_per_clique[clique]):\n",
    "                if prng.rand() < inside_p:\n",
    "                    G.add_edge(u, v)\n",
    "        clique_list.append(G)\n",
    "        starting_node += nodes_per_clique[clique]\n",
    "\n",
    "    # Combine them in one graph\n",
    "    G = nx.Graph()\n",
    "    for clique in range(number_of_cliques):\n",
    "        G.add_edges_from(clique_list[clique].edges())\n",
    "\n",
    "    # Connect edges across the cliques\n",
    "    for i in range(number_of_cliques):\n",
    "        clique_from = clique_list[i]\n",
    "        for j in range(i + 1, number_of_cliques):\n",
    "            clique_to = clique_list[j]\n",
    "            for u in clique_from.nodes():\n",
    "                for v in clique_to.nodes():\n",
    "                    if prng.rand() < across_p:\n",
    "                        G.add_edge(u, v)\n",
    "    return G\n"
   ]
  },
  {
   "cell_type": "code",
   "execution_count": null,
   "metadata": {
    "slideshow": {
     "slide_type": "fragment"
    }
   },
   "outputs": [],
   "source": [
    "nodes_per_clique = [10, 10, 10]\n",
    "across_p = 0.05\n",
    "inside_p = 0.9\n",
    "cliques = generate_noisy_subcliques(nodes_per_clique, inside_p, across_p, seed=2)\n",
    "nx.draw_networkx(cliques, with_labels=True)\n",
    "plt.axis('off');"
   ]
  },
  {
   "cell_type": "code",
   "execution_count": null,
   "metadata": {
    "slideshow": {
     "slide_type": "fragment"
    }
   },
   "outputs": [],
   "source": [
    "f = nx.fiedler_vector(cliques)\n",
    "f"
   ]
  },
  {
   "cell_type": "code",
   "execution_count": null,
   "metadata": {
    "slideshow": {
     "slide_type": "fragment"
    }
   },
   "outputs": [],
   "source": [
    "s = np.zeros(len(f),dtype='int')\n",
    "s[f>0]=1\n",
    "print(s, type(s))"
   ]
  },
  {
   "cell_type": "code",
   "execution_count": null,
   "metadata": {
    "slideshow": {
     "slide_type": "fragment"
    }
   },
   "outputs": [],
   "source": [
    "colors = ['#d7191c', '#2b83ba', '#3c924b']\n",
    "node_colors = [colors[s[v]] for v in cliques.nodes()]\n",
    "nx.draw_networkx(cliques, node_color=node_colors, with_labels='True')\n",
    "plt.axis('off');"
   ]
  },
  {
   "cell_type": "markdown",
   "metadata": {
    "slideshow": {
     "slide_type": "slide"
    }
   },
   "source": [
    "## Spectral Clustering"
   ]
  },
  {
   "cell_type": "markdown",
   "metadata": {
    "slideshow": {
     "slide_type": "fragment"
    }
   },
   "source": [
    "In many cases we would like to move beyond graph partitioning, to allow for clustering into $k$ clusters."
   ]
  },
  {
   "cell_type": "markdown",
   "metadata": {
    "slideshow": {
     "slide_type": "fragment"
    }
   },
   "source": [
    "The idea of spectral clustering takes the observations about the Fiedler vector and extends them to more than one dimension."
   ]
  },
  {
   "cell_type": "markdown",
   "metadata": {
    "slideshow": {
     "slide_type": "fragment"
    }
   },
   "source": [
    "The basic idea is: \n",
    "* use enough of the smallest eigenvectors to properly \"spread out\" the nodes\n",
    "* cluster the nodes in the space created by this embedding."
   ]
  },
  {
   "cell_type": "markdown",
   "metadata": {
    "slideshow": {
     "slide_type": "fragment"
    }
   },
   "source": [
    "More specifically: Given a graph $G$:\n",
    "\n",
    "* Compute $L$, the Laplacian of $G$\n",
    "* Compute the smallest $k$ eigenvectors of $L$, excluding the smallest (the ones vector)\n",
    "* Let $U \\in R^{n\\times k}$ be the matrix containing the eigenvectors $w_2, w_3, \\dots, w_{k+1}$ as columns\n",
    "* Let the position of each node $i$ be the point in $R^k$ given by row $i$ of $U$\n",
    "* Cluster the points into $k$ clusters using $k$-means"
   ]
  },
  {
   "cell_type": "code",
   "execution_count": null,
   "metadata": {
    "slideshow": {
     "slide_type": "fragment"
    }
   },
   "outputs": [],
   "source": [
    "L = nx.laplacian_matrix(cliques).todense()\n",
    "w, v = np.linalg.eig(L)\n",
    "v = np.array(v) @ np.diag(w)\n",
    "worder = np.argsort(w)\n",
    "print(w[worder])"
   ]
  },
  {
   "cell_type": "code",
   "execution_count": null,
   "metadata": {
    "slideshow": {
     "slide_type": "fragment"
    }
   },
   "outputs": [],
   "source": [
    "colors = ['#d7191c', '#2b83ba']\n",
    "node_colors = [colors[s[v]] for v in cliques.nodes()]\n",
    "Lpos = {i: np.array([f[0], f[1]]) for i, f in enumerate(zip(v[:,worder[1]], v[:,worder[2]]))}\n",
    "nx.draw_networkx(cliques, with_labels='True', pos=Lpos)\n",
    "plt.axis('off');"
   ]
  },
  {
   "cell_type": "code",
   "execution_count": null,
   "metadata": {
    "slideshow": {
     "slide_type": "fragment"
    }
   },
   "outputs": [],
   "source": [
    "print (v.shape, w.shape)\n",
    "worder = np.argsort(w)\n",
    "X = v @ np.diag(w)\n",
    "X = X[:,worder]\n",
    "print(w)"
   ]
  },
  {
   "cell_type": "code",
   "execution_count": null,
   "metadata": {
    "slideshow": {
     "slide_type": "fragment"
    }
   },
   "outputs": [],
   "source": [
    "from sklearn.cluster import KMeans\n",
    "kmeans = KMeans(init='k-means++', n_clusters=3, n_init=10)\n",
    "kmeans.fit_predict(X[:,1:3])\n",
    "centroids = kmeans.cluster_centers_\n",
    "labels = kmeans.labels_\n",
    "error = kmeans.inertia_"
   ]
  },
  {
   "cell_type": "code",
   "execution_count": null,
   "metadata": {
    "slideshow": {
     "slide_type": "fragment"
    }
   },
   "outputs": [],
   "source": [
    "colors = ['#d7191c', '#ffffbf', '#2b83ba', 'black']\n",
    "node_colors = [colors[labels[v]] for v in cliques]\n",
    "nx.draw_networkx(cliques, node_color=node_colors, \n",
    "                 with_labels='True', pos=Lpos)\n",
    "plt.axis('off');"
   ]
  },
  {
   "cell_type": "markdown",
   "metadata": {
    "slideshow": {
     "slide_type": "slide"
    }
   },
   "source": [
    "Let's perform spectral clustering on the karate club:"
   ]
  },
  {
   "cell_type": "code",
   "execution_count": null,
   "metadata": {
    "slideshow": {
     "slide_type": "-"
    }
   },
   "outputs": [],
   "source": [
    "# Here is a complete example of spectral clustering\n",
    "#\n",
    "# The number of clusters\n",
    "k = 2\n",
    "#\n",
    "# Obtain the graph\n",
    "G = nx.karate_club_graph()\n",
    "G = nx.Graph(G)\n",
    "#\n",
    "# Compute the eigenvectors of its Laplacian\n",
    "L = nx.laplacian_matrix(G).todense()\n",
    "w, v = np.linalg.eig(L)\n",
    "v = np.array(v)\n",
    "# \n",
    "# scale each eigenvector by its eigenvalue\n",
    "X = v @ np.diag(w)\n",
    "#\n",
    "# consider the eigenvectors in increasing order of their eigenvalues\n",
    "worder = np.argsort(w)\n",
    "X = X[:,worder]\n",
    "#\n",
    "# run kmeans using k top eigenvectors as coordinates\n",
    "kmeans = KMeans(init='k-means++', n_clusters=k, n_init=10)\n",
    "kmeans.fit_predict(X[:,1:(k+1)])\n",
    "centroids = kmeans.cluster_centers_\n",
    "labels = kmeans.labels_\n",
    "error = kmeans.inertia_\n",
    "#\n",
    "# visualize the result\n",
    "colors = ['#d7191c', '#ffffbf', '#2b83ba', 'black', 'green']\n",
    "node_colors = [colors[labels[v]] for v in G]\n",
    "np.random.seed(2)\n",
    "pos = nx.spring_layout(G)\n",
    "#\n",
    "# to understand these results, try plotting what kmeans 'sees'\n",
    "# pos = {i: np.array([f[0], f[1]]) for i, f in enumerate(zip(v[:,worder[1]], v[:,worder[2]]))}\n",
    "fig = plt.figure(figsize=(12,6))\n",
    "nx.draw_networkx(G, node_color=node_colors, with_labels='True', \n",
    "        pos=pos, node_size=1000, font_size=16)\n",
    "plt.axis('off');"
   ]
  }
 ],
 "metadata": {
  "anaconda-cloud": {},
  "celltoolbar": "Slideshow",
  "kernelspec": {
   "display_name": "Python 3 (ipykernel)",
   "language": "python",
   "name": "python3"
  },
  "language_info": {
   "codemirror_mode": {
    "name": "ipython",
    "version": 3
   },
   "file_extension": ".py",
   "mimetype": "text/x-python",
   "name": "python",
   "nbconvert_exporter": "python",
   "pygments_lexer": "ipython3",
   "version": "3.9.7"
  },
  "rise": {
   "scroll": true,
   "theme": "beige"
  }
 },
 "nbformat": 4,
 "nbformat_minor": 1
}
