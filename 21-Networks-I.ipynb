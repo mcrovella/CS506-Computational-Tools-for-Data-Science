{
 "cells": [
  {
   "cell_type": "code",
   "execution_count": 7,
   "metadata": {
    "hide_input": true,
    "slideshow": {
     "slide_type": "skip"
    },
    "tags": [
     "hide-input"
    ]
   },
   "outputs": [],
   "source": [
    "import numpy as np\n",
    "import scipy as sp\n",
    "import matplotlib.pyplot as plt\n",
    "import pandas as pd\n",
    "import seaborn as sns\n",
    "import matplotlib as mp\n",
    "import sklearn\n",
    "from IPython.display import Image, HTML\n",
    "\n",
    "import laUtilities as ut\n",
    "\n",
    "%matplotlib inline"
   ]
  },
  {
   "cell_type": "markdown",
   "metadata": {
    "slideshow": {
     "slide_type": "slide"
    }
   },
   "source": [
    "# Intoduction to Networks"
   ]
  },
  {
   "cell_type": "markdown",
   "metadata": {
    "slideshow": {
     "slide_type": "fragment"
    }
   },
   "source": [
    "Now we will encounter a new kind of data: __networks__, also called __graphs.__\n",
    "\n",
    "(We're going to use the two terms interchangeably)."
   ]
  },
  {
   "cell_type": "markdown",
   "metadata": {
    "slideshow": {
     "slide_type": "slide"
    }
   },
   "source": [
    "## Basic Definitions"
   ]
  },
  {
   "cell_type": "markdown",
   "metadata": {
    "slideshow": {
     "slide_type": "fragment"
    }
   },
   "source": [
    "A graph is a pair $(V, E)$ where $V$ is a set of __vertices__ and $E$ is a set of vertex pairs called __edges.__\n",
    "\n",
    "We'll also use the term __nodes__ for vertices,\n",
    "\n",
    "and we'll use the term __links__ for edges."
   ]
  },
  {
   "cell_type": "markdown",
   "metadata": {
    "slideshow": {
     "slide_type": "fragment"
    }
   },
   "source": [
    "We'll distinguish between __undirected__ graphs and __directed__ graphs.\n",
    "\n",
    "In an underdirected graph, an edge $(u, v)$ is an unordered pair.  The edge $(v, u)$ is the same thing.\n",
    "\n",
    "In a directed graph, $(u, v)$ is an ordered pair, and it is different from $(v, u)$."
   ]
  },
  {
   "cell_type": "markdown",
   "metadata": {},
   "source": [
    "((Visual examples of directed and undirected using networkx.))"
   ]
  },
  {
   "cell_type": "markdown",
   "metadata": {},
   "source": [
    "A __path__ in a graph from $u$ to $v$ is a sequence of edges that starts at $u$ and ends at $v$.\n",
    "\n",
    "In a directed graph, all of the edges in a path need to be oriented head-to-tail.\n",
    "\n",
    "If there is a path from $u$ to $v$, we say that $v$ is __reachable__ from $u$."
   ]
  },
  {
   "cell_type": "markdown",
   "metadata": {},
   "source": [
    "((examples))"
   ]
  },
  {
   "cell_type": "markdown",
   "metadata": {},
   "source": [
    "### Degree"
   ]
  },
  {
   "cell_type": "markdown",
   "metadata": {},
   "source": [
    "The __degree__ of a node is the number of edges it has."
   ]
  },
  {
   "cell_type": "markdown",
   "metadata": {},
   "source": [
    "In a directed graph, we distinguish between:\n",
    "* __in-degree__: the number of incoming edges to the node\n",
    "* __out-degree__: the number of outgoing edges to the node"
   ]
  },
  {
   "cell_type": "markdown",
   "metadata": {},
   "source": [
    "The __neighbors__ of a node are the nodes to which it is connected.\n",
    "\n",
    "So the degree of a node is the number of neighbors it has."
   ]
  },
  {
   "cell_type": "markdown",
   "metadata": {},
   "source": [
    "Node that in a network with $n$ nodes and $e$ edges, the average node degree is $2e/n$.  \n",
    "\n",
    "Make sure that this is obvious to you!"
   ]
  },
  {
   "cell_type": "markdown",
   "metadata": {},
   "source": [
    "### Connectivity"
   ]
  },
  {
   "cell_type": "markdown",
   "metadata": {},
   "source": [
    "The first question to ask about a graph is: is it __connected__?\n",
    "\n",
    "In a connected graph, for each pair of nodes $(u, v)$, either $u$ is reachable from $v$, or vice-versa."
   ]
  },
  {
   "cell_type": "markdown",
   "metadata": {},
   "source": [
    "((examples))"
   ]
  },
  {
   "cell_type": "markdown",
   "metadata": {},
   "source": [
    "If the graph is not connected, it may contain __connected components__.   \n",
    "\n",
    "A connected component is a subgraph that is connected."
   ]
  },
  {
   "cell_type": "markdown",
   "metadata": {},
   "source": [
    "In a directed graph, we can also ask if it is __strongly connected.__\n",
    "\n",
    "A graph is strongly connected if there is a (directed) path between any two nodes.\n",
    "\n",
    "That is, any node is reachable from any other node."
   ]
  },
  {
   "cell_type": "markdown",
   "metadata": {},
   "source": [
    "Within a directed graph, only a subset of nodes may be strongly connected.\n",
    "\n",
    "These are called the __strongly connected component__ (SCC)."
   ]
  },
  {
   "cell_type": "markdown",
   "metadata": {},
   "source": [
    "## Characterizing Graphs"
   ]
  },
  {
   "cell_type": "markdown",
   "metadata": {},
   "source": [
    "When you first start working with a network, there are some basic questions that are very helpful to ask.\n",
    "\n",
    "It is helpful to characterize the degrees, components, and other structures in the graph."
   ]
  },
  {
   "cell_type": "markdown",
   "metadata": {},
   "source": [
    "### Degree Distributions"
   ]
  },
  {
   "cell_type": "markdown",
   "metadata": {},
   "source": [
    "Understanding connectivity starts with asking about observed degrees in the graph.\n",
    "\n",
    "This is captured in the __degree distribution.__\n",
    "\n",
    "$$ P[D > x] = \\text{probability that a node has degree at least } x $$\n",
    "\n",
    "We typically focus out attention on large values of $x$ -- nodes that are highly connected."
   ]
  },
  {
   "cell_type": "markdown",
   "metadata": {},
   "source": [
    "#### Power Law Degree Distributions are Common.\n",
    "\n",
    "It's common for a degree distribution to __approximately__ follow a power-law.\n",
    "\n",
    "The simplest power-law distribution is called the Pareto distribution:\n",
    "\n",
    "$$ P[D > x] = k^{\\alpha} x^{-\\alpha}\\;\\;\\; k \\leq x,\\; \\;0 < \\alpha\n",
    "\\leq 2. $$\n",
    "\n",
    "It takes on values in the range $[k, \\infty]$. "
   ]
  },
  {
   "cell_type": "code",
   "execution_count": 11,
   "metadata": {},
   "outputs": [
    {
     "data": {
      "image/png": "[encoded data removed]",
      "text/plain": [
       "<Figure size 432x288 with 1 Axes>"
      ]
     },
     "metadata": {
      "needs_background": "light"
     },
     "output_type": "display_data"
    }
   ],
   "source": [
    "from scipy.stats import pareto\n",
    "alpha = 1.3\n",
    "x = np.linspace(pareto.ppf(0.005,alpha), pareto.ppf(0.995,alpha), 100)\n",
    "plt.plot(x, pareto.pdf(x,alpha),'b-', lw = 5, alpha = 0.6, label='pareto pdf')\n",
    "plt.title(r'Pareto PDF.  $\\alpha$ = {}'.format(alpha), size=14)\n",
    "plt.xlabel('$x$', size=14)\n",
    "plt.ylabel('$p(x)$', size=14);"
   ]
  },
  {
   "cell_type": "markdown",
   "metadata": {},
   "source": [
    "We've seen distributions like this before when looking at recommender system data."
   ]
  },
  {
   "cell_type": "markdown",
   "metadata": {},
   "source": [
    "In a distribution like this, almost all values are very small, \n",
    "\n",
    "but there is a non-negligible fraction of values that are __very__ large.\n",
    "\n",
    "This is like \"grains of sand\" mixed with a few \"boulders.\"\n",
    "\n",
    "This is also referred to as \"elephants and mice.\""
   ]
  },
  {
   "cell_type": "markdown",
   "metadata": {},
   "source": [
    "What does this mean for node degree?\n",
    "\n",
    "It means that \n",
    "* most nodes have __few neighbors,__ but\n",
    "* an important small subset of nodes have __many, many neighbors.__"
   ]
  },
  {
   "cell_type": "markdown",
   "metadata": {},
   "source": [
    "To capture such high-variable degree distributions, a common strategy is to plot them on __log-log__ axes.\n",
    "\n",
    "On log-log axes, a Pareto distribution appears as a straight line:"
   ]
  },
  {
   "cell_type": "code",
   "execution_count": 12,
   "metadata": {},
   "outputs": [
    {
     "data": {
      "image/png": "[encoded data removed]",
      "text/plain": [
       "<Figure size 432x288 with 1 Axes>"
      ]
     },
     "metadata": {
      "needs_background": "light"
     },
     "output_type": "display_data"
    }
   ],
   "source": [
    "from scipy.stats import pareto\n",
    "alpha = 1.3\n",
    "x = np.linspace(pareto.ppf(0.005,alpha), pareto.ppf(0.995,alpha), 100)\n",
    "plt.plot(np.log10(x), np.log10(pareto.pdf(x,alpha)),'b-', lw = 5, alpha = 0.6, label='pareto pdf')\n",
    "plt.title(r'Pareto PDF.  $\\alpha$ = {}'.format(alpha), size=14)\n",
    "plt.xlabel('$\\log_{10}(x)$', size=14)\n",
    "plt.ylabel('$\\log_{10}(p(x))$', size=14);"
   ]
  },
  {
   "cell_type": "markdown",
   "metadata": {},
   "source": [
    "#### Power Law Degree Distributions are Ubiquitous."
   ]
  },
  {
   "cell_type": "markdown",
   "metadata": {},
   "source": [
    "<center>\n",
    "    \n",
    "<img src=\"figs/L21-power-law-degree-newman.png\" alt=\"Figure\" width=\"800px\">\n",
    "    \n",
    "</center>\n",
    "\n",
    "From Newman, 2003"
   ]
  },
  {
   "cell_type": "markdown",
   "metadata": {},
   "source": [
    "### Clustering"
   ]
  },
  {
   "cell_type": "markdown",
   "metadata": {},
   "source": [
    "The next important property of a network to understand is __clustering__.  \n",
    "\n",
    "In the context of networks, clustering refers to the tendency for groups of nodes to have higher connectivity within the group than the network-wide average."
   ]
  },
  {
   "cell_type": "code",
   "execution_count": null,
   "metadata": {},
   "outputs": [],
   "source": []
  }
 ],
 "metadata": {
  "anaconda-cloud": {},
  "celltoolbar": "Slideshow",
  "kernelspec": {
   "display_name": "Python 3 (ipykernel)",
   "language": "python",
   "name": "python3"
  },
  "language_info": {
   "codemirror_mode": {
    "name": "ipython",
    "version": 3
   },
   "file_extension": ".py",
   "mimetype": "text/x-python",
   "name": "python",
   "nbconvert_exporter": "python",
   "pygments_lexer": "ipython3",
   "version": "3.9.7"
  },
  "rise": {
   "scroll": true,
   "theme": "beige"
  }
 },
 "nbformat": 4,
 "nbformat_minor": 1
}
