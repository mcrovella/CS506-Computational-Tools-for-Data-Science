{
 "cells": [
  {
   "cell_type": "code",
   "execution_count": 1,
   "metadata": {
    "hide_input": true,
    "slideshow": {
     "slide_type": "skip"
    },
    "tags": [
     "hide-input"
    ]
   },
   "outputs": [],
   "source": [
    "import numpy as np\n",
    "import scipy as sp\n",
    "import matplotlib.pyplot as plt\n",
    "import pandas as pd\n",
    "import seaborn as sns\n",
    "import matplotlib as mp\n",
    "import sklearn\n",
    "from IPython.display import Image, HTML\n",
    "\n",
    "import laUtilities as ut\n",
    "\n",
    "%matplotlib inline"
   ]
  },
  {
   "cell_type": "markdown",
   "metadata": {
    "slideshow": {
     "slide_type": "slide"
    }
   },
   "source": [
    "# Recommender Systems"
   ]
  },
  {
   "cell_type": "markdown",
   "metadata": {
    "slideshow": {
     "slide_type": "fragment"
    }
   },
   "source": [
    "Today, we look at a topic that has become enormously important in society: recommender systems."
   ]
  },
  {
   "cell_type": "markdown",
   "metadata": {
    "slideshow": {
     "slide_type": "fragment"
    }
   },
   "source": [
    "We will\n",
    "* Define recommender systems\n",
    "* Review the challenges they pose\n",
    "* Discuss two classic methods:\n",
    "    * Collaborative Filtering\n",
    "    * Matrix Factorization"
   ]
  },
  {
   "cell_type": "markdown",
   "metadata": {
    "slideshow": {
     "slide_type": "skip"
    }
   },
   "source": [
    "```{note}\n",
    "This section draws heavily on \n",
    "* These [slides](http://alex.smola.org/teaching/berkeley2012/slides/8_Recommender.pdf) by Alex Smola\n",
    "* [Matrix Factorization Techniques for Recommender Systems,](https://ieeexplore.ieee.org/document/5197422) by Yehuda Koren, Robert Bell, and Chris Volinsky, and\n",
    "* [Collaborative Filtering with Temporal Dynamics,](https://dl.acm.org/doi/10.1145/1557019.1557072) by Yehuda Koren\n",
    "```"
   ]
  },
  {
   "cell_type": "markdown",
   "metadata": {
    "slideshow": {
     "slide_type": "slide"
    }
   },
   "source": [
    "## What are Recommender Systems?"
   ]
  },
  {
   "cell_type": "markdown",
   "metadata": {
    "slideshow": {
     "slide_type": "fragment"
    }
   },
   "source": [
    "The concept of recommender systems emerged in the late 1990s / early 2000s as social life moved online:\n",
    "* online purchasing and commerce\n",
    "* online discussions and ratings\n",
    "* social information sharing"
   ]
  },
  {
   "cell_type": "markdown",
   "metadata": {
    "slideshow": {
     "slide_type": "fragment"
    }
   },
   "source": [
    "In these systems content was exploding and users were having a hard time finding things they were interested in.\n",
    "\n",
    "Users wanted recommendations."
   ]
  },
  {
   "cell_type": "markdown",
   "metadata": {
    "slideshow": {
     "slide_type": "slide"
    }
   },
   "source": [
    "Over time, the problem has only gotten worse:"
   ]
  },
  {
   "cell_type": "markdown",
   "metadata": {
    "slideshow": {
     "slide_type": "fragment"
    }
   },
   "source": [
    "<center>\n",
    "    \n",
    "<img src=\"figs/L20-netflix-options.png\" alt=\"Figure\" width=\"100%\">\n",
    "    \n",
    "</center>"
   ]
  },
  {
   "cell_type": "markdown",
   "metadata": {
    "slideshow": {
     "slide_type": "slide"
    }
   },
   "source": [
    "<center>\n",
    "    \n",
    "<img src=\"figs/L20-amazon-options.png\" alt=\"Figure\" width=\"100%\">\n",
    "    \n",
    "</center>"
   ]
  },
  {
   "cell_type": "markdown",
   "metadata": {
    "slideshow": {
     "slide_type": "slide"
    }
   },
   "source": [
    "An enormous need has emerged for systems to help sort through products, services, and content items.\n",
    "\n",
    "This often goes by the term __personalization.__"
   ]
  },
  {
   "cell_type": "markdown",
   "metadata": {
    "slideshow": {
     "slide_type": "fragment"
    }
   },
   "source": [
    "Some examples:\n",
    "    \n",
    "* Movie recommendation (Netflix, YouTube)\n",
    "* Related product recommendation (Amazon)\n",
    "* Web page ranking (Google)\n",
    "* Social content filtering (Facebook, Twitter)\n",
    "* Services (Airbnb, Uber, TripAdvisor)\n",
    "* News content recommendation (Apple News)\n",
    "* Priority inbox & spam filtering (Google)\n",
    "* Online dating (OK Cupid)"
   ]
  },
  {
   "cell_type": "markdown",
   "metadata": {
    "slideshow": {
     "slide_type": "fragment"
    }
   },
   "source": [
    "A more formal view:\n",
    "    \n",
    "* User - requests content\n",
    "* Objects - that can be displayed\n",
    "* Context - device, location, time\n",
    "* Interface - browser, mobile\n",
    "\n",
    "<center>\n",
    "    \n",
    "<img src=\"figs/L20-recsys-abstractly.png\" alt=\"Figure\" width=\"45%\">\n",
    "    \n",
    "</center>"
   ]
  },
  {
   "cell_type": "markdown",
   "metadata": {
    "slideshow": {
     "slide_type": "slide"
    }
   },
   "source": [
    "## Inferring Preferences"
   ]
  },
  {
   "cell_type": "markdown",
   "metadata": {
    "slideshow": {
     "slide_type": "fragment"
    }
   },
   "source": [
    "Unfortunately, users generally have a hard time __explaining__ what types of content they prefer.   Some early systems worked by interviewing users to ask what they liked.  Those systems did not work very well."
   ]
  },
  {
   "cell_type": "markdown",
   "metadata": {
    "slideshow": {
     "slide_type": "skip"
    }
   },
   "source": [
    "```{note}\n",
    "A very interesting article about the earliest personalization systems is [User Modeling via Stereotypes](https://www.cs.utexas.edu/users/ear/CogSci.pdf) by Elaine Rich, dating from 1979.\n",
    "```"
   ]
  },
  {
   "cell_type": "markdown",
   "metadata": {
    "slideshow": {
     "slide_type": "fragment"
    }
   },
   "source": [
    "Instead, modern systems work by capturing user's opinions about __specific__ items.\n",
    "\n",
    "This can be done actively:\n",
    "* When a user is asked to **rate** a movie, product, or experience,\n",
    "\n",
    "Or it can be done passively:\n",
    "* By noting which items a user **chooses** to purchase (for example)."
   ]
  },
  {
   "cell_type": "markdown",
   "metadata": {
    "slideshow": {
     "slide_type": "fragment"
    }
   },
   "source": [
    "<center>\n",
    "    \n",
    "<img src=\"figs/L20-example-data.png\" alt=\"Figure\" width=\"55%\">\n",
    "    \n",
    "</center>"
   ]
  },
  {
   "cell_type": "markdown",
   "metadata": {
    "slideshow": {
     "slide_type": "slide"
    }
   },
   "source": [
    "## Challenges"
   ]
  },
  {
   "cell_type": "markdown",
   "metadata": {
    "slideshow": {
     "slide_type": "fragment"
    }
   },
   "source": [
    "* The biggest issue is __scalability__: typical data for this problem is huge.\n",
    "  * Millions of objects\n",
    "  * 100s of millions of users\n",
    "* Changing user base\n",
    "* Changing inventory (movies, stories, goods)\n",
    "* Available features\n",
    "* Imbalanced dataset\n",
    "    * User activity / item reviews are power law distributed    "
   ]
  },
  {
   "cell_type": "markdown",
   "metadata": {
    "slideshow": {
     "slide_type": "skip"
    }
   },
   "source": [
    "```{note}\n",
    "This data is a subset of the data presented in: \"From amateurs to connoisseurs: modeling the evolution of user expertise through online reviews,\" by J. McAuley and J. Leskovec. WWW, 2013\n",
    "```"
   ]
  },
  {
   "cell_type": "code",
   "execution_count": 2,
   "metadata": {
    "slideshow": {
     "slide_type": "skip"
    },
    "tags": [
     "hide-cell"
    ]
   },
   "outputs": [
    {
     "name": "stdout",
     "output_type": "stream",
     "text": [
      "Downloading cs-506-midterm-a1-b1.zip to /Users/markcrovella/Shared/Teaching/CS506/CS506-Computational-Tools-for-Data-Science\n"
     ]
    },
    {
     "name": "stderr",
     "output_type": "stream",
     "text": [
      "100%|██████████| 650M/650M [02:29<00:00, 4.57MB/s] \n"
     ]
    },
    {
     "name": "stdout",
     "output_type": "stream",
     "text": [
      "\n",
      "Archive:  cs-506-midterm-a1-b1.zip\n",
      "  inflating: sample.csv              \n",
      "  inflating: test.csv                \n",
      "  inflating: train.csv               \n"
     ]
    }
   ],
   "source": [
    "# This is a 1.7 GB file, delete it after use\n",
    "import os.path\n",
    "if not os.path.exists('train.csv'):\n",
    "    os.system('kaggle competitions download -c cs-506-midterm-a1-b1')\n",
    "    os.system('unzip cs-506-midterm-a1-b1.zip')"
   ]
  },
  {
   "cell_type": "code",
   "execution_count": 3,
   "metadata": {
    "slideshow": {
     "slide_type": "fragment"
    }
   },
   "outputs": [],
   "source": [
    "df = pd.read_csv('train.csv')"
   ]
  },
  {
   "cell_type": "code",
   "execution_count": 4,
   "metadata": {
    "slideshow": {
     "slide_type": "skip"
    },
    "tags": [
     "hide-cell"
    ]
   },
   "outputs": [
    {
     "name": "stdout",
     "output_type": "stream",
     "text": [
      "There are 1697533 reviews, 50052 movies and 123960 users.\n",
      "There are 6204445920 potential reviews, meaning sparsity of 0.0274%\n"
     ]
    }
   ],
   "source": [
    "n_users = df[\"UserId\"].unique().shape[0]\n",
    "n_movies = df[\"ProductId\"].unique().shape[0]\n",
    "n_reviews = len(df)\n",
    "print(f'There are {n_reviews} reviews, {n_movies} movies and {n_users} users.')\n",
    "print(f'There are {n_users * n_movies} potential reviews, meaning sparsity of {(n_reviews/(n_users * n_movies)):0.4%}')"
   ]
  },
  {
   "cell_type": "markdown",
   "metadata": {
    "slideshow": {
     "slide_type": "slide"
    }
   },
   "source": [
    "__Reviews are Sparse.__\n",
    "\n",
    "Example: A commonly used dataset for testing consists of Amazon movie reviews:\n",
    "* 1,697,533 reviews\n",
    "* 123,960 users\n",
    "* 50,052 movies\n",
    "\n",
    "Notice that there are 6,204,445,920 __potential__ reviews, but we only have 1,697,533 __actual__ reviews.\n",
    "\n",
    "Only 0.02% of the reviews are available -- 99.98% of the reviews are missing."
   ]
  },
  {
   "cell_type": "code",
   "execution_count": 5,
   "metadata": {
    "hide_input": true,
    "slideshow": {
     "slide_type": "skip"
    },
    "tags": [
     "hide-input"
    ]
   },
   "outputs": [
    {
     "name": "stdout",
     "output_type": "stream",
     "text": [
      "There are on average 33.9 reviews per movie and 13.7 reviews per user\n"
     ]
    }
   ],
   "source": [
    "print(f'There are on average {n_reviews/n_movies:0.1f} reviews per movie' +\n",
    "     f' and {n_reviews/n_users:0.1f} reviews per user')"
   ]
  },
  {
   "cell_type": "markdown",
   "metadata": {
    "slideshow": {
     "slide_type": "slide"
    }
   },
   "source": [
    "__Sparseness is skewed.__\n",
    "\n",
    "Although on average a movie receives 34 reviews, __almost all movies have even fewer reviews.__"
   ]
  },
  {
   "cell_type": "code",
   "execution_count": 6,
   "metadata": {
    "hide_input": true,
    "slideshow": {
     "slide_type": "-"
    },
    "tags": [
     "hide-input"
    ]
   },
   "outputs": [
    {
     "data": {
      "image/png": "[encoded data removed]",
      "text/plain": [
       "<Figure size 432x288 with 1 Axes>"
      ]
     },
     "metadata": {
      "needs_background": "light"
     },
     "output_type": "display_data"
    }
   ],
   "source": [
    "reviews_per_movie = df.groupby('ProductId').count()['Id'].values\n",
    "frac_below_mean = np.sum(reviews_per_movie < (n_reviews/n_movies))/len(reviews_per_movie)\n",
    "plt.plot(sorted(reviews_per_movie), '.-')\n",
    "xmin, xmax, ymin, ymax = plt.axis()\n",
    "plt.hlines(n_reviews/n_movies, xmin, xmax, 'r', lw = 3)\n",
    "plt.ylabel('Number of Ratings', fontsize = 14)\n",
    "plt.xlabel('Movie', fontsize = 14)\n",
    "plt.title(f'Amazon Movie Reviews\\nNumber of Ratings Per Movie\\n' +\n",
    "          f'{frac_below_mean:0.0%} of Movies Below Average', fontsize = 16);"
   ]
  },
  {
   "cell_type": "markdown",
   "metadata": {
    "slideshow": {
     "slide_type": "fragment"
    }
   },
   "source": [
    "Likewise, although the average user writes 14 reviews, almost all users write even fewer reviews."
   ]
  },
  {
   "cell_type": "code",
   "execution_count": 7,
   "metadata": {
    "hide_input": true,
    "tags": [
     "hide-input"
    ]
   },
   "outputs": [
    {
     "data": {
      "image/png": "[encoded data removed]",
      "text/plain": [
       "<Figure size 432x288 with 1 Axes>"
      ]
     },
     "metadata": {
      "needs_background": "light"
     },
     "output_type": "display_data"
    }
   ],
   "source": [
    "reviews_per_user = df.groupby('UserId').count()['Id'].values\n",
    "frac_below_mean = np.sum(reviews_per_user < (n_reviews/n_users))/len(reviews_per_user)\n",
    "plt.plot(sorted(reviews_per_user), '.-')\n",
    "xmin, xmax, ymin, ymax = plt.axis()\n",
    "plt.hlines(n_reviews/n_users, xmin, xmax, 'r', lw = 3)\n",
    "plt.ylabel('Number of Ratings', fontsize = 14)\n",
    "plt.xlabel('User', fontsize = 14)\n",
    "plt.title(f'Amazon Movie Reviews\\nNumber of Ratings Per User\\n' +\n",
    "          f'{frac_below_mean:0.0%} of Users Below Average', fontsize = 16);"
   ]
  },
  {
   "cell_type": "markdown",
   "metadata": {
    "slideshow": {
     "slide_type": "fragment"
    }
   },
   "source": [
    "A typical objective function is root mean square error (RMSE)\n",
    "\n",
    "$$ \\text{RMSE} = \\sqrt{1/|S| \\sum_{(i,u)\\in S} (\\hat{r}_{ui} - r_{ui})^2} $$\n",
    "\n",
    "where $ r_{ui} $ is the rating that user $u$ gives to item $i$, and $S$ is the set of all ratings."
   ]
  },
  {
   "cell_type": "markdown",
   "metadata": {
    "slideshow": {
     "slide_type": "fragment"
    }
   },
   "source": [
    "OK, now we know the problem and the data available.   How can we address the problem?\n",
    "\n",
    "The earliest method developed is called __collaborative filtering.__"
   ]
  },
  {
   "cell_type": "markdown",
   "metadata": {
    "slideshow": {
     "slide_type": "slide"
    }
   },
   "source": [
    "## Collaborative Filtering"
   ]
  },
  {
   "cell_type": "markdown",
   "metadata": {
    "slideshow": {
     "slide_type": "fragment"
    }
   },
   "source": [
    "The central idea of collaborative filtering is that the set of known recommendations can be considered to be a __bipartite graph.__"
   ]
  },
  {
   "cell_type": "markdown",
   "metadata": {
    "slideshow": {
     "slide_type": "fragment"
    }
   },
   "source": [
    "<center>\n",
    "    \n",
    "<img src=\"figs/L20-bipartite.png\" alt=\"Figure\" width=\"35%\">\n",
    "    \n",
    "</center>"
   ]
  },
  {
   "cell_type": "markdown",
   "metadata": {
    "slideshow": {
     "slide_type": "fragment"
    }
   },
   "source": [
    "The nodes of the bipartite graph are __users__ and __items__.   \n",
    "\n",
    "Each edge corresponds to a known rating $r_{ui}.$"
   ]
  },
  {
   "cell_type": "markdown",
   "metadata": {
    "slideshow": {
     "slide_type": "fragment"
    }
   },
   "source": [
    "Then recommendations are formed by traversing or processing the bipartite graph."
   ]
  },
  {
   "cell_type": "markdown",
   "metadata": {
    "slideshow": {
     "slide_type": "fragment"
    }
   },
   "source": [
    "<center>\n",
    "    \n",
    "<img src=\"figs/L20-cf-basic-idea.png\" alt=\"Figure\" width=\"60%\">\n",
    "    \n",
    "</center>"
   ]
  },
  {
   "cell_type": "markdown",
   "metadata": {
    "slideshow": {
     "slide_type": "fragment"
    }
   },
   "source": [
    "There are at least two ways this graph can be used.\n",
    "\n",
    "To form a rating for item $(u, i)$: \n",
    "    \n",
    "1. Using user-user similarity:\n",
    "      * look at users that have similar item preferences to user $u$\n",
    "      * look at how those users rated item $i$\n",
    "      \n",
    "Good for many users, fewer items"
   ]
  },
  {
   "cell_type": "markdown",
   "metadata": {
    "slideshow": {
     "slide_type": "fragment"
    }
   },
   "source": [
    "    \n",
    "2. Using item-item similarity:\n",
    "      * look at other items that have been liked by similar users as item $i$\n",
    "      * look at how user $u$ rated those items\n",
    "      \n",
    "Good for many items, fewer users"
   ]
  },
  {
   "cell_type": "markdown",
   "metadata": {
    "slideshow": {
     "slide_type": "slide"
    }
   },
   "source": [
    "### Item-item CF"
   ]
  },
  {
   "cell_type": "markdown",
   "metadata": {
    "slideshow": {
     "slide_type": "fragment"
    }
   },
   "source": [
    "Let's look at the item-item CF approach in detail.\n",
    "\n",
    "The questions are:\n",
    "* How do we judge \"similarity\" of items?\n",
    "* How do we form a predicted rating?"
   ]
  },
  {
   "cell_type": "markdown",
   "metadata": {
    "slideshow": {
     "slide_type": "slide"
    }
   },
   "source": [
    "Here is another view of the ratings graph, this time as a matrix that includes missing entries:"
   ]
  },
  {
   "cell_type": "markdown",
   "metadata": {},
   "source": [
    "<center>\n",
    "    \n",
    "<img src=\"figs/L20-u-u-cf-1.png\" alt=\"Figure\" width=\"60%\">\n",
    "    \n",
    "</center>"
   ]
  },
  {
   "cell_type": "markdown",
   "metadata": {
    "slideshow": {
     "slide_type": "slide"
    }
   },
   "source": [
    "Let's say we want to predict the value of this unknown rating:"
   ]
  },
  {
   "cell_type": "markdown",
   "metadata": {},
   "source": [
    "<center>\n",
    "    \n",
    "<img src=\"figs/L20-u-u-cf-2.png\" alt=\"Figure\" width=\"60%\">\n",
    "    \n",
    "</center>"
   ]
  },
  {
   "cell_type": "markdown",
   "metadata": {
    "slideshow": {
     "slide_type": "slide"
    }
   },
   "source": [
    "We'll consider two other items, namely items 3 and 6 (for example).\n",
    "\n",
    "Note that we are only interested in items that this user has rated."
   ]
  },
  {
   "cell_type": "markdown",
   "metadata": {},
   "source": [
    "<center>\n",
    "    \n",
    "<img src=\"figs/L20-u-u-cf-3.png\" alt=\"Figure\" width=\"60%\">\n",
    "    \n",
    "</center>"
   ]
  },
  {
   "cell_type": "markdown",
   "metadata": {
    "slideshow": {
     "slide_type": "slide"
    }
   },
   "source": [
    "We will discuss strategies for assessing similarity shortly. \n",
    "\n",
    "How did we choose these two items?   \n",
    "\n",
    "We used __$k$-nearest neighbors__.   Here $k$ = 2.\n",
    "\n",
    "For now, let's just say we determine the similarities as:\n",
    "\n",
    "$$ s_{13} = 0.2 $$\n",
    "\n",
    "$$ s_{16} = 0.3 $$"
   ]
  },
  {
   "cell_type": "markdown",
   "metadata": {},
   "source": [
    "<center>\n",
    "    \n",
    "<img src=\"figs/L20-u-u-cf-3.png\" alt=\"Figure\" width=\"60%\">\n",
    "    \n",
    "</center>"
   ]
  },
  {
   "cell_type": "markdown",
   "metadata": {
    "slideshow": {
     "slide_type": "fragment"
    }
   },
   "source": [
    "These similarity scores tell us how much weight to put on the rating of the other items."
   ]
  },
  {
   "cell_type": "markdown",
   "metadata": {
    "slideshow": {
     "slide_type": "slide"
    }
   },
   "source": [
    "So we can form a prediction of $\\hat{r}_{15}$ as:\n",
    "    \n",
    "$$ \\hat{r}_{15} = \\frac{s_{13} \\cdot r_{35} + s_{16} \\cdot r_{65}}{s_{13} + s_{16}} = \\frac{0.2 \\cdot 2 + 0.3 \\cdot 3}{0.2 + 0.3} = 2.6 $$"
   ]
  },
  {
   "cell_type": "markdown",
   "metadata": {},
   "source": [
    "<center>\n",
    "    \n",
    "<img src=\"figs/L20-u-u-cf-4.png\" alt=\"Figure\" width=\"60%\">\n",
    "    \n",
    "</center>"
   ]
  },
  {
   "cell_type": "markdown",
   "metadata": {
    "slideshow": {
     "slide_type": "slide"
    }
   },
   "source": [
    "### Similarity"
   ]
  },
  {
   "cell_type": "markdown",
   "metadata": {
    "slideshow": {
     "slide_type": "fragment"
    }
   },
   "source": [
    "How should we assess similarity of items?\n",
    "\n",
    "A reasonable approach is to consider items similar if their ratings are __correlated.__\n",
    "\n",
    "So we can use the Pearson correlation coefficient $r$."
   ]
  },
  {
   "cell_type": "markdown",
   "metadata": {
    "slideshow": {
     "slide_type": "fragment"
    }
   },
   "source": [
    "However, note that two items will not have ratings in the same positions.\n",
    "\n",
    "<center>\n",
    "    \n",
    "<img src=\"figs/L20-corr-support.png\" alt=\"Figure\" width=\"60%\">\n",
    "    \n",
    "</center>\n",
    "\n",
    "So we want to compute correlation only over the users who rated both the items."
   ]
  },
  {
   "cell_type": "markdown",
   "metadata": {
    "slideshow": {
     "slide_type": "fragment"
    }
   },
   "source": [
    "In some cases we will need to work with binary $r_{ui}$s.  \n",
    "\n",
    "For example, purchase histories on an e-commerce site, or clicks on an ad.\n",
    "\n",
    "In this case, an appropriate replacement for Pearson $r$ is the Jaccard similarity coefficient.\n",
    "\n",
    "(See the lecture on similarity measures.)"
   ]
  },
  {
   "cell_type": "markdown",
   "metadata": {
    "slideshow": {
     "slide_type": "slide"
    }
   },
   "source": [
    "### Improving CF"
   ]
  },
  {
   "cell_type": "markdown",
   "metadata": {
    "slideshow": {
     "slide_type": "fragment"
    }
   },
   "source": [
    "One problem with the story so far arises due to __bias__.\n",
    "* Some items are significantly higher or lower rated\n",
    "* Some users rate substantially higher or lower in general"
   ]
  },
  {
   "cell_type": "markdown",
   "metadata": {
    "slideshow": {
     "slide_type": "fragment"
    }
   },
   "source": [
    "These properties interfere with similarity assessment.  \n",
    "\n",
    "Bias correction is crucial for CF recommender systems.\n",
    "\n",
    "We need to include\n",
    "* Per-user offset\n",
    "* Per-item offset\n",
    "* Global offset"
   ]
  },
  {
   "cell_type": "markdown",
   "metadata": {
    "slideshow": {
     "slide_type": "fragment"
    }
   },
   "source": [
    "Hence we need to form a per-item bias of:\n",
    "    \n",
    "$$ b_{ui} = \\mu + \\alpha_u + \\beta_i $$\n",
    "\n",
    "where $\\alpha_u$ is the per-user offset of user $u$ and $\\beta_i$ is the per-item offset of item $i$."
   ]
  },
  {
   "cell_type": "markdown",
   "metadata": {
    "slideshow": {
     "slide_type": "fragment"
    }
   },
   "source": [
    "How can we estimate the $\\alpha$s, the $\\beta$s, and the $\\mu$?"
   ]
  },
  {
   "cell_type": "markdown",
   "metadata": {
    "slideshow": {
     "slide_type": "fragment"
    }
   },
   "source": [
    "Let's assume for a minute that we had a fully-dense matrix of ratings $R$.\n",
    "\n",
    "$R$ has items on the rows and users on the columns.\n",
    "\n",
    "Then what we want to estimate is\n",
    "\n",
    "$$\\min_{\\alpha,\\beta,\\mu} \\Vert R - \\mathbf{1}\\alpha^T + \\beta\\mathbf{1}^T + \\mu1\\Vert^2 + \\lambda(\\Vert\\alpha\\Vert^2 + \\Vert\\beta\\Vert^2) $$\n",
    "\n",
    "Here, $\\mathbf{1}$ represents appropriately sized vectors of ones, and $1$ is a matrix of ones."
   ]
  },
  {
   "cell_type": "markdown",
   "metadata": {
    "slideshow": {
     "slide_type": "fragment"
    }
   },
   "source": [
    "While this is not a simple ordinary least squares problem, there is a strategy for solving it.\n",
    "\n",
    "Assume we hold $\\beta\\mathbf{1}^T + \\mu1$ constant.  \n",
    "\n",
    "Then the remaining problem is \n",
    "\n",
    "$$\\min_{\\alpha} \\Vert R - \\mathbf{1}\\alpha^T \\Vert^2 + \\lambda \\Vert\\alpha\\Vert^2 $$\n",
    "\n",
    "which (for each column of $R$) is a standard least squares problem (which we solve via Ridge regression)."
   ]
  },
  {
   "cell_type": "markdown",
   "metadata": {
    "slideshow": {
     "slide_type": "fragment"
    }
   },
   "source": [
    "This sort of problem is called __jointly convex__.   \n",
    "\n",
    "The strategy for solving is:\n",
    "    \n",
    "1. Hold $\\alpha$ and $\\beta$ constant, solve for $\\mu$.\n",
    "2. Hold $\\alpha$ and $\\mu$ constant, solve for $\\beta$.\n",
    "3. Hold $\\beta$ and $\\mu$ constant, solve for $\\alpha$.\n",
    "\n",
    "Each of the three steps will reduce the overall error.   So we iterate over them until convergence."
   ]
  },
  {
   "cell_type": "markdown",
   "metadata": {
    "slideshow": {
     "slide_type": "fragment"
    }
   },
   "source": [
    "The last issue is that the matrix $R$ is not dense - in reality we only have a small subset of its entries.\n",
    "\n",
    "We simply need to adapt the least-squares solution to only consider the entries in $R$ that we know.\n",
    "\n",
    "As a result, the actual calculation is:\n",
    "\n",
    "Step 1:\n",
    "\n",
    "$$ \\mu = \\frac{\\sum_{(u, i) \\in R} (r_{ui} - \\alpha_u - \\beta_i)}{|R|} $$\n",
    "\n",
    "Step 2: \n",
    "\n",
    "$$ \\alpha_u = \\frac{\\sum_{i \\in R(u)}(r_{ui} - \\mu - \\beta_i)}{\\lambda + |R(u)|} $$\n",
    "\n",
    "Step 3:\n",
    "    \n",
    "$$ \\beta_i = \\frac{\\sum_{u \\in R(i)}(r_{ui} - \\mu - \\alpha_u)}{\\lambda + |R(i)|} $$\n",
    "\n",
    "Step 4: If not converged, go to Step 1.\n"
   ]
  },
  {
   "cell_type": "markdown",
   "metadata": {
    "slideshow": {
     "slide_type": "fragment"
    }
   },
   "source": [
    "Now that we have the biases learned, we can do a better job of estimating correlation:\n",
    "\n",
    "$$ \\hat{\\rho}_{ij} = \\frac{\\sum_{u\\in U(i,j)}(r_{ui} - b_{ui})(r_{uj}-b_{uj})} \n",
    "{\\sqrt{\\sum_{u\\in U(i,j)}(r_{ui} - b_{ui})^2\\sum_{u\\in U(i,j)}(r_{uj}-b_{uj})^2}} $$\n",
    "\n",
    "where \n",
    "* $b_{ui} = \\mu + \\alpha_u + \\beta_i$, and\n",
    "* $U(i,j)$ are the users who have rated both $i$ and $j$."
   ]
  },
  {
   "cell_type": "markdown",
   "metadata": {
    "slideshow": {
     "slide_type": "fragment"
    }
   },
   "source": [
    "And using biases we can also do a better job of estimating ratings:\n",
    "\n",
    "$$ \\hat{r}_{ui} = b_{ui} + \\frac{\\sum_{j \\in n_k(i, u)} s_{ij}(r_{uj} - b_{uj})}{\\sum_{j \\in n_k(i, u)} s_{ij}} $$\n",
    "\n",
    "where \n",
    "* $b_{ui} = \\mu + \\alpha_u + \\beta_i$, and\n",
    "* $n_k(i, u)$ are the $k$ nearest neighbors to $i$ that were rated by user $u$."
   ]
  },
  {
   "cell_type": "markdown",
   "metadata": {
    "slideshow": {
     "slide_type": "slide"
    }
   },
   "source": [
    "### Assessing CF"
   ]
  },
  {
   "cell_type": "markdown",
   "metadata": {
    "slideshow": {
     "slide_type": "fragment"
    }
   },
   "source": [
    "This completes the high level view of CF.\n",
    "\n",
    "Working with user-user similarities is analogous."
   ]
  },
  {
   "cell_type": "markdown",
   "metadata": {
    "slideshow": {
     "slide_type": "fragment"
    }
   },
   "source": [
    "Strengths:\n",
    "* Essentially no training.\n",
    "    * The reliance on $k$-nearest neighbors helps in this respect.\n",
    "* Easy to update with new users, items, and ratings\n",
    "* Can be explained to user: \n",
    "    * \"We recommend _Minority Report_ because you liked _Blade Runner_ and _Total Recall._\""
   ]
  },
  {
   "cell_type": "markdown",
   "metadata": {
    "slideshow": {
     "slide_type": "fragment"
    }
   },
   "source": [
    "Weaknesses:\n",
    "* Accuracy can be a problem\n",
    "* Scalability can be a problem (think $k$-NN)"
   ]
  },
  {
   "cell_type": "markdown",
   "metadata": {
    "slideshow": {
     "slide_type": "slide"
    }
   },
   "source": [
    "## Matrix Factorization"
   ]
  },
  {
   "cell_type": "markdown",
   "metadata": {
    "slideshow": {
     "slide_type": "fragment"
    }
   },
   "source": [
    "Note that standard CF forces us to consider similarity among items, __or__ among users, but does not take into account __both.__\n",
    "\n",
    "Can we use both kinds of similarity simultaneously?"
   ]
  },
  {
   "cell_type": "markdown",
   "metadata": {
    "slideshow": {
     "slide_type": "fragment"
    }
   },
   "source": [
    "We can't use both the rows and columns of the ratings matrix $R$ at the same time -- the user and item vectors live in different vector spaces.\n",
    "\n",
    "What we could try to do is find a __single__ vector space in which we represent __both__ users __and__ items, along with a similarity function, such that:\n",
    "* users who have similar item ratings are similar in the vector space\n",
    "* items who have similar user ratings are similar in the vector space\n",
    "* when a given user highly rates a given item, that user and item are similar in the vector space."
   ]
  },
  {
   "cell_type": "markdown",
   "metadata": {
    "slideshow": {
     "slide_type": "fragment"
    }
   },
   "source": [
    "<center>\n",
    "    \n",
    "<img src=\"figs/L10-Movie-Latent-Space.png\" alt=\"Figure\" width=\"60%\">\n",
    "    \n",
    "</center>\n",
    "\n",
    "Koren et al, IEEE Computer, 2009 "
   ]
  },
  {
   "cell_type": "markdown",
   "metadata": {
    "slideshow": {
     "slide_type": "fragment"
    }
   },
   "source": [
    "We saw this idea previously, in an SVD lecture.\n",
    "\n",
    "This new vector space is called a __latent__ space,\n",
    "\n",
    "and the user and item representations are called __latent vectors.__"
   ]
  },
  {
   "cell_type": "markdown",
   "metadata": {
    "slideshow": {
     "slide_type": "fragment"
    }
   },
   "source": [
    "Now, however, we are working with a matrix which is only __partially observed.__\n",
    "\n",
    "That is, we only know __some__ of the entries in the ratings matrix.\n",
    "\n",
    "Nonetheless, we can imagine a situation like this:\n",
    "    \n",
    "<center>\n",
    "    \n",
    "<img src=\"figs/L20-mf-1.png\" alt=\"Figure\" width=\"60%\">\n",
    "    \n",
    "</center>\n",
    "\n",
    "Now we want the product of the two matrices on the right to be as close as possible __to the known values__ of the ratings matrix."
   ]
  },
  {
   "cell_type": "markdown",
   "metadata": {
    "slideshow": {
     "slide_type": "fragment"
    }
   },
   "source": [
    "What this setup implies is that our similarity function is the __inner product.__"
   ]
  },
  {
   "cell_type": "markdown",
   "metadata": {
    "slideshow": {
     "slide_type": "fragment"
    }
   },
   "source": [
    "Which means that to predict an unknown rating, we take the __inner product of latent vectors:__"
   ]
  },
  {
   "cell_type": "markdown",
   "metadata": {},
   "source": [
    "<center>\n",
    "    \n",
    "<img src=\"figs/L20-mf-2.png\" alt=\"Figure\" width=\"60%\">\n",
    "    \n",
    "</center>"
   ]
  },
  {
   "cell_type": "markdown",
   "metadata": {
    "slideshow": {
     "slide_type": "fragment"
    }
   },
   "source": [
    "Now $(-2 \\cdot -0.5)+(0.3 \\cdot 0.6)+(2.5 \\cdot 0.5) = 2.43$, so:"
   ]
  },
  {
   "cell_type": "markdown",
   "metadata": {},
   "source": [
    "<center>\n",
    "    \n",
    "<img src=\"figs/L20-mf-3.png\" alt=\"Figure\" width=\"60%\">\n",
    "    \n",
    "</center>"
   ]
  },
  {
   "cell_type": "markdown",
   "metadata": {
    "slideshow": {
     "slide_type": "slide"
    }
   },
   "source": [
    "### Solving Matrix Factorization"
   ]
  },
  {
   "cell_type": "markdown",
   "metadata": {
    "slideshow": {
     "slide_type": "fragment"
    }
   },
   "source": [
    "Notice that in this case we've decided that the factorization should be rank 3, ie, low-rank.\n",
    "\n",
    "So we want something like an SVD.\n",
    "\n",
    "(Recall that SVD gives us the most-accurate-possible low-rank factorization of a matrix)."
   ]
  },
  {
   "cell_type": "markdown",
   "metadata": {
    "slideshow": {
     "slide_type": "fragment"
    }
   },
   "source": [
    "However, we can't use the SVD algorithm directly, because we don't know all the entries in $R$. \n",
    "\n",
    "(Indeed, the unseen entries in $R$ as exactly what we want to predict.)"
   ]
  },
  {
   "cell_type": "markdown",
   "metadata": {
    "slideshow": {
     "slide_type": "fragment"
    }
   },
   "source": [
    "<center>\n",
    "    \n",
    "<img src=\"figs/L20-mf-1.png\" alt=\"Figure\" width=\"60%\">\n",
    "    \n",
    "</center>"
   ]
  },
  {
   "cell_type": "markdown",
   "metadata": {
    "slideshow": {
     "slide_type": "fragment"
    }
   },
   "source": [
    "Here is what we want to solve: \n",
    "    \n",
    "$$ \\min_{U,V} \\Vert (R - UV^T)_S\\Vert^2 + \\lambda(\\Vert U\\Vert^2 + \\Vert V\\Vert^2) $$\n",
    "\n",
    "where $R$ is $m\\times n$, $U$ is the $m\\times k$ items matrix and $V$ is the $n\\times k$ users matrix.\n",
    "\n",
    "The $(\\cdot)_S$ notation means that we are only considering the matrix entries that correspond to known reviews (the set $S$).\n",
    "\n",
    "Note that as usual, we add $\\ell_2$ penalization to avoid overfitting (Ridge regression)."
   ]
  },
  {
   "cell_type": "markdown",
   "metadata": {
    "slideshow": {
     "slide_type": "fragment"
    }
   },
   "source": [
    "Once again, this problem is __jointly convex.__   \n",
    "\n",
    "In particular, it we hold either $U$ or $V$ constant, then the result is a simple ridge regression."
   ]
  },
  {
   "cell_type": "markdown",
   "metadata": {
    "slideshow": {
     "slide_type": "fragment"
    }
   },
   "source": [
    "So one commonly used algorithm for this problem is called __alternating least squares:__\n",
    "    \n",
    "1. Hold $U$ constant, and solve for $V$\n",
    "2. Hold $V$ constant, and solve for $U$\n",
    "3. If not converged, go to Step 1."
   ]
  },
  {
   "cell_type": "markdown",
   "metadata": {
    "slideshow": {
     "slide_type": "fragment"
    }
   },
   "source": [
    "The only thing I've left out at this point is how to deal with the missing entries of $R$.  \n",
    "\n",
    "It's not hard, but the details aren't that interesting, so I will give you code instead!"
   ]
  },
  {
   "cell_type": "markdown",
   "metadata": {
    "slideshow": {
     "slide_type": "slide"
    }
   },
   "source": [
    "### ALS in Practice"
   ]
  },
  {
   "cell_type": "markdown",
   "metadata": {
    "slideshow": {
     "slide_type": "fragment"
    }
   },
   "source": [
    "The entire Amazon reviews dataset is too large to work with easily, and it is too sparse. \n",
    "\n",
    "Hence, we will take the densest rows and columns of the matrix."
   ]
  },
  {
   "cell_type": "code",
   "execution_count": 8,
   "metadata": {
    "slideshow": {
     "slide_type": "fragment"
    }
   },
   "outputs": [],
   "source": [
    "# The densest columns: products with more than 50 reviews\n",
    "pids = df.groupby('ProductId').count()['Id']\n",
    "hi_pids = pids[pids > 50].index\n",
    "\n",
    "# reviews that are for these products\n",
    "hi_pid_rec = [r in hi_pids for r in df['ProductId']]\n",
    "\n",
    "# the densest rows: users with more than 50 reviews\n",
    "uids = df.groupby('UserId').count()['Id']\n",
    "hi_uids = uids[uids > 50].index\n",
    "\n",
    "# reviews that are from these users\n",
    "hi_uid_rec = [r in hi_uids for r in df['UserId']]\n",
    "\n",
    "# reviews that are from those users and for those movies\n",
    "goodrec = [a and b for a, b in zip(hi_uid_rec, hi_pid_rec)]"
   ]
  },
  {
   "cell_type": "markdown",
   "metadata": {
    "slideshow": {
     "slide_type": "fragment"
    }
   },
   "source": [
    "Now we create a matrix from these reviews.\n",
    "\n",
    "Missing entries will be filled with NaNs."
   ]
  },
  {
   "cell_type": "code",
   "execution_count": 9,
   "metadata": {},
   "outputs": [],
   "source": [
    "dense_df = df.loc[goodrec]\n",
    "good_df = dense_df.loc[~df['Score'].isnull()]\n",
    "R = good_df.pivot_table(columns = 'ProductId', index = 'UserId', values = 'Score')"
   ]
  },
  {
   "cell_type": "code",
   "execution_count": 10,
   "metadata": {
    "slideshow": {
     "slide_type": "fragment"
    }
   },
   "outputs": [
    {
     "data": {
      "text/html": [
       "<div>\n",
       "<style scoped>\n",
       "    .dataframe tbody tr th:only-of-type {\n",
       "        vertical-align: middle;\n",
       "    }\n",
       "\n",
       "    .dataframe tbody tr th {\n",
       "        vertical-align: top;\n",
       "    }\n",
       "\n",
       "    .dataframe thead th {\n",
       "        text-align: right;\n",
       "    }\n",
       "</style>\n",
       "<table border=\"1\" class=\"dataframe\">\n",
       "  <thead>\n",
       "    <tr style=\"text-align: right;\">\n",
       "      <th>ProductId</th>\n",
       "      <th>0005019281</th>\n",
       "      <th>0005119367</th>\n",
       "      <th>0307142485</th>\n",
       "      <th>0307142493</th>\n",
       "      <th>0307514161</th>\n",
       "      <th>0310263662</th>\n",
       "      <th>0310274281</th>\n",
       "      <th>0718000315</th>\n",
       "      <th>0764001035</th>\n",
       "      <th>0764003828</th>\n",
       "      <th>...</th>\n",
       "      <th>B00IKM5OCO</th>\n",
       "      <th>B00IWULQQ2</th>\n",
       "      <th>B00J4LMHMK</th>\n",
       "      <th>B00J5JSV1W</th>\n",
       "      <th>B00JA3RPAG</th>\n",
       "      <th>B00JAQJMJ0</th>\n",
       "      <th>B00JBBJJ24</th>\n",
       "      <th>B00JKPHUE0</th>\n",
       "      <th>B00K2CHVJ4</th>\n",
       "      <th>B00L4IDS4W</th>\n",
       "    </tr>\n",
       "    <tr>\n",
       "      <th>UserId</th>\n",
       "      <th></th>\n",
       "      <th></th>\n",
       "      <th></th>\n",
       "      <th></th>\n",
       "      <th></th>\n",
       "      <th></th>\n",
       "      <th></th>\n",
       "      <th></th>\n",
       "      <th></th>\n",
       "      <th></th>\n",
       "      <th></th>\n",
       "      <th></th>\n",
       "      <th></th>\n",
       "      <th></th>\n",
       "      <th></th>\n",
       "      <th></th>\n",
       "      <th></th>\n",
       "      <th></th>\n",
       "      <th></th>\n",
       "      <th></th>\n",
       "      <th></th>\n",
       "    </tr>\n",
       "  </thead>\n",
       "  <tbody>\n",
       "    <tr>\n",
       "      <th>A02755422E9NI29TCQ5W3</th>\n",
       "      <td>NaN</td>\n",
       "      <td>NaN</td>\n",
       "      <td>NaN</td>\n",
       "      <td>NaN</td>\n",
       "      <td>NaN</td>\n",
       "      <td>NaN</td>\n",
       "      <td>NaN</td>\n",
       "      <td>NaN</td>\n",
       "      <td>NaN</td>\n",
       "      <td>NaN</td>\n",
       "      <td>...</td>\n",
       "      <td>NaN</td>\n",
       "      <td>NaN</td>\n",
       "      <td>NaN</td>\n",
       "      <td>NaN</td>\n",
       "      <td>NaN</td>\n",
       "      <td>NaN</td>\n",
       "      <td>NaN</td>\n",
       "      <td>NaN</td>\n",
       "      <td>NaN</td>\n",
       "      <td>NaN</td>\n",
       "    </tr>\n",
       "    <tr>\n",
       "      <th>A100JCBNALJFAW</th>\n",
       "      <td>NaN</td>\n",
       "      <td>NaN</td>\n",
       "      <td>NaN</td>\n",
       "      <td>NaN</td>\n",
       "      <td>NaN</td>\n",
       "      <td>NaN</td>\n",
       "      <td>NaN</td>\n",
       "      <td>NaN</td>\n",
       "      <td>NaN</td>\n",
       "      <td>NaN</td>\n",
       "      <td>...</td>\n",
       "      <td>NaN</td>\n",
       "      <td>NaN</td>\n",
       "      <td>NaN</td>\n",
       "      <td>NaN</td>\n",
       "      <td>NaN</td>\n",
       "      <td>NaN</td>\n",
       "      <td>NaN</td>\n",
       "      <td>NaN</td>\n",
       "      <td>NaN</td>\n",
       "      <td>NaN</td>\n",
       "    </tr>\n",
       "    <tr>\n",
       "      <th>A10175AMUHOQC4</th>\n",
       "      <td>NaN</td>\n",
       "      <td>NaN</td>\n",
       "      <td>NaN</td>\n",
       "      <td>NaN</td>\n",
       "      <td>NaN</td>\n",
       "      <td>NaN</td>\n",
       "      <td>NaN</td>\n",
       "      <td>NaN</td>\n",
       "      <td>NaN</td>\n",
       "      <td>NaN</td>\n",
       "      <td>...</td>\n",
       "      <td>NaN</td>\n",
       "      <td>NaN</td>\n",
       "      <td>NaN</td>\n",
       "      <td>NaN</td>\n",
       "      <td>NaN</td>\n",
       "      <td>NaN</td>\n",
       "      <td>NaN</td>\n",
       "      <td>NaN</td>\n",
       "      <td>NaN</td>\n",
       "      <td>NaN</td>\n",
       "    </tr>\n",
       "    <tr>\n",
       "      <th>A103KNDW8GN92L</th>\n",
       "      <td>NaN</td>\n",
       "      <td>NaN</td>\n",
       "      <td>NaN</td>\n",
       "      <td>NaN</td>\n",
       "      <td>NaN</td>\n",
       "      <td>4.0</td>\n",
       "      <td>NaN</td>\n",
       "      <td>NaN</td>\n",
       "      <td>NaN</td>\n",
       "      <td>NaN</td>\n",
       "      <td>...</td>\n",
       "      <td>NaN</td>\n",
       "      <td>NaN</td>\n",
       "      <td>NaN</td>\n",
       "      <td>NaN</td>\n",
       "      <td>NaN</td>\n",
       "      <td>NaN</td>\n",
       "      <td>NaN</td>\n",
       "      <td>NaN</td>\n",
       "      <td>NaN</td>\n",
       "      <td>NaN</td>\n",
       "    </tr>\n",
       "    <tr>\n",
       "      <th>A106016KSI0YQ</th>\n",
       "      <td>NaN</td>\n",
       "      <td>NaN</td>\n",
       "      <td>NaN</td>\n",
       "      <td>NaN</td>\n",
       "      <td>NaN</td>\n",
       "      <td>NaN</td>\n",
       "      <td>NaN</td>\n",
       "      <td>NaN</td>\n",
       "      <td>NaN</td>\n",
       "      <td>NaN</td>\n",
       "      <td>...</td>\n",
       "      <td>NaN</td>\n",
       "      <td>NaN</td>\n",
       "      <td>NaN</td>\n",
       "      <td>NaN</td>\n",
       "      <td>NaN</td>\n",
       "      <td>NaN</td>\n",
       "      <td>NaN</td>\n",
       "      <td>NaN</td>\n",
       "      <td>NaN</td>\n",
       "      <td>NaN</td>\n",
       "    </tr>\n",
       "    <tr>\n",
       "      <th>...</th>\n",
       "      <td>...</td>\n",
       "      <td>...</td>\n",
       "      <td>...</td>\n",
       "      <td>...</td>\n",
       "      <td>...</td>\n",
       "      <td>...</td>\n",
       "      <td>...</td>\n",
       "      <td>...</td>\n",
       "      <td>...</td>\n",
       "      <td>...</td>\n",
       "      <td>...</td>\n",
       "      <td>...</td>\n",
       "      <td>...</td>\n",
       "      <td>...</td>\n",
       "      <td>...</td>\n",
       "      <td>...</td>\n",
       "      <td>...</td>\n",
       "      <td>...</td>\n",
       "      <td>...</td>\n",
       "      <td>...</td>\n",
       "      <td>...</td>\n",
       "    </tr>\n",
       "    <tr>\n",
       "      <th>AZUBX0AYYNTFF</th>\n",
       "      <td>NaN</td>\n",
       "      <td>NaN</td>\n",
       "      <td>NaN</td>\n",
       "      <td>NaN</td>\n",
       "      <td>NaN</td>\n",
       "      <td>NaN</td>\n",
       "      <td>NaN</td>\n",
       "      <td>NaN</td>\n",
       "      <td>NaN</td>\n",
       "      <td>NaN</td>\n",
       "      <td>...</td>\n",
       "      <td>NaN</td>\n",
       "      <td>NaN</td>\n",
       "      <td>NaN</td>\n",
       "      <td>NaN</td>\n",
       "      <td>NaN</td>\n",
       "      <td>NaN</td>\n",
       "      <td>NaN</td>\n",
       "      <td>NaN</td>\n",
       "      <td>NaN</td>\n",
       "      <td>NaN</td>\n",
       "    </tr>\n",
       "    <tr>\n",
       "      <th>AZXGPM8EKSHE9</th>\n",
       "      <td>NaN</td>\n",
       "      <td>NaN</td>\n",
       "      <td>NaN</td>\n",
       "      <td>NaN</td>\n",
       "      <td>NaN</td>\n",
       "      <td>NaN</td>\n",
       "      <td>NaN</td>\n",
       "      <td>NaN</td>\n",
       "      <td>NaN</td>\n",
       "      <td>NaN</td>\n",
       "      <td>...</td>\n",
       "      <td>NaN</td>\n",
       "      <td>NaN</td>\n",
       "      <td>NaN</td>\n",
       "      <td>NaN</td>\n",
       "      <td>NaN</td>\n",
       "      <td>NaN</td>\n",
       "      <td>NaN</td>\n",
       "      <td>NaN</td>\n",
       "      <td>NaN</td>\n",
       "      <td>NaN</td>\n",
       "    </tr>\n",
       "    <tr>\n",
       "      <th>AZXHK8IO25FL6</th>\n",
       "      <td>NaN</td>\n",
       "      <td>NaN</td>\n",
       "      <td>NaN</td>\n",
       "      <td>NaN</td>\n",
       "      <td>NaN</td>\n",
       "      <td>NaN</td>\n",
       "      <td>NaN</td>\n",
       "      <td>NaN</td>\n",
       "      <td>NaN</td>\n",
       "      <td>NaN</td>\n",
       "      <td>...</td>\n",
       "      <td>NaN</td>\n",
       "      <td>NaN</td>\n",
       "      <td>NaN</td>\n",
       "      <td>NaN</td>\n",
       "      <td>NaN</td>\n",
       "      <td>NaN</td>\n",
       "      <td>NaN</td>\n",
       "      <td>NaN</td>\n",
       "      <td>NaN</td>\n",
       "      <td>NaN</td>\n",
       "    </tr>\n",
       "    <tr>\n",
       "      <th>AZXR5HB99P936</th>\n",
       "      <td>NaN</td>\n",
       "      <td>NaN</td>\n",
       "      <td>NaN</td>\n",
       "      <td>NaN</td>\n",
       "      <td>NaN</td>\n",
       "      <td>NaN</td>\n",
       "      <td>NaN</td>\n",
       "      <td>NaN</td>\n",
       "      <td>NaN</td>\n",
       "      <td>NaN</td>\n",
       "      <td>...</td>\n",
       "      <td>NaN</td>\n",
       "      <td>NaN</td>\n",
       "      <td>NaN</td>\n",
       "      <td>NaN</td>\n",
       "      <td>NaN</td>\n",
       "      <td>NaN</td>\n",
       "      <td>NaN</td>\n",
       "      <td>NaN</td>\n",
       "      <td>NaN</td>\n",
       "      <td>NaN</td>\n",
       "    </tr>\n",
       "    <tr>\n",
       "      <th>AZZ4GD20C58ND</th>\n",
       "      <td>NaN</td>\n",
       "      <td>NaN</td>\n",
       "      <td>NaN</td>\n",
       "      <td>NaN</td>\n",
       "      <td>NaN</td>\n",
       "      <td>NaN</td>\n",
       "      <td>NaN</td>\n",
       "      <td>NaN</td>\n",
       "      <td>NaN</td>\n",
       "      <td>NaN</td>\n",
       "      <td>...</td>\n",
       "      <td>NaN</td>\n",
       "      <td>NaN</td>\n",
       "      <td>NaN</td>\n",
       "      <td>NaN</td>\n",
       "      <td>NaN</td>\n",
       "      <td>NaN</td>\n",
       "      <td>NaN</td>\n",
       "      <td>NaN</td>\n",
       "      <td>NaN</td>\n",
       "      <td>NaN</td>\n",
       "    </tr>\n",
       "  </tbody>\n",
       "</table>\n",
       "<p>3677 rows × 7244 columns</p>\n",
       "</div>"
      ],
      "text/plain": [
       "ProductId              0005019281  0005119367  0307142485  0307142493  \\\n",
       "UserId                                                                  \n",
       "A02755422E9NI29TCQ5W3         NaN         NaN         NaN         NaN   \n",
       "A100JCBNALJFAW                NaN         NaN         NaN         NaN   \n",
       "A10175AMUHOQC4                NaN         NaN         NaN         NaN   \n",
       "A103KNDW8GN92L                NaN         NaN         NaN         NaN   \n",
       "A106016KSI0YQ                 NaN         NaN         NaN         NaN   \n",
       "...                           ...         ...         ...         ...   \n",
       "AZUBX0AYYNTFF                 NaN         NaN         NaN         NaN   \n",
       "AZXGPM8EKSHE9                 NaN         NaN         NaN         NaN   \n",
       "AZXHK8IO25FL6                 NaN         NaN         NaN         NaN   \n",
       "AZXR5HB99P936                 NaN         NaN         NaN         NaN   \n",
       "AZZ4GD20C58ND                 NaN         NaN         NaN         NaN   \n",
       "\n",
       "ProductId              0307514161  0310263662  0310274281  0718000315  \\\n",
       "UserId                                                                  \n",
       "A02755422E9NI29TCQ5W3         NaN         NaN         NaN         NaN   \n",
       "A100JCBNALJFAW                NaN         NaN         NaN         NaN   \n",
       "A10175AMUHOQC4                NaN         NaN         NaN         NaN   \n",
       "A103KNDW8GN92L                NaN         4.0         NaN         NaN   \n",
       "A106016KSI0YQ                 NaN         NaN         NaN         NaN   \n",
       "...                           ...         ...         ...         ...   \n",
       "AZUBX0AYYNTFF                 NaN         NaN         NaN         NaN   \n",
       "AZXGPM8EKSHE9                 NaN         NaN         NaN         NaN   \n",
       "AZXHK8IO25FL6                 NaN         NaN         NaN         NaN   \n",
       "AZXR5HB99P936                 NaN         NaN         NaN         NaN   \n",
       "AZZ4GD20C58ND                 NaN         NaN         NaN         NaN   \n",
       "\n",
       "ProductId              0764001035  0764003828  ...  B00IKM5OCO  B00IWULQQ2  \\\n",
       "UserId                                         ...                           \n",
       "A02755422E9NI29TCQ5W3         NaN         NaN  ...         NaN         NaN   \n",
       "A100JCBNALJFAW                NaN         NaN  ...         NaN         NaN   \n",
       "A10175AMUHOQC4                NaN         NaN  ...         NaN         NaN   \n",
       "A103KNDW8GN92L                NaN         NaN  ...         NaN         NaN   \n",
       "A106016KSI0YQ                 NaN         NaN  ...         NaN         NaN   \n",
       "...                           ...         ...  ...         ...         ...   \n",
       "AZUBX0AYYNTFF                 NaN         NaN  ...         NaN         NaN   \n",
       "AZXGPM8EKSHE9                 NaN         NaN  ...         NaN         NaN   \n",
       "AZXHK8IO25FL6                 NaN         NaN  ...         NaN         NaN   \n",
       "AZXR5HB99P936                 NaN         NaN  ...         NaN         NaN   \n",
       "AZZ4GD20C58ND                 NaN         NaN  ...         NaN         NaN   \n",
       "\n",
       "ProductId              B00J4LMHMK  B00J5JSV1W  B00JA3RPAG  B00JAQJMJ0  \\\n",
       "UserId                                                                  \n",
       "A02755422E9NI29TCQ5W3         NaN         NaN         NaN         NaN   \n",
       "A100JCBNALJFAW                NaN         NaN         NaN         NaN   \n",
       "A10175AMUHOQC4                NaN         NaN         NaN         NaN   \n",
       "A103KNDW8GN92L                NaN         NaN         NaN         NaN   \n",
       "A106016KSI0YQ                 NaN         NaN         NaN         NaN   \n",
       "...                           ...         ...         ...         ...   \n",
       "AZUBX0AYYNTFF                 NaN         NaN         NaN         NaN   \n",
       "AZXGPM8EKSHE9                 NaN         NaN         NaN         NaN   \n",
       "AZXHK8IO25FL6                 NaN         NaN         NaN         NaN   \n",
       "AZXR5HB99P936                 NaN         NaN         NaN         NaN   \n",
       "AZZ4GD20C58ND                 NaN         NaN         NaN         NaN   \n",
       "\n",
       "ProductId              B00JBBJJ24  B00JKPHUE0  B00K2CHVJ4  B00L4IDS4W  \n",
       "UserId                                                                 \n",
       "A02755422E9NI29TCQ5W3         NaN         NaN         NaN         NaN  \n",
       "A100JCBNALJFAW                NaN         NaN         NaN         NaN  \n",
       "A10175AMUHOQC4                NaN         NaN         NaN         NaN  \n",
       "A103KNDW8GN92L                NaN         NaN         NaN         NaN  \n",
       "A106016KSI0YQ                 NaN         NaN         NaN         NaN  \n",
       "...                           ...         ...         ...         ...  \n",
       "AZUBX0AYYNTFF                 NaN         NaN         NaN         NaN  \n",
       "AZXGPM8EKSHE9                 NaN         NaN         NaN         NaN  \n",
       "AZXHK8IO25FL6                 NaN         NaN         NaN         NaN  \n",
       "AZXR5HB99P936                 NaN         NaN         NaN         NaN  \n",
       "AZZ4GD20C58ND                 NaN         NaN         NaN         NaN  \n",
       "\n",
       "[3677 rows x 7244 columns]"
      ]
     },
     "execution_count": 10,
     "metadata": {},
     "output_type": "execute_result"
    }
   ],
   "source": [
    "R"
   ]
  },
  {
   "cell_type": "code",
   "execution_count": 11,
   "metadata": {
    "slideshow": {
     "slide_type": "fragment"
    }
   },
   "outputs": [],
   "source": [
    "import MF as MF\n",
    "\n",
    "# I am pulling these hyperparameters out of the air;\n",
    "# That's not the right way to do it!\n",
    "RS = MF.als_MF(rank = 20, lambda_ = 1)"
   ]
  },
  {
   "cell_type": "code",
   "execution_count": 12,
   "metadata": {
    "slideshow": {
     "slide_type": "fragment"
    }
   },
   "outputs": [
    {
     "name": "stdout",
     "output_type": "stream",
     "text": [
      "CPU times: user 3min 14s, sys: 25.7 s, total: 3min 40s\n",
      "Wall time: 1min 43s\n"
     ]
    }
   ],
   "source": [
    "%time pred, error = RS.fit_model(R)"
   ]
  },
  {
   "cell_type": "code",
   "execution_count": 13,
   "metadata": {
    "slideshow": {
     "slide_type": "fragment"
    },
    "tags": [
     "hide-input"
    ]
   },
   "outputs": [
    {
     "name": "stdout",
     "output_type": "stream",
     "text": [
      "RMSE on visible entries (training data): 0.343\n"
     ]
    }
   ],
   "source": [
    "print(f'RMSE on visible entries (training data): {np.sqrt(error/R.count().sum()):0.3f}')"
   ]
  },
  {
   "cell_type": "code",
   "execution_count": 14,
   "metadata": {
    "slideshow": {
     "slide_type": "fragment"
    }
   },
   "outputs": [
    {
     "data": {
      "text/html": [
       "<div>\n",
       "<style scoped>\n",
       "    .dataframe tbody tr th:only-of-type {\n",
       "        vertical-align: middle;\n",
       "    }\n",
       "\n",
       "    .dataframe tbody tr th {\n",
       "        vertical-align: top;\n",
       "    }\n",
       "\n",
       "    .dataframe thead th {\n",
       "        text-align: right;\n",
       "    }\n",
       "</style>\n",
       "<table border=\"1\" class=\"dataframe\">\n",
       "  <thead>\n",
       "    <tr style=\"text-align: right;\">\n",
       "      <th>ProductId</th>\n",
       "      <th>0005019281</th>\n",
       "      <th>0005119367</th>\n",
       "      <th>0307142485</th>\n",
       "      <th>0307142493</th>\n",
       "      <th>0307514161</th>\n",
       "      <th>0310263662</th>\n",
       "      <th>0310274281</th>\n",
       "      <th>0718000315</th>\n",
       "      <th>0764001035</th>\n",
       "      <th>0764003828</th>\n",
       "      <th>...</th>\n",
       "      <th>B00IKM5OCO</th>\n",
       "      <th>B00IWULQQ2</th>\n",
       "      <th>B00J4LMHMK</th>\n",
       "      <th>B00J5JSV1W</th>\n",
       "      <th>B00JA3RPAG</th>\n",
       "      <th>B00JAQJMJ0</th>\n",
       "      <th>B00JBBJJ24</th>\n",
       "      <th>B00JKPHUE0</th>\n",
       "      <th>B00K2CHVJ4</th>\n",
       "      <th>B00L4IDS4W</th>\n",
       "    </tr>\n",
       "    <tr>\n",
       "      <th>UserId</th>\n",
       "      <th></th>\n",
       "      <th></th>\n",
       "      <th></th>\n",
       "      <th></th>\n",
       "      <th></th>\n",
       "      <th></th>\n",
       "      <th></th>\n",
       "      <th></th>\n",
       "      <th></th>\n",
       "      <th></th>\n",
       "      <th></th>\n",
       "      <th></th>\n",
       "      <th></th>\n",
       "      <th></th>\n",
       "      <th></th>\n",
       "      <th></th>\n",
       "      <th></th>\n",
       "      <th></th>\n",
       "      <th></th>\n",
       "      <th></th>\n",
       "      <th></th>\n",
       "    </tr>\n",
       "  </thead>\n",
       "  <tbody>\n",
       "    <tr>\n",
       "      <th>A02755422E9NI29TCQ5W3</th>\n",
       "      <td>5.016744</td>\n",
       "      <td>5.035791</td>\n",
       "      <td>5.272479</td>\n",
       "      <td>5.500806</td>\n",
       "      <td>5.092711</td>\n",
       "      <td>5.962542</td>\n",
       "      <td>4.735472</td>\n",
       "      <td>4.147332</td>\n",
       "      <td>4.476244</td>\n",
       "      <td>5.212951</td>\n",
       "      <td>...</td>\n",
       "      <td>3.798672</td>\n",
       "      <td>5.169233</td>\n",
       "      <td>5.311871</td>\n",
       "      <td>1.845315</td>\n",
       "      <td>4.144484</td>\n",
       "      <td>4.967808</td>\n",
       "      <td>5.350111</td>\n",
       "      <td>4.966035</td>\n",
       "      <td>4.117104</td>\n",
       "      <td>4.750125</td>\n",
       "    </tr>\n",
       "    <tr>\n",
       "      <th>A100JCBNALJFAW</th>\n",
       "      <td>3.436276</td>\n",
       "      <td>3.999680</td>\n",
       "      <td>3.647000</td>\n",
       "      <td>4.276271</td>\n",
       "      <td>4.580414</td>\n",
       "      <td>2.499193</td>\n",
       "      <td>4.074851</td>\n",
       "      <td>2.354174</td>\n",
       "      <td>4.212245</td>\n",
       "      <td>2.100499</td>\n",
       "      <td>...</td>\n",
       "      <td>2.899311</td>\n",
       "      <td>3.867784</td>\n",
       "      <td>2.704975</td>\n",
       "      <td>3.344246</td>\n",
       "      <td>1.953415</td>\n",
       "      <td>3.497559</td>\n",
       "      <td>2.796741</td>\n",
       "      <td>2.025870</td>\n",
       "      <td>2.293803</td>\n",
       "      <td>1.939761</td>\n",
       "    </tr>\n",
       "    <tr>\n",
       "      <th>A10175AMUHOQC4</th>\n",
       "      <td>4.714049</td>\n",
       "      <td>5.167051</td>\n",
       "      <td>4.579619</td>\n",
       "      <td>5.642514</td>\n",
       "      <td>5.533361</td>\n",
       "      <td>5.841875</td>\n",
       "      <td>4.834274</td>\n",
       "      <td>4.457410</td>\n",
       "      <td>3.919101</td>\n",
       "      <td>4.661091</td>\n",
       "      <td>...</td>\n",
       "      <td>2.710730</td>\n",
       "      <td>4.775693</td>\n",
       "      <td>5.064425</td>\n",
       "      <td>2.318141</td>\n",
       "      <td>3.004366</td>\n",
       "      <td>4.564798</td>\n",
       "      <td>5.749639</td>\n",
       "      <td>4.328667</td>\n",
       "      <td>4.120604</td>\n",
       "      <td>5.381400</td>\n",
       "    </tr>\n",
       "    <tr>\n",
       "      <th>A103KNDW8GN92L</th>\n",
       "      <td>4.932510</td>\n",
       "      <td>5.081288</td>\n",
       "      <td>4.312677</td>\n",
       "      <td>4.738268</td>\n",
       "      <td>4.511976</td>\n",
       "      <td>4.090451</td>\n",
       "      <td>4.545083</td>\n",
       "      <td>3.851625</td>\n",
       "      <td>5.050948</td>\n",
       "      <td>5.151466</td>\n",
       "      <td>...</td>\n",
       "      <td>3.270639</td>\n",
       "      <td>4.779824</td>\n",
       "      <td>5.191792</td>\n",
       "      <td>2.748767</td>\n",
       "      <td>4.610883</td>\n",
       "      <td>3.941584</td>\n",
       "      <td>4.595436</td>\n",
       "      <td>3.087369</td>\n",
       "      <td>3.637341</td>\n",
       "      <td>4.266788</td>\n",
       "    </tr>\n",
       "    <tr>\n",
       "      <th>A106016KSI0YQ</th>\n",
       "      <td>3.958983</td>\n",
       "      <td>4.050969</td>\n",
       "      <td>2.824939</td>\n",
       "      <td>4.425278</td>\n",
       "      <td>5.136042</td>\n",
       "      <td>3.488009</td>\n",
       "      <td>3.930796</td>\n",
       "      <td>3.189077</td>\n",
       "      <td>4.441554</td>\n",
       "      <td>4.236954</td>\n",
       "      <td>...</td>\n",
       "      <td>3.560373</td>\n",
       "      <td>3.826592</td>\n",
       "      <td>2.697408</td>\n",
       "      <td>3.000085</td>\n",
       "      <td>2.576007</td>\n",
       "      <td>3.078599</td>\n",
       "      <td>4.325538</td>\n",
       "      <td>3.867924</td>\n",
       "      <td>4.904706</td>\n",
       "      <td>2.920979</td>\n",
       "    </tr>\n",
       "    <tr>\n",
       "      <th>...</th>\n",
       "      <td>...</td>\n",
       "      <td>...</td>\n",
       "      <td>...</td>\n",
       "      <td>...</td>\n",
       "      <td>...</td>\n",
       "      <td>...</td>\n",
       "      <td>...</td>\n",
       "      <td>...</td>\n",
       "      <td>...</td>\n",
       "      <td>...</td>\n",
       "      <td>...</td>\n",
       "      <td>...</td>\n",
       "      <td>...</td>\n",
       "      <td>...</td>\n",
       "      <td>...</td>\n",
       "      <td>...</td>\n",
       "      <td>...</td>\n",
       "      <td>...</td>\n",
       "      <td>...</td>\n",
       "      <td>...</td>\n",
       "      <td>...</td>\n",
       "    </tr>\n",
       "    <tr>\n",
       "      <th>AZUBX0AYYNTFF</th>\n",
       "      <td>3.934942</td>\n",
       "      <td>3.892587</td>\n",
       "      <td>2.808979</td>\n",
       "      <td>4.280819</td>\n",
       "      <td>4.125316</td>\n",
       "      <td>3.107546</td>\n",
       "      <td>3.803944</td>\n",
       "      <td>2.905792</td>\n",
       "      <td>3.455285</td>\n",
       "      <td>3.801095</td>\n",
       "      <td>...</td>\n",
       "      <td>2.935018</td>\n",
       "      <td>3.779084</td>\n",
       "      <td>2.879208</td>\n",
       "      <td>2.361679</td>\n",
       "      <td>2.736826</td>\n",
       "      <td>4.232730</td>\n",
       "      <td>3.793407</td>\n",
       "      <td>2.844898</td>\n",
       "      <td>3.637923</td>\n",
       "      <td>2.541944</td>\n",
       "    </tr>\n",
       "    <tr>\n",
       "      <th>AZXGPM8EKSHE9</th>\n",
       "      <td>3.521972</td>\n",
       "      <td>3.235185</td>\n",
       "      <td>3.227526</td>\n",
       "      <td>4.494213</td>\n",
       "      <td>4.059901</td>\n",
       "      <td>4.279193</td>\n",
       "      <td>2.669037</td>\n",
       "      <td>2.889117</td>\n",
       "      <td>1.958714</td>\n",
       "      <td>5.047737</td>\n",
       "      <td>...</td>\n",
       "      <td>1.529112</td>\n",
       "      <td>3.307141</td>\n",
       "      <td>4.465824</td>\n",
       "      <td>2.698001</td>\n",
       "      <td>2.322919</td>\n",
       "      <td>0.499406</td>\n",
       "      <td>3.766887</td>\n",
       "      <td>2.673469</td>\n",
       "      <td>2.144243</td>\n",
       "      <td>1.803117</td>\n",
       "    </tr>\n",
       "    <tr>\n",
       "      <th>AZXHK8IO25FL6</th>\n",
       "      <td>3.675436</td>\n",
       "      <td>2.966187</td>\n",
       "      <td>3.604796</td>\n",
       "      <td>3.858191</td>\n",
       "      <td>3.558386</td>\n",
       "      <td>3.245839</td>\n",
       "      <td>3.341947</td>\n",
       "      <td>3.374730</td>\n",
       "      <td>3.220759</td>\n",
       "      <td>4.124752</td>\n",
       "      <td>...</td>\n",
       "      <td>2.460944</td>\n",
       "      <td>3.429233</td>\n",
       "      <td>3.898791</td>\n",
       "      <td>2.591366</td>\n",
       "      <td>2.630376</td>\n",
       "      <td>4.918093</td>\n",
       "      <td>4.411383</td>\n",
       "      <td>1.588602</td>\n",
       "      <td>1.772926</td>\n",
       "      <td>3.675194</td>\n",
       "    </tr>\n",
       "    <tr>\n",
       "      <th>AZXR5HB99P936</th>\n",
       "      <td>4.231294</td>\n",
       "      <td>4.286031</td>\n",
       "      <td>4.331101</td>\n",
       "      <td>4.067249</td>\n",
       "      <td>4.056134</td>\n",
       "      <td>4.723361</td>\n",
       "      <td>4.077680</td>\n",
       "      <td>3.382070</td>\n",
       "      <td>3.328841</td>\n",
       "      <td>5.121441</td>\n",
       "      <td>...</td>\n",
       "      <td>3.457711</td>\n",
       "      <td>4.026971</td>\n",
       "      <td>3.484442</td>\n",
       "      <td>2.102276</td>\n",
       "      <td>3.313046</td>\n",
       "      <td>5.572022</td>\n",
       "      <td>3.880499</td>\n",
       "      <td>3.524514</td>\n",
       "      <td>2.827675</td>\n",
       "      <td>2.612564</td>\n",
       "    </tr>\n",
       "    <tr>\n",
       "      <th>AZZ4GD20C58ND</th>\n",
       "      <td>4.292429</td>\n",
       "      <td>4.505620</td>\n",
       "      <td>4.143057</td>\n",
       "      <td>5.076484</td>\n",
       "      <td>4.438498</td>\n",
       "      <td>4.479643</td>\n",
       "      <td>3.967501</td>\n",
       "      <td>2.830961</td>\n",
       "      <td>4.154154</td>\n",
       "      <td>4.557856</td>\n",
       "      <td>...</td>\n",
       "      <td>3.135017</td>\n",
       "      <td>4.544846</td>\n",
       "      <td>4.738023</td>\n",
       "      <td>2.247030</td>\n",
       "      <td>2.991763</td>\n",
       "      <td>4.273621</td>\n",
       "      <td>4.183306</td>\n",
       "      <td>3.634207</td>\n",
       "      <td>3.641665</td>\n",
       "      <td>3.468774</td>\n",
       "    </tr>\n",
       "  </tbody>\n",
       "</table>\n",
       "<p>3677 rows × 7244 columns</p>\n",
       "</div>"
      ],
      "text/plain": [
       "ProductId              0005019281  0005119367  0307142485  0307142493  \\\n",
       "UserId                                                                  \n",
       "A02755422E9NI29TCQ5W3    5.016744    5.035791    5.272479    5.500806   \n",
       "A100JCBNALJFAW           3.436276    3.999680    3.647000    4.276271   \n",
       "A10175AMUHOQC4           4.714049    5.167051    4.579619    5.642514   \n",
       "A103KNDW8GN92L           4.932510    5.081288    4.312677    4.738268   \n",
       "A106016KSI0YQ            3.958983    4.050969    2.824939    4.425278   \n",
       "...                           ...         ...         ...         ...   \n",
       "AZUBX0AYYNTFF            3.934942    3.892587    2.808979    4.280819   \n",
       "AZXGPM8EKSHE9            3.521972    3.235185    3.227526    4.494213   \n",
       "AZXHK8IO25FL6            3.675436    2.966187    3.604796    3.858191   \n",
       "AZXR5HB99P936            4.231294    4.286031    4.331101    4.067249   \n",
       "AZZ4GD20C58ND            4.292429    4.505620    4.143057    5.076484   \n",
       "\n",
       "ProductId              0307514161  0310263662  0310274281  0718000315  \\\n",
       "UserId                                                                  \n",
       "A02755422E9NI29TCQ5W3    5.092711    5.962542    4.735472    4.147332   \n",
       "A100JCBNALJFAW           4.580414    2.499193    4.074851    2.354174   \n",
       "A10175AMUHOQC4           5.533361    5.841875    4.834274    4.457410   \n",
       "A103KNDW8GN92L           4.511976    4.090451    4.545083    3.851625   \n",
       "A106016KSI0YQ            5.136042    3.488009    3.930796    3.189077   \n",
       "...                           ...         ...         ...         ...   \n",
       "AZUBX0AYYNTFF            4.125316    3.107546    3.803944    2.905792   \n",
       "AZXGPM8EKSHE9            4.059901    4.279193    2.669037    2.889117   \n",
       "AZXHK8IO25FL6            3.558386    3.245839    3.341947    3.374730   \n",
       "AZXR5HB99P936            4.056134    4.723361    4.077680    3.382070   \n",
       "AZZ4GD20C58ND            4.438498    4.479643    3.967501    2.830961   \n",
       "\n",
       "ProductId              0764001035  0764003828  ...  B00IKM5OCO  B00IWULQQ2  \\\n",
       "UserId                                         ...                           \n",
       "A02755422E9NI29TCQ5W3    4.476244    5.212951  ...    3.798672    5.169233   \n",
       "A100JCBNALJFAW           4.212245    2.100499  ...    2.899311    3.867784   \n",
       "A10175AMUHOQC4           3.919101    4.661091  ...    2.710730    4.775693   \n",
       "A103KNDW8GN92L           5.050948    5.151466  ...    3.270639    4.779824   \n",
       "A106016KSI0YQ            4.441554    4.236954  ...    3.560373    3.826592   \n",
       "...                           ...         ...  ...         ...         ...   \n",
       "AZUBX0AYYNTFF            3.455285    3.801095  ...    2.935018    3.779084   \n",
       "AZXGPM8EKSHE9            1.958714    5.047737  ...    1.529112    3.307141   \n",
       "AZXHK8IO25FL6            3.220759    4.124752  ...    2.460944    3.429233   \n",
       "AZXR5HB99P936            3.328841    5.121441  ...    3.457711    4.026971   \n",
       "AZZ4GD20C58ND            4.154154    4.557856  ...    3.135017    4.544846   \n",
       "\n",
       "ProductId              B00J4LMHMK  B00J5JSV1W  B00JA3RPAG  B00JAQJMJ0  \\\n",
       "UserId                                                                  \n",
       "A02755422E9NI29TCQ5W3    5.311871    1.845315    4.144484    4.967808   \n",
       "A100JCBNALJFAW           2.704975    3.344246    1.953415    3.497559   \n",
       "A10175AMUHOQC4           5.064425    2.318141    3.004366    4.564798   \n",
       "A103KNDW8GN92L           5.191792    2.748767    4.610883    3.941584   \n",
       "A106016KSI0YQ            2.697408    3.000085    2.576007    3.078599   \n",
       "...                           ...         ...         ...         ...   \n",
       "AZUBX0AYYNTFF            2.879208    2.361679    2.736826    4.232730   \n",
       "AZXGPM8EKSHE9            4.465824    2.698001    2.322919    0.499406   \n",
       "AZXHK8IO25FL6            3.898791    2.591366    2.630376    4.918093   \n",
       "AZXR5HB99P936            3.484442    2.102276    3.313046    5.572022   \n",
       "AZZ4GD20C58ND            4.738023    2.247030    2.991763    4.273621   \n",
       "\n",
       "ProductId              B00JBBJJ24  B00JKPHUE0  B00K2CHVJ4  B00L4IDS4W  \n",
       "UserId                                                                 \n",
       "A02755422E9NI29TCQ5W3    5.350111    4.966035    4.117104    4.750125  \n",
       "A100JCBNALJFAW           2.796741    2.025870    2.293803    1.939761  \n",
       "A10175AMUHOQC4           5.749639    4.328667    4.120604    5.381400  \n",
       "A103KNDW8GN92L           4.595436    3.087369    3.637341    4.266788  \n",
       "A106016KSI0YQ            4.325538    3.867924    4.904706    2.920979  \n",
       "...                           ...         ...         ...         ...  \n",
       "AZUBX0AYYNTFF            3.793407    2.844898    3.637923    2.541944  \n",
       "AZXGPM8EKSHE9            3.766887    2.673469    2.144243    1.803117  \n",
       "AZXHK8IO25FL6            4.411383    1.588602    1.772926    3.675194  \n",
       "AZXR5HB99P936            3.880499    3.524514    2.827675    2.612564  \n",
       "AZZ4GD20C58ND            4.183306    3.634207    3.641665    3.468774  \n",
       "\n",
       "[3677 rows x 7244 columns]"
      ]
     },
     "execution_count": 14,
     "metadata": {},
     "output_type": "execute_result"
    }
   ],
   "source": [
    "pred"
   ]
  },
  {
   "cell_type": "code",
   "execution_count": 15,
   "metadata": {
    "slideshow": {
     "slide_type": "skip"
    },
    "tags": [
     "hide-cell"
    ]
   },
   "outputs": [],
   "source": [
    "## todo: hold out test data, compute oos error\n",
    "RN = ~R.isnull()\n",
    "visible = np.where(RN)\n",
    "import sklearn.model_selection as model_selection\n",
    "X_train, X_test, Y_train, Y_test = model_selection.train_test_split(visible[0], visible[1], test_size = 0.1)"
   ]
  },
  {
   "cell_type": "markdown",
   "metadata": {
    "slideshow": {
     "slide_type": "fragment"
    }
   },
   "source": [
    "Just for comparison's sake, let's check the performance of $k$-NN on this dataset.\n",
    "\n",
    "Again, this is only on the training data -- so overly optimistic for sure.\n",
    "\n",
    "And note that this is a subset of the full dataset -- the subset that is \"easiest\" to predict due to density."
   ]
  },
  {
   "cell_type": "code",
   "execution_count": 16,
   "metadata": {
    "slideshow": {
     "slide_type": "fragment"
    }
   },
   "outputs": [
    {
     "name": "stdout",
     "output_type": "stream",
     "text": [
      "CPU times: user 6.03 s, sys: 44.8 ms, total: 6.07 s\n",
      "Wall time: 6.08 s\n"
     ]
    }
   ],
   "source": [
    "from sklearn.neighbors import KNeighborsClassifier\n",
    "from sklearn.metrics import mean_squared_error\n",
    "X_train = good_df.drop(columns=['Id', 'ProductId', 'UserId', 'Text', 'Summary'])\n",
    "y_train = good_df['Score']\n",
    "# Using k-NN on features HelpfulnessNumerator, HelpfulnessDenominator, Score, Time\n",
    "model = KNeighborsClassifier(n_neighbors=3).fit(X_train, y_train)\n",
    "%time y_hat = model.predict(X_train)"
   ]
  },
  {
   "cell_type": "code",
   "execution_count": 17,
   "metadata": {
    "slideshow": {
     "slide_type": "fragment"
    },
    "tags": [
     "hide-input"
    ]
   },
   "outputs": [
    {
     "name": "stdout",
     "output_type": "stream",
     "text": [
      "RMSE on visible entries (test set): 0.647\n"
     ]
    }
   ],
   "source": [
    "print(f'RMSE on visible entries (test set): {mean_squared_error(y_train, y_hat, squared = False):0.3f}')"
   ]
  },
  {
   "cell_type": "markdown",
   "metadata": {
    "slideshow": {
     "slide_type": "slide"
    }
   },
   "source": [
    "### Assessing MF"
   ]
  },
  {
   "cell_type": "markdown",
   "metadata": {
    "slideshow": {
     "slide_type": "fragment"
    }
   },
   "source": [
    "Matrix Factorization per se is a good idea.    However, many of the improvements we've discussed for CF apply to MF as well."
   ]
  },
  {
   "cell_type": "markdown",
   "metadata": {
    "slideshow": {
     "slide_type": "fragment"
    }
   },
   "source": [
    "To illustrate, we'll look at some of the successive improvements used by the team that won the Netflix prize (\"BellKor's Pragmatic Chaos\").\n",
    "\n",
    "When the prize was announced, the Netflix supplied solution achieved an RMSE of 0.951.\n",
    "\n",
    "By the end of the competition (about 3 years), the winning team's solution achieved RMSE of 0.856."
   ]
  },
  {
   "cell_type": "markdown",
   "metadata": {
    "slideshow": {
     "slide_type": "fragment"
    }
   },
   "source": [
    "Let's restate our MF objective in a way that will make things clearer:\n",
    "\n",
    "$$ \\min_{U, V} \\sum_{(u, i)\\in S}(r_{ui} - u_u^Tv_i)^2 + \\lambda(\\Vert U\\Vert^2 + \\Vert V\\Vert^2) $$"
   ]
  },
  {
   "cell_type": "markdown",
   "metadata": {
    "slideshow": {
     "slide_type": "slide"
    }
   },
   "source": [
    "__1. Adding Biases__"
   ]
  },
  {
   "cell_type": "markdown",
   "metadata": {},
   "source": [
    "$$ \\min_{U, V} \\sum_{(u, i)\\in S}(r_{ui} - (\\mu + \\alpha_u + \\beta_i + u_u^Tv_i)^2 + \\lambda(\\Vert U\\Vert^2 + \\Vert V\\Vert^2 + \\Vert \\alpha\\Vert^2 + \\Vert \\beta \\Vert^2) $$"
   ]
  },
  {
   "cell_type": "markdown",
   "metadata": {
    "slideshow": {
     "slide_type": "fragment"
    }
   },
   "source": [
    "<center>\n",
    "    \n",
    "<img src=\"figs/L20-netflix-1.png\" alt=\"Figure\" width=\"70%\">\n",
    "    \n",
    "</center>"
   ]
  },
  {
   "cell_type": "markdown",
   "metadata": {
    "slideshow": {
     "slide_type": "slide"
    }
   },
   "source": [
    "__2. Who Rated What?__\n",
    "\n",
    "In reality, ratings are not provided __at random.__\n",
    "\n",
    "Take note of which users rated the same movies (ala CF) and use this information.\n",
    "\n",
    "<center>\n",
    "    \n",
    "<img src=\"figs/L20-netflix-2.png\" alt=\"Figure\" width=\"70%\">\n",
    "    \n",
    "</center>"
   ]
  },
  {
   "cell_type": "markdown",
   "metadata": {
    "slideshow": {
     "slide_type": "fragment"
    }
   },
   "source": [
    "<center>\n",
    "    \n",
    "<img src=\"figs/L20-netflix-3.png\" alt=\"Figure\" width=\"70%\">\n",
    "    \n",
    "</center>"
   ]
  },
  {
   "cell_type": "markdown",
   "metadata": {
    "slideshow": {
     "slide_type": "slide"
    }
   },
   "source": [
    "__3. Ratings Change Over Time__\n",
    "\n",
    "Older movies tend to get higher ratings!\n",
    "\n",
    "<center>\n",
    "    \n",
    "<img src=\"figs/L20-netflix-4.png\" alt=\"Figure\" width=\"70%\">\n",
    "    \n",
    "</center>"
   ]
  },
  {
   "cell_type": "markdown",
   "metadata": {
    "slideshow": {
     "slide_type": "fragment"
    }
   },
   "source": [
    "$$ \\min_{U, V} \\sum_{(u, i)\\in S}(r_{ui} - (\\mu + \\alpha_u(t) + \\beta_i(t) + u_u^Tv_i(t))^2 + \\lambda(\\Vert U\\Vert^2 + \\Vert V\\Vert^2 + \\Vert \\alpha\\Vert^2 + \\Vert \\beta \\Vert^2) $$"
   ]
  },
  {
   "cell_type": "markdown",
   "metadata": {
    "slideshow": {
     "slide_type": "fragment"
    }
   },
   "source": [
    "<center>\n",
    "    \n",
    "<img src=\"figs/L20-netflix-5.png\" alt=\"Figure\" width=\"70%\">\n",
    "    \n",
    "</center>"
   ]
  },
  {
   "cell_type": "markdown",
   "metadata": {
    "slideshow": {
     "slide_type": "fragment"
    }
   },
   "source": [
    "To estimate these billions of parameters, we cannot use alternating least squares or any linear algebraic method.\n",
    "\n",
    "We need to use gradient descent (which we will cover in a future lecture)."
   ]
  },
  {
   "cell_type": "markdown",
   "metadata": {
    "slideshow": {
     "slide_type": "slide"
    }
   },
   "source": [
    "## Assessing Recommender Systems"
   ]
  },
  {
   "cell_type": "markdown",
   "metadata": {
    "slideshow": {
     "slide_type": "fragment"
    }
   },
   "source": [
    "There are a number of concerns with the widespread use of recommender systems and personalization in society."
   ]
  },
  {
   "cell_type": "markdown",
   "metadata": {
    "slideshow": {
     "slide_type": "slide"
    }
   },
   "source": [
    "First, recommender systems are accused of creating __filter bubbles.__ \n",
    "\n",
    "A filter bubble is the tendency for recommender systems to limit the variety of information presented to the user."
   ]
  },
  {
   "cell_type": "markdown",
   "metadata": {
    "slideshow": {
     "slide_type": "fragment"
    }
   },
   "source": [
    "The concern is that a user's past expression of interests will guide the algorithm in continuing to provide \"more of the same.\"\n",
    "\n",
    "This is believed to increase polarization in society, and to reinforce confirmation bias."
   ]
  },
  {
   "cell_type": "markdown",
   "metadata": {
    "slideshow": {
     "slide_type": "slide"
    }
   },
   "source": [
    "Second, recommender systems in modern usage are often tuned to __maximize engagement.__\n",
    "\n",
    "In other words, the objective function of the system is not to present the user's most favored content, but rather the content that will be most likely to keep the user on the site."
   ]
  },
  {
   "cell_type": "markdown",
   "metadata": {
    "slideshow": {
     "slide_type": "fragment"
    }
   },
   "source": [
    "The incentive to maximize engagement arises on sites that are supported by advertising revenue.   \n",
    "\n",
    "More engagement time means more revenue for the site."
   ]
  },
  {
   "cell_type": "markdown",
   "metadata": {
    "slideshow": {
     "slide_type": "fragment"
    }
   },
   "source": [
    "However, many studies have shown that sites that strive to __maximize engagement__ do so in large part by guiding users toward __extreme content:__\n",
    "* content that is shocking, \n",
    "* or feeds conspiracy theories, \n",
    "* or presents extreme views on popular topics.\n"
   ]
  },
  {
   "cell_type": "markdown",
   "metadata": {
    "slideshow": {
     "slide_type": "fragment"
    }
   },
   "source": [
    "Given this tendency of modern recommender systems, \n",
    "for a third party to create \"clickbait\" content such as this, one of the easiest ways is to present false claims."
   ]
  },
  {
   "cell_type": "markdown",
   "metadata": {
    "slideshow": {
     "slide_type": "fragment"
    }
   },
   "source": [
    "Methods for addressing these issues are being very actively studied at present.\n",
    "\n",
    "Ways of addressing these issues can be:\n",
    "* via technology\n",
    "* via public policy"
   ]
  },
  {
   "cell_type": "markdown",
   "metadata": {
    "slideshow": {
     "slide_type": "skip"
    }
   },
   "source": [
    "```{note}\n",
    "You can read about some of the work done in my group on this topic:\n",
    "* [How YouTube Leads Privacy-Seeking Users Away from Reliable Information,](http://www.cs.bu.edu/faculty/crovella/paper-archive/youtube-fairumap20.pdf) \n",
    "Larissa Spinelli and Mark Crovella,\n",
    "_Proceedings of the Workshop on Fairness in User Modeling, Adaptation, and Personalization (FairUMAP)_, 2020.   \n",
    "* [Closed-Loop Opinion Formation,](http://www.cs.bu.edu/faculty/crovella/paper-archive/netsci17-filterbubble.pdf) Larissa Spinelli and Mark Crovella \n",
    "_Proceedings of the 9th International ACM Web Science Conference (WebSci)_, 2017.\n",
    "* [Fighting Fire with Fire: Using Antidote Data to Improve Polarization and Fairness of Recommender Systems,](http://www.cs.bu.edu/faculty/crovella/paper-archive/wsdm19-antidote-data.pdf)\n",
    "Bashir Rastegarpanah, Krishna P. Gummadi and Mark Crovella\n",
    "_Proceedings of WSDM_, 2019.\n",
    "```"
   ]
  }
 ],
 "metadata": {
  "anaconda-cloud": {},
  "celltoolbar": "Slideshow",
  "kernelspec": {
   "display_name": "Python 3",
   "language": "python",
   "name": "python3"
  },
  "language_info": {
   "codemirror_mode": {
    "name": "ipython",
    "version": 3
   },
   "file_extension": ".py",
   "mimetype": "text/x-python",
   "name": "python",
   "nbconvert_exporter": "python",
   "pygments_lexer": "ipython3",
   "version": "3.7.10"
  },
  "rise": {
   "scroll": true,
   "theme": "beige",
   "transition": "fade"
  }
 },
 "nbformat": 4,
 "nbformat_minor": 1
}
