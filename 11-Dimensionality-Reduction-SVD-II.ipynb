{
 "cells": [
  {
   "cell_type": "code",
   "execution_count": 1,
   "metadata": {
    "hide_input": true,
    "slideshow": {
     "slide_type": "skip"
    },
    "tags": [
     "hide-cell"
    ]
   },
   "outputs": [],
   "source": [
    "import numpy as np\n",
    "import scipy as sp\n",
    "import matplotlib.pyplot as plt\n",
    "import pandas as pd\n",
    "import seaborn as sns\n",
    "import matplotlib as mp\n",
    "import sklearn\n",
    "from IPython.display import Image\n",
    "\n",
    "%matplotlib inline"
   ]
  },
  {
   "cell_type": "markdown",
   "metadata": {
    "slideshow": {
     "slide_type": "slide"
    }
   },
   "source": [
    "# Dimensionality Reduction - SVD II"
   ]
  },
  {
   "cell_type": "markdown",
   "metadata": {
    "slideshow": {
     "slide_type": "slide"
    }
   },
   "source": [
    "In the last lecture we learned about the SVD as a tool for constructing low-rank matrices.\n",
    "\n",
    "Today we'll look at it as a way to transform our data objects."
   ]
  },
  {
   "cell_type": "markdown",
   "metadata": {
    "slideshow": {
     "slide_type": "fragment"
    }
   },
   "source": [
    "As a reminder, here is what the SVD looks like:"
   ]
  },
  {
   "cell_type": "markdown",
   "metadata": {
    "slideshow": {
     "slide_type": "-"
    }
   },
   "source": [
    "$$ \\mbox{objects}\\left\\{\\begin{array}{c}\\;\\\\\\;\\\\\\;\\\\\\;\\\\\\;\\end{array}\\right.\\;\\;\\overbrace{\\left[\\begin{array}{cccc}\\begin{array}{c}\\vdots\\\\\\vdots\\\\{\\bf a_1}\\\\\\vdots\\\\\\vdots\\end{array}&\\begin{array}{c}\\vdots\\\\\\vdots\\\\{\\bf a_2}\\\\\\vdots\\\\\\vdots\\end{array}&\\dots&\\begin{array}{c}\\vdots\\\\\\vdots\\\\{\\bf a_n}\\\\\\vdots\\\\\\vdots\\end{array}\\\\\\end{array}\\right]}^{\\mbox{features}} =\n",
    "\\overbrace{\\left[\\begin{array}{cc}\\vdots&\\vdots\\\\\\vdots&\\vdots\\\\\\sigma_1\\mathbf{u}_1&\\sigma_k\\mathbf{u}_k\\\\\\vdots&\\vdots\\\\\\vdots&\\vdots\\end{array}\\right]}^{\\large k}\n",
    "\\times\n",
    "\\left[\\begin{array}{ccccc}\\dots&\\dots&\\mathbf{v}_1&\\dots&\\dots\\\\\\dots&\\dots&\\mathbf{v}_k&\\dots&\\dots\\end{array}\\right]$$\n",
    "\n",
    "\n",
    "$$ A = U\\Sigma V^T$$"
   ]
  },
  {
   "cell_type": "markdown",
   "metadata": {
    "slideshow": {
     "slide_type": "fragment"
    }
   },
   "source": [
    "Notice that $U$ contains a row for each object.   \n",
    "\n",
    "In a sense we have transformed objects from an $n$ dimensional space to a $k$ dimensional space, where $k$ is (probably much) smaller than $n$."
   ]
  },
  {
   "cell_type": "markdown",
   "metadata": {
    "slideshow": {
     "slide_type": "slide"
    }
   },
   "source": [
    "This is an example of __dimensionality reduction.__}"
   ]
  },
  {
   "cell_type": "markdown",
   "metadata": {
    "slideshow": {
     "slide_type": "fragment"
    }
   },
   "source": [
    "When we take our data to be the rows of $U\\Sigma$ instead of rows of $A$, we are __reducing the dimension__ of our data from $n$ dimensions to $k$ dimensions."
   ]
  },
  {
   "cell_type": "markdown",
   "metadata": {
    "slideshow": {
     "slide_type": "fragment"
    }
   },
   "source": [
    "This suggests an idea: is there an __optimal__ transformation of the data into $k$ dimensions?\n",
    "    \n",
    "What would that mean?"
   ]
  },
  {
   "cell_type": "markdown",
   "metadata": {
    "slideshow": {
     "slide_type": "skip"
    }
   },
   "source": [
    "```{note}\n",
    "An excellent reference for the following section is \n",
    "https://liorpachter.wordpress.com/2014/05/26/what-is-principal-component-analysis/.\n",
    "Some figures and discusion are taken from there.\n",
    "```"
   ]
  },
  {
   "cell_type": "markdown",
   "metadata": {},
   "source": [
    "<!-- https://liorpachter.wordpress.com/2014/05/26/what-is-principal-component-analysis/ -->\n",
    "\n",
    "Here is a natural criterion for the \"best\" $k$-dimensional transformation:\n",
    "\n",
    "Find the $k$-dimensional hyperplane that is \"closest\" to the points.\n",
    "\n",
    "More precisely:\n",
    "\n",
    "Given n points in $\\mathbb{R}^n$, find the hyperplane (affine space) of dimension $k$ with the property that the squared distance of the points to their orthogonal projection onto the hyperplane is minimized."
   ]
  },
  {
   "cell_type": "markdown",
   "metadata": {},
   "source": [
    "<center>\n",
    "    \n",
    "<img src=\"figs/pca_figure1.jpeg\" alt=\"Figure\" width=\"40%\">\n",
    "    \n",
    "</center>\n",
    "\n",
    "Source: https://liorpachter.wordpress.com/2014/05/26/what-is-principal-component-analysis/"
   ]
  },
  {
   "cell_type": "markdown",
   "metadata": {
    "slideshow": {
     "slide_type": "fragment"
    }
   },
   "source": [
    "This sounds like an appealing criterion.   \n",
    "\n",
    "But it turns out not to just be appealing ...  it turns out to have a strong statistical guarantee.\n",
    "\n",
    "It turns out that this criterion is a transformation that captures the maximum __variance__ in the data.\n",
    "\n",
    "That is, the resulting $k$-dimensional transformation is the one with maximum variance.\n",
    "\n",
    "Let's see why this is the case."
   ]
  },
  {
   "cell_type": "markdown",
   "metadata": {},
   "source": [
    "First, let's recall the idea of a dataset __centroid.__\n",
    "\n",
    "Given a $n\\times d$ data matrix $X$ with observations on the rows (as always):\n",
    "    \n",
    "then \n",
    "\n",
    "$$\\overline{\\mathbf{x}}^T = \\frac{1}{n}\\mathbf{1}^TX.$$\n",
    "\n",
    "In words: the centroid -- ie, the mean vector -- is the average over the rows.\n",
    "\n",
    "It is the \"center of mass\" of the dataset."
   ]
  },
  {
   "cell_type": "markdown",
   "metadata": {},
   "source": [
    "Next, recall the sample variance of a dataset is:\n",
    "    \n",
    "$$ \\operatorname{Var}(X) = \\frac{1}{n}\\sum_j\\Vert \\mathbf{x}_j^T - \\overline{\\mathbf{x}}^T\\Vert^2 $$\n",
    "\n",
    "where $\\mathbf{x}_j^T$ is row $j$ of $X$.\n",
    "\n",
    "In other words, the sample variance of the set of points is the average squared distance from each point to the centroid. "
   ]
  },
  {
   "cell_type": "markdown",
   "metadata": {},
   "source": [
    "Consider if we move the points (translate each point by some constant amount).   Clearly, the sample variance does not change.\n",
    "\n",
    "So, let's move the points to be __centered__ on the __origin.__\n",
    "\n",
    "$$ \\tilde{X} = X - \\mathbf{1}\\overline{\\mathbf{x}}^T $$\n",
    "\n",
    "The sample variance of the new points $\\tilde{X}$ is the same as the old points $X$, but the centroid of the new point set is the origin."
   ]
  },
  {
   "cell_type": "markdown",
   "metadata": {},
   "source": [
    "Now that the mean of the points is the zero vector, we can reason geometrically.\n",
    "\n",
    "Here is a picture to show why the distance-minimizing subspace is variance maximizing.\n",
    "\n",
    "In this figure,   \n",
    "* the red point is one example point from $\\tilde{X}$, \n",
    "* the green point is the origin / centroid, and\n",
    "* the blue point is the $k$-dimensional projection of the red point."
   ]
  },
  {
   "cell_type": "markdown",
   "metadata": {},
   "source": [
    "<center>\n",
    "    \n",
    "<img src=\"figs/pca_figure5.jpeg\" alt=\"Figure\" width=\"40%\">\n",
    "    \n",
    "</center>\n",
    "\n",
    "Source: https://liorpachter.wordpress.com/2014/05/26/what-is-principal-component-analysis/"
   ]
  },
  {
   "cell_type": "markdown",
   "metadata": {},
   "source": [
    "Regardless of how we shift the green line, a right triangle is formed because the projection is orthogonal. \n",
    "\n",
    "So -- by virtue of the Pythagorean Theorem, the __blue line squared__ plus the __red line squared__ equals the __black line squared.__"
   ]
  },
  {
   "cell_type": "markdown",
   "metadata": {},
   "source": [
    "The length of the black line is fixed -- it is the distance of the original point from the origin."
   ]
  },
  {
   "cell_type": "markdown",
   "metadata": {},
   "source": [
    "Which means that when we shift the subspace (green line) so as to __minimize the squared distances to all the example points__ $\\tilde{X}$ (blue lines) we automatically __maximize the squared distance of all the resulting blue points to the origin__ (red lines).\n",
    "\n",
    "And the squared distance of the blue point from the origin (red dashed line) is its variance."
   ]
  },
  {
   "cell_type": "markdown",
   "metadata": {},
   "source": [
    "In other words, the __distance-minimizing__ projection is the __variance-maximizing__ projection!"
   ]
  },
  {
   "cell_type": "code",
   "execution_count": 19,
   "metadata": {
    "hide_input": true,
    "tags": [
     "hide-cell"
    ]
   },
   "outputs": [],
   "source": [
    "def centerAxes(ax):\n",
    "    ax.spines['left'].set_position('zero')\n",
    "    ax.spines['right'].set_color('none')\n",
    "    ax.spines['bottom'].set_position('zero')\n",
    "    ax.spines['top'].set_color('none')\n",
    "    ax.xaxis.set_ticks_position('bottom')\n",
    "    ax.yaxis.set_ticks_position('left')\n",
    "    bounds = np.array([ax.axes.get_xlim(), ax.axes.get_ylim()])\n",
    "    ax.plot(bounds[0][0],bounds[1][0],'')\n",
    "    ax.plot(bounds[0][1],bounds[1][1],'')"
   ]
  },
  {
   "cell_type": "code",
   "execution_count": 26,
   "metadata": {
    "hide_input": true,
    "slideshow": {
     "slide_type": "fragment"
    },
    "tags": [
     "hide-input"
    ]
   },
   "outputs": [
    {
     "data": {
      "image/png": "[encoded data removed]",
      "text/plain": [
       "<Figure size 504x504 with 1 Axes>"
      ]
     },
     "metadata": {
      "needs_background": "light"
     },
     "output_type": "display_data"
    }
   ],
   "source": [
    "n_samples = 500\n",
    "C = np.array([[0.1, 0.6], [2., .6]])\n",
    "X = np.random.randn(n_samples, 2) @ C + np.array([-6, 3])\n",
    "ax = plt.figure(figsize = (7, 7)).add_subplot()\n",
    "plt.xlim([-12, 12])\n",
    "plt.ylim([-7, 7])\n",
    "centerAxes(ax)\n",
    "plt.axis('equal')\n",
    "plt.scatter(X[:, 0], X[:, 1], s=10, alpha=1);"
   ]
  },
  {
   "cell_type": "markdown",
   "metadata": {
    "slideshow": {
     "slide_type": "fragment"
    }
   },
   "source": [
    "What would happen if we used SVD, and kept only rank-1 approximation to the data?\n",
    "\n",
    "This would be the 1-D __subspace__ that approximates the data best.   "
   ]
  },
  {
   "cell_type": "markdown",
   "metadata": {
    "slideshow": {
     "slide_type": "fragment"
    }
   },
   "source": [
    "However the variance in the data is defined with respect to the data mean, so we need to mean-center the data first, before using SVD.\n",
    "\n",
    "That is, SVD in this case finds the best 1-D subspace, not the best line though the data (which might not pass through the origin)."
   ]
  },
  {
   "cell_type": "markdown",
   "metadata": {
    "slideshow": {
     "slide_type": "fragment"
    }
   },
   "source": [
    "So to capture the best line through the data, we first move the data points to the origin:"
   ]
  },
  {
   "cell_type": "code",
   "execution_count": 27,
   "metadata": {
    "slideshow": {
     "slide_type": "fragment"
    },
    "tags": [
     "hide-input"
    ]
   },
   "outputs": [
    {
     "data": {
      "image/png": "[encoded data removed]",
      "text/plain": [
       "<Figure size 504x504 with 1 Axes>"
      ]
     },
     "metadata": {
      "needs_background": "light"
     },
     "output_type": "display_data"
    }
   ],
   "source": [
    "Xc = X - np.mean(X,axis=0)\n",
    "ax = plt.figure(figsize = (7, 7)).add_subplot()\n",
    "plt.xlim([-12, 12])\n",
    "plt.ylim([-7, 7])\n",
    "centerAxes(ax)\n",
    "plt.axis('equal')\n",
    "plt.scatter(X[:, 0], X[:, 1], s=10, alpha=0.8)\n",
    "plt.scatter(Xc[:, 0], Xc[:, 1], s=10, alpha=0.8, color='r');"
   ]
  },
  {
   "cell_type": "markdown",
   "metadata": {
    "slideshow": {
     "slide_type": "fragment"
    }
   },
   "source": [
    "Now let's construct the best 1-D approximation of the mean-centered data:"
   ]
  },
  {
   "cell_type": "code",
   "execution_count": null,
   "metadata": {
    "slideshow": {
     "slide_type": "fragment"
    },
    "tags": [
     "hide-input"
    ]
   },
   "outputs": [],
   "source": [
    "u, s, vt = np.linalg.svd(Xc,full_matrices=False)\n",
    "scopy = s.copy()\n",
    "scopy[1] = 0.\n",
    "reducedX = u @ np.diag(scopy) @ vt\n",
    "ax = ut.plotSetup(-10,10,-10,10,(8,8))\n",
    "ut.centerAxes(ax)\n",
    "plt.axis('equal')\n",
    "plt.scatter(Xc[:,0],Xc[:,1], color='r')\n",
    "plt.scatter(reducedX[:,0], reducedX[:,1])\n",
    "endpoints = np.array([[-10],[10]]) @ vt[[0],:]\n",
    "_ = plt.plot(endpoints[:,0], endpoints[:,1], 'g-')"
   ]
  },
  {
   "cell_type": "markdown",
   "metadata": {
    "slideshow": {
     "slide_type": "slide"
    }
   },
   "source": [
    "This method is called __Principal Component Analysis.__\n",
    "\n",
    "In summary, PCA consists of:\n",
    "\n",
    "1. Mean center the data, and\n",
    "2. Reduce the dimension of the mean-centered data via SVD."
   ]
  },
  {
   "cell_type": "markdown",
   "metadata": {
    "slideshow": {
     "slide_type": "fragment"
    }
   },
   "source": [
    "This is equivalent to projecting the data onto the subspace that captures the maximum variance in the data."
   ]
  },
  {
   "cell_type": "markdown",
   "metadata": {
    "slideshow": {
     "slide_type": "fragment"
    }
   },
   "source": [
    "It winds up constructing the __best low dimensional approximation of the data.__"
   ]
  },
  {
   "cell_type": "markdown",
   "metadata": {
    "slideshow": {
     "slide_type": "fragment"
    }
   },
   "source": [
    "What are \"principal components\"?"
   ]
  },
  {
   "cell_type": "markdown",
   "metadata": {
    "slideshow": {
     "slide_type": "fragment"
    }
   },
   "source": [
    "These are nothing more than the columns of $U$ (or the rows of $V^T$).  Because they capture the direction of maximum variation, they are called \"principal\" components."
   ]
  },
  {
   "cell_type": "markdown",
   "metadata": {
    "slideshow": {
     "slide_type": "slide"
    }
   },
   "source": [
    "## Uses of PCA/SVD"
   ]
  },
  {
   "cell_type": "markdown",
   "metadata": {
    "slideshow": {
     "slide_type": "fragment"
    }
   },
   "source": [
    "There are many uses of PCA (and SVD).\n",
    "\n",
    "We'll cover three of the main uses:\n",
    "\n",
    "1. Visualization\n",
    "2. Denoising\n",
    "3. Anomaly Detection\n",
    "\n",
    "As already mentioned, SVD is also useful for data compression -- we won't discuss it in detail, but it is the principle behind audio and video compression (MP3s, HDTV, etc)."
   ]
  },
  {
   "cell_type": "markdown",
   "metadata": {
    "slideshow": {
     "slide_type": "slide"
    }
   },
   "source": [
    "## Visualization and Denoising -- Extended Example."
   ]
  },
  {
   "cell_type": "markdown",
   "metadata": {
    "slideshow": {
     "slide_type": "fragment"
    }
   },
   "source": [
    "We will study both visualization and denoising in the context of text processing."
   ]
  },
  {
   "cell_type": "markdown",
   "metadata": {
    "slideshow": {
     "slide_type": "fragment"
    }
   },
   "source": [
    "As we have seen, a common way to work with documents is using the bag-of-words model (perhaps considering n-grams), which results in a term-document matrix.\n",
    "\n",
    "Entries in the matrix are generally TF-IDF scores."
   ]
  },
  {
   "cell_type": "markdown",
   "metadata": {
    "slideshow": {
     "slide_type": "fragment"
    }
   },
   "source": [
    "Often, terms are correlated -- they appear together in combinations that suggest a certain \"concept\".\n",
    "\n",
    "That is, term-document matrices often show low effective rank -- many columns can be approximated as combinations of other columns."
   ]
  },
  {
   "cell_type": "markdown",
   "metadata": {
    "slideshow": {
     "slide_type": "fragment"
    }
   },
   "source": [
    "When PCA is used for dimensionality reduction of documents, it tends to to extract these \"concept\" vectors.\n",
    "\n",
    "The application of PCA to term-document matrices is called __Latent Semantic Analysis (LSA).__"
   ]
  },
  {
   "cell_type": "markdown",
   "metadata": {
    "collapsed": true,
    "slideshow": {
     "slide_type": "fragment"
    }
   },
   "source": [
    "Among other benefits, LSA can improve the performance of clustering of documents.\n",
    "\n",
    "This happens because the important concepts are captured in the most significant principal components."
   ]
  },
  {
   "cell_type": "markdown",
   "metadata": {
    "slideshow": {
     "slide_type": "slide"
    }
   },
   "source": [
    "## Data: 20 Newsgroups"
   ]
  },
  {
   "cell_type": "code",
   "execution_count": null,
   "metadata": {
    "slideshow": {
     "slide_type": "fragment"
    }
   },
   "outputs": [],
   "source": [
    "from sklearn.datasets import fetch_20newsgroups\n",
    "\n",
    "categories = ['comp.os.ms-windows.misc', 'sci.space','rec.sport.baseball']\n",
    "news_data = fetch_20newsgroups(subset='train', categories=categories)"
   ]
  },
  {
   "cell_type": "code",
   "execution_count": null,
   "metadata": {
    "slideshow": {
     "slide_type": "fragment"
    }
   },
   "outputs": [],
   "source": [
    "print(news_data.target_names)\n",
    "print(news_data.target)\n",
    "\n",
    "# import nltk\n",
    "# nltk.download()"
   ]
  },
  {
   "cell_type": "markdown",
   "metadata": {
    "slideshow": {
     "slide_type": "slide"
    }
   },
   "source": [
    "### Basic Clustering"
   ]
  },
  {
   "cell_type": "markdown",
   "metadata": {
    "slideshow": {
     "slide_type": "fragment"
    }
   },
   "source": [
    "To get started, let's compute tf-idf scores.\n",
    "\n",
    "Notice that we will let the tokenizer compute $n$-grams for $n=$1 and 2.  \n",
    "\n",
    "An $n$-gram is a set of $n$ consecutive terms.\n",
    "\n",
    "We'll compute a document-term matrix `dtm`."
   ]
  },
  {
   "cell_type": "code",
   "execution_count": null,
   "metadata": {
    "slideshow": {
     "slide_type": "fragment"
    }
   },
   "outputs": [],
   "source": [
    "from sklearn.feature_extraction.text import TfidfVectorizer\n",
    "\n",
    "vectorizer = TfidfVectorizer(stop_words='english', min_df=4,max_df=0.8)\n",
    "dtm = vectorizer.fit_transform(news_data.data)"
   ]
  },
  {
   "cell_type": "code",
   "execution_count": null,
   "metadata": {
    "slideshow": {
     "slide_type": "fragment"
    }
   },
   "outputs": [],
   "source": [
    "print(type(dtm), dtm.shape)\n",
    "terms = vectorizer.get_feature_names()\n",
    "print(terms)"
   ]
  },
  {
   "cell_type": "markdown",
   "metadata": {
    "slideshow": {
     "slide_type": "fragment"
    }
   },
   "source": [
    "As a comparison case, let's first cluster the documents using the raw tf-idf scores.\n",
    "\n",
    "(This is without any use of PCA, and so includes lots of noisy or meaningless terms.)"
   ]
  },
  {
   "cell_type": "code",
   "execution_count": null,
   "metadata": {
    "slideshow": {
     "slide_type": "fragment"
    }
   },
   "outputs": [],
   "source": [
    "from sklearn.cluster import KMeans\n",
    "k = 3\n",
    "kmeans = KMeans(n_clusters=k, init='k-means++', max_iter=100, n_init=10,random_state=0)\n",
    "kmeans.fit_predict(dtm)\n",
    "centroids = kmeans.cluster_centers_\n",
    "labels = kmeans.labels_\n",
    "error = kmeans.inertia_"
   ]
  },
  {
   "cell_type": "markdown",
   "metadata": {
    "slideshow": {
     "slide_type": "fragment"
    }
   },
   "source": [
    "Let's evaluate the clusters.  We'll assume that the newgroup the article came from is the 'ground truth.'"
   ]
  },
  {
   "cell_type": "code",
   "execution_count": null,
   "metadata": {
    "slideshow": {
     "slide_type": "fragment"
    }
   },
   "outputs": [],
   "source": [
    "import sklearn.metrics as metrics\n",
    "ri = metrics.adjusted_rand_score(labels,news_data.target)\n",
    "ss = metrics.silhouette_score(dtm,kmeans.labels_,metric='euclidean')\n",
    "print('Rand Index is {}'.format(ri))\n",
    "print('Silhouette Score is {}'.format(ss))"
   ]
  },
  {
   "cell_type": "markdown",
   "metadata": {
    "slideshow": {
     "slide_type": "slide"
    }
   },
   "source": [
    "### Improvement: Stemming"
   ]
  },
  {
   "cell_type": "markdown",
   "metadata": {
    "slideshow": {
     "slide_type": "fragment"
    }
   },
   "source": [
    "One source of noise that we can eliminate (before we use LSA) comes from word endings.\n",
    "\n",
    "For example: a Google search on 'run' will return web pages on 'running.'\n",
    "\n",
    "This is useful, because the difference between 'run' and 'running' in practice is not enough to matter."
   ]
  },
  {
   "cell_type": "markdown",
   "metadata": {
    "slideshow": {
     "slide_type": "fragment"
    }
   },
   "source": [
    "The usual solution taken is to simply 'chop off' the part of the word that indicates a variation from the base word.\n",
    "\n",
    "(For those of you who studied Latin or Greek, this will sound familiar -- we are removing the 'inflection.')\n",
    "\n",
    "The process is called 'stemming.'"
   ]
  },
  {
   "cell_type": "markdown",
   "metadata": {
    "slideshow": {
     "slide_type": "fragment"
    }
   },
   "source": [
    "A very good stemmer is the \"Snowball\" stemmer.\n",
    "\n",
    "You can read more at http://www.nltk.org and http://www.nltk.org/howto/stem.html.\n",
    "\n",
    "Installation Note: From a cell you need to call `nltk.download()` and select the appropriate packages from the interface that appears. In particular you need to download: `stopwords` from _corpora_ and `punkt` and `snowball_data` from _models._"
   ]
  },
  {
   "cell_type": "markdown",
   "metadata": {
    "slideshow": {
     "slide_type": "fragment"
    }
   },
   "source": [
    "Let's stem the data using the Snowball stemmer:"
   ]
  },
  {
   "cell_type": "code",
   "execution_count": null,
   "metadata": {
    "slideshow": {
     "slide_type": "fragment"
    }
   },
   "outputs": [],
   "source": [
    "from nltk.stem.snowball import SnowballStemmer\n",
    "from nltk.tokenize import word_tokenize, sent_tokenize\n",
    "\n",
    "\n",
    "stemmed_data = [\" \".join(SnowballStemmer(\"english\", ignore_stopwords=True).stem(word)  \n",
    "         for sent in sent_tokenize(message)\n",
    "        for word in word_tokenize(sent))\n",
    "        for message in news_data.data]\n",
    "\n",
    "# stemmed_data = news_data.data"
   ]
  },
  {
   "cell_type": "code",
   "execution_count": null,
   "metadata": {
    "slideshow": {
     "slide_type": "fragment"
    }
   },
   "outputs": [],
   "source": [
    "dtm = vectorizer.fit_transform(stemmed_data)\n",
    "terms = vectorizer.get_feature_names()\n",
    "print(terms)"
   ]
  },
  {
   "cell_type": "markdown",
   "metadata": {
    "slideshow": {
     "slide_type": "fragment"
    }
   },
   "source": [
    "And now let's see how well we can cluster on the stemmed data."
   ]
  },
  {
   "cell_type": "code",
   "execution_count": null,
   "metadata": {
    "slideshow": {
     "slide_type": "fragment"
    }
   },
   "outputs": [],
   "source": [
    "from sklearn.cluster import KMeans\n",
    "k = 3\n",
    "kmeans = KMeans(n_clusters=k, init='k-means++', max_iter=100, n_init=10,random_state=0)\n",
    "kmeans.fit_predict(dtm)\n",
    "centroids = kmeans.cluster_centers_\n",
    "labels = kmeans.labels_\n",
    "error = kmeans.inertia_"
   ]
  },
  {
   "cell_type": "code",
   "execution_count": null,
   "metadata": {
    "slideshow": {
     "slide_type": "fragment"
    }
   },
   "outputs": [],
   "source": [
    "import sklearn.metrics as metrics\n",
    "ri = metrics.adjusted_rand_score(labels,news_data.target)\n",
    "ss = metrics.silhouette_score(dtm,kmeans.labels_,metric='euclidean')\n",
    "print('Rand Index is {}'.format(ri))\n",
    "print('Silhouette Score is {}'.format(ss))"
   ]
  },
  {
   "cell_type": "markdown",
   "metadata": {
    "slideshow": {
     "slide_type": "fragment"
    }
   },
   "source": [
    "So the Rand Index went from 0.816 to 0.846 as a result of stemming."
   ]
  },
  {
   "cell_type": "markdown",
   "metadata": {
    "slideshow": {
     "slide_type": "slide"
    }
   },
   "source": [
    "## Demonstrating PCA"
   ]
  },
  {
   "cell_type": "markdown",
   "metadata": {
    "slideshow": {
     "slide_type": "fragment"
    }
   },
   "source": [
    "OK.  Now, let's apply PCA.\n",
    "\n",
    "Our data matrix is in sparse form.\n",
    "\n"
   ]
  },
  {
   "cell_type": "markdown",
   "metadata": {
    "slideshow": {
     "slide_type": "fragment"
    }
   },
   "source": [
    "First, we mean center the data.\n",
    "Note that `vectors` is a sparse matrix, but once it is mean centered it is not sparse any longer."
   ]
  },
  {
   "cell_type": "code",
   "execution_count": null,
   "metadata": {
    "slideshow": {
     "slide_type": "fragment"
    }
   },
   "outputs": [],
   "source": [
    "dtm_dense = dtm.todense()\n",
    "centered_dtm = dtm_dense - np.mean(dtm_dense, axis=0)\n",
    "np.sum(centered_dtm,axis=0)[:,:10]"
   ]
  },
  {
   "cell_type": "code",
   "execution_count": null,
   "metadata": {
    "slideshow": {
     "slide_type": "fragment"
    }
   },
   "outputs": [],
   "source": [
    "u, s, vt = np.linalg.svd(centered_dtm)"
   ]
  },
  {
   "cell_type": "markdown",
   "metadata": {
    "slideshow": {
     "slide_type": "fragment"
    }
   },
   "source": [
    "Note that if you have sparse data, you may want to use `scipy.sparse.linalg.svds()` and for large data it may be advantageous to use `sklearn.decomposition.TruncatedSVD()`."
   ]
  },
  {
   "cell_type": "markdown",
   "metadata": {},
   "source": [
    "$$ \\mbox{objects}\\left\\{\\begin{array}{c}\\;\\\\\\;\\\\\\;\\\\\\;\\\\\\;\\end{array}\\right.\\;\\;\\overbrace{\\left[\\begin{array}{cccc}\\begin{array}{c}\\vdots\\\\\\vdots\\\\{\\bf a_1}\\\\\\vdots\\\\\\vdots\\end{array}&\\begin{array}{c}\\vdots\\\\\\vdots\\\\{\\bf a_2}\\\\\\vdots\\\\\\vdots\\end{array}&\\dots&\\begin{array}{c}\\vdots\\\\\\vdots\\\\{\\bf a_n}\\\\\\vdots\\\\\\vdots\\end{array}\\\\\\end{array}\\right]}^{\\mbox{features}} =\n",
    "\\overbrace{\\left[\\begin{array}{cc}\\vdots&\\vdots\\\\\\vdots&\\vdots\\\\\\sigma_1\\mathbf{u}_1&\\sigma_k\\mathbf{u}_k\\\\\\vdots&\\vdots\\\\\\vdots&\\vdots\\end{array}\\right]}^{\\large k}\n",
    "\\times\n",
    "\\left[\\begin{array}{ccccc}\\dots&\\dots&\\mathbf{v}_1&\\dots&\\dots\\\\\\dots&\\dots&\\mathbf{v}_k&\\dots&\\dots\\end{array}\\right]$$\n",
    "\n",
    "\n",
    "$$ A = U\\Sigma V^T$$"
   ]
  },
  {
   "cell_type": "markdown",
   "metadata": {
    "slideshow": {
     "slide_type": "fragment"
    }
   },
   "source": [
    "The principal components (rows of $V^T$) encode the extracted concepts.\n",
    "\n",
    "Each LSA __concept__ is a linear combination of words."
   ]
  },
  {
   "cell_type": "code",
   "execution_count": null,
   "metadata": {
    "slideshow": {
     "slide_type": "fragment"
    }
   },
   "outputs": [],
   "source": [
    "pd.DataFrame(vt,columns=vectorizer.get_feature_names())"
   ]
  },
  {
   "cell_type": "markdown",
   "metadata": {
    "slideshow": {
     "slide_type": "fragment"
    }
   },
   "source": [
    "The rows of $U$ correpond to documents, which are linear combinations of __concepts__."
   ]
  },
  {
   "cell_type": "markdown",
   "metadata": {
    "slideshow": {
     "slide_type": "slide"
    }
   },
   "source": [
    "## Denoising"
   ]
  },
  {
   "cell_type": "markdown",
   "metadata": {
    "slideshow": {
     "slide_type": "fragment"
    }
   },
   "source": [
    "In order to improve our clustering accuracy, we will __exclude__ the less significant concepts from the documents' feature vectors.\n",
    "\n",
    "That is, we will choose the leftmost $k$ columns of $U$ and the topmost $k$ rows of $V^T$.  \n",
    "\n",
    "The reduced set of columns of $U$ are our new document encodings, and it is those that we will cluster."
   ]
  },
  {
   "cell_type": "code",
   "execution_count": null,
   "metadata": {
    "slideshow": {
     "slide_type": "fragment"
    },
    "tags": [
     "hide-input"
    ]
   },
   "outputs": [],
   "source": [
    "plt.xlim([0,50])\n",
    "plt.plot(range(1,len(s)+1),s)"
   ]
  },
  {
   "cell_type": "markdown",
   "metadata": {
    "slideshow": {
     "slide_type": "fragment"
    }
   },
   "source": [
    "It looks like 2 is a reasonable number of principal components."
   ]
  },
  {
   "cell_type": "code",
   "execution_count": null,
   "metadata": {
    "slideshow": {
     "slide_type": "fragment"
    },
    "tags": [
     "hide-input"
    ]
   },
   "outputs": [],
   "source": [
    "ri = []\n",
    "ss = []\n",
    "max = len(u)\n",
    "for k in range(1,50):\n",
    "    vectorsk = u[:,:k] @ np.diag(s[:k])\n",
    "    kmeans = KMeans(n_clusters=3, init='k-means++', max_iter=100, n_init=10, random_state=0)\n",
    "    kmeans.fit_predict(vectorsk)\n",
    "    labelsk = kmeans.labels_\n",
    "    ri.append(metrics.adjusted_rand_score(labelsk,news_data.target))\n",
    "    ss.append(metrics.silhouette_score(vectorsk,kmeans.labels_,metric='euclidean'))"
   ]
  },
  {
   "cell_type": "code",
   "execution_count": null,
   "metadata": {
    "slideshow": {
     "slide_type": "fragment"
    },
    "tags": [
     "hide-input"
    ]
   },
   "outputs": [],
   "source": [
    "plt.plot(range(1,50),ri)\n",
    "plt.ylabel('Rand Score',size=20)\n",
    "plt.xlabel('No of Prin Comps',size=20)"
   ]
  },
  {
   "cell_type": "code",
   "execution_count": null,
   "metadata": {
    "slideshow": {
     "slide_type": "fragment"
    }
   },
   "outputs": [],
   "source": [
    "news_data.target_names"
   ]
  },
  {
   "cell_type": "code",
   "execution_count": null,
   "metadata": {
    "slideshow": {
     "slide_type": "fragment"
    },
    "tags": [
     "hide-input"
    ]
   },
   "outputs": [],
   "source": [
    "plt.plot(range(1,50),ss)\n",
    "plt.ylabel('Silhouette Score',size=20)\n",
    "plt.xlabel('No of Prin Comps',size=20)"
   ]
  },
  {
   "cell_type": "markdown",
   "metadata": {
    "slideshow": {
     "slide_type": "fragment"
    }
   },
   "source": [
    "Note that we can get good accuracy with just __two__ principal components."
   ]
  },
  {
   "cell_type": "markdown",
   "metadata": {
    "slideshow": {
     "slide_type": "slide"
    }
   },
   "source": [
    "## Visualization"
   ]
  },
  {
   "cell_type": "markdown",
   "metadata": {
    "slideshow": {
     "slide_type": "fragment"
    }
   },
   "source": [
    "That's a good thing, because it means that we can __visualize__ the data well with the help of PCA."
   ]
  },
  {
   "cell_type": "markdown",
   "metadata": {
    "slideshow": {
     "slide_type": "fragment"
    }
   },
   "source": [
    "Recall that the challenge of visualization is that the data live in a high dimensional space.  \n",
    "\n",
    "We can only look at 2 (or maybe 3) dimensions at a time, so it's not clear __which__ dimensions to look at."
   ]
  },
  {
   "cell_type": "markdown",
   "metadata": {
    "slideshow": {
     "slide_type": "fragment"
    }
   },
   "source": [
    "The idea behind using PCA for visualization is that since low-numbered principal components capture most of the __variance__ in the data, these are the \"directions\" from which it is most useful to inspect the data."
   ]
  },
  {
   "cell_type": "markdown",
   "metadata": {
    "slideshow": {
     "slide_type": "fragment"
    }
   },
   "source": [
    "We saw that the first two principal components were particularly large -- let's start by using them for visualization."
   ]
  },
  {
   "cell_type": "code",
   "execution_count": null,
   "metadata": {
    "slideshow": {
     "slide_type": "fragment"
    },
    "tags": [
     "hide-input"
    ]
   },
   "outputs": [],
   "source": [
    "import seaborn as sns\n",
    "Xk = u @ np.diag(s)\n",
    "with sns.axes_style(\"white\"):\n",
    "    fig, ax = plt.subplots(1,1,figsize=(7,7))\n",
    "    cmap = sns.hls_palette(n_colors=3, h=0.35, l=0.4, s=0.9)\n",
    "    for i, label in enumerate(set(news_data.target)):\n",
    "        point_indices = np.where(news_data.target == label)[0]\n",
    "        point_indices = point_indices.tolist()\n",
    "        plt.scatter(Xk[point_indices,0], Xk[point_indices,1], s=20, alpha=0.5, c=cmap[i], marker='D',\n",
    "label=news_data.target_names[i])\n",
    "        plt.legend(prop={'size':14}, loc=2)\n",
    "    sns.despine()\n",
    "_ = plt.title('Ground Truth', size=20)"
   ]
  },
  {
   "cell_type": "markdown",
   "metadata": {
    "slideshow": {
     "slide_type": "fragment"
    }
   },
   "source": [
    "Points in this plot have been labelled with their \"true\" (aka \"ground truth\") cluster labels.\n",
    "\n",
    "Notice how clearly the clusters separate and how coherently they present themselves.   This is obvious an excellent visualization that is provided by PCA."
   ]
  },
  {
   "cell_type": "markdown",
   "metadata": {
    "slideshow": {
     "slide_type": "fragment"
    }
   },
   "source": [
    "Since this visualization is so clear, we can use it to examine the results of our various clustering methods and get some insight into how they differ."
   ]
  },
  {
   "cell_type": "code",
   "execution_count": null,
   "metadata": {
    "slideshow": {
     "slide_type": "fragment"
    },
    "tags": [
     "hide-input"
    ]
   },
   "outputs": [],
   "source": [
    "k = 3\n",
    "kmeans = KMeans(n_clusters=k, init='k-means++', max_iter=100, n_init=10,random_state=0)\n",
    "kmeans.fit_predict(dtm)\n",
    "centroids = kmeans.cluster_centers_\n",
    "labels = kmeans.labels_\n",
    "error = kmeans.inertia_\n",
    "\n",
    "with sns.axes_style(\"white\"):\n",
    "    fig, ax = plt.subplots(1,1,figsize=(7,7))\n",
    "    cmap = sns.hls_palette(n_colors=3, h=0.35, l=0.4, s=0.9)\n",
    "    for i in range(k):\n",
    "        point_indices = np.where(labels == i)[0]\n",
    "        point_indices = point_indices.tolist()\n",
    "        plt.scatter(Xk[point_indices,0], Xk[point_indices,1], s=20, alpha=0.5, c=cmap[i], marker='D',\n",
    "label=news_data.target_names[i])\n",
    "    sns.despine()\n",
    "plt.title('Clusters On Full Dataset, Dimension = {}\\nRand Score = {:0.3f}'.format(dtm.shape[1],\n",
    "                                                                             metrics.adjusted_rand_score(labels,news_data.target)),\n",
    "          size=20)\n"
   ]
  },
  {
   "cell_type": "code",
   "execution_count": null,
   "metadata": {
    "slideshow": {
     "slide_type": "fragment"
    },
    "tags": [
     "hide-input"
    ]
   },
   "outputs": [],
   "source": [
    "k = 3\n",
    "kmeans = KMeans(n_clusters=k, init='k-means++', max_iter=100, n_init=10,random_state=0)\n",
    "kmeans.fit_predict(Xk[:,:2])\n",
    "centroids = kmeans.cluster_centers_\n",
    "Xklabels = kmeans.labels_\n",
    "error = kmeans.inertia_\n",
    "\n",
    "with sns.axes_style(\"white\"):\n",
    "    fig, ax = plt.subplots(1,1,figsize=(7,7))\n",
    "    cmap = sns.hls_palette(n_colors=3, h=0.35, l=0.4, s=0.9)\n",
    "    for i, label in enumerate(set(news_data.target)):\n",
    "        point_indices = np.where(Xklabels == label)[0]\n",
    "        point_indices = point_indices.tolist()\n",
    "        plt.scatter(Xk[point_indices,0], Xk[point_indices,1], s=20, alpha=0.5, c=cmap[i], marker='D')\n",
    "    sns.despine()\n",
    "plt.title('Clusters On PCA-reduced Dataset, Dimension = 2\\nRand Score = {:0.3f}'.format(\n",
    "                                                                                 metrics.adjusted_rand_score(Xklabels,news_data.target)),\n",
    "          size=20)"
   ]
  },
  {
   "cell_type": "code",
   "execution_count": null,
   "metadata": {
    "slideshow": {
     "slide_type": "fragment"
    },
    "tags": [
     "hide-input"
    ]
   },
   "outputs": [],
   "source": [
    "plt.figure(figsize=(8,4))\n",
    "plt.subplot(121)\n",
    "cmap = sns.hls_palette(n_colors=3, h=0.35, l=0.4, s=0.9)\n",
    "for i in range(k):\n",
    "        point_indices = np.where(labels == i)[0]\n",
    "        point_indices = point_indices.tolist()\n",
    "        plt.scatter(Xk[point_indices,0], Xk[point_indices,1], s=20, alpha=0.5, c=cmap[i], marker='D')\n",
    "sns.despine()\n",
    "plt.title('Dimension = {}\\nRand Score = {:0.3f}'.format(dtm.shape[1],\n",
    "                                                                             metrics.adjusted_rand_score(labels,news_data.target)),\n",
    "          size=14)\n",
    "plt.subplot(122)\n",
    "cmap = sns.hls_palette(n_colors=3, h=0.35, l=0.4, s=0.9)\n",
    "for i in range(k):\n",
    "        point_indices = np.where(Xklabels == i)[0]\n",
    "        point_indices = point_indices.tolist()\n",
    "        plt.scatter(Xk[point_indices,0], Xk[point_indices,1], s=20, alpha=0.5, c=cmap[i], marker='D')\n",
    "sns.despine()\n",
    "plt.title('Dimension = 2\\nRand Score = {:0.3f}'.format(\n",
    "                                                                                 metrics.adjusted_rand_score(Xklabels,news_data.target)),\n",
    "          size=14)\n"
   ]
  },
  {
   "cell_type": "markdown",
   "metadata": {
    "slideshow": {
     "slide_type": "skip"
    }
   },
   "source": [
    "What happens if we misjudge the number of clusters?  Let's form 6 clusters."
   ]
  },
  {
   "cell_type": "code",
   "execution_count": null,
   "metadata": {
    "slideshow": {
     "slide_type": "skip"
    },
    "tags": [
     "hide-input"
    ]
   },
   "outputs": [],
   "source": [
    "k = 6\n",
    "kmeans = KMeans(n_clusters=k, init='k-means++', max_iter=100, n_init=10,random_state=0)\n",
    "kmeans.fit_predict(Xk[:,:6])\n",
    "centroids = kmeans.cluster_centers_\n",
    "labels = kmeans.labels_\n",
    "error = kmeans.inertia_\n",
    "\n",
    "with sns.axes_style(\"white\"):\n",
    "    fig, ax = plt.subplots(1,1,figsize=(10,10))\n",
    "    cmap = sns.hls_palette(n_colors=k, h=0.35, l=0.4, s=0.9)\n",
    "    for i in range(k):\n",
    "        point_indices = np.where(labels == i)[0]\n",
    "        point_indices = point_indices.tolist()\n",
    "        plt.scatter(Xk[point_indices,0], Xk[point_indices,1], s=20, alpha=0.5, c=cmap[i], marker='D')\n",
    "    sns.despine()\n",
    "    \n",
    "print(metrics.adjusted_rand_score(labels,news_data.target))"
   ]
  },
  {
   "cell_type": "code",
   "execution_count": null,
   "metadata": {
    "slideshow": {
     "slide_type": "skip"
    },
    "tags": [
     "hide-input"
    ]
   },
   "outputs": [],
   "source": [
    "k = 6\n",
    "kmeans = KMeans(n_clusters=k, init='k-means++', max_iter=100, n_init=10,random_state=0)\n",
    "kmeans.fit_predict(dtm)\n",
    "centroids = kmeans.cluster_centers_\n",
    "labels = kmeans.labels_\n",
    "error = kmeans.inertia_\n",
    "\n",
    "with sns.axes_style(\"white\"):\n",
    "    fig, ax = plt.subplots(1,1,figsize=(10,10))\n",
    "    cmap = sns.hls_palette(n_colors=k, h=0.35, l=0.4, s=0.9)\n",
    "    for i in range(k):\n",
    "        point_indices = np.where(labels == i)[0]\n",
    "        point_indices = point_indices.tolist()\n",
    "        plt.scatter(Xk[point_indices,0], Xk[point_indices,1], s=20, alpha=0.5, c=cmap[i], marker='D')\n",
    "    sns.despine()\n",
    "plt.title('Clusters On Full Dataset, Dimension = {}'.format(dtm.shape[1]),size=20)\n",
    "    \n",
    "print(metrics.adjusted_rand_score(labels,news_data.target))"
   ]
  },
  {
   "cell_type": "markdown",
   "metadata": {
    "slideshow": {
     "slide_type": "fragment"
    }
   },
   "source": [
    "What about the other principal components?   Are they useful for visualization?\n",
    "\n",
    "A common approach is to look at all pairs of (low-numbered) principal components."
   ]
  },
  {
   "cell_type": "code",
   "execution_count": null,
   "metadata": {
    "scrolled": true,
    "slideshow": {
     "slide_type": "fragment"
    }
   },
   "outputs": [],
   "source": [
    "import seaborn as sns\n",
    "k = 5\n",
    "Xk = u[:,:k] @ np.diag(s[:k])\n",
    "X_df = pd.DataFrame(Xk)\n",
    "g = sns.PairGrid(X_df)\n",
    "g.map(plt.scatter)"
   ]
  },
  {
   "cell_type": "code",
   "execution_count": null,
   "metadata": {
    "slideshow": {
     "slide_type": "fragment"
    },
    "tags": [
     "hide-input"
    ]
   },
   "outputs": [],
   "source": [
    "k = 5\n",
    "Xk = u[:,:k] @ np.diag(s[:k])\n",
    "X_df = pd.DataFrame(Xk)\n",
    "g = sns.PairGrid(X_df)\n",
    "def pltColor(x,y,label,color):\n",
    "    cmap = sns.hls_palette(n_colors=3, h=0.35, l=0.4, s=0.9)\n",
    "    for i in range(3):\n",
    "        point_indices = np.where(news_data.target == i)[0]\n",
    "        point_indices = point_indices.tolist()\n",
    "        plt.scatter(x[point_indices], y[point_indices], c=cmap[i])\n",
    "    sns.despine()\n",
    "g.map(pltColor)"
   ]
  },
  {
   "cell_type": "markdown",
   "metadata": {
    "slideshow": {
     "slide_type": "slide"
    }
   },
   "source": [
    "## Looking at the Topics"
   ]
  },
  {
   "cell_type": "code",
   "execution_count": null,
   "metadata": {
    "slideshow": {
     "slide_type": "fragment"
    }
   },
   "outputs": [],
   "source": [
    "for i in range(6):\n",
    "    top = np.argsort(vt[i])\n",
    "    topterms = [terms[top[0,f]] for f in range(12)]\n",
    "    print (i, topterms)"
   ]
  }
 ],
 "metadata": {
  "anaconda-cloud": {},
  "celltoolbar": "Slideshow",
  "kernelspec": {
   "display_name": "Python 3",
   "language": "python",
   "name": "python3"
  },
  "language_info": {
   "codemirror_mode": {
    "name": "ipython",
    "version": 3
   },
   "file_extension": ".py",
   "mimetype": "text/x-python",
   "name": "python",
   "nbconvert_exporter": "python",
   "pygments_lexer": "ipython3",
   "version": "3.7.10"
  }
 },
 "nbformat": 4,
 "nbformat_minor": 1
}
