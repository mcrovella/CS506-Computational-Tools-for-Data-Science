{
 "cells": [
  {
   "cell_type": "markdown",
   "metadata": {},
   "source": [
    "# Random Projections Example"
   ]
  },
  {
   "cell_type": "code",
   "execution_count": 1,
   "metadata": {},
   "outputs": [
    {
     "data": {
      "image/png": "[encoded data removed]",
      "text/plain": [
       "<matplotlib.figure.Figure at 0x106388208>"
      ]
     },
     "metadata": {},
     "output_type": "display_data"
    }
   ],
   "source": [
    "from sklearn import datasets\n",
    "\n",
    "import matplotlib.pyplot as plt\n",
    "\n",
    "#Load the digits dataset\n",
    "digits = datasets.load_digits()\n",
    "\n",
    "#Display the first digit\n",
    "plt.figure(4, figsize=(3, 3))\n",
    "plt.imshow(digits.images[2], cmap=plt.cm.gray_r, interpolation='nearest')\n",
    "plt.show()"
   ]
  },
  {
   "cell_type": "code",
   "execution_count": 2,
   "metadata": {},
   "outputs": [
    {
     "name": "stderr",
     "output_type": "stream",
     "text": [
      "/Users/crovella/anaconda3/lib/python3.5/site-packages/sklearn/cross_validation.py:44: DeprecationWarning: This module was deprecated in version 0.18 in favor of the model_selection module into which all the refactored classes and functions are moved. Also note that the interface of the new CV iterators are different from that of this module. This module will be removed in 0.20.\n",
      "  \"This module will be removed in 0.20.\", DeprecationWarning)\n"
     ]
    }
   ],
   "source": [
    "from sklearn.random_projection import SparseRandomProjection\n",
    "from sklearn.svm import LinearSVC\n",
    "from sklearn.linear_model import SGDClassifier\n",
    "from sklearn.linear_model import Perceptron\n",
    "from sklearn.linear_model import PassiveAggressiveClassifier\n",
    "from sklearn.naive_bayes import BernoulliNB, MultinomialNB\n",
    "from sklearn.neighbors import KNeighborsClassifier\n",
    "from sklearn.neighbors import NearestCentroid\n",
    "from sklearn.ensemble import RandomForestClassifier\n",
    "from sklearn.cross_validation import train_test_split\n",
    "from sklearn import tree\n",
    "from sklearn import metrics\n",
    "from sklearn import datasets\n",
    "%matplotlib inline\n",
    "import matplotlib.pyplot as plt\n",
    "import numpy as np"
   ]
  },
  {
   "cell_type": "code",
   "execution_count": 3,
   "metadata": {},
   "outputs": [],
   "source": [
    "accuracies = []\n",
    "components = np.int32(np.linspace(2, 64, 20))"
   ]
  },
  {
   "cell_type": "code",
   "execution_count": 4,
   "metadata": {
    "collapsed": true
   },
   "outputs": [],
   "source": [
    "digits = datasets.load_digits()\n",
    "split = train_test_split(digits.data, digits.target, test_size = 0.3,\n",
    "    random_state = 42)\n",
    "(trainData, testData, trainTarget, testTarget) = split"
   ]
  },
  {
   "cell_type": "code",
   "execution_count": 6,
   "metadata": {},
   "outputs": [
    {
     "data": {
      "text/plain": [
       "0.99259259259259258"
      ]
     },
     "execution_count": 6,
     "metadata": {},
     "output_type": "execute_result"
    }
   ],
   "source": [
    "#model = tree.DecisionTreeClassifier()\n",
    "#model.fit(trainData, trainTarget)\n",
    "\n",
    "model = KNeighborsClassifier()\n",
    "model.fit(trainData, trainTarget)\n",
    "\n",
    "#model = LinearSVC()\n",
    "#model.fit(trainData, trainTarget)\n",
    "baseline = metrics.accuracy_score(model.predict(testData), testTarget)\n",
    "baseline"
   ]
  },
  {
   "cell_type": "code",
   "execution_count": 7,
   "metadata": {},
   "outputs": [],
   "source": [
    "\n",
    "\n",
    "# loop over the projection sizes\n",
    "for comp in components:\n",
    "    # create the random projection\n",
    "    sp = SparseRandomProjection(n_components = comp)\n",
    "    X = sp.fit_transform(trainData)\n",
    "    #print X.shape\n",
    " \n",
    "    # train a classifier on the sparse random projection\n",
    "    #model = tree.DecisionTreeClassifier()\n",
    "    #model = LinearSVC()\n",
    "    model = KNeighborsClassifier()\n",
    "    model.fit(X, trainTarget)\n",
    " \n",
    "    # evaluate the model and update the list of accuracies\n",
    "    test = sp.transform(testData)\n",
    "    accuracies.append(metrics.accuracy_score(model.predict(test), testTarget))"
   ]
  },
  {
   "cell_type": "code",
   "execution_count": 8,
   "metadata": {},
   "outputs": [
    {
     "data": {
      "image/png": "[encoded data removed]",
      "text/plain": [
       "<matplotlib.figure.Figure at 0x106370fd0>"
      ]
     },
     "metadata": {},
     "output_type": "display_data"
    }
   ],
   "source": [
    "# create the figure\n",
    "plt.figure()\n",
    "plt.suptitle(\"Accuracy of Sparse Projection on Digits\")\n",
    "plt.xlabel(\"# of Components\")\n",
    "plt.ylabel(\"Accuracy\")\n",
    "plt.xlim([2, 64])\n",
    "plt.ylim([0, 1.0])\n",
    " \n",
    "# plot the baseline and random projection accuracies\n",
    "plt.plot(components, [baseline] * len(accuracies), color = \"r\")\n",
    "plt.plot(components, accuracies)\n",
    "\n",
    "plt.show()"
   ]
  },
  {
   "cell_type": "code",
   "execution_count": null,
   "metadata": {
    "collapsed": true
   },
   "outputs": [],
   "source": []
  }
 ],
 "metadata": {
  "anaconda-cloud": {},
  "kernelspec": {
   "display_name": "Python 3",
   "language": "python",
   "name": "python3"
  },
  "language_info": {
   "codemirror_mode": {
    "name": "ipython",
    "version": 3
   },
   "file_extension": ".py",
   "mimetype": "text/x-python",
   "name": "python",
   "nbconvert_exporter": "python",
   "pygments_lexer": "ipython3",
   "version": "3.7.10"
  }
 },
 "nbformat": 4,
 "nbformat_minor": 1
}
