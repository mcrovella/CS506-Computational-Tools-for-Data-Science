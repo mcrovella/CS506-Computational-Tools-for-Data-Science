{
 "cells": [
  {
   "cell_type": "code",
   "execution_count": 19,
   "metadata": {
    "hide_input": true,
    "slideshow": {
     "slide_type": "skip"
    },
    "tags": [
     "hide-input"
    ]
   },
   "outputs": [],
   "source": [
    "import numpy as np\n",
    "import scipy as sp\n",
    "import matplotlib.pyplot as plt\n",
    "import pandas as pd\n",
    "\n",
    "#import matplotlib as mpl\n",
    "import seaborn as sns\n",
    "%matplotlib inline"
   ]
  },
  {
   "cell_type": "markdown",
   "metadata": {
    "slideshow": {
     "slide_type": "slide"
    }
   },
   "source": [
    "# Clustering II: In Practice\n",
    "\n",
    "...featuring $k$-means"
   ]
  },
  {
   "cell_type": "markdown",
   "metadata": {
    "slideshow": {
     "slide_type": "slide"
    }
   },
   "source": [
    "Today we'll do an extended example showing k-means clustering in practice and in the context of the python libraries\n",
    "__scikit-learn.__\n",
    "\n",
    "Our goals are to learn:\n",
    "* How clustering is used in practice\n",
    "* Tools for evaluating the quality of a clustering\n",
    "* Tools for assigning meaning or labels to a cluster\n",
    "* Important visualizations\n",
    "* A little bit about feature extraction for text"
   ]
  },
  {
   "cell_type": "markdown",
   "metadata": {
    "slideshow": {
     "slide_type": "slide"
    }
   },
   "source": [
    "## Training wheels: Synthetic data"
   ]
  },
  {
   "cell_type": "markdown",
   "metadata": {
    "slideshow": {
     "slide_type": "fragment"
    }
   },
   "source": [
    "Generally, when learning about or developing a new unsupervised method, it's a good idea to try it out on a dataset in which you already know the \"right\" answer.\n",
    "\n",
    "One way to do that is to generate synthetic data that has some known properties."
   ]
  },
  {
   "cell_type": "markdown",
   "metadata": {
    "slideshow": {
     "slide_type": "fragment"
    }
   },
   "source": [
    "__scikit-learn__ is the main python library for machine learning functions.  It is extensive.  \n",
    "\n",
    "You will use it a lot!\n",
    "\n",
    "Among other things, it contains tools for generating synthetic data for testing."
   ]
  },
  {
   "cell_type": "code",
   "execution_count": 20,
   "metadata": {
    "slideshow": {
     "slide_type": "fragment"
    }
   },
   "outputs": [],
   "source": [
    "import sklearn.datasets as sk_data\n",
    "X, y = sk_data.make_blobs(n_samples=100, centers=3, n_features=30,\n",
    "                          center_box=(-10.0, 10.0),random_state=0)"
   ]
  },
  {
   "cell_type": "markdown",
   "metadata": {
    "slideshow": {
     "slide_type": "fragment"
    }
   },
   "source": [
    "To get a sense of the raw data we can visualize it.\n",
    "\n",
    "For statistical visualization, a good library is `seaborn`, imported as `sns`."
   ]
  },
  {
   "cell_type": "code",
   "execution_count": 21,
   "metadata": {
    "slideshow": {
     "slide_type": "-"
    }
   },
   "outputs": [
    {
     "data": {
      "image/png": "[encoded data removed]",
      "text/plain": [
       "<Figure size 432x288 with 1 Axes>"
      ]
     },
     "metadata": {},
     "output_type": "display_data"
    }
   ],
   "source": [
    "sns.heatmap(X, xticklabels = False, yticklabels = False, linewidths = 0, cbar = False);"
   ]
  },
  {
   "cell_type": "markdown",
   "metadata": {
    "slideshow": {
     "slide_type": "fragment"
    }
   },
   "source": [
    "That plot shows all the data.   These data live in a __30 dimensional__ space, so we cannot directly visualize them.   \n",
    "\n",
    "This is a __big problem__ that you will run into time and again!"
   ]
  },
  {
   "cell_type": "markdown",
   "metadata": {
    "slideshow": {
     "slide_type": "fragment"
    }
   },
   "source": [
    "However, there is a method that can turn a set of pairwise distances into an approximate 2-D representation __in some cases.__"
   ]
  },
  {
   "cell_type": "markdown",
   "metadata": {
    "slideshow": {
     "slide_type": "fragment"
    }
   },
   "source": [
    "So let's compute the pairwise distances for visualization purposes.\n",
    "\n",
    "We can compute all pairwise distances in a single step using a scikit-learn function:"
   ]
  },
  {
   "cell_type": "code",
   "execution_count": 22,
   "metadata": {
    "slideshow": {
     "slide_type": "fragment"
    }
   },
   "outputs": [
    {
     "data": {
      "text/plain": [
       "array([[ 0.        , 47.73797008, 45.18787978, ..., 47.87535624,\n",
       "        49.64694402, 45.58307694],\n",
       "       [47.73797008,  0.        , 43.66760596, ...,  7.3768511 ,\n",
       "         7.36794305, 43.51069074],\n",
       "       [45.18787978, 43.66760596,  0.        , ..., 42.55609472,\n",
       "        43.80829605,  9.31642449],\n",
       "       ...,\n",
       "       [47.87535624,  7.3768511 , 42.55609472, ...,  0.        ,\n",
       "         8.19377462, 41.81523421],\n",
       "       [49.64694402,  7.36794305, 43.80829605, ...,  8.19377462,\n",
       "         0.        , 43.41205895],\n",
       "       [45.58307694, 43.51069074,  9.31642449, ..., 41.81523421,\n",
       "        43.41205895,  0.        ]])"
      ]
     },
     "execution_count": 22,
     "metadata": {},
     "output_type": "execute_result"
    }
   ],
   "source": [
    "import sklearn.metrics as metrics\n",
    "euclidean_dists = metrics.euclidean_distances(X)\n",
    "euclidean_dists"
   ]
  },
  {
   "cell_type": "markdown",
   "metadata": {
    "slideshow": {
     "slide_type": "slide"
    }
   },
   "source": [
    "### Visualizing with Multidimensional Scaling"
   ]
  },
  {
   "cell_type": "markdown",
   "metadata": {
    "slideshow": {
     "slide_type": "fragment"
    }
   },
   "source": [
    "The idea behind Multidimensional Scaling (MDS) is: \n",
    "\n",
    "* given a distance (or dissimilarity) matrix, \n",
    "* find a set of coordinates for the points that approximates those distances as well as possible.\n",
    "\n",
    "Usually we are looking for points in 2D or maybe 3D for visualization purposes.\n",
    "\n",
    "The algorithm works using a gradient descent algorithm that starts with random positions and moves points in a way that reduces the disparity between true distance and euclidean distance."
   ]
  },
  {
   "cell_type": "markdown",
   "metadata": {
    "slideshow": {
     "slide_type": "fragment"
    }
   },
   "source": [
    "Note that there are many ways that this can fail!  \n",
    "\n",
    "* Perhaps the dissimilarities are not well modeled as euclidean distances\n",
    "* It may be necessary to use more than 2 dimensions to capture any clustering via euclidean distances"
   ]
  },
  {
   "cell_type": "code",
   "execution_count": 23,
   "metadata": {
    "slideshow": {
     "slide_type": "fragment"
    }
   },
   "outputs": [
    {
     "data": {
      "image/png": "[encoded data removed]",
      "text/plain": [
       "<Figure size 432x288 with 1 Axes>"
      ]
     },
     "metadata": {
      "needs_background": "light"
     },
     "output_type": "display_data"
    }
   ],
   "source": [
    "import sklearn.manifold\n",
    "mds = sklearn.manifold.MDS(n_components=2, max_iter=3000, eps=1e-9, random_state=0,\n",
    "                   dissimilarity = \"precomputed\", n_jobs = 1)\n",
    "fit = mds.fit(euclidean_dists)\n",
    "pos = fit.embedding_\n",
    "plt.scatter(pos[:, 0], pos[:, 1], s=8)\n",
    "plt.axis('square');"
   ]
  },
  {
   "cell_type": "markdown",
   "metadata": {
    "slideshow": {
     "slide_type": "fragment"
    }
   },
   "source": [
    "So we can see that, although the data lives in 30 dimensions, we can get a sense of how the points are clustered by approximately placing the points into two dimensions."
   ]
  },
  {
   "cell_type": "markdown",
   "metadata": {
    "slideshow": {
     "slide_type": "fragment"
    }
   },
   "source": [
    "A second way to visualize the data is by using a heatmap on the set of pairwise distances."
   ]
  },
  {
   "cell_type": "code",
   "execution_count": 24,
   "metadata": {
    "slideshow": {
     "slide_type": "-"
    }
   },
   "outputs": [
    {
     "data": {
      "image/png": "[encoded data removed]",
      "text/plain": [
       "<Figure size 432x288 with 2 Axes>"
      ]
     },
     "metadata": {
      "needs_background": "light"
     },
     "output_type": "display_data"
    }
   ],
   "source": [
    "sns.heatmap(euclidean_dists, xticklabels=False, yticklabels=False, linewidths=0, \n",
    "            square=True );"
   ]
  },
  {
   "cell_type": "markdown",
   "metadata": {
    "slideshow": {
     "slide_type": "slide"
    }
   },
   "source": [
    "## Applying  $k$-Means "
   ]
  },
  {
   "cell_type": "markdown",
   "metadata": {
    "slideshow": {
     "slide_type": "fragment"
    }
   },
   "source": [
    "The Python package __`scikit-learn`__ has a huge set of tools for unsupervised learning generally, and clustering specifically.  \n",
    "\n",
    "These are in __`sklearn.cluster.`__"
   ]
  },
  {
   "cell_type": "markdown",
   "metadata": {
    "slideshow": {
     "slide_type": "fragment"
    }
   },
   "source": [
    "There are 3 functions in all the clustering classes, \n",
    "\n",
    "* __`fit()`__, \n",
    "* __`predict()`__, and \n",
    "* __`fit_predict()`__. \n",
    "\n",
    "`fit()` builds the model from the training data (e.g. for kmeans, it finds the\n",
    "            centroids), \n",
    "            \n",
    "`predict()` assigns labels to the data after building\n",
    "            the model, and\n",
    "            \n",
    "`fit_predict()` does both in a single step."
   ]
  },
  {
   "cell_type": "code",
   "execution_count": 25,
   "metadata": {
    "slideshow": {
     "slide_type": "fragment"
    }
   },
   "outputs": [
    {
     "data": {
      "text/plain": [
       "array([1, 2, 0, 0, 2, 1, 2, 2, 1, 2, 0, 1, 0, 1, 2, 0, 0, 1, 0, 2, 0, 2,\n",
       "       0, 1, 2, 2, 1, 0, 0, 0, 0, 1, 0, 1, 0, 2, 0, 2, 0, 2, 2, 2, 1, 0,\n",
       "       1, 0, 1, 2, 1, 0, 0, 1, 1, 1, 1, 0, 1, 2, 2, 0, 1, 0, 2, 1, 1, 2,\n",
       "       0, 1, 1, 2, 2, 2, 1, 1, 0, 1, 2, 1, 2, 1, 2, 2, 2, 1, 0, 0, 2, 1,\n",
       "       1, 0, 1, 2, 2, 0, 1, 0, 0, 2, 2, 0], dtype=int32)"
      ]
     },
     "execution_count": 25,
     "metadata": {},
     "output_type": "execute_result"
    }
   ],
   "source": [
    "from sklearn.cluster import KMeans\n",
    "kmeans = KMeans(init = 'k-means++', n_clusters = 3, n_init = 100)\n",
    "kmeans.fit_predict(X)"
   ]
  },
  {
   "cell_type": "markdown",
   "metadata": {
    "slideshow": {
     "slide_type": "fragment"
    }
   },
   "source": [
    "All the tools in `scikit-learn` are implemented as python objects.\n",
    "\n",
    "Thus, the general sequence for using a tool from `scikit-learn` is:\n",
    "\n",
    "* Create the object, probably with some parameter settings or intialization,\n",
    "* Run the method, generally by using the `fit()` function, and\n",
    "* Examine the results, which are generally property variables of the object."
   ]
  },
  {
   "cell_type": "code",
   "execution_count": 26,
   "metadata": {
    "slideshow": {
     "slide_type": "fragment"
    }
   },
   "outputs": [],
   "source": [
    "centroids = kmeans.cluster_centers_\n",
    "labels = kmeans.labels_\n",
    "error = kmeans.inertia_"
   ]
  },
  {
   "cell_type": "code",
   "execution_count": 27,
   "metadata": {
    "slideshow": {
     "slide_type": "fragment"
    }
   },
   "outputs": [
    {
     "name": "stdout",
     "output_type": "stream",
     "text": [
      "The total error of the clustering is: 2733.8.\n",
      "\n",
      "Cluster labels:\n",
      "[1 2 0 0 2 1 2 2 1 2 0 1 0 1 2 0 0 1 0 2 0 2 0 1 2 2 1 0 0 0 0 1 0 1 0 2 0\n",
      " 2 0 2 2 2 1 0 1 0 1 2 1 0 0 1 1 1 1 0 1 2 2 0 1 0 2 1 1 2 0 1 1 2 2 2 1 1\n",
      " 0 1 2 1 2 1 2 2 2 1 0 0 2 1 1 0 1 2 2 0 1 0 0 2 2 0]\n",
      "\n",
      "Cluster centroids:\n",
      "[[-4.7833887   5.32946939 -0.87141823  1.38900567 -9.59956915  2.35207348\n",
      "   2.22988468  2.03394692  8.9797878   3.67857655 -2.67618716 -1.17595897\n",
      "   3.76433199 -8.46317271  3.28114395  3.73803392 -5.73436869 -7.0844462\n",
      "  -3.75643598 -3.07904369  1.36974653 -0.95918462  9.91135428 -8.17722281\n",
      "  -5.8656831  -6.76869078  3.12196673 -4.85745245 -0.70449349 -4.94582258]\n",
      " [ 0.88697885  4.29142902  1.93200132  1.10877989 -1.55994342  2.80616392\n",
      "  -1.11495818  7.74595341  8.92512875 -2.29656298  6.09588722  0.47062896\n",
      "   1.36408008  8.63168509 -8.54512921 -8.59161818 -9.64308952  6.92270491\n",
      "   5.65321496  7.29061444  9.58822315  5.79602014 -0.84970449  5.46127493\n",
      "  -7.77730238  2.75092191 -7.17026663  9.07475984  0.04245798 -1.98719465]\n",
      " [-7.0489904  -7.92501873  2.89710462 -7.17088692 -6.01151677 -2.66405834\n",
      "   6.43970052 -8.20341647  6.54146052 -7.92978843  9.56983319 -0.86327902\n",
      "   9.25897119  1.73061823  4.84528928 -9.26418246 -4.54021612 -7.47784575\n",
      "  -4.15060719 -7.85665458 -3.76688414 -1.6692291  -8.78048843  3.78904162\n",
      "   1.24247168 -4.73618733  0.27327032 -7.93180624  1.59974866  8.78601576]]\n"
     ]
    }
   ],
   "source": [
    "print(f'The total error of the clustering is: {error:0.1f}.')\n",
    "print('\\nCluster labels:')\n",
    "print(labels)\n",
    "print('\\nCluster centroids:')\n",
    "print(centroids)"
   ]
  },
  {
   "cell_type": "markdown",
   "metadata": {
    "slideshow": {
     "slide_type": "slide"
    }
   },
   "source": [
    "### Visualizing the Results of Clustering"
   ]
  },
  {
   "cell_type": "markdown",
   "metadata": {
    "slideshow": {
     "slide_type": "fragment"
    }
   },
   "source": [
    "Let's visualize the results.  We'll do that by reordering the data items according to their cluster."
   ]
  },
  {
   "cell_type": "code",
   "execution_count": 28,
   "metadata": {
    "slideshow": {
     "slide_type": "fragment"
    }
   },
   "outputs": [
    {
     "data": {
      "image/png": "[encoded data removed]",
      "text/plain": [
       "<Figure size 432x288 with 2 Axes>"
      ]
     },
     "metadata": {
      "needs_background": "light"
     },
     "output_type": "display_data"
    }
   ],
   "source": [
    "idx = np.argsort(labels)\n",
    "rX = X[idx, :]\n",
    "sns.heatmap(rX, xticklabels = False, yticklabels = False, linewidths = 0);"
   ]
  },
  {
   "cell_type": "code",
   "execution_count": 29,
   "metadata": {
    "slideshow": {
     "slide_type": "fragment"
    }
   },
   "outputs": [
    {
     "data": {
      "image/png": "[encoded data removed]",
      "text/plain": [
       "<Figure size 432x288 with 2 Axes>"
      ]
     },
     "metadata": {
      "needs_background": "light"
     },
     "output_type": "display_data"
    }
   ],
   "source": [
    "rearranged_dists = euclidean_dists[idx,:][:,idx]\n",
    "sns.heatmap(rearranged_dists, xticklabels = False, yticklabels = False, linewidths = 0, square = True);"
   ]
  },
  {
   "cell_type": "markdown",
   "metadata": {},
   "source": [
    "## Cluster Evaluation"
   ]
  },
  {
   "cell_type": "markdown",
   "metadata": {},
   "source": [
    "How do we know whether the clusters we get represent \"real\" structure in our data?"
   ]
  },
  {
   "cell_type": "markdown",
   "metadata": {},
   "source": [
    "Consider this dataset, which we have clustered using $k$-means:"
   ]
  },
  {
   "cell_type": "code",
   "execution_count": 30,
   "metadata": {},
   "outputs": [
    {
     "data": {
      "image/png": "[encoded data removed]",
      "text/plain": [
       "<Figure size 432x288 with 2 Axes>"
      ]
     },
     "metadata": {
      "needs_background": "light"
     },
     "output_type": "display_data"
    }
   ],
   "source": [
    "unif_X = np.random.default_rng().uniform(0, 1, 100)\n",
    "unif_Y = np.random.default_rng().uniform(0, 1, 100)\n",
    "df = pd.DataFrame(np.column_stack([unif_X, unif_Y]), columns = ['X', 'Y'])\n",
    "kmeans = KMeans(init = 'k-means++', n_clusters = 3, n_init = 100)\n",
    "df['label'] = kmeans.fit_predict(df[['X', 'Y']])\n",
    "df.plot('X', 'Y', kind = 'scatter', c = 'label', colormap='viridis');"
   ]
  },
  {
   "cell_type": "markdown",
   "metadata": {},
   "source": [
    "This dataset was generated using uniform random numbers for the coordinates.\n",
    "\n",
    "So ... it truly has __no__ clusters.\n",
    "\n",
    "The point is: any clustering algorithm will always output some \"clustering\" of the data.\n",
    "\n",
    "The question is, does the clustering reflect __real__ structure?"
   ]
  },
  {
   "cell_type": "markdown",
   "metadata": {},
   "source": [
    "Generally we encounter two problems:\n",
    "* Are there \"real\" clusters in the data?\n",
    "* if so, __how many__ clusters are there?"
   ]
  },
  {
   "cell_type": "markdown",
   "metadata": {},
   "source": [
    "There is often no definitive answer to either of these questions.\n",
    "\n",
    "You will often need to use your judgement in answering them."
   ]
  },
  {
   "cell_type": "markdown",
   "metadata": {
    "slideshow": {
     "slide_type": "slide"
    }
   },
   "source": [
    "### Adjusted Rand Index"
   ]
  },
  {
   "cell_type": "markdown",
   "metadata": {},
   "source": [
    "One tool we may be able to use in some settings is __external__ information about the data.\n",
    "\n",
    "In particular, we may have knowledge from some other source about the nature of the clusters in the data."
   ]
  },
  {
   "cell_type": "markdown",
   "metadata": {},
   "source": [
    "In that case, what we need is a way to compare a proposed clustering with some externally-known, \"ground truth\" clustering."
   ]
  },
  {
   "cell_type": "markdown",
   "metadata": {
    "slideshow": {
     "slide_type": "fragment"
    }
   },
   "source": [
    "The Rand Index is a simple similarity measure for clusterings.   We can use it to compare two clusterings for similarity.\n",
    "\n",
    "Or, if we are testing an algorithm on data for which we know ground truth, we can use it to assess the algorithm's accuracy."
   ]
  },
  {
   "cell_type": "markdown",
   "metadata": {
    "slideshow": {
     "slide_type": "fragment"
    }
   },
   "source": [
    "If $T$ is a ground truth label assignment and $C$ the clustering. \n",
    "\n",
    "Let $a$ be: the number of pairs of elements that have the same label in $T$ and the same label in $C$. \n",
    "\n",
    "Also let $b$ be: the number of pairs of elements that have different labels in $T$ and different labels in $C$. \n",
    "\n",
    "Then the Rand Index is: \n",
    "$$ \\mbox{RI}(T,C) = \\frac{a+b}{n \\choose 2} $$\n"
   ]
  },
  {
   "cell_type": "markdown",
   "metadata": {
    "slideshow": {
     "slide_type": "fragment"
    }
   },
   "source": [
    "However the RI score does not guarantee that random label assignments will get a value close to zero \n",
    "\n",
    "(especially if the number of clusters is in the same order of magnitude as the number of samples). \n",
    "\n",
    "To counter this effect we can use the expected RI $E[\\text{RI}]$ of random labelings to define the adjusted Rand index as follows:\n",
    "\n",
    "\\begin{equation}\n",
    "\\text{ARI} = \\frac{\\text{RI} - E[\\text{RI}]}{\\max(\\text{RI}) - E[\\text{RI}]}\n",
    "\\end{equation}\n",
    "\n",
    "The computation of the expected RI is simple combinatorics (and left as an exercise for you :)."
   ]
  },
  {
   "cell_type": "code",
   "execution_count": 35,
   "metadata": {
    "slideshow": {
     "slide_type": "fragment"
    }
   },
   "outputs": [
    {
     "name": "stdout",
     "output_type": "stream",
     "text": [
      "1.0\n"
     ]
    }
   ],
   "source": [
    "ri = metrics.adjusted_rand_score(labels, y)\n",
    "print(ri)"
   ]
  },
  {
   "cell_type": "markdown",
   "metadata": {
    "slideshow": {
     "slide_type": "fragment"
    }
   },
   "source": [
    "Let's create a function to evaluate clusterings.\n",
    "\n",
    "__TO HERE__"
   ]
  },
  {
   "cell_type": "code",
   "execution_count": 39,
   "metadata": {
    "slideshow": {
     "slide_type": "-"
    }
   },
   "outputs": [
    {
     "data": {
      "image/png": "[encoded data removed]",
      "text/plain": [
       "<Figure size 432x288 with 1 Axes>"
      ]
     },
     "metadata": {
      "needs_background": "light"
     },
     "output_type": "display_data"
    }
   ],
   "source": [
    "def ri_evaluate_clusters(X,max_clusters,ground_truth):\n",
    "    ri = np.zeros(max_clusters+1)\n",
    "    ri[0] = 0;\n",
    "    for k in range(1,max_clusters+1):\n",
    "        kmeans = KMeans(init='k-means++', n_clusters=k, n_init=10)\n",
    "        kmeans.fit_predict(X)\n",
    "        ri[k] = metrics.adjusted_rand_score(kmeans.labels_,ground_truth)\n",
    "    plt.plot(range(1,len(ri)),ri[1:])\n",
    "    plt.xlabel('Number of clusters')\n",
    "    plt.ylabel('Adjusted Rand Index')\n",
    "    \n",
    "ri_evaluate_clusters(X, 10, y)"
   ]
  },
  {
   "cell_type": "markdown",
   "metadata": {
    "slideshow": {
     "slide_type": "slide"
    }
   },
   "source": [
    "## Deciding on the Number of Clusters"
   ]
  },
  {
   "cell_type": "markdown",
   "metadata": {},
   "source": [
    "So far, we have assumed that the number of clusters is given or known in advance.   \n",
    "\n",
    "Of course that's almost never the case.\n",
    "\n",
    "In practice, to use $k$-means or most other clustering methods, one must choose $k$, the number of clusters, via some other process."
   ]
  },
  {
   "cell_type": "markdown",
   "metadata": {
    "slideshow": {
     "slide_type": "fragment"
    }
   },
   "source": [
    "### Inspecting Clustering Error"
   ]
  },
  {
   "cell_type": "markdown",
   "metadata": {
    "slideshow": {
     "slide_type": "fragment"
    }
   },
   "source": [
    "The first thing you might do is to look at the $k$-means objective function (which is considered the clustering \"error\") and see if it levels off after a certain point.\n",
    "\n",
    "This would suggest that the clustering is not improving as the number of clusters is increased."
   ]
  },
  {
   "cell_type": "code",
   "execution_count": 32,
   "metadata": {
    "slideshow": {
     "slide_type": "fragment"
    }
   },
   "outputs": [],
   "source": [
    "error = np.zeros(11)\n",
    "for k in range(1,11):\n",
    "    kmeans = KMeans(init='k-means++', n_clusters=k, n_init=10)\n",
    "    kmeans.fit_predict(X)\n",
    "    error[k] = kmeans.inertia_"
   ]
  },
  {
   "cell_type": "code",
   "execution_count": 33,
   "metadata": {
    "slideshow": {
     "slide_type": "fragment"
    }
   },
   "outputs": [
    {
     "data": {
      "image/png": "[encoded data removed]",
      "text/plain": [
       "<Figure size 432x288 with 1 Axes>"
      ]
     },
     "metadata": {
      "needs_background": "light"
     },
     "output_type": "display_data"
    }
   ],
   "source": [
    "plt.plot(range(1,len(error)),error[1:])\n",
    "plt.xlabel('Number of clusters')\n",
    "dummy = plt.ylabel('Error')"
   ]
  },
  {
   "cell_type": "markdown",
   "metadata": {},
   "source": [
    "__Warning__: This synthetic data is not at all typical.   You will almost never see such a sharp change in the error function as we see here."
   ]
  },
  {
   "cell_type": "markdown",
   "metadata": {
    "slideshow": {
     "slide_type": "fragment"
    }
   },
   "source": [
    "Let's create a function for later use."
   ]
  },
  {
   "cell_type": "code",
   "execution_count": 34,
   "metadata": {
    "slideshow": {
     "slide_type": "-"
    }
   },
   "outputs": [],
   "source": [
    "def evaluate_clusters(X,max_clusters):\n",
    "    error = np.zeros(max_clusters+1)\n",
    "    error[0] = 0;\n",
    "    for k in range(1,max_clusters+1):\n",
    "        kmeans = KMeans(init='k-means++', n_clusters=k, n_init=10)\n",
    "        kmeans.fit_predict(X)\n",
    "        error[k] = kmeans.inertia_\n",
    "\n",
    "    plt.plot(range(1,len(error)),error[1:])\n",
    "    plt.xlabel('Number of clusters')\n",
    "    plt.ylabel('Error')"
   ]
  },
  {
   "cell_type": "markdown",
   "metadata": {
    "slideshow": {
     "slide_type": "slide"
    }
   },
   "source": [
    "### Silhouette Coefficient"
   ]
  },
  {
   "cell_type": "markdown",
   "metadata": {
    "slideshow": {
     "slide_type": "fragment"
    }
   },
   "source": [
    "Of course, normally, the ground truth labels are not known.\n",
    "\n",
    "In that case, evaluation must be performed using the model itself. \n",
    "\n",
    "The Silhouette Coefficient is an example of such an evaluation, where a higher Silhouette Coefficient score relates to a model with \"better defined\" clusters. \n",
    "\n",
    "(__`sklearn.metrics.silhouette_score`__)"
   ]
  },
  {
   "cell_type": "markdown",
   "metadata": {
    "slideshow": {
     "slide_type": "fragment"
    }
   },
   "source": [
    "Let $a$ be the mean distance between a data point and all other points in the same cluster.\n",
    "\n",
    "Let $b$ be the mean distance between a data point and all other points in the next nearest cluster. \n",
    "\n",
    "Then the \n",
    "**Silhouette Coefficient** for a clustering is:\n",
    "$$s = \\frac{b - a}{\\max(a, b)}$$"
   ]
  },
  {
   "cell_type": "code",
   "execution_count": 37,
   "metadata": {
    "slideshow": {
     "slide_type": "fragment"
    }
   },
   "outputs": [
    {
     "name": "stdout",
     "output_type": "stream",
     "text": [
      "0.8319348841402534\n"
     ]
    }
   ],
   "source": [
    "sc = metrics.silhouette_score(X, labels, metric='euclidean')\n",
    "print(sc)"
   ]
  },
  {
   "cell_type": "code",
   "execution_count": 38,
   "metadata": {
    "slideshow": {
     "slide_type": "fragment"
    }
   },
   "outputs": [
    {
     "data": {
      "image/png": "[encoded data removed]",
      "text/plain": [
       "<Figure size 432x288 with 1 Axes>"
      ]
     },
     "metadata": {
      "needs_background": "light"
     },
     "output_type": "display_data"
    }
   ],
   "source": [
    "def sc_evaluate_clusters(X,max_clusters):\n",
    "    s = np.zeros(max_clusters+1)\n",
    "    s[0] = 0;\n",
    "    s[1] = 0;\n",
    "    for k in range(2,max_clusters+1):\n",
    "        kmeans = KMeans(init='k-means++', n_clusters=k, n_init=10)\n",
    "        kmeans.fit_predict(X)\n",
    "        s[k] = metrics.silhouette_score(X,kmeans.labels_,metric='euclidean')\n",
    "    plt.plot(range(2,len(s)),s[2:])\n",
    "    plt.xlabel('Number of clusters')\n",
    "    plt.ylabel('Silhouette Score')\n",
    "    \n",
    "sc_evaluate_clusters(X,10)"
   ]
  },
  {
   "cell_type": "markdown",
   "metadata": {},
   "source": [
    "Again, these results are more perfect than typical.  But the general idea is to look for a local maximum in the Silhouette Coefficient as the potential number of clusters."
   ]
  },
  {
   "cell_type": "markdown",
   "metadata": {
    "slideshow": {
     "slide_type": "slide"
    }
   },
   "source": [
    "## Taking the Training Wheels Off: Real Data"
   ]
  },
  {
   "cell_type": "markdown",
   "metadata": {
    "slideshow": {
     "slide_type": "fragment"
    }
   },
   "source": [
    "As a \"real world\" example, we'll use the \"20 Newsgroup\" data provided as example data in sklearn.\n",
    "\n",
    "(http://scikit-learn.org/stable/datasets/twenty_newsgroups.html)."
   ]
  },
  {
   "cell_type": "code",
   "execution_count": null,
   "metadata": {},
   "outputs": [],
   "source": [
    "from sklearn.datasets import fetch_20newsgroups\n",
    "\n",
    "\"\"\"\n",
    "categories = [\n",
    " 'comp.windows.x',\n",
    " 'misc.forsale',\n",
    " 'rec.autos',\n",
    " 'rec.motorcycles',\n",
    " 'rec.sport.baseball',\n",
    " 'rec.sport.hockey',\n",
    " 'talk.religion.misc',\n",
    " 'comp.graphics',\n",
    " 'sci.space',\n",
    " 'rec.autos',\n",
    " 'rec.sport.baseball'\n",
    "]\n",
    "\"\"\"\n",
    "categories = ['comp.os.ms-windows.misc', 'sci.space','rec.sport.baseball']\n",
    "news_data = fetch_20newsgroups(subset='train', categories=categories)\n",
    "print(news_data.target, len(news_data.target))\n",
    "print(news_data.target_names)"
   ]
  },
  {
   "cell_type": "code",
   "execution_count": null,
   "metadata": {
    "slideshow": {
     "slide_type": "fragment"
    }
   },
   "outputs": [],
   "source": [
    "news_data.data[0]"
   ]
  },
  {
   "cell_type": "markdown",
   "metadata": {
    "slideshow": {
     "slide_type": "slide"
    }
   },
   "source": [
    "### Feature Extraction"
   ]
  },
  {
   "cell_type": "markdown",
   "metadata": {
    "slideshow": {
     "slide_type": "fragment"
    }
   },
   "source": [
    "We've discussed a bit the challenges of feature engineering.   One of the most basic issues concerns how to encode categorical or text data in a form usable by algorithms that expect numeric input."
   ]
  },
  {
   "cell_type": "markdown",
   "metadata": {
    "slideshow": {
     "slide_type": "fragment"
    }
   },
   "source": [
    "As we've discussed already, one can encode a set using a binary vector with one component for each potential set member.  \n",
    "\n",
    "The so-called _bag of words_ encoding for a document is to treat the document as a **multi**set of words.\n",
    "\n",
    "That is, we simply count how many times each word occurs.   It is a \"bag\" because all the order of the words in the document is lost.\n",
    "\n",
    "Surprisingly, we can still tell a lot about the document even without knowing its word ordering.\n",
    "\n",
    "Counting the number of times each word occurs in a document yields a vector of __term frequencies.__"
   ]
  },
  {
   "cell_type": "markdown",
   "metadata": {
    "slideshow": {
     "slide_type": "fragment"
    }
   },
   "source": [
    "However, simply using the \"bag of words\" directly has a number of drawbacks.   First of all, large documents will have more words than small documents.   Hence it often makes sense to normalize the frequency vectors.\n",
    "\n",
    "$\\ell_1$ or $\\ell_2$ normalization are common."
   ]
  },
  {
   "cell_type": "markdown",
   "metadata": {
    "slideshow": {
     "slide_type": "fragment"
    }
   },
   "source": [
    "Next, as noted in __scikit-learn__:\n",
    "\n",
    ">In a large text corpus, some words will be very [frequent] (e.g. “the”, “a”, “is” in English) hence carrying very little meaningful information about the actual contents of the document. \n",
    "\n",
    ">If we were to feed the direct count data directly to a classifier those very frequent terms would shadow the frequencies of rarer yet more interesting terms."
   ]
  },
  {
   "cell_type": "markdown",
   "metadata": {
    "slideshow": {
     "slide_type": "fragment"
    }
   },
   "source": [
    "\n",
    ">In order to re-weight the count features into floating point values suitable for usage by a classifier it is very common to use the tf–idf transform.\n",
    "\n",
    ">__Tf__ means __term-frequency__ while __tf–idf__ means __term-frequency times inverse document-frequency.__\n",
    "\n",
    ">This is a originally a term weighting scheme developed for information retrieval (as a ranking function for search engines results), that has also found good use in document classification and clustering."
   ]
  },
  {
   "cell_type": "markdown",
   "metadata": {
    "slideshow": {
     "slide_type": "fragment"
    }
   },
   "source": [
    "The idea is that rare words are more informative than common words.  (This has connections to information theory).\n",
    "\n",
    "Hence, the definition of tf-idf is as follows.\n",
    "\n",
    "First:\n",
    "\n",
    "$$\\text{tf}(t,d) = \\text{Number of times term }t \\text{ occurs in document } d$$\n",
    "\n",
    "Next, if $N$ is the total number of documents in the corpus $D$ then:\n",
    "\n",
    "$$\\text{idf}(t,D)=\\frac{N}{|\\{d\\in D : t\\in d \\}|}$$\n",
    "\n",
    "where the denominator is the number of documents in which the term $t$ appears.\n",
    "\n",
    "And finally:\n",
    "\n",
    "$$\\text{tf-idf}(t,d)=\\text{tf}(t,d)\\times \\text{idf}(t,D)$$"
   ]
  },
  {
   "cell_type": "code",
   "execution_count": null,
   "metadata": {
    "slideshow": {
     "slide_type": "fragment"
    }
   },
   "outputs": [],
   "source": [
    "from sklearn.feature_extraction.text import TfidfVectorizer\n",
    "vectorizer = TfidfVectorizer(stop_words='english', min_df=4, max_df=0.8)\n",
    "data = vectorizer.fit_transform(news_data.data)"
   ]
  },
  {
   "cell_type": "markdown",
   "metadata": {
    "slideshow": {
     "slide_type": "slide"
    }
   },
   "source": [
    "### Getting to know the Data"
   ]
  },
  {
   "cell_type": "code",
   "execution_count": null,
   "metadata": {
    "slideshow": {
     "slide_type": "fragment"
    }
   },
   "outputs": [],
   "source": [
    "print(type(data), data.shape)"
   ]
  },
  {
   "cell_type": "code",
   "execution_count": null,
   "metadata": {
    "slideshow": {
     "slide_type": "fragment"
    }
   },
   "outputs": [],
   "source": [
    "fig, ax1 = plt.subplots(1,1,figsize=(15,10))\n",
    "dum = sns.heatmap(data[1:100,1:200].todense(), xticklabels=False, yticklabels=False, \n",
    "            linewidths=0, cbar=False, ax=ax1)"
   ]
  },
  {
   "cell_type": "code",
   "execution_count": null,
   "metadata": {
    "slideshow": {
     "slide_type": "fragment"
    }
   },
   "outputs": [],
   "source": [
    "print(news_data.target)\n",
    "print(news_data.target_names)"
   ]
  },
  {
   "cell_type": "markdown",
   "metadata": {
    "slideshow": {
     "slide_type": "slide"
    }
   },
   "source": [
    "### Selecting the Number of Clusters"
   ]
  },
  {
   "cell_type": "code",
   "execution_count": null,
   "metadata": {
    "slideshow": {
     "slide_type": "fragment"
    }
   },
   "outputs": [],
   "source": [
    "evaluate_clusters(data, 10)"
   ]
  },
  {
   "cell_type": "code",
   "execution_count": null,
   "metadata": {
    "slideshow": {
     "slide_type": "fragment"
    }
   },
   "outputs": [],
   "source": [
    "ri_evaluate_clusters(data,10,news_data.target)"
   ]
  },
  {
   "cell_type": "code",
   "execution_count": null,
   "metadata": {
    "slideshow": {
     "slide_type": "fragment"
    }
   },
   "outputs": [],
   "source": [
    "sc_evaluate_clusters(data,10)"
   ]
  },
  {
   "cell_type": "markdown",
   "metadata": {
    "slideshow": {
     "slide_type": "slide"
    }
   },
   "source": [
    "### Looking into the clusters"
   ]
  },
  {
   "cell_type": "code",
   "execution_count": null,
   "metadata": {
    "slideshow": {
     "slide_type": "fragment"
    }
   },
   "outputs": [],
   "source": [
    "k=5\n",
    "kmeans = KMeans(n_clusters=k, init='k-means++', max_iter=100, n_init=1)\n",
    "kmeans.fit_predict(data)"
   ]
  },
  {
   "cell_type": "code",
   "execution_count": null,
   "metadata": {
    "slideshow": {
     "slide_type": "fragment"
    }
   },
   "outputs": [],
   "source": [
    "print(\"Top terms per cluster:\")\n",
    "asc_order_centroids = kmeans.cluster_centers_.argsort()#[:, ::-1]\n",
    "order_centroids = asc_order_centroids[:,::-1]\n",
    "terms = vectorizer.get_feature_names()\n",
    "for i in range(k):\n",
    "    print(\"Cluster {}:\".format(i))\n",
    "    for ind in order_centroids[i, :10]:\n",
    "        print(' {}'.format(terms[ind]))\n",
    "    print('')"
   ]
  },
  {
   "cell_type": "code",
   "execution_count": null,
   "metadata": {},
   "outputs": [],
   "source": [
    "kmeans?"
   ]
  },
  {
   "cell_type": "code",
   "execution_count": null,
   "metadata": {
    "slideshow": {
     "slide_type": "fragment"
    }
   },
   "outputs": [],
   "source": [
    "euclidean_dists = metrics.euclidean_distances(data)\n",
    "labels = kmeans.labels_\n",
    "idx = np.argsort(labels)\n",
    "clustered_dists = euclidean_dists[idx][:,idx]\n",
    "fig, ax1 = plt.subplots(1,1,figsize=(15,15))\n",
    "dum = sns.heatmap(clustered_dists, xticklabels=False, yticklabels=False, linewidths=0, square=True,cbar=False, ax=ax1)"
   ]
  },
  {
   "cell_type": "markdown",
   "metadata": {},
   "source": [
    "Let's visualize with MDS.   Note that MDS is a slow algorithm and we can't do all 1700+ data points quickly, so we will take a random sample."
   ]
  },
  {
   "cell_type": "code",
   "execution_count": null,
   "metadata": {
    "slideshow": {
     "slide_type": "fragment"
    }
   },
   "outputs": [],
   "source": [
    "import random\n",
    "n_items = euclidean_dists.shape[0]\n",
    "subset = random.sample(range(n_items),500)\n",
    "\n",
    "fit = mds.fit(euclidean_dists[subset][:,subset])\n",
    "pos = fit.embedding_"
   ]
  },
  {
   "cell_type": "code",
   "execution_count": null,
   "metadata": {
    "slideshow": {
     "slide_type": "fragment"
    }
   },
   "outputs": [],
   "source": [
    "cols = [['b', 'g', 'r', 'c', 'm', 'y', 'k'][l] for l in labels[subset]]\n",
    "plt.scatter(pos[:, 0], pos[:, 1], s=12, c=cols)"
   ]
  }
 ],
 "metadata": {
  "anaconda-cloud": {},
  "celltoolbar": "Slideshow",
  "kernelspec": {
   "display_name": "Python 3 (ipykernel)",
   "language": "python",
   "name": "python3"
  },
  "language_info": {
   "codemirror_mode": {
    "name": "ipython",
    "version": 3
   },
   "file_extension": ".py",
   "mimetype": "text/x-python",
   "name": "python",
   "nbconvert_exporter": "python",
   "pygments_lexer": "ipython3",
   "version": "3.8.11"
  }
 },
 "nbformat": 4,
 "nbformat_minor": 1
}
