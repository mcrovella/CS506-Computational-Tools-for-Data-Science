{
 "cells": [
  {
   "cell_type": "code",
   "execution_count": 1,
   "metadata": {
    "hide_input": true,
    "slideshow": {
     "slide_type": "skip"
    },
    "tags": [
     "hide-cell"
    ]
   },
   "outputs": [],
   "source": [
    "import numpy as np\n",
    "import scipy as sp\n",
    "import matplotlib.pyplot as plt\n",
    "import pandas as pd\n",
    "import seaborn as sns\n",
    "import matplotlib as mp\n",
    "import sklearn\n",
    "from IPython.display import Image, HTML\n",
    "import statsmodels.api as sm\n",
    "from sklearn import model_selection\n",
    "from sklearn import metrics\n",
    "\n",
    "import laUtilities as ut\n",
    "\n",
    "%matplotlib inline"
   ]
  },
  {
   "cell_type": "markdown",
   "metadata": {
    "slideshow": {
     "slide_type": "slide"
    }
   },
   "source": [
    "# Logistic Regression"
   ]
  },
  {
   "cell_type": "markdown",
   "metadata": {
    "slideshow": {
     "slide_type": "slide"
    }
   },
   "source": [
    "So far we have seen linear regression: a continuous valued observation is estimated as linear (or affine) function of the independent variables."
   ]
  },
  {
   "cell_type": "markdown",
   "metadata": {
    "slideshow": {
     "slide_type": "fragment"
    }
   },
   "source": [
    "Today we will look at the following situation.\n",
    "\n",
    "Imagine that you are observing a binary variable -- a 0/1 value.\n",
    "\n",
    "That is, these could be pass/fail, admit/reject, Democrat/Republican, etc."
   ]
  },
  {
   "cell_type": "markdown",
   "metadata": {
    "slideshow": {
     "slide_type": "fragment"
    }
   },
   "source": [
    "You believe that there is some __probability__ of observing a 1, and that probability is a function of certain independent variables."
   ]
  },
  {
   "cell_type": "markdown",
   "metadata": {
    "slideshow": {
     "slide_type": "fragment"
    }
   },
   "source": [
    "So the key properties of a problem that make it appropriate for logistic regression are:\n",
    "    \n",
    "* What you can observe is a __categorical__ variable\n",
    "* What you want to estimate is a __probability__ of seeing a particular value of the categorical variable."
   ]
  },
  {
   "cell_type": "markdown",
   "metadata": {
    "slideshow": {
     "slide_type": "slide"
    }
   },
   "source": [
    "## What is the probability I will be admitted to Grad School?"
   ]
  },
  {
   "cell_type": "markdown",
   "metadata": {
    "slideshow": {
     "slide_type": "skip"
    }
   },
   "source": [
    "```{note}\n",
    "The following example is based on http://www.ats.ucla.edu/stat/r/dae/logit.htm.\n",
    "```"
   ]
  },
  {
   "cell_type": "markdown",
   "metadata": {
    "slideshow": {
     "slide_type": "fragment"
    }
   },
   "source": [
    "A researcher is interested in how variables, such as _GRE_ (Graduate Record Exam scores), _GPA_ (grade point average) and prestige of the undergraduate institution affect admission into graduate school. \n",
    "\n",
    "The response variable, admit/don't admit, is a binary variable."
   ]
  },
  {
   "cell_type": "markdown",
   "metadata": {
    "slideshow": {
     "slide_type": "fragment"
    }
   },
   "source": [
    "There are three predictor variables: __gre,__ __gpa__ and __rank.__ \n",
    "\n",
    "* We will treat the variables _gre_ and _gpa_ as continuous. \n",
    "* The variable _rank_ takes on the values 1 through 4. \n",
    "    * Institutions with a rank of 1 have the highest prestige, while those with a rank of 4 have the lowest. "
   ]
  },
  {
   "cell_type": "code",
   "execution_count": 2,
   "metadata": {
    "hide_input": false,
    "slideshow": {
     "slide_type": "fragment"
    }
   },
   "outputs": [
    {
     "data": {
      "text/html": [
       "<div>\n",
       "<style scoped>\n",
       "    .dataframe tbody tr th:only-of-type {\n",
       "        vertical-align: middle;\n",
       "    }\n",
       "\n",
       "    .dataframe tbody tr th {\n",
       "        vertical-align: top;\n",
       "    }\n",
       "\n",
       "    .dataframe thead th {\n",
       "        text-align: right;\n",
       "    }\n",
       "</style>\n",
       "<table border=\"1\" class=\"dataframe\">\n",
       "  <thead>\n",
       "    <tr style=\"text-align: right;\">\n",
       "      <th></th>\n",
       "      <th>admit</th>\n",
       "      <th>gre</th>\n",
       "      <th>gpa</th>\n",
       "      <th>rank</th>\n",
       "    </tr>\n",
       "  </thead>\n",
       "  <tbody>\n",
       "    <tr>\n",
       "      <th>0</th>\n",
       "      <td>0</td>\n",
       "      <td>380</td>\n",
       "      <td>3.61</td>\n",
       "      <td>3</td>\n",
       "    </tr>\n",
       "    <tr>\n",
       "      <th>1</th>\n",
       "      <td>1</td>\n",
       "      <td>660</td>\n",
       "      <td>3.67</td>\n",
       "      <td>3</td>\n",
       "    </tr>\n",
       "    <tr>\n",
       "      <th>2</th>\n",
       "      <td>1</td>\n",
       "      <td>800</td>\n",
       "      <td>4.00</td>\n",
       "      <td>1</td>\n",
       "    </tr>\n",
       "    <tr>\n",
       "      <th>3</th>\n",
       "      <td>1</td>\n",
       "      <td>640</td>\n",
       "      <td>3.19</td>\n",
       "      <td>4</td>\n",
       "    </tr>\n",
       "    <tr>\n",
       "      <th>4</th>\n",
       "      <td>0</td>\n",
       "      <td>520</td>\n",
       "      <td>2.93</td>\n",
       "      <td>4</td>\n",
       "    </tr>\n",
       "    <tr>\n",
       "      <th>5</th>\n",
       "      <td>1</td>\n",
       "      <td>760</td>\n",
       "      <td>3.00</td>\n",
       "      <td>2</td>\n",
       "    </tr>\n",
       "    <tr>\n",
       "      <th>6</th>\n",
       "      <td>1</td>\n",
       "      <td>560</td>\n",
       "      <td>2.98</td>\n",
       "      <td>1</td>\n",
       "    </tr>\n",
       "    <tr>\n",
       "      <th>7</th>\n",
       "      <td>0</td>\n",
       "      <td>400</td>\n",
       "      <td>3.08</td>\n",
       "      <td>2</td>\n",
       "    </tr>\n",
       "    <tr>\n",
       "      <th>8</th>\n",
       "      <td>1</td>\n",
       "      <td>540</td>\n",
       "      <td>3.39</td>\n",
       "      <td>3</td>\n",
       "    </tr>\n",
       "    <tr>\n",
       "      <th>9</th>\n",
       "      <td>0</td>\n",
       "      <td>700</td>\n",
       "      <td>3.92</td>\n",
       "      <td>2</td>\n",
       "    </tr>\n",
       "  </tbody>\n",
       "</table>\n",
       "</div>"
      ],
      "text/plain": [
       "   admit  gre   gpa  rank\n",
       "0      0  380  3.61     3\n",
       "1      1  660  3.67     3\n",
       "2      1  800  4.00     1\n",
       "3      1  640  3.19     4\n",
       "4      0  520  2.93     4\n",
       "5      1  760  3.00     2\n",
       "6      1  560  2.98     1\n",
       "7      0  400  3.08     2\n",
       "8      1  540  3.39     3\n",
       "9      0  700  3.92     2"
      ]
     },
     "execution_count": 2,
     "metadata": {},
     "output_type": "execute_result"
    }
   ],
   "source": [
    "# data source: http://www.ats.ucla.edu/stat/data/binary.csv\n",
    "df = pd.read_csv('data/ats-admissions.csv') \n",
    "df.head(10)"
   ]
  },
  {
   "cell_type": "code",
   "execution_count": 3,
   "metadata": {
    "slideshow": {
     "slide_type": "fragment"
    }
   },
   "outputs": [
    {
     "data": {
      "text/html": [
       "<div>\n",
       "<style scoped>\n",
       "    .dataframe tbody tr th:only-of-type {\n",
       "        vertical-align: middle;\n",
       "    }\n",
       "\n",
       "    .dataframe tbody tr th {\n",
       "        vertical-align: top;\n",
       "    }\n",
       "\n",
       "    .dataframe thead th {\n",
       "        text-align: right;\n",
       "    }\n",
       "</style>\n",
       "<table border=\"1\" class=\"dataframe\">\n",
       "  <thead>\n",
       "    <tr style=\"text-align: right;\">\n",
       "      <th></th>\n",
       "      <th>admit</th>\n",
       "      <th>gre</th>\n",
       "      <th>gpa</th>\n",
       "      <th>rank</th>\n",
       "    </tr>\n",
       "  </thead>\n",
       "  <tbody>\n",
       "    <tr>\n",
       "      <th>count</th>\n",
       "      <td>400.000000</td>\n",
       "      <td>400.000000</td>\n",
       "      <td>400.000000</td>\n",
       "      <td>400.00000</td>\n",
       "    </tr>\n",
       "    <tr>\n",
       "      <th>mean</th>\n",
       "      <td>0.317500</td>\n",
       "      <td>587.700000</td>\n",
       "      <td>3.389900</td>\n",
       "      <td>2.48500</td>\n",
       "    </tr>\n",
       "    <tr>\n",
       "      <th>std</th>\n",
       "      <td>0.466087</td>\n",
       "      <td>115.516536</td>\n",
       "      <td>0.380567</td>\n",
       "      <td>0.94446</td>\n",
       "    </tr>\n",
       "    <tr>\n",
       "      <th>min</th>\n",
       "      <td>0.000000</td>\n",
       "      <td>220.000000</td>\n",
       "      <td>2.260000</td>\n",
       "      <td>1.00000</td>\n",
       "    </tr>\n",
       "    <tr>\n",
       "      <th>25%</th>\n",
       "      <td>0.000000</td>\n",
       "      <td>520.000000</td>\n",
       "      <td>3.130000</td>\n",
       "      <td>2.00000</td>\n",
       "    </tr>\n",
       "    <tr>\n",
       "      <th>50%</th>\n",
       "      <td>0.000000</td>\n",
       "      <td>580.000000</td>\n",
       "      <td>3.395000</td>\n",
       "      <td>2.00000</td>\n",
       "    </tr>\n",
       "    <tr>\n",
       "      <th>75%</th>\n",
       "      <td>1.000000</td>\n",
       "      <td>660.000000</td>\n",
       "      <td>3.670000</td>\n",
       "      <td>3.00000</td>\n",
       "    </tr>\n",
       "    <tr>\n",
       "      <th>max</th>\n",
       "      <td>1.000000</td>\n",
       "      <td>800.000000</td>\n",
       "      <td>4.000000</td>\n",
       "      <td>4.00000</td>\n",
       "    </tr>\n",
       "  </tbody>\n",
       "</table>\n",
       "</div>"
      ],
      "text/plain": [
       "            admit         gre         gpa       rank\n",
       "count  400.000000  400.000000  400.000000  400.00000\n",
       "mean     0.317500  587.700000    3.389900    2.48500\n",
       "std      0.466087  115.516536    0.380567    0.94446\n",
       "min      0.000000  220.000000    2.260000    1.00000\n",
       "25%      0.000000  520.000000    3.130000    2.00000\n",
       "50%      0.000000  580.000000    3.395000    2.00000\n",
       "75%      1.000000  660.000000    3.670000    3.00000\n",
       "max      1.000000  800.000000    4.000000    4.00000"
      ]
     },
     "execution_count": 3,
     "metadata": {},
     "output_type": "execute_result"
    }
   ],
   "source": [
    "df.describe()"
   ]
  },
  {
   "cell_type": "code",
   "execution_count": 4,
   "metadata": {
    "hide_input": true,
    "slideshow": {
     "slide_type": "fragment"
    },
    "tags": [
     "hide-input"
    ]
   },
   "outputs": [
    {
     "name": "stderr",
     "output_type": "stream",
     "text": [
      "/Users/crovella/opt/anaconda3/lib/python3.7/site-packages/ipykernel_launcher.py:2: UserWarning: To output multiple subplots, the figure containing the passed axes is being cleared\n",
      "  \n"
     ]
    },
    {
     "data": {
      "image/png": "[encoded data removed]",
      "text/plain": [
       "<Figure size 720x504 with 4 Axes>"
      ]
     },
     "metadata": {
      "needs_background": "light"
     },
     "output_type": "display_data"
    }
   ],
   "source": [
    "ax = plt.figure(figsize = (10,7)).add_subplot()\n",
    "df.hist(ax = ax);"
   ]
  },
  {
   "cell_type": "markdown",
   "metadata": {
    "slideshow": {
     "slide_type": "slide"
    }
   },
   "source": [
    "Let's look at how each independent variable affects admission probability."
   ]
  },
  {
   "cell_type": "markdown",
   "metadata": {
    "slideshow": {
     "slide_type": "fragment"
    }
   },
   "source": [
    "First, __rank__:"
   ]
  },
  {
   "cell_type": "code",
   "execution_count": 5,
   "metadata": {
    "hide_input": true,
    "tags": [
     "hide-input"
    ]
   },
   "outputs": [
    {
     "data": {
      "image/png": "[encoded data removed]",
      "text/plain": [
       "<Figure size 432x288 with 1 Axes>"
      ]
     },
     "metadata": {
      "needs_background": "light"
     },
     "output_type": "display_data"
    }
   ],
   "source": [
    "ax = df.groupby('rank').mean()['admit'].plot(marker = 'o',\n",
    "                                       fontsize = 12)\n",
    "ax.set_ylabel('P[admit]', fontsize = 16)\n",
    "ax.set_xlabel('Rank', fontsize = 16);"
   ]
  },
  {
   "cell_type": "markdown",
   "metadata": {
    "slideshow": {
     "slide_type": "fragment"
    }
   },
   "source": [
    "Next, __GRE__:"
   ]
  },
  {
   "cell_type": "code",
   "execution_count": 6,
   "metadata": {
    "hide_input": true,
    "slideshow": {
     "slide_type": "-"
    },
    "tags": [
     "hide-input"
    ]
   },
   "outputs": [
    {
     "data": {
      "image/png": "[encoded data removed]",
      "text/plain": [
       "<Figure size 432x288 with 1 Axes>"
      ]
     },
     "metadata": {
      "needs_background": "light"
     },
     "output_type": "display_data"
    }
   ],
   "source": [
    "ax = df.groupby('gre').mean()['admit'].plot(marker = 'o',\n",
    "                                       fontsize = 12)\n",
    "ax.set_ylabel('P[admit]', fontsize = 16)\n",
    "ax.set_xlabel('GRE', fontsize = 16);"
   ]
  },
  {
   "cell_type": "markdown",
   "metadata": {
    "slideshow": {
     "slide_type": "fragment"
    }
   },
   "source": [
    "Finally, __GPA__ (for this visualization, we aggregate GPA into 10 bins):"
   ]
  },
  {
   "cell_type": "code",
   "execution_count": 7,
   "metadata": {
    "hide_input": true,
    "tags": [
     "hide-input"
    ]
   },
   "outputs": [
    {
     "data": {
      "image/png": "[encoded data removed]",
      "text/plain": [
       "<Figure size 432x288 with 1 Axes>"
      ]
     },
     "metadata": {
      "needs_background": "light"
     },
     "output_type": "display_data"
    }
   ],
   "source": [
    "bins = np.linspace(df.gpa.min(), df.gpa.max(), 10)\n",
    "ax = df.groupby(np.digitize(df.gpa, bins)).mean()['admit'].plot(marker = 'o',\n",
    "                                       fontsize = 12)\n",
    "ax.set_ylabel('P[admit]', fontsize = 16)\n",
    "ax.set_xlabel('GPA', fontsize = 16);"
   ]
  },
  {
   "cell_type": "markdown",
   "metadata": {
    "collapsed": true,
    "slideshow": {
     "slide_type": "fragment"
    }
   },
   "source": [
    "Furthermore, we can see that the independent variables are strongly correlated:"
   ]
  },
  {
   "cell_type": "code",
   "execution_count": 8,
   "metadata": {
    "hide_input": true,
    "slideshow": {
     "slide_type": "-"
    },
    "tags": [
     "hide-input"
    ]
   },
   "outputs": [
    {
     "data": {
      "image/png": "[encoded data removed]",
      "text/plain": [
       "<Figure size 720x360 with 4 Axes>"
      ]
     },
     "metadata": {
      "needs_background": "light"
     },
     "output_type": "display_data"
    }
   ],
   "source": [
    "df1 = df[df['rank']==1]\n",
    "df2 = df[df['rank']==2]\n",
    "df3 = df[df['rank']==3]\n",
    "df4 = df[df['rank']==4]\n",
    "#\n",
    "fig = plt.figure(figsize = (10, 5))\n",
    "ax1 = fig.add_subplot(221)\n",
    "df1.plot.scatter('gre','admit', ax = ax1)\n",
    "plt.title('Rank 1 Institutions')\n",
    "ax2 = fig.add_subplot(222)\n",
    "df2.plot.scatter('gre','admit', ax = ax2)\n",
    "plt.title('Rank 2 Institutions')\n",
    "ax3 = fig.add_subplot(223, sharex = ax1)\n",
    "df3.plot.scatter('gre','admit', ax = ax3)\n",
    "plt.title('Rank 3 Institutions')\n",
    "ax4 = fig.add_subplot(224, sharex = ax2)\n",
    "plt.title('Rank 4 Institutions')\n",
    "df4.plot.scatter('gre','admit', ax = ax4);"
   ]
  },
  {
   "cell_type": "markdown",
   "metadata": {
    "slideshow": {
     "slide_type": "slide"
    }
   },
   "source": [
    "## Logistic Regression"
   ]
  },
  {
   "cell_type": "markdown",
   "metadata": {
    "slideshow": {
     "slide_type": "fragment"
    }
   },
   "source": [
    "Logistic regression is concerned with estimating a __probability.__\n",
    "\n",
    "However, all that is available are categorical observations, which we will code as 0/1.\n",
    "\n",
    "That is, these could be pass/fail, admit/reject, Democrat/Republican, etc."
   ]
  },
  {
   "cell_type": "markdown",
   "metadata": {
    "slideshow": {
     "slide_type": "fragment"
    }
   },
   "source": [
    "Now, a linear function like $\\alpha + \\beta x$ cannot be used to predict probability directly, because the linear function takes on all values (from -$\\infty$ to +$\\infty$), and probability only ranges over $(0, 1)$.\n",
    "\n",
    "However, there is a transformation of probability that works: it is called __log-odds__."
   ]
  },
  {
   "cell_type": "markdown",
   "metadata": {
    "slideshow": {
     "slide_type": "fragment"
    }
   },
   "source": [
    "For any probabilty $p$, the __odds__ is defined as $p/(1-p)$.   Notice that odds vary from 0 to $\\infty$, and odds < 1 indicates that $p < 1/2$.\n",
    "\n",
    "Now, there is a good argument that to fit a linear function, instead of using odds, we should use log-odds.  That is simply $\\log p/(1-p)$."
   ]
  },
  {
   "cell_type": "code",
   "execution_count": 9,
   "metadata": {
    "hide_input": false,
    "tags": [
     "hide-input"
    ]
   },
   "outputs": [
    {
     "data": {
      "image/png": "[encoded data removed]",
      "text/plain": [
       "<Figure size 432x288 with 1 Axes>"
      ]
     },
     "metadata": {
      "needs_background": "light"
     },
     "output_type": "display_data"
    }
   ],
   "source": [
    "pvec = np.linspace(0.01, 0.99, 100)\n",
    "ax = plt.figure(figsize = (6, 4)).add_subplot()\n",
    "ax.plot(pvec, np.log(pvec / (1-pvec)))\n",
    "ax.tick_params(labelsize=12)\n",
    "ax.set_xlabel('Probability', fontsize = 14)\n",
    "ax.set_ylabel('Log-Odds', fontsize = 14)\n",
    "ax.set_title('Logit Function: $\\log (p/1-p)$', fontsize = 16);"
   ]
  },
  {
   "cell_type": "markdown",
   "metadata": {
    "slideshow": {
     "slide_type": "fragment"
    }
   },
   "source": [
    "So, logistic regression does the following: it does a linear regression of $\\alpha + \\beta x$ against $\\log p/(1-p)$."
   ]
  },
  {
   "cell_type": "markdown",
   "metadata": {
    "slideshow": {
     "slide_type": "fragment"
    }
   },
   "source": [
    "That is, it fits:\n",
    "\n",
    "$$\\alpha + \\beta x = \\log \\frac{p(x)}{1-p(x)}$$"
   ]
  },
  {
   "cell_type": "markdown",
   "metadata": {
    "slideshow": {
     "slide_type": "fragment"
    }
   },
   "source": [
    "$$e^{\\alpha + \\beta x} = \\frac{p(x)}{1-p(x)}$$"
   ]
  },
  {
   "cell_type": "markdown",
   "metadata": {
    "slideshow": {
     "slide_type": "fragment"
    }
   },
   "source": [
    "$$e^{\\alpha + \\beta x} (1-p(x)) = p(x)$$"
   ]
  },
  {
   "cell_type": "markdown",
   "metadata": {
    "slideshow": {
     "slide_type": "fragment"
    }
   },
   "source": [
    "$$e^{\\alpha + \\beta x}  = p(x) + p(x)e^{\\alpha + \\beta x}$$"
   ]
  },
  {
   "cell_type": "markdown",
   "metadata": {
    "slideshow": {
     "slide_type": "fragment"
    }
   },
   "source": [
    "$$\\frac{e^{\\alpha + \\beta x}}{1 +e^{\\alpha + \\beta x}} = p(x)$$"
   ]
  },
  {
   "cell_type": "markdown",
   "metadata": {
    "slideshow": {
     "slide_type": "fragment"
    }
   },
   "source": [
    "So, logistic regression fits a probability of the following form:\n",
    "        $$p(x) = P(y=1\\mid x) = \\frac{e^{\\alpha+\\beta x}}{1+e^{\\alpha+\\beta x}}$$\n",
    "        \n",
    "This is a sigmoid function; when $\\beta > 0$, $x\\rightarrow \\infty$, then $p(x)\\rightarrow 1$ and when $x\\rightarrow -\\infty$, then $p(x)\\rightarrow 0$."
   ]
  },
  {
   "cell_type": "code",
   "execution_count": 10,
   "metadata": {
    "hide_input": true,
    "slideshow": {
     "slide_type": "fragment"
    },
    "tags": [
     "hide-input"
    ]
   },
   "outputs": [
    {
     "data": {
      "image/png": "[encoded data removed]",
      "text/plain": [
       "<Figure size 576x432 with 1 Axes>"
      ]
     },
     "metadata": {
      "needs_background": "light"
     },
     "output_type": "display_data"
    }
   ],
   "source": [
    "alphas = [-4, -8,-12,-20]\n",
    "betas = [0.4,0.4,0.6,1]\n",
    "x = np.arange(40)\n",
    "fig = plt.figure(figsize=(8, 6)) \n",
    "ax = plt.subplot(111)\n",
    "\n",
    "for i in range(len(alphas)):\n",
    "    a = alphas[i]\n",
    "    b = betas[i]\n",
    "    y = np.exp(a+b*x)/(1+np.exp(a+b*x))\n",
    "#     plt.plot(x,y,label=r\"$\\frac{e^{%d + %3.1fx}}{1+e^{%d + %3.1fx}}\\;\\alpha=%d, \\beta=%3.1f$\" % (a,b,a,b,a,b))\n",
    "    ax.plot(x,y,label=r\"$\\alpha=%d,$    $\\beta=%3.1f$\" % (a,b))\n",
    "ax.tick_params(labelsize=12)\n",
    "ax.set_xlabel('x', fontsize = 14)\n",
    "ax.set_ylabel('$p(x)$', fontsize = 14)\n",
    "ax.legend(loc='center left', bbox_to_anchor=(1, 0.5), prop={'size': 16})\n",
    "ax.set_title('Logistic Functions', fontsize = 16);"
   ]
  },
  {
   "cell_type": "markdown",
   "metadata": {
    "slideshow": {
     "slide_type": "fragment"
    }
   },
   "source": [
    "Parameter $\\beta$ controls how fast $p(x)$ raises from $0$ to $1$\n",
    "\n",
    "The value of -$\\alpha$/$\\beta$ shows the value of $x$ for which $p(x)=0.5$\n",
    "\n",
    "Another interpretation of $\\alpha$ is that it gives the __base rate__ -- the unconditional probability of a 1.   That is, if you knew nothing about a particular data item, then $p(x) = 1/(1+e^{-\\alpha})$."
   ]
  },
  {
   "cell_type": "markdown",
   "metadata": {
    "slideshow": {
     "slide_type": "fragment"
    }
   },
   "source": [
    "The function $f(x) = \\log (x/(1-x))$ is called the __logit__ function.\n",
    "\n",
    "So a compact way to describe logistic regression is that it finds regression coefficients $\\alpha, \\beta$ to fit:\n",
    "\n",
    "$$\\text{logit}\\left(p(x)\\right)=\\log\\left(\\frac{p(x)}{1-p(x)} \\right) = \\alpha + \\beta x$$"
   ]
  },
  {
   "cell_type": "markdown",
   "metadata": {
    "slideshow": {
     "slide_type": "fragment"
    }
   },
   "source": [
    "Note also that the __inverse__ logit function is:\n",
    "\n",
    "$$\\text{logit}^{-1}(x) = \\frac{e^x}{1 + e^x}$$\n",
    "\n",
    "Somewhat confusingly, this is called the __logistic__ function."
   ]
  },
  {
   "cell_type": "markdown",
   "metadata": {},
   "source": [
    "So, the best way to think of logistic regression is that we compute a linear function:\n",
    "    \n",
    "$$\\alpha + \\beta x$$\n",
    "    \n",
    "and then \"map\" that to a probability using the $\\text{logit}^{-1}$ function:\n",
    "\n",
    "$$\\frac{e^{\\alpha+\\beta x}}{1+e^{\\alpha+\\beta x}}$$"
   ]
  },
  {
   "cell_type": "markdown",
   "metadata": {
    "slideshow": {
     "slide_type": "slide"
    }
   },
   "source": [
    "## Logistic vs Linear Regression"
   ]
  },
  {
   "cell_type": "markdown",
   "metadata": {
    "slideshow": {
     "slide_type": "fragment"
    }
   },
   "source": [
    "Let's take a moment to compare linear and logistic regression."
   ]
  },
  {
   "cell_type": "markdown",
   "metadata": {
    "slideshow": {
     "slide_type": "fragment"
    }
   },
   "source": [
    "In __Linear regression__ we fit \n",
    "\n",
    "$$y_i = \\alpha +\\beta x_i + \\epsilon_i.$$\n",
    "\n",
    "We do the fitting by minimizing the sum of squared error ($\\Vert\\epsilon\\Vert$).   This can be done in closed form.  \n",
    "\n",
    "(Recall that the closed form is found by geometric arguments, or by calculus)."
   ]
  },
  {
   "cell_type": "markdown",
   "metadata": {
    "slideshow": {
     "slide_type": "fragment"
    }
   },
   "source": [
    "Now, if $\\epsilon_i$ comes from a normal distribution with mean zero and some fixed variance, \n",
    "\n",
    "then minimizing the sum of squared error is exactly the same as finding the maximum likelihood of the data with respect to the probability of the errors.\n",
    "\n",
    "So, in the case of linear regression, it is a lucky fact that the __MLE__ of $\\alpha$ and $\\beta$ can be found by a __closed-form__ calculation."
   ]
  },
  {
   "cell_type": "markdown",
   "metadata": {
    "slideshow": {
     "slide_type": "fragment"
    }
   },
   "source": [
    "In __Logistic regression__ we fit \n",
    "\n",
    "$$\\text{logit}(p(x_i)) = \\alpha + \\beta x_i.$$\n",
    "\n",
    "\n",
    "with $\\text{Pr}(y_i=1\\mid x_i)=p(x_i).$\n",
    "\n",
    "How should we choose parameters?   "
   ]
  },
  {
   "cell_type": "markdown",
   "metadata": {
    "slideshow": {
     "slide_type": "fragment"
    }
   },
   "source": [
    "Here too, we use Maximum Likelihood Estimation of the parameters.\n",
    "\n",
    "That is, we choose the parameter values that maximize the likelihood of the data given the model."
   ]
  },
  {
   "cell_type": "markdown",
   "metadata": {
    "slideshow": {
     "slide_type": "fragment"
    }
   },
   "source": [
    "$$ \\text{Pr}(y_i \\mid x_i) = \\left\\{\\begin{array}{lr}\\text{logit}^{-1}(\\alpha + \\beta x_i)& \\text{if } y_i = 1\\\\\n",
    "1 - \\text{logit}^{-1}(\\alpha + \\beta x_i)& \\text{if } y_i = 0\\end{array}\\right.$$"
   ]
  },
  {
   "cell_type": "markdown",
   "metadata": {
    "slideshow": {
     "slide_type": "fragment"
    }
   },
   "source": [
    "We can write this as a single expression:\n",
    "\n",
    "$$\\text{Pr}(y_i \\mid x_i) = \\text{logit}^{-1}(\\alpha + \\beta x_i)^{y_i} (1-\\text{logit}^{-1}(\\alpha + \\beta x_i))^{1-y_i} $$"
   ]
  },
  {
   "cell_type": "markdown",
   "metadata": {
    "slideshow": {
     "slide_type": "fragment"
    }
   },
   "source": [
    "We then use this to compute the __likelihood__ of parameters $\\alpha$, $\\beta$:\n",
    "\n",
    "$$L(\\alpha, \\beta \\mid x_i, y_i) = \\text{logit}^{-1}(\\alpha + \\beta x_i)^{y_i} (1-\\text{logit}^{-1}(\\alpha + \\beta x_i))^{1-y_i}$$\n",
    "\n",
    "which is a function that we can maximize via various kinds of gradient descent."
   ]
  },
  {
   "cell_type": "markdown",
   "metadata": {
    "slideshow": {
     "slide_type": "slide"
    }
   },
   "source": [
    "## Logistic Regression In Practice"
   ]
  },
  {
   "cell_type": "markdown",
   "metadata": {
    "slideshow": {
     "slide_type": "fragment"
    }
   },
   "source": [
    "So, in summary, we have:\n",
    "\n",
    "**Input** pairs $(x_i,y_i)$\n",
    "\n",
    "**Output** parameters $\\widehat{\\alpha}$ and $\\widehat{\\beta}$ that maximize the likelihood of the data given these parameters for the logistic regression model.\n",
    "\n",
    "**Method** Maximum likelihood estimation, obtained by gradient descent."
   ]
  },
  {
   "cell_type": "markdown",
   "metadata": {
    "slideshow": {
     "slide_type": "fragment"
    }
   },
   "source": [
    "The standard package will give us a correlation coefficient (a $\\beta_i$) for each independent variable (feature).\n",
    "\n",
    "If we want to include a constant (ie, $\\alpha$) we need to add a column of 1s (just like in linear regression)."
   ]
  },
  {
   "cell_type": "code",
   "execution_count": 11,
   "metadata": {
    "slideshow": {
     "slide_type": "fragment"
    }
   },
   "outputs": [
    {
     "data": {
      "text/plain": [
       "Index(['gre', 'gpa', 'rank', 'intercept'], dtype='object')"
      ]
     },
     "execution_count": 11,
     "metadata": {},
     "output_type": "execute_result"
    }
   ],
   "source": [
    "df['intercept'] = 1.0\n",
    "train_cols = df.columns[1:]\n",
    "train_cols"
   ]
  },
  {
   "cell_type": "code",
   "execution_count": 12,
   "metadata": {
    "slideshow": {
     "slide_type": "fragment"
    }
   },
   "outputs": [
    {
     "name": "stdout",
     "output_type": "stream",
     "text": [
      "Optimization terminated successfully.\n",
      "         Current function value: 0.574302\n",
      "         Iterations 6\n"
     ]
    }
   ],
   "source": [
    "logit = sm.Logit(df['admit'], df[train_cols])\n",
    " \n",
    "# fit the model\n",
    "result = logit.fit() "
   ]
  },
  {
   "cell_type": "code",
   "execution_count": 13,
   "metadata": {
    "slideshow": {
     "slide_type": "fragment"
    }
   },
   "outputs": [
    {
     "data": {
      "text/html": [
       "<table class=\"simpletable\">\n",
       "<caption>Logit Regression Results</caption>\n",
       "<tr>\n",
       "  <th>Dep. Variable:</th>         <td>admit</td>      <th>  No. Observations:  </th>  <td>   400</td>  \n",
       "</tr>\n",
       "<tr>\n",
       "  <th>Model:</th>                 <td>Logit</td>      <th>  Df Residuals:      </th>  <td>   396</td>  \n",
       "</tr>\n",
       "<tr>\n",
       "  <th>Method:</th>                 <td>MLE</td>       <th>  Df Model:          </th>  <td>     3</td>  \n",
       "</tr>\n",
       "<tr>\n",
       "  <th>Date:</th>            <td>Mon, 01 Nov 2021</td> <th>  Pseudo R-squ.:     </th>  <td>0.08107</td> \n",
       "</tr>\n",
       "<tr>\n",
       "  <th>Time:</th>                <td>11:56:41</td>     <th>  Log-Likelihood:    </th> <td> -229.72</td> \n",
       "</tr>\n",
       "<tr>\n",
       "  <th>converged:</th>             <td>True</td>       <th>  LL-Null:           </th> <td> -249.99</td> \n",
       "</tr>\n",
       "<tr>\n",
       "  <th>Covariance Type:</th>     <td>nonrobust</td>    <th>  LLR p-value:       </th> <td>8.207e-09</td>\n",
       "</tr>\n",
       "</table>\n",
       "<table class=\"simpletable\">\n",
       "<tr>\n",
       "      <td></td>         <th>coef</th>     <th>std err</th>      <th>z</th>      <th>P>|z|</th>  <th>[0.025</th>    <th>0.975]</th>  \n",
       "</tr>\n",
       "<tr>\n",
       "  <th>gre</th>       <td>    0.0023</td> <td>    0.001</td> <td>    2.101</td> <td> 0.036</td> <td>    0.000</td> <td>    0.004</td>\n",
       "</tr>\n",
       "<tr>\n",
       "  <th>gpa</th>       <td>    0.7770</td> <td>    0.327</td> <td>    2.373</td> <td> 0.018</td> <td>    0.135</td> <td>    1.419</td>\n",
       "</tr>\n",
       "<tr>\n",
       "  <th>rank</th>      <td>   -0.5600</td> <td>    0.127</td> <td>   -4.405</td> <td> 0.000</td> <td>   -0.809</td> <td>   -0.311</td>\n",
       "</tr>\n",
       "<tr>\n",
       "  <th>intercept</th> <td>   -3.4495</td> <td>    1.133</td> <td>   -3.045</td> <td> 0.002</td> <td>   -5.670</td> <td>   -1.229</td>\n",
       "</tr>\n",
       "</table>"
      ],
      "text/plain": [
       "<class 'statsmodels.iolib.summary.Summary'>\n",
       "\"\"\"\n",
       "                           Logit Regression Results                           \n",
       "==============================================================================\n",
       "Dep. Variable:                  admit   No. Observations:                  400\n",
       "Model:                          Logit   Df Residuals:                      396\n",
       "Method:                           MLE   Df Model:                            3\n",
       "Date:                Mon, 01 Nov 2021   Pseudo R-squ.:                 0.08107\n",
       "Time:                        11:56:41   Log-Likelihood:                -229.72\n",
       "converged:                       True   LL-Null:                       -249.99\n",
       "Covariance Type:            nonrobust   LLR p-value:                 8.207e-09\n",
       "==============================================================================\n",
       "                 coef    std err          z      P>|z|      [0.025      0.975]\n",
       "------------------------------------------------------------------------------\n",
       "gre            0.0023      0.001      2.101      0.036       0.000       0.004\n",
       "gpa            0.7770      0.327      2.373      0.018       0.135       1.419\n",
       "rank          -0.5600      0.127     -4.405      0.000      -0.809      -0.311\n",
       "intercept     -3.4495      1.133     -3.045      0.002      -5.670      -1.229\n",
       "==============================================================================\n",
       "\"\"\""
      ]
     },
     "execution_count": 13,
     "metadata": {},
     "output_type": "execute_result"
    }
   ],
   "source": [
    "result.summary()"
   ]
  },
  {
   "cell_type": "markdown",
   "metadata": {
    "slideshow": {
     "slide_type": "fragment"
    }
   },
   "source": [
    "Notice that all of our independent variables are considered significant (no confidence intervals contain zero)."
   ]
  },
  {
   "cell_type": "markdown",
   "metadata": {
    "slideshow": {
     "slide_type": "slide"
    }
   },
   "source": [
    "## Using the Model"
   ]
  },
  {
   "cell_type": "markdown",
   "metadata": {
    "slideshow": {
     "slide_type": "fragment"
    }
   },
   "source": [
    "Note that by fitting a model to the data, we can make predictions for inputs that were never seen in the data.  \n",
    "\n",
    "Furthermore, we can make a prediction of a probability for cases where we don't have enough data to estimate the probability directly -- e.g, for specific parameter values."
   ]
  },
  {
   "cell_type": "markdown",
   "metadata": {
    "slideshow": {
     "slide_type": "fragment"
    }
   },
   "source": [
    "Let's see how well the model fits the data.\n",
    "\n",
    "We have three independent variables, so in each case we'll use average values for the two that we aren't evaluating."
   ]
  },
  {
   "cell_type": "markdown",
   "metadata": {
    "slideshow": {
     "slide_type": "fragment"
    }
   },
   "source": [
    "GPA:"
   ]
  },
  {
   "cell_type": "code",
   "execution_count": 14,
   "metadata": {
    "hide_input": true,
    "slideshow": {
     "slide_type": "-"
    },
    "tags": [
     "hide-input"
    ]
   },
   "outputs": [
    {
     "data": {
      "image/png": "[encoded data removed]",
      "text/plain": [
       "<Figure size 504x360 with 1 Axes>"
      ]
     },
     "metadata": {
      "needs_background": "light"
     },
     "output_type": "display_data"
    }
   ],
   "source": [
    "bins = np.linspace(df.gpa.min(), df.gpa.max(), 10)\n",
    "groups = df.groupby(np.digitize(df.gpa, bins))\n",
    "prob = [result.predict([600, b, 2.5, 1.0]) for b in bins]\n",
    "ax = plt.figure(figsize = (7, 5)).add_subplot()\n",
    "ax.plot(bins, prob)\n",
    "ax.plot(bins,groups.admit.mean(),'o')\n",
    "ax.tick_params(labelsize=12)\n",
    "ax.set_xlabel('gpa', fontsize = 14)\n",
    "ax.set_ylabel('P[admit]', fontsize = 14)\n",
    "ax.set_title('Marginal Effect of GPA', fontsize = 16);"
   ]
  },
  {
   "cell_type": "markdown",
   "metadata": {
    "slideshow": {
     "slide_type": "fragment"
    }
   },
   "source": [
    "GRE Score:"
   ]
  },
  {
   "cell_type": "code",
   "execution_count": 15,
   "metadata": {
    "hide_input": true,
    "slideshow": {
     "slide_type": "-"
    },
    "tags": [
     "hide-input"
    ]
   },
   "outputs": [
    {
     "data": {
      "image/png": "[encoded data removed]",
      "text/plain": [
       "<Figure size 504x360 with 1 Axes>"
      ]
     },
     "metadata": {
      "needs_background": "light"
     },
     "output_type": "display_data"
    }
   ],
   "source": [
    "prob = [result.predict([b, 3.4, 2.5, 1.0]) for b in sorted(df.gre.unique())]\n",
    "ax = plt.figure(figsize = (7, 5)).add_subplot()\n",
    "ax.plot(sorted(df.gre.unique()), prob)\n",
    "ax.plot(df.groupby('gre').mean()['admit'],'o')\n",
    "ax.tick_params(labelsize=12)\n",
    "ax.set_xlabel('gre', fontsize = 14)\n",
    "ax.set_ylabel('P[admit]', fontsize = 14)\n",
    "ax.set_title('Marginal Effect of GRE', fontsize = 16);"
   ]
  },
  {
   "cell_type": "markdown",
   "metadata": {
    "slideshow": {
     "slide_type": "fragment"
    }
   },
   "source": [
    "Institution Rank:"
   ]
  },
  {
   "cell_type": "code",
   "execution_count": 16,
   "metadata": {
    "hide_input": true,
    "slideshow": {
     "slide_type": "-"
    },
    "tags": [
     "hide-input"
    ]
   },
   "outputs": [
    {
     "data": {
      "image/png": "[encoded data removed]",
      "text/plain": [
       "<Figure size 504x360 with 1 Axes>"
      ]
     },
     "metadata": {
      "needs_background": "light"
     },
     "output_type": "display_data"
    }
   ],
   "source": [
    "prob = [result.predict([600, 3.4, b, 1.0]) for b in range(1,5)]\n",
    "ax = plt.figure(figsize = (7, 5)).add_subplot()\n",
    "ax.plot(range(1,5), prob)\n",
    "ax.plot(df.groupby('rank').mean()['admit'],'o')\n",
    "ax.tick_params(labelsize=12)\n",
    "ax.set_xlabel('Rank', fontsize = 14)\n",
    "ax.set_xlim([0.5,4.5])\n",
    "ax.set_ylabel('P[admit]', fontsize = 14)\n",
    "ax.set_title('Marginal Effect of Rank', fontsize = 16);"
   ]
  },
  {
   "cell_type": "markdown",
   "metadata": {
    "slideshow": {
     "slide_type": "slide"
    }
   },
   "source": [
    "## Logistic Regression in Perspective"
   ]
  },
  {
   "cell_type": "markdown",
   "metadata": {
    "slideshow": {
     "slide_type": "fragment"
    }
   },
   "source": [
    "At the start of lecture I emphasized that logistic regression is concerned with estimating a __probability__ model from __discrete__ (0/1) data. \n",
    "\n",
    "However, it may well be the case that we want to do something with the probability that amounts to __classification.__"
   ]
  },
  {
   "cell_type": "markdown",
   "metadata": {
    "slideshow": {
     "slide_type": "fragment"
    }
   },
   "source": [
    "For example, we may classify data items using a rule such as \"Assign item $x_i$ to Class 1 if $p(x_i) > 0.5$\".\n",
    "\n",
    "For this reason, logistic regression could be considered a classification method."
   ]
  },
  {
   "cell_type": "markdown",
   "metadata": {
    "slideshow": {
     "slide_type": "fragment"
    }
   },
   "source": [
    "In fact, that is what we did with Naive Bayes -- we used it to estimate something like a probability, and then chose the class with the maximum value to create a classifier."
   ]
  },
  {
   "cell_type": "markdown",
   "metadata": {
    "slideshow": {
     "slide_type": "fragment"
    }
   },
   "source": [
    "Let's use our logistic regression as a classifier.\n",
    "\n",
    "We want to ask whether we can correctly predict whether a student gets admitted to graduate school.\n",
    "\n",
    "Let's separate our training and test data:"
   ]
  },
  {
   "cell_type": "code",
   "execution_count": 17,
   "metadata": {
    "slideshow": {
     "slide_type": "-"
    }
   },
   "outputs": [],
   "source": [
    "X_train, X_test, y_train, y_test = model_selection.train_test_split(\n",
    "        df[train_cols], df['admit'],\n",
    "        test_size=0.4, random_state=1)"
   ]
  },
  {
   "cell_type": "markdown",
   "metadata": {
    "slideshow": {
     "slide_type": "fragment"
    }
   },
   "source": [
    "Now, there are some standard metrics used when evaluating a binary classifier.\n",
    "\n",
    "Let's say our classifier is outputting \"yes\" when it thinks the student will be admitted."
   ]
  },
  {
   "cell_type": "markdown",
   "metadata": {
    "slideshow": {
     "slide_type": "fragment"
    }
   },
   "source": [
    "There are four cases:\n",
    "* Classifier says \"yes\", and student __is__ admitted:  __True Positive.__\n",
    "* Classifier says \"yes\", and student __is not__ admitted:  __False Positive.__\n",
    "* Classifier says \"no\", and student __is__ admitted:  __False Negative.__\n",
    "* Classifier says \"no\", and student __is not__ admitted:  __True Negative.__"
   ]
  },
  {
   "cell_type": "markdown",
   "metadata": {
    "slideshow": {
     "slide_type": "fragment"
    }
   },
   "source": [
    "__Precision__ is the fraction of \"yes\"es that are correct:\n",
    "    $$\\mbox{Precision} = \\frac{\\mbox{True Positives}}{\\mbox{True Positives + False Positives}}$$\n",
    "    \n",
    "__Recall__ is the fraction of admits that we say \"yes\" to:\n",
    " $$\\mbox{Recall} = \\frac{\\mbox{True Positives}}{\\mbox{True Positives + False Negatives}}$$"
   ]
  },
  {
   "cell_type": "code",
   "execution_count": 18,
   "metadata": {
    "slideshow": {
     "slide_type": "fragment"
    }
   },
   "outputs": [
    {
     "name": "stdout",
     "output_type": "stream",
     "text": [
      "Precision: 0.586, Recall: 0.340\n"
     ]
    }
   ],
   "source": [
    "def evaluate(y_train, X_train, y_test, X_test, threshold):\n",
    "\n",
    "    # learn model on training data\n",
    "    logit = sm.Logit(y_train, X_train)\n",
    "    result = logit.fit(disp=False)\n",
    "    \n",
    "    # make probability predictions on test data\n",
    "    y_pred = result.predict(X_test)\n",
    "    \n",
    "    # threshold probabilities to create classifications\n",
    "    y_pred = y_pred > threshold\n",
    "    \n",
    "    # report metrics\n",
    "    precision = metrics.precision_score(y_test, y_pred)\n",
    "    recall = metrics.recall_score(y_test, y_pred)\n",
    "    return precision, recall\n",
    "\n",
    "precision, recall = evaluate(y_train, X_train, y_test, X_test, 0.5)\n",
    "\n",
    "print(f'Precision: {precision:0.3f}, Recall: {recall:0.3f}')"
   ]
  },
  {
   "cell_type": "markdown",
   "metadata": {
    "slideshow": {
     "slide_type": "fragment"
    }
   },
   "source": [
    "Now, let's get a sense of average accuracy:"
   ]
  },
  {
   "cell_type": "code",
   "execution_count": 19,
   "metadata": {
    "slideshow": {
     "slide_type": "fragment"
    }
   },
   "outputs": [],
   "source": [
    "PR = []\n",
    "for i in range(20):\n",
    "    X_train, X_test, y_train, y_test = model_selection.train_test_split(\n",
    "            df[train_cols], df['admit'],\n",
    "            test_size=0.4)\n",
    "    PR.append(evaluate(y_train, X_train, y_test, X_test, 0.5))"
   ]
  },
  {
   "cell_type": "code",
   "execution_count": 20,
   "metadata": {
    "slideshow": {
     "slide_type": "-"
    }
   },
   "outputs": [
    {
     "name": "stdout",
     "output_type": "stream",
     "text": [
      "Average Precision: 0.581, Average Recall: 0.227\n"
     ]
    }
   ],
   "source": [
    "avgPrec = np.mean([f[0] for f in PR])\n",
    "avgRec = np.mean([f[1] for f in PR])\n",
    "print(f'Average Precision: {avgPrec:0.3f}, Average Recall: {avgRec:0.3f}')"
   ]
  },
  {
   "cell_type": "markdown",
   "metadata": {
    "slideshow": {
     "slide_type": "fragment"
    }
   },
   "source": [
    "Sometimes we would like a single value that describes the overall performance of the classifier.\n",
    "\n",
    "For this, we take the harmonic mean of precision and recall, called __F1 Score__:\n",
    "\n",
    "$$\\mbox{F1 Score} = 2 \\;\\;\\frac{\\mbox{Precision} \\cdot \\mbox{Recall}}{\\mbox{Precision} + \\mbox{Recall}}$$"
   ]
  },
  {
   "cell_type": "markdown",
   "metadata": {
    "slideshow": {
     "slide_type": "fragment"
    }
   },
   "source": [
    "Using this, we can evaluate other settings for the threshold."
   ]
  },
  {
   "cell_type": "code",
   "execution_count": 21,
   "metadata": {
    "hide_input": true,
    "slideshow": {
     "slide_type": "-"
    }
   },
   "outputs": [],
   "source": [
    "import warnings\n",
    "warnings.filterwarnings(\"ignore\")\n",
    "def evalThresh(df, thresh):\n",
    "    PR = []\n",
    "    for i in range(20):\n",
    "        X_train, X_test, y_train, y_test = model_selection.train_test_split(\n",
    "                df[train_cols], df['admit'],\n",
    "                test_size=0.4)\n",
    "        PR.append(evaluate(y_train, X_train, y_test, X_test, thresh))\n",
    "    avgPrec = np.mean([f[0] for f in PR])\n",
    "    avgRec = np.mean([f[1] for f in PR])\n",
    "    return 2 * (avgPrec * avgRec) / (avgPrec + avgRec), avgPrec, avgRec\n",
    "\n",
    "tvals = np.linspace(0.05, 0.8, 50)\n",
    "f1vals = [evalThresh(df, tval)[0] for tval in tvals]"
   ]
  },
  {
   "cell_type": "code",
   "execution_count": 22,
   "metadata": {
    "hide_input": true,
    "slideshow": {
     "slide_type": "fragment"
    },
    "tags": [
     "hide-input"
    ]
   },
   "outputs": [
    {
     "data": {
      "image/png": "[encoded data removed]",
      "text/plain": [
       "<Figure size 432x288 with 1 Axes>"
      ]
     },
     "metadata": {
      "needs_background": "light"
     },
     "output_type": "display_data"
    }
   ],
   "source": [
    "plt.plot(tvals,f1vals)\n",
    "plt.ylabel('F1 Score')\n",
    "plt.xlabel('Threshold for Classification')\n",
    "plt.title('F1 as a function of Threshold');"
   ]
  },
  {
   "cell_type": "markdown",
   "metadata": {
    "slideshow": {
     "slide_type": "fragment"
    }
   },
   "source": [
    "Based on this plot, we can say that the best classification threshold appears to be around 0.3, where precision and recall are:"
   ]
  },
  {
   "cell_type": "code",
   "execution_count": 23,
   "metadata": {
    "hide_input": true,
    "slideshow": {
     "slide_type": "-"
    },
    "tags": [
     "hide-input"
    ]
   },
   "outputs": [
    {
     "name": "stdout",
     "output_type": "stream",
     "text": [
      "Best Precision: 0.416, Best Recall: 0.695\n"
     ]
    }
   ],
   "source": [
    "F1, Prec, Rec = evalThresh(df, 0.3)\n",
    "print('Best Precision: {:0.3f}, Best Recall: {:0.3f}'.format(Prec, Rec))"
   ]
  },
  {
   "cell_type": "markdown",
   "metadata": {
    "hide_input": true,
    "slideshow": {
     "slide_type": "fragment"
    }
   },
   "source": [
    "The example here is based on\n",
    "http://blog.yhathq.com/posts/logistic-regression-and-python.html\n",
    "where you can find additional details."
   ]
  }
 ],
 "metadata": {
  "anaconda-cloud": {},
  "celltoolbar": "Tags",
  "kernelspec": {
   "display_name": "Python 3",
   "language": "python",
   "name": "python3"
  },
  "language_info": {
   "codemirror_mode": {
    "name": "ipython",
    "version": 3
   },
   "file_extension": ".py",
   "mimetype": "text/x-python",
   "name": "python",
   "nbconvert_exporter": "python",
   "pygments_lexer": "ipython3",
   "version": "3.7.10"
  },
  "rise": {
   "scroll": true,
   "theme": "beige",
   "transition": "fade"
  }
 },
 "nbformat": 4,
 "nbformat_minor": 1
}
