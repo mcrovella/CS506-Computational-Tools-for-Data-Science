{
 "cells": [
  {
   "cell_type": "code",
   "execution_count": 1,
   "metadata": {
    "hide_input": true,
    "slideshow": {
     "slide_type": "skip"
    },
    "tags": [
     "remove-cell"
    ]
   },
   "outputs": [],
   "source": [
    "%matplotlib inline\n",
    "%config InlineBackend.figure_format='retina'\n",
    "import numpy as np\n",
    "import pandas as pd\n",
    "import matplotlib.pyplot as plt\n",
    "import seaborn as sns\n",
    "from IPython.display import Image, display_html, display, Math, HTML;"
   ]
  },
  {
   "cell_type": "markdown",
   "metadata": {
    "slideshow": {
     "slide_type": "slide"
    }
   },
   "source": [
    "# $k$-means"
   ]
  },
  {
   "cell_type": "markdown",
   "metadata": {
    "slideshow": {
     "slide_type": "-"
    }
   },
   "source": [
    "<center>\n",
    "\n",
    "<img src=\"figs/L6-John_Snow_memorial_and_pub.png\" alt=\"Figure\" width=\"400px\">\n",
    "    \n",
    "</center>"
   ]
  },
  {
   "cell_type": "markdown",
   "metadata": {
    "slideshow": {
     "slide_type": "slide"
    }
   },
   "source": [
    "<div style = \"float: left; width: 55%;\">\n",
    "    \n",
    "__1854__ saw a horrific cholera outbreak in Soho, London.   \n",
    "\n",
    "Common wisdom at the time was that disease spread by breathing \"foul air\" (miasma).  \n",
    "    \n",
    "The London sewer system had not yet reached Soho.  Most homes had cesspits under the floor.\n",
    "\n",
    "John Snow, a local physician, extensively studied the patterns of illness across Soho due to cholera.\n",
    "    \n",
    "</div>\n",
    "\n",
    "<img src=\"figs/L06-John-Snow-Portrait.png\" alt=\"Figure\" width=\"30%\" float = \"right\">"
   ]
  },
  {
   "cell_type": "markdown",
   "metadata": {
    "slideshow": {
     "slide_type": "fragment"
    }
   },
   "source": [
    "In the course of his studies, his attention was drawn to one neighborhood around Broad Street.\n",
    "\n",
    "In 10 days, 500 people in the area died. \n",
    "\n",
    "In uncovering the source of this outbreak, Snow prepared this map:"
   ]
  },
  {
   "cell_type": "markdown",
   "metadata": {
    "slideshow": {
     "slide_type": "fragment"
    }
   },
   "source": [
    "<center>\n",
    "    \n",
    "<img src=\"figs/L6-Snow-cholera-map-1.png\" alt=\"Figure\" width=\"500px\">\n",
    "    \n",
    "</center>"
   ]
  },
  {
   "cell_type": "markdown",
   "metadata": {
    "slideshow": {
     "slide_type": "skip"
    }
   },
   "source": [
    "By John Snow - Published by C.F. Cheffins, Lith, Southhampton Buildings, London, England, 1854 in Snow, John. On the Mode of Communication of Cholera, 2nd Ed, John Churchill, New Burlington Street, London, England, 1855."
   ]
  },
  {
   "cell_type": "markdown",
   "metadata": {
    "slideshow": {
     "slide_type": "skip"
    }
   },
   "source": [
    "(This image was originally from <a class=\"external text\" href=\"http://en.wikipedia.org\">en.wikipedia</a>; description page is/was <a class=\"external text\" href=\"http://en.wikipedia.org/w/index.php?title=Image%3ASnow-cholera-map-1.jpg\">here</a>. Image copied from <a rel=\"nofollow\" class=\"external free\" href=\"http://matrix.msu.edu/~johnsnow/images/online_companion/chapter_images/fig12-5.jpg\">http://matrix.msu.edu/~johnsnow/images/online_companion/chapter_images/fig12-5.jpg</a>), Public Domain, <a href=\"https://commons.wikimedia.org/w/index.php?curid=2278605\">https://commons.wikimedia.org/w/index.php?curid=2278605</a>"
   ]
  },
  {
   "cell_type": "markdown",
   "metadata": {
    "slideshow": {
     "slide_type": "fragment"
    }
   },
   "source": [
    "<center>\n",
    "    \n",
    "<img src=\"figs/L6-John_Snow_memorial_and_pub.png\" alt=\"Figure\" width=\"400px\">\n",
    "\n",
    "\n",
    "</center>"
   ]
  },
  {
   "cell_type": "markdown",
   "metadata": {
    "slideshow": {
     "slide_type": "-"
    }
   },
   "source": [
    "<a href=\"http://creativecommons.org/licenses/by-sa/2.0\" title=\"Creative Commons Attribution-Share Alike 2.0\">CC BY-SA 2.0</a>, <a href=\"https://commons.wikimedia.org/w/index.php?curid=357998\">https://commons.wikimedia.org/w/index.php?curid=357998</a>"
   ]
  },
  {
   "cell_type": "markdown",
   "metadata": {},
   "source": [
    "John Snow's original data is available here: http://blog.rtwilson.com/john-snows-cholera-data-in-more-formats/"
   ]
  },
  {
   "cell_type": "markdown",
   "metadata": {
    "slideshow": {
     "slide_type": "slide"
    }
   },
   "source": [
    "## Clustering is Unsupervised Learning"
   ]
  },
  {
   "cell_type": "markdown",
   "metadata": {
    "slideshow": {
     "slide_type": "fragment"
    }
   },
   "source": [
    "Clustering is a very important way of discovering __structure__ in data."
   ]
  },
  {
   "cell_type": "markdown",
   "metadata": {
    "slideshow": {
     "slide_type": "fragment"
    }
   },
   "source": [
    "It is so important because it is __common__ for data to show clusters.\n",
    "\n",
    "* Locations where millionaires live\n",
    "* The number of hours people work each week\n",
    "* Demographics (\"soccer moms\", \"bored retirees\", \"unemployed millenials\", etc)\n"
   ]
  },
  {
   "cell_type": "markdown",
   "metadata": {
    "slideshow": {
     "slide_type": "fragment"
    }
   },
   "source": [
    "We can often simplify or compress our data if we recognize the existence of clusters."
   ]
  },
  {
   "cell_type": "markdown",
   "metadata": {
    "slideshow": {
     "slide_type": "fragment"
    }
   },
   "source": [
    "Further, we can often interpret clusters by assigning them labels."
   ]
  },
  {
   "cell_type": "markdown",
   "metadata": {
    "slideshow": {
     "slide_type": "fragment"
    }
   },
   "source": [
    "However, note that these categories or \"labels\" are assigned __after__ the fact.\n",
    "\n",
    "And, we may __not__ be able to interpret clusters or assign them labels in some cases."
   ]
  },
  {
   "cell_type": "markdown",
   "metadata": {
    "slideshow": {
     "slide_type": "fragment"
    }
   },
   "source": [
    "That is, clustering represents the first example we will see of __unsupervised__ learning."
   ]
  },
  {
   "cell_type": "markdown",
   "metadata": {
    "slideshow": {
     "slide_type": "fragment"
    }
   },
   "source": [
    "__Supervised__ methods:  Data items have labels, and we want to learn a function that correctly assigns labels to new data items.\n",
    "\n",
    "__Unsupervised__ methods:  Data items do not have labels, and we want to learn a function that extracts  important patterns from the data."
   ]
  },
  {
   "cell_type": "markdown",
   "metadata": {},
   "source": [
    "__Applications of Clustering:__\n",
    "\n",
    "* Image Processing\n",
    "    * Cluster images based on their visual content\n",
    "    * Compress images based on color clusters\n",
    "* Web Mining\n",
    "    * Cluster groups of users based on webpage access patterns\n",
    "    * Cluster web pages based on their content\n",
    "* Bioinformatics\n",
    "    * Cluster similar proteins together (by structure or function)\n",
    "    * Cluster cell types (by gene activity)\n",
    "* And many more ..."
   ]
  },
  {
   "cell_type": "markdown",
   "metadata": {
    "slideshow": {
     "slide_type": "slide"
    }
   },
   "source": [
    "## The Clustering Problem"
   ]
  },
  {
   "cell_type": "markdown",
   "metadata": {
    "slideshow": {
     "slide_type": "fragment"
    }
   },
   "source": [
    "When we do clustering, what problem are we trying to solve?\n",
    "\n",
    "We will answer this question informally at first. \n",
    "\n",
    "(But soon we will look at formal criteria!)"
   ]
  },
  {
   "cell_type": "markdown",
   "metadata": {
    "slideshow": {
     "slide_type": "fragment"
    }
   },
   "source": [
    "Informally, a __clustering__ is:\n",
    "    \n",
    "> a grouping of data objects, such that the objects within a group are similar (or near) to one another and dissimilar (or far) from the objects in other groups.\n",
    "\n",
    "(keep in mind that if we use a distance function as a dissimilarity measure, then \"far\" implies \"different\")"
   ]
  },
  {
   "cell_type": "markdown",
   "metadata": {
    "slideshow": {
     "slide_type": "-"
    }
   },
   "source": [
    "<center>\n",
    "    \n",
    "<img src=\"figs/L06-clustering-1.png\" alt=\"Figure\" width=\"350px\">\n",
    "    \n",
    "</center>"
   ]
  },
  {
   "cell_type": "markdown",
   "metadata": {
    "slideshow": {
     "slide_type": "fragment"
    }
   },
   "source": [
    "So we want our clustering algorithm to:\n",
    "* <font color = \"blue\">minimize</font> intra-cluster distances\n",
    "* <font color = \"red\">maximize</font> inter-cluster distances"
   ]
  },
  {
   "cell_type": "markdown",
   "metadata": {
    "slideshow": {
     "slide_type": "fragment"
    }
   },
   "source": [
    "Here are the basic questions we need to ask about clustering:\n",
    "    \n",
    "* What is the right kind of <font color = \"blue\">\"similarity\"</font> to use?\n",
    "* What is a <font color=\"blue\">\"good\" partition</font> of objects?\n",
    "    * ie, how is the quality of a solution measured?\n",
    "* <font color = \"blue\">How to find</font> a good partition?\n",
    "    * are there efficient algorithms?  \n",
    "    * are there algorithms that are guaranteed to find good clusters?"
   ]
  },
  {
   "cell_type": "markdown",
   "metadata": {
    "slideshow": {
     "slide_type": "slide"
    }
   },
   "source": [
    "Now note that even with our more-formal discussion, the criteria for deciding on a \"best\" clustering can still be ambiguous."
   ]
  },
  {
   "cell_type": "markdown",
   "metadata": {
    "slideshow": {
     "slide_type": "fragment"
    }
   },
   "source": [
    "<center>\n",
    "    \n",
    "<img src=\"figs/L06-clustering-2.png\" alt=\"Figure\" width=\"600px\">\n",
    "    \n",
    "</center>"
   ]
  },
  {
   "cell_type": "markdown",
   "metadata": {
    "slideshow": {
     "slide_type": "fragment"
    }
   },
   "source": [
    "To accommodate the ambiguity here, one approach is to seek a __hierarchical__ clustering:\n",
    "\n",
    "That is, as set of nested clusters organized in a tree.\n",
    "\n",
    "We'll discuss hierarchical cluster in an upcoming lecture."
   ]
  },
  {
   "cell_type": "markdown",
   "metadata": {
    "slideshow": {
     "slide_type": "fragment"
    }
   },
   "source": [
    "For today, we'll focus on __partitional__ clustering:  \n",
    "\n",
    "in a partitional clustering, the points are divided into a set of __non-overlapping__ groups."
   ]
  },
  {
   "cell_type": "markdown",
   "metadata": {
    "slideshow": {
     "slide_type": "-"
    }
   },
   "source": [
    "<center>\n",
    "    \n",
    "<img src=\"figs/L06-partitional-clustering.png\" alt=\"Figure\" width=\"600px\">\n",
    "    \n",
    "</center>"
   ]
  },
  {
   "cell_type": "markdown",
   "metadata": {
    "slideshow": {
     "slide_type": "fragment"
    }
   },
   "source": [
    "In a partitional clustering:\n",
    "* Each object belongs to __one__, and only one, cluster\n",
    "* The set of clusters covers all the objects\n",
    "\n",
    "We are going to assume for now that the number of clusters is given in advance.\n",
    "\n",
    "We will denote the number of clusters as $k$."
   ]
  },
  {
   "cell_type": "markdown",
   "metadata": {
    "slideshow": {
     "slide_type": "slide"
    }
   },
   "source": [
    "## The $k$-means Problem"
   ]
  },
  {
   "cell_type": "markdown",
   "metadata": {
    "slideshow": {
     "slide_type": "fragment"
    }
   },
   "source": [
    "Now, we are ready to state our first formalization of the clustering problem.\n",
    "\n",
    "We will assume that \n",
    "* data items are represented by points in $\\mathbb{R}^d$.   (In other words, each data item has $d$ features.)\n",
    "* $n$ points are given\n",
    "* the number of clusters $k$ is given"
   ]
  },
  {
   "cell_type": "markdown",
   "metadata": {
    "slideshow": {
     "slide_type": "fragment"
    }
   },
   "source": [
    "__$k$-means Problem:__\n",
    "\n",
    "Find $k$ points $c_1, \\dots, c_k$ (called <font color=\"blue\"> _centers_, _centroids_,</font> or <font color = \"blue\"> _means_,</font> so that the cost\n",
    "\n",
    "$$ \\sum_{i=1}^n \\min_k \\Vert x_i-c_j\\Vert^2_2 $$\n",
    "\n",
    "is minimized."
   ]
  },
  {
   "cell_type": "markdown",
   "metadata": {
    "slideshow": {
     "slide_type": "fragment"
    }
   },
   "source": [
    "__Equivalently:__ we can think in terms of the partition itself.\n",
    "\n",
    "Consider the set $X = \\{x_1, \\dots, x_n\\}$ where $x_i \\in \\mathbb{R}^n$.\n",
    "    \n",
    "Find $k$ points $c_1, \\dots, c_k$ \n",
    "\n",
    "and partition $X$ into subsets $\\{X_1, \\dots, X_k\\}$ by assigning each point $x_i$ in $X$ to its nearst cluster center,"
   ]
  },
  {
   "cell_type": "markdown",
   "metadata": {
    "slideshow": {
     "slide_type": "fragment"
    }
   },
   "source": [
    "so that the cost\n",
    "\n",
    "$$ \\sum_{i=1}^n \\min_j \\Vert x_i-c_j\\Vert^2_2 = \\sum_{j=1}^k \\sum_{x \\in X_j} \\Vert x - c_j \\Vert^2_2 $$\n",
    "\n",
    "is minimized."
   ]
  },
  {
   "cell_type": "markdown",
   "metadata": {
    "slideshow": {
     "slide_type": "slide"
    }
   },
   "source": [
    "We now have a <font color=\"blue\">formal</font> definition of a clustering.\n",
    "\n",
    "This is not the only definition possible, but it is an intuitive and simple one."
   ]
  },
  {
   "cell_type": "markdown",
   "metadata": {
    "slideshow": {
     "slide_type": "fragment"
    }
   },
   "source": [
    "How hard is it to solve this problem?\n",
    "\n",
    "* $k=1$ and $k=n$ are easy special cases (why?)\n",
    "* But, this problem is __NP-hard__ if the dimension of the data is at least 2\n",
    "    * We don't expect that there is any exact, efficient algorithm in general \n",
    "\n",
    "__Nonetheless,__ there is a simple algorithm that works quite well in practice!"
   ]
  },
  {
   "cell_type": "markdown",
   "metadata": {
    "slideshow": {
     "slide_type": "slide"
    }
   },
   "source": [
    "## The $k$-means Algorithm"
   ]
  },
  {
   "cell_type": "markdown",
   "metadata": {
    "slideshow": {
     "slide_type": "fragment"
    }
   },
   "source": [
    "There is a \"classic\" algorithm for this problem.\n",
    "\n",
    "It was voted among the __top-10 algorithms__ in data mining!\n",
    "\n",
    "It is such a good idea that it has been independently discovered multiple times.\n",
    "\n",
    "It was first discovered by Lloyd in 1957, so it is often called Lloyd's algorithm."
   ]
  },
  {
   "cell_type": "markdown",
   "metadata": {
    "slideshow": {
     "slide_type": "fragment"
    }
   },
   "source": [
    "It is called the \"$k$-means algorithm\"\n",
    "\n",
    "(not to be confused with the $k$-means problem!)"
   ]
  },
  {
   "cell_type": "markdown",
   "metadata": {
    "slideshow": {
     "slide_type": "-"
    }
   },
   "source": [
    "<center>\n",
    "    \n",
    "<img src=\"figs/L06-top-ten-algorithms-cover.png\" alt=\"Figure\" width=\"300px\">\n",
    "    \n",
    "</center>"
   ]
  },
  {
   "cell_type": "markdown",
   "metadata": {
    "slideshow": {
     "slide_type": "slide"
    }
   },
   "source": [
    "The $k$-means algorithm:\n",
    "\n",
    "1. Pick $k$ cluster centers $\\{c_1, \\dots, c_k\\}$.  These can be chosen randomly, or by some other method.\n",
    "2. For each $j$, define the cluster $X_j$ as the set of points in $X$ that are <font color=\"blue\">closest to center</font> $c_k$.  \n",
    "(Nearer to $c_k$ than to any other center.)\n",
    "3. For each $j$, let $c_j$ be <font color=\"blue\">the center of mass of cluster</font> $X_j$.  \n",
    "(In other words, $c_j$ is the mean of the vectors in $X_j$.)\n",
    "4. Repeat (ie, go to Step 2) until convergence."
   ]
  },
  {
   "cell_type": "markdown",
   "metadata": {
    "slideshow": {
     "slide_type": "fragment"
    }
   },
   "source": [
    "Let's see this in practice:"
   ]
  },
  {
   "cell_type": "markdown",
   "metadata": {},
   "source": [
    "<center>\n",
    "    \n",
    "<img src=\"figs/L06-kmeans-example.png\" alt=\"Figure\" width=\"600px\">\n",
    "    \n",
    "</center>"
   ]
  },
  {
   "cell_type": "markdown",
   "metadata": {
    "slideshow": {
     "slide_type": "slide"
    }
   },
   "source": [
    "## Limitations of $k$-means\n",
    "\n",
    "As you can see, $k$-means can work very well.\n",
    "\n",
    "However, we don't have any guarantees on the performance of $k$-means.\n",
    "\n",
    "In particular, there are various settings in which $k$-means can fail to do a good job."
   ]
  },
  {
   "cell_type": "markdown",
   "metadata": {
    "slideshow": {
     "slide_type": "fragment"
    }
   },
   "source": [
    "1. __$k$-means tries to find spherical clusters__.\n",
    "\n",
    "Because each point is assigned to its closest center, the points in a cluster are implicitly assumed to be arranged in a sphere around the center."
   ]
  },
  {
   "cell_type": "markdown",
   "metadata": {},
   "source": [
    "<center>\n",
    "    \n",
    "<img src=\"figs/L06-kmeans-nonspherical-clusters.png\" alt=\"Figure\" width=\"600px\">\n",
    "    \n",
    "</center>"
   ]
  },
  {
   "cell_type": "markdown",
   "metadata": {
    "slideshow": {
     "slide_type": "fragment"
    }
   },
   "source": [
    "2. __$k$-means tries to find equal-sized clusters.__\n",
    "\n",
    "For the same reason, the sizes of clusters are implicitly assumed to be approximately equal."
   ]
  },
  {
   "cell_type": "markdown",
   "metadata": {},
   "source": [
    "<center>\n",
    "    \n",
    "<img src=\"figs/L06-kmeans-cluster-size.png\" alt=\"Figure\" width=\"600px\">\n",
    "    \n",
    "</center>"
   ]
  },
  {
   "cell_type": "markdown",
   "metadata": {
    "slideshow": {
     "slide_type": "fragment"
    }
   },
   "source": [
    "3. __$k$-means is sensitive to the starting cluster centers.__\n",
    "\n",
    "If the initial guess (Step 1) is a bad one, $k$-means may get \"stuck\" in a bad solution.\n"
   ]
  },
  {
   "cell_type": "markdown",
   "metadata": {},
   "source": [
    "<center>\n",
    "    \n",
    "<img src=\"figs/L06-kmeans-bad-initialization.png\" alt=\"Figure\" width=\"600px\">\n",
    "    \n",
    "</center>"
   ]
  },
  {
   "cell_type": "markdown",
   "metadata": {
    "slideshow": {
     "slide_type": "slide"
    }
   },
   "source": [
    "### Choosing a Good Initialization"
   ]
  },
  {
   "cell_type": "markdown",
   "metadata": {},
   "source": [
    "How can we avoid the kind of bad initialization we just saw?\n",
    "\n",
    "A good strategy is to pick points that are distant to each other.\n",
    "\n",
    "This strategy is called \"$k$-means++\".  \n",
    "\n",
    "It works very well in practice, and the `scikit-learn` implementation uses it by default.\n",
    "\n",
    "(We will explore it in the next lecture.)"
   ]
  },
  {
   "cell_type": "markdown",
   "metadata": {
    "slideshow": {
     "slide_type": "slide"
    }
   },
   "source": [
    "### Choosing the right $k$\n",
    "\n",
    "Generally, we would say that, given some $k$, the $k$-means algorithm \"learns\" the cluster centers -- that is, the parameters of the model.\n",
    "\n",
    "But we have not yet considered how to choose the right number of clusters.\n",
    "\n",
    "That's typically __not__ something one knows in advance.\n",
    "\n",
    "As an aside:\n",
    "* This parameter ($k$) is the first example we have seen of a __hyperparameter__.\n",
    "* A hyperparameter is a parameter that must be set before the model parameters can be learned."
   ]
  },
  {
   "cell_type": "markdown",
   "metadata": {},
   "source": [
    "Our basic strategy will be to\n",
    "* Iterate through different $k$ and use some criterion to decide which $k$ is most appropriate.\n",
    "* We will discuss this more in the next lecture."
   ]
  },
  {
   "cell_type": "markdown",
   "metadata": {
    "slideshow": {
     "slide_type": "slide"
    }
   },
   "source": [
    "### Feature Scaling"
   ]
  },
  {
   "cell_type": "markdown",
   "metadata": {
    "slideshow": {
     "slide_type": "fragment"
    }
   },
   "source": [
    "Finally, given the tendency of $k$-means to look for spherical clusters, we should consider the scales of the various features.\n",
    "\n",
    "In fact, in general when constructing or selecting a distance metric, one needs to think carefully about the scale of the features being used."
   ]
  },
  {
   "cell_type": "markdown",
   "metadata": {
    "slideshow": {
     "slide_type": "fragment"
    }
   },
   "source": [
    "For example, consider the case where we are clustering people based on their age, income, and gender.\n",
    "\n",
    "We might use age in years, income in dollars, and assign gender to the values $\\{0, 1\\}$."
   ]
  },
  {
   "cell_type": "markdown",
   "metadata": {
    "slideshow": {
     "slide_type": "fragment"
    }
   },
   "source": [
    "Thus, the following records:\n",
    "\n",
    "* Joe Smith, age 27, income USD 75,000, male\n",
    "* Eve Jones, age 45, income USD 42,000, female\n",
    "\n",
    "Would be encoded in feature space as:\n",
    "\n",
    "$$\\begin{bmatrix}27\\\\75000\\\\0\\end{bmatrix},\\begin{bmatrix}45\\\\42000\\\\1\\end{bmatrix} $$"
   ]
  },
  {
   "cell_type": "markdown",
   "metadata": {
    "slideshow": {
     "slide_type": "fragment"
    }
   },
   "source": [
    "What would happen if we used Euclidean distance as our dissimilarity metric in this feature space?\n",
    "\n",
    "(This is what $k$-means uses.)"
   ]
  },
  {
   "cell_type": "markdown",
   "metadata": {
    "slideshow": {
     "slide_type": "fragment"
    }
   },
   "source": [
    "Clearly, the influence of income would dominate the other two features.  For example, a difference of gender is about as significant as a difference of one dollar of yearly income.\n",
    "\n",
    "We are unlikely to expose gender-based differences if we cluster using this representation."
   ]
  },
  {
   "cell_type": "markdown",
   "metadata": {
    "slideshow": {
     "slide_type": "fragment"
    }
   },
   "source": [
    "The most common way to handle this is __feature scaling.__\n",
    "\n",
    "The basic idea is to rescale each feature separately, so that its range of values is about the same as all other features."
   ]
  },
  {
   "cell_type": "markdown",
   "metadata": {
    "slideshow": {
     "slide_type": "fragment"
    }
   },
   "source": [
    "For example, one may choose to:\n",
    "    \n",
    "* shift each feature independently by subtracting the mean over all observed values\n",
    "    * This means that each feature is now centered on zero\n",
    "* then rescale each feature so that the standard deviation overall observed values is 1.\n",
    "    * This means that the feature will have about the same range of values as all the others."
   ]
  },
  {
   "cell_type": "markdown",
   "metadata": {
    "slideshow": {
     "slide_type": "fragment"
    }
   },
   "source": [
    "For example, let's work with Bortkiewicz's famous horse-kick data:"
   ]
  },
  {
   "cell_type": "code",
   "execution_count": 2,
   "metadata": {},
   "outputs": [
    {
     "data": {
      "text/plain": [
       "Year\n",
       "1875.0     3.0\n",
       "1876.0     5.0\n",
       "1877.0     7.0\n",
       "1878.0     9.0\n",
       "1879.0    10.0\n",
       "1880.0    18.0\n",
       "1881.0     6.0\n",
       "1882.0    14.0\n",
       "1883.0    11.0\n",
       "1884.0     9.0\n",
       "1885.0     5.0\n",
       "1886.0    11.0\n",
       "1887.0    15.0\n",
       "1888.0     6.0\n",
       "1889.0    11.0\n",
       "1890.0    17.0\n",
       "1891.0    12.0\n",
       "1892.0    15.0\n",
       "1893.0     8.0\n",
       "1894.0     4.0\n",
       "dtype: float64"
      ]
     },
     "execution_count": 2,
     "metadata": {},
     "output_type": "execute_result"
    }
   ],
   "source": [
    "# source: http://www.randomservices.org/random/data/HorseKicks.html\n",
    "import pandas as pd\n",
    "df = pd.read_table('data/HorseKicks.txt',index_col='Year',dtype='float')\n",
    "counts = df.sum(axis=1)\n",
    "counts"
   ]
  },
  {
   "cell_type": "code",
   "execution_count": 3,
   "metadata": {
    "slideshow": {
     "slide_type": "fragment"
    }
   },
   "outputs": [
    {
     "data": {
      "image/png": "[encoded data removed]",
      "text/plain": [
       "<Figure size 432x288 with 1 Axes>"
      ]
     },
     "metadata": {
      "image/png": {
       "height": 254,
       "width": 372
      },
      "needs_background": "light"
     },
     "output_type": "display_data"
    }
   ],
   "source": [
    "counts.hist(bins=25,xlabelsize=16);"
   ]
  },
  {
   "cell_type": "code",
   "execution_count": 4,
   "metadata": {},
   "outputs": [
    {
     "data": {
      "text/plain": [
       "9.8"
      ]
     },
     "execution_count": 4,
     "metadata": {},
     "output_type": "execute_result"
    }
   ],
   "source": [
    "counts.mean()"
   ]
  },
  {
   "cell_type": "markdown",
   "metadata": {
    "slideshow": {
     "slide_type": "fragment"
    }
   },
   "source": [
    "To standardize to zero mean and unit standard deviation, we can use tools from the `scikit-learn` library.\n",
    "\n",
    "(We will discuss scikit-learn more in upcoming lectures.)"
   ]
  },
  {
   "cell_type": "code",
   "execution_count": 5,
   "metadata": {
    "slideshow": {
     "slide_type": "fragment"
    }
   },
   "outputs": [
    {
     "data": {
      "image/png": "[encoded data removed]",
      "text/plain": [
       "<Figure size 432x288 with 1 Axes>"
      ]
     },
     "metadata": {
      "image/png": {
       "height": 269,
       "width": 377
      },
      "needs_background": "light"
     },
     "output_type": "display_data"
    }
   ],
   "source": [
    "from sklearn import preprocessing\n",
    "counts_scaled = pd.DataFrame(preprocessing.scale(counts))\n",
    "counts_scaled.hist(bins=25,xlabelsize=16);"
   ]
  },
  {
   "cell_type": "code",
   "execution_count": 6,
   "metadata": {},
   "outputs": [
    {
     "data": {
      "text/plain": [
       "array([-1.77635684e-16])"
      ]
     },
     "execution_count": 6,
     "metadata": {},
     "output_type": "execute_result"
    }
   ],
   "source": [
    "counts_scaled.mean().values"
   ]
  },
  {
   "cell_type": "markdown",
   "metadata": {
    "slideshow": {
     "slide_type": "fragment"
    }
   },
   "source": [
    "Notice that values that used to be zero have now become negative.\n",
    "\n",
    "In some situations it may not be sensible to change zeros into something else.  It may make more sense to map all values into a fixed range, for example $[0, 1]$."
   ]
  },
  {
   "cell_type": "code",
   "execution_count": 7,
   "metadata": {
    "slideshow": {
     "slide_type": "fragment"
    }
   },
   "outputs": [
    {
     "data": {
      "image/png": "[encoded data removed]",
      "text/plain": [
       "<Figure size 432x288 with 1 Axes>"
      ]
     },
     "metadata": {
      "image/png": {
       "height": 269,
       "width": 372
      },
      "needs_background": "light"
     },
     "output_type": "display_data"
    }
   ],
   "source": [
    "min_max_scaler = preprocessing.MinMaxScaler()\n",
    "counts_minmax = min_max_scaler.fit_transform(counts.values.reshape(-1,1))\n",
    "counts_minmax = pd.DataFrame(counts_minmax)\n",
    "counts_minmax.hist(bins=25,xlabelsize=16);"
   ]
  },
  {
   "cell_type": "markdown",
   "metadata": {
    "slideshow": {
     "slide_type": "slide"
    }
   },
   "source": [
    "__Example Application of k-means.__\n",
    "\n",
    "Here is a simple example of how $k$-means can be used for data compression.\n",
    "\n",
    "Consider the following image.  Each color in the image is represented by an integer.  Typically we might use 24 bits for each integer (8 bits for R, G, and B).\n"
   ]
  },
  {
   "cell_type": "markdown",
   "metadata": {
    "scrolled": true,
    "slideshow": {
     "slide_type": "fragment"
    }
   },
   "source": [
    "<center>\n",
    "    \n",
    "<img src=\"figs/L6-annie19980405.jpg\" alt=\"Figure\" width=\"350px\">\n",
    "    \n",
    "</center>"
   ]
  },
  {
   "cell_type": "markdown",
   "metadata": {
    "slideshow": {
     "slide_type": "fragment"
    }
   },
   "source": [
    "Now cluster the pixels by their color value, and replace each pixel by its cluster center.\n",
    "\n",
    "Because there are a smaller number of colors used, we can use fewer bits for each pixel."
   ]
  },
  {
   "cell_type": "markdown",
   "metadata": {
    "slideshow": {
     "slide_type": "fragment"
    }
   },
   "source": [
    "Here, we use 4 bits (16 colors) for a compression ratio around 6$\\times$."
   ]
  },
  {
   "cell_type": "markdown",
   "metadata": {
    "slideshow": {
     "slide_type": "-"
    }
   },
   "source": [
    "<center>\n",
    "    \n",
    "<img src=\"figs/L6-annie_016.png\" alt=\"Figure\" width=\"500px\">\n",
    "    \n",
    "</center>"
   ]
  },
  {
   "cell_type": "markdown",
   "metadata": {
    "slideshow": {
     "slide_type": "fragment"
    }
   },
   "source": [
    "Here, we use 3 bits (8 colors) for a compression ratio around 8$\\times$."
   ]
  },
  {
   "cell_type": "markdown",
   "metadata": {
    "slideshow": {
     "slide_type": "-"
    }
   },
   "source": [
    "<center>\n",
    "    \n",
    "<img src=\"figs/L6-annie_008.png\" alt=\"Figure\" width=\"500px\">\n",
    "    \n",
    "</center>"
   ]
  },
  {
   "cell_type": "markdown",
   "metadata": {
    "slideshow": {
     "slide_type": "fragment"
    }
   },
   "source": [
    "Here, we use 2 bits (4 colors) for a compression ratio around 12$\\times$."
   ]
  },
  {
   "cell_type": "markdown",
   "metadata": {
    "slideshow": {
     "slide_type": "-"
    }
   },
   "source": [
    "<center>\n",
    "    \n",
    "<img src=\"figs/L6-annie_004.png\" alt=\"Figure\" width=\"500px\">\n",
    "    \n",
    "</center>"
   ]
  },
  {
   "cell_type": "markdown",
   "metadata": {
    "slideshow": {
     "slide_type": "fragment"
    }
   },
   "source": [
    "Finally, we use 1 bit (2 colors) for a compression ratio around 24$\\times$."
   ]
  },
  {
   "cell_type": "markdown",
   "metadata": {
    "slideshow": {
     "slide_type": "-"
    }
   },
   "source": [
    "<center>\n",
    "    \n",
    "<img src=\"figs/L6-annie_002.png\" alt=\"Figure\" width=\"500px\">\n",
    "    \n",
    "</center>"
   ]
  }
 ],
 "metadata": {
  "anaconda-cloud": {},
  "celltoolbar": "Tags",
  "kernelspec": {
   "display_name": "Python 3",
   "language": "python",
   "name": "python3"
  },
  "language_info": {
   "codemirror_mode": {
    "name": "ipython",
    "version": 3
   },
   "file_extension": ".py",
   "mimetype": "text/x-python",
   "name": "python",
   "nbconvert_exporter": "python",
   "pygments_lexer": "ipython3",
   "version": "3.7.10"
  },
  "rise": {
   "scroll": true,
   "theme": "beige",
   "transition": "fade"
  }
 },
 "nbformat": 4,
 "nbformat_minor": 1
}
