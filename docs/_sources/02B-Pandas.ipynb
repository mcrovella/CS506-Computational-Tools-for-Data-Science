{
 "cells": [
  {
   "cell_type": "markdown",
   "metadata": {
    "slideshow": {
     "slide_type": "slide"
    }
   },
   "source": [
    "# Essential Tools: Pandas"
   ]
  },
  {
   "cell_type": "markdown",
   "metadata": {
    "slideshow": {
     "slide_type": "fragment"
    }
   },
   "source": [
    "Pandas is the Python Data Analysis Library. \n",
    "\n",
    "Pandas is an extremely versatile tool for manipulating datasets.   \n",
    "\n",
    "It also produces high quality plots with matplotlib, and integrates nicely with other libraries that expect NumPy arrays."
   ]
  },
  {
   "cell_type": "markdown",
   "metadata": {},
   "source": [
    "Use of Pandas is a data science __best practice.__"
   ]
  },
  {
   "cell_type": "markdown",
   "metadata": {
    "slideshow": {
     "slide_type": "slide"
    }
   },
   "source": [
    "The most important tool provided by Pandas is the **data frame.**\n",
    "\n",
    "A data frame is a table in which each row and column is given a label."
   ]
  },
  {
   "cell_type": "markdown",
   "metadata": {
    "slideshow": {
     "slide_type": "fragment"
    }
   },
   "source": [
    "Pandas DataFrames are documented at:\n",
    "\n",
    "http://pandas.pydata.org/pandas-docs/dev/generated/pandas.DataFrame.html\n",
    "\n",
    "Get in the habit: whenever you load data, place it into a dataframe as your first step."
   ]
  },
  {
   "cell_type": "markdown",
   "metadata": {
    "slideshow": {
     "slide_type": "slide"
    }
   },
   "source": [
    "## Getting started"
   ]
  },
  {
   "cell_type": "code",
   "execution_count": 1,
   "metadata": {
    "slideshow": {
     "slide_type": "fragment"
    }
   },
   "outputs": [],
   "source": [
    "import pandas as pd\n",
    "import pandas_datareader.data as web\n",
    "from pandas import Series, DataFrame\n",
    "\n",
    "import matplotlib.pyplot as plt\n",
    "import seaborn as sns\n",
    "\n",
    "from datetime import datetime\n",
    "\n",
    "#pd.__version__\n",
    "\n",
    "%matplotlib inline"
   ]
  },
  {
   "cell_type": "markdown",
   "metadata": {
    "slideshow": {
     "slide_type": "slide"
    }
   },
   "source": [
    "## Fetching, storing and retrieving your data"
   ]
  },
  {
   "cell_type": "markdown",
   "metadata": {
    "slideshow": {
     "slide_type": "-"
    }
   },
   "source": [
    "For demonstration purposes, we'll use a utility library that fetches data from standard online sources, such as Yahoo! Finance."
   ]
  },
  {
   "cell_type": "code",
   "execution_count": 3,
   "metadata": {
    "slideshow": {
     "slide_type": "fragment"
    }
   },
   "outputs": [
    {
     "data": {
      "text/html": [
       "<div>\n",
       "<style scoped>\n",
       "    .dataframe tbody tr th:only-of-type {\n",
       "        vertical-align: middle;\n",
       "    }\n",
       "\n",
       "    .dataframe tbody tr th {\n",
       "        vertical-align: top;\n",
       "    }\n",
       "\n",
       "    .dataframe thead th {\n",
       "        text-align: right;\n",
       "    }\n",
       "</style>\n",
       "<table border=\"1\" class=\"dataframe\">\n",
       "  <thead>\n",
       "    <tr style=\"text-align: right;\">\n",
       "      <th></th>\n",
       "      <th>Open</th>\n",
       "      <th>High</th>\n",
       "      <th>Low</th>\n",
       "      <th>Close</th>\n",
       "      <th>Adj Close</th>\n",
       "      <th>Volume</th>\n",
       "    </tr>\n",
       "    <tr>\n",
       "      <th>Date</th>\n",
       "      <th></th>\n",
       "      <th></th>\n",
       "      <th></th>\n",
       "      <th></th>\n",
       "      <th></th>\n",
       "      <th></th>\n",
       "    </tr>\n",
       "  </thead>\n",
       "  <tbody>\n",
       "    <tr>\n",
       "      <th>2015-01-02</th>\n",
       "      <td>55.459999</td>\n",
       "      <td>55.599998</td>\n",
       "      <td>54.240002</td>\n",
       "      <td>55.150002</td>\n",
       "      <td>55.150002</td>\n",
       "      <td>1664500</td>\n",
       "    </tr>\n",
       "    <tr>\n",
       "      <th>2015-01-05</th>\n",
       "      <td>54.540001</td>\n",
       "      <td>54.950001</td>\n",
       "      <td>52.330002</td>\n",
       "      <td>52.529999</td>\n",
       "      <td>52.529999</td>\n",
       "      <td>2023000</td>\n",
       "    </tr>\n",
       "    <tr>\n",
       "      <th>2015-01-06</th>\n",
       "      <td>52.549999</td>\n",
       "      <td>53.930000</td>\n",
       "      <td>50.750000</td>\n",
       "      <td>52.439999</td>\n",
       "      <td>52.439999</td>\n",
       "      <td>3762800</td>\n",
       "    </tr>\n",
       "    <tr>\n",
       "      <th>2015-01-07</th>\n",
       "      <td>53.320000</td>\n",
       "      <td>53.750000</td>\n",
       "      <td>51.759998</td>\n",
       "      <td>52.209999</td>\n",
       "      <td>52.209999</td>\n",
       "      <td>1548200</td>\n",
       "    </tr>\n",
       "    <tr>\n",
       "      <th>2015-01-08</th>\n",
       "      <td>52.590000</td>\n",
       "      <td>54.139999</td>\n",
       "      <td>51.759998</td>\n",
       "      <td>53.830002</td>\n",
       "      <td>53.830002</td>\n",
       "      <td>2015300</td>\n",
       "    </tr>\n",
       "  </tbody>\n",
       "</table>\n",
       "</div>"
      ],
      "text/plain": [
       "                 Open       High        Low      Close  Adj Close   Volume\n",
       "Date                                                                      \n",
       "2015-01-02  55.459999  55.599998  54.240002  55.150002  55.150002  1664500\n",
       "2015-01-05  54.540001  54.950001  52.330002  52.529999  52.529999  2023000\n",
       "2015-01-06  52.549999  53.930000  50.750000  52.439999  52.439999  3762800\n",
       "2015-01-07  53.320000  53.750000  51.759998  52.209999  52.209999  1548200\n",
       "2015-01-08  52.590000  54.139999  51.759998  53.830002  53.830002  2015300"
      ]
     },
     "execution_count": 3,
     "metadata": {},
     "output_type": "execute_result"
    }
   ],
   "source": [
    "import yfinance as yf\n",
    "\n",
    "yahoo_stocks = pd.DataFrame(yf.download('YELP',start='2015-01-01',end='2015-12-31', progress = False))\n",
    "\n",
    "yahoo_stocks.head()"
   ]
  },
  {
   "cell_type": "markdown",
   "metadata": {
    "slideshow": {
     "slide_type": "fragment"
    }
   },
   "source": [
    "This is a typical example of a dataframe.  \n",
    "\n",
    "Notice how each row has a label and each column has a label."
   ]
  },
  {
   "cell_type": "markdown",
   "metadata": {
    "slideshow": {
     "slide_type": "slide"
    }
   },
   "source": [
    "A dataframe is an object that has __many__ methods associated with it, to do all sorts of useful things.\n",
    "\n",
    "Here is a simple method: ``.info()``"
   ]
  },
  {
   "cell_type": "code",
   "execution_count": 4,
   "metadata": {
    "scrolled": true,
    "slideshow": {
     "slide_type": "-"
    }
   },
   "outputs": [
    {
     "name": "stdout",
     "output_type": "stream",
     "text": [
      "<class 'pandas.core.frame.DataFrame'>\n",
      "DatetimeIndex: 251 entries, 2015-01-02 to 2015-12-30\n",
      "Data columns (total 6 columns):\n",
      " #   Column     Non-Null Count  Dtype  \n",
      "---  ------     --------------  -----  \n",
      " 0   Open       251 non-null    float64\n",
      " 1   High       251 non-null    float64\n",
      " 2   Low        251 non-null    float64\n",
      " 3   Close      251 non-null    float64\n",
      " 4   Adj Close  251 non-null    float64\n",
      " 5   Volume     251 non-null    int64  \n",
      "dtypes: float64(5), int64(1)\n",
      "memory usage: 13.7 KB\n"
     ]
    }
   ],
   "source": [
    "yahoo_stocks.info()"
   ]
  },
  {
   "cell_type": "markdown",
   "metadata": {
    "slideshow": {
     "slide_type": "slide"
    }
   },
   "source": [
    "### Reading to/from a ``.csv`` file"
   ]
  },
  {
   "cell_type": "markdown",
   "metadata": {},
   "source": [
    "Continuing to explore methods, let's write the dataframe out to a ``.csv`` file:"
   ]
  },
  {
   "cell_type": "code",
   "execution_count": 5,
   "metadata": {
    "slideshow": {
     "slide_type": "fragment"
    }
   },
   "outputs": [],
   "source": [
    "yahoo_stocks.to_csv('yahoo_data.csv')"
   ]
  },
  {
   "cell_type": "code",
   "execution_count": 6,
   "metadata": {},
   "outputs": [
    {
     "name": "stdout",
     "output_type": "stream",
     "text": [
      "Date,Open,High,Low,Close,Adj Close,Volume\r\n",
      "2015-01-02,55.459999084472656,55.599998474121094,54.2400016784668,55.150001525878906,55.150001525878906,1664500\r\n",
      "2015-01-05,54.540000915527344,54.95000076293945,52.33000183105469,52.529998779296875,52.529998779296875,2023000\r\n",
      "2015-01-06,52.54999923706055,53.93000030517578,50.75,52.439998626708984,52.439998626708984,3762800\r\n",
      "2015-01-07,53.31999969482422,53.75,51.7599983215332,52.209999084472656,52.209999084472656,1548200\r\n",
      "2015-01-08,52.59000015258789,54.13999938964844,51.7599983215332,53.83000183105469,53.83000183105469,2015300\r\n",
      "2015-01-09,55.959999084472656,56.9900016784668,54.720001220703125,56.06999969482422,56.06999969482422,6224200\r\n",
      "2015-01-12,56.0,56.060001373291016,53.43000030517578,54.02000045776367,54.02000045776367,2407700\r\n",
      "2015-01-13,54.470001220703125,54.79999923706055,52.52000045776367,53.18000030517578,53.18000030517578,1958400\r\n",
      "2015-01-14,52.79999923706055,53.68000030517578,51.459999084472656,52.20000076293945,52.20000076293945,1854600\r\n"
     ]
    }
   ],
   "source": [
    "!head yahoo_data.csv"
   ]
  },
  {
   "cell_type": "markdown",
   "metadata": {
    "slideshow": {
     "slide_type": "fragment"
    }
   },
   "source": [
    "And of course we can likewise read a ``.csv`` file into a dataframe.   This is probably the most common way you will get data into Pandas."
   ]
  },
  {
   "cell_type": "code",
   "execution_count": 7,
   "metadata": {
    "scrolled": true,
    "slideshow": {
     "slide_type": "-"
    }
   },
   "outputs": [
    {
     "data": {
      "text/html": [
       "<div>\n",
       "<style scoped>\n",
       "    .dataframe tbody tr th:only-of-type {\n",
       "        vertical-align: middle;\n",
       "    }\n",
       "\n",
       "    .dataframe tbody tr th {\n",
       "        vertical-align: top;\n",
       "    }\n",
       "\n",
       "    .dataframe thead th {\n",
       "        text-align: right;\n",
       "    }\n",
       "</style>\n",
       "<table border=\"1\" class=\"dataframe\">\n",
       "  <thead>\n",
       "    <tr style=\"text-align: right;\">\n",
       "      <th></th>\n",
       "      <th>Date</th>\n",
       "      <th>Open</th>\n",
       "      <th>High</th>\n",
       "      <th>Low</th>\n",
       "      <th>Close</th>\n",
       "      <th>Adj Close</th>\n",
       "      <th>Volume</th>\n",
       "    </tr>\n",
       "  </thead>\n",
       "  <tbody>\n",
       "    <tr>\n",
       "      <th>0</th>\n",
       "      <td>2015-01-02</td>\n",
       "      <td>55.459999</td>\n",
       "      <td>55.599998</td>\n",
       "      <td>54.240002</td>\n",
       "      <td>55.150002</td>\n",
       "      <td>55.150002</td>\n",
       "      <td>1664500</td>\n",
       "    </tr>\n",
       "    <tr>\n",
       "      <th>1</th>\n",
       "      <td>2015-01-05</td>\n",
       "      <td>54.540001</td>\n",
       "      <td>54.950001</td>\n",
       "      <td>52.330002</td>\n",
       "      <td>52.529999</td>\n",
       "      <td>52.529999</td>\n",
       "      <td>2023000</td>\n",
       "    </tr>\n",
       "    <tr>\n",
       "      <th>2</th>\n",
       "      <td>2015-01-06</td>\n",
       "      <td>52.549999</td>\n",
       "      <td>53.930000</td>\n",
       "      <td>50.750000</td>\n",
       "      <td>52.439999</td>\n",
       "      <td>52.439999</td>\n",
       "      <td>3762800</td>\n",
       "    </tr>\n",
       "    <tr>\n",
       "      <th>3</th>\n",
       "      <td>2015-01-07</td>\n",
       "      <td>53.320000</td>\n",
       "      <td>53.750000</td>\n",
       "      <td>51.759998</td>\n",
       "      <td>52.209999</td>\n",
       "      <td>52.209999</td>\n",
       "      <td>1548200</td>\n",
       "    </tr>\n",
       "    <tr>\n",
       "      <th>4</th>\n",
       "      <td>2015-01-08</td>\n",
       "      <td>52.590000</td>\n",
       "      <td>54.139999</td>\n",
       "      <td>51.759998</td>\n",
       "      <td>53.830002</td>\n",
       "      <td>53.830002</td>\n",
       "      <td>2015300</td>\n",
       "    </tr>\n",
       "  </tbody>\n",
       "</table>\n",
       "</div>"
      ],
      "text/plain": [
       "         Date       Open       High        Low      Close  Adj Close   Volume\n",
       "0  2015-01-02  55.459999  55.599998  54.240002  55.150002  55.150002  1664500\n",
       "1  2015-01-05  54.540001  54.950001  52.330002  52.529999  52.529999  2023000\n",
       "2  2015-01-06  52.549999  53.930000  50.750000  52.439999  52.439999  3762800\n",
       "3  2015-01-07  53.320000  53.750000  51.759998  52.209999  52.209999  1548200\n",
       "4  2015-01-08  52.590000  54.139999  51.759998  53.830002  53.830002  2015300"
      ]
     },
     "execution_count": 7,
     "metadata": {},
     "output_type": "execute_result"
    }
   ],
   "source": [
    "df = pd.read_csv('yahoo_data.csv')\n",
    "df.head()"
   ]
  },
  {
   "cell_type": "markdown",
   "metadata": {
    "slideshow": {
     "slide_type": "slide"
    }
   },
   "source": [
    "## Working with data columns"
   ]
  },
  {
   "cell_type": "markdown",
   "metadata": {
    "slideshow": {
     "slide_type": "fragment"
    }
   },
   "source": [
    "In general, we'll usually organize things so that rows in the dataframe are __items__ and columns are __features__."
   ]
  },
  {
   "cell_type": "code",
   "execution_count": 8,
   "metadata": {
    "slideshow": {
     "slide_type": "-"
    }
   },
   "outputs": [
    {
     "data": {
      "text/plain": [
       "Index(['Date', 'Open', 'High', 'Low', 'Close', 'Adj Close', 'Volume'], dtype='object')"
      ]
     },
     "execution_count": 8,
     "metadata": {},
     "output_type": "execute_result"
    }
   ],
   "source": [
    "df.columns"
   ]
  },
  {
   "cell_type": "markdown",
   "metadata": {
    "slideshow": {
     "slide_type": "slide"
    }
   },
   "source": [
    "Pandas allows you to use standard python __indexing__ to refer to columns (eg features) in your dataframe:"
   ]
  },
  {
   "cell_type": "code",
   "execution_count": 9,
   "metadata": {
    "slideshow": {
     "slide_type": "-"
    }
   },
   "outputs": [
    {
     "data": {
      "text/plain": [
       "0      55.459999\n",
       "1      54.540001\n",
       "2      52.549999\n",
       "3      53.320000\n",
       "4      52.590000\n",
       "         ...    \n",
       "246    27.950001\n",
       "247    28.270000\n",
       "248    28.120001\n",
       "249    27.950001\n",
       "250    28.580000\n",
       "Name: Open, Length: 251, dtype: float64"
      ]
     },
     "execution_count": 9,
     "metadata": {},
     "output_type": "execute_result"
    }
   ],
   "source": [
    "df['Open']"
   ]
  },
  {
   "cell_type": "markdown",
   "metadata": {
    "slideshow": {
     "slide_type": "slide"
    }
   },
   "source": [
    "Pandas also allows you to use a syntax like an object attribute to refer to a column.\n",
    "\n",
    "But note that the column name cannot include a space in this case."
   ]
  },
  {
   "cell_type": "code",
   "execution_count": 10,
   "metadata": {
    "slideshow": {
     "slide_type": "-"
    }
   },
   "outputs": [
    {
     "data": {
      "text/plain": [
       "0      55.459999\n",
       "1      54.540001\n",
       "2      52.549999\n",
       "3      53.320000\n",
       "4      52.590000\n",
       "         ...    \n",
       "246    27.950001\n",
       "247    28.270000\n",
       "248    28.120001\n",
       "249    27.950001\n",
       "250    28.580000\n",
       "Name: Open, Length: 251, dtype: float64"
      ]
     },
     "execution_count": 10,
     "metadata": {},
     "output_type": "execute_result"
    }
   ],
   "source": [
    "df.Open"
   ]
  },
  {
   "cell_type": "markdown",
   "metadata": {
    "slideshow": {
     "slide_type": "slide"
    }
   },
   "source": [
    "You can select a list of columns:"
   ]
  },
  {
   "cell_type": "code",
   "execution_count": 11,
   "metadata": {
    "slideshow": {
     "slide_type": "-"
    }
   },
   "outputs": [
    {
     "data": {
      "text/html": [
       "<div>\n",
       "<style scoped>\n",
       "    .dataframe tbody tr th:only-of-type {\n",
       "        vertical-align: middle;\n",
       "    }\n",
       "\n",
       "    .dataframe tbody tr th {\n",
       "        vertical-align: top;\n",
       "    }\n",
       "\n",
       "    .dataframe thead th {\n",
       "        text-align: right;\n",
       "    }\n",
       "</style>\n",
       "<table border=\"1\" class=\"dataframe\">\n",
       "  <thead>\n",
       "    <tr style=\"text-align: right;\">\n",
       "      <th></th>\n",
       "      <th>Open</th>\n",
       "      <th>Close</th>\n",
       "    </tr>\n",
       "  </thead>\n",
       "  <tbody>\n",
       "    <tr>\n",
       "      <th>0</th>\n",
       "      <td>55.459999</td>\n",
       "      <td>55.150002</td>\n",
       "    </tr>\n",
       "    <tr>\n",
       "      <th>1</th>\n",
       "      <td>54.540001</td>\n",
       "      <td>52.529999</td>\n",
       "    </tr>\n",
       "    <tr>\n",
       "      <th>2</th>\n",
       "      <td>52.549999</td>\n",
       "      <td>52.439999</td>\n",
       "    </tr>\n",
       "    <tr>\n",
       "      <th>3</th>\n",
       "      <td>53.320000</td>\n",
       "      <td>52.209999</td>\n",
       "    </tr>\n",
       "    <tr>\n",
       "      <th>4</th>\n",
       "      <td>52.590000</td>\n",
       "      <td>53.830002</td>\n",
       "    </tr>\n",
       "  </tbody>\n",
       "</table>\n",
       "</div>"
      ],
      "text/plain": [
       "        Open      Close\n",
       "0  55.459999  55.150002\n",
       "1  54.540001  52.529999\n",
       "2  52.549999  52.439999\n",
       "3  53.320000  52.209999\n",
       "4  52.590000  53.830002"
      ]
     },
     "execution_count": 11,
     "metadata": {},
     "output_type": "execute_result"
    }
   ],
   "source": [
    "df[['Open','Close']].head()"
   ]
  },
  {
   "cell_type": "markdown",
   "metadata": {
    "slideshow": {
     "slide_type": "slide"
    }
   },
   "source": [
    "Putting things together -- make sure this syntax is clear to you:"
   ]
  },
  {
   "cell_type": "code",
   "execution_count": 12,
   "metadata": {
    "slideshow": {
     "slide_type": "-"
    }
   },
   "outputs": [
    {
     "data": {
      "text/plain": [
       "0    2015-01-02\n",
       "1    2015-01-05\n",
       "2    2015-01-06\n",
       "3    2015-01-07\n",
       "4    2015-01-08\n",
       "5    2015-01-09\n",
       "6    2015-01-12\n",
       "7    2015-01-13\n",
       "8    2015-01-14\n",
       "9    2015-01-15\n",
       "Name: Date, dtype: object"
      ]
     },
     "execution_count": 12,
     "metadata": {},
     "output_type": "execute_result"
    }
   ],
   "source": [
    "df.Date.head(10)"
   ]
  },
  {
   "cell_type": "code",
   "execution_count": 13,
   "metadata": {
    "slideshow": {
     "slide_type": "fragment"
    }
   },
   "outputs": [
    {
     "data": {
      "text/plain": [
       "241    2015-12-16\n",
       "242    2015-12-17\n",
       "243    2015-12-18\n",
       "244    2015-12-21\n",
       "245    2015-12-22\n",
       "246    2015-12-23\n",
       "247    2015-12-24\n",
       "248    2015-12-28\n",
       "249    2015-12-29\n",
       "250    2015-12-30\n",
       "Name: Date, dtype: object"
      ]
     },
     "execution_count": 13,
     "metadata": {},
     "output_type": "execute_result"
    }
   ],
   "source": [
    "df.Date.tail(10)"
   ]
  },
  {
   "cell_type": "markdown",
   "metadata": {
    "slideshow": {
     "slide_type": "slide"
    }
   },
   "source": [
    "Changing column names is as simple as assigning to the ``.columns`` property.\n",
    "\n",
    "Let's adjust column names so that none of them include spaces:"
   ]
  },
  {
   "cell_type": "code",
   "execution_count": 14,
   "metadata": {
    "slideshow": {
     "slide_type": "fragment"
    }
   },
   "outputs": [
    {
     "name": "stdout",
     "output_type": "stream",
     "text": [
      "<class 'pandas.core.frame.DataFrame'>\n",
      "RangeIndex: 251 entries, 0 to 250\n",
      "Data columns (total 7 columns):\n",
      " #   Column     Non-Null Count  Dtype  \n",
      "---  ------     --------------  -----  \n",
      " 0   date       251 non-null    object \n",
      " 1   open       251 non-null    float64\n",
      " 2   high       251 non-null    float64\n",
      " 3   low        251 non-null    float64\n",
      " 4   close      251 non-null    float64\n",
      " 5   adj_close  251 non-null    float64\n",
      " 6   volume     251 non-null    int64  \n",
      "dtypes: float64(5), int64(1), object(1)\n",
      "memory usage: 13.9+ KB\n"
     ]
    }
   ],
   "source": [
    "new_column_names = [x.lower().replace(' ','_') for x in df.columns]\n",
    "df.columns = new_column_names\n",
    "df.info()"
   ]
  },
  {
   "cell_type": "markdown",
   "metadata": {
    "slideshow": {
     "slide_type": "fragment"
    }
   },
   "source": [
    "(Be sure you understand the __list comprehension__ used above -- it's a common and important way to process a list in python.)"
   ]
  },
  {
   "cell_type": "markdown",
   "metadata": {
    "slideshow": {
     "slide_type": "fragment"
    }
   },
   "source": [
    "Now **all** columns can be accessed using the **dot** notation:"
   ]
  },
  {
   "cell_type": "code",
   "execution_count": 15,
   "metadata": {
    "slideshow": {
     "slide_type": "-"
    }
   },
   "outputs": [
    {
     "data": {
      "text/plain": [
       "0    55.150002\n",
       "1    52.529999\n",
       "2    52.439999\n",
       "3    52.209999\n",
       "4    53.830002\n",
       "Name: adj_close, dtype: float64"
      ]
     },
     "execution_count": 15,
     "metadata": {},
     "output_type": "execute_result"
    }
   ],
   "source": [
    "df.adj_close.head()"
   ]
  },
  {
   "cell_type": "markdown",
   "metadata": {
    "slideshow": {
     "slide_type": "slide"
    }
   },
   "source": [
    "## A sampling of DataFrame methods."
   ]
  },
  {
   "cell_type": "markdown",
   "metadata": {
    "slideshow": {
     "slide_type": "-"
    }
   },
   "source": [
    "A dataframe object has many useful methods.\n",
    "\n",
    "Familiarize yourself with dataframe methods -- they are very useful.\n",
    "\n",
    "These should be self-explanatory."
   ]
  },
  {
   "cell_type": "code",
   "execution_count": 16,
   "metadata": {
    "slideshow": {
     "slide_type": "slide"
    }
   },
   "outputs": [
    {
     "data": {
      "text/plain": [
       "high         3.809084e+01\n",
       "low          3.659777e+01\n",
       "open         3.732426e+01\n",
       "close        3.733303e+01\n",
       "volume       3.501135e+06\n",
       "adj_close    3.733303e+01\n",
       "dtype: float64"
      ]
     },
     "execution_count": 16,
     "metadata": {},
     "output_type": "execute_result"
    }
   ],
   "source": [
    "df[['high', 'low', 'open', 'close', 'volume', 'adj_close']].mean()"
   ]
  },
  {
   "cell_type": "code",
   "execution_count": 17,
   "metadata": {
    "slideshow": {
     "slide_type": "slide"
    }
   },
   "outputs": [
    {
     "data": {
      "text/plain": [
       "high         1.138931e+01\n",
       "low          1.114006e+01\n",
       "open         1.128846e+01\n",
       "close        1.126194e+01\n",
       "volume       4.152341e+06\n",
       "adj_close    1.126194e+01\n",
       "dtype: float64"
      ]
     },
     "execution_count": 17,
     "metadata": {},
     "output_type": "execute_result"
    }
   ],
   "source": [
    "df[['high', 'low', 'open', 'close', 'volume', 'adj_close']].std()"
   ]
  },
  {
   "cell_type": "code",
   "execution_count": 18,
   "metadata": {
    "slideshow": {
     "slide_type": "slide"
    }
   },
   "outputs": [
    {
     "data": {
      "text/plain": [
       "high         3.909000e+01\n",
       "low          3.665000e+01\n",
       "open         3.822000e+01\n",
       "close        3.818000e+01\n",
       "volume       2.356000e+06\n",
       "adj_close    3.818000e+01\n",
       "dtype: float64"
      ]
     },
     "execution_count": 18,
     "metadata": {},
     "output_type": "execute_result"
    }
   ],
   "source": [
    "df[['high', 'low', 'open', 'close', 'volume', 'adj_close']].median()"
   ]
  },
  {
   "cell_type": "code",
   "execution_count": 19,
   "metadata": {
    "slideshow": {
     "slide_type": "slide"
    }
   },
   "outputs": [
    {
     "data": {
      "text/plain": [
       "37.3242629229785"
      ]
     },
     "execution_count": 19,
     "metadata": {},
     "output_type": "execute_result"
    }
   ],
   "source": [
    "df.open.mean()"
   ]
  },
  {
   "cell_type": "code",
   "execution_count": 20,
   "metadata": {
    "slideshow": {
     "slide_type": "fragment"
    }
   },
   "outputs": [
    {
     "data": {
      "text/plain": [
       "38.09083672633684"
      ]
     },
     "execution_count": 20,
     "metadata": {},
     "output_type": "execute_result"
    }
   ],
   "source": [
    "df.high.mean()"
   ]
  },
  {
   "cell_type": "markdown",
   "metadata": {
    "slideshow": {
     "slide_type": "slide"
    }
   },
   "source": [
    "### Plotting methods\n",
    "\n",
    "Pandas has an extensive library of plotting functions, and they are very easy to use.\n",
    "\n",
    "These are your \"first look\" functions.\n",
    "\n",
    "(Later you will use specialized graphics packages for more sophisticated visualizations.)"
   ]
  },
  {
   "cell_type": "code",
   "execution_count": 21,
   "metadata": {
    "slideshow": {
     "slide_type": "fragment"
    }
   },
   "outputs": [
    {
     "data": {
      "image/png": "[encoded data removed]",
      "text/plain": [
       "<Figure size 640x480 with 1 Axes>"
      ]
     },
     "metadata": {},
     "output_type": "display_data"
    }
   ],
   "source": [
    "df.high.plot(label='High')\n",
    "df.low.plot(label='Low')\n",
    "plt.title('YELP Stock Price')\n",
    "plt.ylabel('Dollars')\n",
    "plt.legend(loc='best');"
   ]
  },
  {
   "cell_type": "code",
   "execution_count": 22,
   "metadata": {
    "slideshow": {
     "slide_type": "slide"
    }
   },
   "outputs": [
    {
     "data": {
      "image/png": "[encoded data removed]",
      "text/plain": [
       "<Figure size 640x480 with 1 Axes>"
      ]
     },
     "metadata": {},
     "output_type": "display_data"
    }
   ],
   "source": [
    "df.adj_close.hist()\n",
    "plt.xlabel('Adjusted Closing Price')\n",
    "plt.ylabel('Dollars')\n",
    "plt.title('YELP');"
   ]
  },
  {
   "cell_type": "markdown",
   "metadata": {
    "slideshow": {
     "slide_type": "slide"
    }
   },
   "source": [
    "### Bulk Operations"
   ]
  },
  {
   "cell_type": "markdown",
   "metadata": {
    "slideshow": {
     "slide_type": "fragment"
    }
   },
   "source": [
    "Methods like ``sum()`` and ``std()`` work on entire columns. \n",
    "\n",
    "We can run our own functions across all values in a column (or row) using ``apply()``."
   ]
  },
  {
   "cell_type": "markdown",
   "metadata": {
    "slideshow": {
     "slide_type": "fragment"
    }
   },
   "source": [
    "As an example, let's go back to this plot:"
   ]
  },
  {
   "cell_type": "code",
   "execution_count": 23,
   "metadata": {},
   "outputs": [
    {
     "data": {
      "image/png": "[encoded data removed]",
      "text/plain": [
       "<Figure size 640x480 with 1 Axes>"
      ]
     },
     "metadata": {},
     "output_type": "display_data"
    }
   ],
   "source": [
    "df.high.plot(label='High')\n",
    "df.low.plot(label='Low')\n",
    "plt.title('YELP Stock Price')\n",
    "plt.ylabel('Dollars')\n",
    "plt.legend(loc='best');"
   ]
  },
  {
   "cell_type": "markdown",
   "metadata": {
    "slideshow": {
     "slide_type": "fragment"
    }
   },
   "source": [
    "It's __almost__ perfect.  The only problem is the $x$-axis: it should show time.\n",
    "\n",
    "To fix this, we need to make the dataframe __index__ -- that is, the __row labels__ -- into dates."
   ]
  },
  {
   "cell_type": "markdown",
   "metadata": {
    "slideshow": {
     "slide_type": "fragment"
    }
   },
   "source": [
    "We have a problem however: the \"dates\" in our data are only __strings__.   We need Pandas to understand that they are actually dates."
   ]
  },
  {
   "cell_type": "code",
   "execution_count": 24,
   "metadata": {
    "slideshow": {
     "slide_type": "-"
    }
   },
   "outputs": [
    {
     "data": {
      "text/plain": [
       "0    2015-01-02\n",
       "1    2015-01-05\n",
       "2    2015-01-06\n",
       "3    2015-01-07\n",
       "4    2015-01-08\n",
       "Name: date, dtype: object"
      ]
     },
     "execution_count": 24,
     "metadata": {},
     "output_type": "execute_result"
    }
   ],
   "source": [
    "df.date.head()"
   ]
  },
  {
   "cell_type": "markdown",
   "metadata": {
    "slideshow": {
     "slide_type": "fragment"
    }
   },
   "source": [
    "The **values** property of the column returns a list of values for the column. Inspecting the first value reveals that these are strings with a particular format."
   ]
  },
  {
   "cell_type": "code",
   "execution_count": 25,
   "metadata": {
    "slideshow": {
     "slide_type": "-"
    }
   },
   "outputs": [
    {
     "data": {
      "text/plain": [
       "'2015-01-02'"
      ]
     },
     "execution_count": 25,
     "metadata": {},
     "output_type": "execute_result"
    }
   ],
   "source": [
    "first_date = df.date.values[0]\n",
    "first_date"
   ]
  },
  {
   "cell_type": "markdown",
   "metadata": {
    "slideshow": {
     "slide_type": "fragment"
    }
   },
   "source": [
    "To convert these strings to actual dates we'll use the ``datetime`` standard python package:"
   ]
  },
  {
   "cell_type": "code",
   "execution_count": 26,
   "metadata": {
    "slideshow": {
     "slide_type": "-"
    }
   },
   "outputs": [
    {
     "data": {
      "text/plain": [
       "datetime.datetime(2015, 1, 2, 0, 0)"
      ]
     },
     "execution_count": 26,
     "metadata": {},
     "output_type": "execute_result"
    }
   ],
   "source": [
    "datetime.strptime(first_date, \"%Y-%m-%d\")"
   ]
  },
  {
   "cell_type": "markdown",
   "metadata": {
    "slideshow": {
     "slide_type": "fragment"
    }
   },
   "source": [
    "And to do this for each string in the ``date`` column we will use ``.apply()``:"
   ]
  },
  {
   "cell_type": "code",
   "execution_count": 27,
   "metadata": {
    "slideshow": {
     "slide_type": "-"
    }
   },
   "outputs": [
    {
     "data": {
      "text/plain": [
       "0   2015-01-02\n",
       "1   2015-01-05\n",
       "2   2015-01-06\n",
       "3   2015-01-07\n",
       "4   2015-01-08\n",
       "Name: date, dtype: datetime64[ns]"
      ]
     },
     "execution_count": 27,
     "metadata": {},
     "output_type": "execute_result"
    }
   ],
   "source": [
    "new_df = df.copy()\n",
    "new_df.date = df.date.apply(lambda d: datetime.strptime(d, \"%Y-%m-%d\"))\n",
    "new_df.date.head()"
   ]
  },
  {
   "cell_type": "markdown",
   "metadata": {
    "slideshow": {
     "slide_type": "fragment"
    }
   },
   "source": [
    "Each row in a DataFrame is associated with an index, which is a label that uniquely identifies a row."
   ]
  },
  {
   "cell_type": "markdown",
   "metadata": {
    "slideshow": {
     "slide_type": "fragment"
    }
   },
   "source": [
    "The row indices so far have been auto-generated by pandas, and are simply integers starting from 0. \n",
    "\n",
    "Fixing this is as easy as assigning to the `index` property of the DataFrame."
   ]
  },
  {
   "cell_type": "code",
   "execution_count": 28,
   "metadata": {
    "slideshow": {
     "slide_type": "fragment"
    }
   },
   "outputs": [
    {
     "data": {
      "text/html": [
       "<div>\n",
       "<style scoped>\n",
       "    .dataframe tbody tr th:only-of-type {\n",
       "        vertical-align: middle;\n",
       "    }\n",
       "\n",
       "    .dataframe tbody tr th {\n",
       "        vertical-align: top;\n",
       "    }\n",
       "\n",
       "    .dataframe thead th {\n",
       "        text-align: right;\n",
       "    }\n",
       "</style>\n",
       "<table border=\"1\" class=\"dataframe\">\n",
       "  <thead>\n",
       "    <tr style=\"text-align: right;\">\n",
       "      <th></th>\n",
       "      <th>date</th>\n",
       "      <th>open</th>\n",
       "      <th>high</th>\n",
       "      <th>low</th>\n",
       "      <th>close</th>\n",
       "      <th>adj_close</th>\n",
       "      <th>volume</th>\n",
       "    </tr>\n",
       "    <tr>\n",
       "      <th>date</th>\n",
       "      <th></th>\n",
       "      <th></th>\n",
       "      <th></th>\n",
       "      <th></th>\n",
       "      <th></th>\n",
       "      <th></th>\n",
       "      <th></th>\n",
       "    </tr>\n",
       "  </thead>\n",
       "  <tbody>\n",
       "    <tr>\n",
       "      <th>2015-01-02</th>\n",
       "      <td>2015-01-02</td>\n",
       "      <td>55.459999</td>\n",
       "      <td>55.599998</td>\n",
       "      <td>54.240002</td>\n",
       "      <td>55.150002</td>\n",
       "      <td>55.150002</td>\n",
       "      <td>1664500</td>\n",
       "    </tr>\n",
       "    <tr>\n",
       "      <th>2015-01-05</th>\n",
       "      <td>2015-01-05</td>\n",
       "      <td>54.540001</td>\n",
       "      <td>54.950001</td>\n",
       "      <td>52.330002</td>\n",
       "      <td>52.529999</td>\n",
       "      <td>52.529999</td>\n",
       "      <td>2023000</td>\n",
       "    </tr>\n",
       "    <tr>\n",
       "      <th>2015-01-06</th>\n",
       "      <td>2015-01-06</td>\n",
       "      <td>52.549999</td>\n",
       "      <td>53.930000</td>\n",
       "      <td>50.750000</td>\n",
       "      <td>52.439999</td>\n",
       "      <td>52.439999</td>\n",
       "      <td>3762800</td>\n",
       "    </tr>\n",
       "    <tr>\n",
       "      <th>2015-01-07</th>\n",
       "      <td>2015-01-07</td>\n",
       "      <td>53.320000</td>\n",
       "      <td>53.750000</td>\n",
       "      <td>51.759998</td>\n",
       "      <td>52.209999</td>\n",
       "      <td>52.209999</td>\n",
       "      <td>1548200</td>\n",
       "    </tr>\n",
       "    <tr>\n",
       "      <th>2015-01-08</th>\n",
       "      <td>2015-01-08</td>\n",
       "      <td>52.590000</td>\n",
       "      <td>54.139999</td>\n",
       "      <td>51.759998</td>\n",
       "      <td>53.830002</td>\n",
       "      <td>53.830002</td>\n",
       "      <td>2015300</td>\n",
       "    </tr>\n",
       "  </tbody>\n",
       "</table>\n",
       "</div>"
      ],
      "text/plain": [
       "                 date       open       high        low      close  adj_close  \\\n",
       "date                                                                           \n",
       "2015-01-02 2015-01-02  55.459999  55.599998  54.240002  55.150002  55.150002   \n",
       "2015-01-05 2015-01-05  54.540001  54.950001  52.330002  52.529999  52.529999   \n",
       "2015-01-06 2015-01-06  52.549999  53.930000  50.750000  52.439999  52.439999   \n",
       "2015-01-07 2015-01-07  53.320000  53.750000  51.759998  52.209999  52.209999   \n",
       "2015-01-08 2015-01-08  52.590000  54.139999  51.759998  53.830002  53.830002   \n",
       "\n",
       "             volume  \n",
       "date                 \n",
       "2015-01-02  1664500  \n",
       "2015-01-05  2023000  \n",
       "2015-01-06  3762800  \n",
       "2015-01-07  1548200  \n",
       "2015-01-08  2015300  "
      ]
     },
     "execution_count": 28,
     "metadata": {},
     "output_type": "execute_result"
    }
   ],
   "source": [
    "new_df.index = new_df.date\n",
    "new_df.head()"
   ]
  },
  {
   "cell_type": "markdown",
   "metadata": {
    "slideshow": {
     "slide_type": "fragment"
    }
   },
   "source": [
    "Now that we have made an index based on a real date, we can drop the original `date` column."
   ]
  },
  {
   "cell_type": "code",
   "execution_count": 29,
   "metadata": {
    "slideshow": {
     "slide_type": "-"
    }
   },
   "outputs": [
    {
     "data": {
      "text/html": [
       "<div>\n",
       "<style scoped>\n",
       "    .dataframe tbody tr th:only-of-type {\n",
       "        vertical-align: middle;\n",
       "    }\n",
       "\n",
       "    .dataframe tbody tr th {\n",
       "        vertical-align: top;\n",
       "    }\n",
       "\n",
       "    .dataframe thead th {\n",
       "        text-align: right;\n",
       "    }\n",
       "</style>\n",
       "<table border=\"1\" class=\"dataframe\">\n",
       "  <thead>\n",
       "    <tr style=\"text-align: right;\">\n",
       "      <th></th>\n",
       "      <th>open</th>\n",
       "      <th>high</th>\n",
       "      <th>low</th>\n",
       "      <th>close</th>\n",
       "      <th>adj_close</th>\n",
       "      <th>volume</th>\n",
       "    </tr>\n",
       "    <tr>\n",
       "      <th>date</th>\n",
       "      <th></th>\n",
       "      <th></th>\n",
       "      <th></th>\n",
       "      <th></th>\n",
       "      <th></th>\n",
       "      <th></th>\n",
       "    </tr>\n",
       "  </thead>\n",
       "  <tbody>\n",
       "    <tr>\n",
       "      <th>2015-01-02</th>\n",
       "      <td>55.459999</td>\n",
       "      <td>55.599998</td>\n",
       "      <td>54.240002</td>\n",
       "      <td>55.150002</td>\n",
       "      <td>55.150002</td>\n",
       "      <td>1664500</td>\n",
       "    </tr>\n",
       "    <tr>\n",
       "      <th>2015-01-05</th>\n",
       "      <td>54.540001</td>\n",
       "      <td>54.950001</td>\n",
       "      <td>52.330002</td>\n",
       "      <td>52.529999</td>\n",
       "      <td>52.529999</td>\n",
       "      <td>2023000</td>\n",
       "    </tr>\n",
       "    <tr>\n",
       "      <th>2015-01-06</th>\n",
       "      <td>52.549999</td>\n",
       "      <td>53.930000</td>\n",
       "      <td>50.750000</td>\n",
       "      <td>52.439999</td>\n",
       "      <td>52.439999</td>\n",
       "      <td>3762800</td>\n",
       "    </tr>\n",
       "    <tr>\n",
       "      <th>2015-01-07</th>\n",
       "      <td>53.320000</td>\n",
       "      <td>53.750000</td>\n",
       "      <td>51.759998</td>\n",
       "      <td>52.209999</td>\n",
       "      <td>52.209999</td>\n",
       "      <td>1548200</td>\n",
       "    </tr>\n",
       "    <tr>\n",
       "      <th>2015-01-08</th>\n",
       "      <td>52.590000</td>\n",
       "      <td>54.139999</td>\n",
       "      <td>51.759998</td>\n",
       "      <td>53.830002</td>\n",
       "      <td>53.830002</td>\n",
       "      <td>2015300</td>\n",
       "    </tr>\n",
       "  </tbody>\n",
       "</table>\n",
       "</div>"
      ],
      "text/plain": [
       "                 open       high        low      close  adj_close   volume\n",
       "date                                                                      \n",
       "2015-01-02  55.459999  55.599998  54.240002  55.150002  55.150002  1664500\n",
       "2015-01-05  54.540001  54.950001  52.330002  52.529999  52.529999  2023000\n",
       "2015-01-06  52.549999  53.930000  50.750000  52.439999  52.439999  3762800\n",
       "2015-01-07  53.320000  53.750000  51.759998  52.209999  52.209999  1548200\n",
       "2015-01-08  52.590000  54.139999  51.759998  53.830002  53.830002  2015300"
      ]
     },
     "execution_count": 29,
     "metadata": {},
     "output_type": "execute_result"
    }
   ],
   "source": [
    "new_df = new_df.drop(['date'],axis=1)\n",
    "new_df.head()"
   ]
  },
  {
   "cell_type": "markdown",
   "metadata": {
    "slideshow": {
     "slide_type": "fragment"
    }
   },
   "source": [
    "Now we can see that Pandas handles these dates quite nicely:"
   ]
  },
  {
   "cell_type": "code",
   "execution_count": 30,
   "metadata": {},
   "outputs": [
    {
     "data": {
      "image/png": "[encoded data removed]",
      "text/plain": [
       "<Figure size 640x480 with 1 Axes>"
      ]
     },
     "metadata": {},
     "output_type": "display_data"
    }
   ],
   "source": [
    "new_df.high.plot(label='High')\n",
    "new_df.low.plot(label='Low')\n",
    "plt.title('YELP Stock Price')\n",
    "plt.ylabel('Dollars')\n",
    "plt.legend(loc='best');"
   ]
  },
  {
   "cell_type": "markdown",
   "metadata": {
    "slideshow": {
     "slide_type": "slide"
    }
   },
   "source": [
    "### Accessing rows of the DataFrame\n",
    "\n",
    "So far we've seen how to access a column of the DataFrame.  To access a row we use a different notation.\n",
    "\n",
    "To access a row by its index value, use the **`.loc()`** method."
   ]
  },
  {
   "cell_type": "code",
   "execution_count": 31,
   "metadata": {
    "slideshow": {
     "slide_type": "fragment"
    }
   },
   "outputs": [
    {
     "data": {
      "text/plain": [
       "open         5.466000e+01\n",
       "high         5.564000e+01\n",
       "low          5.430000e+01\n",
       "close        5.519000e+01\n",
       "adj_close    5.519000e+01\n",
       "volume       1.636400e+06\n",
       "Name: 2015-01-23 00:00:00, dtype: float64"
      ]
     },
     "execution_count": 31,
     "metadata": {},
     "output_type": "execute_result"
    }
   ],
   "source": [
    "new_df.loc[datetime(2015,1,23,0,0)]"
   ]
  },
  {
   "cell_type": "markdown",
   "metadata": {
    "slideshow": {
     "slide_type": "slide"
    }
   },
   "source": [
    "To access a row by its sequence number (ie, like an array index), use **`.iloc()`** ('Integer Location')"
   ]
  },
  {
   "cell_type": "code",
   "execution_count": 32,
   "metadata": {
    "slideshow": {
     "slide_type": "-"
    }
   },
   "outputs": [
    {
     "data": {
      "text/plain": [
       "open         5.546000e+01\n",
       "high         5.560000e+01\n",
       "low          5.424000e+01\n",
       "close        5.515000e+01\n",
       "adj_close    5.515000e+01\n",
       "volume       1.664500e+06\n",
       "Name: 2015-01-02 00:00:00, dtype: float64"
      ]
     },
     "execution_count": 32,
     "metadata": {},
     "output_type": "execute_result"
    }
   ],
   "source": [
    "new_df.iloc[0,:]"
   ]
  },
  {
   "cell_type": "markdown",
   "metadata": {
    "slideshow": {
     "slide_type": "slide"
    }
   },
   "source": [
    "To iterate over the rows, use **`.iterrows()`**"
   ]
  },
  {
   "cell_type": "code",
   "execution_count": 33,
   "metadata": {
    "slideshow": {
     "slide_type": "-"
    }
   },
   "outputs": [
    {
     "name": "stdout",
     "output_type": "stream",
     "text": [
      "The total number of positive-gain days is 125.\n"
     ]
    }
   ],
   "source": [
    "num_positive_days = 0\n",
    "for idx, row in df.iterrows():\n",
    "    if row.close > row.open:\n",
    "        num_positive_days += 1\n",
    "        \n",
    "print(\"The total number of positive-gain days is {}.\".format(num_positive_days))"
   ]
  },
  {
   "cell_type": "markdown",
   "metadata": {
    "slideshow": {
     "slide_type": "slide"
    }
   },
   "source": [
    "## Filtering"
   ]
  },
  {
   "cell_type": "markdown",
   "metadata": {
    "slideshow": {
     "slide_type": "-"
    }
   },
   "source": [
    "It is easy to select interesting rows from the data.  \n",
    "\n",
    "All the operations below return a new DataFrame, which itself can be treated the same way as all DataFrames we have seen so far."
   ]
  },
  {
   "cell_type": "code",
   "execution_count": 34,
   "metadata": {
    "slideshow": {
     "slide_type": "fragment"
    }
   },
   "outputs": [
    {
     "data": {
      "text/plain": [
       "date\n",
       "2015-01-02     True\n",
       "2015-01-05    False\n",
       "2015-01-06    False\n",
       "2015-01-07    False\n",
       "2015-01-08    False\n",
       "Name: high, dtype: bool"
      ]
     },
     "execution_count": 34,
     "metadata": {},
     "output_type": "execute_result"
    }
   ],
   "source": [
    "tmp_high = new_df.high > 55\n",
    "tmp_high.head()"
   ]
  },
  {
   "cell_type": "markdown",
   "metadata": {
    "slideshow": {
     "slide_type": "fragment"
    }
   },
   "source": [
    "Summing a Boolean array is the same as counting the number of **`True`** values."
   ]
  },
  {
   "cell_type": "code",
   "execution_count": 35,
   "metadata": {
    "slideshow": {
     "slide_type": "-"
    }
   },
   "outputs": [
    {
     "data": {
      "text/plain": [
       "11"
      ]
     },
     "execution_count": 35,
     "metadata": {},
     "output_type": "execute_result"
    }
   ],
   "source": [
    "sum(tmp_high)"
   ]
  },
  {
   "cell_type": "markdown",
   "metadata": {
    "slideshow": {
     "slide_type": "fragment"
    }
   },
   "source": [
    "Now, let's select only the rows of **`df1`** that correspond to **`tmp_high`**"
   ]
  },
  {
   "cell_type": "code",
   "execution_count": 36,
   "metadata": {
    "slideshow": {
     "slide_type": "-"
    }
   },
   "outputs": [
    {
     "data": {
      "text/html": [
       "<div>\n",
       "<style scoped>\n",
       "    .dataframe tbody tr th:only-of-type {\n",
       "        vertical-align: middle;\n",
       "    }\n",
       "\n",
       "    .dataframe tbody tr th {\n",
       "        vertical-align: top;\n",
       "    }\n",
       "\n",
       "    .dataframe thead th {\n",
       "        text-align: right;\n",
       "    }\n",
       "</style>\n",
       "<table border=\"1\" class=\"dataframe\">\n",
       "  <thead>\n",
       "    <tr style=\"text-align: right;\">\n",
       "      <th></th>\n",
       "      <th>open</th>\n",
       "      <th>high</th>\n",
       "      <th>low</th>\n",
       "      <th>close</th>\n",
       "      <th>adj_close</th>\n",
       "      <th>volume</th>\n",
       "    </tr>\n",
       "    <tr>\n",
       "      <th>date</th>\n",
       "      <th></th>\n",
       "      <th></th>\n",
       "      <th></th>\n",
       "      <th></th>\n",
       "      <th></th>\n",
       "      <th></th>\n",
       "    </tr>\n",
       "  </thead>\n",
       "  <tbody>\n",
       "    <tr>\n",
       "      <th>2015-01-02</th>\n",
       "      <td>55.459999</td>\n",
       "      <td>55.599998</td>\n",
       "      <td>54.240002</td>\n",
       "      <td>55.150002</td>\n",
       "      <td>55.150002</td>\n",
       "      <td>1664500</td>\n",
       "    </tr>\n",
       "    <tr>\n",
       "      <th>2015-01-09</th>\n",
       "      <td>55.959999</td>\n",
       "      <td>56.990002</td>\n",
       "      <td>54.720001</td>\n",
       "      <td>56.070000</td>\n",
       "      <td>56.070000</td>\n",
       "      <td>6224200</td>\n",
       "    </tr>\n",
       "    <tr>\n",
       "      <th>2015-01-12</th>\n",
       "      <td>56.000000</td>\n",
       "      <td>56.060001</td>\n",
       "      <td>53.430000</td>\n",
       "      <td>54.020000</td>\n",
       "      <td>54.020000</td>\n",
       "      <td>2407700</td>\n",
       "    </tr>\n",
       "    <tr>\n",
       "      <th>2015-01-22</th>\n",
       "      <td>53.869999</td>\n",
       "      <td>55.279999</td>\n",
       "      <td>53.119999</td>\n",
       "      <td>54.799999</td>\n",
       "      <td>54.799999</td>\n",
       "      <td>2295400</td>\n",
       "    </tr>\n",
       "    <tr>\n",
       "      <th>2015-01-23</th>\n",
       "      <td>54.660000</td>\n",
       "      <td>55.639999</td>\n",
       "      <td>54.299999</td>\n",
       "      <td>55.189999</td>\n",
       "      <td>55.189999</td>\n",
       "      <td>1636400</td>\n",
       "    </tr>\n",
       "    <tr>\n",
       "      <th>2015-01-26</th>\n",
       "      <td>55.119999</td>\n",
       "      <td>55.790001</td>\n",
       "      <td>54.830002</td>\n",
       "      <td>55.410000</td>\n",
       "      <td>55.410000</td>\n",
       "      <td>1450300</td>\n",
       "    </tr>\n",
       "    <tr>\n",
       "      <th>2015-01-27</th>\n",
       "      <td>56.060001</td>\n",
       "      <td>56.160000</td>\n",
       "      <td>54.570000</td>\n",
       "      <td>55.630001</td>\n",
       "      <td>55.630001</td>\n",
       "      <td>2410400</td>\n",
       "    </tr>\n",
       "    <tr>\n",
       "      <th>2015-01-28</th>\n",
       "      <td>56.150002</td>\n",
       "      <td>56.150002</td>\n",
       "      <td>52.919998</td>\n",
       "      <td>53.000000</td>\n",
       "      <td>53.000000</td>\n",
       "      <td>2013100</td>\n",
       "    </tr>\n",
       "    <tr>\n",
       "      <th>2015-02-03</th>\n",
       "      <td>53.830002</td>\n",
       "      <td>55.930000</td>\n",
       "      <td>53.410000</td>\n",
       "      <td>55.779999</td>\n",
       "      <td>55.779999</td>\n",
       "      <td>2885400</td>\n",
       "    </tr>\n",
       "    <tr>\n",
       "      <th>2015-02-04</th>\n",
       "      <td>55.529999</td>\n",
       "      <td>57.070000</td>\n",
       "      <td>55.250000</td>\n",
       "      <td>56.740002</td>\n",
       "      <td>56.740002</td>\n",
       "      <td>2498600</td>\n",
       "    </tr>\n",
       "    <tr>\n",
       "      <th>2015-02-05</th>\n",
       "      <td>57.599998</td>\n",
       "      <td>57.700001</td>\n",
       "      <td>56.080002</td>\n",
       "      <td>57.470001</td>\n",
       "      <td>57.470001</td>\n",
       "      <td>4657300</td>\n",
       "    </tr>\n",
       "  </tbody>\n",
       "</table>\n",
       "</div>"
      ],
      "text/plain": [
       "                 open       high        low      close  adj_close   volume\n",
       "date                                                                      \n",
       "2015-01-02  55.459999  55.599998  54.240002  55.150002  55.150002  1664500\n",
       "2015-01-09  55.959999  56.990002  54.720001  56.070000  56.070000  6224200\n",
       "2015-01-12  56.000000  56.060001  53.430000  54.020000  54.020000  2407700\n",
       "2015-01-22  53.869999  55.279999  53.119999  54.799999  54.799999  2295400\n",
       "2015-01-23  54.660000  55.639999  54.299999  55.189999  55.189999  1636400\n",
       "2015-01-26  55.119999  55.790001  54.830002  55.410000  55.410000  1450300\n",
       "2015-01-27  56.060001  56.160000  54.570000  55.630001  55.630001  2410400\n",
       "2015-01-28  56.150002  56.150002  52.919998  53.000000  53.000000  2013100\n",
       "2015-02-03  53.830002  55.930000  53.410000  55.779999  55.779999  2885400\n",
       "2015-02-04  55.529999  57.070000  55.250000  56.740002  56.740002  2498600\n",
       "2015-02-05  57.599998  57.700001  56.080002  57.470001  57.470001  4657300"
      ]
     },
     "execution_count": 36,
     "metadata": {},
     "output_type": "execute_result"
    }
   ],
   "source": [
    "new_df[tmp_high]"
   ]
  },
  {
   "cell_type": "markdown",
   "metadata": {
    "slideshow": {
     "slide_type": "fragment"
    }
   },
   "source": [
    "Putting it all together, we have the following commonly-used patterns:"
   ]
  },
  {
   "cell_type": "code",
   "execution_count": 37,
   "metadata": {
    "slideshow": {
     "slide_type": "-"
    }
   },
   "outputs": [
    {
     "data": {
      "text/html": [
       "<div>\n",
       "<style scoped>\n",
       "    .dataframe tbody tr th:only-of-type {\n",
       "        vertical-align: middle;\n",
       "    }\n",
       "\n",
       "    .dataframe tbody tr th {\n",
       "        vertical-align: top;\n",
       "    }\n",
       "\n",
       "    .dataframe thead th {\n",
       "        text-align: right;\n",
       "    }\n",
       "</style>\n",
       "<table border=\"1\" class=\"dataframe\">\n",
       "  <thead>\n",
       "    <tr style=\"text-align: right;\">\n",
       "      <th></th>\n",
       "      <th>open</th>\n",
       "      <th>high</th>\n",
       "      <th>low</th>\n",
       "      <th>close</th>\n",
       "      <th>adj_close</th>\n",
       "      <th>volume</th>\n",
       "    </tr>\n",
       "    <tr>\n",
       "      <th>date</th>\n",
       "      <th></th>\n",
       "      <th></th>\n",
       "      <th></th>\n",
       "      <th></th>\n",
       "      <th></th>\n",
       "      <th></th>\n",
       "    </tr>\n",
       "  </thead>\n",
       "  <tbody>\n",
       "    <tr>\n",
       "      <th>2015-01-08</th>\n",
       "      <td>52.590000</td>\n",
       "      <td>54.139999</td>\n",
       "      <td>51.759998</td>\n",
       "      <td>53.830002</td>\n",
       "      <td>53.830002</td>\n",
       "      <td>2015300</td>\n",
       "    </tr>\n",
       "    <tr>\n",
       "      <th>2015-01-09</th>\n",
       "      <td>55.959999</td>\n",
       "      <td>56.990002</td>\n",
       "      <td>54.720001</td>\n",
       "      <td>56.070000</td>\n",
       "      <td>56.070000</td>\n",
       "      <td>6224200</td>\n",
       "    </tr>\n",
       "    <tr>\n",
       "      <th>2015-01-16</th>\n",
       "      <td>50.180000</td>\n",
       "      <td>51.490002</td>\n",
       "      <td>50.029999</td>\n",
       "      <td>51.389999</td>\n",
       "      <td>51.389999</td>\n",
       "      <td>2183300</td>\n",
       "    </tr>\n",
       "    <tr>\n",
       "      <th>2015-01-21</th>\n",
       "      <td>51.200001</td>\n",
       "      <td>53.500000</td>\n",
       "      <td>51.200001</td>\n",
       "      <td>53.410000</td>\n",
       "      <td>53.410000</td>\n",
       "      <td>3248100</td>\n",
       "    </tr>\n",
       "    <tr>\n",
       "      <th>2015-01-22</th>\n",
       "      <td>53.869999</td>\n",
       "      <td>55.279999</td>\n",
       "      <td>53.119999</td>\n",
       "      <td>54.799999</td>\n",
       "      <td>54.799999</td>\n",
       "      <td>2295400</td>\n",
       "    </tr>\n",
       "  </tbody>\n",
       "</table>\n",
       "</div>"
      ],
      "text/plain": [
       "                 open       high        low      close  adj_close   volume\n",
       "date                                                                      \n",
       "2015-01-08  52.590000  54.139999  51.759998  53.830002  53.830002  2015300\n",
       "2015-01-09  55.959999  56.990002  54.720001  56.070000  56.070000  6224200\n",
       "2015-01-16  50.180000  51.490002  50.029999  51.389999  51.389999  2183300\n",
       "2015-01-21  51.200001  53.500000  51.200001  53.410000  53.410000  3248100\n",
       "2015-01-22  53.869999  55.279999  53.119999  54.799999  54.799999  2295400"
      ]
     },
     "execution_count": 37,
     "metadata": {},
     "output_type": "execute_result"
    }
   ],
   "source": [
    "positive_days = new_df[new_df.close > new_df.open]\n",
    "positive_days.head()"
   ]
  },
  {
   "cell_type": "code",
   "execution_count": 38,
   "metadata": {
    "slideshow": {
     "slide_type": "fragment"
    }
   },
   "outputs": [
    {
     "data": {
      "text/html": [
       "<div>\n",
       "<style scoped>\n",
       "    .dataframe tbody tr th:only-of-type {\n",
       "        vertical-align: middle;\n",
       "    }\n",
       "\n",
       "    .dataframe tbody tr th {\n",
       "        vertical-align: top;\n",
       "    }\n",
       "\n",
       "    .dataframe thead th {\n",
       "        text-align: right;\n",
       "    }\n",
       "</style>\n",
       "<table border=\"1\" class=\"dataframe\">\n",
       "  <thead>\n",
       "    <tr style=\"text-align: right;\">\n",
       "      <th></th>\n",
       "      <th>open</th>\n",
       "      <th>high</th>\n",
       "      <th>low</th>\n",
       "      <th>close</th>\n",
       "      <th>adj_close</th>\n",
       "      <th>volume</th>\n",
       "    </tr>\n",
       "    <tr>\n",
       "      <th>date</th>\n",
       "      <th></th>\n",
       "      <th></th>\n",
       "      <th></th>\n",
       "      <th></th>\n",
       "      <th></th>\n",
       "      <th></th>\n",
       "    </tr>\n",
       "  </thead>\n",
       "  <tbody>\n",
       "    <tr>\n",
       "      <th>2015-05-07</th>\n",
       "      <td>38.220001</td>\n",
       "      <td>48.73</td>\n",
       "      <td>38.220001</td>\n",
       "      <td>47.009998</td>\n",
       "      <td>47.009998</td>\n",
       "      <td>33831600</td>\n",
       "    </tr>\n",
       "  </tbody>\n",
       "</table>\n",
       "</div>"
      ],
      "text/plain": [
       "                 open   high        low      close  adj_close    volume\n",
       "date                                                                   \n",
       "2015-05-07  38.220001  48.73  38.220001  47.009998  47.009998  33831600"
      ]
     },
     "execution_count": 38,
     "metadata": {},
     "output_type": "execute_result"
    }
   ],
   "source": [
    "very_positive_days = new_df[(new_df.close - new_df.open) > 4]\n",
    "very_positive_days.head()"
   ]
  },
  {
   "cell_type": "markdown",
   "metadata": {
    "slideshow": {
     "slide_type": "slide"
    }
   },
   "source": [
    "## Creating new columns"
   ]
  },
  {
   "cell_type": "markdown",
   "metadata": {
    "slideshow": {
     "slide_type": "fragment"
    }
   },
   "source": [
    "To create a new column, simply assign values to it.  Think of the columns as a dictionary:"
   ]
  },
  {
   "cell_type": "code",
   "execution_count": 39,
   "metadata": {
    "slideshow": {
     "slide_type": "-"
    }
   },
   "outputs": [
    {
     "data": {
      "text/html": [
       "<div>\n",
       "<style scoped>\n",
       "    .dataframe tbody tr th:only-of-type {\n",
       "        vertical-align: middle;\n",
       "    }\n",
       "\n",
       "    .dataframe tbody tr th {\n",
       "        vertical-align: top;\n",
       "    }\n",
       "\n",
       "    .dataframe thead th {\n",
       "        text-align: right;\n",
       "    }\n",
       "</style>\n",
       "<table border=\"1\" class=\"dataframe\">\n",
       "  <thead>\n",
       "    <tr style=\"text-align: right;\">\n",
       "      <th></th>\n",
       "      <th>open</th>\n",
       "      <th>high</th>\n",
       "      <th>low</th>\n",
       "      <th>close</th>\n",
       "      <th>adj_close</th>\n",
       "      <th>volume</th>\n",
       "      <th>profit</th>\n",
       "    </tr>\n",
       "    <tr>\n",
       "      <th>date</th>\n",
       "      <th></th>\n",
       "      <th></th>\n",
       "      <th></th>\n",
       "      <th></th>\n",
       "      <th></th>\n",
       "      <th></th>\n",
       "      <th></th>\n",
       "    </tr>\n",
       "  </thead>\n",
       "  <tbody>\n",
       "    <tr>\n",
       "      <th>2015-01-02</th>\n",
       "      <td>55.459999</td>\n",
       "      <td>55.599998</td>\n",
       "      <td>54.240002</td>\n",
       "      <td>55.150002</td>\n",
       "      <td>55.150002</td>\n",
       "      <td>1664500</td>\n",
       "      <td>False</td>\n",
       "    </tr>\n",
       "    <tr>\n",
       "      <th>2015-01-05</th>\n",
       "      <td>54.540001</td>\n",
       "      <td>54.950001</td>\n",
       "      <td>52.330002</td>\n",
       "      <td>52.529999</td>\n",
       "      <td>52.529999</td>\n",
       "      <td>2023000</td>\n",
       "      <td>False</td>\n",
       "    </tr>\n",
       "    <tr>\n",
       "      <th>2015-01-06</th>\n",
       "      <td>52.549999</td>\n",
       "      <td>53.930000</td>\n",
       "      <td>50.750000</td>\n",
       "      <td>52.439999</td>\n",
       "      <td>52.439999</td>\n",
       "      <td>3762800</td>\n",
       "      <td>False</td>\n",
       "    </tr>\n",
       "    <tr>\n",
       "      <th>2015-01-07</th>\n",
       "      <td>53.320000</td>\n",
       "      <td>53.750000</td>\n",
       "      <td>51.759998</td>\n",
       "      <td>52.209999</td>\n",
       "      <td>52.209999</td>\n",
       "      <td>1548200</td>\n",
       "      <td>False</td>\n",
       "    </tr>\n",
       "    <tr>\n",
       "      <th>2015-01-08</th>\n",
       "      <td>52.590000</td>\n",
       "      <td>54.139999</td>\n",
       "      <td>51.759998</td>\n",
       "      <td>53.830002</td>\n",
       "      <td>53.830002</td>\n",
       "      <td>2015300</td>\n",
       "      <td>True</td>\n",
       "    </tr>\n",
       "  </tbody>\n",
       "</table>\n",
       "</div>"
      ],
      "text/plain": [
       "                 open       high        low      close  adj_close   volume  \\\n",
       "date                                                                         \n",
       "2015-01-02  55.459999  55.599998  54.240002  55.150002  55.150002  1664500   \n",
       "2015-01-05  54.540001  54.950001  52.330002  52.529999  52.529999  2023000   \n",
       "2015-01-06  52.549999  53.930000  50.750000  52.439999  52.439999  3762800   \n",
       "2015-01-07  53.320000  53.750000  51.759998  52.209999  52.209999  1548200   \n",
       "2015-01-08  52.590000  54.139999  51.759998  53.830002  53.830002  2015300   \n",
       "\n",
       "            profit  \n",
       "date                \n",
       "2015-01-02   False  \n",
       "2015-01-05   False  \n",
       "2015-01-06   False  \n",
       "2015-01-07   False  \n",
       "2015-01-08    True  "
      ]
     },
     "execution_count": 39,
     "metadata": {},
     "output_type": "execute_result"
    }
   ],
   "source": [
    "new_df['profit'] = (new_df.open < new_df.close)\n",
    "new_df.head()"
   ]
  },
  {
   "cell_type": "markdown",
   "metadata": {
    "slideshow": {
     "slide_type": "fragment"
    }
   },
   "source": [
    "Let's give each row a ``gain`` value as a categorical variable:"
   ]
  },
  {
   "cell_type": "code",
   "execution_count": 40,
   "metadata": {
    "slideshow": {
     "slide_type": "-"
    }
   },
   "outputs": [
    {
     "data": {
      "text/html": [
       "<div>\n",
       "<style scoped>\n",
       "    .dataframe tbody tr th:only-of-type {\n",
       "        vertical-align: middle;\n",
       "    }\n",
       "\n",
       "    .dataframe tbody tr th {\n",
       "        vertical-align: top;\n",
       "    }\n",
       "\n",
       "    .dataframe thead th {\n",
       "        text-align: right;\n",
       "    }\n",
       "</style>\n",
       "<table border=\"1\" class=\"dataframe\">\n",
       "  <thead>\n",
       "    <tr style=\"text-align: right;\">\n",
       "      <th></th>\n",
       "      <th>open</th>\n",
       "      <th>high</th>\n",
       "      <th>low</th>\n",
       "      <th>close</th>\n",
       "      <th>adj_close</th>\n",
       "      <th>volume</th>\n",
       "      <th>profit</th>\n",
       "      <th>gain</th>\n",
       "    </tr>\n",
       "    <tr>\n",
       "      <th>date</th>\n",
       "      <th></th>\n",
       "      <th></th>\n",
       "      <th></th>\n",
       "      <th></th>\n",
       "      <th></th>\n",
       "      <th></th>\n",
       "      <th></th>\n",
       "      <th></th>\n",
       "    </tr>\n",
       "  </thead>\n",
       "  <tbody>\n",
       "    <tr>\n",
       "      <th>2015-01-02</th>\n",
       "      <td>55.459999</td>\n",
       "      <td>55.599998</td>\n",
       "      <td>54.240002</td>\n",
       "      <td>55.150002</td>\n",
       "      <td>55.150002</td>\n",
       "      <td>1664500</td>\n",
       "      <td>False</td>\n",
       "      <td>negative</td>\n",
       "    </tr>\n",
       "    <tr>\n",
       "      <th>2015-01-05</th>\n",
       "      <td>54.540001</td>\n",
       "      <td>54.950001</td>\n",
       "      <td>52.330002</td>\n",
       "      <td>52.529999</td>\n",
       "      <td>52.529999</td>\n",
       "      <td>2023000</td>\n",
       "      <td>False</td>\n",
       "      <td>negative</td>\n",
       "    </tr>\n",
       "    <tr>\n",
       "      <th>2015-01-06</th>\n",
       "      <td>52.549999</td>\n",
       "      <td>53.930000</td>\n",
       "      <td>50.750000</td>\n",
       "      <td>52.439999</td>\n",
       "      <td>52.439999</td>\n",
       "      <td>3762800</td>\n",
       "      <td>False</td>\n",
       "      <td>negative</td>\n",
       "    </tr>\n",
       "    <tr>\n",
       "      <th>2015-01-07</th>\n",
       "      <td>53.320000</td>\n",
       "      <td>53.750000</td>\n",
       "      <td>51.759998</td>\n",
       "      <td>52.209999</td>\n",
       "      <td>52.209999</td>\n",
       "      <td>1548200</td>\n",
       "      <td>False</td>\n",
       "      <td>negative</td>\n",
       "    </tr>\n",
       "    <tr>\n",
       "      <th>2015-01-08</th>\n",
       "      <td>52.590000</td>\n",
       "      <td>54.139999</td>\n",
       "      <td>51.759998</td>\n",
       "      <td>53.830002</td>\n",
       "      <td>53.830002</td>\n",
       "      <td>2015300</td>\n",
       "      <td>True</td>\n",
       "      <td>medium_gain</td>\n",
       "    </tr>\n",
       "  </tbody>\n",
       "</table>\n",
       "</div>"
      ],
      "text/plain": [
       "                 open       high        low      close  adj_close   volume  \\\n",
       "date                                                                         \n",
       "2015-01-02  55.459999  55.599998  54.240002  55.150002  55.150002  1664500   \n",
       "2015-01-05  54.540001  54.950001  52.330002  52.529999  52.529999  2023000   \n",
       "2015-01-06  52.549999  53.930000  50.750000  52.439999  52.439999  3762800   \n",
       "2015-01-07  53.320000  53.750000  51.759998  52.209999  52.209999  1548200   \n",
       "2015-01-08  52.590000  54.139999  51.759998  53.830002  53.830002  2015300   \n",
       "\n",
       "            profit         gain  \n",
       "date                             \n",
       "2015-01-02   False     negative  \n",
       "2015-01-05   False     negative  \n",
       "2015-01-06   False     negative  \n",
       "2015-01-07   False     negative  \n",
       "2015-01-08    True  medium_gain  "
      ]
     },
     "execution_count": 40,
     "metadata": {},
     "output_type": "execute_result"
    }
   ],
   "source": [
    "for idx, row in new_df.iterrows():\n",
    "    if row.open > row.close:\n",
    "        new_df.loc[idx,'gain']='negative'\n",
    "    elif (row.close - row.open) < 1:\n",
    "        new_df.loc[idx,'gain']='small_gain'\n",
    "    elif (row.close - row.open) < 6:\n",
    "        new_df.loc[idx,'gain']='medium_gain'\n",
    "    else:\n",
    "        new_df.loc[idx,'gain']='large_gain'\n",
    "new_df.head()"
   ]
  },
  {
   "cell_type": "markdown",
   "metadata": {
    "slideshow": {
     "slide_type": "fragment"
    }
   },
   "source": [
    "Here is another, more \"functional\", way to accomplish the same thing.\n",
    "\n",
    "Define a function that classifies rows, and **`apply`** it to each row."
   ]
  },
  {
   "cell_type": "code",
   "execution_count": 41,
   "metadata": {
    "slideshow": {
     "slide_type": "-"
    }
   },
   "outputs": [],
   "source": [
    "def namerow(row):\n",
    "    if row.open > row.close:\n",
    "        return 'negative'\n",
    "    elif (row.close - row.open) < 1:\n",
    "        return 'small_gain'\n",
    "    elif (row.close - row.open) < 6:\n",
    "        return 'medium_gain'\n",
    "    else:\n",
    "        return 'large_gain'\n",
    "\n",
    "new_df['test_column'] = new_df.apply(namerow, axis = 1)\n"
   ]
  },
  {
   "cell_type": "code",
   "execution_count": 42,
   "metadata": {
    "slideshow": {
     "slide_type": "fragment"
    }
   },
   "outputs": [
    {
     "data": {
      "text/html": [
       "<div>\n",
       "<style scoped>\n",
       "    .dataframe tbody tr th:only-of-type {\n",
       "        vertical-align: middle;\n",
       "    }\n",
       "\n",
       "    .dataframe tbody tr th {\n",
       "        vertical-align: top;\n",
       "    }\n",
       "\n",
       "    .dataframe thead th {\n",
       "        text-align: right;\n",
       "    }\n",
       "</style>\n",
       "<table border=\"1\" class=\"dataframe\">\n",
       "  <thead>\n",
       "    <tr style=\"text-align: right;\">\n",
       "      <th></th>\n",
       "      <th>open</th>\n",
       "      <th>high</th>\n",
       "      <th>low</th>\n",
       "      <th>close</th>\n",
       "      <th>adj_close</th>\n",
       "      <th>volume</th>\n",
       "      <th>profit</th>\n",
       "      <th>gain</th>\n",
       "      <th>test_column</th>\n",
       "    </tr>\n",
       "    <tr>\n",
       "      <th>date</th>\n",
       "      <th></th>\n",
       "      <th></th>\n",
       "      <th></th>\n",
       "      <th></th>\n",
       "      <th></th>\n",
       "      <th></th>\n",
       "      <th></th>\n",
       "      <th></th>\n",
       "      <th></th>\n",
       "    </tr>\n",
       "  </thead>\n",
       "  <tbody>\n",
       "    <tr>\n",
       "      <th>2015-01-02</th>\n",
       "      <td>55.459999</td>\n",
       "      <td>55.599998</td>\n",
       "      <td>54.240002</td>\n",
       "      <td>55.150002</td>\n",
       "      <td>55.150002</td>\n",
       "      <td>1664500</td>\n",
       "      <td>False</td>\n",
       "      <td>negative</td>\n",
       "      <td>negative</td>\n",
       "    </tr>\n",
       "    <tr>\n",
       "      <th>2015-01-05</th>\n",
       "      <td>54.540001</td>\n",
       "      <td>54.950001</td>\n",
       "      <td>52.330002</td>\n",
       "      <td>52.529999</td>\n",
       "      <td>52.529999</td>\n",
       "      <td>2023000</td>\n",
       "      <td>False</td>\n",
       "      <td>negative</td>\n",
       "      <td>negative</td>\n",
       "    </tr>\n",
       "    <tr>\n",
       "      <th>2015-01-06</th>\n",
       "      <td>52.549999</td>\n",
       "      <td>53.930000</td>\n",
       "      <td>50.750000</td>\n",
       "      <td>52.439999</td>\n",
       "      <td>52.439999</td>\n",
       "      <td>3762800</td>\n",
       "      <td>False</td>\n",
       "      <td>negative</td>\n",
       "      <td>negative</td>\n",
       "    </tr>\n",
       "    <tr>\n",
       "      <th>2015-01-07</th>\n",
       "      <td>53.320000</td>\n",
       "      <td>53.750000</td>\n",
       "      <td>51.759998</td>\n",
       "      <td>52.209999</td>\n",
       "      <td>52.209999</td>\n",
       "      <td>1548200</td>\n",
       "      <td>False</td>\n",
       "      <td>negative</td>\n",
       "      <td>negative</td>\n",
       "    </tr>\n",
       "    <tr>\n",
       "      <th>2015-01-08</th>\n",
       "      <td>52.590000</td>\n",
       "      <td>54.139999</td>\n",
       "      <td>51.759998</td>\n",
       "      <td>53.830002</td>\n",
       "      <td>53.830002</td>\n",
       "      <td>2015300</td>\n",
       "      <td>True</td>\n",
       "      <td>medium_gain</td>\n",
       "      <td>medium_gain</td>\n",
       "    </tr>\n",
       "  </tbody>\n",
       "</table>\n",
       "</div>"
      ],
      "text/plain": [
       "                 open       high        low      close  adj_close   volume  \\\n",
       "date                                                                         \n",
       "2015-01-02  55.459999  55.599998  54.240002  55.150002  55.150002  1664500   \n",
       "2015-01-05  54.540001  54.950001  52.330002  52.529999  52.529999  2023000   \n",
       "2015-01-06  52.549999  53.930000  50.750000  52.439999  52.439999  3762800   \n",
       "2015-01-07  53.320000  53.750000  51.759998  52.209999  52.209999  1548200   \n",
       "2015-01-08  52.590000  54.139999  51.759998  53.830002  53.830002  2015300   \n",
       "\n",
       "            profit         gain  test_column  \n",
       "date                                          \n",
       "2015-01-02   False     negative     negative  \n",
       "2015-01-05   False     negative     negative  \n",
       "2015-01-06   False     negative     negative  \n",
       "2015-01-07   False     negative     negative  \n",
       "2015-01-08    True  medium_gain  medium_gain  "
      ]
     },
     "execution_count": 42,
     "metadata": {},
     "output_type": "execute_result"
    }
   ],
   "source": [
    "new_df.head()"
   ]
  },
  {
   "cell_type": "markdown",
   "metadata": {
    "slideshow": {
     "slide_type": "fragment"
    }
   },
   "source": [
    "OK, point made, let's get rid of that extraneous `test_column`:"
   ]
  },
  {
   "cell_type": "code",
   "execution_count": 43,
   "metadata": {
    "slideshow": {
     "slide_type": "-"
    }
   },
   "outputs": [
    {
     "data": {
      "text/html": [
       "<div>\n",
       "<style scoped>\n",
       "    .dataframe tbody tr th:only-of-type {\n",
       "        vertical-align: middle;\n",
       "    }\n",
       "\n",
       "    .dataframe tbody tr th {\n",
       "        vertical-align: top;\n",
       "    }\n",
       "\n",
       "    .dataframe thead th {\n",
       "        text-align: right;\n",
       "    }\n",
       "</style>\n",
       "<table border=\"1\" class=\"dataframe\">\n",
       "  <thead>\n",
       "    <tr style=\"text-align: right;\">\n",
       "      <th></th>\n",
       "      <th>open</th>\n",
       "      <th>high</th>\n",
       "      <th>low</th>\n",
       "      <th>close</th>\n",
       "      <th>adj_close</th>\n",
       "      <th>volume</th>\n",
       "      <th>profit</th>\n",
       "      <th>gain</th>\n",
       "    </tr>\n",
       "    <tr>\n",
       "      <th>date</th>\n",
       "      <th></th>\n",
       "      <th></th>\n",
       "      <th></th>\n",
       "      <th></th>\n",
       "      <th></th>\n",
       "      <th></th>\n",
       "      <th></th>\n",
       "      <th></th>\n",
       "    </tr>\n",
       "  </thead>\n",
       "  <tbody>\n",
       "    <tr>\n",
       "      <th>2015-01-02</th>\n",
       "      <td>55.459999</td>\n",
       "      <td>55.599998</td>\n",
       "      <td>54.240002</td>\n",
       "      <td>55.150002</td>\n",
       "      <td>55.150002</td>\n",
       "      <td>1664500</td>\n",
       "      <td>False</td>\n",
       "      <td>negative</td>\n",
       "    </tr>\n",
       "    <tr>\n",
       "      <th>2015-01-05</th>\n",
       "      <td>54.540001</td>\n",
       "      <td>54.950001</td>\n",
       "      <td>52.330002</td>\n",
       "      <td>52.529999</td>\n",
       "      <td>52.529999</td>\n",
       "      <td>2023000</td>\n",
       "      <td>False</td>\n",
       "      <td>negative</td>\n",
       "    </tr>\n",
       "    <tr>\n",
       "      <th>2015-01-06</th>\n",
       "      <td>52.549999</td>\n",
       "      <td>53.930000</td>\n",
       "      <td>50.750000</td>\n",
       "      <td>52.439999</td>\n",
       "      <td>52.439999</td>\n",
       "      <td>3762800</td>\n",
       "      <td>False</td>\n",
       "      <td>negative</td>\n",
       "    </tr>\n",
       "    <tr>\n",
       "      <th>2015-01-07</th>\n",
       "      <td>53.320000</td>\n",
       "      <td>53.750000</td>\n",
       "      <td>51.759998</td>\n",
       "      <td>52.209999</td>\n",
       "      <td>52.209999</td>\n",
       "      <td>1548200</td>\n",
       "      <td>False</td>\n",
       "      <td>negative</td>\n",
       "    </tr>\n",
       "    <tr>\n",
       "      <th>2015-01-08</th>\n",
       "      <td>52.590000</td>\n",
       "      <td>54.139999</td>\n",
       "      <td>51.759998</td>\n",
       "      <td>53.830002</td>\n",
       "      <td>53.830002</td>\n",
       "      <td>2015300</td>\n",
       "      <td>True</td>\n",
       "      <td>medium_gain</td>\n",
       "    </tr>\n",
       "    <tr>\n",
       "      <th>...</th>\n",
       "      <td>...</td>\n",
       "      <td>...</td>\n",
       "      <td>...</td>\n",
       "      <td>...</td>\n",
       "      <td>...</td>\n",
       "      <td>...</td>\n",
       "      <td>...</td>\n",
       "      <td>...</td>\n",
       "    </tr>\n",
       "    <tr>\n",
       "      <th>2015-12-23</th>\n",
       "      <td>27.950001</td>\n",
       "      <td>28.420000</td>\n",
       "      <td>27.440001</td>\n",
       "      <td>28.150000</td>\n",
       "      <td>28.150000</td>\n",
       "      <td>1001000</td>\n",
       "      <td>True</td>\n",
       "      <td>small_gain</td>\n",
       "    </tr>\n",
       "    <tr>\n",
       "      <th>2015-12-24</th>\n",
       "      <td>28.270000</td>\n",
       "      <td>28.590000</td>\n",
       "      <td>27.900000</td>\n",
       "      <td>28.400000</td>\n",
       "      <td>28.400000</td>\n",
       "      <td>587400</td>\n",
       "      <td>True</td>\n",
       "      <td>small_gain</td>\n",
       "    </tr>\n",
       "    <tr>\n",
       "      <th>2015-12-28</th>\n",
       "      <td>28.120001</td>\n",
       "      <td>28.379999</td>\n",
       "      <td>27.770000</td>\n",
       "      <td>27.879999</td>\n",
       "      <td>27.879999</td>\n",
       "      <td>1004500</td>\n",
       "      <td>False</td>\n",
       "      <td>negative</td>\n",
       "    </tr>\n",
       "    <tr>\n",
       "      <th>2015-12-29</th>\n",
       "      <td>27.950001</td>\n",
       "      <td>28.540001</td>\n",
       "      <td>27.740000</td>\n",
       "      <td>28.480000</td>\n",
       "      <td>28.480000</td>\n",
       "      <td>1103900</td>\n",
       "      <td>True</td>\n",
       "      <td>small_gain</td>\n",
       "    </tr>\n",
       "    <tr>\n",
       "      <th>2015-12-30</th>\n",
       "      <td>28.580000</td>\n",
       "      <td>28.780001</td>\n",
       "      <td>28.170000</td>\n",
       "      <td>28.250000</td>\n",
       "      <td>28.250000</td>\n",
       "      <td>1068000</td>\n",
       "      <td>False</td>\n",
       "      <td>negative</td>\n",
       "    </tr>\n",
       "  </tbody>\n",
       "</table>\n",
       "<p>251 rows × 8 columns</p>\n",
       "</div>"
      ],
      "text/plain": [
       "                 open       high        low      close  adj_close   volume  \\\n",
       "date                                                                         \n",
       "2015-01-02  55.459999  55.599998  54.240002  55.150002  55.150002  1664500   \n",
       "2015-01-05  54.540001  54.950001  52.330002  52.529999  52.529999  2023000   \n",
       "2015-01-06  52.549999  53.930000  50.750000  52.439999  52.439999  3762800   \n",
       "2015-01-07  53.320000  53.750000  51.759998  52.209999  52.209999  1548200   \n",
       "2015-01-08  52.590000  54.139999  51.759998  53.830002  53.830002  2015300   \n",
       "...               ...        ...        ...        ...        ...      ...   \n",
       "2015-12-23  27.950001  28.420000  27.440001  28.150000  28.150000  1001000   \n",
       "2015-12-24  28.270000  28.590000  27.900000  28.400000  28.400000   587400   \n",
       "2015-12-28  28.120001  28.379999  27.770000  27.879999  27.879999  1004500   \n",
       "2015-12-29  27.950001  28.540001  27.740000  28.480000  28.480000  1103900   \n",
       "2015-12-30  28.580000  28.780001  28.170000  28.250000  28.250000  1068000   \n",
       "\n",
       "            profit         gain  \n",
       "date                             \n",
       "2015-01-02   False     negative  \n",
       "2015-01-05   False     negative  \n",
       "2015-01-06   False     negative  \n",
       "2015-01-07   False     negative  \n",
       "2015-01-08    True  medium_gain  \n",
       "...            ...          ...  \n",
       "2015-12-23    True   small_gain  \n",
       "2015-12-24    True   small_gain  \n",
       "2015-12-28   False     negative  \n",
       "2015-12-29    True   small_gain  \n",
       "2015-12-30   False     negative  \n",
       "\n",
       "[251 rows x 8 columns]"
      ]
     },
     "execution_count": 43,
     "metadata": {},
     "output_type": "execute_result"
    }
   ],
   "source": [
    "new_df.drop('test_column', axis = 1)"
   ]
  },
  {
   "cell_type": "markdown",
   "metadata": {
    "slideshow": {
     "slide_type": "slide"
    }
   },
   "source": [
    "## Grouping"
   ]
  },
  {
   "cell_type": "markdown",
   "metadata": {
    "slideshow": {
     "slide_type": "fragment"
    }
   },
   "source": [
    "An **extremely** powerful DataFrame method is **`groupby()`**. \n",
    "\n",
    "This is entirely analagous to **`GROUP BY`** in SQL.\n",
    "\n",
    "It will group the rows of a DataFrame by the values in one (or more) columns, and let you iterate through each group."
   ]
  },
  {
   "cell_type": "markdown",
   "metadata": {
    "slideshow": {
     "slide_type": "fragment"
    }
   },
   "source": [
    "Here we will look at the average gain among the  categories of gains (negative, small, medium and large) we defined above and stored in column `gain`."
   ]
  },
  {
   "cell_type": "code",
   "execution_count": 44,
   "metadata": {
    "slideshow": {
     "slide_type": "-"
    }
   },
   "outputs": [],
   "source": [
    "gain_groups = new_df.groupby('gain')"
   ]
  },
  {
   "cell_type": "markdown",
   "metadata": {
    "slideshow": {
     "slide_type": "fragment"
    }
   },
   "source": [
    "Essentially, **`gain_groups`** behaves like a dictionary:\n",
    "* the keys are the unique values found in the `gain` column, and \n",
    "* the values are DataFrames that contain only the rows having the corresponding unique values."
   ]
  },
  {
   "cell_type": "code",
   "execution_count": 45,
   "metadata": {
    "slideshow": {
     "slide_type": "fragment"
    }
   },
   "outputs": [
    {
     "name": "stdout",
     "output_type": "stream",
     "text": [
      "large_gain\n",
      "                 open   high        low      close  adj_close    volume  \\\n",
      "date                                                                      \n",
      "2015-05-07  38.220001  48.73  38.220001  47.009998  47.009998  33831600   \n",
      "\n",
      "            profit        gain test_column  \n",
      "date                                        \n",
      "2015-05-07    True  large_gain  large_gain  \n",
      "=============================\n",
      "medium_gain\n",
      "                 open       high        low      close  adj_close   volume  \\\n",
      "date                                                                         \n",
      "2015-01-08  52.590000  54.139999  51.759998  53.830002  53.830002  2015300   \n",
      "2015-01-16  50.180000  51.490002  50.029999  51.389999  51.389999  2183300   \n",
      "2015-01-21  51.200001  53.500000  51.200001  53.410000  53.410000  3248100   \n",
      "2015-02-03  53.830002  55.930000  53.410000  55.779999  55.779999  2885400   \n",
      "2015-02-04  55.529999  57.070000  55.250000  56.740002  56.740002  2498600   \n",
      "\n",
      "            profit         gain  test_column  \n",
      "date                                          \n",
      "2015-01-08    True  medium_gain  medium_gain  \n",
      "2015-01-16    True  medium_gain  medium_gain  \n",
      "2015-01-21    True  medium_gain  medium_gain  \n",
      "2015-02-03    True  medium_gain  medium_gain  \n",
      "2015-02-04    True  medium_gain  medium_gain  \n",
      "=============================\n",
      "negative\n",
      "                 open       high        low      close  adj_close   volume  \\\n",
      "date                                                                         \n",
      "2015-01-02  55.459999  55.599998  54.240002  55.150002  55.150002  1664500   \n",
      "2015-01-05  54.540001  54.950001  52.330002  52.529999  52.529999  2023000   \n",
      "2015-01-06  52.549999  53.930000  50.750000  52.439999  52.439999  3762800   \n",
      "2015-01-07  53.320000  53.750000  51.759998  52.209999  52.209999  1548200   \n",
      "2015-01-12  56.000000  56.060001  53.430000  54.020000  54.020000  2407700   \n",
      "\n",
      "            profit      gain test_column  \n",
      "date                                      \n",
      "2015-01-02   False  negative    negative  \n",
      "2015-01-05   False  negative    negative  \n",
      "2015-01-06   False  negative    negative  \n",
      "2015-01-07   False  negative    negative  \n",
      "2015-01-12   False  negative    negative  \n",
      "=============================\n",
      "small_gain\n",
      "                 open       high        low      close  adj_close   volume  \\\n",
      "date                                                                         \n",
      "2015-01-09  55.959999  56.990002  54.720001  56.070000  56.070000  6224200   \n",
      "2015-01-22  53.869999  55.279999  53.119999  54.799999  54.799999  2295400   \n",
      "2015-01-23  54.660000  55.639999  54.299999  55.189999  55.189999  1636400   \n",
      "2015-01-26  55.119999  55.790001  54.830002  55.410000  55.410000  1450300   \n",
      "2015-01-29  52.849998  53.310001  51.410000  52.930000  52.930000  1844100   \n",
      "\n",
      "            profit        gain test_column  \n",
      "date                                        \n",
      "2015-01-09    True  small_gain  small_gain  \n",
      "2015-01-22    True  small_gain  small_gain  \n",
      "2015-01-23    True  small_gain  small_gain  \n",
      "2015-01-26    True  small_gain  small_gain  \n",
      "2015-01-29    True  small_gain  small_gain  \n",
      "=============================\n"
     ]
    }
   ],
   "source": [
    "for gain, gain_data in gain_groups:\n",
    "    print(gain)\n",
    "    print(gain_data.head())\n",
    "    print('=============================')"
   ]
  },
  {
   "cell_type": "code",
   "execution_count": 46,
   "metadata": {
    "slideshow": {
     "slide_type": "fragment"
    }
   },
   "outputs": [
    {
     "name": "stdout",
     "output_type": "stream",
     "text": [
      "The average closing value for the large_gain group is 47.0099983215332\n",
      "The average closing value for the medium_gain group is 39.72307696709266\n",
      "The average closing value for the negative group is 37.38476184057811\n",
      "The average closing value for the small_gain group is 36.53367346160266\n"
     ]
    }
   ],
   "source": [
    "for gain, gain_data in new_df.groupby(\"gain\"):\n",
    "    print('The average closing value for the {} group is {}'.format(gain,\n",
    "                                                           gain_data.close.mean()))"
   ]
  },
  {
   "cell_type": "markdown",
   "metadata": {
    "slideshow": {
     "slide_type": "slide"
    }
   },
   "source": [
    "## Other Pandas Classes\n",
    "\n",
    "A DataFrame is essentially an annotated 2-D array.\n",
    "\n",
    "Pandas also has annotated versions of 1-D and 3-D arrays."
   ]
  },
  {
   "cell_type": "markdown",
   "metadata": {
    "slideshow": {
     "slide_type": "fragment"
    }
   },
   "source": [
    "A 1-D array in Pandas is called a `Series`.\n",
    "\n",
    "A 3-D array in Pandas is created using a ``MultiIndex``.\n",
    "\n",
    "To use these, read the documentation!"
   ]
  },
  {
   "cell_type": "markdown",
   "metadata": {
    "slideshow": {
     "slide_type": "slide"
    }
   },
   "source": [
    "## Comparing multiple stocks"
   ]
  },
  {
   "cell_type": "markdown",
   "metadata": {
    "slideshow": {
     "slide_type": "fragment"
    }
   },
   "source": [
    "As a last task, we will use the experience we obtained so far -- and learn some new things -- in order to compare the performance of different stocks we obtained from Yahoo finance."
   ]
  },
  {
   "cell_type": "code",
   "execution_count": 48,
   "metadata": {
    "slideshow": {
     "slide_type": "fragment"
    }
   },
   "outputs": [
    {
     "data": {
      "text/html": [
       "<div>\n",
       "<style scoped>\n",
       "    .dataframe tbody tr th:only-of-type {\n",
       "        vertical-align: middle;\n",
       "    }\n",
       "\n",
       "    .dataframe tbody tr th {\n",
       "        vertical-align: top;\n",
       "    }\n",
       "\n",
       "    .dataframe thead th {\n",
       "        text-align: right;\n",
       "    }\n",
       "</style>\n",
       "<table border=\"1\" class=\"dataframe\">\n",
       "  <thead>\n",
       "    <tr style=\"text-align: right;\">\n",
       "      <th></th>\n",
       "      <th>ORCL</th>\n",
       "      <th>TSLA</th>\n",
       "      <th>IBM</th>\n",
       "      <th>YELP</th>\n",
       "      <th>MSFT</th>\n",
       "    </tr>\n",
       "    <tr>\n",
       "      <th>Date</th>\n",
       "      <th></th>\n",
       "      <th></th>\n",
       "      <th></th>\n",
       "      <th></th>\n",
       "      <th></th>\n",
       "    </tr>\n",
       "  </thead>\n",
       "  <tbody>\n",
       "    <tr>\n",
       "      <th>2014-01-02</th>\n",
       "      <td>37.840000</td>\n",
       "      <td>10.006667</td>\n",
       "      <td>177.370941</td>\n",
       "      <td>67.919998</td>\n",
       "      <td>37.160000</td>\n",
       "    </tr>\n",
       "    <tr>\n",
       "      <th>2014-01-03</th>\n",
       "      <td>37.619999</td>\n",
       "      <td>9.970667</td>\n",
       "      <td>178.432129</td>\n",
       "      <td>67.660004</td>\n",
       "      <td>36.910000</td>\n",
       "    </tr>\n",
       "    <tr>\n",
       "      <th>2014-01-06</th>\n",
       "      <td>37.470001</td>\n",
       "      <td>9.800000</td>\n",
       "      <td>177.820267</td>\n",
       "      <td>71.720001</td>\n",
       "      <td>36.130001</td>\n",
       "    </tr>\n",
       "    <tr>\n",
       "      <th>2014-01-07</th>\n",
       "      <td>37.849998</td>\n",
       "      <td>9.957333</td>\n",
       "      <td>181.367111</td>\n",
       "      <td>72.660004</td>\n",
       "      <td>36.410000</td>\n",
       "    </tr>\n",
       "    <tr>\n",
       "      <th>2014-01-08</th>\n",
       "      <td>37.720001</td>\n",
       "      <td>10.085333</td>\n",
       "      <td>179.703629</td>\n",
       "      <td>78.419998</td>\n",
       "      <td>35.759998</td>\n",
       "    </tr>\n",
       "  </tbody>\n",
       "</table>\n",
       "</div>"
      ],
      "text/plain": [
       "                 ORCL       TSLA         IBM       YELP       MSFT\n",
       "Date                                                              \n",
       "2014-01-02  37.840000  10.006667  177.370941  67.919998  37.160000\n",
       "2014-01-03  37.619999   9.970667  178.432129  67.660004  36.910000\n",
       "2014-01-06  37.470001   9.800000  177.820267  71.720001  36.130001\n",
       "2014-01-07  37.849998   9.957333  181.367111  72.660004  36.410000\n",
       "2014-01-08  37.720001  10.085333  179.703629  78.419998  35.759998"
      ]
     },
     "execution_count": 48,
     "metadata": {},
     "output_type": "execute_result"
    }
   ],
   "source": [
    "stocks = ['ORCL', 'TSLA', 'IBM','YELP', 'MSFT']\n",
    "stock_df = pd.DataFrame()\n",
    "for s in stocks:\n",
    "    stock_df[s] = pd.DataFrame(yf.download(s,start='2014-01-01',end='2014-12-31', progress = False))['Close']\n",
    "stock_df.head()"
   ]
  },
  {
   "cell_type": "code",
   "execution_count": 49,
   "metadata": {},
   "outputs": [
    {
     "data": {
      "image/png": "[encoded data removed]",
      "text/plain": [
       "<Figure size 640x480 with 1 Axes>"
      ]
     },
     "metadata": {},
     "output_type": "display_data"
    }
   ],
   "source": [
    "stock_df.plot();"
   ]
  },
  {
   "cell_type": "markdown",
   "metadata": {
    "slideshow": {
     "slide_type": "fragment"
    }
   },
   "source": [
    "Next, we will calculate returns over a period of length $T,$ defined as:\n",
    "\n",
    "$$ r(t) = \\frac{f(t)-f(t-T)}{f(t)} $$"
   ]
  },
  {
   "cell_type": "markdown",
   "metadata": {
    "slideshow": {
     "slide_type": "fragment"
    }
   },
   "source": [
    "The returns can be computed with a simple DataFrame method **`pct_change()`**.  Note that for the first $T$ timesteps, this value is not defined (of course):"
   ]
  },
  {
   "cell_type": "code",
   "execution_count": 50,
   "metadata": {
    "slideshow": {
     "slide_type": "-"
    }
   },
   "outputs": [
    {
     "data": {
      "text/html": [
       "<div>\n",
       "<style scoped>\n",
       "    .dataframe tbody tr th:only-of-type {\n",
       "        vertical-align: middle;\n",
       "    }\n",
       "\n",
       "    .dataframe tbody tr th {\n",
       "        vertical-align: top;\n",
       "    }\n",
       "\n",
       "    .dataframe thead th {\n",
       "        text-align: right;\n",
       "    }\n",
       "</style>\n",
       "<table border=\"1\" class=\"dataframe\">\n",
       "  <thead>\n",
       "    <tr style=\"text-align: right;\">\n",
       "      <th></th>\n",
       "      <th>ORCL</th>\n",
       "      <th>TSLA</th>\n",
       "      <th>IBM</th>\n",
       "      <th>YELP</th>\n",
       "      <th>MSFT</th>\n",
       "    </tr>\n",
       "    <tr>\n",
       "      <th>Date</th>\n",
       "      <th></th>\n",
       "      <th></th>\n",
       "      <th></th>\n",
       "      <th></th>\n",
       "      <th></th>\n",
       "    </tr>\n",
       "  </thead>\n",
       "  <tbody>\n",
       "    <tr>\n",
       "      <th>2014-02-07</th>\n",
       "      <td>NaN</td>\n",
       "      <td>NaN</td>\n",
       "      <td>NaN</td>\n",
       "      <td>NaN</td>\n",
       "      <td>NaN</td>\n",
       "    </tr>\n",
       "    <tr>\n",
       "      <th>2014-02-10</th>\n",
       "      <td>NaN</td>\n",
       "      <td>NaN</td>\n",
       "      <td>NaN</td>\n",
       "      <td>NaN</td>\n",
       "      <td>NaN</td>\n",
       "    </tr>\n",
       "    <tr>\n",
       "      <th>2014-02-11</th>\n",
       "      <td>NaN</td>\n",
       "      <td>NaN</td>\n",
       "      <td>NaN</td>\n",
       "      <td>NaN</td>\n",
       "      <td>NaN</td>\n",
       "    </tr>\n",
       "    <tr>\n",
       "      <th>2014-02-12</th>\n",
       "      <td>NaN</td>\n",
       "      <td>NaN</td>\n",
       "      <td>NaN</td>\n",
       "      <td>NaN</td>\n",
       "      <td>NaN</td>\n",
       "    </tr>\n",
       "    <tr>\n",
       "      <th>2014-02-13</th>\n",
       "      <td>NaN</td>\n",
       "      <td>NaN</td>\n",
       "      <td>NaN</td>\n",
       "      <td>NaN</td>\n",
       "      <td>NaN</td>\n",
       "    </tr>\n",
       "    <tr>\n",
       "      <th>2014-02-14</th>\n",
       "      <td>0.003700</td>\n",
       "      <td>0.320653</td>\n",
       "      <td>-0.009918</td>\n",
       "      <td>0.321849</td>\n",
       "      <td>0.012379</td>\n",
       "    </tr>\n",
       "    <tr>\n",
       "      <th>2014-02-18</th>\n",
       "      <td>0.009304</td>\n",
       "      <td>0.361995</td>\n",
       "      <td>-0.018485</td>\n",
       "      <td>0.355897</td>\n",
       "      <td>0.013817</td>\n",
       "    </tr>\n",
       "    <tr>\n",
       "      <th>2014-02-19</th>\n",
       "      <td>0.010675</td>\n",
       "      <td>0.317279</td>\n",
       "      <td>-0.016398</td>\n",
       "      <td>0.254880</td>\n",
       "      <td>0.038195</td>\n",
       "    </tr>\n",
       "    <tr>\n",
       "      <th>2014-02-20</th>\n",
       "      <td>0.011096</td>\n",
       "      <td>0.405798</td>\n",
       "      <td>-0.028728</td>\n",
       "      <td>0.257501</td>\n",
       "      <td>0.036803</td>\n",
       "    </tr>\n",
       "    <tr>\n",
       "      <th>2014-02-21</th>\n",
       "      <td>0.010074</td>\n",
       "      <td>0.385510</td>\n",
       "      <td>-0.027558</td>\n",
       "      <td>0.170875</td>\n",
       "      <td>0.062081</td>\n",
       "    </tr>\n",
       "  </tbody>\n",
       "</table>\n",
       "</div>"
      ],
      "text/plain": [
       "                ORCL      TSLA       IBM      YELP      MSFT\n",
       "Date                                                        \n",
       "2014-02-07       NaN       NaN       NaN       NaN       NaN\n",
       "2014-02-10       NaN       NaN       NaN       NaN       NaN\n",
       "2014-02-11       NaN       NaN       NaN       NaN       NaN\n",
       "2014-02-12       NaN       NaN       NaN       NaN       NaN\n",
       "2014-02-13       NaN       NaN       NaN       NaN       NaN\n",
       "2014-02-14  0.003700  0.320653 -0.009918  0.321849  0.012379\n",
       "2014-02-18  0.009304  0.361995 -0.018485  0.355897  0.013817\n",
       "2014-02-19  0.010675  0.317279 -0.016398  0.254880  0.038195\n",
       "2014-02-20  0.011096  0.405798 -0.028728  0.257501  0.036803\n",
       "2014-02-21  0.010074  0.385510 -0.027558  0.170875  0.062081"
      ]
     },
     "execution_count": 50,
     "metadata": {},
     "output_type": "execute_result"
    }
   ],
   "source": [
    "rets = stock_df.pct_change(30)\n",
    "rets.iloc[25:35]"
   ]
  },
  {
   "cell_type": "markdown",
   "metadata": {
    "slideshow": {
     "slide_type": "fragment"
    }
   },
   "source": [
    "Now we'll plot the timeseries of the returns of the different stocks.\n",
    "\n",
    "Notice that the `NaN` values are gracefully dropped by the plotting function."
   ]
  },
  {
   "cell_type": "code",
   "execution_count": 51,
   "metadata": {
    "slideshow": {
     "slide_type": "-"
    }
   },
   "outputs": [
    {
     "data": {
      "image/png": "[encoded data removed]",
      "text/plain": [
       "<Figure size 640x480 with 1 Axes>"
      ]
     },
     "metadata": {},
     "output_type": "display_data"
    }
   ],
   "source": [
    "rets.plot();"
   ]
  },
  {
   "cell_type": "code",
   "execution_count": 52,
   "metadata": {
    "slideshow": {
     "slide_type": "fragment"
    }
   },
   "outputs": [
    {
     "data": {
      "image/png": "[encoded data removed]",
      "text/plain": [
       "<Figure size 640x480 with 1 Axes>"
      ]
     },
     "metadata": {},
     "output_type": "display_data"
    }
   ],
   "source": [
    "plt.scatter(rets.TSLA, rets.YELP)\n",
    "plt.xlabel('TESLA 30-day returns')\n",
    "plt.ylabel('YELP 30-day returns');"
   ]
  },
  {
   "cell_type": "markdown",
   "metadata": {
    "slideshow": {
     "slide_type": "fragment"
    }
   },
   "source": [
    "There appears to be some (fairly strong) correlation between the movement of TSLA and YELP stocks.  Let's measure this."
   ]
  },
  {
   "cell_type": "markdown",
   "metadata": {
    "slideshow": {
     "slide_type": "fragment"
    }
   },
   "source": [
    "The correlation coefficient between variables $X$ and $Y$ is defined as follows:\n",
    "\n",
    "$$ \\text{Corr}(X,Y) = \\frac{E\\left[(X-\\mu_X)(Y-\\mu_Y)\\right]}{\\sigma_X\\sigma_Y} $$\n",
    "\n",
    "Pandas provides a dataframe method to compute the correlation coefficient of all pairs of columns: **`corr()`**."
   ]
  },
  {
   "cell_type": "code",
   "execution_count": 53,
   "metadata": {
    "slideshow": {
     "slide_type": "fragment"
    }
   },
   "outputs": [
    {
     "data": {
      "text/html": [
       "<div>\n",
       "<style scoped>\n",
       "    .dataframe tbody tr th:only-of-type {\n",
       "        vertical-align: middle;\n",
       "    }\n",
       "\n",
       "    .dataframe tbody tr th {\n",
       "        vertical-align: top;\n",
       "    }\n",
       "\n",
       "    .dataframe thead th {\n",
       "        text-align: right;\n",
       "    }\n",
       "</style>\n",
       "<table border=\"1\" class=\"dataframe\">\n",
       "  <thead>\n",
       "    <tr style=\"text-align: right;\">\n",
       "      <th></th>\n",
       "      <th>ORCL</th>\n",
       "      <th>TSLA</th>\n",
       "      <th>IBM</th>\n",
       "      <th>YELP</th>\n",
       "      <th>MSFT</th>\n",
       "    </tr>\n",
       "  </thead>\n",
       "  <tbody>\n",
       "    <tr>\n",
       "      <th>ORCL</th>\n",
       "      <td>1.000000</td>\n",
       "      <td>0.007218</td>\n",
       "      <td>0.026666</td>\n",
       "      <td>-0.083688</td>\n",
       "      <td>0.131830</td>\n",
       "    </tr>\n",
       "    <tr>\n",
       "      <th>TSLA</th>\n",
       "      <td>0.007218</td>\n",
       "      <td>1.000000</td>\n",
       "      <td>0.196371</td>\n",
       "      <td>0.769623</td>\n",
       "      <td>0.411348</td>\n",
       "    </tr>\n",
       "    <tr>\n",
       "      <th>IBM</th>\n",
       "      <td>0.026666</td>\n",
       "      <td>0.196371</td>\n",
       "      <td>1.000000</td>\n",
       "      <td>0.104705</td>\n",
       "      <td>0.343697</td>\n",
       "    </tr>\n",
       "    <tr>\n",
       "      <th>YELP</th>\n",
       "      <td>-0.083688</td>\n",
       "      <td>0.769623</td>\n",
       "      <td>0.104705</td>\n",
       "      <td>1.000000</td>\n",
       "      <td>0.264703</td>\n",
       "    </tr>\n",
       "    <tr>\n",
       "      <th>MSFT</th>\n",
       "      <td>0.131830</td>\n",
       "      <td>0.411348</td>\n",
       "      <td>0.343697</td>\n",
       "      <td>0.264703</td>\n",
       "      <td>1.000000</td>\n",
       "    </tr>\n",
       "  </tbody>\n",
       "</table>\n",
       "</div>"
      ],
      "text/plain": [
       "          ORCL      TSLA       IBM      YELP      MSFT\n",
       "ORCL  1.000000  0.007218  0.026666 -0.083688  0.131830\n",
       "TSLA  0.007218  1.000000  0.196371  0.769623  0.411348\n",
       "IBM   0.026666  0.196371  1.000000  0.104705  0.343697\n",
       "YELP -0.083688  0.769623  0.104705  1.000000  0.264703\n",
       "MSFT  0.131830  0.411348  0.343697  0.264703  1.000000"
      ]
     },
     "execution_count": 53,
     "metadata": {},
     "output_type": "execute_result"
    }
   ],
   "source": [
    "rets.corr()"
   ]
  },
  {
   "cell_type": "markdown",
   "metadata": {
    "slideshow": {
     "slide_type": "fragment"
    }
   },
   "source": [
    "It takes a bit of time to examine that table and draw conclusions.  \n",
    "\n",
    "To speed that process up it helps to visualize the table.\n",
    "\n",
    "We will learn more about visualization later, but for now this is a simple example."
   ]
  },
  {
   "cell_type": "code",
   "execution_count": 54,
   "metadata": {
    "slideshow": {
     "slide_type": "fragment"
    }
   },
   "outputs": [
    {
     "data": {
      "image/png": "[encoded data removed]",
      "text/plain": [
       "<Figure size 640x480 with 2 Axes>"
      ]
     },
     "metadata": {},
     "output_type": "display_data"
    }
   ],
   "source": [
    "sns.heatmap(rets.corr(), annot=True);"
   ]
  },
  {
   "cell_type": "markdown",
   "metadata": {
    "slideshow": {
     "slide_type": "fragment"
    }
   },
   "source": [
    "Finally, it is important to know that the plotting performed by Pandas is just a layer on top of `matplotlib` (i.e., the `plt` package).  \n",
    "\n",
    "So Panda's plots can (and often should) be replaced or improved by using additional functions from `matplotlib`."
   ]
  },
  {
   "cell_type": "markdown",
   "metadata": {
    "slideshow": {
     "slide_type": "fragment"
    }
   },
   "source": [
    "For example, suppose we want to know both the returns as well as the standard deviation of the returns of a stock (i.e., its risk).  \n",
    "\n",
    "Here is visualization of the result of such an analysis, and we construct the plot using only functions from `matplotlib`."
   ]
  },
  {
   "cell_type": "code",
   "execution_count": 55,
   "metadata": {
    "slideshow": {
     "slide_type": "fragment"
    }
   },
   "outputs": [
    {
     "data": {
      "image/png": "[encoded data removed]",
      "text/plain": [
       "<Figure size 640x480 with 1 Axes>"
      ]
     },
     "metadata": {},
     "output_type": "display_data"
    }
   ],
   "source": [
    "# plt.scatter(rets.mean(), rets.std());\n",
    "plt.xlabel('Expected returns')\n",
    "plt.ylabel('Standard Deviation (Risk)')\n",
    "plt.xlim([-.05,.1])\n",
    "plt.ylim([0,.3])\n",
    "for label, x, y in zip(rets.columns, rets.mean(), rets.std()):\n",
    "    plt.annotate(\n",
    "        label, \n",
    "        xy = (x, y), xytext = (30, -30),\n",
    "        textcoords = 'offset points', ha = 'right', va = 'bottom',\n",
    "        bbox = dict(boxstyle = 'round,pad=0.5', fc = 'yellow', alpha = 0.5),\n",
    "        arrowprops = dict(arrowstyle = '->', connectionstyle = 'arc3,rad=0'))"
   ]
  },
  {
   "cell_type": "markdown",
   "metadata": {
    "slideshow": {
     "slide_type": "fragment"
    }
   },
   "source": [
    "To understand what these functions are doing, (especially the `annotate` function), you will need to consult the online documentation for matplotlib.  Just use Google to find it."
   ]
  },
  {
   "cell_type": "code",
   "execution_count": null,
   "metadata": {},
   "outputs": [],
   "source": []
  }
 ],
 "metadata": {
  "anaconda-cloud": {},
  "celltoolbar": "Slideshow",
  "hide_input": false,
  "kernelspec": {
   "display_name": "Python 3 (ipykernel)",
   "language": "python",
   "name": "python3"
  },
  "language_info": {
   "codemirror_mode": {
    "name": "ipython",
    "version": 3
   },
   "file_extension": ".py",
   "mimetype": "text/x-python",
   "name": "python",
   "nbconvert_exporter": "python",
   "pygments_lexer": "ipython3",
   "version": "3.9.16"
  },
  "rise": {
   "scroll": true,
   "theme": "beige",
   "transition": "fade"
  }
 },
 "nbformat": 4,
 "nbformat_minor": 1
}
