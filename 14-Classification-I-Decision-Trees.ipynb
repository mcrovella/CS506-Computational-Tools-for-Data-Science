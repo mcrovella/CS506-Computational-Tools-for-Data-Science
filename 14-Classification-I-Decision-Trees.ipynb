{
 "cells": [
  {
   "cell_type": "code",
   "execution_count": 92,
   "metadata": {
    "hide_input": true,
    "slideshow": {
     "slide_type": "skip"
    },
    "tags": [
     "remove-cell"
    ]
   },
   "outputs": [],
   "source": [
    "%matplotlib inline\n",
    "%config InlineBackend.figure_format='retina'\n",
    "import numpy as np\n",
    "import pandas as pd\n",
    "import matplotlib.pyplot as plt\n",
    "import seaborn as sns\n",
    "from IPython.display import Image, display_html, display, Math, HTML;"
   ]
  },
  {
   "cell_type": "markdown",
   "metadata": {
    "slideshow": {
     "slide_type": "slide"
    }
   },
   "source": [
    "# Decision Trees"
   ]
  },
  {
   "cell_type": "markdown",
   "metadata": {},
   "source": [
    "Today we start our study of __classification__ methods.\n",
    "\n",
    "Recall that in a classification problem, we have data tuples $(\\mathbf{x}, y)$ in which the $\\mathbf{x}$ are the features, and the $y$ values are __categorical__ data.  \n",
    "\n",
    "We typically call the $y$ values \"labels.\""
   ]
  },
  {
   "cell_type": "markdown",
   "metadata": {},
   "source": [
    "Some examples of classification tasks:\n",
    "   * Predicting tumor cells as malignant or benign\n",
    "   * Classifying credit card transactions as legitimate or fraudulent\n",
    "   * Classifying secondary structures of a protein as alpha-helix, beta-sheet, or other\n",
    "   * Categorizing news stories as finance, weather, entertainment, sports, etc"
   ]
  },
  {
   "cell_type": "markdown",
   "metadata": {},
   "source": [
    "The first classification method we will consider is called the __decision tree.__\n",
    "\n",
    "It is a __very__ popular method, and has some nice properties as we will see."
   ]
  },
  {
   "cell_type": "markdown",
   "metadata": {
    "slideshow": {
     "slide_type": "skip"
    }
   },
   "source": [
    "```{note}\n",
    "The following is based on slides by Tan, Steinbach, and Kumar (2004)\n",
    "```"
   ]
  },
  {
   "cell_type": "markdown",
   "metadata": {
    "slideshow": {
     "slide_type": "slide"
    }
   },
   "source": [
    "## Decision Trees in Action"
   ]
  },
  {
   "cell_type": "markdown",
   "metadata": {
    "slideshow": {
     "slide_type": "fragment"
    }
   },
   "source": [
    "We will start by describing how a decision tree works.\n",
    "\n",
    "We are assuming a decision tree has been built to solve the following classification problem:\n",
    "\n",
    "<center>\n",
    "<font color = \"blue\">Given an individual's Tax Refund Status, Marital Status, and Taxable Income, predict whether they will repay a loan.</font>\n",
    "</center>"
   ]
  },
  {
   "cell_type": "code",
   "execution_count": null,
   "metadata": {},
   "outputs": [],
   "source": [
    "<center>\n",
    "    \n",
    "<img src=\"figs/L14-DT-Example-1.png\" alt=\"Figure\" width=\"400px\">\n",
    "    \n",
    "</center>"
   ]
  }
 ],
 "metadata": {
  "anaconda-cloud": {},
  "celltoolbar": "Slideshow",
  "kernelspec": {
   "display_name": "Python 3 (ipykernel)",
   "language": "python",
   "name": "python3"
  },
  "language_info": {
   "codemirror_mode": {
    "name": "ipython",
    "version": 3
   },
   "file_extension": ".py",
   "mimetype": "text/x-python",
   "name": "python",
   "nbconvert_exporter": "python",
   "pygments_lexer": "ipython3",
   "version": "3.8.11"
  }
 },
 "nbformat": 4,
 "nbformat_minor": 1
}
