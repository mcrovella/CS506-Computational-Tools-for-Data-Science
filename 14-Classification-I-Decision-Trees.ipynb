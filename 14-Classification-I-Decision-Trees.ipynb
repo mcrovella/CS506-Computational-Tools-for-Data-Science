{
 "cells": [
  {
   "cell_type": "code",
   "execution_count": 92,
   "metadata": {
    "hide_input": true,
    "slideshow": {
     "slide_type": "skip"
    },
    "tags": [
     "remove-cell"
    ]
   },
   "outputs": [],
   "source": [
    "%matplotlib inline\n",
    "%config InlineBackend.figure_format='retina'\n",
    "import numpy as np\n",
    "import pandas as pd\n",
    "import matplotlib.pyplot as plt\n",
    "import seaborn as sns\n",
    "from IPython.display import Image, display_html, display, Math, HTML;"
   ]
  },
  {
   "cell_type": "markdown",
   "metadata": {
    "slideshow": {
     "slide_type": "slide"
    }
   },
   "source": [
    "# Decision Trees"
   ]
  },
  {
   "cell_type": "markdown",
   "metadata": {},
   "source": [
    "Today we start our study of __classification__ methods.\n",
    "\n",
    "Recall that in a classification problem, we have data tuples $(\\mathbf{x}, y)$ in which the $\\mathbf{x}$ are the features, and the $y$ values are __categorical__ data.  \n",
    "\n",
    "We typically call the $y$ values \"labels.\""
   ]
  },
  {
   "cell_type": "markdown",
   "metadata": {},
   "source": [
    "Some examples of classification tasks:\n",
    "   * Predicting tumor cells as malignant or benign\n",
    "   * Classifying credit card transactions as legitimate or fraudulent\n",
    "   * Classifying secondary structures of a protein as alpha-helix, beta-sheet, or other\n",
    "   * Categorizing news stories as finance, weather, entertainment, sports, etc"
   ]
  },
  {
   "cell_type": "markdown",
   "metadata": {},
   "source": [
    "The first classification method we will consider is called the __decision tree.__\n",
    "\n",
    "It is a __very__ popular method, and has some nice properties as we will see."
   ]
  },
  {
   "cell_type": "markdown",
   "metadata": {
    "slideshow": {
     "slide_type": "slide"
    }
   },
   "source": [
    "## Decision Trees in Action"
   ]
  },
  {
   "cell_type": "markdown",
   "metadata": {
    "slideshow": {
     "slide_type": "skip"
    }
   },
   "source": [
    "```{note}\n",
    "This section and a number of following sections are based on slides by Tan, Steinbach, and Kumar (2004)\n",
    "```"
   ]
  },
  {
   "cell_type": "markdown",
   "metadata": {
    "slideshow": {
     "slide_type": "fragment"
    }
   },
   "source": [
    "We will start by describing how a decision tree works.\n",
    "\n",
    "We are assuming a decision tree has been built to solve the following classification problem:\n",
    "\n",
    "<center>\n",
    "<font color = \"blue\">Given an individual's Tax Refund Status, Marital Status, and Taxable Income, predict whether they will repay a loan.</font>\n",
    "</center>"
   ]
  },
  {
   "cell_type": "markdown",
   "metadata": {
    "slideshow": {
     "slide_type": "slide"
    },
    "tags": [
     "hide-input"
    ]
   },
   "source": [
    "<center>\n",
    "    \n",
    "<img src=\"figs/L14-DT-Example-1.png\" alt=\"Figure\" width=\"800px\">\n",
    "    \n",
    "</center>"
   ]
  },
  {
   "cell_type": "markdown",
   "metadata": {
    "slideshow": {
     "slide_type": "slide"
    }
   },
   "source": [
    "We then step through the tree, making a decision at each node that takes us to another node in the tree.\n",
    "\n",
    "Each decision examines a single feature in the item being classified."
   ]
  },
  {
   "cell_type": "markdown",
   "metadata": {
    "slideshow": {
     "slide_type": "slide"
    },
    "tags": [
     "hide-input"
    ]
   },
   "source": [
    "<center>\n",
    "    \n",
    "<img src=\"figs/L14-DT-Example-2.png\" alt=\"Figure\" width=\"800px\">\n",
    "    \n",
    "</center>"
   ]
  },
  {
   "cell_type": "markdown",
   "metadata": {
    "slideshow": {
     "slide_type": "slide"
    },
    "tags": [
     "hide-input"
    ]
   },
   "source": [
    "<center>\n",
    "    \n",
    "<img src=\"figs/L14-DT-Example-3.png\" alt=\"Figure\" width=\"800px\">\n",
    "    \n",
    "</center>"
   ]
  },
  {
   "cell_type": "markdown",
   "metadata": {
    "slideshow": {
     "slide_type": "slide"
    },
    "tags": [
     "hide-input"
    ]
   },
   "source": [
    "<center>\n",
    "    \n",
    "<img src=\"figs/L14-DT-Example-4.png\" alt=\"Figure\" width=\"800px\">\n",
    "    \n",
    "</center>"
   ]
  },
  {
   "cell_type": "markdown",
   "metadata": {
    "slideshow": {
     "slide_type": "slide"
    },
    "tags": [
     "hide-input"
    ]
   },
   "source": [
    "<center>\n",
    "    \n",
    "<img src=\"figs/L14-DT-Example-5.png\" alt=\"Figure\" width=\"800px\">\n",
    "    \n",
    "</center>"
   ]
  },
  {
   "cell_type": "markdown",
   "metadata": {
    "slideshow": {
     "slide_type": "slide"
    }
   },
   "source": [
    "<center>\n",
    "    \n",
    "<img src=\"figs/L14-DT-Example-6.png\" alt=\"Figure\" width=\"800px\">\n",
    "    \n",
    "</center>"
   ]
  },
  {
   "cell_type": "markdown",
   "metadata": {
    "slideshow": {
     "slide_type": "fragment"
    }
   },
   "source": [
    "We conclude that this record is classified as \"Not Repay\" is \"No\"."
   ]
  },
  {
   "cell_type": "markdown",
   "metadata": {
    "slideshow": {
     "slide_type": "fragment"
    }
   },
   "source": [
    "Note also that decision trees can be used to predict numeric values, so they are used for regression as well.\n",
    "\n",
    "The general term \"Classification and Regression Tree\" (CART) is sometimes used -- although this term also refers to a specific decision tree learning algorithm."
   ]
  },
  {
   "cell_type": "markdown",
   "metadata": {
    "slideshow": {
     "slide_type": "slide"
    }
   },
   "source": [
    "## Learning a Decision Tree"
   ]
  },
  {
   "cell_type": "markdown",
   "metadata": {
    "hide_input": false,
    "slideshow": {
     "slide_type": "fragment"
    }
   },
   "source": [
    "<center>\n",
    "    \n",
    "<img src=\"figs/L14-DT-Overview.png\" alt=\"Figure\" width=\"800px\">\n",
    "    \n",
    "</center>"
   ]
  },
  {
   "cell_type": "markdown",
   "metadata": {},
   "source": [
    "We've discussed how to apply a decision tree to data (lower portion of this figure).\n",
    "\n",
    "But how does one train a decision tree?   What algorithm can we use?"
   ]
  },
  {
   "cell_type": "markdown",
   "metadata": {
    "slideshow": {
     "slide_type": "fragment"
    }
   },
   "source": [
    "A number of algorithms have been proposed for building decision trees:\n",
    "\n",
    "* Hunt's algorithm (one of the earliest)\n",
    "* CART\n",
    "* ID3, C4.5\n",
    "* etc"
   ]
  },
  {
   "cell_type": "markdown",
   "metadata": {
    "slideshow": {
     "slide_type": "slide"
    }
   },
   "source": [
    "### Hunt's Algorithm"
   ]
  },
  {
   "cell_type": "markdown",
   "metadata": {},
   "source": [
    "We build the tree node by node, starting from the root.\n",
    "\n",
    "As we build the tree, we divide the training data up."
   ]
  },
  {
   "cell_type": "markdown",
   "metadata": {
    "slideshow": {
     "slide_type": "fragment"
    }
   },
   "source": [
    "<div style = \"float: left; width: 55%;\">\n",
    "\n",
    "Let $D_t$ be the set of training records that reach node $t$.\n",
    "    \n",
    " * If $D_t$ contains records that all belong to a single class $y_t$, then $t$ is a leaf node labeled as $y_t$.\n",
    " * If $D_t$ is an empty set, then $t$ is a leaf node labeled by the default class $y_d$.\n",
    " * If $D_t$ contains records that belong to more than one class, use an attribute to split $D_t$ into smaller subsets, and assign that splitting-rule to node $t$.\n",
    "    \n",
    "Recursively apply the above procedure until a stopping criterion is met.\n",
    "</div>\n",
    "    \n",
    "<img src=\"figs/L14-DT-Data-Example.png\" alt=\"Figure\" width=\"40%\" float = \"right\">\n",
    "    \n",
    "\n"
   ]
  },
  {
   "cell_type": "code",
   "execution_count": null,
   "metadata": {},
   "outputs": [],
   "source": []
  }
 ],
 "metadata": {
  "anaconda-cloud": {},
  "celltoolbar": "Slideshow",
  "kernelspec": {
   "display_name": "Python 3 (ipykernel)",
   "language": "python",
   "name": "python3"
  },
  "language_info": {
   "codemirror_mode": {
    "name": "ipython",
    "version": 3
   },
   "file_extension": ".py",
   "mimetype": "text/x-python",
   "name": "python",
   "nbconvert_exporter": "python",
   "pygments_lexer": "ipython3",
   "version": "3.8.11"
  }
 },
 "nbformat": 4,
 "nbformat_minor": 1
}
